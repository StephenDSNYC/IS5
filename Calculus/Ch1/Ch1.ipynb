{
 "cells": [
  {
   "cell_type": "markdown",
   "id": "d26a68af-8203-4953-90e8-7f127c891b71",
   "metadata": {},
   "source": [
    "**Chapter 1. Functions and Models**"
   ]
  },
  {
   "cell_type": "markdown",
   "id": "89e630d2-5d3a-4eca-b815-1d7edfb7142e",
   "metadata": {},
   "source": [
    "**A function $f$ is a rule that assigns to each element $x$ in a set D exactly one element, called $f(x)$, in a set E.**"
   ]
  },
  {
   "cell_type": "code",
   "execution_count": null,
   "id": "e00c4a2b-b045-435b-bc8d-bf2122085725",
   "metadata": {},
   "outputs": [],
   "source": []
  },
  {
   "cell_type": "code",
   "execution_count": null,
   "id": "a254cdcd-d5fc-40a3-b84d-2c1ffe5fc625",
   "metadata": {},
   "outputs": [],
   "source": []
  },
  {
   "cell_type": "code",
   "execution_count": null,
   "id": "7c62ed50-bb42-4525-b41a-0a4b50eac320",
   "metadata": {},
   "outputs": [],
   "source": []
  },
  {
   "cell_type": "code",
   "execution_count": null,
   "id": "988c1e63-6fd4-459a-9af1-3d1c71558a81",
   "metadata": {},
   "outputs": [],
   "source": []
  },
  {
   "cell_type": "code",
   "execution_count": null,
   "id": "6ae3c0f2-8e94-433e-af72-b9bbbb3983ce",
   "metadata": {},
   "outputs": [],
   "source": []
  },
  {
   "cell_type": "code",
   "execution_count": null,
   "id": "5413bc28-9498-4876-b3b2-2544e6a2cdce",
   "metadata": {},
   "outputs": [],
   "source": []
  }
 ],
 "metadata": {
  "kernelspec": {
   "display_name": "Python 3 (ipykernel)",
   "language": "python",
   "name": "python3"
  },
  "language_info": {
   "codemirror_mode": {
    "name": "ipython",
    "version": 3
   },
   "file_extension": ".py",
   "mimetype": "text/x-python",
   "name": "python",
   "nbconvert_exporter": "python",
   "pygments_lexer": "ipython3",
   "version": "3.11.5"
  }
 },
 "nbformat": 4,
 "nbformat_minor": 5
}
