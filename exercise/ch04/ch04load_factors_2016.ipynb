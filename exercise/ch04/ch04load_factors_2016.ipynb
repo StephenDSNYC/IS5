{
 "cells": [
  {
   "cell_type": "code",
   "execution_count": 1,
   "id": "df8edb59",
   "metadata": {},
   "outputs": [
    {
     "data": {
      "text/plain": [
       "'C:\\\\Users\\\\sc522\\\\PROJECTS\\\\STAT\\\\IS5\\\\exercise\\\\ch04'"
      ]
     },
     "execution_count": 1,
     "metadata": {},
     "output_type": "execute_result"
    }
   ],
   "source": [
    "%pwd"
   ]
  },
  {
   "cell_type": "code",
   "execution_count": 2,
   "id": "59aaeb58",
   "metadata": {},
   "outputs": [],
   "source": [
    "import pandas as pd\n",
    "import matplotlib.pyplot as plt\n",
    "import numpy as np\n",
    "import statistics as stat\n",
    "import seaborn as sns"
   ]
  },
  {
   "cell_type": "code",
   "execution_count": 3,
   "id": "95c304c8",
   "metadata": {},
   "outputs": [],
   "source": [
    "datafile = '../../dataset/ch04/load_factors_2016.txt'\n",
    "load_factors = pd.read_csv(datafile, sep='\\t')"
   ]
  },
  {
   "cell_type": "code",
   "execution_count": 4,
   "id": "311292d2",
   "metadata": {},
   "outputs": [
    {
     "data": {
      "text/html": [
       "<div>\n",
       "<style scoped>\n",
       "    .dataframe tbody tr th:only-of-type {\n",
       "        vertical-align: middle;\n",
       "    }\n",
       "\n",
       "    .dataframe tbody tr th {\n",
       "        vertical-align: top;\n",
       "    }\n",
       "\n",
       "    .dataframe thead th {\n",
       "        text-align: right;\n",
       "    }\n",
       "</style>\n",
       "<table border=\"1\" class=\"dataframe\">\n",
       "  <thead>\n",
       "    <tr style=\"text-align: right;\">\n",
       "      <th></th>\n",
       "      <th>Year</th>\n",
       "      <th>Month</th>\n",
       "      <th>Domestic</th>\n",
       "      <th>International</th>\n",
       "      <th>Total</th>\n",
       "      <th>Decimal_Time</th>\n",
       "    </tr>\n",
       "  </thead>\n",
       "  <tbody>\n",
       "    <tr>\n",
       "      <th>0</th>\n",
       "      <td>2000</td>\n",
       "      <td>1</td>\n",
       "      <td>61.97</td>\n",
       "      <td>66.63</td>\n",
       "      <td>64.07</td>\n",
       "      <td>2000.08333</td>\n",
       "    </tr>\n",
       "    <tr>\n",
       "      <th>1</th>\n",
       "      <td>2000</td>\n",
       "      <td>2</td>\n",
       "      <td>66.20</td>\n",
       "      <td>67.12</td>\n",
       "      <td>66.61</td>\n",
       "      <td>2000.16667</td>\n",
       "    </tr>\n",
       "    <tr>\n",
       "      <th>2</th>\n",
       "      <td>2000</td>\n",
       "      <td>3</td>\n",
       "      <td>73.19</td>\n",
       "      <td>75.63</td>\n",
       "      <td>74.26</td>\n",
       "      <td>2000.25000</td>\n",
       "    </tr>\n",
       "    <tr>\n",
       "      <th>3</th>\n",
       "      <td>2000</td>\n",
       "      <td>4</td>\n",
       "      <td>73.02</td>\n",
       "      <td>75.18</td>\n",
       "      <td>74.00</td>\n",
       "      <td>2000.33333</td>\n",
       "    </tr>\n",
       "    <tr>\n",
       "      <th>4</th>\n",
       "      <td>2000</td>\n",
       "      <td>5</td>\n",
       "      <td>73.25</td>\n",
       "      <td>76.10</td>\n",
       "      <td>74.55</td>\n",
       "      <td>2000.41667</td>\n",
       "    </tr>\n",
       "  </tbody>\n",
       "</table>\n",
       "</div>"
      ],
      "text/plain": [
       "   Year  Month  Domestic  International  Total  Decimal_Time\n",
       "0  2000      1     61.97          66.63  64.07    2000.08333\n",
       "1  2000      2     66.20          67.12  66.61    2000.16667\n",
       "2  2000      3     73.19          75.63  74.26    2000.25000\n",
       "3  2000      4     73.02          75.18  74.00    2000.33333\n",
       "4  2000      5     73.25          76.10  74.55    2000.41667"
      ]
     },
     "execution_count": 4,
     "metadata": {},
     "output_type": "execute_result"
    }
   ],
   "source": [
    "load_factors.head()"
   ]
  },
  {
   "cell_type": "code",
   "execution_count": 5,
   "id": "d381604d",
   "metadata": {},
   "outputs": [
    {
     "data": {
      "text/plain": [
       "Index(['Year', 'Month', 'Domestic', 'International', 'Total', 'Decimal_Time'], dtype='object')"
      ]
     },
     "execution_count": 5,
     "metadata": {},
     "output_type": "execute_result"
    }
   ],
   "source": [
    "load_factors.columns"
   ]
  },
  {
   "cell_type": "code",
   "execution_count": 6,
   "id": "8ef296ff",
   "metadata": {},
   "outputs": [],
   "source": [
    "domestic_flights = load_factors[\"Domestic\"]\n",
    "international_flights = load_factors[\"International\"]"
   ]
  },
  {
   "cell_type": "code",
   "execution_count": 12,
   "id": "99825f72",
   "metadata": {},
   "outputs": [
    {
     "data": {
      "text/plain": [
       "pandas.core.frame.DataFrame"
      ]
     },
     "execution_count": 12,
     "metadata": {},
     "output_type": "execute_result"
    }
   ],
   "source": [
    "type(load_factors)"
   ]
  },
  {
   "cell_type": "code",
   "execution_count": 13,
   "id": "4c457dcf",
   "metadata": {},
   "outputs": [
    {
     "data": {
      "text/plain": [
       "pandas.core.series.Series"
      ]
     },
     "execution_count": 13,
     "metadata": {},
     "output_type": "execute_result"
    }
   ],
   "source": [
    "type(domestic_flights)"
   ]
  },
  {
   "cell_type": "code",
   "execution_count": 7,
   "id": "8975a109",
   "metadata": {},
   "outputs": [
    {
     "name": "stdout",
     "output_type": "stream",
     "text": [
      "Sample size: 197\n"
     ]
    }
   ],
   "source": [
    "print(f'Sample size: {len(load_factors)}')"
   ]
  },
  {
   "cell_type": "code",
   "execution_count": 8,
   "id": "52812b68",
   "metadata": {},
   "outputs": [
    {
     "name": "stdout",
     "output_type": "stream",
     "text": [
      "0 data missing in Domestic\n"
     ]
    }
   ],
   "source": [
    "print(f'{domestic_flights.isna().sum()} data missing in Domestic')"
   ]
  },
  {
   "cell_type": "code",
   "execution_count": 9,
   "id": "caf3c837",
   "metadata": {},
   "outputs": [
    {
     "name": "stdout",
     "output_type": "stream",
     "text": [
      "0 data missing in International\n"
     ]
    }
   ],
   "source": [
    "print(f'{international_flights.isna().sum()} data missing in International')"
   ]
  },
  {
   "cell_type": "markdown",
   "id": "10d37461",
   "metadata": {},
   "source": [
    "## Section 4.1 - Problem 1 (Load Factors 2016)"
   ]
  },
  {
   "cell_type": "code",
   "execution_count": 10,
   "id": "fbd2a58f",
   "metadata": {},
   "outputs": [
    {
     "data": {
      "image/png": "[encoded data removed]",
      "text/plain": [
       "<Figure size 640x480 with 1 Axes>"
      ]
     },
     "metadata": {},
     "output_type": "display_data"
    }
   ],
   "source": [
    "plt.hist(domestic_flights, bins=np.linspace(55, 90, 10), edgecolor='black');"
   ]
  },
  {
   "cell_type": "code",
   "execution_count": 11,
   "id": "4c7e360d",
   "metadata": {},
   "outputs": [
    {
     "data": {
      "image/png": "[encoded data removed]",
      "text/plain": [
       "<Figure size 640x480 with 1 Axes>"
      ]
     },
     "metadata": {},
     "output_type": "display_data"
    }
   ],
   "source": [
    "plt.hist(international_flights, bins=np.linspace(55, 90, 10), edgecolor='black');"
   ]
  },
  {
   "cell_type": "code",
   "execution_count": 14,
   "id": "ff37b2d5",
   "metadata": {},
   "outputs": [],
   "source": [
    "def iqr(data):\n",
    "    q75, q25 = np.percentile(data, [75, 25])\n",
    "    return q75, q25, q75-q25"
   ]
  },
  {
   "cell_type": "code",
   "execution_count": 15,
   "id": "551c549e",
   "metadata": {},
   "outputs": [
    {
     "data": {
      "text/html": [
       "<div>\n",
       "<style scoped>\n",
       "    .dataframe tbody tr th:only-of-type {\n",
       "        vertical-align: middle;\n",
       "    }\n",
       "\n",
       "    .dataframe tbody tr th {\n",
       "        vertical-align: top;\n",
       "    }\n",
       "\n",
       "    .dataframe thead th {\n",
       "        text-align: right;\n",
       "    }\n",
       "</style>\n",
       "<table border=\"1\" class=\"dataframe\">\n",
       "  <thead>\n",
       "    <tr style=\"text-align: right;\">\n",
       "      <th></th>\n",
       "      <th>Mean</th>\n",
       "      <th>Median</th>\n",
       "      <th>StdDev</th>\n",
       "      <th>IQR</th>\n",
       "      <th>n</th>\n",
       "      <th>Missing</th>\n",
       "    </tr>\n",
       "  </thead>\n",
       "  <tbody>\n",
       "    <tr>\n",
       "      <th>Domestic</th>\n",
       "      <td>78.4802</td>\n",
       "      <td>80.07</td>\n",
       "      <td>6.4982</td>\n",
       "      <td>9.35</td>\n",
       "      <td>197</td>\n",
       "      <td>0</td>\n",
       "    </tr>\n",
       "    <tr>\n",
       "      <th>International</th>\n",
       "      <td>78.1434</td>\n",
       "      <td>78.86</td>\n",
       "      <td>5.0225</td>\n",
       "      <td>6.18</td>\n",
       "      <td>197</td>\n",
       "      <td>0</td>\n",
       "    </tr>\n",
       "  </tbody>\n",
       "</table>\n",
       "</div>"
      ],
      "text/plain": [
       "                  Mean  Median  StdDev   IQR    n  Missing\n",
       "Domestic       78.4802   80.07  6.4982  9.35  197        0\n",
       "International  78.1434   78.86  5.0225  6.18  197        0"
      ]
     },
     "execution_count": 15,
     "metadata": {},
     "output_type": "execute_result"
    }
   ],
   "source": [
    "_q75, _q25, domestic_iqr = iqr(domestic_flights)\n",
    "_q75, _q25, international_iqr = iqr(international_flights)\n",
    "\n",
    "summary_of_domestic_international= pd.DataFrame(\n",
    "data={\n",
    "    'Mean': [round(stat.mean(domestic_flights), 4),\n",
    "             round(stat.mean(international_flights), 4)\n",
    "            ],\n",
    "    \n",
    "    'Median':[round(stat.median(domestic_flights), 2),\n",
    "              round(stat.median(international_flights), 2)\n",
    "            ],\n",
    "    'StdDev':[round(stat.stdev(domestic_flights), 4),\n",
    "              round(stat.stdev(international_flights), 4)\n",
    "            ],\n",
    "    'IQR': [round(domestic_iqr, 2),\n",
    "           round(international_iqr, 2)\n",
    "           ],\n",
    "    \n",
    "    'n': [ len(domestic_flights),\n",
    "           len(international_flights)  \n",
    "         ],\n",
    "    'Missing': [domestic_flights.isna().sum(),\n",
    "                international_flights.isna().sum()]\n",
    "    },\n",
    "    index=['Domestic', 'International']\n",
    ")\n",
    "summary_of_domestic_international"
   ]
  },
  {
   "cell_type": "markdown",
   "id": "0e4c7f49",
   "metadata": {},
   "source": [
    "### Compare and contrast the distributions\n",
    "\n",
    "* Shape: both distributions are unimodal, left skewed, without obvious outliers.\n",
    "\n",
    "* Center: both distributions are centered around 78% as load factor measured in mean value (or 79-80% by median). Note: we cannot say the centers are different, because the difference may not be singnificant enough.  It may be due to randomness and sampling error.\n",
    "\n",
    "* Spread: the domestic flights appear to have wider spread than the international flights\n"
   ]
  },
  {
   "cell_type": "markdown",
   "id": "7776b398",
   "metadata": {},
   "source": [
    "## Problem 2"
   ]
  },
  {
   "cell_type": "code",
   "execution_count": 22,
   "id": "2df5aed8",
   "metadata": {},
   "outputs": [
    {
     "data": {
      "text/html": [
       "<div>\n",
       "<style scoped>\n",
       "    .dataframe tbody tr th:only-of-type {\n",
       "        vertical-align: middle;\n",
       "    }\n",
       "\n",
       "    .dataframe tbody tr th {\n",
       "        vertical-align: top;\n",
       "    }\n",
       "\n",
       "    .dataframe thead th {\n",
       "        text-align: right;\n",
       "    }\n",
       "</style>\n",
       "<table border=\"1\" class=\"dataframe\">\n",
       "  <thead>\n",
       "    <tr style=\"text-align: right;\">\n",
       "      <th></th>\n",
       "      <th>Grade</th>\n",
       "      <th>Height</th>\n",
       "      <th>Weight</th>\n",
       "    </tr>\n",
       "  </thead>\n",
       "  <tbody>\n",
       "    <tr>\n",
       "      <th>Tom</th>\n",
       "      <td>A</td>\n",
       "      <td>188.2</td>\n",
       "      <td>140.1</td>\n",
       "    </tr>\n",
       "    <tr>\n",
       "      <th>Jerry</th>\n",
       "      <td>B</td>\n",
       "      <td>142.4</td>\n",
       "      <td>98.2</td>\n",
       "    </tr>\n",
       "    <tr>\n",
       "      <th>Marry</th>\n",
       "      <td>C</td>\n",
       "      <td>160.1</td>\n",
       "      <td>110.3</td>\n",
       "    </tr>\n",
       "    <tr>\n",
       "      <th>Jane</th>\n",
       "      <td>D</td>\n",
       "      <td>167.2</td>\n",
       "      <td>106.5</td>\n",
       "    </tr>\n",
       "  </tbody>\n",
       "</table>\n",
       "</div>"
      ],
      "text/plain": [
       "      Grade  Height  Weight\n",
       "Tom       A   188.2   140.1\n",
       "Jerry     B   142.4    98.2\n",
       "Marry     C   160.1   110.3\n",
       "Jane      D   167.2   106.5"
      ]
     },
     "execution_count": 22,
     "metadata": {},
     "output_type": "execute_result"
    }
   ],
   "source": [
    "# boolean indexing and bit-wise logic operators (&, |, ~)\n",
    "test_df = pd.DataFrame(data={\n",
    "                            'Grade':  ['A', 'B', 'C', 'D'],\n",
    "                            'Height': [188.2, 142.4, 160.1, 167.2],\n",
    "                            'Weight': [140.1, 98.2, 110.3, 106.5]\n",
    "                            },\n",
    "                       index=['Tom', 'Jerry', 'Marry', 'Jane']\n",
    "#                       colums=['Grade', 'Height', 'Weight']\n",
    "                      )\n",
    "test_df"
   ]
  },
  {
   "cell_type": "code",
   "execution_count": 25,
   "id": "6bc6033b",
   "metadata": {},
   "outputs": [
    {
     "data": {
      "text/plain": [
       "Tom      188.2\n",
       "Jerry    142.4\n",
       "Marry    160.1\n",
       "Jane     167.2\n",
       "Name: Height, dtype: float64"
      ]
     },
     "execution_count": 25,
     "metadata": {},
     "output_type": "execute_result"
    }
   ],
   "source": [
    "test_df['Height']"
   ]
  },
  {
   "cell_type": "code",
   "execution_count": 31,
   "id": "bf5788e8",
   "metadata": {},
   "outputs": [
    {
     "data": {
      "text/plain": [
       "Tom       True\n",
       "Jerry    False\n",
       "Marry     True\n",
       "Jane      True\n",
       "Name: Height, dtype: bool"
      ]
     },
     "execution_count": 31,
     "metadata": {},
     "output_type": "execute_result"
    }
   ],
   "source": [
    "test_df['Height'] >= 160"
   ]
  },
  {
   "cell_type": "code",
   "execution_count": 26,
   "id": "bc06dc28",
   "metadata": {},
   "outputs": [
    {
     "data": {
      "text/html": [
       "<div>\n",
       "<style scoped>\n",
       "    .dataframe tbody tr th:only-of-type {\n",
       "        vertical-align: middle;\n",
       "    }\n",
       "\n",
       "    .dataframe tbody tr th {\n",
       "        vertical-align: top;\n",
       "    }\n",
       "\n",
       "    .dataframe thead th {\n",
       "        text-align: right;\n",
       "    }\n",
       "</style>\n",
       "<table border=\"1\" class=\"dataframe\">\n",
       "  <thead>\n",
       "    <tr style=\"text-align: right;\">\n",
       "      <th></th>\n",
       "      <th>Grade</th>\n",
       "      <th>Height</th>\n",
       "      <th>Weight</th>\n",
       "    </tr>\n",
       "  </thead>\n",
       "  <tbody>\n",
       "    <tr>\n",
       "      <th>Tom</th>\n",
       "      <td>A</td>\n",
       "      <td>188.2</td>\n",
       "      <td>140.1</td>\n",
       "    </tr>\n",
       "    <tr>\n",
       "      <th>Marry</th>\n",
       "      <td>C</td>\n",
       "      <td>160.1</td>\n",
       "      <td>110.3</td>\n",
       "    </tr>\n",
       "    <tr>\n",
       "      <th>Jane</th>\n",
       "      <td>D</td>\n",
       "      <td>167.2</td>\n",
       "      <td>106.5</td>\n",
       "    </tr>\n",
       "  </tbody>\n",
       "</table>\n",
       "</div>"
      ],
      "text/plain": [
       "      Grade  Height  Weight\n",
       "Tom       A   188.2   140.1\n",
       "Marry     C   160.1   110.3\n",
       "Jane      D   167.2   106.5"
      ]
     },
     "execution_count": 26,
     "metadata": {},
     "output_type": "execute_result"
    }
   ],
   "source": [
    "# Boolean indexing \n",
    "# maybe we want to extract a list of students whose heights are considered normal, e.g.\n",
    "# taller than 160 cm\n",
    "test_df[  test_df['Height'] >= 160  ]"
   ]
  },
  {
   "cell_type": "code",
   "execution_count": 29,
   "id": "46fbd875",
   "metadata": {},
   "outputs": [
    {
     "data": {
      "text/plain": [
       "Tom      140.1\n",
       "Jerry     98.2\n",
       "Marry    110.3\n",
       "Jane     106.5\n",
       "Name: Weight, dtype: float64"
      ]
     },
     "execution_count": 29,
     "metadata": {},
     "output_type": "execute_result"
    }
   ],
   "source": [
    "test_df['Weight']"
   ]
  },
  {
   "cell_type": "code",
   "execution_count": 28,
   "id": "c44f89ba",
   "metadata": {},
   "outputs": [
    {
     "data": {
      "text/plain": [
       "Tom      False\n",
       "Jerry     True\n",
       "Marry     True\n",
       "Jane      True\n",
       "Name: Weight, dtype: bool"
      ]
     },
     "execution_count": 28,
     "metadata": {},
     "output_type": "execute_result"
    }
   ],
   "source": [
    "test_df['Weight'] < 130"
   ]
  },
  {
   "cell_type": "code",
   "execution_count": 30,
   "id": "f6a1c7e5",
   "metadata": {},
   "outputs": [
    {
     "data": {
      "text/html": [
       "<div>\n",
       "<style scoped>\n",
       "    .dataframe tbody tr th:only-of-type {\n",
       "        vertical-align: middle;\n",
       "    }\n",
       "\n",
       "    .dataframe tbody tr th {\n",
       "        vertical-align: top;\n",
       "    }\n",
       "\n",
       "    .dataframe thead th {\n",
       "        text-align: right;\n",
       "    }\n",
       "</style>\n",
       "<table border=\"1\" class=\"dataframe\">\n",
       "  <thead>\n",
       "    <tr style=\"text-align: right;\">\n",
       "      <th></th>\n",
       "      <th>Grade</th>\n",
       "      <th>Height</th>\n",
       "      <th>Weight</th>\n",
       "    </tr>\n",
       "  </thead>\n",
       "  <tbody>\n",
       "    <tr>\n",
       "      <th>Jerry</th>\n",
       "      <td>B</td>\n",
       "      <td>142.4</td>\n",
       "      <td>98.2</td>\n",
       "    </tr>\n",
       "    <tr>\n",
       "      <th>Marry</th>\n",
       "      <td>C</td>\n",
       "      <td>160.1</td>\n",
       "      <td>110.3</td>\n",
       "    </tr>\n",
       "    <tr>\n",
       "      <th>Jane</th>\n",
       "      <td>D</td>\n",
       "      <td>167.2</td>\n",
       "      <td>106.5</td>\n",
       "    </tr>\n",
       "  </tbody>\n",
       "</table>\n",
       "</div>"
      ],
      "text/plain": [
       "      Grade  Height  Weight\n",
       "Jerry     B   142.4    98.2\n",
       "Marry     C   160.1   110.3\n",
       "Jane      D   167.2   106.5"
      ]
     },
     "execution_count": 30,
     "metadata": {},
     "output_type": "execute_result"
    }
   ],
   "source": [
    "test_df[ test_df['Weight'] < 130 ]"
   ]
  },
  {
   "cell_type": "code",
   "execution_count": 35,
   "id": "130f20c7",
   "metadata": {},
   "outputs": [
    {
     "data": {
      "text/html": [
       "<div>\n",
       "<style scoped>\n",
       "    .dataframe tbody tr th:only-of-type {\n",
       "        vertical-align: middle;\n",
       "    }\n",
       "\n",
       "    .dataframe tbody tr th {\n",
       "        vertical-align: top;\n",
       "    }\n",
       "\n",
       "    .dataframe thead th {\n",
       "        text-align: right;\n",
       "    }\n",
       "</style>\n",
       "<table border=\"1\" class=\"dataframe\">\n",
       "  <thead>\n",
       "    <tr style=\"text-align: right;\">\n",
       "      <th></th>\n",
       "      <th>Grade</th>\n",
       "      <th>Height</th>\n",
       "      <th>Weight</th>\n",
       "    </tr>\n",
       "  </thead>\n",
       "  <tbody>\n",
       "    <tr>\n",
       "      <th>Marry</th>\n",
       "      <td>C</td>\n",
       "      <td>160.1</td>\n",
       "      <td>110.3</td>\n",
       "    </tr>\n",
       "    <tr>\n",
       "      <th>Jane</th>\n",
       "      <td>D</td>\n",
       "      <td>167.2</td>\n",
       "      <td>106.5</td>\n",
       "    </tr>\n",
       "  </tbody>\n",
       "</table>\n",
       "</div>"
      ],
      "text/plain": [
       "      Grade  Height  Weight\n",
       "Marry     C   160.1   110.3\n",
       "Jane      D   167.2   106.5"
      ]
     },
     "execution_count": 35,
     "metadata": {},
     "output_type": "execute_result"
    }
   ],
   "source": [
    "test_df[(test_df['Height'] >= 160) & (test_df['Weight'] < 130)]"
   ]
  },
  {
   "cell_type": "code",
   "execution_count": 36,
   "id": "214aee4b",
   "metadata": {},
   "outputs": [
    {
     "data": {
      "text/html": [
       "<div>\n",
       "<style scoped>\n",
       "    .dataframe tbody tr th:only-of-type {\n",
       "        vertical-align: middle;\n",
       "    }\n",
       "\n",
       "    .dataframe tbody tr th {\n",
       "        vertical-align: top;\n",
       "    }\n",
       "\n",
       "    .dataframe thead th {\n",
       "        text-align: right;\n",
       "    }\n",
       "</style>\n",
       "<table border=\"1\" class=\"dataframe\">\n",
       "  <thead>\n",
       "    <tr style=\"text-align: right;\">\n",
       "      <th></th>\n",
       "      <th>Grade</th>\n",
       "      <th>Height</th>\n",
       "      <th>Weight</th>\n",
       "    </tr>\n",
       "  </thead>\n",
       "  <tbody>\n",
       "    <tr>\n",
       "      <th>Tom</th>\n",
       "      <td>A</td>\n",
       "      <td>188.2</td>\n",
       "      <td>140.1</td>\n",
       "    </tr>\n",
       "    <tr>\n",
       "      <th>Jerry</th>\n",
       "      <td>B</td>\n",
       "      <td>142.4</td>\n",
       "      <td>98.2</td>\n",
       "    </tr>\n",
       "    <tr>\n",
       "      <th>Marry</th>\n",
       "      <td>C</td>\n",
       "      <td>160.1</td>\n",
       "      <td>110.3</td>\n",
       "    </tr>\n",
       "    <tr>\n",
       "      <th>Jane</th>\n",
       "      <td>D</td>\n",
       "      <td>167.2</td>\n",
       "      <td>106.5</td>\n",
       "    </tr>\n",
       "  </tbody>\n",
       "</table>\n",
       "</div>"
      ],
      "text/plain": [
       "      Grade  Height  Weight\n",
       "Tom       A   188.2   140.1\n",
       "Jerry     B   142.4    98.2\n",
       "Marry     C   160.1   110.3\n",
       "Jane      D   167.2   106.5"
      ]
     },
     "execution_count": 36,
     "metadata": {},
     "output_type": "execute_result"
    }
   ],
   "source": [
    "test_df[(test_df['Height'] >= 160) | (test_df['Weight'] < 130)]"
   ]
  },
  {
   "cell_type": "code",
   "execution_count": 37,
   "id": "376d6aad",
   "metadata": {},
   "outputs": [
    {
     "data": {
      "text/html": [
       "<div>\n",
       "<style scoped>\n",
       "    .dataframe tbody tr th:only-of-type {\n",
       "        vertical-align: middle;\n",
       "    }\n",
       "\n",
       "    .dataframe tbody tr th {\n",
       "        vertical-align: top;\n",
       "    }\n",
       "\n",
       "    .dataframe thead th {\n",
       "        text-align: right;\n",
       "    }\n",
       "</style>\n",
       "<table border=\"1\" class=\"dataframe\">\n",
       "  <thead>\n",
       "    <tr style=\"text-align: right;\">\n",
       "      <th></th>\n",
       "      <th>Grade</th>\n",
       "      <th>Height</th>\n",
       "      <th>Weight</th>\n",
       "    </tr>\n",
       "  </thead>\n",
       "  <tbody>\n",
       "    <tr>\n",
       "      <th>Marry</th>\n",
       "      <td>C</td>\n",
       "      <td>160.1</td>\n",
       "      <td>110.3</td>\n",
       "    </tr>\n",
       "    <tr>\n",
       "      <th>Jane</th>\n",
       "      <td>D</td>\n",
       "      <td>167.2</td>\n",
       "      <td>106.5</td>\n",
       "    </tr>\n",
       "  </tbody>\n",
       "</table>\n",
       "</div>"
      ],
      "text/plain": [
       "      Grade  Height  Weight\n",
       "Marry     C   160.1   110.3\n",
       "Jane      D   167.2   106.5"
      ]
     },
     "execution_count": 37,
     "metadata": {},
     "output_type": "execute_result"
    }
   ],
   "source": [
    "test_df[~(test_df['Height'] < 160) & (test_df['Weight'] < 130)]"
   ]
  },
  {
   "cell_type": "code",
   "execution_count": 38,
   "id": "91835893",
   "metadata": {},
   "outputs": [
    {
     "data": {
      "image/png": "[encoded data removed]",
      "text/plain": [
       "<Figure size 640x480 with 2 Axes>"
      ]
     },
     "metadata": {},
     "output_type": "display_data"
    }
   ],
   "source": [
    "spring_summer_domestic = load_factors[(load_factors.Month>=4) &  # \"ampersand\" means bit-wise AND\n",
    "                                      (load_factors.Month<=9)]['Domestic']\n",
    "fall_winter_domestic = load_factors[(load_factors.Month<4) |  # \"pipe\" means bit-wise OR \n",
    "                                    (load_factors.Month>9)]['Domestic']\n",
    "fig, axes = plt.subplots(2)\n",
    "axes[0].hist(spring_summer_domestic, bins=np.linspace(55, 90, 10),\n",
    "             color='orange', edgecolor='black');\n",
    "axes[0].set_title('Domestic Load Factors Spring/Summer', fontsize=12)\n",
    "axes[1].hist(fall_winter_domestic, bins=np.linspace(55, 90, 10),\n",
    "             color='blue', edgecolor='black');\n",
    "axes[1].set_title('Domestic Load Factors Fall/Winter', fontsize=12)\n",
    "fig.tight_layout()"
   ]
  },
  {
   "cell_type": "markdown",
   "id": "cb8ccf20",
   "metadata": {},
   "source": [
    "### Compare and contrast the histograms - Problem 2\n",
    "\n",
    "Comparing both histograms, we see that domestic Load Factors is unimodal, left skewed, and without obvious outliers for the Fall/Winter season and the Spring/Summer season.\n",
    "\n",
    "However, the distributions are not identical.  The spring/summer distribution shows an outlier on the left.  The fall/winter distribution has a lighter right tail compared to the spring/summer distribution.  The two have different modes around 85 and 80, respectively."
   ]
  },
  {
   "cell_type": "code",
   "execution_count": 39,
   "id": "e434ebf7",
   "metadata": {},
   "outputs": [
    {
     "data": {
      "image/png": "[encoded data removed]",
      "text/plain": [
       "<Figure size 1200x1200 with 12 Axes>"
      ]
     },
     "metadata": {},
     "output_type": "display_data"
    }
   ],
   "source": [
    "months = ['Jan', 'Feb', 'Mar', 'Apr', 'May', 'June',\n",
    "         'Jul', 'Aug', 'Sep', 'Oct', 'Nov', 'Dec']\n",
    "fig, axes = plt.subplots(3,4, figsize=(12, 12))\n",
    "for i in range(12):\n",
    "    p = load_factors[load_factors.Month==i+1]['International'].plot(kind='box', ax=axes[i//4, i%4])\n",
    "    p.set(ylim=[55, 90])\n",
    "    p.set(xticklabels=[])\n",
    "    p.set(xlabel=months[i])"
   ]
  },
  {
   "cell_type": "code",
   "execution_count": 41,
   "id": "e6d73e86",
   "metadata": {},
   "outputs": [
    {
     "data": {
      "image/png": "[encoded data removed]",
      "text/plain": [
       "<Figure size 600x400 with 1 Axes>"
      ]
     },
     "metadata": {},
     "output_type": "display_data"
    }
   ],
   "source": [
    "plt.figure(figsize=(6, 4))\n",
    "sns.boxplot(data=load_factors, x='Month', y='International');"
   ]
  },
  {
   "cell_type": "markdown",
   "id": "805eec36",
   "metadata": {},
   "source": [
    "### Problem 5: Discuss the patterns you see in this display.\n",
    "\n",
    "There are outliers from January to April and from September to December. From September to January, the median remains at the same level. The highest load actors are in June, July and August.\n",
    "\n",
    "Thinking: \n",
    "* each month has a box, revealing the characteristics of the distribution in that month.\n",
    "* To describe a distribution, we can say something about its **Shape**, **Center**, and **Spread**.  To describe a few distributions altogether, we can describe the patterns in their shapes, centers, and spreads.\n",
    "* It is hard to tell about the shape by looking at a box, so I will focus on the trend in the center and spread.  \n",
    "* For the Shape, although I cannot easily tell about its **Modes** or **Symmetry**, but I can say something about the **Outliers**.\n",
    "\n",
    "Conclusion:\n",
    "* As for the center, we can look at the median.  Starting at January, the median load factor first decreases in February and then increases and remains at a stable level throughout May.  It reaches its maximum during the months from June to August.  It declines in September and keeps declining until reaching a local lowest level in November.  It then recovers in December to January the next year.\n",
    "* Why? We may consider that the load factor is related to the number of travellers in a season.  The more people travelling, the higher the load factor reaches.  So, judging by the center, it appears that the summer months (June, July and August) see most travelers (coincidental with the summer vacation).  The worst occurs in February, when people are busy working or looking for jobs.\n",
    "* As for the spread, we can look at the IQR, which is a measure of the box height in the box plot.  We see wide spread in May and narrow spread in February.\n",
    "* Why? The spread tells us how tight or loose the data points are distributed along an axis.  Small spread says that the data are all crowded together around the center.  A large spread says the contrary, i.e., the data points are scatter everywhere.\n",
    "* In May, we see large spread.  This means some days the load factor is high, whereas it is quite low on other days.  The airliner would face a high uncertainy (risk), because it is harder for them to predict the load factor in this Month.  Why people would purchase tickets and show up durinig some days but not on the other days?  This likely tells us that May is a \"watershed\" month.  The first half of May sees people tend to busy with their work and school, whereas traveling surges during the second half.  In other words, in May we are more like to see both the best and the worst days, thus leading to very wide spread.\n",
    "* In February, the worst month of the year, as we seldom observe any good days, the spread is low."
   ]
  },
  {
   "cell_type": "code",
   "execution_count": 42,
   "id": "389c8a5a",
   "metadata": {},
   "outputs": [
    {
     "data": {
      "image/png": "[encoded data removed]",
      "text/plain": [
       "<Figure size 900x400 with 1 Axes>"
      ]
     },
     "metadata": {},
     "output_type": "display_data"
    }
   ],
   "source": [
    "plt.figure(figsize=(9, 4))\n",
    "sns.boxplot(data=load_factors, x='Year', y='Domestic');"
   ]
  },
  {
   "cell_type": "markdown",
   "id": "ba852bee",
   "metadata": {},
   "source": [
    "### Exercise-6 Discuss the patterns you see in this display\n",
    "\n",
    "There is a long low whisker for the year 2001. There are outliers for the year of 2009 to 2011. The medians are at the same level for the year from 2011 to 2015. The load factors remins stable from year 2009 to 2015."
   ]
  },
  {
   "cell_type": "markdown",
   "id": "4f6658c5",
   "metadata": {},
   "source": [
    "### Exercise 7.\n",
    "\n",
    "**I think this question should refer to the box plots by year in Exercise 6 (rather than 5).**\n",
    "\n",
    "The data for the years were affected by the terrorist attack of 9/11. There is an outlier in the month of September that in the exercise 6 plot. \n",
    "\n",
    "*It should not be set aside in any overall analysis of load factors. However, we should report the outlier and analyses with and without the outlier so that a reader can judge the influence of the outlier for him.*  **Is it right?**\n",
    "\n",
    "Comments:\n",
    "\n",
    "* Sep. 11, 2001 sees an unusually attack that disturbs the transportational industry for the 4th quarter of that year.  Accordingly, travalling-related data display abnormal patterns, such as the long low wisker in the above plot by year.\n",
    "* This kind of abnormality should be taken out when pool all the data in an overall analysis.  This is because, in an overall analysis, we would like to learn generic behavior accross the years, and the trend in the years.  We then should not include any data reflecting an abnormal event that probably and hopefully would never repeat."
   ]
  },
  {
   "cell_type": "markdown",
   "id": "5dccb404",
   "metadata": {},
   "source": [
    "### Exercise 8.\n",
    "\n",
    "\n",
    "From the patterns that show in exercise-6, the year 2001 has a long whisker that is much less than 60% and without outlier. The single outlier in exercise-8, its whisker is above 60% and the outlier is a far outlier.\n",
    "\n",
    "In Exercise 6, the domestic load factors are grouped by year.  One year's outlier may or may NOT be an outlier for another year.  The outlier dectected is in year 2015.  Year 2015 sees a narrow spread, and an moderately low value may be considered an outlier in that year.  In contrast, year 2001 sees much wider (or maybe the widest) spread, which incorporates all the data points as normal.\n",
    "\n",
    "However, once we pool all the data together, we can reach the below box plot (not grouped by year or any other variable).  This time, there is one single outlier way lower than typical values of all the other values.  We can easily pick it out from the dataset.  It is Sep. 2001.  It is truly an outlaying event, which is detected once we pool all the normal years together.\n",
    "\n",
    "This is also why in exercise 7 it is recommended to take this Sep 2001 month out when analyzing all the data."
   ]
  },
  {
   "cell_type": "code",
   "execution_count": 47,
   "id": "dec479ef",
   "metadata": {},
   "outputs": [
    {
     "data": {
      "image/png": "[encoded data removed]",
      "text/plain": [
       "<Figure size 100x600 with 1 Axes>"
      ]
     },
     "metadata": {},
     "output_type": "display_data"
    }
   ],
   "source": [
    "plt.figure(figsize=(1, 6))\n",
    "sns.boxplot(data=domestic_flights);"
   ]
  },
  {
   "cell_type": "code",
   "execution_count": 48,
   "id": "892d5814",
   "metadata": {},
   "outputs": [
    {
     "data": {
      "text/html": [
       "<div>\n",
       "<style scoped>\n",
       "    .dataframe tbody tr th:only-of-type {\n",
       "        vertical-align: middle;\n",
       "    }\n",
       "\n",
       "    .dataframe tbody tr th {\n",
       "        vertical-align: top;\n",
       "    }\n",
       "\n",
       "    .dataframe thead th {\n",
       "        text-align: right;\n",
       "    }\n",
       "</style>\n",
       "<table border=\"1\" class=\"dataframe\">\n",
       "  <thead>\n",
       "    <tr style=\"text-align: right;\">\n",
       "      <th></th>\n",
       "      <th>Year</th>\n",
       "      <th>Month</th>\n",
       "      <th>Domestic</th>\n",
       "      <th>International</th>\n",
       "      <th>Total</th>\n",
       "      <th>Decimal_Time</th>\n",
       "    </tr>\n",
       "  </thead>\n",
       "  <tbody>\n",
       "    <tr>\n",
       "      <th>20</th>\n",
       "      <td>2001</td>\n",
       "      <td>9</td>\n",
       "      <td>55.71</td>\n",
       "      <td>65.65</td>\n",
       "      <td>60.34</td>\n",
       "      <td>2001.75</td>\n",
       "    </tr>\n",
       "  </tbody>\n",
       "</table>\n",
       "</div>"
      ],
      "text/plain": [
       "    Year  Month  Domestic  International  Total  Decimal_Time\n",
       "20  2001      9     55.71          65.65  60.34       2001.75"
      ]
     },
     "execution_count": 48,
     "metadata": {},
     "output_type": "execute_result"
    }
   ],
   "source": [
    "load_factors[load_factors['Domestic']<60]"
   ]
  },
  {
   "cell_type": "code",
   "execution_count": null,
   "id": "04a51881",
   "metadata": {},
   "outputs": [],
   "source": []
  }
 ],
 "metadata": {
  "kernelspec": {
   "display_name": "Python 3 (ipykernel)",
   "language": "python",
   "name": "python3"
  },
  "language_info": {
   "codemirror_mode": {
    "name": "ipython",
    "version": 3
   },
   "file_extension": ".py",
   "mimetype": "text/x-python",
   "name": "python",
   "nbconvert_exporter": "python",
   "pygments_lexer": "ipython3",
   "version": "3.11.5"
  }
 },
 "nbformat": 4,
 "nbformat_minor": 5
}
