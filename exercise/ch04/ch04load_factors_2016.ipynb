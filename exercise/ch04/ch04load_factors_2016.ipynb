{
 "cells": [
  {
   "cell_type": "code",
   "execution_count": 1,
   "id": "df8edb59",
   "metadata": {},
   "outputs": [
    {
     "data": {
      "text/plain": [
       "'/Users/schang/Projects/STAT/IS5/exercise/ch04'"
      ]
     },
     "execution_count": 1,
     "metadata": {},
     "output_type": "execute_result"
    }
   ],
   "source": [
    "%pwd"
   ]
  },
  {
   "cell_type": "code",
   "execution_count": 2,
   "id": "59aaeb58",
   "metadata": {},
   "outputs": [],
   "source": [
    "import pandas as pd\n",
    "import matplotlib.pyplot as plt\n",
    "import numpy as np\n",
    "import statistics as stat\n",
    "import seaborn as sns"
   ]
  },
  {
   "cell_type": "code",
   "execution_count": 3,
   "id": "95c304c8",
   "metadata": {},
   "outputs": [],
   "source": [
    "datafile = '../../dataset/ch04/load_factors_2016.txt'\n",
    "load_factors = pd.read_csv(datafile, sep='\\t')"
   ]
  },
  {
   "cell_type": "code",
   "execution_count": 4,
   "id": "311292d2",
   "metadata": {},
   "outputs": [
    {
     "data": {
      "text/html": [
       "<div>\n",
       "<style scoped>\n",
       "    .dataframe tbody tr th:only-of-type {\n",
       "        vertical-align: middle;\n",
       "    }\n",
       "\n",
       "    .dataframe tbody tr th {\n",
       "        vertical-align: top;\n",
       "    }\n",
       "\n",
       "    .dataframe thead th {\n",
       "        text-align: right;\n",
       "    }\n",
       "</style>\n",
       "<table border=\"1\" class=\"dataframe\">\n",
       "  <thead>\n",
       "    <tr style=\"text-align: right;\">\n",
       "      <th></th>\n",
       "      <th>Year</th>\n",
       "      <th>Month</th>\n",
       "      <th>Domestic</th>\n",
       "      <th>International</th>\n",
       "      <th>Total</th>\n",
       "      <th>Decimal_Time</th>\n",
       "    </tr>\n",
       "  </thead>\n",
       "  <tbody>\n",
       "    <tr>\n",
       "      <th>0</th>\n",
       "      <td>2000</td>\n",
       "      <td>1</td>\n",
       "      <td>61.97</td>\n",
       "      <td>66.63</td>\n",
       "      <td>64.07</td>\n",
       "      <td>2000.08333</td>\n",
       "    </tr>\n",
       "    <tr>\n",
       "      <th>1</th>\n",
       "      <td>2000</td>\n",
       "      <td>2</td>\n",
       "      <td>66.20</td>\n",
       "      <td>67.12</td>\n",
       "      <td>66.61</td>\n",
       "      <td>2000.16667</td>\n",
       "    </tr>\n",
       "    <tr>\n",
       "      <th>2</th>\n",
       "      <td>2000</td>\n",
       "      <td>3</td>\n",
       "      <td>73.19</td>\n",
       "      <td>75.63</td>\n",
       "      <td>74.26</td>\n",
       "      <td>2000.25000</td>\n",
       "    </tr>\n",
       "    <tr>\n",
       "      <th>3</th>\n",
       "      <td>2000</td>\n",
       "      <td>4</td>\n",
       "      <td>73.02</td>\n",
       "      <td>75.18</td>\n",
       "      <td>74.00</td>\n",
       "      <td>2000.33333</td>\n",
       "    </tr>\n",
       "    <tr>\n",
       "      <th>4</th>\n",
       "      <td>2000</td>\n",
       "      <td>5</td>\n",
       "      <td>73.25</td>\n",
       "      <td>76.10</td>\n",
       "      <td>74.55</td>\n",
       "      <td>2000.41667</td>\n",
       "    </tr>\n",
       "  </tbody>\n",
       "</table>\n",
       "</div>"
      ],
      "text/plain": [
       "   Year  Month  Domestic  International  Total  Decimal_Time\n",
       "0  2000      1     61.97          66.63  64.07    2000.08333\n",
       "1  2000      2     66.20          67.12  66.61    2000.16667\n",
       "2  2000      3     73.19          75.63  74.26    2000.25000\n",
       "3  2000      4     73.02          75.18  74.00    2000.33333\n",
       "4  2000      5     73.25          76.10  74.55    2000.41667"
      ]
     },
     "execution_count": 4,
     "metadata": {},
     "output_type": "execute_result"
    }
   ],
   "source": [
    "load_factors.head()"
   ]
  },
  {
   "cell_type": "code",
   "execution_count": 5,
   "id": "d381604d",
   "metadata": {},
   "outputs": [
    {
     "data": {
      "text/plain": [
       "Index(['Year', 'Month', 'Domestic', 'International', 'Total', 'Decimal_Time'], dtype='object')"
      ]
     },
     "execution_count": 5,
     "metadata": {},
     "output_type": "execute_result"
    }
   ],
   "source": [
    "load_factors.columns"
   ]
  },
  {
   "cell_type": "code",
   "execution_count": 6,
   "id": "8ef296ff",
   "metadata": {},
   "outputs": [],
   "source": [
    "dostic = load_factors[\"Domestic\"]\n",
    "intrl = load_factors[\"International\"]"
   ]
  },
  {
   "cell_type": "code",
   "execution_count": 8,
   "id": "8975a109",
   "metadata": {},
   "outputs": [
    {
     "name": "stdout",
     "output_type": "stream",
     "text": [
      "Sample size: 197\n"
     ]
    }
   ],
   "source": [
    "print(f'Sample size: {len(load_factors)}')"
   ]
  },
  {
   "cell_type": "code",
   "execution_count": 9,
   "id": "52812b68",
   "metadata": {},
   "outputs": [
    {
     "name": "stdout",
     "output_type": "stream",
     "text": [
      "0 data missing in Domestic\n"
     ]
    }
   ],
   "source": [
    "print(f'{dostic.isna().sum()} data missing in Domestic')"
   ]
  },
  {
   "cell_type": "code",
   "execution_count": 10,
   "id": "caf3c837",
   "metadata": {},
   "outputs": [
    {
     "name": "stdout",
     "output_type": "stream",
     "text": [
      "0 data missing in International\n"
     ]
    }
   ],
   "source": [
    "print(f'{intrl.isna().sum()} data missing in International')"
   ]
  },
  {
   "cell_type": "code",
   "execution_count": 11,
   "id": "fbd2a58f",
   "metadata": {},
   "outputs": [
    {
     "data": {
      "image/png": "[encoded data removed]",
      "text/plain": [
       "<Figure size 640x480 with 1 Axes>"
      ]
     },
     "metadata": {},
     "output_type": "display_data"
    }
   ],
   "source": [
    "plt.hist(dostic, bins=np.linspace(55, 90, 10), edgecolor='black');"
   ]
  },
  {
   "cell_type": "code",
   "execution_count": 12,
   "id": "4c7e360d",
   "metadata": {},
   "outputs": [
    {
     "data": {
      "image/png": "[encoded data removed]",
      "text/plain": [
       "<Figure size 640x480 with 1 Axes>"
      ]
     },
     "metadata": {},
     "output_type": "display_data"
    }
   ],
   "source": [
    "plt.hist(intrl, bins=np.linspace(55, 90, 10), edgecolor='black');"
   ]
  },
  {
   "cell_type": "code",
   "execution_count": 13,
   "id": "ff37b2d5",
   "metadata": {},
   "outputs": [],
   "source": [
    "def iqr(data):\n",
    "    q75, q25 = np.percentile(data, [75, 25])\n",
    "    return q75, q25, q75-q25"
   ]
  },
  {
   "cell_type": "code",
   "execution_count": 14,
   "id": "551c549e",
   "metadata": {},
   "outputs": [
    {
     "data": {
      "text/html": [
       "<div>\n",
       "<style scoped>\n",
       "    .dataframe tbody tr th:only-of-type {\n",
       "        vertical-align: middle;\n",
       "    }\n",
       "\n",
       "    .dataframe tbody tr th {\n",
       "        vertical-align: top;\n",
       "    }\n",
       "\n",
       "    .dataframe thead th {\n",
       "        text-align: right;\n",
       "    }\n",
       "</style>\n",
       "<table border=\"1\" class=\"dataframe\">\n",
       "  <thead>\n",
       "    <tr style=\"text-align: right;\">\n",
       "      <th></th>\n",
       "      <th>Mean</th>\n",
       "      <th>Median</th>\n",
       "      <th>StdDev</th>\n",
       "      <th>IQR</th>\n",
       "      <th>n</th>\n",
       "      <th>Missing</th>\n",
       "    </tr>\n",
       "  </thead>\n",
       "  <tbody>\n",
       "    <tr>\n",
       "      <th>Domestic</th>\n",
       "      <td>78.4802</td>\n",
       "      <td>80.07</td>\n",
       "      <td>6.4982</td>\n",
       "      <td>9.35</td>\n",
       "      <td>197</td>\n",
       "      <td>0</td>\n",
       "    </tr>\n",
       "    <tr>\n",
       "      <th>International</th>\n",
       "      <td>78.1434</td>\n",
       "      <td>78.86</td>\n",
       "      <td>5.0225</td>\n",
       "      <td>6.18</td>\n",
       "      <td>197</td>\n",
       "      <td>0</td>\n",
       "    </tr>\n",
       "  </tbody>\n",
       "</table>\n",
       "</div>"
      ],
      "text/plain": [
       "                  Mean  Median  StdDev   IQR    n  Missing\n",
       "Domestic       78.4802   80.07  6.4982  9.35  197        0\n",
       "International  78.1434   78.86  5.0225  6.18  197        0"
      ]
     },
     "execution_count": 14,
     "metadata": {},
     "output_type": "execute_result"
    }
   ],
   "source": [
    "d_q75, d_q25, dostic_iqr = iqr(dostic)\n",
    "i_q75, i_q25, intrl_iqr = iqr(intrl)\n",
    "\n",
    "summary_of_domestic_international= pd.DataFrame(\n",
    "data={\n",
    "    'Mean': [round(stat.mean(dostic), 4),\n",
    "             round(stat.mean(intrl), 4)\n",
    "            ],\n",
    "    \n",
    "    'Median':[round(stat.median(dostic), 2),\n",
    "              round(stat.median(intrl), 2)\n",
    "            ],\n",
    "    'StdDev':[round(stat.stdev(dostic), 4),\n",
    "              round(stat.stdev(intrl), 4)\n",
    "            ],\n",
    "    'IQR': [round(dostic_iqr, 2),\n",
    "           round(intrl_iqr, 2)\n",
    "           ],\n",
    "    \n",
    "    'n': [ len(dostic),\n",
    "           len(intrl)  \n",
    "         ],\n",
    "    'Missing': [dostic.isna().sum(),\n",
    "                intrl.isna().sum()]\n",
    "    },\n",
    "    index=['Domestic', 'International']\n",
    ")\n",
    "summary_of_domestic_international"
   ]
  },
  {
   "cell_type": "markdown",
   "id": "0e4c7f49",
   "metadata": {},
   "source": [
    "### Compare and contrast the distributions\n",
    "\n",
    "* Shape: both distributions are unimodal, left skewed, without obvious outliers.\n",
    "\n",
    "* Center: both distributions are centered around 78% as load factor measured in mean value (or 79-80% by median). Note: we cannot say the centers are different, because the difference may not be singnificant enough.  It may be due to randomness and sampling error.\n",
    "\n",
    "* Spread: the domestic flights appear to have wider spread than the international flights\n"
   ]
  },
  {
   "cell_type": "code",
   "execution_count": null,
   "id": "91835893",
   "metadata": {},
   "outputs": [],
   "source": []
  }
 ],
 "metadata": {
  "kernelspec": {
   "display_name": "Python 3 (ipykernel)",
   "language": "python",
   "name": "python3"
  },
  "language_info": {
   "codemirror_mode": {
    "name": "ipython",
    "version": 3
   },
   "file_extension": ".py",
   "mimetype": "text/x-python",
   "name": "python",
   "nbconvert_exporter": "python",
   "pygments_lexer": "ipython3",
   "version": "3.11.3"
  }
 },
 "nbformat": 4,
 "nbformat_minor": 5
}
