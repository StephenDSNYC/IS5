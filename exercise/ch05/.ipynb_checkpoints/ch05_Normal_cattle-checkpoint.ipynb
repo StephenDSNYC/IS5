{
 "cells": [
  {
   "cell_type": "code",
   "execution_count": 1,
   "id": "218ff769",
   "metadata": {},
   "outputs": [
    {
     "data": {
      "text/plain": [
       "'/Users/schang/Projects/STAT/IS5/exercise/ch05'"
      ]
     },
     "execution_count": 1,
     "metadata": {},
     "output_type": "execute_result"
    }
   ],
   "source": [
    "%pwd"
   ]
  },
  {
   "cell_type": "code",
   "execution_count": 2,
   "id": "9a16853f",
   "metadata": {},
   "outputs": [],
   "source": [
    "import numpy as np\n",
    "import matplotlib.pyplot as plt\n",
    "from scipy import stats\n",
    "import math"
   ]
  },
  {
   "cell_type": "markdown",
   "id": "3dc905f9",
   "metadata": {},
   "source": [
    "***Problem 13***"
   ]
  },
  {
   "cell_type": "code",
   "execution_count": 3,
   "id": "4201dec8",
   "metadata": {},
   "outputs": [
    {
     "name": "stdout",
     "output_type": "stream",
     "text": [
      "12.2 precent of steers weight is over 1250 pounds.\n"
     ]
    }
   ],
   "source": [
    "# 13(a) over 1250 pounds?\n",
    "y_bar = 1152\n",
    "s = 84\n",
    "\n",
    "y = 1250\n",
    "z = (y - y_bar) / s\n",
    "\n",
    "p = 1 - stats.norm.cdf(z)\n",
    "print(f\"{p * 100:.1f} precent of steers weight is over 1250 pounds.\")"
   ]
  },
  {
   "cell_type": "code",
   "execution_count": 4,
   "id": "ab242f27",
   "metadata": {},
   "outputs": [
    {
     "name": "stdout",
     "output_type": "stream",
     "text": [
      "71.6 precent of steers weight is under 1200 pounds.\n"
     ]
    }
   ],
   "source": [
    "# 13(b) under 1200 pounds?\n",
    "y_bar = 1152\n",
    "s = 84\n",
    "\n",
    "y = 1200\n",
    "z = (y - y_bar) / s\n",
    "\n",
    "p = stats.norm.cdf(z)\n",
    "\n",
    "print(f\"{p * 100:.1f} precent of steers weight is under 1200 pounds.\")"
   ]
  },
  {
   "cell_type": "code",
   "execution_count": 5,
   "id": "bd692b8d",
   "metadata": {},
   "outputs": [
    {
     "name": "stdout",
     "output_type": "stream",
     "text": [
      "23.3 precent of steers weightis between 1000 pounds and 1100 pounds.\n"
     ]
    }
   ],
   "source": [
    "# 13(c) between 1000 and 1100 pounds?\n",
    "y_bar = 1152\n",
    "s = 84\n",
    "\n",
    "y1 = 1000\n",
    "z1 = (y1 - y_bar) / s\n",
    "\n",
    "y2 = 1100\n",
    "z2 = (y2 - y_bar) / s\n",
    "\n",
    "p1 = stats.norm.cdf(z1)\n",
    "p2 = stats.norm.cdf(z2)\n",
    "\n",
    "print(f\"{(p2-p1)*100:.1f} precent of steers weight\" \n",
    "      \"is between 1000 pounds and 1100 pounds.\")"
   ]
  },
  {
   "cell_type": "markdown",
   "id": "003afd82",
   "metadata": {},
   "source": [
    "***Problem 29***"
   ]
  },
  {
   "cell_type": "code",
   "execution_count": 6,
   "id": "9ade39d4",
   "metadata": {},
   "outputs": [
    {
     "name": "stdout",
     "output_type": "stream",
     "text": [
      "-1.8 standard deviations are from the mean would a steer weighting 1000 pounds.\n"
     ]
    }
   ],
   "source": [
    "#29(a)\n",
    "y_bar = 1152\n",
    "s = 84\n",
    "\n",
    "y = 1000\n",
    "z = (y - y_bar)/s\n",
    "print(f\"{z:.1f} standard deviations are from\" \n",
    "       \" the mean would a steer weighting 1000 pounds.\")"
   ]
  },
  {
   "cell_type": "code",
   "execution_count": 7,
   "id": "8c1f0782",
   "metadata": {},
   "outputs": [
    {
     "name": "stdout",
     "output_type": "stream",
     "text": [
      "-1.8\n",
      "1.2\n",
      "Weighing 1000 pound is more unusually, because it corresponds to a larger z-score in absolute value.\n"
     ]
    }
   ],
   "source": [
    "#29(b)\n",
    "y_bar = 1152\n",
    "s = 84\n",
    "\n",
    "y1 = 1000\n",
    "z1 = (y1 - y_bar)/s\n",
    "\n",
    "y2 = 1250\n",
    "z2 = (y2 - y_bar)/s\n",
    "\n",
    "print(f\"{z1:.1f}\")\n",
    "print(f\"{z2:.1f}\")\n",
    "print(\"Weighing 1000 pound is more unusually, because it corresponds \"\n",
    "      \"to a larger z-score in absolute value.\")"
   ]
  },
  {
   "cell_type": "markdown",
   "id": "1c1ec34f",
   "metadata": {},
   "source": [
    "Corresponds to the 68-95-99.7 rule, a steer weighting 1000 pounds would be more unusual.\n",
    "\n",
    "**has little to do with the rule.  Instead, the farther away the z-score is from the center 0, the more unusually that data point is observed.**"
   ]
  },
  {
   "cell_type": "markdown",
   "id": "e5bbbf89",
   "metadata": {},
   "source": [
    "***Problem 31***"
   ]
  },
  {
   "cell_type": "code",
   "execution_count": 8,
   "id": "6b2edd40",
   "metadata": {},
   "outputs": [],
   "source": [
    "#31(a)\n",
    "y_bar = 1152\n",
    "s = 84"
   ]
  },
  {
   "cell_type": "markdown",
   "id": "557bffe8",
   "metadata": {},
   "source": [
    "Suppose we subtract 1000 lb from all measurement of cattle's weight.\n",
    "\n",
    "Before the subtraction, the mean is 1152 lb.  After this subtraction, the measurement is about the different between a cattle's weight and the 1000 pound mark.  So the new measurement has a mean of 152 lb.\n",
    "\n",
    "Before the subtractio, the SD is 84 lb.  After the subtraction, the SD remains unchanged, because shifting the measurement uniformly does NOT change the spread of the measured data."
   ]
  },
  {
   "cell_type": "code",
   "execution_count": 9,
   "id": "c9335c28",
   "metadata": {},
   "outputs": [],
   "source": [
    "#31(b)"
   ]
  },
  {
   "cell_type": "markdown",
   "id": "2b1f7b19",
   "metadata": {},
   "source": [
    "Suppose we sell a cattle at 40c per lb.\n",
    "\n",
    "For example, a cattle weighing 1000 lb would be sold for 40,000 cents, or $400.\n",
    "\n",
    "This is conversion of scale.  The converting factor is either 40 c/lb, or 0.4 $/lb.\n",
    "\n",
    "Remember that, rescaling may change the mean and SD by value, but NOT by \"meaning\".  In other words, the mean and SD of the sale prices may not stay as the original values of 1152 and 84.\n",
    "\n",
    "mean sales price is the sales prices of a cattle of mean weight:\n",
    "\n",
    "SD of sales price is the rescaled SD of the cattle's weight.\n",
    "\n",
    "**NOTE:**\n",
    "The above relationship reflects what happens when you linearly transforms a random variable.  Suppose we have original r.v. *X*, having mean *E[X]* and standard deviation *SD[X]*.\n",
    "\n",
    "Now suppose we transform to a new variable Y by **Y = k * X + b**.  Then we have\n",
    "\n",
    "**E[Y] = k * E[X] + b**\n",
    "\n",
    "**SD[Y] = k * SD[X]**"
   ]
  },
  {
   "cell_type": "code",
   "execution_count": 10,
   "id": "47a197bc",
   "metadata": {},
   "outputs": [
    {
     "name": "stdout",
     "output_type": "stream",
     "text": [
      "mean sales price: $460.80\n",
      "SD of sales price: $33.60\n"
     ]
    }
   ],
   "source": [
    "ybar = 1152\n",
    "sd = 84\n",
    "price = 0.4\n",
    "print(f\"mean sales price: ${ybar * price:.2f}\")\n",
    "print(f\"SD of sales price: ${sd * price:.2f}\")"
   ]
  },
  {
   "cell_type": "markdown",
   "id": "61c100bd",
   "metadata": {},
   "source": [
    "***Problem 33***"
   ]
  },
  {
   "cell_type": "code",
   "execution_count": 11,
   "id": "5e71aca7",
   "metadata": {},
   "outputs": [
    {
     "name": "stdout",
     "output_type": "stream",
     "text": [
      "The minimum of the net sale prices is 372.00.\n",
      "The medium of the net sale prices is 1140.00.\n",
      "The SD of the net sale prices is 33.60.\n",
      "The IQR of the net sale prices is 40.80.\n"
     ]
    }
   ],
   "source": [
    "# 33\n",
    "y_bar = 1152\n",
    "y_sd = 84\n",
    "\n",
    "y_min = 980\n",
    "y_medium = 1140\n",
    "y_iqr = 102\n",
    "\n",
    "price = 0.40\n",
    "commission = 20\n",
    "\n",
    "# nsp = y * price - commission\n",
    "nsp_min = y_min * price - commission\n",
    "print(f\"The minimum of the net sale prices is {nsp_min:.2f}.\")\n",
    "\n",
    "nsp_medium = y_medium * price - commission\n",
    "print(f\"The medium of the net sale prices is {y_medium:.2f}.\")\n",
    "\n",
    "nsp_sd = y_sd * price\n",
    "print(f\"The SD of the net sale prices is {nsp_sd:.2f}.\")\n",
    "\n",
    "nsp_iqr = y_iqr * price\n",
    "print(f\"The IQR of the net sale prices is {nsp_iqr:.2f}.\")"
   ]
  },
  {
   "cell_type": "markdown",
   "id": "3a586c68",
   "metadata": {},
   "source": [
    "Net Sales Price (NSP)\n",
    "\n",
    "NSP = 0.4 * Weight - 20, which is a linear transform\n",
    "\n",
    "In our setting, Weight = y.\n",
    "\n",
    "min(NSP) = 0.4 * min(y) - 20\n",
    "\n",
    "median(NSP) = 0.4 * median(y) - 20\n",
    "\n",
    "SD(NSP) = 0.4 * SD(y)\n",
    "\n",
    "IQR(NSP) = 0.4 * IQR(y)\n"
   ]
  },
  {
   "cell_type": "markdown",
   "id": "8bacb149",
   "metadata": {},
   "source": [
    "***Problem 49***"
   ]
  },
  {
   "cell_type": "code",
   "execution_count": 21,
   "id": "2944d152",
   "metadata": {},
   "outputs": [
    {
     "name": "stdout",
     "output_type": "stream",
     "text": [
      "The highest 10% of the weight is 1260. \n"
     ]
    }
   ],
   "source": [
    "#49(a)\n",
    "y_bar = 1152\n",
    "s = 84\n",
    "\n",
    "z = stats.norm.ppf(0.90)\n",
    "y = y_bar + z * s\n",
    "print(f\"The highest 10% of the weight is {y:.0f}. \")"
   ]
  },
  {
   "cell_type": "code",
   "execution_count": 14,
   "id": "9b5fa2d2",
   "metadata": {},
   "outputs": [
    {
     "name": "stdout",
     "output_type": "stream",
     "text": [
      "The lowest 20% of the weights is 1081. \n"
     ]
    }
   ],
   "source": [
    "#49(b)\n",
    "y_bar = 1152\n",
    "s = 84\n",
    "\n",
    "z = stats.norm.ppf(0.20)\n",
    "y = y_bar + z * s\n",
    "print(f\"The lowest 20% of the weights is {y:.0f}. \")"
   ]
  },
  {
   "cell_type": "code",
   "execution_count": 15,
   "id": "41311755",
   "metadata": {},
   "outputs": [
    {
     "name": "stdout",
     "output_type": "stream",
     "text": [
      "The middle 40% of the weights fall between 1108 and 1196.\n"
     ]
    }
   ],
   "source": [
    "#49(c)\n",
    "y_bar = 1152\n",
    "s = 84\n",
    "p1 = 0.3\n",
    "p2 = 0.7\n",
    "\n",
    "z1 = stats.norm.ppf(p1)\n",
    "z2 = stats.norm.ppf(p2)\n",
    "\n",
    "y1 = y_bar + z1 *s\n",
    "y2 = y_bar + z2 *s\n",
    "\n",
    "print(f\"The middle 40% of the weights fall between {y1:.0f} and {y2:.0f}.\")"
   ]
  },
  {
   "cell_type": "markdown",
   "id": "0747db25",
   "metadata": {},
   "source": [
    "***Problem 51***"
   ]
  },
  {
   "cell_type": "code",
   "execution_count": 16,
   "id": "1ab3f08a",
   "metadata": {},
   "outputs": [
    {
     "name": "stdout",
     "output_type": "stream",
     "text": [
      " 1131 represents the 40th percentile.\n"
     ]
    }
   ],
   "source": [
    "# 51(a)\n",
    "y_bar = 1152\n",
    "s = 84\n",
    "\n",
    "z = stats.norm.ppf(0.40)\n",
    "y = y_bar + z*s\n",
    "\n",
    "print(f\" {y:.0f} represents the 40th percentile.\")"
   ]
  },
  {
   "cell_type": "code",
   "execution_count": 22,
   "id": "7ab7aad3",
   "metadata": {},
   "outputs": [
    {
     "name": "stdout",
     "output_type": "stream",
     "text": [
      " 1347 represents the 99th percentile.\n"
     ]
    }
   ],
   "source": [
    "# 51(b)\n",
    "y_bar = 1152\n",
    "s = 84\n",
    "\n",
    "z = stats.norm.ppf(0.99)\n",
    "y = y_bar + z * s\n",
    "\n",
    "print(f\" {y:.0f} represents the 99th percentile.\")"
   ]
  },
  {
   "cell_type": "code",
   "execution_count": 23,
   "id": "a918cc90",
   "metadata": {},
   "outputs": [
    {
     "name": "stdout",
     "output_type": "stream",
     "text": [
      " 113 is the IQR of the weights of these Angus steers.\n"
     ]
    }
   ],
   "source": [
    "#52(c)\n",
    "y_bar = 1152\n",
    "s = 84\n",
    "\n",
    "z1 = stats.norm.ppf(0.25)\n",
    "z2 = stats.norm.ppf(0.75)\n",
    "\n",
    "y1 = y_bar + z1 * s\n",
    "y2 = y_bar + z2 * s\n",
    "\n",
    "print(f\" {(y2-y1):.0f} is the IQR of the weights of these Angus steers.\")"
   ]
  }
 ],
 "metadata": {
  "kernelspec": {
   "display_name": "Python 3 (ipykernel)",
   "language": "python",
   "name": "python3"
  },
  "language_info": {
   "codemirror_mode": {
    "name": "ipython",
    "version": 3
   },
   "file_extension": ".py",
   "mimetype": "text/x-python",
   "name": "python",
   "nbconvert_exporter": "python",
   "pygments_lexer": "ipython3",
   "version": "3.11.3"
  }
 },
 "nbformat": 4,
 "nbformat_minor": 5
}
