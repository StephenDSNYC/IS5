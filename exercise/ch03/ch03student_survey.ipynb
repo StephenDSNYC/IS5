{
 "cells": [
  {
   "cell_type": "markdown",
   "id": "71517b70",
   "metadata": {},
   "source": [
    "## [Write an introduction]"
   ]
  },
  {
   "cell_type": "code",
   "execution_count": 1,
   "id": "e0cf12be",
   "metadata": {},
   "outputs": [],
   "source": [
    "import numpy as np\n",
    "import matplotlib.pyplot as plt\n",
    "import pandas as pd\n",
    "import statistics as stat"
   ]
  },
  {
   "cell_type": "code",
   "execution_count": 2,
   "id": "8460300d",
   "metadata": {},
   "outputs": [],
   "source": [
    "datafile = \"../../dataset/ch02/student_survey.txt\"\n",
    "student_survey = pd.read_csv(datafile, sep='\\t')"
   ]
  },
  {
   "cell_type": "code",
   "execution_count": 3,
   "id": "a30b6a82",
   "metadata": {
    "scrolled": true
   },
   "outputs": [
    {
     "data": {
      "text/html": [
       "<div>\n",
       "<style scoped>\n",
       "    .dataframe tbody tr th:only-of-type {\n",
       "        vertical-align: middle;\n",
       "    }\n",
       "\n",
       "    .dataframe tbody tr th {\n",
       "        vertical-align: top;\n",
       "    }\n",
       "\n",
       "    .dataframe thead th {\n",
       "        text-align: right;\n",
       "    }\n",
       "</style>\n",
       "<table border=\"1\" class=\"dataframe\">\n",
       "  <thead>\n",
       "    <tr style=\"text-align: right;\">\n",
       "      <th></th>\n",
       "      <th>Gender</th>\n",
       "      <th>Do.you.believe.in.God</th>\n",
       "      <th>Pick.Random.Number</th>\n",
       "      <th>Height</th>\n",
       "      <th>Hand</th>\n",
       "      <th>Dates</th>\n",
       "      <th>FB.Friends</th>\n",
       "      <th>Weight</th>\n",
       "      <th>Drinks</th>\n",
       "      <th>Varsity</th>\n",
       "      <th>Songs</th>\n",
       "      <th>Diet</th>\n",
       "      <th>Politics.9Cat</th>\n",
       "      <th>Politics.numeric</th>\n",
       "      <th>Politics.3Cat</th>\n",
       "    </tr>\n",
       "  </thead>\n",
       "  <tbody>\n",
       "    <tr>\n",
       "      <th>0</th>\n",
       "      <td>Female</td>\n",
       "      <td>Not sure</td>\n",
       "      <td>6</td>\n",
       "      <td>71.0</td>\n",
       "      <td>Predominantly Left Handed</td>\n",
       "      <td>1.0</td>\n",
       "      <td>314.0</td>\n",
       "      <td>138.0</td>\n",
       "      <td>0</td>\n",
       "      <td>Yes</td>\n",
       "      <td>1564.0</td>\n",
       "      <td>Omnivore</td>\n",
       "      <td>2. Very Liberal</td>\n",
       "      <td>2.0</td>\n",
       "      <td>Liberal</td>\n",
       "    </tr>\n",
       "    <tr>\n",
       "      <th>1</th>\n",
       "      <td>Male</td>\n",
       "      <td>No</td>\n",
       "      <td>2</td>\n",
       "      <td>66.0</td>\n",
       "      <td>Predominantly Right Handed</td>\n",
       "      <td>2.0</td>\n",
       "      <td>1228.0</td>\n",
       "      <td>130.0</td>\n",
       "      <td>0</td>\n",
       "      <td>No</td>\n",
       "      <td>97.0</td>\n",
       "      <td>Vegetarian</td>\n",
       "      <td>2. Very Liberal</td>\n",
       "      <td>2.0</td>\n",
       "      <td>Liberal</td>\n",
       "    </tr>\n",
       "    <tr>\n",
       "      <th>2</th>\n",
       "      <td>Male</td>\n",
       "      <td>Yes</td>\n",
       "      <td>9</td>\n",
       "      <td>73.0</td>\n",
       "      <td>Predominantly Right Handed</td>\n",
       "      <td>1.0</td>\n",
       "      <td>1189.0</td>\n",
       "      <td>183.0</td>\n",
       "      <td>0</td>\n",
       "      <td>Yes</td>\n",
       "      <td>1397.0</td>\n",
       "      <td>Carnivore</td>\n",
       "      <td>7. Moderatly Conservative</td>\n",
       "      <td>7.0</td>\n",
       "      <td>Conservative</td>\n",
       "    </tr>\n",
       "    <tr>\n",
       "      <th>3</th>\n",
       "      <td>Female</td>\n",
       "      <td>No</td>\n",
       "      <td>6</td>\n",
       "      <td>67.0</td>\n",
       "      <td>Predominantly Right Handed</td>\n",
       "      <td>1.0</td>\n",
       "      <td>0.0</td>\n",
       "      <td>125.0</td>\n",
       "      <td>0</td>\n",
       "      <td>No</td>\n",
       "      <td>2241.0</td>\n",
       "      <td>Omnivore</td>\n",
       "      <td>3. Moderately Liberal</td>\n",
       "      <td>3.0</td>\n",
       "      <td>Liberal</td>\n",
       "    </tr>\n",
       "    <tr>\n",
       "      <th>4</th>\n",
       "      <td>Male</td>\n",
       "      <td>Yes</td>\n",
       "      <td>7</td>\n",
       "      <td>71.0</td>\n",
       "      <td>Predominantly Right Handed</td>\n",
       "      <td>0.0</td>\n",
       "      <td>709.0</td>\n",
       "      <td>245.0</td>\n",
       "      <td>0</td>\n",
       "      <td>No</td>\n",
       "      <td>1299.0</td>\n",
       "      <td>Omnivore</td>\n",
       "      <td>5. Independent/Middle of Road</td>\n",
       "      <td>5.0</td>\n",
       "      <td>Moderate</td>\n",
       "    </tr>\n",
       "  </tbody>\n",
       "</table>\n",
       "</div>"
      ],
      "text/plain": [
       "   Gender Do.you.believe.in.God  Pick.Random.Number  Height  \\\n",
       "0  Female              Not sure                   6    71.0   \n",
       "1    Male                    No                   2    66.0   \n",
       "2    Male                   Yes                   9    73.0   \n",
       "3  Female                    No                   6    67.0   \n",
       "4    Male                   Yes                   7    71.0   \n",
       "\n",
       "                         Hand  Dates  FB.Friends  Weight  Drinks Varsity  \\\n",
       "0   Predominantly Left Handed    1.0       314.0   138.0       0     Yes   \n",
       "1  Predominantly Right Handed    2.0      1228.0   130.0       0      No   \n",
       "2  Predominantly Right Handed    1.0      1189.0   183.0       0     Yes   \n",
       "3  Predominantly Right Handed    1.0         0.0   125.0       0      No   \n",
       "4  Predominantly Right Handed    0.0       709.0   245.0       0      No   \n",
       "\n",
       "    Songs        Diet                  Politics.9Cat  Politics.numeric  \\\n",
       "0  1564.0    Omnivore                2. Very Liberal               2.0   \n",
       "1    97.0  Vegetarian                2. Very Liberal               2.0   \n",
       "2  1397.0   Carnivore      7. Moderatly Conservative               7.0   \n",
       "3  2241.0    Omnivore          3. Moderately Liberal               3.0   \n",
       "4  1299.0    Omnivore  5. Independent/Middle of Road               5.0   \n",
       "\n",
       "  Politics.3Cat  \n",
       "0       Liberal  \n",
       "1       Liberal  \n",
       "2  Conservative  \n",
       "3       Liberal  \n",
       "4      Moderate  "
      ]
     },
     "execution_count": 3,
     "metadata": {},
     "output_type": "execute_result"
    }
   ],
   "source": [
    "student_survey.head() "
   ]
  },
  {
   "cell_type": "code",
   "execution_count": 4,
   "id": "9221cf9f",
   "metadata": {},
   "outputs": [
    {
     "data": {
      "text/plain": [
       "299"
      ]
     },
     "execution_count": 4,
     "metadata": {},
     "output_type": "execute_result"
    }
   ],
   "source": [
    "# sc\n",
    "len(student_survey)"
   ]
  },
  {
   "cell_type": "code",
   "execution_count": 5,
   "id": "f4a2e10f",
   "metadata": {},
   "outputs": [
    {
     "data": {
      "text/plain": [
       "Index(['Gender', 'Do.you.believe.in.God', 'Pick.Random.Number', 'Height',\n",
       "       'Hand', 'Dates', 'FB.Friends', 'Weight', 'Drinks', 'Varsity', 'Songs',\n",
       "       'Diet', 'Politics.9Cat', 'Politics.numeric', 'Politics.3Cat'],\n",
       "      dtype='object')"
      ]
     },
     "execution_count": 5,
     "metadata": {},
     "output_type": "execute_result"
    }
   ],
   "source": [
    "# sc\n",
    "student_survey.columns"
   ]
  },
  {
   "cell_type": "code",
   "execution_count": 6,
   "id": "0b556d9e",
   "metadata": {},
   "outputs": [],
   "source": [
    "diet = student_survey[\"Diet\"]\n",
    "politics = student_survey[\"Politics.3Cat\"] "
   ]
  },
  {
   "cell_type": "code",
   "execution_count": 7,
   "id": "76bd2343",
   "metadata": {},
   "outputs": [
    {
     "name": "stdout",
     "output_type": "stream",
     "text": [
      "Total Number of Rows: 299\n"
     ]
    }
   ],
   "source": [
    "print(f'Total Number of Rows: {len(student_survey)}')"
   ]
  },
  {
   "cell_type": "code",
   "execution_count": 8,
   "id": "5ef300c3",
   "metadata": {},
   "outputs": [
    {
     "name": "stdout",
     "output_type": "stream",
     "text": [
      "6 data missing in Diet\n"
     ]
    }
   ],
   "source": [
    "print(f'{diet.isna().sum()} data missing in Diet')"
   ]
  },
  {
   "cell_type": "code",
   "execution_count": 9,
   "id": "9fcb849a",
   "metadata": {},
   "outputs": [
    {
     "name": "stdout",
     "output_type": "stream",
     "text": [
      "4 data missing in Politics.3Cat\n"
     ]
    }
   ],
   "source": [
    "print(f'{politics.isna().sum()} data missing in Politics.3Cat')"
   ]
  },
  {
   "cell_type": "code",
   "execution_count": 10,
   "id": "1668fa3f",
   "metadata": {},
   "outputs": [
    {
     "data": {
      "text/plain": [
       "Omnivore      227\n",
       "Carnivore      41\n",
       "Vegetarian     25\n",
       "Name: Diet, dtype: int64"
      ]
     },
     "execution_count": 10,
     "metadata": {},
     "output_type": "execute_result"
    }
   ],
   "source": [
    "# sc\n",
    "diet.value_counts()"
   ]
  },
  {
   "cell_type": "code",
   "execution_count": 11,
   "id": "851a39b1",
   "metadata": {},
   "outputs": [
    {
     "data": {
      "text/plain": [
       "Liberal         162\n",
       "Moderate        105\n",
       "Conservative     28\n",
       "Name: Politics.3Cat, dtype: int64"
      ]
     },
     "execution_count": 11,
     "metadata": {},
     "output_type": "execute_result"
    }
   ],
   "source": [
    "# sc\n",
    "politics.value_counts()"
   ]
  },
  {
   "cell_type": "code",
   "execution_count": 12,
   "id": "d508a7d8",
   "metadata": {},
   "outputs": [
    {
     "data": {
      "text/html": [
       "<div>\n",
       "<style scoped>\n",
       "    .dataframe tbody tr th:only-of-type {\n",
       "        vertical-align: middle;\n",
       "    }\n",
       "\n",
       "    .dataframe tbody tr th {\n",
       "        vertical-align: top;\n",
       "    }\n",
       "\n",
       "    .dataframe thead th {\n",
       "        text-align: right;\n",
       "    }\n",
       "</style>\n",
       "<table border=\"1\" class=\"dataframe\">\n",
       "  <thead>\n",
       "    <tr style=\"text-align: right;\">\n",
       "      <th>Diet</th>\n",
       "      <th>Carnivore</th>\n",
       "      <th>Omnivore</th>\n",
       "      <th>Vegetarian</th>\n",
       "      <th>All</th>\n",
       "    </tr>\n",
       "    <tr>\n",
       "      <th>Politics.3Cat</th>\n",
       "      <th></th>\n",
       "      <th></th>\n",
       "      <th></th>\n",
       "      <th></th>\n",
       "    </tr>\n",
       "  </thead>\n",
       "  <tbody>\n",
       "    <tr>\n",
       "      <th>Conservative</th>\n",
       "      <td>10</td>\n",
       "      <td>18</td>\n",
       "      <td>0</td>\n",
       "      <td>28</td>\n",
       "    </tr>\n",
       "    <tr>\n",
       "      <th>Liberal</th>\n",
       "      <td>13</td>\n",
       "      <td>127</td>\n",
       "      <td>17</td>\n",
       "      <td>157</td>\n",
       "    </tr>\n",
       "    <tr>\n",
       "      <th>Moderate</th>\n",
       "      <td>16</td>\n",
       "      <td>81</td>\n",
       "      <td>7</td>\n",
       "      <td>104</td>\n",
       "    </tr>\n",
       "    <tr>\n",
       "      <th>All</th>\n",
       "      <td>39</td>\n",
       "      <td>226</td>\n",
       "      <td>24</td>\n",
       "      <td>289</td>\n",
       "    </tr>\n",
       "  </tbody>\n",
       "</table>\n",
       "</div>"
      ],
      "text/plain": [
       "Diet           Carnivore  Omnivore  Vegetarian  All\n",
       "Politics.3Cat                                      \n",
       "Conservative          10        18           0   28\n",
       "Liberal               13       127          17  157\n",
       "Moderate              16        81           7  104\n",
       "All                   39       226          24  289"
      ]
     },
     "execution_count": 12,
     "metadata": {},
     "output_type": "execute_result"
    }
   ],
   "source": [
    "pd.crosstab(index=politics, columns=diet, margins=True)"
   ]
  },
  {
   "cell_type": "code",
   "execution_count": 13,
   "id": "15fe4cf5",
   "metadata": {},
   "outputs": [
    {
     "data": {
      "text/html": [
       "<div>\n",
       "<style scoped>\n",
       "    .dataframe tbody tr th:only-of-type {\n",
       "        vertical-align: middle;\n",
       "    }\n",
       "\n",
       "    .dataframe tbody tr th {\n",
       "        vertical-align: top;\n",
       "    }\n",
       "\n",
       "    .dataframe thead th {\n",
       "        text-align: right;\n",
       "    }\n",
       "</style>\n",
       "<table border=\"1\" class=\"dataframe\">\n",
       "  <thead>\n",
       "    <tr style=\"text-align: right;\">\n",
       "      <th>Diet</th>\n",
       "      <th>Carnivore</th>\n",
       "      <th>Omnivore</th>\n",
       "      <th>Vegetarian</th>\n",
       "      <th>All</th>\n",
       "    </tr>\n",
       "    <tr>\n",
       "      <th>Politics.3Cat</th>\n",
       "      <th></th>\n",
       "      <th></th>\n",
       "      <th></th>\n",
       "      <th></th>\n",
       "    </tr>\n",
       "  </thead>\n",
       "  <tbody>\n",
       "    <tr>\n",
       "      <th>Conservative</th>\n",
       "      <td>25.6%</td>\n",
       "      <td>8.0%</td>\n",
       "      <td>0.0%</td>\n",
       "      <td>9.7%</td>\n",
       "    </tr>\n",
       "    <tr>\n",
       "      <th>Liberal</th>\n",
       "      <td>33.3%</td>\n",
       "      <td>56.2%</td>\n",
       "      <td>70.8%</td>\n",
       "      <td>54.3%</td>\n",
       "    </tr>\n",
       "    <tr>\n",
       "      <th>Moderate</th>\n",
       "      <td>41.0%</td>\n",
       "      <td>35.8%</td>\n",
       "      <td>29.2%</td>\n",
       "      <td>36.0%</td>\n",
       "    </tr>\n",
       "  </tbody>\n",
       "</table>\n",
       "</div>"
      ],
      "text/plain": [
       "Diet          Carnivore Omnivore Vegetarian    All\n",
       "Politics.3Cat                                     \n",
       "Conservative      25.6%     8.0%       0.0%   9.7%\n",
       "Liberal           33.3%    56.2%      70.8%  54.3%\n",
       "Moderate          41.0%    35.8%      29.2%  36.0%"
      ]
     },
     "execution_count": 13,
     "metadata": {},
     "output_type": "execute_result"
    }
   ],
   "source": [
    "# plot stacked bar chart by TRANSPOSE\n",
    "# columns -> x-ticks\n",
    "# index -> legend\n",
    "\n",
    "pd.crosstab(index=politics, columns=diet, \n",
    "            normalize='columns', \n",
    "            margins=True\n",
    "           ).mul(100).round(1).astype(str) + '%'  # pro-5(a)"
   ]
  },
  {
   "cell_type": "code",
   "execution_count": 14,
   "id": "e8f27f91",
   "metadata": {},
   "outputs": [
    {
     "data": {
      "image/png": "[encoded data removed]",
      "text/plain": [
       "<Figure size 640x480 with 1 Axes>"
      ]
     },
     "metadata": {},
     "output_type": "display_data"
    }
   ],
   "source": [
    "# transpose the data, so that each row is plotted as a group of bars\n",
    "# and different rows are stacked to 100%\n",
    "\n",
    "pd.crosstab(index=politics, columns=diet, \n",
    "            normalize='columns', \n",
    "           ).mul(100).T.plot(kind='bar', stacked=True);"
   ]
  },
  {
   "cell_type": "code",
   "execution_count": 15,
   "id": "0cbbe374",
   "metadata": {},
   "outputs": [
    {
     "data": {
      "text/html": [
       "<div>\n",
       "<style scoped>\n",
       "    .dataframe tbody tr th:only-of-type {\n",
       "        vertical-align: middle;\n",
       "    }\n",
       "\n",
       "    .dataframe tbody tr th {\n",
       "        vertical-align: top;\n",
       "    }\n",
       "\n",
       "    .dataframe thead th {\n",
       "        text-align: right;\n",
       "    }\n",
       "</style>\n",
       "<table border=\"1\" class=\"dataframe\">\n",
       "  <thead>\n",
       "    <tr style=\"text-align: right;\">\n",
       "      <th>Politics.3Cat</th>\n",
       "      <th>Conservative</th>\n",
       "      <th>Liberal</th>\n",
       "      <th>Moderate</th>\n",
       "    </tr>\n",
       "    <tr>\n",
       "      <th>Diet</th>\n",
       "      <th></th>\n",
       "      <th></th>\n",
       "      <th></th>\n",
       "    </tr>\n",
       "  </thead>\n",
       "  <tbody>\n",
       "    <tr>\n",
       "      <th>Carnivore</th>\n",
       "      <td>25.6%</td>\n",
       "      <td>33.3%</td>\n",
       "      <td>41.0%</td>\n",
       "    </tr>\n",
       "    <tr>\n",
       "      <th>Omnivore</th>\n",
       "      <td>8.0%</td>\n",
       "      <td>56.2%</td>\n",
       "      <td>35.8%</td>\n",
       "    </tr>\n",
       "    <tr>\n",
       "      <th>Vegetarian</th>\n",
       "      <td>0.0%</td>\n",
       "      <td>70.8%</td>\n",
       "      <td>29.2%</td>\n",
       "    </tr>\n",
       "    <tr>\n",
       "      <th>All</th>\n",
       "      <td>9.7%</td>\n",
       "      <td>54.3%</td>\n",
       "      <td>36.0%</td>\n",
       "    </tr>\n",
       "  </tbody>\n",
       "</table>\n",
       "</div>"
      ],
      "text/plain": [
       "Politics.3Cat Conservative Liberal Moderate\n",
       "Diet                                       \n",
       "Carnivore            25.6%   33.3%    41.0%\n",
       "Omnivore              8.0%   56.2%    35.8%\n",
       "Vegetarian            0.0%   70.8%    29.2%\n",
       "All                   9.7%   54.3%    36.0%"
      ]
     },
     "execution_count": 15,
     "metadata": {},
     "output_type": "execute_result"
    }
   ],
   "source": [
    "# plot stacked bar chart by NORMALIZing along the INDEX dimension\n",
    "# columns -> legend\n",
    "# index -> x-ticks\n",
    "pd.crosstab(index=diet, columns=politics, \n",
    "            normalize='index', \n",
    "            margins=True\n",
    "           ).mul(100).round(1).astype(str) + '%'"
   ]
  },
  {
   "cell_type": "code",
   "execution_count": 16,
   "id": "884ee950",
   "metadata": {},
   "outputs": [
    {
     "data": {
      "image/png": "[encoded data removed]",
      "text/plain": [
       "<Figure size 640x480 with 1 Axes>"
      ]
     },
     "metadata": {},
     "output_type": "display_data"
    }
   ],
   "source": [
    "pd.crosstab(index=diet, columns=politics, \n",
    "            normalize='index').mul(100).plot(kind='bar', stacked=True);  # pro-5(a)"
   ]
  },
  {
   "cell_type": "markdown",
   "id": "0bfaa348",
   "metadata": {},
   "source": [
    "**Answer: 5(a)**\n",
    "\n",
    "The plot shows conditinoal probabilities. The distribution of politic, is conditional on the diet preference."
   ]
  },
  {
   "cell_type": "markdown",
   "id": "eb80f3c4",
   "metadata": {},
   "source": [
    "**Answer: 5(b)**\n",
    "\n",
    "**TODO**\n",
    "Yes, I think the differences in here are real. The plot display a conditional distribution on respondents' diet preference and their political alignment. A person with vegetarian, and he may most likely a liberal. A person has the conservative alignment, and he may have carnivore preference. \n",
    "\n"
   ]
  },
  {
   "cell_type": "code",
   "execution_count": 19,
   "id": "6d0a4823",
   "metadata": {},
   "outputs": [
    {
     "data": {
      "text/html": [
       "<div>\n",
       "<style scoped>\n",
       "    .dataframe tbody tr th:only-of-type {\n",
       "        vertical-align: middle;\n",
       "    }\n",
       "\n",
       "    .dataframe tbody tr th {\n",
       "        vertical-align: top;\n",
       "    }\n",
       "\n",
       "    .dataframe thead th {\n",
       "        text-align: right;\n",
       "    }\n",
       "</style>\n",
       "<table border=\"1\" class=\"dataframe\">\n",
       "  <thead>\n",
       "    <tr style=\"text-align: right;\">\n",
       "      <th>Politics.3Cat</th>\n",
       "      <th>Conservative</th>\n",
       "      <th>Liberal</th>\n",
       "      <th>Moderate</th>\n",
       "      <th>All</th>\n",
       "    </tr>\n",
       "    <tr>\n",
       "      <th>Diet</th>\n",
       "      <th></th>\n",
       "      <th></th>\n",
       "      <th></th>\n",
       "      <th></th>\n",
       "    </tr>\n",
       "  </thead>\n",
       "  <tbody>\n",
       "    <tr>\n",
       "      <th>Carnivore</th>\n",
       "      <td>35.7%</td>\n",
       "      <td>8.3%</td>\n",
       "      <td>15.4%</td>\n",
       "      <td>13.5%</td>\n",
       "    </tr>\n",
       "    <tr>\n",
       "      <th>Omnivore</th>\n",
       "      <td>64.3%</td>\n",
       "      <td>80.9%</td>\n",
       "      <td>77.9%</td>\n",
       "      <td>78.2%</td>\n",
       "    </tr>\n",
       "    <tr>\n",
       "      <th>Vegetarian</th>\n",
       "      <td>0.0%</td>\n",
       "      <td>10.8%</td>\n",
       "      <td>6.7%</td>\n",
       "      <td>8.3%</td>\n",
       "    </tr>\n",
       "  </tbody>\n",
       "</table>\n",
       "</div>"
      ],
      "text/plain": [
       "Politics.3Cat Conservative Liberal Moderate    All\n",
       "Diet                                              \n",
       "Carnivore            35.7%    8.3%    15.4%  13.5%\n",
       "Omnivore             64.3%   80.9%    77.9%  78.2%\n",
       "Vegetarian            0.0%   10.8%     6.7%   8.3%"
      ]
     },
     "execution_count": 19,
     "metadata": {},
     "output_type": "execute_result"
    }
   ],
   "source": [
    "pd.crosstab(index=diet, columns=politics, normalize='columns',\n",
    "           margins=True).mul(100).round(1).astype(str) + '%'"
   ]
  },
  {
   "cell_type": "code",
   "execution_count": 20,
   "id": "b1b34373",
   "metadata": {},
   "outputs": [
    {
     "data": {
      "image/png": "[encoded data removed]",
      "text/plain": [
       "<Figure size 640x480 with 1 Axes>"
      ]
     },
     "metadata": {},
     "output_type": "display_data"
    }
   ],
   "source": [
    "pd.crosstab(index=politics, columns=diet,\n",
    "           normalize='index').mul(100).plot(kind='bar', stacked=True);  # pro-6(a)"
   ]
  },
  {
   "cell_type": "markdown",
   "id": "fde8992a",
   "metadata": {},
   "source": [
    "**6(a)**\n",
    "\n",
    "The stacked bars above show a conditional probability.\n",
    "For example, the first bar shows, given a student being conservative, it is unlikely to be vegetarian."
   ]
  },
  {
   "cell_type": "code",
   "execution_count": 22,
   "id": "2e179e35",
   "metadata": {},
   "outputs": [
    {
     "data": {
      "text/html": [
       "<div>\n",
       "<style scoped>\n",
       "    .dataframe tbody tr th:only-of-type {\n",
       "        vertical-align: middle;\n",
       "    }\n",
       "\n",
       "    .dataframe tbody tr th {\n",
       "        vertical-align: top;\n",
       "    }\n",
       "\n",
       "    .dataframe thead th {\n",
       "        text-align: right;\n",
       "    }\n",
       "</style>\n",
       "<table border=\"1\" class=\"dataframe\">\n",
       "  <thead>\n",
       "    <tr style=\"text-align: right;\">\n",
       "      <th></th>\n",
       "      <th>Gender</th>\n",
       "      <th>Do.you.believe.in.God</th>\n",
       "      <th>Pick.Random.Number</th>\n",
       "      <th>Height</th>\n",
       "      <th>Hand</th>\n",
       "      <th>Dates</th>\n",
       "      <th>FB.Friends</th>\n",
       "      <th>Weight</th>\n",
       "      <th>Drinks</th>\n",
       "      <th>Varsity</th>\n",
       "      <th>Songs</th>\n",
       "      <th>Diet</th>\n",
       "      <th>Politics.9Cat</th>\n",
       "      <th>Politics.numeric</th>\n",
       "      <th>Politics.3Cat</th>\n",
       "    </tr>\n",
       "  </thead>\n",
       "  <tbody>\n",
       "    <tr>\n",
       "      <th>0</th>\n",
       "      <td>Female</td>\n",
       "      <td>Not sure</td>\n",
       "      <td>6</td>\n",
       "      <td>71.0</td>\n",
       "      <td>Predominantly Left Handed</td>\n",
       "      <td>1.0</td>\n",
       "      <td>314.0</td>\n",
       "      <td>138.0</td>\n",
       "      <td>0</td>\n",
       "      <td>Yes</td>\n",
       "      <td>1564.0</td>\n",
       "      <td>Omnivore</td>\n",
       "      <td>2. Very Liberal</td>\n",
       "      <td>2.0</td>\n",
       "      <td>Liberal</td>\n",
       "    </tr>\n",
       "    <tr>\n",
       "      <th>1</th>\n",
       "      <td>Male</td>\n",
       "      <td>No</td>\n",
       "      <td>2</td>\n",
       "      <td>66.0</td>\n",
       "      <td>Predominantly Right Handed</td>\n",
       "      <td>2.0</td>\n",
       "      <td>1228.0</td>\n",
       "      <td>130.0</td>\n",
       "      <td>0</td>\n",
       "      <td>No</td>\n",
       "      <td>97.0</td>\n",
       "      <td>Vegetarian</td>\n",
       "      <td>2. Very Liberal</td>\n",
       "      <td>2.0</td>\n",
       "      <td>Liberal</td>\n",
       "    </tr>\n",
       "    <tr>\n",
       "      <th>2</th>\n",
       "      <td>Male</td>\n",
       "      <td>Yes</td>\n",
       "      <td>9</td>\n",
       "      <td>73.0</td>\n",
       "      <td>Predominantly Right Handed</td>\n",
       "      <td>1.0</td>\n",
       "      <td>1189.0</td>\n",
       "      <td>183.0</td>\n",
       "      <td>0</td>\n",
       "      <td>Yes</td>\n",
       "      <td>1397.0</td>\n",
       "      <td>Carnivore</td>\n",
       "      <td>7. Moderatly Conservative</td>\n",
       "      <td>7.0</td>\n",
       "      <td>Conservative</td>\n",
       "    </tr>\n",
       "    <tr>\n",
       "      <th>3</th>\n",
       "      <td>Female</td>\n",
       "      <td>No</td>\n",
       "      <td>6</td>\n",
       "      <td>67.0</td>\n",
       "      <td>Predominantly Right Handed</td>\n",
       "      <td>1.0</td>\n",
       "      <td>0.0</td>\n",
       "      <td>125.0</td>\n",
       "      <td>0</td>\n",
       "      <td>No</td>\n",
       "      <td>2241.0</td>\n",
       "      <td>Omnivore</td>\n",
       "      <td>3. Moderately Liberal</td>\n",
       "      <td>3.0</td>\n",
       "      <td>Liberal</td>\n",
       "    </tr>\n",
       "    <tr>\n",
       "      <th>4</th>\n",
       "      <td>Male</td>\n",
       "      <td>Yes</td>\n",
       "      <td>7</td>\n",
       "      <td>71.0</td>\n",
       "      <td>Predominantly Right Handed</td>\n",
       "      <td>0.0</td>\n",
       "      <td>709.0</td>\n",
       "      <td>245.0</td>\n",
       "      <td>0</td>\n",
       "      <td>No</td>\n",
       "      <td>1299.0</td>\n",
       "      <td>Omnivore</td>\n",
       "      <td>5. Independent/Middle of Road</td>\n",
       "      <td>5.0</td>\n",
       "      <td>Moderate</td>\n",
       "    </tr>\n",
       "  </tbody>\n",
       "</table>\n",
       "</div>"
      ],
      "text/plain": [
       "   Gender Do.you.believe.in.God  Pick.Random.Number  Height  \\\n",
       "0  Female              Not sure                   6    71.0   \n",
       "1    Male                    No                   2    66.0   \n",
       "2    Male                   Yes                   9    73.0   \n",
       "3  Female                    No                   6    67.0   \n",
       "4    Male                   Yes                   7    71.0   \n",
       "\n",
       "                         Hand  Dates  FB.Friends  Weight  Drinks Varsity  \\\n",
       "0   Predominantly Left Handed    1.0       314.0   138.0       0     Yes   \n",
       "1  Predominantly Right Handed    2.0      1228.0   130.0       0      No   \n",
       "2  Predominantly Right Handed    1.0      1189.0   183.0       0     Yes   \n",
       "3  Predominantly Right Handed    1.0         0.0   125.0       0      No   \n",
       "4  Predominantly Right Handed    0.0       709.0   245.0       0      No   \n",
       "\n",
       "    Songs        Diet                  Politics.9Cat  Politics.numeric  \\\n",
       "0  1564.0    Omnivore                2. Very Liberal               2.0   \n",
       "1    97.0  Vegetarian                2. Very Liberal               2.0   \n",
       "2  1397.0   Carnivore      7. Moderatly Conservative               7.0   \n",
       "3  2241.0    Omnivore          3. Moderately Liberal               3.0   \n",
       "4  1299.0    Omnivore  5. Independent/Middle of Road               5.0   \n",
       "\n",
       "  Politics.3Cat  \n",
       "0       Liberal  \n",
       "1       Liberal  \n",
       "2  Conservative  \n",
       "3       Liberal  \n",
       "4      Moderate  "
      ]
     },
     "execution_count": 22,
     "metadata": {},
     "output_type": "execute_result"
    }
   ],
   "source": [
    "student_survey.head()"
   ]
  },
  {
   "cell_type": "code",
   "execution_count": 23,
   "id": "0833e146",
   "metadata": {},
   "outputs": [],
   "source": [
    "men = student_survey[student_survey.Gender=='Male']\n",
    "women = student_survey[student_survey.Gender=='Female']"
   ]
  },
  {
   "cell_type": "code",
   "execution_count": 24,
   "id": "85342ab8",
   "metadata": {},
   "outputs": [
    {
     "data": {
      "text/html": [
       "<div>\n",
       "<style scoped>\n",
       "    .dataframe tbody tr th:only-of-type {\n",
       "        vertical-align: middle;\n",
       "    }\n",
       "\n",
       "    .dataframe tbody tr th {\n",
       "        vertical-align: top;\n",
       "    }\n",
       "\n",
       "    .dataframe thead th {\n",
       "        text-align: right;\n",
       "    }\n",
       "</style>\n",
       "<table border=\"1\" class=\"dataframe\">\n",
       "  <thead>\n",
       "    <tr style=\"text-align: right;\">\n",
       "      <th>Diet</th>\n",
       "      <th>Carnivore</th>\n",
       "      <th>Omnivore</th>\n",
       "      <th>Vegetarian</th>\n",
       "      <th>All</th>\n",
       "    </tr>\n",
       "    <tr>\n",
       "      <th>Politics.3Cat</th>\n",
       "      <th></th>\n",
       "      <th></th>\n",
       "      <th></th>\n",
       "      <th></th>\n",
       "    </tr>\n",
       "  </thead>\n",
       "  <tbody>\n",
       "    <tr>\n",
       "      <th>Conservative</th>\n",
       "      <td>9</td>\n",
       "      <td>14</td>\n",
       "      <td>0</td>\n",
       "      <td>23</td>\n",
       "    </tr>\n",
       "    <tr>\n",
       "      <th>Liberal</th>\n",
       "      <td>9</td>\n",
       "      <td>74</td>\n",
       "      <td>5</td>\n",
       "      <td>88</td>\n",
       "    </tr>\n",
       "    <tr>\n",
       "      <th>Moderate</th>\n",
       "      <td>12</td>\n",
       "      <td>54</td>\n",
       "      <td>1</td>\n",
       "      <td>67</td>\n",
       "    </tr>\n",
       "    <tr>\n",
       "      <th>All</th>\n",
       "      <td>30</td>\n",
       "      <td>142</td>\n",
       "      <td>6</td>\n",
       "      <td>178</td>\n",
       "    </tr>\n",
       "  </tbody>\n",
       "</table>\n",
       "</div>"
      ],
      "text/plain": [
       "Diet           Carnivore  Omnivore  Vegetarian  All\n",
       "Politics.3Cat                                      \n",
       "Conservative           9        14           0   23\n",
       "Liberal                9        74           5   88\n",
       "Moderate              12        54           1   67\n",
       "All                   30       142           6  178"
      ]
     },
     "execution_count": 24,
     "metadata": {},
     "output_type": "execute_result"
    }
   ],
   "source": [
    "pd.crosstab(index=men['Politics.3Cat'], columns=men['Diet'], margins=True)"
   ]
  },
  {
   "cell_type": "code",
   "execution_count": 25,
   "id": "5ca6e05a",
   "metadata": {},
   "outputs": [
    {
     "data": {
      "text/html": [
       "<div>\n",
       "<style scoped>\n",
       "    .dataframe tbody tr th:only-of-type {\n",
       "        vertical-align: middle;\n",
       "    }\n",
       "\n",
       "    .dataframe tbody tr th {\n",
       "        vertical-align: top;\n",
       "    }\n",
       "\n",
       "    .dataframe thead th {\n",
       "        text-align: right;\n",
       "    }\n",
       "</style>\n",
       "<table border=\"1\" class=\"dataframe\">\n",
       "  <thead>\n",
       "    <tr style=\"text-align: right;\">\n",
       "      <th>Diet</th>\n",
       "      <th>Carnivore</th>\n",
       "      <th>Omnivore</th>\n",
       "      <th>Vegetarian</th>\n",
       "      <th>All</th>\n",
       "    </tr>\n",
       "    <tr>\n",
       "      <th>Politics.3Cat</th>\n",
       "      <th></th>\n",
       "      <th></th>\n",
       "      <th></th>\n",
       "      <th></th>\n",
       "    </tr>\n",
       "  </thead>\n",
       "  <tbody>\n",
       "    <tr>\n",
       "      <th>Conservative</th>\n",
       "      <td>1</td>\n",
       "      <td>4</td>\n",
       "      <td>0</td>\n",
       "      <td>5</td>\n",
       "    </tr>\n",
       "    <tr>\n",
       "      <th>Liberal</th>\n",
       "      <td>4</td>\n",
       "      <td>53</td>\n",
       "      <td>12</td>\n",
       "      <td>69</td>\n",
       "    </tr>\n",
       "    <tr>\n",
       "      <th>Moderate</th>\n",
       "      <td>4</td>\n",
       "      <td>27</td>\n",
       "      <td>6</td>\n",
       "      <td>37</td>\n",
       "    </tr>\n",
       "    <tr>\n",
       "      <th>All</th>\n",
       "      <td>9</td>\n",
       "      <td>84</td>\n",
       "      <td>18</td>\n",
       "      <td>111</td>\n",
       "    </tr>\n",
       "  </tbody>\n",
       "</table>\n",
       "</div>"
      ],
      "text/plain": [
       "Diet           Carnivore  Omnivore  Vegetarian  All\n",
       "Politics.3Cat                                      \n",
       "Conservative           1         4           0    5\n",
       "Liberal                4        53          12   69\n",
       "Moderate               4        27           6   37\n",
       "All                    9        84          18  111"
      ]
     },
     "execution_count": 25,
     "metadata": {},
     "output_type": "execute_result"
    }
   ],
   "source": [
    "pd.crosstab(index=women['Politics.3Cat'], columns=women['Diet'], margins=True)"
   ]
  },
  {
   "cell_type": "code",
   "execution_count": 26,
   "id": "cce07e56",
   "metadata": {},
   "outputs": [
    {
     "data": {
      "text/html": [
       "<div>\n",
       "<style scoped>\n",
       "    .dataframe tbody tr th:only-of-type {\n",
       "        vertical-align: middle;\n",
       "    }\n",
       "\n",
       "    .dataframe tbody tr th {\n",
       "        vertical-align: top;\n",
       "    }\n",
       "\n",
       "    .dataframe thead th {\n",
       "        text-align: right;\n",
       "    }\n",
       "</style>\n",
       "<table border=\"1\" class=\"dataframe\">\n",
       "  <thead>\n",
       "    <tr style=\"text-align: right;\">\n",
       "      <th>Diet</th>\n",
       "      <th>Carnivore</th>\n",
       "      <th>Omnivore</th>\n",
       "      <th>Vegetarian</th>\n",
       "      <th>All</th>\n",
       "    </tr>\n",
       "    <tr>\n",
       "      <th>Politics.3Cat</th>\n",
       "      <th></th>\n",
       "      <th></th>\n",
       "      <th></th>\n",
       "      <th></th>\n",
       "    </tr>\n",
       "  </thead>\n",
       "  <tbody>\n",
       "    <tr>\n",
       "      <th>Conservative</th>\n",
       "      <td>5.06%</td>\n",
       "      <td>7.87%</td>\n",
       "      <td>0.0%</td>\n",
       "      <td>12.92%</td>\n",
       "    </tr>\n",
       "    <tr>\n",
       "      <th>Liberal</th>\n",
       "      <td>5.06%</td>\n",
       "      <td>41.57%</td>\n",
       "      <td>2.81%</td>\n",
       "      <td>49.44%</td>\n",
       "    </tr>\n",
       "    <tr>\n",
       "      <th>Moderate</th>\n",
       "      <td>6.74%</td>\n",
       "      <td>30.34%</td>\n",
       "      <td>0.56%</td>\n",
       "      <td>37.64%</td>\n",
       "    </tr>\n",
       "    <tr>\n",
       "      <th>All</th>\n",
       "      <td>16.85%</td>\n",
       "      <td>79.78%</td>\n",
       "      <td>3.37%</td>\n",
       "      <td>100.0%</td>\n",
       "    </tr>\n",
       "  </tbody>\n",
       "</table>\n",
       "</div>"
      ],
      "text/plain": [
       "Diet          Carnivore Omnivore Vegetarian     All\n",
       "Politics.3Cat                                      \n",
       "Conservative      5.06%    7.87%       0.0%  12.92%\n",
       "Liberal           5.06%   41.57%      2.81%  49.44%\n",
       "Moderate          6.74%   30.34%      0.56%  37.64%\n",
       "All              16.85%   79.78%      3.37%  100.0%"
      ]
     },
     "execution_count": 26,
     "metadata": {},
     "output_type": "execute_result"
    }
   ],
   "source": [
    "pd.crosstab(index=men['Politics.3Cat'], columns=men['Diet'], \n",
    "            margins=True, normalize='all').mul(100).round(2).astype(str) + '%'"
   ]
  },
  {
   "cell_type": "code",
   "execution_count": 28,
   "id": "998aae4f",
   "metadata": {},
   "outputs": [
    {
     "name": "stdout",
     "output_type": "stream",
     "text": [
      "(a1) Answer: \n",
      "Men has a probability of  5.06% being Conservative Carnivore.\n"
     ]
    }
   ],
   "source": [
    "print(f'(a1) Answer: \\nMen has a probability of {9/178*100: .2f}% being Conservative Carnivore.')  # pro-9(a)"
   ]
  },
  {
   "cell_type": "code",
   "execution_count": 27,
   "id": "84bffcaf",
   "metadata": {},
   "outputs": [
    {
     "data": {
      "text/html": [
       "<div>\n",
       "<style scoped>\n",
       "    .dataframe tbody tr th:only-of-type {\n",
       "        vertical-align: middle;\n",
       "    }\n",
       "\n",
       "    .dataframe tbody tr th {\n",
       "        vertical-align: top;\n",
       "    }\n",
       "\n",
       "    .dataframe thead th {\n",
       "        text-align: right;\n",
       "    }\n",
       "</style>\n",
       "<table border=\"1\" class=\"dataframe\">\n",
       "  <thead>\n",
       "    <tr style=\"text-align: right;\">\n",
       "      <th>Diet</th>\n",
       "      <th>Carnivore</th>\n",
       "      <th>Omnivore</th>\n",
       "      <th>Vegetarian</th>\n",
       "      <th>All</th>\n",
       "    </tr>\n",
       "    <tr>\n",
       "      <th>Politics.3Cat</th>\n",
       "      <th></th>\n",
       "      <th></th>\n",
       "      <th></th>\n",
       "      <th></th>\n",
       "    </tr>\n",
       "  </thead>\n",
       "  <tbody>\n",
       "    <tr>\n",
       "      <th>Conservative</th>\n",
       "      <td>0.9%</td>\n",
       "      <td>3.6%</td>\n",
       "      <td>0.0%</td>\n",
       "      <td>4.5%</td>\n",
       "    </tr>\n",
       "    <tr>\n",
       "      <th>Liberal</th>\n",
       "      <td>3.6%</td>\n",
       "      <td>47.75%</td>\n",
       "      <td>10.81%</td>\n",
       "      <td>62.16%</td>\n",
       "    </tr>\n",
       "    <tr>\n",
       "      <th>Moderate</th>\n",
       "      <td>3.6%</td>\n",
       "      <td>24.32%</td>\n",
       "      <td>5.41%</td>\n",
       "      <td>33.33%</td>\n",
       "    </tr>\n",
       "    <tr>\n",
       "      <th>All</th>\n",
       "      <td>8.11%</td>\n",
       "      <td>75.68%</td>\n",
       "      <td>16.22%</td>\n",
       "      <td>100.0%</td>\n",
       "    </tr>\n",
       "  </tbody>\n",
       "</table>\n",
       "</div>"
      ],
      "text/plain": [
       "Diet          Carnivore Omnivore Vegetarian     All\n",
       "Politics.3Cat                                      \n",
       "Conservative       0.9%     3.6%       0.0%    4.5%\n",
       "Liberal            3.6%   47.75%     10.81%  62.16%\n",
       "Moderate           3.6%   24.32%      5.41%  33.33%\n",
       "All               8.11%   75.68%     16.22%  100.0%"
      ]
     },
     "execution_count": 27,
     "metadata": {},
     "output_type": "execute_result"
    }
   ],
   "source": [
    "pd.crosstab(index=women['Politics.3Cat'], columns=women['Diet'], \n",
    "            margins=True, normalize='all').mul(100).round(2).astype(str) + '%'"
   ]
  },
  {
   "cell_type": "code",
   "execution_count": 29,
   "id": "0bfce963",
   "metadata": {},
   "outputs": [
    {
     "name": "stdout",
     "output_type": "stream",
     "text": [
      "(a2) Anser: \n",
      "Women has a probability of  0.90% being Conservative Carnivore.\n"
     ]
    }
   ],
   "source": [
    "print(f'(a2) Anser: \\nWomen has a probability of {1/111*100: .2f}% being Conservative Carnivore.')  # pro-9(a)"
   ]
  },
  {
   "cell_type": "code",
   "execution_count": 30,
   "id": "2471a2af",
   "metadata": {},
   "outputs": [
    {
     "name": "stdout",
     "output_type": "stream",
     "text": [
      "Men is more likely than women to be Conservitive Carnivore.\n"
     ]
    }
   ],
   "source": [
    "print(f'Men is more likely than women to be Conservitive Carnivore.')  # pro-9(a) "
   ]
  },
  {
   "cell_type": "code",
   "execution_count": 31,
   "id": "d1a00cea",
   "metadata": {},
   "outputs": [
    {
     "name": "stdout",
     "output_type": "stream",
     "text": [
      "(b1) Answer: \n",
      "Men has a probability of  2.81% being Liberal Vegetarians.\n"
     ]
    }
   ],
   "source": [
    "print(f'(b1) Answer: \\nMen has a probability of {5/178*100: .2f}% being Liberal Vegetarians.')  # pro-9(b)"
   ]
  },
  {
   "cell_type": "code",
   "execution_count": 32,
   "id": "12181d05",
   "metadata": {},
   "outputs": [
    {
     "name": "stdout",
     "output_type": "stream",
     "text": [
      "(b2) Anser: \n",
      "Women has a probability of  10.81% being Liberal Vegatarians.\n"
     ]
    }
   ],
   "source": [
    "print(f'(b2) Anser: \\nWomen has a probability of {12/111*100: .2f}% being Liberal Vegatarians.')  # pro-9(b)"
   ]
  },
  {
   "cell_type": "code",
   "execution_count": 33,
   "id": "2ff9ee64",
   "metadata": {},
   "outputs": [
    {
     "name": "stdout",
     "output_type": "stream",
     "text": [
      "Women is more likely than men to be Liberal Vegatarians.\n"
     ]
    }
   ],
   "source": [
    "print(f'Women is more likely than men to be Liberal Vegatarians.')  # pro-9(b)"
   ]
  },
  {
   "cell_type": "markdown",
   "id": "80a8c373",
   "metadata": {},
   "source": [
    "# pro-9(b)\n",
    "Men's table: there are 5 men are liberal vegetarian. Women's table: there are 12 women are liberal vegetarian. A liberal vegetarian is more likely to be a woman."
   ]
  },
  {
   "cell_type": "code",
   "execution_count": 34,
   "id": "ee0f0e94",
   "metadata": {},
   "outputs": [],
   "source": [
    "gender = student_survey[\"Gender\"]"
   ]
  },
  {
   "cell_type": "code",
   "execution_count": 37,
   "id": "f575fd63",
   "metadata": {},
   "outputs": [
    {
     "data": {
      "text/html": [
       "<div>\n",
       "<style scoped>\n",
       "    .dataframe tbody tr th:only-of-type {\n",
       "        vertical-align: middle;\n",
       "    }\n",
       "\n",
       "    .dataframe tbody tr th {\n",
       "        vertical-align: top;\n",
       "    }\n",
       "\n",
       "    .dataframe thead th {\n",
       "        text-align: right;\n",
       "    }\n",
       "</style>\n",
       "<table border=\"1\" class=\"dataframe\">\n",
       "  <thead>\n",
       "    <tr style=\"text-align: right;\">\n",
       "      <th>Gender</th>\n",
       "      <th>Female</th>\n",
       "      <th>Male</th>\n",
       "      <th>All</th>\n",
       "    </tr>\n",
       "    <tr>\n",
       "      <th>Politics.3Cat</th>\n",
       "      <th></th>\n",
       "      <th></th>\n",
       "      <th></th>\n",
       "    </tr>\n",
       "  </thead>\n",
       "  <tbody>\n",
       "    <tr>\n",
       "      <th>Conservative</th>\n",
       "      <td>4.3</td>\n",
       "      <td>12.8</td>\n",
       "      <td>9.5</td>\n",
       "    </tr>\n",
       "    <tr>\n",
       "      <th>Liberal</th>\n",
       "      <td>63.8</td>\n",
       "      <td>49.2</td>\n",
       "      <td>54.9</td>\n",
       "    </tr>\n",
       "    <tr>\n",
       "      <th>Moderate</th>\n",
       "      <td>31.9</td>\n",
       "      <td>38.0</td>\n",
       "      <td>35.6</td>\n",
       "    </tr>\n",
       "  </tbody>\n",
       "</table>\n",
       "</div>"
      ],
      "text/plain": [
       "Gender         Female  Male   All\n",
       "Politics.3Cat                    \n",
       "Conservative      4.3  12.8   9.5\n",
       "Liberal          63.8  49.2  54.9\n",
       "Moderate         31.9  38.0  35.6"
      ]
     },
     "execution_count": 37,
     "metadata": {},
     "output_type": "execute_result"
    }
   ],
   "source": [
    "pd.crosstab(index=politics, columns=gender, \n",
    "            margins=True, normalize='columns').mul(100).round(1)  # pro-25(a)"
   ]
  },
  {
   "cell_type": "code",
   "execution_count": 40,
   "id": "b94c0735",
   "metadata": {},
   "outputs": [
    {
     "data": {
      "image/png": "[encoded data removed]",
      "text/plain": [
       "<Figure size 640x480 with 1 Axes>"
      ]
     },
     "metadata": {},
     "output_type": "display_data"
    }
   ],
   "source": [
    "pd.crosstab(index=politics, columns=gender, \n",
    "            margins=False, normalize='columns').mul(100).T.plot(kind='bar', stacked=True);"
   ]
  },
  {
   "cell_type": "code",
   "execution_count": 36,
   "id": "fd2c5e9e",
   "metadata": {},
   "outputs": [
    {
     "name": "stdout",
     "output_type": "stream",
     "text": [
      "The top is devide by three categories: conservative, liberal and moderate.\n",
      "It is clear that in each category, there are more men than women by viewing from the bottom.\n",
      "The above table shows that men have 179, and women have 116. Therefore, there are more men than women in the survey.\n"
     ]
    }
   ],
   "source": [
    "print ('The top is devide by three categories: conservative, liberal and moderate.')\n",
    "print ('It is clear that in each category, there are more men than women by viewing from the bottom.')\n",
    "print(f'The above table shows that men have 179, and women have 116. Therefore, there are more men than women in the survey.')"
   ]
  },
  {
   "cell_type": "code",
   "execution_count": null,
   "id": "9f2f63f7",
   "metadata": {},
   "outputs": [],
   "source": [
    "pd.crosstab(index=politics, columns=gender, \n",
    "            normalize='columns', margins=True).mul(100).round(1).astype(str) + '%'  # pro-25(b)"
   ]
  },
  {
   "cell_type": "code",
   "execution_count": null,
   "id": "3cb84e58",
   "metadata": {},
   "outputs": [],
   "source": [
    "print('From the mosaic plot, it shows women are more likely to be literal and moderate. It only have very small amount of women is conservative')\n",
    "print('')"
   ]
  },
  {
   "cell_type": "code",
   "execution_count": null,
   "id": "8c55f225",
   "metadata": {},
   "outputs": [],
   "source": [
    "pd.crosstab(index=politics, columns=diet, margins=True)  # pro-25(c)"
   ]
  },
  {
   "cell_type": "code",
   "execution_count": null,
   "id": "a458188b",
   "metadata": {},
   "outputs": [],
   "source": [
    "pd.crosstab(index=politics, columns=diet, normalize='columns', \n",
    "            margins=True).mul(100).round(1).astype(str) + '%'  # pro-25(c)"
   ]
  },
  {
   "cell_type": "code",
   "execution_count": null,
   "id": "b282cd36",
   "metadata": {},
   "outputs": [],
   "source": [
    "pd.crosstab(index=men['Politics.3Cat'], columns=men['Diet'], margins=True)  # pro-25(d)"
   ]
  },
  {
   "cell_type": "code",
   "execution_count": null,
   "id": "4b0ff7a3",
   "metadata": {},
   "outputs": [],
   "source": [
    "pd.crosstab(index=men['Politics.3Cat'], columns=men['Diet'], normalize='columns', \n",
    "            margins=True).mul(100).round(1).astype(str) + '%'  # pro-25(d)"
   ]
  },
  {
   "cell_type": "code",
   "execution_count": null,
   "id": "5b7b96d7",
   "metadata": {},
   "outputs": [],
   "source": [
    "pd.crosstab(index=women['Politics.3Cat'], columns=women['Diet'], margins=True)  # pro-25(d)"
   ]
  },
  {
   "cell_type": "code",
   "execution_count": null,
   "id": "b283dc00",
   "metadata": {},
   "outputs": [],
   "source": [
    "pd.crosstab(index=women['Politics.3Cat'], \n",
    "            columns=women['Diet'], normalize='columns',\n",
    "            margins=True).mul(100).round(1).astype(str) + '%'  # pro-25(d)"
   ]
  },
  {
   "cell_type": "code",
   "execution_count": null,
   "id": "45c0bc42",
   "metadata": {},
   "outputs": [],
   "source": [
    "pd.crosstab(index=politics, columns=diet, normalize='index', \n",
    "            margins=True).mul(100).round(1).astype(str) + '%'  # pro-47(a)"
   ]
  },
  {
   "cell_type": "code",
   "execution_count": null,
   "id": "73a90a6c",
   "metadata": {},
   "outputs": [],
   "source": [
    "pd.crosstab(index=diet, columns=politics, \n",
    "            normalize='index').mul(100).plot(kind='bar', stacked=True);  # pro-47(a)"
   ]
  },
  {
   "cell_type": "markdown",
   "id": "53935a41",
   "metadata": {},
   "source": [
    "pro-47(a)\n",
    "Yes, I can spot the original data among the 8 new charts. The plot that shows the real data is the one in the upper right. "
   ]
  },
  {
   "cell_type": "markdown",
   "id": "c71bda17",
   "metadata": {},
   "source": [
    "# pro-47 (b)\n",
    "Only the real data can show the truth of the plot. The plots of the simulated data were make up and it cannot show the truth. This supports me to answer to the Exercise 5b that the differences display in the plot are the conditional distribution on the respondents' diet preference and their political alignment."
   ]
  },
  {
   "cell_type": "code",
   "execution_count": null,
   "id": "71a338f4",
   "metadata": {},
   "outputs": [],
   "source": []
  },
  {
   "cell_type": "code",
   "execution_count": null,
   "id": "9ca15006",
   "metadata": {},
   "outputs": [],
   "source": []
  }
 ],
 "metadata": {
  "kernelspec": {
   "display_name": "Python 3 (ipykernel)",
   "language": "python",
   "name": "python3"
  },
  "language_info": {
   "codemirror_mode": {
    "name": "ipython",
    "version": 3
   },
   "file_extension": ".py",
   "mimetype": "text/x-python",
   "name": "python",
   "nbconvert_exporter": "python",
   "pygments_lexer": "ipython3",
   "version": "3.11.5"
  }
 },
 "nbformat": 4,
 "nbformat_minor": 5
}
