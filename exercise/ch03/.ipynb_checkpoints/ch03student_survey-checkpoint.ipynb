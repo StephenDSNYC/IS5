{
 "cells": [
  {
   "cell_type": "code",
   "execution_count": 1,
   "id": "e0cf12be",
   "metadata": {},
   "outputs": [],
   "source": [
    "import numpy as np\n",
    "import matplotlib.pyplot as plt\n",
    "import pandas as pd\n",
    "import statistics as stat"
   ]
  },
  {
   "cell_type": "code",
   "execution_count": 2,
   "id": "8460300d",
   "metadata": {},
   "outputs": [],
   "source": [
    "datafile = \"../../dataset/ch02/student_survey.txt\"\n",
    "student_survey = pd.read_csv(datafile, sep='\\t')"
   ]
  },
  {
   "cell_type": "code",
   "execution_count": 3,
   "id": "a30b6a82",
   "metadata": {
    "scrolled": true
   },
   "outputs": [
    {
     "data": {
      "text/html": [
       "<div>\n",
       "<style scoped>\n",
       "    .dataframe tbody tr th:only-of-type {\n",
       "        vertical-align: middle;\n",
       "    }\n",
       "\n",
       "    .dataframe tbody tr th {\n",
       "        vertical-align: top;\n",
       "    }\n",
       "\n",
       "    .dataframe thead th {\n",
       "        text-align: right;\n",
       "    }\n",
       "</style>\n",
       "<table border=\"1\" class=\"dataframe\">\n",
       "  <thead>\n",
       "    <tr style=\"text-align: right;\">\n",
       "      <th></th>\n",
       "      <th>Gender</th>\n",
       "      <th>Do.you.believe.in.God</th>\n",
       "      <th>Pick.Random.Number</th>\n",
       "      <th>Height</th>\n",
       "      <th>Hand</th>\n",
       "      <th>Dates</th>\n",
       "      <th>FB.Friends</th>\n",
       "      <th>Weight</th>\n",
       "      <th>Drinks</th>\n",
       "      <th>Varsity</th>\n",
       "      <th>Songs</th>\n",
       "      <th>Diet</th>\n",
       "      <th>Politics.9Cat</th>\n",
       "      <th>Politics.numeric</th>\n",
       "      <th>Politics.3Cat</th>\n",
       "    </tr>\n",
       "  </thead>\n",
       "  <tbody>\n",
       "    <tr>\n",
       "      <th>0</th>\n",
       "      <td>Female</td>\n",
       "      <td>Not sure</td>\n",
       "      <td>6</td>\n",
       "      <td>71.0</td>\n",
       "      <td>Predominantly Left Handed</td>\n",
       "      <td>1.0</td>\n",
       "      <td>314.0</td>\n",
       "      <td>138.0</td>\n",
       "      <td>0</td>\n",
       "      <td>Yes</td>\n",
       "      <td>1564.0</td>\n",
       "      <td>Omnivore</td>\n",
       "      <td>2. Very Liberal</td>\n",
       "      <td>2.0</td>\n",
       "      <td>Liberal</td>\n",
       "    </tr>\n",
       "    <tr>\n",
       "      <th>1</th>\n",
       "      <td>Male</td>\n",
       "      <td>No</td>\n",
       "      <td>2</td>\n",
       "      <td>66.0</td>\n",
       "      <td>Predominantly Right Handed</td>\n",
       "      <td>2.0</td>\n",
       "      <td>1228.0</td>\n",
       "      <td>130.0</td>\n",
       "      <td>0</td>\n",
       "      <td>No</td>\n",
       "      <td>97.0</td>\n",
       "      <td>Vegetarian</td>\n",
       "      <td>2. Very Liberal</td>\n",
       "      <td>2.0</td>\n",
       "      <td>Liberal</td>\n",
       "    </tr>\n",
       "    <tr>\n",
       "      <th>2</th>\n",
       "      <td>Male</td>\n",
       "      <td>Yes</td>\n",
       "      <td>9</td>\n",
       "      <td>73.0</td>\n",
       "      <td>Predominantly Right Handed</td>\n",
       "      <td>1.0</td>\n",
       "      <td>1189.0</td>\n",
       "      <td>183.0</td>\n",
       "      <td>0</td>\n",
       "      <td>Yes</td>\n",
       "      <td>1397.0</td>\n",
       "      <td>Carnivore</td>\n",
       "      <td>7. Moderatly Conservative</td>\n",
       "      <td>7.0</td>\n",
       "      <td>Conservative</td>\n",
       "    </tr>\n",
       "    <tr>\n",
       "      <th>3</th>\n",
       "      <td>Female</td>\n",
       "      <td>No</td>\n",
       "      <td>6</td>\n",
       "      <td>67.0</td>\n",
       "      <td>Predominantly Right Handed</td>\n",
       "      <td>1.0</td>\n",
       "      <td>0.0</td>\n",
       "      <td>125.0</td>\n",
       "      <td>0</td>\n",
       "      <td>No</td>\n",
       "      <td>2241.0</td>\n",
       "      <td>Omnivore</td>\n",
       "      <td>3. Moderately Liberal</td>\n",
       "      <td>3.0</td>\n",
       "      <td>Liberal</td>\n",
       "    </tr>\n",
       "    <tr>\n",
       "      <th>4</th>\n",
       "      <td>Male</td>\n",
       "      <td>Yes</td>\n",
       "      <td>7</td>\n",
       "      <td>71.0</td>\n",
       "      <td>Predominantly Right Handed</td>\n",
       "      <td>0.0</td>\n",
       "      <td>709.0</td>\n",
       "      <td>245.0</td>\n",
       "      <td>0</td>\n",
       "      <td>No</td>\n",
       "      <td>1299.0</td>\n",
       "      <td>Omnivore</td>\n",
       "      <td>5. Independent/Middle of Road</td>\n",
       "      <td>5.0</td>\n",
       "      <td>Moderate</td>\n",
       "    </tr>\n",
       "  </tbody>\n",
       "</table>\n",
       "</div>"
      ],
      "text/plain": [
       "   Gender Do.you.believe.in.God  Pick.Random.Number  Height  \\\n",
       "0  Female              Not sure                   6    71.0   \n",
       "1    Male                    No                   2    66.0   \n",
       "2    Male                   Yes                   9    73.0   \n",
       "3  Female                    No                   6    67.0   \n",
       "4    Male                   Yes                   7    71.0   \n",
       "\n",
       "                         Hand  Dates  FB.Friends  Weight  Drinks Varsity  \\\n",
       "0   Predominantly Left Handed    1.0       314.0   138.0       0     Yes   \n",
       "1  Predominantly Right Handed    2.0      1228.0   130.0       0      No   \n",
       "2  Predominantly Right Handed    1.0      1189.0   183.0       0     Yes   \n",
       "3  Predominantly Right Handed    1.0         0.0   125.0       0      No   \n",
       "4  Predominantly Right Handed    0.0       709.0   245.0       0      No   \n",
       "\n",
       "    Songs        Diet                  Politics.9Cat  Politics.numeric  \\\n",
       "0  1564.0    Omnivore                2. Very Liberal               2.0   \n",
       "1    97.0  Vegetarian                2. Very Liberal               2.0   \n",
       "2  1397.0   Carnivore      7. Moderatly Conservative               7.0   \n",
       "3  2241.0    Omnivore          3. Moderately Liberal               3.0   \n",
       "4  1299.0    Omnivore  5. Independent/Middle of Road               5.0   \n",
       "\n",
       "  Politics.3Cat  \n",
       "0       Liberal  \n",
       "1       Liberal  \n",
       "2  Conservative  \n",
       "3       Liberal  \n",
       "4      Moderate  "
      ]
     },
     "execution_count": 3,
     "metadata": {},
     "output_type": "execute_result"
    }
   ],
   "source": [
    "student_survey.head()"
   ]
  },
  {
   "cell_type": "code",
   "execution_count": 4,
   "id": "0b556d9e",
   "metadata": {},
   "outputs": [],
   "source": [
    "diet = student_survey[\"Diet\"]\n",
    "politics = student_survey[\"Politics.3Cat\"]"
   ]
  },
  {
   "cell_type": "code",
   "execution_count": 5,
   "id": "76bd2343",
   "metadata": {},
   "outputs": [
    {
     "name": "stdout",
     "output_type": "stream",
     "text": [
      "Total Number of Rows: 299\n"
     ]
    }
   ],
   "source": [
    "print(f'Total Number of Rows: {len(student_survey)}')"
   ]
  },
  {
   "cell_type": "code",
   "execution_count": 6,
   "id": "5ef300c3",
   "metadata": {},
   "outputs": [
    {
     "name": "stdout",
     "output_type": "stream",
     "text": [
      "6 data missing in Diet\n"
     ]
    }
   ],
   "source": [
    "print(f'{diet.isna().sum()} data missing in Diet')"
   ]
  },
  {
   "cell_type": "code",
   "execution_count": 7,
   "id": "9fcb849a",
   "metadata": {},
   "outputs": [
    {
     "name": "stdout",
     "output_type": "stream",
     "text": [
      "4 data missing in Politics.3Cat\n"
     ]
    }
   ],
   "source": [
    "print(f'{politics.isna().sum()} data missing in Politics.3Cat')"
   ]
  },
  {
   "cell_type": "code",
   "execution_count": 8,
   "id": "d508a7d8",
   "metadata": {},
   "outputs": [
    {
     "data": {
      "text/html": [
       "<div>\n",
       "<style scoped>\n",
       "    .dataframe tbody tr th:only-of-type {\n",
       "        vertical-align: middle;\n",
       "    }\n",
       "\n",
       "    .dataframe tbody tr th {\n",
       "        vertical-align: top;\n",
       "    }\n",
       "\n",
       "    .dataframe thead th {\n",
       "        text-align: right;\n",
       "    }\n",
       "</style>\n",
       "<table border=\"1\" class=\"dataframe\">\n",
       "  <thead>\n",
       "    <tr style=\"text-align: right;\">\n",
       "      <th>Politics.3Cat</th>\n",
       "      <th>Conservative</th>\n",
       "      <th>Liberal</th>\n",
       "      <th>Moderate</th>\n",
       "      <th>All</th>\n",
       "    </tr>\n",
       "    <tr>\n",
       "      <th>Diet</th>\n",
       "      <th></th>\n",
       "      <th></th>\n",
       "      <th></th>\n",
       "      <th></th>\n",
       "    </tr>\n",
       "  </thead>\n",
       "  <tbody>\n",
       "    <tr>\n",
       "      <th>Carnivore</th>\n",
       "      <td>10</td>\n",
       "      <td>13</td>\n",
       "      <td>16</td>\n",
       "      <td>39</td>\n",
       "    </tr>\n",
       "    <tr>\n",
       "      <th>Omnivore</th>\n",
       "      <td>18</td>\n",
       "      <td>127</td>\n",
       "      <td>81</td>\n",
       "      <td>226</td>\n",
       "    </tr>\n",
       "    <tr>\n",
       "      <th>Vegetarian</th>\n",
       "      <td>0</td>\n",
       "      <td>17</td>\n",
       "      <td>7</td>\n",
       "      <td>24</td>\n",
       "    </tr>\n",
       "    <tr>\n",
       "      <th>All</th>\n",
       "      <td>28</td>\n",
       "      <td>157</td>\n",
       "      <td>104</td>\n",
       "      <td>289</td>\n",
       "    </tr>\n",
       "  </tbody>\n",
       "</table>\n",
       "</div>"
      ],
      "text/plain": [
       "Politics.3Cat  Conservative  Liberal  Moderate  All\n",
       "Diet                                               \n",
       "Carnivore                10       13        16   39\n",
       "Omnivore                 18      127        81  226\n",
       "Vegetarian                0       17         7   24\n",
       "All                      28      157       104  289"
      ]
     },
     "execution_count": 8,
     "metadata": {},
     "output_type": "execute_result"
    }
   ],
   "source": [
    "pd.crosstab(index=diet, columns=politics, margins=True)"
   ]
  },
  {
   "cell_type": "code",
   "execution_count": 9,
   "id": "15fe4cf5",
   "metadata": {},
   "outputs": [
    {
     "data": {
      "text/html": [
       "<div>\n",
       "<style scoped>\n",
       "    .dataframe tbody tr th:only-of-type {\n",
       "        vertical-align: middle;\n",
       "    }\n",
       "\n",
       "    .dataframe tbody tr th {\n",
       "        vertical-align: top;\n",
       "    }\n",
       "\n",
       "    .dataframe thead th {\n",
       "        text-align: right;\n",
       "    }\n",
       "</style>\n",
       "<table border=\"1\" class=\"dataframe\">\n",
       "  <thead>\n",
       "    <tr style=\"text-align: right;\">\n",
       "      <th>Diet</th>\n",
       "      <th>Carnivore</th>\n",
       "      <th>Omnivore</th>\n",
       "      <th>Vegetarian</th>\n",
       "      <th>All</th>\n",
       "    </tr>\n",
       "    <tr>\n",
       "      <th>Politics.3Cat</th>\n",
       "      <th></th>\n",
       "      <th></th>\n",
       "      <th></th>\n",
       "      <th></th>\n",
       "    </tr>\n",
       "  </thead>\n",
       "  <tbody>\n",
       "    <tr>\n",
       "      <th>Conservative</th>\n",
       "      <td>25.6%</td>\n",
       "      <td>8.0%</td>\n",
       "      <td>0.0%</td>\n",
       "      <td>9.7%</td>\n",
       "    </tr>\n",
       "    <tr>\n",
       "      <th>Liberal</th>\n",
       "      <td>33.3%</td>\n",
       "      <td>56.2%</td>\n",
       "      <td>70.8%</td>\n",
       "      <td>54.3%</td>\n",
       "    </tr>\n",
       "    <tr>\n",
       "      <th>Moderate</th>\n",
       "      <td>41.0%</td>\n",
       "      <td>35.8%</td>\n",
       "      <td>29.2%</td>\n",
       "      <td>36.0%</td>\n",
       "    </tr>\n",
       "  </tbody>\n",
       "</table>\n",
       "</div>"
      ],
      "text/plain": [
       "Diet          Carnivore Omnivore Vegetarian    All\n",
       "Politics.3Cat                                     \n",
       "Conservative      25.6%     8.0%       0.0%   9.7%\n",
       "Liberal           33.3%    56.2%      70.8%  54.3%\n",
       "Moderate          41.0%    35.8%      29.2%  36.0%"
      ]
     },
     "execution_count": 9,
     "metadata": {},
     "output_type": "execute_result"
    }
   ],
   "source": [
    "pd.crosstab(index=diet, columns=politics, normalize='index', \n",
    "           margins=True).T.mul(100).round(1).astype(str) + '%'"
   ]
  },
  {
   "cell_type": "code",
   "execution_count": 10,
   "id": "884ee950",
   "metadata": {},
   "outputs": [
    {
     "data": {
      "image/png": "[encoded data removed]",
      "text/plain": [
       "<Figure size 640x480 with 1 Axes>"
      ]
     },
     "metadata": {},
     "output_type": "display_data"
    }
   ],
   "source": [
    "pd.crosstab(index=diet, columns=politics, \n",
    "            normalize='index').mul(100).plot(kind='bar', stacked=True);"
   ]
  },
  {
   "cell_type": "code",
   "execution_count": 11,
   "id": "b1b34373",
   "metadata": {},
   "outputs": [
    {
     "data": {
      "image/png": "[encoded data removed]",
      "text/plain": [
       "<Figure size 640x480 with 1 Axes>"
      ]
     },
     "metadata": {},
     "output_type": "display_data"
    }
   ],
   "source": [
    "pd.crosstab(index=politics, columns=diet,\n",
    "           normalize='index').mul(100).plot(kind='bar', stacked=True);"
   ]
  },
  {
   "cell_type": "code",
   "execution_count": 12,
   "id": "2e179e35",
   "metadata": {},
   "outputs": [],
   "source": []
  }
 ],
 "metadata": {
  "kernelspec": {
   "display_name": "Python 3 (ipykernel)",
   "language": "python",
   "name": "python3"
  },
  "language_info": {
   "codemirror_mode": {
    "name": "ipython",
    "version": 3
   },
   "file_extension": ".py",
   "mimetype": "text/x-python",
   "name": "python",
   "nbconvert_exporter": "python",
   "pygments_lexer": "ipython3",
   "version": "3.11.3"
  }
 },
 "nbformat": 4,
 "nbformat_minor": 5
}
