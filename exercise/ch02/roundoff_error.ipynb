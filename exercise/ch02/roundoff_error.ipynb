{
 "cells": [
  {
   "cell_type": "code",
   "execution_count": 1,
   "id": "76c9b4a0",
   "metadata": {},
   "outputs": [],
   "source": [
    "from math import sqrt\n",
    "\n",
    "def qf(a, b, c):\n",
    "    det = b * b - 4 * a * c\n",
    "    if det < 0:\n",
    "        raise RuntimeError(\"no root\")\n",
    "    det = sqrt(det)\n",
    "    a2 = 2 * a\n",
    "    x1 = -b + det\n",
    "    x1 /= a2\n",
    "    x2 = -b - det\n",
    "    x2 /= a2\n",
    "    return x1, x2"
   ]
  },
  {
   "cell_type": "code",
   "execution_count": 2,
   "id": "35a6dd94",
   "metadata": {},
   "outputs": [],
   "source": [
    "def eval_qf(a, b, c, x):\n",
    "    return (a * x + b) * x + c"
   ]
  },
  {
   "cell_type": "code",
   "execution_count": 3,
   "id": "4f9a312d",
   "metadata": {},
   "outputs": [
    {
     "data": {
      "text/plain": [
       "(1.0, 1.0)"
      ]
     },
     "execution_count": 3,
     "metadata": {},
     "output_type": "execute_result"
    }
   ],
   "source": [
    "# x^2 - 2 x + 1. two equal roots @ 1\n",
    "qf(1, -2, 1)"
   ]
  },
  {
   "cell_type": "code",
   "execution_count": 7,
   "id": "e7287091",
   "metadata": {},
   "outputs": [
    {
     "name": "stdout",
     "output_type": "stream",
     "text": [
      "2000000000000000.0 1.0\n"
     ]
    }
   ],
   "source": [
    "# x^2 - 200001 x + 200000\n",
    "a = 1\n",
    "b = -2000000000000001\n",
    "c =  2000000000000000\n",
    "x1, x2 = qf(a, b, c)\n",
    "print(x1, x2)"
   ]
  },
  {
   "cell_type": "code",
   "execution_count": 8,
   "id": "7ba3c347",
   "metadata": {},
   "outputs": [
    {
     "data": {
      "text/plain": [
       "0.0"
      ]
     },
     "execution_count": 8,
     "metadata": {},
     "output_type": "execute_result"
    }
   ],
   "source": [
    "eval_qf(a, b, c, x1)"
   ]
  },
  {
   "cell_type": "code",
   "execution_count": 9,
   "id": "db690797",
   "metadata": {},
   "outputs": [
    {
     "data": {
      "text/plain": [
       "0.0"
      ]
     },
     "execution_count": 9,
     "metadata": {},
     "output_type": "execute_result"
    }
   ],
   "source": [
    "eval_qf(a, b, c, x2)"
   ]
  },
  {
   "cell_type": "code",
   "execution_count": null,
   "id": "0e3cf977",
   "metadata": {},
   "outputs": [],
   "source": []
  }
 ],
 "metadata": {
  "kernelspec": {
   "display_name": "Python 3 (ipykernel)",
   "language": "python",
   "name": "python3"
  },
  "language_info": {
   "codemirror_mode": {
    "name": "ipython",
    "version": 3
   },
   "file_extension": ".py",
   "mimetype": "text/x-python",
   "name": "python",
   "nbconvert_exporter": "python",
   "pygments_lexer": "ipython3",
   "version": "3.11.3"
  }
 },
 "nbformat": 4,
 "nbformat_minor": 5
}
