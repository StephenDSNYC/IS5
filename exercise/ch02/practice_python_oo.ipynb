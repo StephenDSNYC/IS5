{
 "cells": [
  {
   "cell_type": "code",
   "execution_count": 1,
   "id": "8e3c7ca2",
   "metadata": {},
   "outputs": [
    {
     "data": {
      "text/plain": [
       "'/Users/schang/Projects/STAT/IS5/exercise/ch02'"
      ]
     },
     "execution_count": 1,
     "metadata": {},
     "output_type": "execute_result"
    }
   ],
   "source": [
    "%pwd"
   ]
  },
  {
   "cell_type": "code",
   "execution_count": 2,
   "id": "28b841da",
   "metadata": {},
   "outputs": [],
   "source": [
    "import sys\n",
    "import platform"
   ]
  },
  {
   "cell_type": "code",
   "execution_count": 3,
   "id": "ce701c39",
   "metadata": {},
   "outputs": [],
   "source": [
    "if platform.system() == 'Darwin':\n",
    "    sys.path.append('/Users/schang/Projects/STAT/IS5/code/_python/oo_model')\n",
    "else:\n",
    "    pass"
   ]
  },
  {
   "cell_type": "code",
   "execution_count": 4,
   "id": "605b5884",
   "metadata": {},
   "outputs": [],
   "source": [
    "def meaningful_names(thing = None):\n",
    "    if thing:\n",
    "        return [x for x in dir(thing) if not x.startswith('_')]\n",
    "    else:\n",
    "        return [x for x in globals() if not x.startswith('_')]"
   ]
  },
  {
   "cell_type": "code",
   "execution_count": 5,
   "id": "41cd0b54",
   "metadata": {},
   "outputs": [
    {
     "data": {
      "text/plain": [
       "['In',\n",
       " 'Out',\n",
       " 'get_ipython',\n",
       " 'exit',\n",
       " 'quit',\n",
       " 'open',\n",
       " 'sys',\n",
       " 'platform',\n",
       " 'meaningful_names',\n",
       " 'ToyPerson']"
      ]
     },
     "execution_count": 5,
     "metadata": {},
     "output_type": "execute_result"
    }
   ],
   "source": [
    "import ToyPerson\n",
    "meaningful_names()"
   ]
  },
  {
   "cell_type": "code",
   "execution_count": 6,
   "id": "e88ba995",
   "metadata": {},
   "outputs": [],
   "source": [
    "import ToyPerson.Person"
   ]
  },
  {
   "cell_type": "code",
   "execution_count": 7,
   "id": "dfe282f1",
   "metadata": {},
   "outputs": [],
   "source": [
    "from ToyPerson.Person.Son import Son"
   ]
  },
  {
   "cell_type": "code",
   "execution_count": 8,
   "id": "1663c7ce",
   "metadata": {},
   "outputs": [],
   "source": [
    "brandon = Son(\"Brandon\", \"Transformer\", 3)"
   ]
  },
  {
   "cell_type": "code",
   "execution_count": 9,
   "id": "e951109e",
   "metadata": {},
   "outputs": [
    {
     "data": {
      "text/plain": [
       "ToyPerson.Person.Son.Son"
      ]
     },
     "execution_count": 9,
     "metadata": {},
     "output_type": "execute_result"
    }
   ],
   "source": [
    "type(brandon)"
   ]
  },
  {
   "cell_type": "code",
   "execution_count": 10,
   "id": "b95a51bd",
   "metadata": {},
   "outputs": [
    {
     "name": "stdout",
     "output_type": "stream",
     "text": [
      "Hello, I am Brandon.\n",
      "I am a son.\n"
     ]
    }
   ],
   "source": [
    "brandon.inspect()"
   ]
  },
  {
   "cell_type": "code",
   "execution_count": 11,
   "id": "cabfba89",
   "metadata": {},
   "outputs": [
    {
     "name": "stdout",
     "output_type": "stream",
     "text": [
      "Hello, I am Brandon.\n",
      "I am a son.\n",
      "Okay, I will play with my toy Transformer\n",
      "I have played with it, and it says:\n",
      "I am a good toy!\n",
      "Okay, got it!  Have fun!\n",
      "I can play 2 more times.\n",
      "\n",
      "Hello, I am Brandon.\n",
      "I am a son.\n",
      "Okay, I will play with my toy Transformer\n",
      "I have played with it, and it says:\n",
      "I am a good toy!\n",
      "Okay, got it!  Have fun!\n",
      "I can play 1 more times.\n",
      "\n",
      "Hello, I am Brandon.\n",
      "I am a son.\n",
      "Okay, I will play with my toy Transformer\n",
      "I have played with it, and it says:\n",
      "I am a good toy!\n",
      "Okay, got it!  Have fun!\n",
      "I am done\n",
      "\n"
     ]
    },
    {
     "data": {
      "text/plain": [
       "<ToyPerson.Person.Son.Son at 0x108cea510>"
      ]
     },
     "execution_count": 11,
     "metadata": {},
     "output_type": "execute_result"
    }
   ],
   "source": [
    "brandon.play().play().play()"
   ]
  },
  {
   "cell_type": "code",
   "execution_count": null,
   "id": "b3a96f78",
   "metadata": {},
   "outputs": [],
   "source": []
  }
 ],
 "metadata": {
  "kernelspec": {
   "display_name": "Python 3 (ipykernel)",
   "language": "python",
   "name": "python3"
  },
  "language_info": {
   "codemirror_mode": {
    "name": "ipython",
    "version": 3
   },
   "file_extension": ".py",
   "mimetype": "text/x-python",
   "name": "python",
   "nbconvert_exporter": "python",
   "pygments_lexer": "ipython3",
   "version": "3.11.3"
  }
 },
 "nbformat": 4,
 "nbformat_minor": 5
}
