{
 "cells": [
  {
   "cell_type": "markdown",
   "id": "9cbef96c",
   "metadata": {},
   "source": [
    "DATASET: **tsunamis**"
   ]
  },
  {
   "cell_type": "code",
   "execution_count": 1,
   "id": "107eda96",
   "metadata": {},
   "outputs": [
    {
     "data": {
      "text/plain": [
       "'/Users/schang/Projects/STAT/IS5/exercise/ch02'"
      ]
     },
     "execution_count": 1,
     "metadata": {},
     "output_type": "execute_result"
    }
   ],
   "source": [
    "%pwd"
   ]
  },
  {
   "cell_type": "code",
   "execution_count": 2,
   "id": "4f7314b6",
   "metadata": {},
   "outputs": [
    {
     "name": "stdout",
     "output_type": "stream",
     "text": [
      "1.5.3\n"
     ]
    }
   ],
   "source": [
    "import pandas as pd\n",
    "print(pd.__version__)"
   ]
  },
  {
   "cell_type": "code",
   "execution_count": 5,
   "id": "e5ee623a",
   "metadata": {},
   "outputs": [],
   "source": [
    "file_name = \"../../dataset/ch02/tsunamis_2016.txt\""
   ]
  },
  {
   "cell_type": "code",
   "execution_count": 6,
   "id": "c0a31841",
   "metadata": {},
   "outputs": [],
   "source": [
    "tsunamis = pd.read_csv(file_name, sep='\\t')"
   ]
  },
  {
   "cell_type": "code",
   "execution_count": 7,
   "id": "926631e3",
   "metadata": {},
   "outputs": [
    {
     "data": {
      "text/html": [
       "<div>\n",
       "<style scoped>\n",
       "    .dataframe tbody tr th:only-of-type {\n",
       "        vertical-align: middle;\n",
       "    }\n",
       "\n",
       "    .dataframe tbody tr th {\n",
       "        vertical-align: top;\n",
       "    }\n",
       "\n",
       "    .dataframe thead th {\n",
       "        text-align: right;\n",
       "    }\n",
       "</style>\n",
       "<table border=\"1\" class=\"dataframe\">\n",
       "  <thead>\n",
       "    <tr style=\"text-align: right;\">\n",
       "      <th></th>\n",
       "      <th>Year</th>\n",
       "      <th>Focal_Depth</th>\n",
       "      <th>Primary_Magnitude</th>\n",
       "      <th>Country</th>\n",
       "      <th>Latitude</th>\n",
       "      <th>Longitude</th>\n",
       "      <th>Deaths</th>\n",
       "      <th>Missing</th>\n",
       "      <th>Injuriez</th>\n",
       "      <th>Damage($M)</th>\n",
       "    </tr>\n",
       "  </thead>\n",
       "  <tbody>\n",
       "    <tr>\n",
       "      <th>0</th>\n",
       "      <td>-426</td>\n",
       "      <td>NaN</td>\n",
       "      <td>7.1</td>\n",
       "      <td>GREECE</td>\n",
       "      <td>38.900</td>\n",
       "      <td>22.700</td>\n",
       "      <td>NaN</td>\n",
       "      <td>NaN</td>\n",
       "      <td>NaN</td>\n",
       "      <td>NaN</td>\n",
       "    </tr>\n",
       "    <tr>\n",
       "      <th>1</th>\n",
       "      <td>-373</td>\n",
       "      <td>NaN</td>\n",
       "      <td>7.3</td>\n",
       "      <td>GREECE</td>\n",
       "      <td>38.250</td>\n",
       "      <td>22.250</td>\n",
       "      <td>NaN</td>\n",
       "      <td>NaN</td>\n",
       "      <td>NaN</td>\n",
       "      <td>NaN</td>\n",
       "    </tr>\n",
       "    <tr>\n",
       "      <th>2</th>\n",
       "      <td>79</td>\n",
       "      <td>NaN</td>\n",
       "      <td>NaN</td>\n",
       "      <td>ITALY</td>\n",
       "      <td>40.821</td>\n",
       "      <td>14.426</td>\n",
       "      <td>NaN</td>\n",
       "      <td>NaN</td>\n",
       "      <td>NaN</td>\n",
       "      <td>NaN</td>\n",
       "    </tr>\n",
       "    <tr>\n",
       "      <th>3</th>\n",
       "      <td>142</td>\n",
       "      <td>NaN</td>\n",
       "      <td>7.0</td>\n",
       "      <td>GREECE</td>\n",
       "      <td>36.700</td>\n",
       "      <td>28.000</td>\n",
       "      <td>NaN</td>\n",
       "      <td>NaN</td>\n",
       "      <td>NaN</td>\n",
       "      <td>NaN</td>\n",
       "    </tr>\n",
       "    <tr>\n",
       "      <th>4</th>\n",
       "      <td>173</td>\n",
       "      <td>NaN</td>\n",
       "      <td>NaN</td>\n",
       "      <td>CHINA</td>\n",
       "      <td>37.500</td>\n",
       "      <td>120.000</td>\n",
       "      <td>NaN</td>\n",
       "      <td>NaN</td>\n",
       "      <td>NaN</td>\n",
       "      <td>NaN</td>\n",
       "    </tr>\n",
       "  </tbody>\n",
       "</table>\n",
       "</div>"
      ],
      "text/plain": [
       "   Year  Focal_Depth  Primary_Magnitude Country  Latitude  Longitude  Deaths  \\\n",
       "0  -426          NaN                7.1  GREECE    38.900     22.700     NaN   \n",
       "1  -373          NaN                7.3  GREECE    38.250     22.250     NaN   \n",
       "2    79          NaN                NaN   ITALY    40.821     14.426     NaN   \n",
       "3   142          NaN                7.0  GREECE    36.700     28.000     NaN   \n",
       "4   173          NaN                NaN   CHINA    37.500    120.000     NaN   \n",
       "\n",
       "   Missing  Injuriez  Damage($M)  \n",
       "0      NaN       NaN         NaN  \n",
       "1      NaN       NaN         NaN  \n",
       "2      NaN       NaN         NaN  \n",
       "3      NaN       NaN         NaN  \n",
       "4      NaN       NaN         NaN  "
      ]
     },
     "execution_count": 7,
     "metadata": {},
     "output_type": "execute_result"
    }
   ],
   "source": [
    "tsunamis.head()"
   ]
  },
  {
   "cell_type": "code",
   "execution_count": 8,
   "id": "51d83034",
   "metadata": {},
   "outputs": [
    {
     "data": {
      "text/plain": [
       "1087"
      ]
     },
     "execution_count": 8,
     "metadata": {},
     "output_type": "execute_result"
    }
   ],
   "source": [
    "len(tsunamis)"
   ]
  },
  {
   "cell_type": "code",
   "execution_count": 14,
   "id": "1c7303d0",
   "metadata": {},
   "outputs": [],
   "source": [
    "tsunamis_mag = tsunamis[\"Primary_Magnitude\"].dropna()"
   ]
  },
  {
   "cell_type": "markdown",
   "id": "2f5cedb6",
   "metadata": {},
   "source": [
    "### Note: \n",
    "Have to extract the *\"Primary_Magnitude\"* column, and then *dropna*().\n",
    "\n",
    "Consider the below simple example:\n",
    "\n",
    "| Index | Primary_Magnitude | Deaths |\n",
    "| --- | --- | --- |\n",
    "| 0 | NaN | 400 |\n",
    "| 1 | 7.5 | NaN |\n",
    "\n",
    "If *dropna*() is applied first, because each row has \"NaN\" as missing value, both rows would be dropped, and the result is an empty dataframe.\n",
    "\n",
    "However, our purpose is to drop only the rows with \"NaN\" as the primary magnitude.  Therefore, we need to extract that column first, and then drop any \"NaN\" value(s).\n"
   ]
  },
  {
   "cell_type": "code",
   "execution_count": 15,
   "id": "e7c61531",
   "metadata": {},
   "outputs": [
    {
     "data": {
      "text/plain": [
       "968"
      ]
     },
     "execution_count": 15,
     "metadata": {},
     "output_type": "execute_result"
    }
   ],
   "source": [
    "len(tsunamis_mag)"
   ]
  },
  {
   "cell_type": "code",
   "execution_count": 16,
   "id": "18c8ee37",
   "metadata": {},
   "outputs": [
    {
     "name": "stdout",
     "output_type": "stream",
     "text": [
      "3.7.1\n"
     ]
    }
   ],
   "source": [
    "import matplotlib as mpl\n",
    "print(mpl.__version__)\n",
    "import matplotlib.pyplot as plt"
   ]
  },
  {
   "cell_type": "code",
   "execution_count": 20,
   "id": "93959457",
   "metadata": {},
   "outputs": [
    {
     "name": "stdout",
     "output_type": "stream",
     "text": [
      "1.24.3\n"
     ]
    }
   ],
   "source": [
    "import numpy as np\n",
    "print(np.__version__)"
   ]
  },
  {
   "cell_type": "code",
   "execution_count": 25,
   "id": "92c8fdef",
   "metadata": {},
   "outputs": [
    {
     "data": {
      "image/png": "[encoded data removed]",
      "text/plain": [
       "<Figure size 640x480 with 1 Axes>"
      ]
     },
     "metadata": {},
     "output_type": "display_data"
    }
   ],
   "source": [
    "plt.hist(tsunamis_mag, bins=np.linspace(3, 10, 31), edgecolor='black');"
   ]
  },
  {
   "cell_type": "code",
   "execution_count": 26,
   "id": "a2b38c61",
   "metadata": {},
   "outputs": [
    {
     "name": "stdout",
     "output_type": "stream",
     "text": [
      "0.12.2\n"
     ]
    }
   ],
   "source": [
    "import seaborn as sns\n",
    "print(sns.__version__)"
   ]
  },
  {
   "cell_type": "code",
   "execution_count": 34,
   "id": "b2a44a41",
   "metadata": {},
   "outputs": [
    {
     "data": {
      "image/png": "[encoded data removed]",
      "text/plain": [
       "<Figure size 640x480 with 1 Axes>"
      ]
     },
     "metadata": {},
     "output_type": "display_data"
    }
   ],
   "source": [
    "sns.kdeplot(tsunamis_mag, fill=True, color='blue', bw_adjust=0.9);"
   ]
  },
  {
   "cell_type": "code",
   "execution_count": null,
   "id": "9b961640",
   "metadata": {},
   "outputs": [],
   "source": [
    "# find mean (use stat)"
   ]
  },
  {
   "cell_type": "code",
   "execution_count": null,
   "id": "1ab1325a",
   "metadata": {},
   "outputs": [],
   "source": [
    "# find median"
   ]
  },
  {
   "cell_type": "code",
   "execution_count": null,
   "id": "0d835f49",
   "metadata": {},
   "outputs": [],
   "source": [
    "# find range"
   ]
  },
  {
   "cell_type": "code",
   "execution_count": null,
   "id": "cf6322f2",
   "metadata": {},
   "outputs": [],
   "source": [
    "# find IQR"
   ]
  },
  {
   "cell_type": "code",
   "execution_count": null,
   "id": "83317f82",
   "metadata": {},
   "outputs": [],
   "source": [
    "# find Standard Deviation"
   ]
  },
  {
   "cell_type": "code",
   "execution_count": null,
   "id": "7cd3f762",
   "metadata": {},
   "outputs": [],
   "source": [
    "# other analysis that you can think of"
   ]
  },
  {
   "cell_type": "code",
   "execution_count": null,
   "id": "593777b9",
   "metadata": {},
   "outputs": [],
   "source": []
  },
  {
   "cell_type": "code",
   "execution_count": null,
   "id": "5f69f39d",
   "metadata": {},
   "outputs": [],
   "source": []
  },
  {
   "cell_type": "code",
   "execution_count": null,
   "id": "a36f6a5f",
   "metadata": {},
   "outputs": [],
   "source": []
  },
  {
   "cell_type": "code",
   "execution_count": null,
   "id": "580bcb18",
   "metadata": {},
   "outputs": [],
   "source": []
  },
  {
   "cell_type": "code",
   "execution_count": null,
   "id": "d05876dd",
   "metadata": {},
   "outputs": [],
   "source": []
  },
  {
   "cell_type": "code",
   "execution_count": null,
   "id": "95adbce2",
   "metadata": {},
   "outputs": [],
   "source": []
  }
 ],
 "metadata": {
  "kernelspec": {
   "display_name": "Python 3 (ipykernel)",
   "language": "python",
   "name": "python3"
  },
  "language_info": {
   "codemirror_mode": {
    "name": "ipython",
    "version": 3
   },
   "file_extension": ".py",
   "mimetype": "text/x-python",
   "name": "python",
   "nbconvert_exporter": "python",
   "pygments_lexer": "ipython3",
   "version": "3.11.3"
  }
 },
 "nbformat": 4,
 "nbformat_minor": 5
}
