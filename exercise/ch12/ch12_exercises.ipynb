{
 "cells": [
  {
   "cell_type": "markdown",
   "id": "6e42b1ab",
   "metadata": {},
   "source": [
    "**Problem 23** Sample spaces For each of the following, list the sample space and tell whether you think the events are equally likely:\n",
    "\n",
    "a) Toss 2 coins; record the order of heads and tails.\n",
    "\n",
    "b) A family has 3 children; record the number of boys. \n",
    "\n",
    "c) Flip a coin until you get a head or 3 consecutive tails; record each flip.\n",
    "\n",
    "d) Roll two dice; record the larger number (or simply the\n",
    "number in case of a tie)."
   ]
  },
  {
   "cell_type": "markdown",
   "id": "42cd0a6e",
   "metadata": {},
   "source": [
    "**Answer:** \n",
    "\n",
    "a) S = {HH, HT, TH, TT}, equally likely.\n",
    "\n",
    "b) S = {0, 1, 2, 3}, equally likely.\n",
    "\n",
    "c) S = {H,HT, TTT}, not equally likely.\n",
    "\n",
    "d) S = {6, 5, 4, 3, 2, 1}, not equally likely.\n"
   ]
  },
  {
   "cell_type": "markdown",
   "id": "78079bb7",
   "metadata": {},
   "source": [
    "**Problem 24** Sample spaces II For each of the following, list the sample space and tell whether you think the events are equally likely:\n",
    "\n",
    "a) Roll two dice; record the sum of the numbers.\n",
    "\n",
    "b) A family has 3 children; record each child’s sex in order of birth.\n",
    "\n",
    "c) Toss four coins; record the number of tails.\n",
    "\n",
    "d) Toss a coin 10 times; record the length of the longest run of heads.\n"
   ]
  },
  {
   "cell_type": "markdown",
   "id": "3d2f2c19",
   "metadata": {},
   "source": [
    "**Answer:**\n",
    "\n",
    "a)S = {2, 3, 4, 5, 6, 7, 8, 9, 10, 11, 12}, euqally likely.\n",
    "\n",
    "b)S = {MMM,MMF, MFF, FFF, FMM, FFM}, equally likely.\n",
    "\n",
    "c)S = {0, 1, 2, 3, 4}, equally likely.\n",
    "\n",
    "d)S = {H, H, H, H, H, H, H, H, H, H}, Equally likely."
   ]
  },
  {
   "cell_type": "markdown",
   "id": "96d6a8ff",
   "metadata": {},
   "source": [
    "**Problem 26** Rain The weather reporter on TV makes predictions such as a 25% chance of rain. What do you think is the meaning of such a phrase?"
   ]
  },
  {
   "cell_type": "markdown",
   "id": "e6551d85",
   "metadata": {},
   "source": [
    "**Anwswer:** The probability P(Rain) = 25%(0.25), and P(Rain-c) = 75%(0.75)."
   ]
  },
  {
   "cell_type": "markdown",
   "id": "9ead8be9",
   "metadata": {},
   "source": [
    "**Problem 30:** Jackpot On February 11, 2009, the AP news wire released the following story:\n",
    "\n",
    "(LAS VEGAS, Nev.)—A man in town to watch the NCAA basketball tournament hit a $38.7 million jackpot on Friday, the biggest slot machine payout ever. The 25-year-old soft- ware engineer from Los Angeles, whose name was not released at his request, won after putting three $1 coins in a machine at the Excalibur hotel-casino, said Rick Sorensen, a spokesman for slot machine maker International Game Technology.\n",
    "\n",
    "a) How can the Excalibur afford to give away millions of dollars on a $3 bet?\n",
    "\n",
    "b) Why was the maker willing to make a statement? Wouldn’t most businesses want to keep such a huge loss quiet?\n"
   ]
  },
  {
   "cell_type": "markdown",
   "id": "6916efe0",
   "metadata": {},
   "source": [
    "**Answer:**\n",
    "\n",
    "a) The probability of winning $38.7 million jackpot is one in 300 million or we may say it is nearly impossible to win a jackpot.  The report also mentions that the $38.7 million jackpot is the biggest slot machine payout ever and no body wins a such huge jackpot before.  Therefore, the Exclibur can afford to give away millions of dollars on a $3 bet.\n",
    "\n",
    "b) Based on the business model, the maker would like to make people to believe that there is a high probability of winning a jackpot themselvies as well and to attract more and more people to purchase lottery ticket so that the maker can make more profit on the lottery business."
   ]
  },
  {
   "cell_type": "markdown",
   "id": "94ca9d79",
   "metadata": {},
   "source": [
    "**Problem 37** College admissions 2015 For high school students graduating in 2015, college admissions to the nation’s most selective schools were the most competitive in memory. Harvard ac- cepted about 5.3% of its applicants, Dartmouth 10%, and Penn 9.9%. Jorge has applied to all three. Assuming that he’s a typi- cal applicant, he figures that his chances of getting into both Harvard and Dartmouth must be about 0.53%.\n",
    "\n",
    "a) How has he arrived at this conclusion?\n",
    "\n",
    "b) What additional assumption is he making? \n",
    "\n",
    "c) Do you agree with his conclusion?"
   ]
  },
  {
   "cell_type": "markdown",
   "id": "15c6131c",
   "metadata": {},
   "source": [
    "**Answers to Problem 37**"
   ]
  },
  {
   "cell_type": "markdown",
   "id": "ee988e38",
   "metadata": {},
   "source": [
    "a)\n",
    "Jorge uses the Multiplication Rule to multiply the two probabilities of 5.3% and 10%.\n",
    "\n",
    "Harvard: 5.3%, Dartmouth: 10%\n",
    "Let A = {is accepted by Harvard} and B = {is accepted by Darmouth}.\n",
    "P(A and B) = P(A) * P(B) = (5.3%) * (10%) = 0.53%."
   ]
  },
  {
   "cell_type": "markdown",
   "id": "01d1c145",
   "metadata": {},
   "source": [
    "b) The assumption is the two events are independent and the probability that both events occur."
   ]
  },
  {
   "cell_type": "markdown",
   "id": "37e51b3a",
   "metadata": {},
   "source": [
    "c) No, I do not agree with his conclusion.  Harvard and Darmouth are the top colleges in the USA and even in the world.  They may have similarities to select their students.  Therefore, the two events are not independent and the Multiplication Rule may not applicable."
   ]
  },
  {
   "cell_type": "markdown",
   "id": "1f0b27b0",
   "metadata": {},
   "source": [
    "**Problem 38** College admissions II In Exercise 37 we saw that in 2015 Harvard accepted about 5.3% of its applicants, Dartmouth 10%, and Penn 9.9%. Jorge has applied to all three. He figures that his chances of getting into at least one of the three must be about 25.2%.\n",
    "\n",
    "a) How has he arrived at this conclusion? \n",
    "\n",
    "b) What assumption is he making?\n",
    "\n",
    "c) Do you agree with his conclusion?"
   ]
  },
  {
   "cell_type": "markdown",
   "id": "e9da026b",
   "metadata": {},
   "source": [
    "**Answers to Problem 38**\n",
    "\n",
    "a) Jorge uses the Addition Rule to add the probabilities of 5.3%, 10% and 9.9%.\n",
    "\n",
    "b) The assumption is the three probabilities of the events are disjoint, therefore, he thinks the probability of getting into at least one of the three colleges is the sum of the probabilities of the three events.\n",
    "\n",
    "c) No, I do not agree with his conclusion.  The Addion Rule applys to disjoint events that have no outcomes in common.  However, the three colleges may have similar methods to select their students."
   ]
  },
  {
   "cell_type": "markdown",
   "id": "272f668f",
   "metadata": {},
   "source": [
    "**Problem 39** Car repairs A consumer organization estimates that over a 1-year period 17% of cars will need to be repaired only once, 7% will need repairs exactly twice, and 4% will require three or more repairs. What is the probability that a car chosen at random will need\n",
    "\n",
    "a) no repairs?\n",
    "\n",
    "b) no more than one repair? \n",
    "\n",
    "c) some repairs?"
   ]
  },
  {
   "cell_type": "markdown",
   "id": "8d7a36d0",
   "metadata": {},
   "source": [
    "**Answers to Problem 39**\n",
    "\n",
    "A = a car will need repair only once; \n",
    "\n",
    "B = a car will need repair trice; \n",
    "\n",
    "C = a car will need repair three or more; \n",
    "\n",
    "D = a car will need no repairs. \n",
    "\n",
    "a) P(D) = 1 - P(A) - P(B) - (C) = 1 - 17% - 7% - 4% = 72%. \n",
    "Thus, the probability that a car chosen at random will need no repairs is 72%.\n",
    "\n",
    "b) E = a car will need more than one repair; \n",
    "P(E) = P(B or C) = 7% + 4% = 11%; \n",
    "F = a car does not need more than one repair;\n",
    "P(F) = 1 - P(E) = 1 - 11% = 89%.\n",
    "Thus, the probability that a car chosen at random will need no more than one repair is 89%.\n",
    "\n",
    "c) G = a car will need some repairs;\n",
    "P(G) = P(A or B or C) = 17% + 7% + 4% = 28%."
   ]
  },
  {
   "cell_type": "markdown",
   "id": "d72928a4",
   "metadata": {},
   "source": [
    "**Problem 41** More repairs Consider again the auto repair rates described in Exercise 39. If you own two cars, what is the probability that\n",
    "\n",
    "a) neither will need repair?\n",
    "\n",
    "b) both will need repair?\n",
    "\n",
    "c) at least one car will need repair?"
   ]
  },
  {
   "cell_type": "markdown",
   "id": "5a32f18a",
   "metadata": {},
   "source": [
    "**Answers to Problem 41**\n",
    "\n",
    "a) A = a car will need repair only once; \n",
    "\n",
    "B = a car will need repair trice; \n",
    "\n",
    "C = a car will need repair three or more; \n",
    "\n",
    "D = a car will need no repairs. \n",
    "\n",
    "a) P(D) = 1 - P(A) - P(B) - (C) = 1 - 17% - 7% - 4% = 72%;\n",
    "P(D1 and D2) = 72% * 72% = 51.84%;\n",
    "Thus, the probability of the two cars will not need repair is 51.84%.\n",
    "    \n",
    "b) E = a car will need repair;\n",
    "F = both cars will need repairs;\n",
    "P(E) = P(A or B or C) = 17% + 7% + 4% = 28%;\n",
    "P(F) = 28% * 28% = 7.84%;\n",
    "Thus, the probability of both will need repair is 7.84%.\n",
    "\n",
    "c)P(D1 and D2) = 51.84%;\n",
    "G = both need repair;\n",
    "P(G) = 1 - 51.84% = 48.16%."
   ]
  },
  {
   "cell_type": "markdown",
   "id": "03230482",
   "metadata": {},
   "source": [
    "**Problem 43** Repairs again You used the Multiplication Rule to calculate repair probabilities for your cars in Exercise 41.\n",
    "\n",
    "a) What must be true about your cars in order to make that approach valid?\n",
    "\n",
    "b) Do you think this assumption is reasonable? Explain."
   ]
  },
  {
   "cell_type": "markdown",
   "id": "f619f09a",
   "metadata": {},
   "source": [
    "**Answers to Problem 43** \n",
    "\n",
    "a) The events must be independent if I used the Multiplication Rule to calculate the repair probabilities for my cars.\n",
    "\n",
    "b) No,I think the assumption may not reasonable.  A car owner may treat his cars the same at most of the time.  If he takes good care of his cars and the both cars may result in no repair at all.  However, if he does not take good care of his cars, then the both cars may require necessary requir at a period of time."
   ]
  },
  {
   "cell_type": "markdown",
   "id": "9ab10a89",
   "metadata": {},
   "source": [
    "**Problem 48** Blood. The American Red Cross says that about 45% of the U.S. population has Type O blood, 40% Type A, 11% Type B, and the rest Type AB.\n",
    "\n",
    "a) Someone volunteers to give blood. What is the probability that this donor\n",
    "\n",
    "1. has Type AB blood?\n",
    "\n",
    "2. has Type A or Type B?\n",
    "\n",
    "3. is not Type O?\n",
    "\n",
    "b) Among four potential donors, what is the probability that\n",
    "\n",
    "1. all are Type O?\n",
    "\n",
    "2. no one is Type AB?\n",
    "\n",
    "3. they are not all Type A?\n",
    "\n",
    "4. at least one person is Type B?"
   ]
  },
  {
   "cell_type": "markdown",
   "id": "6463ac47",
   "metadata": {},
   "source": [
    "**Answers to Problem 48(a)**\n",
    "\n",
    "(1) A = Type A blood; B = Type B blood; C = Type O blood; D = Type AB blood.\n",
    "   P(D) = 1 - P(A) - P(B) - P(C)= 4%.\n",
    "   Thus, the probability of the donor has Type AB blood is 4%.  (CORRECT!)\n",
    "\n",
    "\n",
    "(2) $P(A \\cup B) = P(A) + P(B) - P(A\\cap B)$.  But note that $A\\cap B = \\emptyset$, because a person cannot have both blood type A and B.  Therefore, P(A $\\cup$ B) = 40% + 11% = 51%.\n",
    "\n",
    "\n",
    "(3) P(C) = 45%;\n",
    "   P($C^c$) = 1 - 45% = 55%;\n",
    "   thus, the probability of the donor is not Type O is 55%."
   ]
  },
  {
   "cell_type": "markdown",
   "id": "7996be36",
   "metadata": {},
   "source": [
    "**Answers to Problem 48(b)**\n",
    "\n",
    "For $i \\in \\{1, 2, 3, 4\\}$, let $A_i$ = the $i$-th donor has Type A blood. \n",
    "\n",
    "$B_i$ = Type B blood; $C_i$ = Type O blood; and $D_i = Type AB blood are similarly defined.\n",
    "\n",
    "Let's assume that the 4 donors are not related (e.g., they are not family members who have identical blood types).Then the blood type distributions of the four donors are independent.  (Not meaning disjoint!!)\n",
    "\n",
    "(1) $P(C1 \\cap C2 \\cap C3 \\cap C4)$ = 45\\% * 45\\% * 45\\% * 45\\% = 4.1\\%. \n",
    "\n",
    "Here the events are indenpendent, and we may simply multiply their individual probabilities.\n",
    "\n",
    "(2) \"No one is Type AB\" means \"donor 1 is not type AB, AND donor 2 is not type AB, AND donor 3 is not type AB, AND lastly donor 4 is not type AB\".  IID applies here.\n",
    "\n",
    "For each donor, not type AB is simply $D_i^c$.  $P(D_i^c) = 1- P(D_i) = 96\\%$.\n",
    "\n",
    "$P(D_1^c \\cap D_2^c \\cap D_3^c \\cap D_4^c) = (0.96)^4 = 85\\%$.\n",
    "   \n",
    "(3) \"They are not all type A\" means \"someone among the four is not type A\".\n",
    "\n",
    "Let's think of the opposite (i.e., the complement), i.e., that \"they are all type A\".\n",
    "\n",
    "$P(A_1 \\cap A_2 \\cap A_3 \\cap A_4) = (0.4)^4 = 2.56\\%$.\n",
    "\n",
    "The complement of the above probabily is $1-2.56\\% = 97.44\\%$.\n",
    "\n",
    "(Wrong Answer: P(A) = 40\\%;\n",
    "   P(A-c) = 1 - 40\\% = 60\\%;\n",
    "   P(A-c1) * P(A-c2) * P(A-c3) * P(A-c4) = 60\\% * 60\\% * 60\\% * 60\\% = 12.96\\%;\n",
    "   thus, the probability that they are not Type A is 12.96\\%.)\n",
    "   \n",
    "(4) \"At least one has type B\".  Think about the opposite again.\n",
    "\n",
    "The opposite means \"none has type B\".\n",
    "\n",
    "$P(B_1^C \\cap B_2^C \\cap B_3^C \\cap B_4^C) = (0.89)^4 = 62.74\\%$\n",
    "\n",
    "B_one = at least one person is Type B\n",
    "\n",
    "$P(B-one) = $1 - 62.74\\%$ = 37.26\\%$\n",
    "\n",
    "And we want the complement, i.e., 1- ...\n",
    "   "
   ]
  },
  {
   "cell_type": "markdown",
   "id": "f12151a9",
   "metadata": {},
   "source": [
    "**Problem 49** Disjoint or independent? In Exercise 47, you calculated probabilities of getting various M&M’s. Some of your answers depended on the assumption that the outcomes described were disjoint; that is, they could not both happen at the same time. Other answers depended on the assumption that the events were independent; that is, the occurrence of one of them doesn’t affect the probability of the other. Do you understand the difference between disjoint and independent?\n",
    "\n",
    "a) If you draw one M&M, are the events of getting a red one and getting an orange one disjoint, independent, or neither?\n",
    "\n",
    "b) If you draw two M&M’s one after the other, are the events of getting a red on the first and a red on the second disjoint, independent, or neither?\n",
    "\n",
    "c) Can disjoint events ever be independent? Explain."
   ]
  },
  {
   "cell_type": "markdown",
   "id": "27802e3f",
   "metadata": {},
   "source": [
    "**Answers to Problem 49**\n",
    "\n",
    "a) The events of getting a red one and geting an orange one are disjoint and cannot be both select.\n",
    "\n",
    "b) The events of getting a red on the first and a red on the second are independent.\n",
    "\n",
    "c) No, disjoint events cannot be independent.  Because disjoint events are mutually exclusive."
   ]
  },
  {
   "cell_type": "markdown",
   "id": "4963df52",
   "metadata": {},
   "source": [
    "**Problem 50** Disjoint or independent? In Exercise 48, you calculated probabilities involving various blood types. Some of your answers depended on the assumption that the outcomes described were disjoint; that is, they could not both happen\n",
    "at the same time. Other answers depended on the assumption that the events were independent; that is, the occurrence of one of them doesn’t affect the probability of the other. Do you understand the difference between disjoint and independent?\n",
    "\n",
    "a) If you examine one person, are the events that the person is Type A and that the same person is Type B disjoint, inde- pendent, or neither?\n",
    "\n",
    "b) If you examine two people, are the events that the first is Type A and the second Type B disjoint, independent, or neither?\n",
    "\n",
    "c) Can disjoint events ever be independent? Explain."
   ]
  },
  {
   "cell_type": "markdown",
   "id": "5c914606",
   "metadata": {},
   "source": [
    "**Answers to Problem 50**\n",
    "\n",
    "a) The events that the persons is Type A and that the same person is Type B are disjoint.  Because the events of blood type of the person is mutually exclusive.\n",
    "\n",
    "b) The events that the first is Type A and the second Type B are independent. Because the blood type of the first person does not influence the blood type of the second person.\n",
    "\n",
    "c) No, disjoint events cannot be independent.  Because disjoints events are mutually exclusive."
   ]
  },
  {
   "cell_type": "markdown",
   "id": "7e8232ef",
   "metadata": {},
   "source": [
    "**Problem 55** 9/11? On September 11, 2002, the first anniversary of the terrorist attack on the World Trade Center, the New York State Lottery’s daily number came up 9–1–1. An interesting coincidence or a cosmic sign?\n",
    "\n",
    "a) What is the probability that the winning three numbers match the date on any given day?\n",
    "\n",
    "b) What is the probability that a whole year passes without this happening?\n",
    "\n",
    "c) What is the probability that the date and winning lottery number match at least once during any year?\n",
    "\n",
    "d) If every one of the 50 states has a three-digit lottery, what is the probability that at least one of them will come up 9–1–1 on September 11?"
   ]
  },
  {
   "cell_type": "markdown",
   "id": "dcd1c54b",
   "metadata": {},
   "source": [
    "**Answers to Problem 55** \n",
    "\n",
    "The New York State lottery in this problem draws a 3-digit number (with possible leading zeros) from $000$ to $999$.  Each number has an equal chance of $0.1\\%$ to be drawn.\n",
    "\n",
    "(a) Let's simplify this question.  Let's think that a date is coded as a 3-digit number.  On any given day, its date give us a 3-digit number, with which we can buy a lottery ticket of the same number.  What is the probability that our such bought ticket wins the prize?\n",
    "\n",
    "$0.1\\%$.\n",
    "\n",
    "(b) Let's say we have 365 days.  (Ignore leap year.  It does not make a fuss.)\n",
    "Number the days as $i=1, 2, 3, \\ldots, 365$.  Each day, buy a ticket corresponding to the date.  According to part (a), winning chance is $0.1\\%$, therefore, \"not happening\" has a probability of $99.9\\%$.\n",
    "\n",
    "$W_i$ means won on day $i$.  $P(W_i) = 0.1\\%$.  $P(W_i^c) = 99.9\\%$.  This is \"not happening\" on a day.\n",
    "\n",
    "\"Not happening over an entire year\": $P(W_1^c \\cap W_2^c \\cap W_3^c \\cap \\ldots \\cap W_{365}^c)$.  Assuming i.i.d., this is $0.999^{365} = 69.4\\%$.\n",
    "\n",
    "(c) Again, think of the complement.  \n",
    "\n",
    "$A$ = \"match at least once during a year\".\n",
    "\n",
    "$A^c$ = \"not any match in that year\", which is the event in part (b).\n",
    "\n",
    "$P(A^c$) = $0.999^{365} = 69.4\\%$\n",
    "$P(A$) = 1 - 69.4\\%$ = 30.6\\%$\n",
    "\n",
    "Therefore, ...\n",
    "\n",
    "\n",
    "(d) Now we have 50 states, and one specific date dictating the winning number \"911\".\n",
    "\n",
    "$A_i$ = \"state $i$ winning number is 911\". $P(A_i) = $.\n",
    "\n",
    "$A$ = \"at least one of the $A_i$'s happens\".\n",
    "$A^c$ = \"none of the states comes up 9-1-1 on September 11\"\n",
    "$P(A^c$) = $0.999^{50} = 95.12\\%$\n",
    "$P(A$) = 1 - 95.12\\%$ = 4.88\\%$\n",
    "\n",
    "Think of the complement...\n"
   ]
  },
  {
   "cell_type": "markdown",
   "id": "0b27b6b7",
   "metadata": {},
   "source": [
    "**Problem 58** Birth order. A survey of students in a large introductory statistics class asked about their birth order (1 = oldest or only child) and which college of the university they were enrolled in. Here are the data:\n",
    "\n",
    "Suppose we select a student at random from this class. What is the probability that the person is\n",
    "\n",
    "a) a Human Ecology student?\n",
    "\n",
    "b) a firstborn student?\n",
    "\n",
    "c) firstborn and a Human Ecology student? \n",
    "\n",
    "d) firstborn or a Human Ecology student?"
   ]
  },
  {
   "cell_type": "markdown",
   "id": "df0a33fe",
   "metadata": {},
   "source": [
    "**Answers to Problem 58**\n",
    "\n",
    "$S = \\{$ the totality of 223 student from the class $\\}$, which is our sample space.\n",
    "\n",
    "a) $A$ = $\\{$ stduents from the Human Ecology college $\\}$.  This set has 43 students.\n",
    "\n",
    "   P(A) = 43/223 = 19.28%.\n",
    "   \n",
    "b) $B$ = $\\{$ students whose birth order if \"1 or Only\" $\\}$.  This set has 113 students.\n",
    "\n",
    "   P(B) = 113/223 = 50.67%.\n",
    "   \n",
    "c) \"both first born and from Human Ecology\": $A \\cap B$\n",
    "\n",
    "A = both first born and from Human Ecology\n",
    "$P($A) = 15/223 = 6.73\\%$\n",
    "\n",
    "(Wrong answer: P(Ecology/Firstborn) = 15/113 = 13.27%;\n",
    "   thus, the probability that the person is firstborn and a Human Ecology student is 13.27%.)\n",
    "   \n",
    "d) \"Either first born or from H.E.\": $A \\cup B$\n",
    "\n",
    "$P(A \\cup B) = P(A) + P(B) - P(A\\cap B)$\n",
    "\n",
    "A = Either first born or from H.E.\n",
    "\n",
    "$P(A) = (19.28\\%$ + 50.67\\%$) - 6.73\\%$ = 63.22\\%$"
   ]
  },
  {
   "cell_type": "markdown",
   "id": "08b9f9e3",
   "metadata": {},
   "source": [
    "**Problem 62** Birth order, take 2 Look again at the data about birth order of Intro Stats students and their choices of colleges shown in Exercise 58.\n",
    "\n",
    "a) If we select a student at random, what’s the probability the person is an Arts and Sciences student who is a second child (or more)?\n",
    "\n",
    "b) Among the Arts and Sciences students, what’s the probabil- ity a student was a second child (or more)?\n",
    "\n",
    "c) Among second children (or more), what’s the probability the student is enrolled in Arts and Sciences?\n",
    "\n",
    "d) What’s the probability that a first or only child is enrolled in the Agriculture College?\n",
    "\n",
    "e) What is the probability that an Agriculture student is a first or only child?\n"
   ]
  },
  {
   "cell_type": "markdown",
   "id": "477c4e58",
   "metadata": {},
   "source": []
  }
 ],
 "metadata": {
  "kernelspec": {
   "display_name": "Python 3 (ipykernel)",
   "language": "python",
   "name": "python3"
  },
  "language_info": {
   "codemirror_mode": {
    "name": "ipython",
    "version": 3
   },
   "file_extension": ".py",
   "mimetype": "text/x-python",
   "name": "python",
   "nbconvert_exporter": "python",
   "pygments_lexer": "ipython3",
   "version": "3.11.5"
  }
 },
 "nbformat": 4,
 "nbformat_minor": 5
}
