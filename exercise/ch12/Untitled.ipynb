{
 "cells": [
  {
   "cell_type": "markdown",
   "id": "6e42b1ab",
   "metadata": {},
   "source": [
    "**Problem 23** Sample spaces For each of the following, list the sample space and tell whether you think the events are equally likely:\n",
    "\n",
    "a) Toss 2 coins; record the order of heads and tails.\n",
    "\n",
    "b) A family has 3 children; record the number of boys. \n",
    "\n",
    "c) Flip a coin until you get a head or 3 consecutive tails; record each flip.\n",
    "\n",
    "d) Roll two dice; record the larger number (or simply the\n",
    "number in case of a tie)."
   ]
  },
  {
   "cell_type": "markdown",
   "id": "42cd0a6e",
   "metadata": {},
   "source": [
    "**Answer:** \n",
    "\n",
    "a) S = {HH, HT, TH, TT}, equally likely.\n",
    "\n",
    "b) S = {0, 1, 2, 3}, equally likely.\n",
    "\n",
    "c) S = {H,HT, TTT}, not equally likely.\n",
    "\n",
    "d) S = {6, 5, 4, 3, 2, 1}, not equally likely.\n"
   ]
  },
  {
   "cell_type": "markdown",
   "id": "78079bb7",
   "metadata": {},
   "source": [
    "**Problem 24** Sample spaces II For each of the following, list the sample space and tell whether you think the events are equally likely:\n",
    "\n",
    "a) Roll two dice; record the sum of the numbers.\n",
    "\n",
    "b) A family has 3 children; record each child’s sex in order of birth.\n",
    "\n",
    "c) Toss four coins; record the number of tails.\n",
    "\n",
    "d) Toss a coin 10 times; record the length of the longest run of heads.\n"
   ]
  },
  {
   "cell_type": "markdown",
   "id": "3d2f2c19",
   "metadata": {},
   "source": [
    "**Answer:**\n",
    "\n",
    "a)S = {2, 3, 4, 5, 6, 7, 8, 9, 10, 11, 12}, euqally likely.\n",
    "\n",
    "b)S = {MMM,MMF, MFF, FFF, FMM, FFM}, equally likely.\n",
    "\n",
    "c)S = {0, 1, 2, 3, 4}, equally likely.\n",
    "\n",
    "d)S = {H, H, H, H, H, H, H, H, H, H}, Equally likely."
   ]
  },
  {
   "cell_type": "markdown",
   "id": "96d6a8ff",
   "metadata": {},
   "source": [
    "**Problem 26** Rain The weather reporter on TV makes predictions such as a 25% chance of rain. What do you think is the meaning of such a phrase?"
   ]
  },
  {
   "cell_type": "markdown",
   "id": "e6551d85",
   "metadata": {},
   "source": [
    "**Anwswer:** The probability P(Rain) = 25%(0.25), and P(Rain-c) = 75%(0.75)."
   ]
  },
  {
   "cell_type": "markdown",
   "id": "9ead8be9",
   "metadata": {},
   "source": [
    "**Problem 30:** Jackpot On February 11, 2009, the AP news wire released the following story:\n",
    "\n",
    "(LAS VEGAS, Nev.)—A man in town to watch the NCAA basketball tournament hit a $38.7 million jackpot on Friday, the biggest slot machine payout ever. The 25-year-old soft- ware engineer from Los Angeles, whose name was not released at his request, won after putting three $1 coins in a machine at the Excalibur hotel-casino, said Rick Sorensen, a spokesman for slot machine maker International Game Technology.\n",
    "\n",
    "a) How can the Excalibur afford to give away millions of dollars on a $3 bet?\n",
    "\n",
    "b) Why was the maker willing to make a statement? Wouldn’t most businesses want to keep such a huge loss quiet?\n"
   ]
  },
  {
   "cell_type": "markdown",
   "id": "6916efe0",
   "metadata": {},
   "source": [
    "**Answer:**\n",
    "\n",
    "a) The probability of winning $38.7 million jackpot is one in 300 million or we may say it is nearly impossible to win a jackpot.  The report also mentions that the $38.7 million jackpot is the biggest slot machine payout ever and no body wins a such huge jackpot before.  Therefore, the Exclibur can afford to give away millions of dollars on a $3 bet.\n",
    "\n",
    "b) Based on the business model, the maker would like to make people to believe that there is a high probability of winning a jackpot themselvies as well and to attract more and more people to purchase lottery ticket so that the maker can make more profit on the lottery business."
   ]
  },
  {
   "cell_type": "markdown",
   "id": "94ca9d79",
   "metadata": {},
   "source": [
    "**Problem 37** College admissions 2015 For high school students graduating in 2015, college admissions to the nation’s most selective schools were the most competitive in memory. Harvard ac- cepted about 5.3% of its applicants, Dartmouth 10%, and Penn 9.9%. Jorge has applied to all three. Assuming that he’s a typi- cal applicant, he figures that his chances of getting into both Harvard and Dartmouth must be about 0.53%.\n",
    "\n",
    "a) How has he arrived at this conclusion?\n",
    "\n",
    "b) What additional assumption is he making? \n",
    "\n",
    "c) Do you agree with his conclusion?"
   ]
  },
  {
   "cell_type": "markdown",
   "id": "15c6131c",
   "metadata": {},
   "source": [
    "**Answers to Problem 37**"
   ]
  },
  {
   "cell_type": "markdown",
   "id": "ee988e38",
   "metadata": {},
   "source": [
    "a)\n",
    "Jorge uses the Multiplication Rule to multiply the two probabilities of 5.3% and 10%.\n",
    "\n",
    "Harvard: 5.3%, Dartmouth: 10%\n",
    "Let A = {is accepted by Harvard} and B = {is accepted by Darmouth}.\n",
    "P(A and B) = P(A) * P(B) = (5.3%) * (10%) = 0.53%."
   ]
  },
  {
   "cell_type": "markdown",
   "id": "01d1c145",
   "metadata": {},
   "source": [
    "b) The assumption is the two events are independent and the probability that both events occur."
   ]
  },
  {
   "cell_type": "markdown",
   "id": "37e51b3a",
   "metadata": {},
   "source": [
    "c) No, I do not agree with his conclusion.  Harvard and Darmouth are the top colleges in the USA and even in the world.  They may have similarities to select their students.  Therefore, the two events are not independent and the Multiplication Rule may not applicable."
   ]
  },
  {
   "cell_type": "markdown",
   "id": "1f0b27b0",
   "metadata": {},
   "source": [
    "**Problem 38**College admissions II In Exercise 37 we saw that in 2015 Harvard accepted about 5.3% of its applicants, Dartmouth 10%, and Penn 9.9%. Jorge has applied to all three. He figures that his chances of getting into at least one of the three must be about 25.2%.\n",
    "\n",
    "a) How has he arrived at this conclusion? \n",
    "\n",
    "b) What assumption is he making?\n",
    "\n",
    "c) Do you agree with his conclusion?"
   ]
  },
  {
   "cell_type": "markdown",
   "id": "e9da026b",
   "metadata": {},
   "source": [
    "**Answers to Problem 38**\n",
    "\n",
    "a) "
   ]
  },
  {
   "cell_type": "markdown",
   "id": "299d49e2",
   "metadata": {},
   "source": []
  },
  {
   "cell_type": "markdown",
   "id": "d72928a4",
   "metadata": {},
   "source": []
  },
  {
   "cell_type": "markdown",
   "id": "5a32f18a",
   "metadata": {},
   "source": []
  },
  {
   "cell_type": "markdown",
   "id": "03230482",
   "metadata": {},
   "source": []
  }
 ],
 "metadata": {
  "kernelspec": {
   "display_name": "Python 3 (ipykernel)",
   "language": "python",
   "name": "python3"
  },
  "language_info": {
   "codemirror_mode": {
    "name": "ipython",
    "version": 3
   },
   "file_extension": ".py",
   "mimetype": "text/x-python",
   "name": "python",
   "nbconvert_exporter": "python",
   "pygments_lexer": "ipython3",
   "version": "3.11.5"
  }
 },
 "nbformat": 4,
 "nbformat_minor": 5
}
