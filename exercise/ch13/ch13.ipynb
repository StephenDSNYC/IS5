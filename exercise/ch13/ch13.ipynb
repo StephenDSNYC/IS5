{
 "cells": [
  {
   "cell_type": "code",
   "execution_count": 1,
   "id": "f8983f9a-f651-47fc-b01f-4a419fe02694",
   "metadata": {},
   "outputs": [],
   "source": [
    "from scipy.stats import norm\n",
    "from math import sqrt"
   ]
  },
  {
   "cell_type": "markdown",
   "id": "cd506820-1fb5-435c-ae78-d488bacf2aa4",
   "metadata": {},
   "source": [
    "**Prob. 23**\n",
    "\n",
    "**(a)** population: all cars that are driving on the road.  To be more specific, the population is the cars that may be stopped by the checkpoint.\n",
    "\n",
    "$p$ population parameter representing the percentage (probability roughly speaking) of cars with safety problems.\n",
    "\n",
    "sample: the 134 cars stopped, among which 14 have safety issues.\n",
    "\n",
    "Conditions: i.i.d.  $np=14$, $nq=120$.  Satisfied.\n",
    "\n",
    "$\\hat{p} = \\frac{14}{134}$ is the sample statistic characterizing $p$.\n",
    "\n",
    "**(b)** population: all viewers who are willing to go online to register their opinions.\n",
    "\n",
    "$p$ the percentage of viewers favoring prayer in schools.\n",
    "\n",
    "sample: 602 people who have shared their opinions, among which 488 favoring prayer.\n",
    "\n",
    "Condition: checked.\n",
    "\n",
    "**(c)**: population: parents of the 1245 students\n",
    "\n",
    "$p$: the percentage of parents approving uniforms\n",
    "\n",
    "sample: 380 surveys returned.\n",
    "\n",
    "Condition: checked.  We are sampling over $10\\%$.  May re-sample among the 380 returned surveys, say drawing of 120 surveys randomly.\n",
    "\n",
    "**(d)**: populaton: all freshmen students\n",
    "\n",
    "$p$: percentage of freshmen who graduate on time\n",
    "\n",
    "sample: the 1,632 freshmen students in the study, among which 1,388 graduated on time\n",
    "\n",
    "Condition: it is a question whether the $p$ parameter stays stable in time."
   ]
  },
  {
   "cell_type": "markdown",
   "id": "6320dd57-909a-47d0-93e4-1f7643096fb2",
   "metadata": {},
   "source": [
    "**Prob. 24**\n",
    "\n",
    "**(a)** population: buyers who recently bought new cars.\n",
    "\n",
    "$p$ percentage of dissatisfaction.\n",
    "\n",
    "sample: 167 people surveyed.\n",
    "\n",
    "Conditions: $np\\sim 5$ (required at least 10 in textbook).\n",
    "\n",
    "**(b)** population: college students.\n",
    "\n",
    "$p$ the percentage of college students who have cellphones.\n",
    "\n",
    "sample: 2,883 student asked.\n",
    "\n",
    "Condition: checked. (One college? Stadium?)\n",
    "\n",
    "**(c)**: population: all potato plants.\n",
    "\n",
    "$p$: percentageo of potato plants that show signs of blight.\n",
    "\n",
    "sample: 240 plants in ME.  (Can they represent all plants in the US?)\n",
    "\n",
    "Condition: $np=7$ (too small).\n",
    "\n",
    "**(d)**: populaton: the company's employees.\n",
    "\n",
    "$p$: percentage of those employees injured on the job during one year period.\n",
    "\n",
    "sample: 309 employees (all the employees?)\n",
    "\n",
    "Condition: $np=12$."
   ]
  },
  {
   "cell_type": "markdown",
   "id": "3a5f5c8c-bfc3-4ccf-a0dc-0412d50a31ea",
   "metadata": {},
   "source": [
    "**Prob. 25**\n",
    "\n",
    "Population: all orders\n",
    "\n",
    "$p$: percentage of orders arriving on time (with 3 days)\n",
    "\n",
    "sample: a few randomly selected customers reporting their orders.\n",
    "\n",
    "Meaning: at confidence level of 95%, the interval (82%, 94%) encircles the true percentage $p$.\n",
    "\n",
    "Questions:  how may customers selected?  and how many orders are involved?\n",
    "\n",
    "**(a)** Incorrect.\n",
    "\n",
    "**(b)** Incorrect.\n",
    "\n",
    "**(c)** Incorrect. \n",
    "\n",
    "**(d)** Incorrect. \n",
    "\n",
    "**(e)** Incorrect. "
   ]
  },
  {
   "cell_type": "markdown",
   "id": "3492df57-c092-481c-bf41-a174c2f50e13",
   "metadata": {},
   "source": [
    "**Prob. 26**\n",
    "\n",
    "Population: spinning a Belgian euro 250 time and recording all results (H or T)\n",
    "\n",
    "$p$: percentage of H\n",
    "\n",
    "sample: the 250 spins conducted by those two students in 2002\n",
    "\n",
    "$\\hat{p}= 140/250$.  \n",
    "\n",
    "$\\textrm{SE} = \\sqrt{\\hat{p}\\hat{q}/250}$  \n",
    "\n",
    "$z=1.645$\n",
    "\n",
    "Meaning: with a 90% confidence level, the interval (51%, 61%) encircles the true $p$.\n",
    "\n",
    "**(a)** Incorrect.\n",
    "\n",
    "**(b)** Incorrect.\n",
    "\n",
    "**(c)** Incorrect. \n",
    "\n",
    "**(d)** Incorrect. \n",
    "\n",
    "**(e)** Incorrect. "
   ]
  },
  {
   "cell_type": "markdown",
   "id": "efe69ee5-6fa5-4ddd-8339-fbc6ac863c8b",
   "metadata": {},
   "source": [
    "**Prob.27**. Confidence intervals Several factors are involved in the creation of a confidence interval. Among them are the sample size, the level of confidence, and the margin of error. Which statements are true?\n",
    "\n",
    "a) For a given sample size, higher confidence means a smaller margin of error.\n",
    "\n",
    "b) For a specified confidence level, larger samples provide smaller margins of error.\n",
    "\n",
    "c) For a fixed margin of error, larger samples provide greater confidence.\n",
    "\n",
    "d) For a given confidence level, halving the margin of error requires a sample twice as large."
   ]
  },
  {
   "cell_type": "markdown",
   "id": "1ba23cec-d143-4091-8859-6f4216734091",
   "metadata": {},
   "source": [
    "**Answers to Prob. 27**\n",
    "\n",
    "(a). False.  For a given sample size, higher confidence means a larger margin of error.\n",
    "\n",
    "The higher the confidence level, the wider the confidence interval.\n",
    "\n",
    "(b). True.  For a specified confidence level, larger samples provide smaller margins of error.\n",
    "\n",
    "True in general.\n",
    "\n",
    "**Acuracy**: measured by the distance between a computed value and its true value.  (--> bias)\n",
    "\n",
    "**Precision**: the smaller the margin of error is, the more precise a result is.  (--> MSE)\n",
    "\n",
    "(c). False.  \n",
    "\n",
    "Two samples provide the same ME.  The sample of larger size has chosen a higher conficent level.\n",
    "\n",
    "(d). False.  4 times as large."
   ]
  },
  {
   "cell_type": "markdown",
   "id": "39126a00-6809-47e0-8e78-97def463ea35",
   "metadata": {},
   "source": [
    "**Prob.28.** Confidence intervals, again Several factors are involved in the creation of a confidence interval. Among them are the sam- ple size, the level of confidence, and the margin of error. Which statements are true?\n",
    "\n",
    "a) For a given sample size, reducing the margin of error will mean lower confidence.\n",
    "\n",
    "b) For a certain confidence level, you can get a smaller margin of error by selecting a bigger sample.\n",
    "\n",
    "c) For a fixed margin of error, smaller samples will mean lower confidence.\n",
    "\n",
    "d) For a given confidence level, a sample 9 times as large will make a margin of error one third as big."
   ]
  },
  {
   "cell_type": "markdown",
   "id": "3c42a528-6269-4be5-b88c-84a6e9d32035",
   "metadata": {},
   "source": [
    "**Answers to Prob.28**\n",
    "\n",
    "(a) True.  For a given sample size, reducing the margin of error will mean lower confidence.\n",
    "\n",
    "(b) True.  For a certain confidence level, you can get a smaller margin of error by selecting a bigger sample.\n",
    "\n",
    "(c) False.  \n",
    "\n",
    "(d) False.  **True!!**"
   ]
  },
  {
   "cell_type": "markdown",
   "id": "c52b612d-8ac9-48b8-b41a-5cad30d6dab7",
   "metadata": {},
   "source": [
    "**Prob.38** Junk mail Direct mail advertisers send solicitations (a.k.a. “junk mail”) to thousands of potential customers in the hope that some will buy the company’s product. The acceptance rate is usually quite low. Suppose a company wants to test the response to a new flyer, and sends it to 1000 people randomly selected from their mailing list of over 200,000 people. They get orders from 123 of the recipients.\n",
    "\n",
    "a) Create a 90% confidence interval for the percentage of people the company contacts who may buy something.\n",
    "\n",
    "Solution: \n",
    "\n",
    "We know, in one random sample, $n=1,000$, and $k=123$, so $\\hat{p}=0.123$.\n",
    "\n",
    "90\\% confidence level corresponds to a z value of $1.645$.\n",
    "\n",
    "The confidence interval is $\\hat{p} \\pm z\\cdot\\sqrt{\\frac{\\hat{p}(1-\\hat{p})}{n}}$=$(0.106, 0.140)$\n",
    "\n",
    "b) Explain what this interval means.\n",
    "\n",
    "The interval means that, at a confidence level of 90\\%, the true proportion is encircled (emcompassed) by this interval.\n",
    "\n",
    "c) Explain what “90% confidence” means.\n",
    "\n",
    "It means that, if such confidence intervals are repeatedly constructed following the above procedure, 90\\% of the time the constructed interval encompasses the true proportion.\n",
    "\n",
    "d) The company must decide whether to now do a mass mailing.\n",
    "\n",
    "The mailing won’t be cost-effective unless it produces at least a 5% return. What does your confidence interval suggest? Explain.\n",
    "\n",
    "The above CI suggests that the true response rate is at least 5\\% (with a confidence level at 90\\%).  So the company may decide to mass mailing.\n",
    "\n",
    "**Suppose the company now requires at least a 11\\% response rate, how can we improve the study?**\n",
    "\n",
    "The answer is to increase $n$.\n",
    "\n",
    "Consider a situation that $n=10,000$ and $k=1,230$.  We reach the same $\\hat{p}$.  z value remains the same.\n",
    "\n",
    "The only thing affected in this situation is the standard error, $\\sqrt{\\frac{\\hat{p}(1-\\hat{p})}{n}} = 0.0054$.  The confidence interval becomes $(0.118, 0.128)$, and luckily the company may still go ahead with mass mailing."
   ]
  },
  {
   "cell_type": "code",
   "execution_count": 2,
   "id": "659e4a97-2c53-4a7c-92df-2939468f29a9",
   "metadata": {},
   "outputs": [
    {
     "name": "stdout",
     "output_type": "stream",
     "text": [
      "z=1.6448536269514722\n",
      "ME=0.017083608457721285\n",
      "0.10591639154227872\n",
      "0.14008360845772128\n"
     ]
    }
   ],
   "source": [
    "def sol38a():\n",
    "    z = norm.ppf(0.95)\n",
    "    print(f'{z=}')\n",
    "    phat = 123 / 1000\n",
    "    n = 1000\n",
    "    ME = z * sqrt(phat * (1-phat) / n)\n",
    "    print(f'{ME=}')\n",
    "    print(phat-ME)\n",
    "    print(phat+ME)\n",
    "\n",
    "sol38a()"
   ]
  },
  {
   "cell_type": "markdown",
   "id": "48a959f4-3c5b-4e16-a415-4848779e4d41",
   "metadata": {},
   "source": [
    "**Prob46**. Back to campus ACT, Inc. reported that 74% of 1644 randomly selected college freshmen returned to college the next year. The study was stratified by type of college—public or private. The retention rates were 71.9% among 505 students enrolled in public colleges and 74.9% among 1139 students enrolled in private colleges.\n",
    "\n",
    "a) Will the 95% confidence interval for the true national retention rate in private colleges be wider or narrower than the 95% confidence interval for the retention rate in public colleges? Explain.\n",
    "\n",
    "b) Do you expect the margin of error for the overall retention rate to be larger or smaller? Explain."
   ]
  },
  {
   "cell_type": "code",
   "execution_count": 8,
   "id": "4c66f56d-59d8-41b3-8f1c-81c8c0f872e0",
   "metadata": {},
   "outputs": [
    {
     "name": "stdout",
     "output_type": "stream",
     "text": [
      "z=1.9600\n",
      "ME_private=0.0252\n",
      "ME_public=0.0392\n",
      "Yes, private is narrower than public!\n"
     ]
    }
   ],
   "source": [
    "def sol46a1():#Private colleges\n",
    "    z = norm.ppf(0.975)\n",
    "    print(f'{z=:.4f}')\n",
    "    phat_private = 0.749\n",
    "    n_private = 1139\n",
    "    ME_private = z * sqrt (phat_private * (1-phat_private) / n_private)\n",
    "    print(f'{ME_private=:.4f}')\n",
    "\n",
    "    phat_public = 0.719\n",
    "    n_public = 505\n",
    "    ME_public = z * sqrt (phat_public * (1-phat_public) / n_public)\n",
    "    print(f'{ME_public=:.4f}')\n",
    "\n",
    "    if ME_private < ME_public:\n",
    "        print(\"Yes, private is narrower than public!\")\n",
    "\n",
    "sol46a1()"
   ]
  },
  {
   "cell_type": "code",
   "execution_count": 10,
   "id": "627242e6-9863-4a0a-8715-36ba5d777427",
   "metadata": {},
   "outputs": [
    {
     "name": "stdout",
     "output_type": "stream",
     "text": [
      "z=1.9600\n",
      "ME=0.0392\n",
      "0.679796936402948\n",
      "0.7582030635970519\n"
     ]
    }
   ],
   "source": [
    "def sol46a2():\n",
    "    z = norm.ppf(0.975)\n",
    "    print(f'{z=:.4f}')\n",
    "    phat = 0.719 #Public colleges\n",
    "    n = 505\n",
    "    ME = z * sqrt (phat * (1-phat) / n)\n",
    "    print(f'{ME=:.4f}')\n",
    "    print(phat-ME)\n",
    "    print(phat+ME)\n",
    "\n",
    "sol46a2()"
   ]
  },
  {
   "cell_type": "markdown",
   "id": "e31df1ef-f3b5-4457-9cae-0855613db951",
   "metadata": {},
   "source": [
    "**Answer to Prob. 46** Both private and public of 95% confidence corresponse to a z value of $1.95$. The confidence interval of private colleges is $\\hat{p} \\pm z\\cdot\\sqrt{\\frac{\\hat{p}(1-\\hat{p})}{n}}$=$(0.724, 0.774)$.  The confidence interval of public colleges is $\\hat{p} \\pm z\\cdot\\sqrt{\\frac{\\hat{p}(1-\\hat{p})}{n}}$=$(0.680, 0.758)$.  Therefore, the 95% confidence interval for the true retention rate in private colleges is narrower than the 95% confidence interval for the retention rate in public colleges."
   ]
  },
  {
   "cell_type": "code",
   "execution_count": 11,
   "id": "6849f505-312b-4b7d-b80c-eb19294004ee",
   "metadata": {},
   "outputs": [
    {
     "name": "stdout",
     "output_type": "stream",
     "text": [
      "z=1.9600\n",
      "ME=0.0212\n",
      "0.7187968825872709\n",
      "0.7612031174127291\n"
     ]
    }
   ],
   "source": [
    "def sol46b():\n",
    "    z = norm.ppf(0.975)\n",
    "    print(f'{z=:.4f}')\n",
    "    phat = 0.74\n",
    "    n = 1644\n",
    "    ME = z * sqrt (phat * (1-phat) / n)\n",
    "    print(f'{ME=:.4f}')\n",
    "    print(phat-ME)\n",
    "    print(phat+ME)\n",
    "\n",
    "sol46b()"
   ]
  },
  {
   "cell_type": "markdown",
   "id": "59565c70-7a71-4298-8e0e-2ad8e906917d",
   "metadata": {},
   "source": [
    "**Answer to Prob.46(b)** I expect the margin of error for the overall retention rate to be smaller than the margin of error stratified in private and public colleges."
   ]
  },
  {
   "cell_type": "markdown",
   "id": "e62cb3f1-2e8c-47e3-9b29-e04a5c879b8c",
   "metadata": {},
   "source": [
    "**Prob.48**Back to campus II Suppose ACT, Inc. wants to update their information from Exercise 46 on the percentage of freshmen that return for a second year of college.\n",
    "\n",
    "a) They want to cut the stated margin of error in half. How many college freshmen must be surveyed?\n",
    "\n",
    "b) Do you have any concerns about this sample? Explain."
   ]
  },
  {
   "cell_type": "code",
   "execution_count": null,
   "id": "42f244ff-a5ff-411d-b2b7-1e921b6a8c2a",
   "metadata": {},
   "outputs": [],
   "source": [
    "def sol48a():\n",
    "    z = norm.ppf(0.975)\n",
    "    print(f'{z=}')\n",
    "    phat = 0.74\n",
    "    n = 1644\n",
    "    ME = z * sqrt (phat * (1-phat) / n)\n",
    "    ME = ME / 2\n",
    "    print(f'{ME=}')\n",
    "    sqrt_n = z * sqrt (phat * (1-phat) / ME)\n",
    "    print(f'{sqrt_n=}')\n",
    "                      \n",
    "\n",
    "sol48a()"
   ]
  },
  {
   "cell_type": "markdown",
   "id": "1ac332f4-50b9-444e-ab25-1aff51549283",
   "metadata": {},
   "source": [
    "**Answer to Prob.48b** If they cut the stated margin of error in half, and that requires a very large sample size.  A larger sample survey may take more time as well as more money and effort to complete.\n",
    "\n",
    "To halve the ME, it needs to survey 4 times as many students as the last study. (about 6576)\n",
    "\n",
    "The new sample shall follow the same sampling procedure as before."
   ]
  }
 ],
 "metadata": {
  "kernelspec": {
   "display_name": "Python 3 (ipykernel)",
   "language": "python",
   "name": "python3"
  },
  "language_info": {
   "codemirror_mode": {
    "name": "ipython",
    "version": 3
   },
   "file_extension": ".py",
   "mimetype": "text/x-python",
   "name": "python",
   "nbconvert_exporter": "python",
   "pygments_lexer": "ipython3",
   "version": "3.12.1"
  }
 },
 "nbformat": 4,
 "nbformat_minor": 5
}
