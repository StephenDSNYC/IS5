{
 "cells": [
  {
   "cell_type": "code",
   "execution_count": 8,
   "id": "f8983f9a-f651-47fc-b01f-4a419fe02694",
   "metadata": {},
   "outputs": [],
   "source": [
    "from scipy.stats import norm\n",
    "from math import sqrt"
   ]
  },
  {
   "cell_type": "markdown",
   "id": "efe69ee5-6fa5-4ddd-8339-fbc6ac863c8b",
   "metadata": {},
   "source": [
    "**Prob.27**. Confidence intervals Several factors are involved in the creation of a confidence interval. Among them are the sample size, the level of confidence, and the margin of error. Which statements are true?\n",
    "\n",
    "a) For a given sample size, higher confidence means a smaller margin of error.\n",
    "\n",
    "b) For a specified confidence level, larger samples provide smaller margins of error.\n",
    "\n",
    "c) For a fixed margin of error, larger samples provide greater confidence.\n",
    "\n",
    "d) For a given confidence level, halving the margin of error requires a sample twice as large."
   ]
  },
  {
   "cell_type": "markdown",
   "id": "1ba23cec-d143-4091-8859-6f4216734091",
   "metadata": {},
   "source": [
    "**Answers to Prob. 27**\n",
    "\n",
    "(a). False.  For a given sample size, higher confidence means a larger margin of error.\n",
    "\n",
    "(b). True.  For a specified confidence level, larger samples provide smaller margins of error.\n",
    "\n",
    "(c). False.  \n",
    "\n",
    "(d). False.  "
   ]
  },
  {
   "cell_type": "markdown",
   "id": "39126a00-6809-47e0-8e78-97def463ea35",
   "metadata": {},
   "source": [
    "**Prob.28.** Confidence intervals, again Several factors are involved in the creation of a confidence interval. Among them are the sam- ple size, the level of confidence, and the margin of error. Which statements are true?\n",
    "\n",
    "a) For a given sample size, reducing the margin of error will mean lower confidence.\n",
    "\n",
    "b) For a certain confidence level, you can get a smaller margin of error by selecting a bigger sample.\n",
    "\n",
    "c) For a fixed margin of error, smaller samples will mean lower confidence.\n",
    "\n",
    "d) For a given confidence level, a sample 9 times as large will make a margin of error one third as big."
   ]
  },
  {
   "cell_type": "markdown",
   "id": "3c42a528-6269-4be5-b88c-84a6e9d32035",
   "metadata": {},
   "source": [
    "**Answers to Prob.28**\n",
    "\n",
    "(a) True.  For a given sample size, reducing the margin of error will mean lower confidence.\n",
    "\n",
    "(b) False.  For a certain confidence level, you cannot get a smaller margin of error by selecting a bigger sample.\n",
    "\n",
    "(c) False.  \n",
    "\n",
    "(d) False."
   ]
  },
  {
   "cell_type": "markdown",
   "id": "c52b612d-8ac9-48b8-b41a-5cad30d6dab7",
   "metadata": {},
   "source": [
    "**Prob.38** Junk mail Direct mail advertisers send solicitations (a.k.a. “junk mail”) to thousands of potential customers in the hope that some will buy the company’s product. The acceptance rate is usually quite low. Suppose a company wants to test the response to a new flyer, and sends it to 1000 people randomly selected from their mailing list of over 200,000 people. They get orders from 123 of the recipients.\n",
    "\n",
    "a) Create a 90% confidence interval for the percentage of people the company contacts who may buy something.\n",
    "\n",
    "Solution: \n",
    "\n",
    "We know, in one random sample, $n=1,000$, and $k=123$, so $\\hat{p}=0.123$.\n",
    "\n",
    "90\\% confidence level corresponds to a z value of $1.645$.\n",
    "\n",
    "The confidence interval is $\\hat{p} \\pm z\\cdot\\sqrt{\\frac{\\hat{p}(1-\\hat{p})}{n}}$=$(0.106, 0.140)$\n",
    "\n",
    "b) Explain what this interval means.\n",
    "\n",
    "The interval means that, at a confidence level of 90\\%, the true proportion is encircled (emcompassed) by this interval.\n",
    "\n",
    "c) Explain what “90% confidence” means.\n",
    "\n",
    "It means that, if such confidence intervals are repeatedly constructed following the above procedure, 90\\% of the time the constructed interval encompasses the true proportion.\n",
    "\n",
    "d) The company must decide whether to now do a mass mailing.\n",
    "\n",
    "The mailing won’t be cost-effective unless it produces at least a 5% return. What does your confidence interval suggest? Explain.\n",
    "\n",
    "The above CI suggests that the true response rate is at least 5\\% (with a confidence level at 90\\%).  So the company may decide to mass mailing.\n",
    "\n",
    "**Suppose the company now requires at least a 11\\% response rate, how can we improve the study?**\n",
    "\n",
    "The answer is to increase $n$.\n",
    "\n",
    "Consider a situation that $n=10,000$ and $k=1,230$.  We reach the same $\\hat{p}$.  z value remains the same.\n",
    "\n",
    "The only thing affected in this situation is the standard error, $\\sqrt{\\frac{\\hat{p}(1-\\hat{p})}{n}} = 0.0054$.  The confidence interval becomes $(0.118, 0.128)$, and luckily the company may still go ahead with mass mailing."
   ]
  },
  {
   "cell_type": "code",
   "execution_count": 13,
   "id": "659e4a97-2c53-4a7c-92df-2939468f29a9",
   "metadata": {},
   "outputs": [
    {
     "name": "stdout",
     "output_type": "stream",
     "text": [
      "z=1.6448536269514722\n",
      "ME=0.017083608457721285\n",
      "0.10591639154227872\n",
      "0.14008360845772128\n"
     ]
    }
   ],
   "source": [
    "def sol38a():\n",
    "    z = norm.ppf(0.95)\n",
    "    print(f'{z=}')\n",
    "    phat = 123 / 1000\n",
    "    n = 1000\n",
    "    ME = z * sqrt(phat * (1-phat) / n)\n",
    "    print(f'{ME=}')\n",
    "    print(phat-ME)\n",
    "    print(phat+ME)\n",
    "\n",
    "sol38a()"
   ]
  },
  {
   "cell_type": "code",
   "execution_count": null,
   "id": "746b6378-ac3f-462f-973e-c17061d47e1b",
   "metadata": {},
   "outputs": [],
   "source": []
  }
 ],
 "metadata": {
  "kernelspec": {
   "display_name": "Python 3 (ipykernel)",
   "language": "python",
   "name": "python3"
  },
  "language_info": {
   "codemirror_mode": {
    "name": "ipython",
    "version": 3
   },
   "file_extension": ".py",
   "mimetype": "text/x-python",
   "name": "python",
   "nbconvert_exporter": "python",
   "pygments_lexer": "ipython3",
   "version": "3.11.5"
  }
 },
 "nbformat": 4,
 "nbformat_minor": 5
}
