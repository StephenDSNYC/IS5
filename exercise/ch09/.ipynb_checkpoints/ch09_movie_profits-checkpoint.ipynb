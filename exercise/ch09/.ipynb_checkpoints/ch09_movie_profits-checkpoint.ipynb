{
 "cells": [
  {
   "cell_type": "code",
   "execution_count": 1,
   "id": "e015607f",
   "metadata": {},
   "outputs": [],
   "source": [
    "import numpy as np\n",
    "import pandas as pd\n",
    "import matplotlib\n",
    "# %matplotlib notebook\n",
    "from matplotlib import pyplot as plt\n",
    "from sklearn.linear_model import LinearRegression\n",
    "import statsmodels.api as sm\n",
    "linmod = LinearRegression()"
   ]
  },
  {
   "cell_type": "code",
   "execution_count": 2,
   "id": "d7b749e6",
   "metadata": {},
   "outputs": [],
   "source": [
    "datafile = '../../dataset/ch09/movie_profits.txt'\n",
    "movie_profits = pd.read_csv(datafile, sep='\\t')"
   ]
  },
  {
   "cell_type": "code",
   "execution_count": 3,
   "id": "af13c4ae",
   "metadata": {},
   "outputs": [
    {
     "data": {
      "text/html": [
       "<div>\n",
       "<style scoped>\n",
       "    .dataframe tbody tr th:only-of-type {\n",
       "        vertical-align: middle;\n",
       "    }\n",
       "\n",
       "    .dataframe tbody tr th {\n",
       "        vertical-align: top;\n",
       "    }\n",
       "\n",
       "    .dataframe thead th {\n",
       "        text-align: right;\n",
       "    }\n",
       "</style>\n",
       "<table border=\"1\" class=\"dataframe\">\n",
       "  <thead>\n",
       "    <tr style=\"text-align: right;\">\n",
       "      <th></th>\n",
       "      <th>Year</th>\n",
       "      <th>Movie</th>\n",
       "      <th>US Gross ($M)</th>\n",
       "      <th>Budget ($M)</th>\n",
       "      <th>Run Time (min)</th>\n",
       "      <th>Critic Score (Rotten Tomatoes)</th>\n",
       "    </tr>\n",
       "  </thead>\n",
       "  <tbody>\n",
       "    <tr>\n",
       "      <th>0</th>\n",
       "      <td>2012</td>\n",
       "      <td>Django Unchained</td>\n",
       "      <td>162.805434</td>\n",
       "      <td>100.0</td>\n",
       "      <td>165</td>\n",
       "      <td>88</td>\n",
       "    </tr>\n",
       "    <tr>\n",
       "      <th>1</th>\n",
       "      <td>2012</td>\n",
       "      <td>Parental Guidance</td>\n",
       "      <td>77.264926</td>\n",
       "      <td>25.0</td>\n",
       "      <td>105</td>\n",
       "      <td>18</td>\n",
       "    </tr>\n",
       "    <tr>\n",
       "      <th>2</th>\n",
       "      <td>2012</td>\n",
       "      <td>The Impossible</td>\n",
       "      <td>19.019882</td>\n",
       "      <td>40.0</td>\n",
       "      <td>114</td>\n",
       "      <td>81</td>\n",
       "    </tr>\n",
       "    <tr>\n",
       "      <th>3</th>\n",
       "      <td>2012</td>\n",
       "      <td>Jack Reacher</td>\n",
       "      <td>80.070736</td>\n",
       "      <td>60.0</td>\n",
       "      <td>130</td>\n",
       "      <td>61</td>\n",
       "    </tr>\n",
       "    <tr>\n",
       "      <th>4</th>\n",
       "      <td>2012</td>\n",
       "      <td>This is 40</td>\n",
       "      <td>67.544505</td>\n",
       "      <td>35.0</td>\n",
       "      <td>134</td>\n",
       "      <td>51</td>\n",
       "    </tr>\n",
       "  </tbody>\n",
       "</table>\n",
       "</div>"
      ],
      "text/plain": [
       "   Year              Movie  US Gross ($M)  Budget ($M)  Run Time (min)  \\\n",
       "0  2012   Django Unchained     162.805434        100.0             165   \n",
       "1  2012  Parental Guidance      77.264926         25.0             105   \n",
       "2  2012     The Impossible      19.019882         40.0             114   \n",
       "3  2012       Jack Reacher      80.070736         60.0             130   \n",
       "4  2012         This is 40      67.544505         35.0             134   \n",
       "\n",
       "   Critic Score (Rotten Tomatoes)  \n",
       "0                              88  \n",
       "1                              18  \n",
       "2                              81  \n",
       "3                              61  \n",
       "4                              51  "
      ]
     },
     "execution_count": 3,
     "metadata": {},
     "output_type": "execute_result"
    }
   ],
   "source": [
    "movie_profits.head()"
   ]
  },
  {
   "cell_type": "markdown",
   "id": "7b0e2c84",
   "metadata": {},
   "source": [
    "**Problem 3. Movie profits What can predict how much a motion picture will make? We have data on 609 recent releases that includes the USGross (in $M), the Budget ($M), the Run Time (minutes), and the score given by the critics on the Rotten Tomatoes website. The first several entries in the data table look like this:We want a regression model to predict USGross. Parts of the regression output computed in Excel look like this:**"
   ]
  },
  {
   "cell_type": "markdown",
   "id": "839ad43e",
   "metadata": {},
   "source": [
    "**a) Write the multiple regression equation.**"
   ]
  },
  {
   "cell_type": "markdown",
   "id": "e7545fb6",
   "metadata": {},
   "source": [
    "**Answer:** $\\hat{US_Gross} = - 52.3692 + 0.9723\\times Budget$ + 0.3872\\times Run_time$ + 0.6403\\times Critic_Score$"
   ]
  },
  {
   "cell_type": "markdown",
   "id": "d282b1cb",
   "metadata": {},
   "source": [
    "**b) What is the interpretation of the coefficient of Budget in this\n",
    "regression model?**"
   ]
  },
  {
   "cell_type": "markdown",
   "id": "29cdcea8",
   "metadata": {},
   "source": [
    "**Answer:** The coefficient of Budget are intercepting with other preditors(Run Time and Critic Score) in the regression.  If we consider the movies with a given amount of Run Time and Critic Score, those that add more fund to the budget then the box office of the US Gross may have more in returns."
   ]
  },
  {
   "cell_type": "markdown",
   "id": "18999715",
   "metadata": {},
   "source": [
    "**Problem 4. Movie profits again A middle manager at an entertainment\n",
    "company, upon seeing the analysis of Exercise 3, concludes that longer movies make more money. He argues that his company’s films should all be padded by 30 minutes to improve their gross. Explain the flaw in his interpretation of this model.**\n"
   ]
  },
  {
   "cell_type": "markdown",
   "id": "c7c16792",
   "metadata": {},
   "source": [
    "**Answer:** The regression includes three preditors (Budget, Run Time and Critic Score).  If we consider the movies with a equal given amount of Budget and a same given amount of Critic Score, and add more time to the Run Time may result a higher US Gross box office."
   ]
  },
  {
   "cell_type": "code",
   "execution_count": null,
   "id": "8112b908",
   "metadata": {},
   "outputs": [],
   "source": []
  },
  {
   "cell_type": "code",
   "execution_count": null,
   "id": "2d8cd075",
   "metadata": {},
   "outputs": [],
   "source": []
  },
  {
   "cell_type": "code",
   "execution_count": null,
   "id": "c63aedd8",
   "metadata": {},
   "outputs": [],
   "source": []
  },
  {
   "cell_type": "code",
   "execution_count": null,
   "id": "3dbf21c6",
   "metadata": {},
   "outputs": [],
   "source": []
  },
  {
   "cell_type": "code",
   "execution_count": null,
   "id": "b0e93285",
   "metadata": {},
   "outputs": [],
   "source": []
  }
 ],
 "metadata": {
  "kernelspec": {
   "display_name": "Python 3 (ipykernel)",
   "language": "python",
   "name": "python3"
  },
  "language_info": {
   "codemirror_mode": {
    "name": "ipython",
    "version": 3
   },
   "file_extension": ".py",
   "mimetype": "text/x-python",
   "name": "python",
   "nbconvert_exporter": "python",
   "pygments_lexer": "ipython3",
   "version": "3.11.5"
  }
 },
 "nbformat": 4,
 "nbformat_minor": 5
}
