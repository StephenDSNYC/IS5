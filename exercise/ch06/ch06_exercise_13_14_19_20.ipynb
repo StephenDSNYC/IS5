{
 "cells": [
  {
   "cell_type": "markdown",
   "id": "144c9826",
   "metadata": {},
   "source": [
    "* Problem 13\n",
    "\n",
    "\n",
    "a. little or no association?\n",
    "\n",
    "Plot (4) shows a little or no association.\n",
    "\n",
    "b. a negative association?\n",
    "\n",
    "Plot (3) shows a negative association.\n",
    "\n",
    "c. a linear association?\n",
    "\n",
    "Plot (2) and plot (3)show a linear association.\n",
    "\n",
    "d. a moderately strong association?\n",
    "\n",
    "Plot (1) shows a moderately strong association.\n",
    "\n",
    "e. a very strong association?\n",
    "\n",
    "Plot (3) shows a very strong association.\n",
    "\n",
    "\n",
    "\n",
    "**(1)** very strong association, but not linear.\n",
    "\n",
    "**(2)** a moderately strong, linear association.\n",
    "\n",
    "**(3)** a very strong, linear, negative association.\n",
    "\n",
    "**(4)** little or no association, or a very weak negative associate."
   ]
  },
  {
   "cell_type": "markdown",
   "id": "b9c93f1d",
   "metadata": {},
   "source": [
    "* Problem 14\n",
    "\n",
    "\n",
    "a. little or no association?\n",
    "\n",
    "Plot (1) shows a little or no association.\n",
    "\n",
    "b. a negative association?\n",
    "\n",
    "Plot (4) shows a negative association.\n",
    "\n",
    "c. a linear association?\n",
    "\n",
    "Plot (2), (3) and (4) show a linear association.\n",
    "\n",
    "d. a moderately strong association?\n",
    "\n",
    "Plot (3) shows a moderately strong association.\n",
    "\n",
    "e. a very strong association?\n",
    "\n",
    "Plot (2) and (4) show a very strong association."
   ]
  },
  {
   "cell_type": "markdown",
   "id": "ca5a348e",
   "metadata": {},
   "source": [
    "* Ploblem 19\n",
    "\n",
    "\n",
    "The correlation -0.923 belongs to plot (c), the correlation -0.487 belongs to plot (a), the correlation 0.006 belongs to plot (d), and the correlation 0.777 belongs to plot (b).\n",
    "\n",
    "-0.487 belongs to plot (a)  (very likely **0.006**)\n",
    "\n",
    "0.777 belongs to plot (b)\n",
    "\n",
    "-0.923 belongs to plot (c)\n",
    "\n",
    "0.006 belongs to plot (d)  (-0.487)"
   ]
  },
  {
   "cell_type": "markdown",
   "id": "43527eb9",
   "metadata": {},
   "source": [
    "* Problem 20\n",
    "\n",
    "\n",
    "The correlation -0.977 belongs to plot (a), the correlation -0.021 belongs to plot (d), the correlation 0.736 belongs to plot (b), and the correlation 0.951 belongs to plot (c)."
   ]
  }
 ],
 "metadata": {
  "kernelspec": {
   "display_name": "Python 3 (ipykernel)",
   "language": "python",
   "name": "python3"
  },
  "language_info": {
   "codemirror_mode": {
    "name": "ipython",
    "version": 3
   },
   "file_extension": ".py",
   "mimetype": "text/x-python",
   "name": "python",
   "nbconvert_exporter": "python",
   "pygments_lexer": "ipython3",
   "version": "3.11.4"
  }
 },
 "nbformat": 4,
 "nbformat_minor": 5
}
