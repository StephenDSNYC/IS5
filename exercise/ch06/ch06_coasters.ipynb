{
 "cells": [
  {
   "cell_type": "code",
   "execution_count": 1,
   "id": "e209ab2e",
   "metadata": {},
   "outputs": [],
   "source": [
    "import numpy as np\n",
    "import pandas as pd\n",
    "import matplotlib as mpl\n",
    "from matplotlib import pyplot as plt\n",
    "from scipy import stats"
   ]
  },
  {
   "cell_type": "code",
   "execution_count": 2,
   "id": "13aa7ff1",
   "metadata": {},
   "outputs": [],
   "source": [
    "import statsmodels.api as sm"
   ]
  },
  {
   "cell_type": "code",
   "execution_count": 3,
   "id": "b3ce5078",
   "metadata": {},
   "outputs": [],
   "source": [
    "datafile = '../../dataset/ch04/coasters_2015.txt'\n",
    "coasters = pd.read_csv(datafile, sep='\\t')"
   ]
  },
  {
   "cell_type": "code",
   "execution_count": 4,
   "id": "85a450ff",
   "metadata": {},
   "outputs": [
    {
     "data": {
      "text/html": [
       "<div>\n",
       "<style scoped>\n",
       "    .dataframe tbody tr th:only-of-type {\n",
       "        vertical-align: middle;\n",
       "    }\n",
       "\n",
       "    .dataframe tbody tr th {\n",
       "        vertical-align: top;\n",
       "    }\n",
       "\n",
       "    .dataframe thead th {\n",
       "        text-align: right;\n",
       "    }\n",
       "</style>\n",
       "<table border=\"1\" class=\"dataframe\">\n",
       "  <thead>\n",
       "    <tr style=\"text-align: right;\">\n",
       "      <th></th>\n",
       "      <th>Name</th>\n",
       "      <th>Park</th>\n",
       "      <th>Track</th>\n",
       "      <th>Speed</th>\n",
       "      <th>Height</th>\n",
       "      <th>Drop</th>\n",
       "      <th>Length</th>\n",
       "      <th>Duration</th>\n",
       "      <th>Inversions</th>\n",
       "    </tr>\n",
       "  </thead>\n",
       "  <tbody>\n",
       "    <tr>\n",
       "      <th>0</th>\n",
       "      <td>Top Thrill Dragster</td>\n",
       "      <td>Cedar Point</td>\n",
       "      <td>Steel</td>\n",
       "      <td>120.0</td>\n",
       "      <td>420.0</td>\n",
       "      <td>400.0</td>\n",
       "      <td>2800.0</td>\n",
       "      <td>NaN</td>\n",
       "      <td>0</td>\n",
       "    </tr>\n",
       "    <tr>\n",
       "      <th>1</th>\n",
       "      <td>Superman The Escap</td>\n",
       "      <td>Six Flags Magic Mountain</td>\n",
       "      <td>Steel</td>\n",
       "      <td>100.0</td>\n",
       "      <td>415.0</td>\n",
       "      <td>328.1</td>\n",
       "      <td>1235.0</td>\n",
       "      <td>NaN</td>\n",
       "      <td>0</td>\n",
       "    </tr>\n",
       "    <tr>\n",
       "      <th>2</th>\n",
       "      <td>Millennium Force</td>\n",
       "      <td>Cedar Point</td>\n",
       "      <td>Steel</td>\n",
       "      <td>93.0</td>\n",
       "      <td>310.0</td>\n",
       "      <td>300.0</td>\n",
       "      <td>6595.0</td>\n",
       "      <td>165.0</td>\n",
       "      <td>0</td>\n",
       "    </tr>\n",
       "    <tr>\n",
       "      <th>3</th>\n",
       "      <td>Goliath</td>\n",
       "      <td>Six Flags Magic Mountain</td>\n",
       "      <td>Steel</td>\n",
       "      <td>85.0</td>\n",
       "      <td>235.0</td>\n",
       "      <td>255.0</td>\n",
       "      <td>4500.0</td>\n",
       "      <td>180.0</td>\n",
       "      <td>0</td>\n",
       "    </tr>\n",
       "    <tr>\n",
       "      <th>4</th>\n",
       "      <td>Titan</td>\n",
       "      <td>Six Flags Over Texas</td>\n",
       "      <td>Steel</td>\n",
       "      <td>85.0</td>\n",
       "      <td>245.0</td>\n",
       "      <td>255.0</td>\n",
       "      <td>5312.0</td>\n",
       "      <td>210.0</td>\n",
       "      <td>0</td>\n",
       "    </tr>\n",
       "  </tbody>\n",
       "</table>\n",
       "</div>"
      ],
      "text/plain": [
       "                  Name                      Park  Track  Speed  Height   Drop  \\\n",
       "0  Top Thrill Dragster               Cedar Point  Steel  120.0   420.0  400.0   \n",
       "1   Superman The Escap  Six Flags Magic Mountain  Steel  100.0   415.0  328.1   \n",
       "2     Millennium Force               Cedar Point  Steel   93.0   310.0  300.0   \n",
       "3              Goliath  Six Flags Magic Mountain  Steel   85.0   235.0  255.0   \n",
       "4                Titan      Six Flags Over Texas  Steel   85.0   245.0  255.0   \n",
       "\n",
       "   Length  Duration  Inversions  \n",
       "0  2800.0       NaN           0  \n",
       "1  1235.0       NaN           0  \n",
       "2  6595.0     165.0           0  \n",
       "3  4500.0     180.0           0  \n",
       "4  5312.0     210.0           0  "
      ]
     },
     "execution_count": 4,
     "metadata": {},
     "output_type": "execute_result"
    }
   ],
   "source": [
    "coasters.head()"
   ]
  },
  {
   "cell_type": "code",
   "execution_count": 5,
   "id": "aab2c18d",
   "metadata": {},
   "outputs": [
    {
     "name": "stdout",
     "output_type": "stream",
     "text": [
      "<class 'pandas.core.frame.DataFrame'>\n",
      "RangeIndex: 241 entries, 0 to 240\n",
      "Data columns (total 9 columns):\n",
      " #   Column      Non-Null Count  Dtype  \n",
      "---  ------      --------------  -----  \n",
      " 0   Name        241 non-null    object \n",
      " 1   Park        241 non-null    object \n",
      " 2   Track       241 non-null    object \n",
      " 3   Speed       241 non-null    float64\n",
      " 4   Height      241 non-null    float64\n",
      " 5   Drop        118 non-null    float64\n",
      " 6   Length      241 non-null    float64\n",
      " 7   Duration    157 non-null    float64\n",
      " 8   Inversions  241 non-null    int64  \n",
      "dtypes: float64(5), int64(1), object(3)\n",
      "memory usage: 17.1+ KB\n"
     ]
    }
   ],
   "source": [
    "coasters.info()"
   ]
  },
  {
   "cell_type": "code",
   "execution_count": 6,
   "id": "dd9da339",
   "metadata": {},
   "outputs": [],
   "source": [
    "coasters = coasters[~coasters.Drop.isna()]  ## need to drop the NA values by boolean indexing"
   ]
  },
  {
   "cell_type": "code",
   "execution_count": 7,
   "id": "3354e6cf",
   "metadata": {},
   "outputs": [
    {
     "name": "stdout",
     "output_type": "stream",
     "text": [
      "<class 'pandas.core.frame.DataFrame'>\n",
      "Int64Index: 118 entries, 0 to 237\n",
      "Data columns (total 9 columns):\n",
      " #   Column      Non-Null Count  Dtype  \n",
      "---  ------      --------------  -----  \n",
      " 0   Name        118 non-null    object \n",
      " 1   Park        118 non-null    object \n",
      " 2   Track       118 non-null    object \n",
      " 3   Speed       118 non-null    float64\n",
      " 4   Height      118 non-null    float64\n",
      " 5   Drop        118 non-null    float64\n",
      " 6   Length      118 non-null    float64\n",
      " 7   Duration    91 non-null     float64\n",
      " 8   Inversions  118 non-null    int64  \n",
      "dtypes: float64(5), int64(1), object(3)\n",
      "memory usage: 9.2+ KB\n"
     ]
    }
   ],
   "source": [
    "coasters.info()"
   ]
  },
  {
   "cell_type": "markdown",
   "id": "df5d0308",
   "metadata": {},
   "source": [
    "* Problem 23"
   ]
  },
  {
   "cell_type": "code",
   "execution_count": 8,
   "id": "cc5d25d4",
   "metadata": {},
   "outputs": [
    {
     "data": {
      "text/plain": [
       "(25.0, 425.0, 0.0, 160.0)"
      ]
     },
     "execution_count": 8,
     "metadata": {},
     "output_type": "execute_result"
    },
    {
     "data": {
      "image/png": "[encoded data removed]",
      "text/plain": [
       "<Figure size 800x300 with 1 Axes>"
      ]
     },
     "metadata": {},
     "output_type": "display_data"
    }
   ],
   "source": [
    "plt.figure(figsize=(8,3))\n",
    "plt.scatter(coasters.Drop, coasters.Speed,\n",
    "           s=8, marker='o');\n",
    "plt.xlabel('Drop')\n",
    "plt.ylabel('Speed')\n",
    "plt.axis([25, 425, 0, 160])"
   ]
  },
  {
   "cell_type": "markdown",
   "id": "dda2094e",
   "metadata": {},
   "source": [
    "* Problem 23(a)\n",
    "Does the scatterplot indicate that it is appropriate to calculate the correlation?\n",
    "\n",
    "\n",
    "Answer: Yes, the scatterplot does indicate that it is appropriate to calculate the correlation.  The pattern in the scatterplot is linear, with a clear positive and strong association between the Drop and Speed.\n",
    "\n",
    "Need to check **form** and **strength** before making a conclusion on the **direction**.\n",
    "\n",
    "**Form** assesses linearity versus nonlinearity.  Judging by the scatterplot, we see that the linear trend accounts for the majority of the association.\n",
    "\n",
    "**Strength** measures how scattered the data points are from the linear trend.  We see that the points are very close to the linear backbone, so the trend is very strong.  In other words, the linear singnal suggested by the association with Drop explains most of the variations in the Speed.  Measurement noise is small compared to the signal.\n",
    "\n",
    "**Direction**  Based on above observation (assessment), we can say that there is a positive correlation between Drop and Speed, and therefore it is appropriate to calculate the correction."
   ]
  },
  {
   "cell_type": "code",
   "execution_count": 9,
   "id": "70c0bf9e",
   "metadata": {},
   "outputs": [
    {
     "data": {
      "text/plain": [
       "(25.0, 425.0, 0.0, 160.0)"
      ]
     },
     "execution_count": 9,
     "metadata": {},
     "output_type": "execute_result"
    },
    {
     "data": {
      "image/png": "[encoded data removed]",
      "text/plain": [
       "<Figure size 800x300 with 1 Axes>"
      ]
     },
     "metadata": {},
     "output_type": "display_data"
    }
   ],
   "source": [
    "plt.figure(figsize=(8,3))\n",
    "plt.scatter(coasters.Drop, coasters.Speed,\n",
    "           s=8, marker='o');\n",
    "smoothed_speed = sm.nonparametric.lowess(exog=coasters.Drop, endog=coasters.Speed)\n",
    "plt.plot(smoothed_speed[:, 0], smoothed_speed[:, 1], 'r');\n",
    "plt.axis([25, 425, 0, 160])"
   ]
  },
  {
   "cell_type": "code",
   "execution_count": 11,
   "id": "b57630fb",
   "metadata": {},
   "outputs": [
    {
     "data": {
      "text/plain": [
       "0.944"
      ]
     },
     "execution_count": 11,
     "metadata": {},
     "output_type": "execute_result"
    }
   ],
   "source": [
    "round(np.corrcoef(coasters.Speed, coasters.Drop)[1, 0], 3)"
   ]
  },
  {
   "cell_type": "markdown",
   "id": "f5a1a677",
   "metadata": {},
   "source": [
    "* Problem 23(b)\n",
    "\n",
    "\n",
    "The correlation of Speed and Drop is 0.944.  Describe the association.\n",
    "\n",
    "\n",
    "Answer: The correlation of 0.944 measures a positive and strong correlation between the coaster's speed and its drop."
   ]
  },
  {
   "cell_type": "markdown",
   "id": "57357e1f",
   "metadata": {},
   "source": [
    "* Problem 47"
   ]
  },
  {
   "cell_type": "code",
   "execution_count": 12,
   "id": "f1b874a3",
   "metadata": {},
   "outputs": [],
   "source": [
    "coasters = pd.read_csv(datafile, sep='\\t')\n",
    "ride_length = coasters.Length"
   ]
  },
  {
   "cell_type": "code",
   "execution_count": 14,
   "id": "3f3289a0",
   "metadata": {},
   "outputs": [],
   "source": [
    "nsample = 1_000\n",
    "sample_size = 60\n",
    "sample_mean = np.zeros(nsample)\n",
    "sample_median = np.zeros(nsample)\n",
    "for i in range(nsample):\n",
    "    sample = ride_length.sample(sample_size)\n",
    "    sample_mean[i] = np.mean(sample)\n",
    "    sample_median[i] = np.median(sample)"
   ]
  },
  {
   "cell_type": "code",
   "execution_count": 18,
   "id": "033fa213",
   "metadata": {},
   "outputs": [
    {
     "data": {
      "image/png": "[encoded data removed]",
      "text/plain": [
       "<Figure size 640x480 with 1 Axes>"
      ]
     },
     "metadata": {},
     "output_type": "display_data"
    }
   ],
   "source": [
    "# plot historam\n",
    "plt.hist(sample_mean, bins=np.linspace(2040, 3040, 40), edgecolor='black');"
   ]
  },
  {
   "cell_type": "code",
   "execution_count": 17,
   "id": "10278912",
   "metadata": {},
   "outputs": [
    {
     "data": {
      "image/png": "[encoded data removed]",
      "text/plain": [
       "<Figure size 640x480 with 1 Axes>"
      ]
     },
     "metadata": {},
     "output_type": "display_data"
    }
   ],
   "source": [
    "plt.hist(sample_median, bins=np.linspace(1350, 3225, 30), edgecolor='black');"
   ]
  },
  {
   "cell_type": "markdown",
   "id": "8d47f995",
   "metadata": {},
   "source": [
    "* Problem 47\n",
    "\n",
    "I would use the 68-95-99.7 Rule for the distribution of means, because the distribution of means is unimodal, symmetric, and free of outliers, and so the 68-95-99.7 Rule should be applicable to this distribution.\n",
    "\n",
    "More importantly, the 68-95-99.7 Rule assumes a Gaussian (Normal) distribution.  Although the original distribution of the 241 ride lengths is not Gaussian, once we take samples repetitively and pool sample means together, the sample means obey an approximately Gaussian distribution pursuant to the Central Limit Theorem.  As a result, the 68-95-99.7 Rule applies to the histogram of the sample means.\n",
    "\n",
    "There is no such a parallel theorem for the sample medians as the CLT.  In practice, we see from the second histogram that the distribution of the sample medians does not resemble a Normal distribution."
   ]
  }
 ],
 "metadata": {
  "kernelspec": {
   "display_name": "Python 3 (ipykernel)",
   "language": "python",
   "name": "python3"
  },
  "language_info": {
   "codemirror_mode": {
    "name": "ipython",
    "version": 3
   },
   "file_extension": ".py",
   "mimetype": "text/x-python",
   "name": "python",
   "nbconvert_exporter": "python",
   "pygments_lexer": "ipython3",
   "version": "3.11.5"
  }
 },
 "nbformat": 4,
 "nbformat_minor": 5
}
