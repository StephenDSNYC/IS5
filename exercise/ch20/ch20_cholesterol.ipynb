{
 "cells": [
  {
   "cell_type": "code",
   "execution_count": 11,
   "id": "b70e30be-c366-4221-8b0a-becc62967fad",
   "metadata": {},
   "outputs": [],
   "source": [
    "import numpy as np\n",
    "import pandas as pd\n",
    "from matplotlib import pyplot as plt\n",
    "from sklearn.linear_model import LinearRegression\n",
    "import statsmodels.api as sm\n",
    "from scipy.stats import t\n",
    "linmod = LinearRegression()"
   ]
  },
  {
   "cell_type": "code",
   "execution_count": 12,
   "id": "f882753c-0d99-4492-a204-9216e749d96f",
   "metadata": {},
   "outputs": [],
   "source": [
    "datafile = '../../dataset/ch20/framingham.txt'\n",
    "data = pd.read_csv(datafile, sep='\\t')"
   ]
  },
  {
   "cell_type": "code",
   "execution_count": 13,
   "id": "36eb8d06-7ce7-46aa-889d-02780a3a8ac3",
   "metadata": {},
   "outputs": [
    {
     "data": {
      "text/html": [
       "<div>\n",
       "<style scoped>\n",
       "    .dataframe tbody tr th:only-of-type {\n",
       "        vertical-align: middle;\n",
       "    }\n",
       "\n",
       "    .dataframe tbody tr th {\n",
       "        vertical-align: top;\n",
       "    }\n",
       "\n",
       "    .dataframe thead th {\n",
       "        text-align: right;\n",
       "    }\n",
       "</style>\n",
       "<table border=\"1\" class=\"dataframe\">\n",
       "  <thead>\n",
       "    <tr style=\"text-align: right;\">\n",
       "      <th></th>\n",
       "      <th>Cholesterol</th>\n",
       "      <th>Age</th>\n",
       "      <th>Sex</th>\n",
       "      <th>SBP</th>\n",
       "      <th>DBP</th>\n",
       "      <th>CIG</th>\n",
       "    </tr>\n",
       "  </thead>\n",
       "  <tbody>\n",
       "    <tr>\n",
       "      <th>0</th>\n",
       "      <td>216</td>\n",
       "      <td>45</td>\n",
       "      <td>MALE</td>\n",
       "      <td>90</td>\n",
       "      <td>50</td>\n",
       "      <td>5.0</td>\n",
       "    </tr>\n",
       "    <tr>\n",
       "      <th>1</th>\n",
       "      <td>237</td>\n",
       "      <td>49</td>\n",
       "      <td>MALE</td>\n",
       "      <td>100</td>\n",
       "      <td>64</td>\n",
       "      <td>0.0</td>\n",
       "    </tr>\n",
       "    <tr>\n",
       "      <th>2</th>\n",
       "      <td>215</td>\n",
       "      <td>47</td>\n",
       "      <td>MALE</td>\n",
       "      <td>100</td>\n",
       "      <td>70</td>\n",
       "      <td>50.0</td>\n",
       "    </tr>\n",
       "    <tr>\n",
       "      <th>3</th>\n",
       "      <td>340</td>\n",
       "      <td>48</td>\n",
       "      <td>MALE</td>\n",
       "      <td>108</td>\n",
       "      <td>70</td>\n",
       "      <td>0.0</td>\n",
       "    </tr>\n",
       "    <tr>\n",
       "      <th>4</th>\n",
       "      <td>149</td>\n",
       "      <td>49</td>\n",
       "      <td>MALE</td>\n",
       "      <td>108</td>\n",
       "      <td>75</td>\n",
       "      <td>0.0</td>\n",
       "    </tr>\n",
       "  </tbody>\n",
       "</table>\n",
       "</div>"
      ],
      "text/plain": [
       "   Cholesterol  Age   Sex  SBP  DBP   CIG\n",
       "0          216   45  MALE   90   50   5.0\n",
       "1          237   49  MALE  100   64   0.0\n",
       "2          215   47  MALE  100   70  50.0\n",
       "3          340   48  MALE  108   70   0.0\n",
       "4          149   49  MALE  108   75   0.0"
      ]
     },
     "execution_count": 13,
     "metadata": {},
     "output_type": "execute_result"
    }
   ],
   "source": [
    "data.head()"
   ]
  },
  {
   "cell_type": "markdown",
   "id": "519ff8a9-3701-4335-98b4-f03e477f459c",
   "metadata": {},
   "source": [
    "**Problem 28.**\n",
    "\n",
    "Cholesterol Does a person’s cholesterol level tend to change with age? Data collected from 1406 adults aged 45 to 62 as part of the Framingham study produced the regression analysis shown. Assuming that the data satisfy the conditions for infer- ence, examine the association between age and cholesterol level. (Data in Framingham)\n",
    "\n",
    "(a) State the appropriate hypothesis for the slope.\n",
    "\n",
    "(b) Test your hypothesis and state your conclusion in the proper context."
   ]
  },
  {
   "cell_type": "code",
   "execution_count": 14,
   "id": "7cfd856b-b237-4bc4-b742-5eb9b1aa0e5a",
   "metadata": {},
   "outputs": [],
   "source": [
    "cholesterol = data['Cholesterol']\n",
    "age = data['Age']\n",
    "age_cholesterol = data[ ['Age', 'Cholesterol'] ]"
   ]
  },
  {
   "cell_type": "code",
   "execution_count": 15,
   "id": "f366516c-eb0e-4ef5-886d-228ea4f503bc",
   "metadata": {},
   "outputs": [
    {
     "data": {
      "image/png": "[encoded data removed]",
      "text/plain": [
       "<Figure size 640x480 with 1 Axes>"
      ]
     },
     "metadata": {},
     "output_type": "display_data"
    }
   ],
   "source": [
    "cholesterol.hist();"
   ]
  },
  {
   "cell_type": "markdown",
   "id": "3c5e13de-8377-4d7e-bb5c-1f41b1ef1291",
   "metadata": {},
   "source": [
    "**Answer to (a):**\n",
    "\n",
    "$H_0:\\beta_1 = 0$; a person's cholesterol level has no association with the person's age. \n",
    "\n",
    "$H_0:\\beta_1 \\neq 0$; a person's cholesterol level does have association with the person's age."
   ]
  },
  {
   "cell_type": "code",
   "execution_count": 20,
   "id": "45b82305-7ab8-46b9-b5e0-60a718b654a8",
   "metadata": {},
   "outputs": [
    {
     "name": "stdout",
     "output_type": "stream",
     "text": [
      "T-score: 3.00\n",
      "P-value: 0.0028\n"
     ]
    }
   ],
   "source": [
    "def sol28b():\n",
    "    age_slope = 0\n",
    "    age_coffe = 0.771639\n",
    "    df = 1406 - 2\n",
    "    SE_coeff = 0.2574\n",
    "    tscore = (age_coffe - age_slope) / SE_coeff\n",
    "    pval = (1-t.cdf(tscore, df)) * 2\n",
    "    print(f\"T-score: {tscore:.2f}\")\n",
    "    print(f\"P-value: {pval:.4f}\")\n",
    "    \n",
    "sol28b()"
   ]
  },
  {
   "cell_type": "markdown",
   "id": "703ec3d6-84e9-4659-a7d2-328d8c10a9ba",
   "metadata": {},
   "source": [
    "**Answer to Problem(b)**\n",
    "\n",
    "We tested the hypothesis, and we have the t-score with 3 standard errors. Such standatd error is very unlikely.  The P-value is 0.0028 and it leads me to reject the hypothesis. Thus, we can quite confident that the coefficient is not zero, and we can conclude that a person's cholesterol level does have association with the person's age."
   ]
  },
  {
   "cell_type": "code",
   "execution_count": null,
   "id": "40e1de67-e192-4b68-8a50-ef994bfc503d",
   "metadata": {},
   "outputs": [],
   "source": []
  },
  {
   "cell_type": "code",
   "execution_count": null,
   "id": "f46d6baf-220d-4767-9a02-20f9a0028b64",
   "metadata": {},
   "outputs": [],
   "source": []
  },
  {
   "cell_type": "code",
   "execution_count": null,
   "id": "c54abbae-f9bf-494d-9c10-2257311ed069",
   "metadata": {},
   "outputs": [],
   "source": []
  },
  {
   "cell_type": "code",
   "execution_count": null,
   "id": "67a69cce-ad4f-4409-91c9-40be55bbc073",
   "metadata": {},
   "outputs": [],
   "source": []
  },
  {
   "cell_type": "code",
   "execution_count": null,
   "id": "65fd59ec-8fd0-48c9-b1cb-7c9acbffcf66",
   "metadata": {},
   "outputs": [],
   "source": []
  },
  {
   "cell_type": "code",
   "execution_count": null,
   "id": "101cb600-2ce0-4cbc-871b-29cf88cdf15b",
   "metadata": {},
   "outputs": [],
   "source": []
  },
  {
   "cell_type": "code",
   "execution_count": null,
   "id": "3034ea41-ab42-4eb0-9e3c-245a32e2522a",
   "metadata": {},
   "outputs": [],
   "source": []
  },
  {
   "cell_type": "code",
   "execution_count": null,
   "id": "b30e89ea-3052-4cb9-84af-45872e39045c",
   "metadata": {},
   "outputs": [],
   "source": []
  },
  {
   "cell_type": "code",
   "execution_count": null,
   "id": "57aa3fa9-c331-44f6-bff8-34944bc75602",
   "metadata": {},
   "outputs": [],
   "source": []
  },
  {
   "cell_type": "code",
   "execution_count": null,
   "id": "7306b47f-a61d-4db1-9578-71076dcd8254",
   "metadata": {},
   "outputs": [],
   "source": []
  },
  {
   "cell_type": "code",
   "execution_count": null,
   "id": "9fd1fcf9-df4f-45be-b9e1-73a7f253553a",
   "metadata": {},
   "outputs": [],
   "source": []
  }
 ],
 "metadata": {
  "kernelspec": {
   "display_name": "Python 3 (ipykernel)",
   "language": "python",
   "name": "python3"
  },
  "language_info": {
   "codemirror_mode": {
    "name": "ipython",
    "version": 3
   },
   "file_extension": ".py",
   "mimetype": "text/x-python",
   "name": "python",
   "nbconvert_exporter": "python",
   "pygments_lexer": "ipython3",
   "version": "3.11.5"
  }
 },
 "nbformat": 4,
 "nbformat_minor": 5
}
