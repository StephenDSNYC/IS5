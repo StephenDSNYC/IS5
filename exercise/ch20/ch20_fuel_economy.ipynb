{
 "cells": [
  {
   "cell_type": "code",
   "execution_count": 1,
   "id": "7c889cdb-1544-4fa0-9744-146943858e23",
   "metadata": {},
   "outputs": [],
   "source": [
    "import numpy as np\n",
    "import pandas as pd\n",
    "from matplotlib import pyplot as plt\n",
    "from sklearn.linear_model import LinearRegression\n",
    "import statsmodels.api as sm\n",
    "from scipy.stats import t\n",
    "linmod = LinearRegression()\n",
    "from numpy import corrcoef\n",
    "import statistics as stat\n",
    "import math\n",
    "from math import sqrt\n",
    "from scipy.stats import norm, t"
   ]
  },
  {
   "cell_type": "code",
   "execution_count": 2,
   "id": "8107c166-4760-4376-9dc3-16c7e344867d",
   "metadata": {},
   "outputs": [],
   "source": [
    "datafile = '../../dataset/ch20/fuel_economy.txt'\n",
    "data = pd.read_csv(datafile, sep='\\t')"
   ]
  },
  {
   "cell_type": "code",
   "execution_count": 3,
   "id": "8827eed7-55a2-4da2-ad56-66f24dcffd55",
   "metadata": {},
   "outputs": [
    {
     "data": {
      "text/html": [
       "<div>\n",
       "<style scoped>\n",
       "    .dataframe tbody tr th:only-of-type {\n",
       "        vertical-align: middle;\n",
       "    }\n",
       "\n",
       "    .dataframe tbody tr th {\n",
       "        vertical-align: top;\n",
       "    }\n",
       "\n",
       "    .dataframe thead th {\n",
       "        text-align: right;\n",
       "    }\n",
       "</style>\n",
       "<table border=\"1\" class=\"dataframe\">\n",
       "  <thead>\n",
       "    <tr style=\"text-align: right;\">\n",
       "      <th></th>\n",
       "      <th>MPG</th>\n",
       "      <th>wt(1000s)</th>\n",
       "    </tr>\n",
       "  </thead>\n",
       "  <tbody>\n",
       "    <tr>\n",
       "      <th>0</th>\n",
       "      <td>25</td>\n",
       "      <td>2.700</td>\n",
       "    </tr>\n",
       "    <tr>\n",
       "      <th>1</th>\n",
       "      <td>33</td>\n",
       "      <td>2.305</td>\n",
       "    </tr>\n",
       "    <tr>\n",
       "      <th>2</th>\n",
       "      <td>34</td>\n",
       "      <td>2.300</td>\n",
       "    </tr>\n",
       "    <tr>\n",
       "      <th>3</th>\n",
       "      <td>26</td>\n",
       "      <td>2.485</td>\n",
       "    </tr>\n",
       "    <tr>\n",
       "      <th>4</th>\n",
       "      <td>32</td>\n",
       "      <td>2.260</td>\n",
       "    </tr>\n",
       "  </tbody>\n",
       "</table>\n",
       "</div>"
      ],
      "text/plain": [
       "   MPG  wt(1000s)\n",
       "0   25      2.700\n",
       "1   33      2.305\n",
       "2   34      2.300\n",
       "3   26      2.485\n",
       "4   32      2.260"
      ]
     },
     "execution_count": 3,
     "metadata": {},
     "output_type": "execute_result"
    }
   ],
   "source": [
    "data.head()"
   ]
  },
  {
   "cell_type": "markdown",
   "id": "06ad0b3e-56bf-4e7b-b44d-d10ffd465ad7",
   "metadata": {},
   "source": [
    "**Problem 40.**\n",
    "\n",
    "Fuel economy A consumer organization has reported test data for 50 car models. We will examine the association between the weight of the car (in thousands of pounds) and the fuel effi- ciency (in miles per gallon). Here are the scatterplot, summary statistics, and regression analysis:\n",
    "\n",
    "a) Is there strong evidence of an association between the weight of a car and its gas mileage? Write an appropriate hypothesis.\n",
    "\n",
    "b) Are the assumptions for regression satisfied?\n",
    "\n",
    "c) Test your hypothesis and state your conclusion."
   ]
  },
  {
   "cell_type": "code",
   "execution_count": 4,
   "id": "a1a70304-bd68-482d-9b3d-3a8ece2c3a74",
   "metadata": {},
   "outputs": [],
   "source": [
    "weight = data['wt(1000s)']\n",
    "fuel_efficiency = data['MPG']"
   ]
  },
  {
   "cell_type": "code",
   "execution_count": 5,
   "id": "8e9fa7fa-f4b6-46f2-9909-d7641c9214bd",
   "metadata": {},
   "outputs": [
    {
     "data": {
      "image/png": "[encoded data removed]",
      "text/plain": [
       "<Figure size 640x480 with 1 Axes>"
      ]
     },
     "metadata": {},
     "output_type": "display_data"
    }
   ],
   "source": [
    "fuel_efficiency.hist();"
   ]
  },
  {
   "cell_type": "code",
   "execution_count": 6,
   "id": "d4690ffa-2fcd-49c0-8aab-99d29cf93dff",
   "metadata": {},
   "outputs": [],
   "source": [
    "def iqr(data):\n",
    "    q75, q25 = np.percentile(data, [75, 25])\n",
    "    return q75, q25, q75-q25"
   ]
  },
  {
   "cell_type": "code",
   "execution_count": 7,
   "id": "ec8b6d72-a654-4254-9be4-494d38025e9b",
   "metadata": {},
   "outputs": [
    {
     "data": {
      "text/html": [
       "<div>\n",
       "<style scoped>\n",
       "    .dataframe tbody tr th:only-of-type {\n",
       "        vertical-align: middle;\n",
       "    }\n",
       "\n",
       "    .dataframe tbody tr th {\n",
       "        vertical-align: top;\n",
       "    }\n",
       "\n",
       "    .dataframe thead th {\n",
       "        text-align: right;\n",
       "    }\n",
       "</style>\n",
       "<table border=\"1\" class=\"dataframe\">\n",
       "  <thead>\n",
       "    <tr style=\"text-align: right;\">\n",
       "      <th></th>\n",
       "      <th>Count</th>\n",
       "      <th>Mean</th>\n",
       "      <th>StdDev</th>\n",
       "    </tr>\n",
       "  </thead>\n",
       "  <tbody>\n",
       "    <tr>\n",
       "      <th>Wt1000s</th>\n",
       "      <td>50</td>\n",
       "      <td>2.8878</td>\n",
       "      <td>0.511656</td>\n",
       "    </tr>\n",
       "    <tr>\n",
       "      <th>MPG</th>\n",
       "      <td>50</td>\n",
       "      <td>25.0200</td>\n",
       "      <td>4.833940</td>\n",
       "    </tr>\n",
       "  </tbody>\n",
       "</table>\n",
       "</div>"
      ],
      "text/plain": [
       "         Count     Mean    StdDev\n",
       "Wt1000s     50   2.8878  0.511656\n",
       "MPG         50  25.0200  4.833940"
      ]
     },
     "execution_count": 7,
     "metadata": {},
     "output_type": "execute_result"
    }
   ],
   "source": [
    "_q75, _q25, f_iqr = iqr(weight)\n",
    "_q75, _q25, m_iqr = iqr(fuel_efficiency)\n",
    "\n",
    "summary_of_fuel_economy= pd.DataFrame(\n",
    "data={\n",
    "\n",
    "    'Count': [ len(weight),\n",
    "               len(fuel_efficiency),           \n",
    "             ],\n",
    "    \n",
    "    'Mean': [round(stat.mean(weight), 5),\n",
    "             round(stat.mean(fuel_efficiency), 5),\n",
    "            ],\n",
    "    \n",
    "\n",
    "    'StdDev':[round(stat.stdev(weight), 6),\n",
    "              round(stat.stdev(fuel_efficiency), 5),\n",
    "            ],\n",
    "    \n",
    "     },\n",
    "    \n",
    "    index=['Wt1000s', 'MPG']\n",
    ")\n",
    "\n",
    "summary_of_fuel_economy"
   ]
  },
  {
   "cell_type": "code",
   "execution_count": 8,
   "id": "a93a8073-697d-4856-a3d2-cb6b375da303",
   "metadata": {},
   "outputs": [
    {
     "name": "stdout",
     "output_type": "stream",
     "text": [
      "R_squared: 75.6%\n"
     ]
    }
   ],
   "source": [
    "weight = np.array(weight).reshape(-1, 1)\n",
    "linmod.fit(weight, fuel_efficiency);\n",
    "fuel_efficiency_est = linmod.predict(weight)\n",
    "r = linmod.score(weight, fuel_efficiency)\n",
    "print(f'R_squared: {r * 100:.1f}%')"
   ]
  },
  {
   "cell_type": "code",
   "execution_count": 9,
   "id": "ebdab6e3-f159-4536-91c9-292bcd3a78d0",
   "metadata": {},
   "outputs": [
    {
     "data": {
      "image/png": "[encoded data removed]",
      "text/plain": [
       "<Figure size 640x480 with 1 Axes>"
      ]
     },
     "metadata": {},
     "output_type": "display_data"
    }
   ],
   "source": [
    "plt.figure()\n",
    "plt.scatter(weight, fuel_efficiency)\n",
    "plt.plot(weight, fuel_efficiency_est, color='r', lw=3);\n",
    "plt.xlabel('Weight (1000 lb)')\n",
    "plt.ylabel('Fuel efficiency (mpg)');"
   ]
  },
  {
   "cell_type": "code",
   "execution_count": 10,
   "id": "ff0883d4-716b-4247-a4a8-230983d27f69",
   "metadata": {},
   "outputs": [
    {
     "data": {
      "text/plain": [
       "(48.739305265560574, -8.213624650446905)"
      ]
     },
     "execution_count": 10,
     "metadata": {},
     "output_type": "execute_result"
    }
   ],
   "source": [
    "linmod.intercept_, linmod.coef_[0]"
   ]
  },
  {
   "cell_type": "code",
   "execution_count": 11,
   "id": "aa4c1a2c-26cd-4ed2-b7be-9276ac7e3c5d",
   "metadata": {},
   "outputs": [
    {
     "data": {
      "image/png": "[encoded data removed]",
      "text/plain": [
       "<Figure size 640x480 with 1 Axes>"
      ]
     },
     "metadata": {},
     "output_type": "display_data"
    }
   ],
   "source": [
    "residues = fuel_efficiency - fuel_efficiency_est\n",
    "plt.scatter(fuel_efficiency_est, residues, color='r');\n",
    "plt.xlabel('Predicted (mpg)')\n",
    "plt.ylabel('Residues (mpg)')\n",
    "plt.title('Fuel_efficiency ~ Weight');"
   ]
  },
  {
   "cell_type": "code",
   "execution_count": 12,
   "id": "9c512b8c-38c6-48fe-aa82-e5926e236e31",
   "metadata": {},
   "outputs": [
    {
     "data": {
      "image/png": "[encoded data removed]",
      "text/plain": [
       "<Figure size 640x480 with 1 Axes>"
      ]
     },
     "metadata": {},
     "output_type": "display_data"
    }
   ],
   "source": [
    "plt.hist(residues, edgecolor='k');"
   ]
  },
  {
   "cell_type": "code",
   "execution_count": 13,
   "id": "0c83b718-7474-4d0d-9b8c-4fae1263478c",
   "metadata": {},
   "outputs": [],
   "source": [
    "weight = sm.add_constant(weight)"
   ]
  },
  {
   "cell_type": "code",
   "execution_count": 14,
   "id": "3860d97a-0ddb-457d-8001-7520f495a438",
   "metadata": {},
   "outputs": [
    {
     "data": {
      "text/plain": [
       "array([[1.   , 2.7  ],\n",
       "       [1.   , 2.305],\n",
       "       [1.   , 2.3  ],\n",
       "       [1.   , 2.485],\n",
       "       [1.   , 2.26 ],\n",
       "       [1.   , 2.345],\n",
       "       [1.   , 2.325],\n",
       "       [1.   , 2.34 ],\n",
       "       [1.   , 2.675],\n",
       "       [1.   , 1.9  ]])"
      ]
     },
     "execution_count": 14,
     "metadata": {},
     "output_type": "execute_result"
    }
   ],
   "source": [
    "weight[:10]"
   ]
  },
  {
   "cell_type": "code",
   "execution_count": 15,
   "id": "f5373a96-16e5-4ac2-809b-ec431b282ef7",
   "metadata": {},
   "outputs": [],
   "source": [
    "weight_model = sm.OLS(fuel_efficiency, weight)"
   ]
  },
  {
   "cell_type": "code",
   "execution_count": 16,
   "id": "c9c24f89-1e92-4939-b018-c41916d71389",
   "metadata": {},
   "outputs": [],
   "source": [
    "weight_results = weight_model.fit()"
   ]
  },
  {
   "cell_type": "code",
   "execution_count": 17,
   "id": "b98fd844-fc88-4ac7-8b58-d78ee90d3f0b",
   "metadata": {},
   "outputs": [
    {
     "data": {
      "text/html": [
       "<table class=\"simpletable\">\n",
       "<caption>OLS Regression Results</caption>\n",
       "<tr>\n",
       "  <th>Dep. Variable:</th>           <td>MPG</td>       <th>  R-squared:         </th> <td>   0.756</td>\n",
       "</tr>\n",
       "<tr>\n",
       "  <th>Model:</th>                   <td>OLS</td>       <th>  Adj. R-squared:    </th> <td>   0.751</td>\n",
       "</tr>\n",
       "<tr>\n",
       "  <th>Method:</th>             <td>Least Squares</td>  <th>  F-statistic:       </th> <td>   148.6</td>\n",
       "</tr>\n",
       "<tr>\n",
       "  <th>Date:</th>             <td>Sun, 28 Apr 2024</td> <th>  Prob (F-statistic):</th> <td>2.64e-16</td>\n",
       "</tr>\n",
       "<tr>\n",
       "  <th>Time:</th>                 <td>15:45:21</td>     <th>  Log-Likelihood:    </th> <td> -113.98</td>\n",
       "</tr>\n",
       "<tr>\n",
       "  <th>No. Observations:</th>      <td>    50</td>      <th>  AIC:               </th> <td>   232.0</td>\n",
       "</tr>\n",
       "<tr>\n",
       "  <th>Df Residuals:</th>          <td>    48</td>      <th>  BIC:               </th> <td>   235.8</td>\n",
       "</tr>\n",
       "<tr>\n",
       "  <th>Df Model:</th>              <td>     1</td>      <th>                     </th>     <td> </td>   \n",
       "</tr>\n",
       "<tr>\n",
       "  <th>Covariance Type:</th>      <td>nonrobust</td>    <th>                     </th>     <td> </td>   \n",
       "</tr>\n",
       "</table>\n",
       "<table class=\"simpletable\">\n",
       "<tr>\n",
       "    <td></td>       <th>coef</th>     <th>std err</th>      <th>t</th>      <th>P>|t|</th>  <th>[0.025</th>    <th>0.975]</th>  \n",
       "</tr>\n",
       "<tr>\n",
       "  <th>const</th> <td>   48.7393</td> <td>    1.976</td> <td>   24.671</td> <td> 0.000</td> <td>   44.767</td> <td>   52.711</td>\n",
       "</tr>\n",
       "<tr>\n",
       "  <th>x1</th>    <td>   -8.2136</td> <td>    0.674</td> <td>  -12.190</td> <td> 0.000</td> <td>   -9.568</td> <td>   -6.859</td>\n",
       "</tr>\n",
       "</table>\n",
       "<table class=\"simpletable\">\n",
       "<tr>\n",
       "  <th>Omnibus:</th>       <td> 0.462</td> <th>  Durbin-Watson:     </th> <td>   2.584</td>\n",
       "</tr>\n",
       "<tr>\n",
       "  <th>Prob(Omnibus):</th> <td> 0.794</td> <th>  Jarque-Bera (JB):  </th> <td>   0.236</td>\n",
       "</tr>\n",
       "<tr>\n",
       "  <th>Skew:</th>          <td>-0.168</td> <th>  Prob(JB):          </th> <td>   0.889</td>\n",
       "</tr>\n",
       "<tr>\n",
       "  <th>Kurtosis:</th>      <td> 2.995</td> <th>  Cond. No.          </th> <td>    18.9</td>\n",
       "</tr>\n",
       "</table><br/><br/>Notes:<br/>[1] Standard Errors assume that the covariance matrix of the errors is correctly specified."
      ],
      "text/latex": [
       "\\begin{center}\n",
       "\\begin{tabular}{lclc}\n",
       "\\toprule\n",
       "\\textbf{Dep. Variable:}    &       MPG        & \\textbf{  R-squared:         } &     0.756   \\\\\n",
       "\\textbf{Model:}            &       OLS        & \\textbf{  Adj. R-squared:    } &     0.751   \\\\\n",
       "\\textbf{Method:}           &  Least Squares   & \\textbf{  F-statistic:       } &     148.6   \\\\\n",
       "\\textbf{Date:}             & Sun, 28 Apr 2024 & \\textbf{  Prob (F-statistic):} &  2.64e-16   \\\\\n",
       "\\textbf{Time:}             &     15:45:21     & \\textbf{  Log-Likelihood:    } &   -113.98   \\\\\n",
       "\\textbf{No. Observations:} &          50      & \\textbf{  AIC:               } &     232.0   \\\\\n",
       "\\textbf{Df Residuals:}     &          48      & \\textbf{  BIC:               } &     235.8   \\\\\n",
       "\\textbf{Df Model:}         &           1      & \\textbf{                     } &             \\\\\n",
       "\\textbf{Covariance Type:}  &    nonrobust     & \\textbf{                     } &             \\\\\n",
       "\\bottomrule\n",
       "\\end{tabular}\n",
       "\\begin{tabular}{lcccccc}\n",
       "               & \\textbf{coef} & \\textbf{std err} & \\textbf{t} & \\textbf{P$> |$t$|$} & \\textbf{[0.025} & \\textbf{0.975]}  \\\\\n",
       "\\midrule\n",
       "\\textbf{const} &      48.7393  &        1.976     &    24.671  &         0.000        &       44.767    &       52.711     \\\\\n",
       "\\textbf{x1}    &      -8.2136  &        0.674     &   -12.190  &         0.000        &       -9.568    &       -6.859     \\\\\n",
       "\\bottomrule\n",
       "\\end{tabular}\n",
       "\\begin{tabular}{lclc}\n",
       "\\textbf{Omnibus:}       &  0.462 & \\textbf{  Durbin-Watson:     } &    2.584  \\\\\n",
       "\\textbf{Prob(Omnibus):} &  0.794 & \\textbf{  Jarque-Bera (JB):  } &    0.236  \\\\\n",
       "\\textbf{Skew:}          & -0.168 & \\textbf{  Prob(JB):          } &    0.889  \\\\\n",
       "\\textbf{Kurtosis:}      &  2.995 & \\textbf{  Cond. No.          } &     18.9  \\\\\n",
       "\\bottomrule\n",
       "\\end{tabular}\n",
       "%\\caption{OLS Regression Results}\n",
       "\\end{center}\n",
       "\n",
       "Notes: \\newline\n",
       " [1] Standard Errors assume that the covariance matrix of the errors is correctly specified."
      ],
      "text/plain": [
       "<class 'statsmodels.iolib.summary.Summary'>\n",
       "\"\"\"\n",
       "                            OLS Regression Results                            \n",
       "==============================================================================\n",
       "Dep. Variable:                    MPG   R-squared:                       0.756\n",
       "Model:                            OLS   Adj. R-squared:                  0.751\n",
       "Method:                 Least Squares   F-statistic:                     148.6\n",
       "Date:                Sun, 28 Apr 2024   Prob (F-statistic):           2.64e-16\n",
       "Time:                        15:45:21   Log-Likelihood:                -113.98\n",
       "No. Observations:                  50   AIC:                             232.0\n",
       "Df Residuals:                      48   BIC:                             235.8\n",
       "Df Model:                           1                                         \n",
       "Covariance Type:            nonrobust                                         \n",
       "==============================================================================\n",
       "                 coef    std err          t      P>|t|      [0.025      0.975]\n",
       "------------------------------------------------------------------------------\n",
       "const         48.7393      1.976     24.671      0.000      44.767      52.711\n",
       "x1            -8.2136      0.674    -12.190      0.000      -9.568      -6.859\n",
       "==============================================================================\n",
       "Omnibus:                        0.462   Durbin-Watson:                   2.584\n",
       "Prob(Omnibus):                  0.794   Jarque-Bera (JB):                0.236\n",
       "Skew:                          -0.168   Prob(JB):                        0.889\n",
       "Kurtosis:                       2.995   Cond. No.                         18.9\n",
       "==============================================================================\n",
       "\n",
       "Notes:\n",
       "[1] Standard Errors assume that the covariance matrix of the errors is correctly specified.\n",
       "\"\"\""
      ]
     },
     "execution_count": 17,
     "metadata": {},
     "output_type": "execute_result"
    }
   ],
   "source": [
    "weight_results.summary()"
   ]
  },
  {
   "cell_type": "markdown",
   "id": "3e9253f9-dc36-4b33-b389-3b256ef1e7f5",
   "metadata": {},
   "source": [
    "**Answer to (a)**\n",
    "\n",
    "$H_0:\\beta_1 = 0$; a car's weight does not have associations with the car's fuel efficiency. \n",
    "\n",
    "$H_0:\\beta_1 \\neq 0$; a car's weight does have associations with the car's fuel efficiency."
   ]
  },
  {
   "cell_type": "markdown",
   "id": "076ed7db-2844-4e32-b3d6-147da913c912",
   "metadata": {},
   "source": [
    "**Answer to (b)**\n",
    "\n",
    "Straight enough condition: The scatterplot looks straight enough,and the scatterplot of the residuals against perdicted fuel efficiency does not have any pattern.\n",
    "\n",
    "Independence assumption: The consumer organization has reported test data for 50 car models, thus we reasonably believe that the independece assumption is met.\n",
    "\n",
    "Does the plot thicken? condition: The residuals scatterplot does not look thickening.\n",
    "\n",
    "Nearly normal condition and the outlier condition: The histogram of the residuals is unimodal and symmetric, thus the nearly normal condition is met."
   ]
  },
  {
   "cell_type": "code",
   "execution_count": 18,
   "id": "aa93068c-0c27-4ed1-a90e-c3d95d374b0d",
   "metadata": {},
   "outputs": [
    {
     "name": "stdout",
     "output_type": "stream",
     "text": [
      "T-score: -12.2\n",
      "P-value: 2.6657e-16\n"
     ]
    }
   ],
   "source": [
    "def sol40c():\n",
    "    weight_slope = 0\n",
    "    weight_coeff = -8.2136\n",
    "    df = 50 - 2\n",
    "    SE_coeff = 0.674\n",
    "    tscore = (weight_coeff - weight_slope) / SE_coeff\n",
    "    pval = t.cdf(tscore, df) * 2\n",
    "    print(f\"T-score: {tscore:.1f}\")\n",
    "    print(f\"P-value: {pval:.4e}\")\n",
    "    \n",
    "sol40c()"
   ]
  },
  {
   "cell_type": "markdown",
   "id": "c4f789d8-ba89-4c3e-9198-7b7f630fe1a3",
   "metadata": {},
   "source": [
    "**Answer to (c)**\n",
    "\n",
    "We tested the hypothesis, and we have the t-score with 12.2 standard errors. Such standatd error is very unlikely.  The P-value is 0.0001, thus, we reject the hypothesis. We are confident that the coefficient is not zero, and we can conclude that a car' fuel efficiency does have associations with the car's weight."
   ]
  },
  {
   "cell_type": "markdown",
   "id": "40c234a3-aac3-4b71-9a2d-90e62feec32b",
   "metadata": {},
   "source": [
    "**Problem 42**\n",
    "\n",
    "Fuel economy, part II Consider again the data in Exercise 40 about the gas mileage and weights of cars.\n",
    "\n",
    "a) Create a 95% confidence interval for the slope of the regres- sion line.\n",
    "\n",
    "b) Explain in this context what your confidence interval means."
   ]
  },
  {
   "cell_type": "code",
   "execution_count": 19,
   "id": "e75bb8a7-6002-4b5b-855d-7558299bbd01",
   "metadata": {},
   "outputs": [
    {
     "name": "stdout",
     "output_type": "stream",
     "text": [
      "T-score: -12.186\n",
      "T-critical: 2.011\n",
      "-9.568767824665404 -6.858432175334595\n"
     ]
    }
   ],
   "source": [
    "def sol42a():\n",
    "    weight_slope = 0\n",
    "    weight_coeff = -8.2136\n",
    "    df = 50 - 2\n",
    "    SE_coeff = 0.674\n",
    "    tscore = (weight_coeff - weight_slope) / SE_coeff\n",
    "    tcritical = t.ppf(0.975, df)\n",
    "    print(f\"T-score: {tscore:.3f}\")\n",
    "    print(f\"T-critical: {tcritical:.3f}\")\n",
    "    print(weight_coeff-SE_coeff*tcritical, weight_coeff +SE_coeff*tcritical)\n",
    "    \n",
    "sol42a()"
   ]
  },
  {
   "cell_type": "markdown",
   "id": "60fa499b-f8a8-4c7a-a7f8-6fa10a995530",
   "metadata": {},
   "source": [
    "**Answer to (a)**\n",
    "\n",
    "The 95% confidence interval for the slope is (-9.57, -6.86)."
   ]
  },
  {
   "cell_type": "markdown",
   "id": "232ed585-03f7-4a75-8118-3a0e0cf6459b",
   "metadata": {},
   "source": [
    "**Answer to (b)**\n",
    "The 95% confidence interval explains that the true slope is between -9.57 and -6.86.  Based on the regression model, we can conclude that fuel decreases about 9.57 to 6.86 in miles per gallon per thousand of pound of car's weight.\n"
   ]
  },
  {
   "cell_type": "markdown",
   "id": "8a1287c9-b81f-47d6-ac2c-7cf6354e404d",
   "metadata": {},
   "source": [
    "**Problem 44**\n",
    "\n",
    "Fuel economy, part III Consider again the data in Exercise 40 about the gas mileage and weights of cars.\n",
    "\n",
    "a) Create a 95% confidence interval for the average fuel effi- ciency among cars weighing 2500 pounds, and explain what your interval means.\n",
    "\n",
    "b) Create a 95% prediction interval for the gas mileage you might get driving your new 3450-pound SUV, and explain what that interval means."
   ]
  },
  {
   "cell_type": "code",
   "execution_count": 24,
   "id": "2052c8b4-95d4-4940-9252-0adba66d9ed7",
   "metadata": {},
   "outputs": [
    {
     "name": "stdout",
     "output_type": "stream",
     "text": [
      "Fuel Efficiency Predicted: 28.206\n",
      "T-critical: 2.011\n",
      "Margin of Error: 0.866\n",
      "27.33991628553525 29.072083714464757\n"
     ]
    }
   ],
   "source": [
    "def sol44a():\n",
    "    s = 2.413\n",
    "    n = 50\n",
    "    weight_bar = 2.89\n",
    "    weight_predicted = 2.5\n",
    "    intercept = 48.74\n",
    "    weight_slope = 0\n",
    "    weight_coeff = -8.2136\n",
    "    df = n - 2\n",
    "    SE_coeff = 0.674\n",
    "    fuel_efficiency_predicted = intercept + weight_coeff * weight_predicted \n",
    "    SE = sqrt(SE_coeff**2 * (weight_predicted - weight_bar)**2 + s**2 / n )\n",
    "    \n",
    "    \n",
    "    tcritical = t.ppf(0.975, df)\n",
    "    ME = tcritical * SE \n",
    "\n",
    "    print(f\"Fuel Efficiency Predicted: {fuel_efficiency_predicted :.3f}\")\n",
    "    print(f\"T-critical: {tcritical:.3f}\")\n",
    "    print(f\"Margin of Error: {ME:.3f}\")\n",
    "    \n",
    "    print(fuel_efficiency_predicted - ME, fuel_efficiency_predicted + ME)\n",
    "    \n",
    "sol44a()"
   ]
  },
  {
   "cell_type": "markdown",
   "id": "a77f54c6-f730-4a9c-8c47-5541247e2c16",
   "metadata": {},
   "source": [
    "**Answer to (a)** \n",
    "\n",
    "I am 95% confidence that the mean fuel usage for cars with weighting 2500 lbs Weight is between 27.34 and 29.07."
   ]
  },
  {
   "cell_type": "code",
   "execution_count": 26,
   "id": "ed287e37-cab0-4a9c-880c-6f26346945c5",
   "metadata": {},
   "outputs": [
    {
     "name": "stdout",
     "output_type": "stream",
     "text": [
      "Fuel Efficiency Predicted: 20.403\n",
      "T-critical: 2.011\n",
      "Margin of Error: 4.958\n",
      "15.444722067527138 25.361437932472867\n"
     ]
    }
   ],
   "source": [
    "def sol44b():\n",
    "    s = 2.413\n",
    "    n = 50\n",
    "    weight_bar = 2.89\n",
    "    weight_predicted = 3.45\n",
    "    intercept = 48.74\n",
    "    weight_slope = 0\n",
    "    weight_coeff = -8.2136\n",
    "    df = n - 2\n",
    "    SE_coeff = 0.674\n",
    "    fuel_efficiency_predicted = intercept + weight_coeff * weight_predicted \n",
    "    SE = sqrt(SE_coeff**2 * (weight_predicted - weight_bar)**2 + s**2 / n + s**2)\n",
    "    \n",
    "    \n",
    "    tcritical = t.ppf(0.975, df)\n",
    "    ME = tcritical * SE \n",
    "\n",
    "    print(f\"Fuel Efficiency Predicted: {fuel_efficiency_predicted :.3f}\")\n",
    "    print(f\"T-critical: {tcritical:.3f}\")\n",
    "    print(f\"Margin of Error: {ME:.3f}\")\n",
    "    \n",
    "    print(fuel_efficiency_predicted - ME, fuel_efficiency_predicted + ME)\n",
    "    \n",
    "sol44b()"
   ]
  },
  {
   "cell_type": "markdown",
   "id": "c89558a5-8498-4498-a5e3-ac5c86544609",
   "metadata": {},
   "source": [
    "**Answer to (b)**\n",
    "\n",
    "I am 95% confidence that the prediction interval for my new 3450-pound SUV is between 15.44 and 25.36."
   ]
  }
 ],
 "metadata": {
  "kernelspec": {
   "display_name": "Python 3 (ipykernel)",
   "language": "python",
   "name": "python3"
  },
  "language_info": {
   "codemirror_mode": {
    "name": "ipython",
    "version": 3
   },
   "file_extension": ".py",
   "mimetype": "text/x-python",
   "name": "python",
   "nbconvert_exporter": "python",
   "pygments_lexer": "ipython3",
   "version": "3.11.5"
  }
 },
 "nbformat": 4,
 "nbformat_minor": 5
}
