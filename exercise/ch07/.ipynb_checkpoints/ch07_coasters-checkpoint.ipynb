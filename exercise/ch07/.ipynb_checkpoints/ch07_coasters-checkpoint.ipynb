{
 "cells": [
  {
   "cell_type": "code",
   "execution_count": 1,
   "id": "baa4ae45",
   "metadata": {},
   "outputs": [],
   "source": [
    "import numpy as np\n",
    "import pandas as pd\n",
    "from matplotlib import pyplot as plt\n",
    "import statsmodels.api as sm\n",
    "import statistics as stat\n",
    "from scipy import stats\n",
    "from sklearn.linear_model import LinearRegression\n",
    "\n",
    "linear_fit = LinearRegression()"
   ]
  },
  {
   "cell_type": "code",
   "execution_count": 2,
   "id": "0d7ed6b0",
   "metadata": {},
   "outputs": [],
   "source": [
    "datafile = '../../dataset/ch04/coasters_2015.txt'\n",
    "coasters = pd.read_csv(datafile, sep='\\t')"
   ]
  },
  {
   "cell_type": "code",
   "execution_count": 3,
   "id": "7ccea131",
   "metadata": {},
   "outputs": [
    {
     "data": {
      "text/plain": [
       "<bound method DataFrame.info of                            Name                      Park  Track  Speed  \\\n",
       "0           Top Thrill Dragster               Cedar Point  Steel  120.0   \n",
       "1            Superman The Escap  Six Flags Magic Mountain  Steel  100.0   \n",
       "2              Millennium Force               Cedar Point  Steel   93.0   \n",
       "3                       Goliath  Six Flags Magic Mountain  Steel   85.0   \n",
       "4                         Titan      Six Flags Over Texas  Steel   85.0   \n",
       "..                          ...                       ...    ...    ...   \n",
       "236                 Thunderbird             Holiday World  Steel   60.0   \n",
       "237            Twisted Colossus  Six Flags Magic Mountain  Steel   57.0   \n",
       "238  Velikoluksky Miasokombinat             Wonder Island  Steel   62.1   \n",
       "239              Wicked Cyclone     Six Flags New England  Steel   55.0   \n",
       "240                 Zombie Ride             Bosque Mgico  Steel   62.0   \n",
       "\n",
       "     Height   Drop  Length  Duration  Inversions  \n",
       "0     420.0  400.0  2800.0       NaN           0  \n",
       "1     415.0  328.1  1235.0       NaN           0  \n",
       "2     310.0  300.0  6595.0     165.0           0  \n",
       "3     235.0  255.0  4500.0     180.0           0  \n",
       "4     245.0  255.0  5312.0     210.0           0  \n",
       "..      ...    ...     ...       ...         ...  \n",
       "236   140.0    NaN  3035.0      78.0           1  \n",
       "237   121.0  128.0  4990.0     220.0           1  \n",
       "238   124.7    NaN  3464.6     150.0           1  \n",
       "239   109.0    NaN  3320.0       NaN           1  \n",
       "240   150.0    NaN   863.0       NaN           1  \n",
       "\n",
       "[241 rows x 9 columns]>"
      ]
     },
     "execution_count": 3,
     "metadata": {},
     "output_type": "execute_result"
    }
   ],
   "source": [
    "coasters.info"
   ]
  },
  {
   "cell_type": "code",
   "execution_count": 4,
   "id": "6fbc8d02",
   "metadata": {},
   "outputs": [
    {
     "data": {
      "text/plain": [
       "241"
      ]
     },
     "execution_count": 4,
     "metadata": {},
     "output_type": "execute_result"
    }
   ],
   "source": [
    "len(coasters)"
   ]
  },
  {
   "cell_type": "code",
   "execution_count": 5,
   "id": "3da91434",
   "metadata": {},
   "outputs": [
    {
     "data": {
      "text/plain": [
       "Index(['Name', 'Park', 'Track', 'Speed', 'Height', 'Drop', 'Length',\n",
       "       'Duration', 'Inversions'],\n",
       "      dtype='object')"
      ]
     },
     "execution_count": 5,
     "metadata": {},
     "output_type": "execute_result"
    }
   ],
   "source": [
    "coasters.columns"
   ]
  },
  {
   "cell_type": "code",
   "execution_count": 6,
   "id": "a0e6b9e0",
   "metadata": {},
   "outputs": [
    {
     "data": {
      "text/html": [
       "<div>\n",
       "<style scoped>\n",
       "    .dataframe tbody tr th:only-of-type {\n",
       "        vertical-align: middle;\n",
       "    }\n",
       "\n",
       "    .dataframe tbody tr th {\n",
       "        vertical-align: top;\n",
       "    }\n",
       "\n",
       "    .dataframe thead th {\n",
       "        text-align: right;\n",
       "    }\n",
       "</style>\n",
       "<table border=\"1\" class=\"dataframe\">\n",
       "  <thead>\n",
       "    <tr style=\"text-align: right;\">\n",
       "      <th></th>\n",
       "      <th>Name</th>\n",
       "      <th>Park</th>\n",
       "      <th>Track</th>\n",
       "      <th>Speed</th>\n",
       "      <th>Height</th>\n",
       "      <th>Drop</th>\n",
       "      <th>Length</th>\n",
       "      <th>Duration</th>\n",
       "      <th>Inversions</th>\n",
       "    </tr>\n",
       "  </thead>\n",
       "  <tbody>\n",
       "    <tr>\n",
       "      <th>0</th>\n",
       "      <td>Top Thrill Dragster</td>\n",
       "      <td>Cedar Point</td>\n",
       "      <td>Steel</td>\n",
       "      <td>120.0</td>\n",
       "      <td>420.0</td>\n",
       "      <td>400.0</td>\n",
       "      <td>2800.0</td>\n",
       "      <td>NaN</td>\n",
       "      <td>0</td>\n",
       "    </tr>\n",
       "    <tr>\n",
       "      <th>1</th>\n",
       "      <td>Superman The Escap</td>\n",
       "      <td>Six Flags Magic Mountain</td>\n",
       "      <td>Steel</td>\n",
       "      <td>100.0</td>\n",
       "      <td>415.0</td>\n",
       "      <td>328.1</td>\n",
       "      <td>1235.0</td>\n",
       "      <td>NaN</td>\n",
       "      <td>0</td>\n",
       "    </tr>\n",
       "    <tr>\n",
       "      <th>2</th>\n",
       "      <td>Millennium Force</td>\n",
       "      <td>Cedar Point</td>\n",
       "      <td>Steel</td>\n",
       "      <td>93.0</td>\n",
       "      <td>310.0</td>\n",
       "      <td>300.0</td>\n",
       "      <td>6595.0</td>\n",
       "      <td>165.0</td>\n",
       "      <td>0</td>\n",
       "    </tr>\n",
       "    <tr>\n",
       "      <th>3</th>\n",
       "      <td>Goliath</td>\n",
       "      <td>Six Flags Magic Mountain</td>\n",
       "      <td>Steel</td>\n",
       "      <td>85.0</td>\n",
       "      <td>235.0</td>\n",
       "      <td>255.0</td>\n",
       "      <td>4500.0</td>\n",
       "      <td>180.0</td>\n",
       "      <td>0</td>\n",
       "    </tr>\n",
       "    <tr>\n",
       "      <th>4</th>\n",
       "      <td>Titan</td>\n",
       "      <td>Six Flags Over Texas</td>\n",
       "      <td>Steel</td>\n",
       "      <td>85.0</td>\n",
       "      <td>245.0</td>\n",
       "      <td>255.0</td>\n",
       "      <td>5312.0</td>\n",
       "      <td>210.0</td>\n",
       "      <td>0</td>\n",
       "    </tr>\n",
       "  </tbody>\n",
       "</table>\n",
       "</div>"
      ],
      "text/plain": [
       "                  Name                      Park  Track  Speed  Height   Drop  \\\n",
       "0  Top Thrill Dragster               Cedar Point  Steel  120.0   420.0  400.0   \n",
       "1   Superman The Escap  Six Flags Magic Mountain  Steel  100.0   415.0  328.1   \n",
       "2     Millennium Force               Cedar Point  Steel   93.0   310.0  300.0   \n",
       "3              Goliath  Six Flags Magic Mountain  Steel   85.0   235.0  255.0   \n",
       "4                Titan      Six Flags Over Texas  Steel   85.0   245.0  255.0   \n",
       "\n",
       "   Length  Duration  Inversions  \n",
       "0  2800.0       NaN           0  \n",
       "1  1235.0       NaN           0  \n",
       "2  6595.0     165.0           0  \n",
       "3  4500.0     180.0           0  \n",
       "4  5312.0     210.0           0  "
      ]
     },
     "execution_count": 6,
     "metadata": {},
     "output_type": "execute_result"
    }
   ],
   "source": [
    "coasters.head()"
   ]
  },
  {
   "cell_type": "code",
   "execution_count": 7,
   "id": "82c26137",
   "metadata": {},
   "outputs": [
    {
     "data": {
      "text/html": [
       "<div>\n",
       "<style scoped>\n",
       "    .dataframe tbody tr th:only-of-type {\n",
       "        vertical-align: middle;\n",
       "    }\n",
       "\n",
       "    .dataframe tbody tr th {\n",
       "        vertical-align: top;\n",
       "    }\n",
       "\n",
       "    .dataframe thead th {\n",
       "        text-align: right;\n",
       "    }\n",
       "</style>\n",
       "<table border=\"1\" class=\"dataframe\">\n",
       "  <thead>\n",
       "    <tr style=\"text-align: right;\">\n",
       "      <th></th>\n",
       "      <th>Name</th>\n",
       "      <th>Park</th>\n",
       "      <th>Track</th>\n",
       "      <th>Speed</th>\n",
       "      <th>Height</th>\n",
       "      <th>Drop</th>\n",
       "      <th>Length</th>\n",
       "      <th>Duration</th>\n",
       "      <th>Inversions</th>\n",
       "    </tr>\n",
       "  </thead>\n",
       "  <tbody>\n",
       "    <tr>\n",
       "      <th>71</th>\n",
       "      <td>Tower of Terror</td>\n",
       "      <td>Dreamworld</td>\n",
       "      <td>Steel</td>\n",
       "      <td>100.0</td>\n",
       "      <td>377.33</td>\n",
       "      <td>328.1</td>\n",
       "      <td>1235.0</td>\n",
       "      <td>28.0</td>\n",
       "      <td>0</td>\n",
       "    </tr>\n",
       "  </tbody>\n",
       "</table>\n",
       "</div>"
      ],
      "text/plain": [
       "               Name        Park  Track  Speed  Height   Drop  Length  \\\n",
       "71  Tower of Terror  Dreamworld  Steel  100.0  377.33  328.1  1235.0   \n",
       "\n",
       "    Duration  Inversions  \n",
       "71      28.0           0  "
      ]
     },
     "execution_count": 7,
     "metadata": {},
     "output_type": "execute_result"
    }
   ],
   "source": [
    "coasters[coasters.Name == 'Tower of Terror']"
   ]
  },
  {
   "cell_type": "code",
   "execution_count": 8,
   "id": "4076fb3d",
   "metadata": {},
   "outputs": [],
   "source": [
    "coasters = coasters.drop(71)"
   ]
  },
  {
   "cell_type": "code",
   "execution_count": 9,
   "id": "7d4dd2cf",
   "metadata": {},
   "outputs": [],
   "source": [
    "coasters = coasters[~coasters.Drop.isna()]\n",
    "coasters = coasters[~coasters.Duration.isna()]"
   ]
  },
  {
   "cell_type": "code",
   "execution_count": 10,
   "id": "54dfc301",
   "metadata": {},
   "outputs": [],
   "source": [
    "drop = coasters.Drop  #x: control\n",
    "duration = coasters.Duration #y: response"
   ]
  },
  {
   "cell_type": "code",
   "execution_count": 11,
   "id": "48be4d3b",
   "metadata": {},
   "outputs": [
    {
     "data": {
      "text/plain": [
       "<matplotlib.collections.PathCollection at 0x19b0b2d3450>"
      ]
     },
     "execution_count": 11,
     "metadata": {},
     "output_type": "execute_result"
    },
    {
     "data": {
      "image/png": "[encoded data removed]",
      "text/plain": [
       "<Figure size 640x480 with 1 Axes>"
      ]
     },
     "metadata": {},
     "output_type": "display_data"
    }
   ],
   "source": [
    "plt.scatter(drop, duration)"
   ]
  },
  {
   "cell_type": "markdown",
   "id": "81c870fd",
   "metadata": {},
   "source": [
    "**a) What are the variables and units in this regression?**\n",
    "\n",
    "Variable:\n",
    "* control: the *Drop* height in **feet (ft)**\n",
    "* response: the *Duration* of the ride in **seconds (sec)**"
   ]
  },
  {
   "cell_type": "code",
   "execution_count": 12,
   "id": "fb3c2f9b",
   "metadata": {},
   "outputs": [],
   "source": [
    "x = np.array(drop).reshape(-1, 1)\n",
    "y = np.array(duration)"
   ]
  },
  {
   "cell_type": "code",
   "execution_count": 13,
   "id": "bc31db39",
   "metadata": {},
   "outputs": [
    {
     "data": {
      "text/html": [
       "<style>#sk-container-id-1 {color: black;background-color: white;}#sk-container-id-1 pre{padding: 0;}#sk-container-id-1 div.sk-toggleable {background-color: white;}#sk-container-id-1 label.sk-toggleable__label {cursor: pointer;display: block;width: 100%;margin-bottom: 0;padding: 0.3em;box-sizing: border-box;text-align: center;}#sk-container-id-1 label.sk-toggleable__label-arrow:before {content: \"▸\";float: left;margin-right: 0.25em;color: #696969;}#sk-container-id-1 label.sk-toggleable__label-arrow:hover:before {color: black;}#sk-container-id-1 div.sk-estimator:hover label.sk-toggleable__label-arrow:before {color: black;}#sk-container-id-1 div.sk-toggleable__content {max-height: 0;max-width: 0;overflow: hidden;text-align: left;background-color: #f0f8ff;}#sk-container-id-1 div.sk-toggleable__content pre {margin: 0.2em;color: black;border-radius: 0.25em;background-color: #f0f8ff;}#sk-container-id-1 input.sk-toggleable__control:checked~div.sk-toggleable__content {max-height: 200px;max-width: 100%;overflow: auto;}#sk-container-id-1 input.sk-toggleable__control:checked~label.sk-toggleable__label-arrow:before {content: \"▾\";}#sk-container-id-1 div.sk-estimator input.sk-toggleable__control:checked~label.sk-toggleable__label {background-color: #d4ebff;}#sk-container-id-1 div.sk-label input.sk-toggleable__control:checked~label.sk-toggleable__label {background-color: #d4ebff;}#sk-container-id-1 input.sk-hidden--visually {border: 0;clip: rect(1px 1px 1px 1px);clip: rect(1px, 1px, 1px, 1px);height: 1px;margin: -1px;overflow: hidden;padding: 0;position: absolute;width: 1px;}#sk-container-id-1 div.sk-estimator {font-family: monospace;background-color: #f0f8ff;border: 1px dotted black;border-radius: 0.25em;box-sizing: border-box;margin-bottom: 0.5em;}#sk-container-id-1 div.sk-estimator:hover {background-color: #d4ebff;}#sk-container-id-1 div.sk-parallel-item::after {content: \"\";width: 100%;border-bottom: 1px solid gray;flex-grow: 1;}#sk-container-id-1 div.sk-label:hover label.sk-toggleable__label {background-color: #d4ebff;}#sk-container-id-1 div.sk-serial::before {content: \"\";position: absolute;border-left: 1px solid gray;box-sizing: border-box;top: 0;bottom: 0;left: 50%;z-index: 0;}#sk-container-id-1 div.sk-serial {display: flex;flex-direction: column;align-items: center;background-color: white;padding-right: 0.2em;padding-left: 0.2em;position: relative;}#sk-container-id-1 div.sk-item {position: relative;z-index: 1;}#sk-container-id-1 div.sk-parallel {display: flex;align-items: stretch;justify-content: center;background-color: white;position: relative;}#sk-container-id-1 div.sk-item::before, #sk-container-id-1 div.sk-parallel-item::before {content: \"\";position: absolute;border-left: 1px solid gray;box-sizing: border-box;top: 0;bottom: 0;left: 50%;z-index: -1;}#sk-container-id-1 div.sk-parallel-item {display: flex;flex-direction: column;z-index: 1;position: relative;background-color: white;}#sk-container-id-1 div.sk-parallel-item:first-child::after {align-self: flex-end;width: 50%;}#sk-container-id-1 div.sk-parallel-item:last-child::after {align-self: flex-start;width: 50%;}#sk-container-id-1 div.sk-parallel-item:only-child::after {width: 0;}#sk-container-id-1 div.sk-dashed-wrapped {border: 1px dashed gray;margin: 0 0.4em 0.5em 0.4em;box-sizing: border-box;padding-bottom: 0.4em;background-color: white;}#sk-container-id-1 div.sk-label label {font-family: monospace;font-weight: bold;display: inline-block;line-height: 1.2em;}#sk-container-id-1 div.sk-label-container {text-align: center;}#sk-container-id-1 div.sk-container {/* jupyter's `normalize.less` sets `[hidden] { display: none; }` but bootstrap.min.css set `[hidden] { display: none !important; }` so we also need the `!important` here to be able to override the default hidden behavior on the sphinx rendered scikit-learn.org. See: https://github.com/scikit-learn/scikit-learn/issues/21755 */display: inline-block !important;position: relative;}#sk-container-id-1 div.sk-text-repr-fallback {display: none;}</style><div id=\"sk-container-id-1\" class=\"sk-top-container\"><div class=\"sk-text-repr-fallback\"><pre>LinearRegression()</pre><b>In a Jupyter environment, please rerun this cell to show the HTML representation or trust the notebook. <br />On GitHub, the HTML representation is unable to render, please try loading this page with nbviewer.org.</b></div><div class=\"sk-container\" hidden><div class=\"sk-item\"><div class=\"sk-estimator sk-toggleable\"><input class=\"sk-toggleable__control sk-hidden--visually\" id=\"sk-estimator-id-1\" type=\"checkbox\" checked><label for=\"sk-estimator-id-1\" class=\"sk-toggleable__label sk-toggleable__label-arrow\">LinearRegression</label><div class=\"sk-toggleable__content\"><pre>LinearRegression()</pre></div></div></div></div></div>"
      ],
      "text/plain": [
       "LinearRegression()"
      ]
     },
     "execution_count": 13,
     "metadata": {},
     "output_type": "execute_result"
    }
   ],
   "source": [
    "linear_fit.fit(x, y) "
   ]
  },
  {
   "cell_type": "code",
   "execution_count": 14,
   "id": "a1fcca3e",
   "metadata": {},
   "outputs": [
    {
     "data": {
      "text/plain": [
       "(0.389, 87.22)"
      ]
     },
     "execution_count": 14,
     "metadata": {},
     "output_type": "execute_result"
    }
   ],
   "source": [
    "round(linear_fit.coef_[0], 3), round(linear_fit.intercept_, 3)"
   ]
  },
  {
   "cell_type": "code",
   "execution_count": 15,
   "id": "3d31ef23",
   "metadata": {},
   "outputs": [
    {
     "data": {
      "image/png": "[encoded data removed]",
      "text/plain": [
       "<Figure size 640x480 with 1 Axes>"
      ]
     },
     "metadata": {},
     "output_type": "display_data"
    }
   ],
   "source": [
    "plt.scatter(x, y, s=8, marker='o');  \n",
    "plt.plot(x, linear_fit.predict(x), 'r');  \n",
    "plt.xlabel('Drop [ft]')\n",
    "plt.ylabel('Duration [sec]');"
   ]
  },
  {
   "cell_type": "code",
   "execution_count": 16,
   "id": "9e4e00fb",
   "metadata": {},
   "outputs": [
    {
     "data": {
      "text/plain": [
       "(140.7771111111111,\n",
       " 142.0222222222222,\n",
       " 56.16902727721403,\n",
       " 40.3142091039921,\n",
       " 0.5423809832478963)"
      ]
     },
     "execution_count": 16,
     "metadata": {},
     "output_type": "execute_result"
    }
   ],
   "source": [
    "x_bar = x.mean()\n",
    "y_bar = y.mean()\n",
    "sd_x = x.std(ddof=1)\n",
    "sd_y = y.std(ddof=1)\n",
    "r = np.corrcoef(x.reshape(1, -1), y)[0, 1]\n",
    "x_bar, y_bar, sd_x, sd_y, r"
   ]
  },
  {
   "cell_type": "code",
   "execution_count": 17,
   "id": "e4684798",
   "metadata": {},
   "outputs": [
    {
     "data": {
      "text/plain": [
       "0.389"
      ]
     },
     "execution_count": 17,
     "metadata": {},
     "output_type": "execute_result"
    }
   ],
   "source": [
    "b_1 = r * sd_y / sd_x\n",
    "round(b_1, 3)"
   ]
  },
  {
   "cell_type": "code",
   "execution_count": 18,
   "id": "35549f98",
   "metadata": {},
   "outputs": [
    {
     "data": {
      "text/plain": [
       "87.22"
      ]
     },
     "execution_count": 18,
     "metadata": {},
     "output_type": "execute_result"
    }
   ],
   "source": [
    "b_0 = y_bar - b_1 * x_bar \n",
    "round(b_0, 3)"
   ]
  },
  {
   "cell_type": "code",
   "execution_count": 19,
   "id": "bd9fa873",
   "metadata": {},
   "outputs": [
    {
     "name": "stdout",
     "output_type": "stream",
     "text": [
      "The slope is 0.389\n"
     ]
    }
   ],
   "source": [
    "#30(b)\n",
    "print (f\"The slope is {round(b_1, 3)}\")"
   ]
  },
  {
   "cell_type": "markdown",
   "id": "aff713d0",
   "metadata": {},
   "source": [
    "**30(b) What units does the slope have?**\n",
    "\n",
    "In general, in model $\\hat{y} = b_0 + b_1 x$, the coefficient $b_1$ has the unit of $\\frac{y}{x}$.\n",
    "\n",
    "In this case, $y$ has unit of **second**, and $x$ has unit of **feet**.  Therefore, $b_1$ has unit of **second per feet**.  Note that this is not a unit of speed or velocity that you learned in a physics class.  "
   ]
  },
  {
   "cell_type": "markdown",
   "id": "b99b0f95",
   "metadata": {},
   "source": [
    "**c) Do you think the slope is positive or negative? Explain.**\n",
    "\n",
    "\n",
    "Answer: I think the slope is positive.  Because the slope, 0.389, says that a duration with one more drop can be expected.\n",
    "\n",
    "I think the slope should be positive, meaning a postive correlation between Duration and Drop.  It is conceivable that a coaster that has a larger Drop may also have a longer ride."
   ]
  },
  {
   "cell_type": "markdown",
   "id": "1b254c6a",
   "metadata": {},
   "source": [
    "**Problem 34: Exercise 30 examined the association between the Duration of a roller coaster ride and the height of its initial Drop, reporting that R2 = 29.4%. Write a sentence (in context, of course) summarizing what the R2 says about this regression.**\n",
    "\n",
    "\n",
    "Answer: The Exercise 30 examined the association between the Duration of roller coaster ride and the height of its initial Drop, reporting tht R2 = 29.4%.  The R2, 29.4%, says that there is 29.4% of association between the Duration of roller coaster ride and the height of its drop and there is 70.6% error term left in it.\n",
    "\n",
    "**Correction:** The $R^2$ of $29.4%$ means 29.4% of the variation in the duration can be accounted for by the feet of drop."
   ]
  },
  {
   "cell_type": "markdown",
   "id": "c05bb043",
   "metadata": {},
   "source": [
    "**Problem 38: The regression of Duration of a roller coasterride on the height of its initial Drop, described in Exercise 30, had R2 = 29.4%.**"
   ]
  },
  {
   "cell_type": "markdown",
   "id": "06bdbb08",
   "metadata": {},
   "source": [
    "* a) What is the correlation between Drop and Duration?"
   ]
  },
  {
   "cell_type": "code",
   "execution_count": 20,
   "id": "cbe689c2",
   "metadata": {},
   "outputs": [
    {
     "data": {
      "image/png": "[encoded data removed]",
      "text/plain": [
       "<Figure size 640x480 with 1 Axes>"
      ]
     },
     "metadata": {},
     "output_type": "display_data"
    }
   ],
   "source": [
    "plt.scatter(drop, duration,\n",
    "            s=8, marker='o');\n",
    "smoothed = sm.nonparametric.lowess(duration, drop)\n",
    "plt.plot(smoothed[:, 0], smoothed[:, 1], 'r');\n",
    "plt.xlabel('Drop')\n",
    "plt.ylabel('Duration');"
   ]
  },
  {
   "cell_type": "code",
   "execution_count": 21,
   "id": "3612780f",
   "metadata": {},
   "outputs": [
    {
     "data": {
      "text/plain": [
       "0.542"
      ]
     },
     "execution_count": 21,
     "metadata": {},
     "output_type": "execute_result"
    }
   ],
   "source": [
    "round(np.corrcoef(coasters.Duration, coasters.Drop)[1, 0], 3)"
   ]
  },
  {
   "cell_type": "code",
   "execution_count": 22,
   "id": "1920247f",
   "metadata": {},
   "outputs": [
    {
     "data": {
      "text/plain": [
       "0.5422176684690383"
      ]
     },
     "execution_count": 22,
     "metadata": {},
     "output_type": "execute_result"
    }
   ],
   "source": [
    "np.sqrt(0.294)  # simply taking the square root of the R^2 gives you *r*"
   ]
  },
  {
   "cell_type": "markdown",
   "id": "24b045e7",
   "metadata": {},
   "source": [
    "**Answer:** The correlation between Drop and Duration is 0.542."
   ]
  },
  {
   "cell_type": "markdown",
   "id": "91691e8c",
   "metadata": {},
   "source": [
    "**b) What would you predict about the Duration of the ride on a coaster whose initial Drop was 1 standard deviation below the mean Drop?**"
   ]
  },
  {
   "cell_type": "code",
   "execution_count": 23,
   "id": "ad6e1da8",
   "metadata": {},
   "outputs": [],
   "source": [
    "e = y - linear_fit.predict(x)"
   ]
  },
  {
   "cell_type": "code",
   "execution_count": 24,
   "id": "cd65e28b",
   "metadata": {},
   "outputs": [
    {
     "data": {
      "image/png": "[encoded data removed]",
      "text/plain": [
       "<Figure size 640x480 with 1 Axes>"
      ]
     },
     "metadata": {},
     "output_type": "display_data"
    }
   ],
   "source": [
    "plt.scatter(x, e);  \n",
    "plt.xlabel('Drop')\n",
    "plt.ylabel('Residual');"
   ]
  },
  {
   "cell_type": "code",
   "execution_count": 25,
   "id": "290b2722",
   "metadata": {},
   "outputs": [
    {
     "data": {
      "image/png": "[encoded data removed]",
      "text/plain": [
       "<Figure size 640x480 with 1 Axes>"
      ]
     },
     "metadata": {},
     "output_type": "display_data"
    }
   ],
   "source": [
    "plt.hist(e, bins=np.linspace(-90, 90, 50), edgecolor='k');"
   ]
  },
  {
   "cell_type": "markdown",
   "id": "27d20b3a",
   "metadata": {},
   "source": [
    "**Answer:** I would predict the Duration of the ride on a coaster whose initial Drop was 1 standard deviation below the mean Drop: -150 to 150 duration.  **WRONG**"
   ]
  },
  {
   "cell_type": "markdown",
   "id": "df780553",
   "metadata": {},
   "source": [
    "Generally speaking, $\\hat{y} = b_0 + b_1 x$ predicts that for an average value of $x$, the expected value of $y$ is also the average value of $y$.  In other words, $\\bar{y} = b_0 + b_1 \\bar{x}$.\n",
    "\n",
    "Since $b_1 > 0$, for $x < \\bar{x}$, we would predict the corresponding $\\hat{y} < \\bar{y}$.\n",
    "\n",
    "Now lets think more quantitatively.  We know $b_1 = r \\frac{s_y}{s_x}$.\n",
    "\n",
    "Suppose we have $x = \\bar{x} - s_x$.\n",
    "\n",
    "$\\hat{y} = b_0 + b_1 (\\bar{x} - s_x) = b_0 + b_1 \\bar{x} - b_1 s_x = \\bar{y} - r \\frac{s_y}{s_x} s_x$\n",
    "$=\\bar{y} - r s_y$"
   ]
  },
  {
   "cell_type": "markdown",
   "id": "cd02816d",
   "metadata": {},
   "source": [
    "*So, for an initial Drop that was 1 standard deviation below the mean Drop, we expect the Duration is 0.54 standard deviation below the mean Duration.*"
   ]
  },
  {
   "cell_type": "markdown",
   "id": "b592e68b",
   "metadata": {},
   "source": [
    "**c) What would you predict about the Duration of the ride on a\n",
    "coaster whose initial Drop was 3 standard deviations above the mean Drop?**"
   ]
  },
  {
   "cell_type": "markdown",
   "id": "22e4d2d1",
   "metadata": {},
   "source": [
    "I would predict the Duration of the ride on a coaster whose initial Drop was 1 standard deviation below the mean Drop: -50 to 50 duration.**WRONG**\n",
    "\n",
    "*For an initial Drop that was 3 standard deviation above the mean Drop, we expect the Duration to be about $1.52(=0.54\\times 3)$ standard deviations above the mean Duration.*"
   ]
  },
  {
   "cell_type": "markdown",
   "id": "2496dfd1",
   "metadata": {},
   "source": [
    "**Problem 42 (a) Explain what the slope of the line says about how long a roller coaster ride may last and the height of the coaster.**"
   ]
  },
  {
   "cell_type": "markdown",
   "id": "da3d0773",
   "metadata": {},
   "source": [
    "**Answer:** The slope, 0.389 (second per fee), says that a roller coaster ride with one more feet of drop can be expected, on average to have 0.389 more second of duration."
   ]
  },
  {
   "cell_type": "markdown",
   "id": "e20d73b8",
   "metadata": {},
   "source": [
    "**Problem 42 (b) A new roller coaster advertises an initial drop of 200 feet. How long would you predict the rides last?**"
   ]
  },
  {
   "cell_type": "code",
   "execution_count": 28,
   "id": "f4753193",
   "metadata": {},
   "outputs": [
    {
     "name": "stdout",
     "output_type": "stream",
     "text": [
      "I would expect the rides last 165.02 seconds.\n"
     ]
    }
   ],
   "source": [
    "b0 = 87.22\n",
    "b_1 = 0.389\n",
    "y_hat = b0 + b_1 * 200\n",
    "print (f\"I would expect the rides last {y_hat:.2f} seconds.\")"
   ]
  },
  {
   "cell_type": "markdown",
   "id": "1c5491e8",
   "metadata": {},
   "source": [
    "**Proble 42(c) Another coaster with a 150-foot initial drop advertises a 2 and a half-minute ride. Is this longer or shorter than you’d expect? By how much? What’s that called?**"
   ]
  },
  {
   "cell_type": "code",
   "execution_count": 29,
   "id": "1173306e",
   "metadata": {},
   "outputs": [
    {
     "name": "stdout",
     "output_type": "stream",
     "text": [
      "145.57\n"
     ]
    }
   ],
   "source": [
    "b0 = 87.22\n",
    "b_1 = 0.389\n",
    "y_hat = b0 + b_1 * 150\n",
    "print(y_hat)"
   ]
  },
  {
   "cell_type": "markdown",
   "id": "01c0b207",
   "metadata": {},
   "source": [
    "**Answer:** This coaster with a 150-foot initial drop advertises a 2 and a half-minute, i.e., 150 seconds, ride.  That is longer than I would expect.  It is about 4.4 seconds longer than my expectation, which is quite close."
   ]
  }
 ],
 "metadata": {
  "kernelspec": {
   "display_name": "Python 3 (ipykernel)",
   "language": "python",
   "name": "python3"
  },
  "language_info": {
   "codemirror_mode": {
    "name": "ipython",
    "version": 3
   },
   "file_extension": ".py",
   "mimetype": "text/x-python",
   "name": "python",
   "nbconvert_exporter": "python",
   "pygments_lexer": "ipython3",
   "version": "3.11.3"
  }
 },
 "nbformat": 4,
 "nbformat_minor": 5
}
