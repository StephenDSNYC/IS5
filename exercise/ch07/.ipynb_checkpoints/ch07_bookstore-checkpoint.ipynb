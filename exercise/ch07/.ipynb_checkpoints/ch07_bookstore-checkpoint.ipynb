{
 "cells": [
  {
   "cell_type": "code",
   "execution_count": 1,
   "id": "209478da",
   "metadata": {},
   "outputs": [],
   "source": [
    "import numpy as np\n",
    "import pandas as pd\n",
    "from matplotlib import pyplot as plt\n",
    "import statsmodels.api as sm\n",
    "import statistics as stat\n",
    "from sklearn.linear_model import LinearRegression \n",
    "import math"
   ]
  },
  {
   "cell_type": "code",
   "execution_count": 2,
   "id": "4f8a9fec",
   "metadata": {},
   "outputs": [],
   "source": [
    "datafile = '../../dataset/ch07/bookstore_sales.txt'\n",
    "bookstore = pd.read_csv(datafile, sep='\\t')"
   ]
  },
  {
   "cell_type": "code",
   "execution_count": 3,
   "id": "97702899",
   "metadata": {},
   "outputs": [
    {
     "data": {
      "text/plain": [
       "<bound method DataFrame.info of    Number of Sales People Working  Sales (in $1000)\n",
       "0                               2                10\n",
       "1                               3                11\n",
       "2                               7                13\n",
       "3                               9                14\n",
       "4                              10                18\n",
       "5                              10                20\n",
       "6                              12                20\n",
       "7                              15                22\n",
       "8                              16                22\n",
       "9                              20                26>"
      ]
     },
     "execution_count": 3,
     "metadata": {},
     "output_type": "execute_result"
    }
   ],
   "source": [
    "bookstore.info"
   ]
  },
  {
   "cell_type": "code",
   "execution_count": 4,
   "id": "80ec4c69",
   "metadata": {},
   "outputs": [
    {
     "data": {
      "text/plain": [
       "10"
      ]
     },
     "execution_count": 4,
     "metadata": {},
     "output_type": "execute_result"
    }
   ],
   "source": [
    "len(bookstore)"
   ]
  },
  {
   "cell_type": "code",
   "execution_count": 5,
   "id": "200f7b94",
   "metadata": {},
   "outputs": [
    {
     "data": {
      "text/plain": [
       "Index(['Number of Sales People Working', 'Sales (in $1000)'], dtype='object')"
      ]
     },
     "execution_count": 5,
     "metadata": {},
     "output_type": "execute_result"
    }
   ],
   "source": [
    "bookstore.columns"
   ]
  },
  {
   "cell_type": "code",
   "execution_count": 6,
   "id": "1d2c9ddf",
   "metadata": {},
   "outputs": [
    {
     "data": {
      "text/html": [
       "<div>\n",
       "<style scoped>\n",
       "    .dataframe tbody tr th:only-of-type {\n",
       "        vertical-align: middle;\n",
       "    }\n",
       "\n",
       "    .dataframe tbody tr th {\n",
       "        vertical-align: top;\n",
       "    }\n",
       "\n",
       "    .dataframe thead th {\n",
       "        text-align: right;\n",
       "    }\n",
       "</style>\n",
       "<table border=\"1\" class=\"dataframe\">\n",
       "  <thead>\n",
       "    <tr style=\"text-align: right;\">\n",
       "      <th></th>\n",
       "      <th>Number of Sales People Working</th>\n",
       "      <th>Sales (in $1000)</th>\n",
       "    </tr>\n",
       "  </thead>\n",
       "  <tbody>\n",
       "    <tr>\n",
       "      <th>0</th>\n",
       "      <td>2</td>\n",
       "      <td>10</td>\n",
       "    </tr>\n",
       "    <tr>\n",
       "      <th>1</th>\n",
       "      <td>3</td>\n",
       "      <td>11</td>\n",
       "    </tr>\n",
       "    <tr>\n",
       "      <th>2</th>\n",
       "      <td>7</td>\n",
       "      <td>13</td>\n",
       "    </tr>\n",
       "    <tr>\n",
       "      <th>3</th>\n",
       "      <td>9</td>\n",
       "      <td>14</td>\n",
       "    </tr>\n",
       "    <tr>\n",
       "      <th>4</th>\n",
       "      <td>10</td>\n",
       "      <td>18</td>\n",
       "    </tr>\n",
       "  </tbody>\n",
       "</table>\n",
       "</div>"
      ],
      "text/plain": [
       "   Number of Sales People Working  Sales (in $1000)\n",
       "0                               2                10\n",
       "1                               3                11\n",
       "2                               7                13\n",
       "3                               9                14\n",
       "4                              10                18"
      ]
     },
     "execution_count": 6,
     "metadata": {},
     "output_type": "execute_result"
    }
   ],
   "source": [
    "bookstore.head()"
   ]
  },
  {
   "cell_type": "markdown",
   "id": "4018213e",
   "metadata": {},
   "source": [
    "*Prolem 5*\n",
    "\n",
    "\n",
    "a) Find the slope estimate, b1.\n",
    "\n",
    "b) What does it mean, in this context?\n",
    "\n",
    "c) Find the intercept, b0.\n",
    "\n",
    "d) What does it mean, in this context? Is it meaningful?\n",
    "\n",
    "e) Write down the equation that predicts Sales from Number of\n",
    "Sales People Working.\n",
    "\n",
    "f) If 18 people are working, what Sales do you predict?\n",
    "\n",
    "g) If sales are actually $25,000, what is the value of the residual?\n",
    "\n",
    "h) Have we overestimated or underestimated the sales?"
   ]
  },
  {
   "cell_type": "code",
   "execution_count": 7,
   "id": "dbc79e64",
   "metadata": {},
   "outputs": [
    {
     "data": {
      "text/plain": [
       "0.914"
      ]
     },
     "execution_count": 7,
     "metadata": {},
     "output_type": "execute_result"
    }
   ],
   "source": [
    "## a) Find the slope estimate, b1.\n",
    "\n",
    "r = 0.965\n",
    "sd_y = 5.34\n",
    "sd_x = 5.64\n",
    "b_1 = sd_y / sd_x * r\n",
    "round (b_1, 3)"
   ]
  },
  {
   "cell_type": "markdown",
   "id": "1e7c373a",
   "metadata": {},
   "source": [
    "** b) What does it mean, in this context?\n",
    "\n",
    "\n",
    "Answer: The slope, 0.914, says that a sales of 1000 dollars with one more sales person working can be expected, on average, to have 0.914 more of 1000 dollars sales.\n"
   ]
  },
  {
   "cell_type": "code",
   "execution_count": 8,
   "id": "8ad7b2ea",
   "metadata": {},
   "outputs": [
    {
     "data": {
      "text/plain": [
       "8.098"
      ]
     },
     "execution_count": 8,
     "metadata": {},
     "output_type": "execute_result"
    }
   ],
   "source": [
    "## c) Find the intercept, b0.\n",
    "\n",
    "y_bar = 17.6\n",
    "x_bar = 10.4\n",
    "r = 0.965\n",
    "sd_y = 5.34\n",
    "sd_x = 5.64\n",
    "b_1 = sd_y / sd_x * r\n",
    "b_0 = y_bar - b_1 * x_bar\n",
    "round (b_0, 3)"
   ]
  },
  {
   "cell_type": "markdown",
   "id": "98046e76",
   "metadata": {},
   "source": [
    "** d) What does it mean, in this context? Is it meaningful?\n",
    "\n",
    "\n",
    "Answer: The intercept, 8.098, says that the model predicts that even a sales with no sales people would have, on average, about 8.090 of dollars of sales.  No, the intercept is not meaningful here, because the intercept serves only as a starting value for prediction."
   ]
  },
  {
   "cell_type": "markdown",
   "id": "0da79ead",
   "metadata": {},
   "source": [
    "** e) Write down the equation that predicts Sales from Number of Sales People Working.\n",
    "\n",
    "\n",
    "Answer: y_hat = b0 + b1x"
   ]
  },
  {
   "cell_type": "code",
   "execution_count": 9,
   "id": "c483cbba",
   "metadata": {},
   "outputs": [
    {
     "name": "stdout",
     "output_type": "stream",
     "text": [
      "If 18 people are working, I predict 24.544 of sales.\n"
     ]
    }
   ],
   "source": [
    "## f) If 18 people are working, what Sales do you predict?\n",
    "\n",
    "y_bar = 17.6\n",
    "x_bar = 10.4\n",
    "r = 0.965\n",
    "sd_y = 5.34\n",
    "sd_x = 5.64\n",
    "b_1 = sd_y / sd_x * r\n",
    "b_0 = y_bar - b_1 * x_bar\n",
    "\n",
    "r = 0.965\n",
    "sd_y = 5.34\n",
    "sd_x = 5.64\n",
    "b_1 = sd_y / sd_x * r\n",
    "\n",
    "x = 18\n",
    "\n",
    "y_hat = b_0 + b_1 * x\n",
    "\n",
    "print (f\"If 18 people are working, I predict {y_hat:.3f} of sales.\")"
   ]
  },
  {
   "cell_type": "code",
   "execution_count": 10,
   "id": "4347910b",
   "metadata": {},
   "outputs": [],
   "source": [
    "## g) If sales are actually $25,000, what is the value of the residual?\n",
    "\n",
    "y_observied_value = 25000\n"
   ]
  },
  {
   "cell_type": "code",
   "execution_count": 11,
   "id": "b46b6b42",
   "metadata": {},
   "outputs": [
    {
     "data": {
      "text/plain": [
       "0.93"
      ]
     },
     "execution_count": 11,
     "metadata": {},
     "output_type": "execute_result"
    }
   ],
   "source": [
    "## h) Have we overestimated or underestimated the sales?\n",
    "\n",
    "r = 0.965\n",
    "r_2 = 0.965 * 0.965\n",
    "round (r_2, 2)"
   ]
  },
  {
   "cell_type": "code",
   "execution_count": 12,
   "id": "cfa0f666",
   "metadata": {},
   "outputs": [
    {
     "name": "stdout",
     "output_type": "stream",
     "text": [
      "The error term is 7.00 precent\n"
     ]
    }
   ],
   "source": [
    "## h)\n",
    "r_2 = 0.93\n",
    "\n",
    "r_error_term = 1 - (r_2)\n",
    "\n",
    "print (f\"The error term is {r_error_term*100:.2f} precent\")\n",
    "\n"
   ]
  },
  {
   "cell_type": "markdown",
   "id": "d908e8e3",
   "metadata": {},
   "source": [
    "** h)\n",
    "\n",
    "\n",
    "Answer: So 7 precent of the variability in toal sales has been left in the residuals, therefore, there is 93 precent of association between sales and number of sales people working."
   ]
  },
  {
   "cell_type": "markdown",
   "id": "ca39c1bf",
   "metadata": {},
   "source": [
    "** Problem 9\n",
    "\n",
    "\n",
    "a) What are the units of the residuals?\n",
    "\n",
    "b) Which residual contributes the most to the sum that was\n",
    "minimized according to the least squares criterion to find\n",
    "this regression?\n",
    "\n",
    "c) Which residual contributes least to that sum?"
   ]
  },
  {
   "cell_type": "markdown",
   "id": "4d9baba6",
   "metadata": {},
   "source": [
    "* a) What are the units of the residuals?\n",
    "\n",
    "\n",
    "Answer: The units of the residuals are in thousands of dollars."
   ]
  },
  {
   "cell_type": "markdown",
   "id": "5917da34",
   "metadata": {},
   "source": [
    "* b)Which residual contributes the most to the sum that was\n",
    "minimized according to the least squares criterion to find\n",
    "this regression?\n",
    "\n",
    "\n",
    "Answer: 2.77 residual contributes the most to the sum that was minimized according to the least squares criterion to find this regression."
   ]
  },
  {
   "cell_type": "markdown",
   "id": "cfd8bbce",
   "metadata": {},
   "source": [
    "* c) Which residual contributes least to that sum?\n",
    "\n",
    "\n",
    "Answer: 0.07 residual contributes the least to that sum."
   ]
  },
  {
   "cell_type": "markdown",
   "id": "a4818492",
   "metadata": {},
   "source": [
    "** 11 For the regression model for the bookstore of Exercise 5, what is the value of R2 and what does it mean?\n",
    "\n",
    "\n",
    "Answer: From the regression model for the bookstore of Exercise 5, the R2 value is 0.93 and it means there is 93 precent of association between sales and number of sales people working."
   ]
  },
  {
   "cell_type": "markdown",
   "id": "246941ec",
   "metadata": {},
   "source": [
    "** 27. Tell what each of the residual plots below indicates about the appropriateness of the linear model that was fit to the data.\n",
    "\n",
    "\n",
    "Answer: The residual plot (b) shows the appropriateness of the linear model that was fit to the data, because the plot (b) does not have non-linear signal, no obvious outliers , and the plot does not thicken."
   ]
  },
  {
   "cell_type": "markdown",
   "id": "1d0615a6",
   "metadata": {},
   "source": [
    "** 28 Tell what each of the residual plots below indicates about the appropriateness of the linear model that was fit to the data.\n",
    "\n",
    "\n",
    "Answer: The residual plot (a) shows the appropriateness of the linear model that was fit to the data, because the plot (a) does not have obvious outliers, the plot does not thicken and no non-linear signal.\n"
   ]
  }
 ],
 "metadata": {
  "kernelspec": {
   "display_name": "Python 3 (ipykernel)",
   "language": "python",
   "name": "python3"
  },
  "language_info": {
   "codemirror_mode": {
    "name": "ipython",
    "version": 3
   },
   "file_extension": ".py",
   "mimetype": "text/x-python",
   "name": "python",
   "nbconvert_exporter": "python",
   "pygments_lexer": "ipython3",
   "version": "3.11.3"
  }
 },
 "nbformat": 4,
 "nbformat_minor": 5
}
