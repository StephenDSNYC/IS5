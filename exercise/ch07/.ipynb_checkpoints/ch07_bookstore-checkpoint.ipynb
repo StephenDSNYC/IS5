{
 "cells": [
  {
   "cell_type": "code",
   "execution_count": 4,
   "id": "209478da",
   "metadata": {},
   "outputs": [],
   "source": [
    "import numpy as np\n",
    "import pandas as pd\n",
    "from matplotlib import pyplot as plt\n",
    "import statsmodels.api as sm\n",
    "import statistics as stat\n",
    "from sklearn.linear_model import LinearRegression "
   ]
  },
  {
   "cell_type": "code",
   "execution_count": 5,
   "id": "4f8a9fec",
   "metadata": {},
   "outputs": [],
   "source": [
    "datafile = '../../dataset/ch07/bookstore_sales.txt'\n",
    "bookstore = pd.read_csv(datafile, sep='\\t')"
   ]
  },
  {
   "cell_type": "code",
   "execution_count": 6,
   "id": "97702899",
   "metadata": {},
   "outputs": [
    {
     "data": {
      "text/plain": [
       "<bound method DataFrame.info of    Number of Sales People Working  Sales (in $1000)\n",
       "0                               2                10\n",
       "1                               3                11\n",
       "2                               7                13\n",
       "3                               9                14\n",
       "4                              10                18\n",
       "5                              10                20\n",
       "6                              12                20\n",
       "7                              15                22\n",
       "8                              16                22\n",
       "9                              20                26>"
      ]
     },
     "execution_count": 6,
     "metadata": {},
     "output_type": "execute_result"
    }
   ],
   "source": [
    "bookstore.info"
   ]
  },
  {
   "cell_type": "code",
   "execution_count": 7,
   "id": "80ec4c69",
   "metadata": {},
   "outputs": [
    {
     "data": {
      "text/plain": [
       "10"
      ]
     },
     "execution_count": 7,
     "metadata": {},
     "output_type": "execute_result"
    }
   ],
   "source": [
    "len(bookstore)"
   ]
  },
  {
   "cell_type": "code",
   "execution_count": 8,
   "id": "200f7b94",
   "metadata": {},
   "outputs": [
    {
     "data": {
      "text/plain": [
       "Index(['Number of Sales People Working', 'Sales (in $1000)'], dtype='object')"
      ]
     },
     "execution_count": 8,
     "metadata": {},
     "output_type": "execute_result"
    }
   ],
   "source": [
    "bookstore.columns"
   ]
  },
  {
   "cell_type": "code",
   "execution_count": 9,
   "id": "1d2c9ddf",
   "metadata": {},
   "outputs": [
    {
     "data": {
      "text/html": [
       "<div>\n",
       "<style scoped>\n",
       "    .dataframe tbody tr th:only-of-type {\n",
       "        vertical-align: middle;\n",
       "    }\n",
       "\n",
       "    .dataframe tbody tr th {\n",
       "        vertical-align: top;\n",
       "    }\n",
       "\n",
       "    .dataframe thead th {\n",
       "        text-align: right;\n",
       "    }\n",
       "</style>\n",
       "<table border=\"1\" class=\"dataframe\">\n",
       "  <thead>\n",
       "    <tr style=\"text-align: right;\">\n",
       "      <th></th>\n",
       "      <th>Number of Sales People Working</th>\n",
       "      <th>Sales (in $1000)</th>\n",
       "    </tr>\n",
       "  </thead>\n",
       "  <tbody>\n",
       "    <tr>\n",
       "      <th>0</th>\n",
       "      <td>2</td>\n",
       "      <td>10</td>\n",
       "    </tr>\n",
       "    <tr>\n",
       "      <th>1</th>\n",
       "      <td>3</td>\n",
       "      <td>11</td>\n",
       "    </tr>\n",
       "    <tr>\n",
       "      <th>2</th>\n",
       "      <td>7</td>\n",
       "      <td>13</td>\n",
       "    </tr>\n",
       "    <tr>\n",
       "      <th>3</th>\n",
       "      <td>9</td>\n",
       "      <td>14</td>\n",
       "    </tr>\n",
       "    <tr>\n",
       "      <th>4</th>\n",
       "      <td>10</td>\n",
       "      <td>18</td>\n",
       "    </tr>\n",
       "  </tbody>\n",
       "</table>\n",
       "</div>"
      ],
      "text/plain": [
       "   Number of Sales People Working  Sales (in $1000)\n",
       "0                               2                10\n",
       "1                               3                11\n",
       "2                               7                13\n",
       "3                               9                14\n",
       "4                              10                18"
      ]
     },
     "execution_count": 9,
     "metadata": {},
     "output_type": "execute_result"
    }
   ],
   "source": [
    "bookstore.head()"
   ]
  },
  {
   "cell_type": "markdown",
   "id": "4018213e",
   "metadata": {},
   "source": [
    "*Prolem 5*\n",
    "\n",
    "\n",
    "a) Find the slope estimate, b1.\n",
    "\n",
    "b) What does it mean, in this context?\n",
    "\n",
    "c) Find the intercept, b0.\n",
    "\n",
    "d) What does it mean, in this context? Is it meaningful?\n",
    "\n",
    "e) Write down the equation that predicts Sales from Number of\n",
    "Sales People Working.\n",
    "\n",
    "f) If 18 people are working, what Sales do you predict?\n",
    "\n",
    "g) If sales are actually $25,000, what is the value of the residual?\n",
    "\n",
    "h) Have we overestimated or underestimated the sales?"
   ]
  },
  {
   "cell_type": "code",
   "execution_count": null,
   "id": "dbc79e64",
   "metadata": {},
   "outputs": [],
   "source": []
  },
  {
   "cell_type": "code",
   "execution_count": null,
   "id": "7333d894",
   "metadata": {},
   "outputs": [],
   "source": []
  },
  {
   "cell_type": "code",
   "execution_count": null,
   "id": "8ad7b2ea",
   "metadata": {},
   "outputs": [],
   "source": []
  },
  {
   "cell_type": "code",
   "execution_count": null,
   "id": "467a95fb",
   "metadata": {},
   "outputs": [],
   "source": []
  }
 ],
 "metadata": {
  "kernelspec": {
   "display_name": "Python 3 (ipykernel)",
   "language": "python",
   "name": "python3"
  },
  "language_info": {
   "codemirror_mode": {
    "name": "ipython",
    "version": 3
   },
   "file_extension": ".py",
   "mimetype": "text/x-python",
   "name": "python",
   "nbconvert_exporter": "python",
   "pygments_lexer": "ipython3",
   "version": "3.11.3"
  }
 },
 "nbformat": 4,
 "nbformat_minor": 5
}
