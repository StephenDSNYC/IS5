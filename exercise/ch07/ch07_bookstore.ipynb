{
 "cells": [
  {
   "cell_type": "code",
   "execution_count": 1,
   "id": "209478da",
   "metadata": {},
   "outputs": [],
   "source": [
    "import numpy as np\n",
    "import pandas as pd\n",
    "from matplotlib import pyplot as plt\n",
    "import statsmodels.api as sm\n",
    "import statistics as stat\n",
    "from sklearn.linear_model import LinearRegression \n",
    "import math"
   ]
  },
  {
   "cell_type": "code",
   "execution_count": 2,
   "id": "4f8a9fec",
   "metadata": {},
   "outputs": [],
   "source": [
    "datafile = '../../dataset/ch07/bookstore_sales.txt'\n",
    "bookstore = pd.read_csv(datafile, sep='\\t')"
   ]
  },
  {
   "cell_type": "code",
   "execution_count": 3,
   "id": "97702899",
   "metadata": {},
   "outputs": [
    {
     "data": {
      "text/plain": [
       "<bound method DataFrame.info of    Number of Sales People Working  Sales (in $1000)\n",
       "0                               2                10\n",
       "1                               3                11\n",
       "2                               7                13\n",
       "3                               9                14\n",
       "4                              10                18\n",
       "5                              10                20\n",
       "6                              12                20\n",
       "7                              15                22\n",
       "8                              16                22\n",
       "9                              20                26>"
      ]
     },
     "execution_count": 3,
     "metadata": {},
     "output_type": "execute_result"
    }
   ],
   "source": [
    "bookstore.info"
   ]
  },
  {
   "cell_type": "code",
   "execution_count": 4,
   "id": "80ec4c69",
   "metadata": {},
   "outputs": [
    {
     "data": {
      "text/plain": [
       "10"
      ]
     },
     "execution_count": 4,
     "metadata": {},
     "output_type": "execute_result"
    }
   ],
   "source": [
    "len(bookstore)"
   ]
  },
  {
   "cell_type": "code",
   "execution_count": 5,
   "id": "200f7b94",
   "metadata": {},
   "outputs": [
    {
     "data": {
      "text/plain": [
       "Index(['Number of Sales People Working', 'Sales (in $1000)'], dtype='object')"
      ]
     },
     "execution_count": 5,
     "metadata": {},
     "output_type": "execute_result"
    }
   ],
   "source": [
    "bookstore.columns"
   ]
  },
  {
   "cell_type": "code",
   "execution_count": 6,
   "id": "1d2c9ddf",
   "metadata": {},
   "outputs": [
    {
     "data": {
      "text/html": [
       "<div>\n",
       "<style scoped>\n",
       "    .dataframe tbody tr th:only-of-type {\n",
       "        vertical-align: middle;\n",
       "    }\n",
       "\n",
       "    .dataframe tbody tr th {\n",
       "        vertical-align: top;\n",
       "    }\n",
       "\n",
       "    .dataframe thead th {\n",
       "        text-align: right;\n",
       "    }\n",
       "</style>\n",
       "<table border=\"1\" class=\"dataframe\">\n",
       "  <thead>\n",
       "    <tr style=\"text-align: right;\">\n",
       "      <th></th>\n",
       "      <th>Number of Sales People Working</th>\n",
       "      <th>Sales (in $1000)</th>\n",
       "    </tr>\n",
       "  </thead>\n",
       "  <tbody>\n",
       "    <tr>\n",
       "      <th>0</th>\n",
       "      <td>2</td>\n",
       "      <td>10</td>\n",
       "    </tr>\n",
       "    <tr>\n",
       "      <th>1</th>\n",
       "      <td>3</td>\n",
       "      <td>11</td>\n",
       "    </tr>\n",
       "    <tr>\n",
       "      <th>2</th>\n",
       "      <td>7</td>\n",
       "      <td>13</td>\n",
       "    </tr>\n",
       "    <tr>\n",
       "      <th>3</th>\n",
       "      <td>9</td>\n",
       "      <td>14</td>\n",
       "    </tr>\n",
       "    <tr>\n",
       "      <th>4</th>\n",
       "      <td>10</td>\n",
       "      <td>18</td>\n",
       "    </tr>\n",
       "  </tbody>\n",
       "</table>\n",
       "</div>"
      ],
      "text/plain": [
       "   Number of Sales People Working  Sales (in $1000)\n",
       "0                               2                10\n",
       "1                               3                11\n",
       "2                               7                13\n",
       "3                               9                14\n",
       "4                              10                18"
      ]
     },
     "execution_count": 6,
     "metadata": {},
     "output_type": "execute_result"
    }
   ],
   "source": [
    "bookstore.head()"
   ]
  },
  {
   "cell_type": "markdown",
   "id": "4018213e",
   "metadata": {},
   "source": [
    "*Prolem 5*\n",
    "\n",
    "\n",
    "a) Find the slope estimate, b1.\n",
    "\n",
    "b) What does it mean, in this context?\n",
    "\n",
    "c) Find the intercept, b0.\n",
    "\n",
    "d) What does it mean, in this context? Is it meaningful?\n",
    "\n",
    "e) Write down the equation that predicts Sales from Number of\n",
    "Sales People Working.\n",
    "\n",
    "f) If 18 people are working, what Sales do you predict?\n",
    "\n",
    "g) If sales are actually $25,000, what is the value of the residual?\n",
    "\n",
    "h) Have we overestimated or underestimated the sales?"
   ]
  },
  {
   "cell_type": "code",
   "execution_count": 30,
   "id": "c2fb1996",
   "metadata": {},
   "outputs": [
    {
     "name": "stdout",
     "output_type": "stream",
     "text": [
      "b1 = 0.913\n",
      "b1 = 8.101\n",
      "Predicted sales for 18 salespeople: 24.542\n",
      "residues:\n",
      "2.7653631284916216 0.07262569832402299\n"
     ]
    }
   ],
   "source": [
    "# teacher's code by scikit-learn\n",
    "linfit = LinearRegression()\n",
    "x = np.array(bookstore['Number of Sales People Working']).reshape(-1, 1)\n",
    "y = np.array(bookstore['Sales (in $1000)'])\n",
    "linfit.fit(x, y)\n",
    "print(f'b1 = {linfit.coef_[0]:.3f}')\n",
    "print(f'b1 = {linfit.intercept_:.3f}')\n",
    "print(f'Predicted sales for 18 salespeople: {linfit.predict(np.array([18]).reshape(1,1))[0]:.3f}')\n",
    "e = y - linfit.predict(x)\n",
    "print('residues:')\n",
    "print((np.max(np.abs(e))), np.min(np.abs(e)))"
   ]
  },
  {
   "cell_type": "code",
   "execution_count": 9,
   "id": "dbc79e64",
   "metadata": {},
   "outputs": [
    {
     "data": {
      "text/plain": [
       "0.914"
      ]
     },
     "execution_count": 9,
     "metadata": {},
     "output_type": "execute_result"
    }
   ],
   "source": [
    "## 5a) Find the slope estimate, b1.\n",
    "r = 0.965\n",
    "sd_y = 5.34\n",
    "sd_x = 5.64\n",
    "b_1 = sd_y / sd_x * r\n",
    "round (b_1, 3)"
   ]
  },
  {
   "cell_type": "markdown",
   "id": "1e7c373a",
   "metadata": {},
   "source": [
    "**5b) What does it mean, in this context?**\n",
    "\n",
    "\n",
    "Answer: The slope, 0.914, says that a \"sales in 1,000 dollars\" with one more salesperson working can be expected, on average, to have 0.914 more of 1000 dollars sales (which is $914).\n",
    "\n",
    "**Correction:** The slope is a fitted proportionality between \"sales in 1,000 dollars\" (y) and \"number of salespeople\" (x).  Roughly speaking, the manager may expect that adding 1 to x (meaning hiring one more salesperson) would lead to an increase of 0.914 in y (meaning that the sales goes up by approximately $914). \n"
   ]
  },
  {
   "cell_type": "code",
   "execution_count": 16,
   "id": "8ad7b2ea",
   "metadata": {},
   "outputs": [
    {
     "data": {
      "text/plain": [
       "8.098"
      ]
     },
     "execution_count": 16,
     "metadata": {},
     "output_type": "execute_result"
    }
   ],
   "source": [
    "## c) Find the intercept, b0.\n",
    "\n",
    "y_bar = 17.6\n",
    "x_bar = 10.4\n",
    "r = 0.965\n",
    "sd_y = 5.34\n",
    "sd_x = 5.64\n",
    "b_1 = sd_y / sd_x * r\n",
    "b_0 = y_bar - b_1 * x_bar\n",
    "round (b_0, 3)"
   ]
  },
  {
   "cell_type": "markdown",
   "id": "98046e76",
   "metadata": {},
   "source": [
    "**5d) What does it mean, in this context? Is it meaningful?**\n",
    "\n",
    "Answer: The intercept, 8.098, says that the model predicts that even a bookstore with no salespeople would have, on average, about 8.098 of 1,000 dollars of sales, i.e., $8,098.  This is not meaningful here, because we do not expect a no-man bookstore would have any sales."
   ]
  },
  {
   "cell_type": "markdown",
   "id": "0da79ead",
   "metadata": {},
   "source": [
    "**5e) Write down the equation that predicts Sales from Number of Sales People Working.**\n",
    "\n",
    "\n",
    "Answer: $\\hat{y} = b_0 + b_1 x$, \n",
    "where $\\hat{y}$ represents the predicted sales, and $x$ stands for the number of salespeople at the bookstore.  Numerically,\n",
    "\n",
    "$\\hat{y} = 8.098 + 0.914 x$"
   ]
  },
  {
   "cell_type": "code",
   "execution_count": 17,
   "id": "c483cbba",
   "metadata": {},
   "outputs": [
    {
     "name": "stdout",
     "output_type": "stream",
     "text": [
      "If 18 people are working, I predict 24.544 of sales.\n"
     ]
    }
   ],
   "source": [
    "## 5f) If 18 people are working, what Sales do you predict?\n",
    "\n",
    "# y_bar = 17.6\n",
    "# x_bar = 10.4\n",
    "# r = 0.965\n",
    "# sd_y = 5.34\n",
    "# sd_x = 5.64\n",
    "# b_1 = sd_y / sd_x * r\n",
    "# b_0 = y_bar - b_1 * x_bar\n",
    "\n",
    "# r = 0.965\n",
    "# sd_y = 5.34\n",
    "# sd_x = 5.64\n",
    "# b_1 = sd_y / sd_x * r\n",
    "\n",
    "b0 = 8.098\n",
    "b1 = 0.914\n",
    "x = 18\n",
    "\n",
    "y_hat = b_0 + b_1 * x\n",
    "\n",
    "print (f\"If 18 people are working, I predict {y_hat:.3f} of sales.\")"
   ]
  },
  {
   "cell_type": "code",
   "execution_count": 24,
   "id": "4347910b",
   "metadata": {},
   "outputs": [
    {
     "data": {
      "text/plain": [
       "456.0"
      ]
     },
     "execution_count": 24,
     "metadata": {},
     "output_type": "execute_result"
    }
   ],
   "source": [
    "## 5g) If sales are actually $25,000, what is the value of the residual?\n",
    "residual = 25000 - 24.544 * 1000\n",
    "residual"
   ]
  },
  {
   "cell_type": "code",
   "execution_count": 27,
   "id": "cfa0f666",
   "metadata": {},
   "outputs": [
    {
     "name": "stdout",
     "output_type": "stream",
     "text": [
      "The error term is 7.00 precent\n"
     ]
    }
   ],
   "source": [
    "## 5h) not meant to get you compute the R^2\n",
    "\n",
    "r_2 = 0.93\n",
    "r_error_term = 1 - (r_2)\n",
    "print (f\"The error term is {r_error_term*100:.2f} precent\")"
   ]
  },
  {
   "cell_type": "markdown",
   "id": "d908e8e3",
   "metadata": {},
   "source": [
    "**5h)**\n",
    "\n",
    "\n",
    "Answer: So 7 precent of the variability in toal sales has been left in the residuals, therefore, there is 93 precent of association between sales and number of sales people working.\n",
    "\n",
    "**Correction**: the residual of $456 is the difference between actual sales and predicted sales.  Predicated sales is lower than the actual sales.  Therefore, we have underestimated the sales."
   ]
  },
  {
   "cell_type": "markdown",
   "id": "ac0d18d1",
   "metadata": {},
   "source": [
    "## Problem 9"
   ]
  },
  {
   "cell_type": "markdown",
   "id": "ca39c1bf",
   "metadata": {},
   "source": [
    "a) What are the units of the residuals?\n",
    "\n",
    "b) Which residual contributes the most to the sum that was\n",
    "minimized according to the least squares criterion to find\n",
    "this regression?\n",
    "\n",
    "c) Which residual contributes least to that sum?"
   ]
  },
  {
   "cell_type": "markdown",
   "id": "4d9baba6",
   "metadata": {},
   "source": [
    "* a) What are the units of the residuals?\n",
    "\n",
    "\n",
    "Answer: The units of the residuals are in 1000 dollars."
   ]
  },
  {
   "cell_type": "markdown",
   "id": "5917da34",
   "metadata": {},
   "source": [
    "* b)Which residual contributes the most to the sum that was\n",
    "minimized according to the least squares criterion to find\n",
    "this regression?\n",
    "\n",
    "\n",
    "Answer: $2.77$ residual contributes the most to the sum that was minimized according to the least squares criterion to find this regression.\n",
    "\n",
    "The next largest residual is $-2.32$.  Although this is negative (meaning overestimation), its absolute value (or just say its magnitude) is the second largest."
   ]
  },
  {
   "cell_type": "markdown",
   "id": "cfd8bbce",
   "metadata": {},
   "source": [
    "* c) Which residual contributes least to that sum?\n",
    "\n",
    "\n",
    "Answer: 0.07 residual contributes the least to that sum."
   ]
  },
  {
   "cell_type": "markdown",
   "id": "a4818492",
   "metadata": {},
   "source": [
    "**11 For the regression model for the bookstore of Exercise 5, what is the value of R2 and what does it mean?**\n",
    "\n",
    "\n",
    "Answer: From the regression model for the bookstore of Exercise 5, the R2 value is 0.93 and it means there is 93 precent of association between sales and number of sales people working.\n",
    "\n",
    "**Correction**: The meaning of $R^2$ is the percentage of the variation (think about variance and standard deviation) in the response variable (y) as accouted for by the variation in the control variable (x).\n",
    "\n",
    "In this case, 93% of the variation in the sales can be accounted for by the number of salespeople."
   ]
  },
  {
   "cell_type": "code",
   "execution_count": 31,
   "id": "47eb1035",
   "metadata": {},
   "outputs": [
    {
     "data": {
      "text/plain": [
       "0.93"
      ]
     },
     "execution_count": 31,
     "metadata": {},
     "output_type": "execute_result"
    }
   ],
   "source": [
    "## 11 Have we overestimated or underestimated the sales?\n",
    "r = 0.965\n",
    "r_2 = 0.965 * 0.965\n",
    "round (r_2, 2)"
   ]
  },
  {
   "cell_type": "markdown",
   "id": "b7709b6a",
   "metadata": {},
   "source": [
    "## Some scatterplots"
   ]
  },
  {
   "cell_type": "markdown",
   "id": "246941ec",
   "metadata": {},
   "source": [
    "**27. Tell what each of the residual plots below indicates about the appropriateness of the linear model that was fit to the data.**\n",
    "\n",
    "**Notes**: We need to check:\n",
    "1. straight enough?\n",
    "2. outlier(s)?\n",
    "3. thickening?\n",
    "In the residual plot, we need to check the data points are scattered randomly, fitting to a horizontal line through 0, and without any outliers or thickening.\n",
    "\n",
    "Answer: The residual plot (b) shows the appropriateness of the linear model that was fit to the data, because the plot (b) does not have non-linear signal, no obvious outliers , and the plot does not thicken.\n",
    "\n",
    "(a) This looks like a random plot with no outliers or thickening.  Technically, the adopted linear regression analysis is appropriate.\n",
    "\n",
    "(b) The plot shows an evident curvature, indicating a nonlinear association between x and y.  Linear regression analysis is NOT appropriate in this case.\n",
    "\n",
    "(c) We see thickening in this plot (heteroskedasticity), so we need to adopt more advanced (beyond the coverage of this course or book) to analyze the data."
   ]
  },
  {
   "cell_type": "markdown",
   "id": "1d0615a6",
   "metadata": {},
   "source": [
    "**28 Tell what each of the residual plots below indicates about the appropriateness of the linear model that was fit to the data.**\n",
    "\n",
    "Answer: The residual plot (a) shows the appropriateness of the linear model that was fit to the data, because the plot (a) does not have obvious outliers, the plot does not thicken and no non-linear signal.\n",
    "\n",
    "Plot (c) shows the residues after an appropriate linear regression.  Problem with plot (a) is the evident curvature, and the issue with plot (b) is the thickening."
   ]
  }
 ],
 "metadata": {
  "kernelspec": {
   "display_name": "Python 3 (ipykernel)",
   "language": "python",
   "name": "python3"
  },
  "language_info": {
   "codemirror_mode": {
    "name": "ipython",
    "version": 3
   },
   "file_extension": ".py",
   "mimetype": "text/x-python",
   "name": "python",
   "nbconvert_exporter": "python",
   "pygments_lexer": "ipython3",
   "version": "3.11.5"
  }
 },
 "nbformat": 4,
 "nbformat_minor": 5
}
