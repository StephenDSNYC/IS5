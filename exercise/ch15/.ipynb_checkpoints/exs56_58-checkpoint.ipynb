{
 "cells": [
  {
   "cell_type": "code",
   "execution_count": 1,
   "id": "89c870c9-fe77-4b31-baaf-8568cac624ee",
   "metadata": {},
   "outputs": [],
   "source": [
    "import pandas as pd\n",
    "from math import sqrt\n",
    "from scipy.stats import norm, t\n",
    "from matplotlib import pyplot as plt"
   ]
  },
  {
   "cell_type": "code",
   "execution_count": 2,
   "id": "8982b234-01d9-44b1-b116-6faab698147c",
   "metadata": {},
   "outputs": [],
   "source": [
    "datafile = \"../../dataset/ch15/student_survey.txt\"\n",
    "data = pd.read_csv(datafile, sep='\\t')"
   ]
  },
  {
   "cell_type": "code",
   "execution_count": 3,
   "id": "7a83da33-724a-4cfe-80bf-a7c09fca9a28",
   "metadata": {},
   "outputs": [
    {
     "data": {
      "text/html": [
       "<div>\n",
       "<style scoped>\n",
       "    .dataframe tbody tr th:only-of-type {\n",
       "        vertical-align: middle;\n",
       "    }\n",
       "\n",
       "    .dataframe tbody tr th {\n",
       "        vertical-align: top;\n",
       "    }\n",
       "\n",
       "    .dataframe thead th {\n",
       "        text-align: right;\n",
       "    }\n",
       "</style>\n",
       "<table border=\"1\" class=\"dataframe\">\n",
       "  <thead>\n",
       "    <tr style=\"text-align: right;\">\n",
       "      <th></th>\n",
       "      <th>Gender</th>\n",
       "      <th>Do.you.believe.in.God</th>\n",
       "      <th>Pick.Random.Number</th>\n",
       "      <th>Height</th>\n",
       "      <th>Hand</th>\n",
       "      <th>Dates</th>\n",
       "      <th>FB.Friends</th>\n",
       "      <th>Weight</th>\n",
       "      <th>Drinks</th>\n",
       "      <th>Varsity</th>\n",
       "      <th>Songs</th>\n",
       "      <th>Diet</th>\n",
       "      <th>Politics.9Cat</th>\n",
       "      <th>Politics.numeric</th>\n",
       "      <th>Politics.3Cat</th>\n",
       "    </tr>\n",
       "  </thead>\n",
       "  <tbody>\n",
       "    <tr>\n",
       "      <th>0</th>\n",
       "      <td>Female</td>\n",
       "      <td>Not sure</td>\n",
       "      <td>6</td>\n",
       "      <td>71.0</td>\n",
       "      <td>Predominantly Left Handed</td>\n",
       "      <td>1.0</td>\n",
       "      <td>314.0</td>\n",
       "      <td>138.0</td>\n",
       "      <td>0</td>\n",
       "      <td>Yes</td>\n",
       "      <td>1564.0</td>\n",
       "      <td>Omnivore</td>\n",
       "      <td>2. Very Liberal</td>\n",
       "      <td>2.0</td>\n",
       "      <td>Liberal</td>\n",
       "    </tr>\n",
       "    <tr>\n",
       "      <th>1</th>\n",
       "      <td>Male</td>\n",
       "      <td>No</td>\n",
       "      <td>2</td>\n",
       "      <td>66.0</td>\n",
       "      <td>Predominantly Right Handed</td>\n",
       "      <td>2.0</td>\n",
       "      <td>1228.0</td>\n",
       "      <td>130.0</td>\n",
       "      <td>0</td>\n",
       "      <td>No</td>\n",
       "      <td>97.0</td>\n",
       "      <td>Vegetarian</td>\n",
       "      <td>2. Very Liberal</td>\n",
       "      <td>2.0</td>\n",
       "      <td>Liberal</td>\n",
       "    </tr>\n",
       "    <tr>\n",
       "      <th>2</th>\n",
       "      <td>Male</td>\n",
       "      <td>Yes</td>\n",
       "      <td>9</td>\n",
       "      <td>73.0</td>\n",
       "      <td>Predominantly Right Handed</td>\n",
       "      <td>1.0</td>\n",
       "      <td>1189.0</td>\n",
       "      <td>183.0</td>\n",
       "      <td>0</td>\n",
       "      <td>Yes</td>\n",
       "      <td>1397.0</td>\n",
       "      <td>Carnivore</td>\n",
       "      <td>7. Moderatly Conservative</td>\n",
       "      <td>7.0</td>\n",
       "      <td>Conservative</td>\n",
       "    </tr>\n",
       "    <tr>\n",
       "      <th>3</th>\n",
       "      <td>Female</td>\n",
       "      <td>No</td>\n",
       "      <td>6</td>\n",
       "      <td>67.0</td>\n",
       "      <td>Predominantly Right Handed</td>\n",
       "      <td>1.0</td>\n",
       "      <td>0.0</td>\n",
       "      <td>125.0</td>\n",
       "      <td>0</td>\n",
       "      <td>No</td>\n",
       "      <td>2241.0</td>\n",
       "      <td>Omnivore</td>\n",
       "      <td>3. Moderately Liberal</td>\n",
       "      <td>3.0</td>\n",
       "      <td>Liberal</td>\n",
       "    </tr>\n",
       "    <tr>\n",
       "      <th>4</th>\n",
       "      <td>Male</td>\n",
       "      <td>Yes</td>\n",
       "      <td>7</td>\n",
       "      <td>71.0</td>\n",
       "      <td>Predominantly Right Handed</td>\n",
       "      <td>0.0</td>\n",
       "      <td>709.0</td>\n",
       "      <td>245.0</td>\n",
       "      <td>0</td>\n",
       "      <td>No</td>\n",
       "      <td>1299.0</td>\n",
       "      <td>Omnivore</td>\n",
       "      <td>5. Independent/Middle of Road</td>\n",
       "      <td>5.0</td>\n",
       "      <td>Moderate</td>\n",
       "    </tr>\n",
       "  </tbody>\n",
       "</table>\n",
       "</div>"
      ],
      "text/plain": [
       "   Gender Do.you.believe.in.God  Pick.Random.Number  Height  \\\n",
       "0  Female              Not sure                   6    71.0   \n",
       "1    Male                    No                   2    66.0   \n",
       "2    Male                   Yes                   9    73.0   \n",
       "3  Female                    No                   6    67.0   \n",
       "4    Male                   Yes                   7    71.0   \n",
       "\n",
       "                         Hand  Dates  FB.Friends  Weight  Drinks Varsity  \\\n",
       "0   Predominantly Left Handed    1.0       314.0   138.0       0     Yes   \n",
       "1  Predominantly Right Handed    2.0      1228.0   130.0       0      No   \n",
       "2  Predominantly Right Handed    1.0      1189.0   183.0       0     Yes   \n",
       "3  Predominantly Right Handed    1.0         0.0   125.0       0      No   \n",
       "4  Predominantly Right Handed    0.0       709.0   245.0       0      No   \n",
       "\n",
       "    Songs        Diet                  Politics.9Cat  Politics.numeric  \\\n",
       "0  1564.0    Omnivore                2. Very Liberal               2.0   \n",
       "1    97.0  Vegetarian                2. Very Liberal               2.0   \n",
       "2  1397.0   Carnivore      7. Moderatly Conservative               7.0   \n",
       "3  2241.0    Omnivore          3. Moderately Liberal               3.0   \n",
       "4  1299.0    Omnivore  5. Independent/Middle of Road               5.0   \n",
       "\n",
       "  Politics.3Cat  \n",
       "0       Liberal  \n",
       "1       Liberal  \n",
       "2  Conservative  \n",
       "3       Liberal  \n",
       "4      Moderate  "
      ]
     },
     "execution_count": 3,
     "metadata": {},
     "output_type": "execute_result"
    }
   ],
   "source": [
    "data.head()"
   ]
  },
  {
   "cell_type": "code",
   "execution_count": 4,
   "id": "4ec9d62c-1081-4c92-9dfe-d58e33ca9cf6",
   "metadata": {},
   "outputs": [
    {
     "name": "stdout",
     "output_type": "stream",
     "text": [
      "<class 'pandas.core.frame.DataFrame'>\n",
      "RangeIndex: 299 entries, 0 to 298\n",
      "Data columns (total 15 columns):\n",
      " #   Column                 Non-Null Count  Dtype  \n",
      "---  ------                 --------------  -----  \n",
      " 0   Gender                 299 non-null    object \n",
      " 1   Do.you.believe.in.God  299 non-null    object \n",
      " 2   Pick.Random.Number     299 non-null    int64  \n",
      " 3   Height                 298 non-null    float64\n",
      " 4   Hand                   299 non-null    object \n",
      " 5   Dates                  297 non-null    float64\n",
      " 6   FB.Friends             294 non-null    float64\n",
      " 7   Weight                 298 non-null    float64\n",
      " 8   Drinks                 299 non-null    int64  \n",
      " 9   Varsity                299 non-null    object \n",
      " 10  Songs                  295 non-null    float64\n",
      " 11  Diet                   293 non-null    object \n",
      " 12  Politics.9Cat          298 non-null    object \n",
      " 13  Politics.numeric       298 non-null    float64\n",
      " 14  Politics.3Cat          295 non-null    object \n",
      "dtypes: float64(6), int64(2), object(7)\n",
      "memory usage: 35.2+ KB\n"
     ]
    }
   ],
   "source": [
    "data.info()"
   ]
  },
  {
   "cell_type": "code",
   "execution_count": 5,
   "id": "8f581c25-104c-4305-a149-ff328c61247d",
   "metadata": {},
   "outputs": [],
   "source": [
    "fbfriends = data['FB.Friends']"
   ]
  },
  {
   "cell_type": "code",
   "execution_count": 6,
   "id": "2003bb78-0e01-4cd2-a839-c9c4b6e71df9",
   "metadata": {},
   "outputs": [
    {
     "data": {
      "image/png": "[encoded data removed]",
      "text/plain": [
       "<Figure size 640x480 with 1 Axes>"
      ]
     },
     "metadata": {},
     "output_type": "display_data"
    }
   ],
   "source": [
    "fbfriends.hist(grid=False);"
   ]
  },
  {
   "cell_type": "markdown",
   "id": "d0d452ea-4f6e-4a2a-b0a2-818fe3a76cec",
   "metadata": {},
   "source": [
    "**Prob.56** Facebook friends According to www.marketingcharts.com/, the average 18–24-year old has 649 Facebook friends. The stu- dent who collected the survey data in Student survey wanted to test if the mean number is higher at his school. Using his data, test an appropriate hypothesis and write a couple of sentences summarizing what you discover.\n"
   ]
  },
  {
   "cell_type": "markdown",
   "id": "87a0b855-c973-4a47-868c-0a235b317d5f",
   "metadata": {},
   "source": [
    "$H_0: \\mu$ = 649 vs. $H_A: \\mu \\ne 649$"
   ]
  },
  {
   "cell_type": "code",
   "execution_count": 7,
   "id": "5bb0807f-0751-4eef-8806-ee1412775cd6",
   "metadata": {},
   "outputs": [
    {
     "name": "stdout",
     "output_type": "stream",
     "text": [
      "ybar: 751.163\n",
      "std: 357.321\n",
      "SE: 20.664\n",
      "t-score: 4.944\n",
      "pval: 0.00000128\n"
     ]
    }
   ],
   "source": [
    "def p56():\n",
    "    mu = 649\n",
    "    ybar = fbfriends.mean()\n",
    "    std = fbfriends.std(ddof=1)\n",
    "    SE = std/sqrt(fbfriends.size)\n",
    "    tscore = (ybar - mu) / SE\n",
    "    pval = (1 - t.cdf(tscore, fbfriends.size-1)) * 2\n",
    "    \n",
    "    print(f\"ybar: {ybar:.3f}\")\n",
    "    print(f\"std: {std:.3f}\")\n",
    "    print(f\"SE: {SE:.3f}\")\n",
    "    print(f\"t-score: {tscore:.3f}\")\n",
    "    print(f\"pval: {pval:.8f}\")\n",
    "p56()"
   ]
  },
  {
   "cell_type": "markdown",
   "id": "37ce4623-92e5-4e43-a125-802f3ab6e037",
   "metadata": {},
   "source": [
    "**Answer to Prob. 56**  With a P-value this large, I reject the null hypothesis and conclude that the mean friend number at his school is signifantly greater than the \"marketcharts\" reported average."
   ]
  },
  {
   "cell_type": "markdown",
   "id": "5a5efc06-fd6a-4dc4-add6-1c46648bce42",
   "metadata": {},
   "source": [
    "**Prob.58** Facebook friends again A bootstrap test of the hypothesis in Exercise 56 produced the following distribution (shifted to cen- ter the histogram at the hypothesized mean of 649): (Data in Student Survey)\n",
    "\n",
    "a) What is the P-value of this test?\n",
    "\n",
    "b) Write a sentence or two with your conclusion."
   ]
  },
  {
   "cell_type": "code",
   "execution_count": 27,
   "id": "66c6c462-3647-43dc-a3a3-5b59fbe6111c",
   "metadata": {},
   "outputs": [
    {
     "name": "stdout",
     "output_type": "stream",
     "text": [
      "boostrap p-value: 0.000280\n"
     ]
    },
    {
     "data": {
      "image/png": "[encoded data removed]",
      "text/plain": [
       "<Figure size 640x480 with 1 Axes>"
      ]
     },
     "metadata": {},
     "output_type": "display_data"
    }
   ],
   "source": [
    "ybar = fbfriends.mean()\n",
    "mu = 649\n",
    "def p58step1():\n",
    "    nsamples = 500_000\n",
    "    sample_size = 150\n",
    "    sample_means = []\n",
    "    for _ in range(nsamples):\n",
    "        sample_means.append(fbfriends.sample(n=sample_size, replace=True).mean() - ybar + mu)\n",
    "    sample_means = pd.DataFrame(data=sample_means, columns=['friends'])\n",
    "    sample_means.hist(grid=False)\n",
    "    return sample_means\n",
    "\n",
    "sample_means = p58step1()\n",
    "\n",
    "def p58step2():\n",
    "    ha = sample_means[sample_means.friends > ybar]\n",
    "    print(f\"boostrap p-value: {len(ha)/len(sample_means):.6f}\")\n",
    "\n",
    "p58step2()"
   ]
  }
 ],
 "metadata": {
  "kernelspec": {
   "display_name": "Python 3 (ipykernel)",
   "language": "python",
   "name": "python3"
  },
  "language_info": {
   "codemirror_mode": {
    "name": "ipython",
    "version": 3
   },
   "file_extension": ".py",
   "mimetype": "text/x-python",
   "name": "python",
   "nbconvert_exporter": "python",
   "pygments_lexer": "ipython3",
   "version": "3.11.5"
  }
 },
 "nbformat": 4,
 "nbformat_minor": 5
}
