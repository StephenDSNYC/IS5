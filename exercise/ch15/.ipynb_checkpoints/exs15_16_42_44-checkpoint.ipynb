{
 "cells": [
  {
   "cell_type": "markdown",
   "id": "ab7757fa-a299-438b-83b5-48902eb6f3e1",
   "metadata": {},
   "source": [
    "**Prob. 15** Hypotheses Write the null and alternative hypotheses you would use to test each of the following situations:\n",
    "\n",
    "a) A governor is concerned about his “negatives”—the percent- age of state residents who express disapproval of his job per- formance. His political committee pays for a series of TV ads, hoping that they can keep the negatives below 30%. They will use follow-up polling to assess the ads’ effectiveness.\n",
    "\n",
    "b) Is a coin fair?\n",
    "\n",
    "c) Only about 20% of people who try to quit smoking succeed.\n",
    "Sellers of a motivational tape claim that listening to the recorded messages can help people quit.\n"
   ]
  },
  {
   "cell_type": "markdown",
   "id": "42bd0699-124c-44a5-8022-50c176b1555d",
   "metadata": {},
   "source": [
    "**Answers to Prob. 15** \n",
    "\n",
    "(a) Let p = proportion of negatives in a series of TV ads.  Then $H_0:p$ = 0.30 vs. $H_A:p$ =/ 0.30.\n",
    "\n",
    "(b) Let p = proportion for fliping a coin that is fair.  Then $H_0:p$ = 0.50 vs. $H_A:p$ =/ 0.50.\n",
    "\n",
    "(c) Let p = proportion of people who try to quit smoking succeed.  Then $H_0:p$ = 0.20 vs. $H_A:p$ =/ 0.20."
   ]
  },
  {
   "cell_type": "markdown",
   "id": "55426fc7-5651-489e-9fe7-3ffb446a5abd",
   "metadata": {},
   "source": [
    "**Prob. 16** More hypotheses Write the null and alternative hypotheses you would use to test each situation.\n",
    "\n",
    "a) In the 1950s, only about 40% of high school graduates went on to college. Has the percentage changed?\n",
    "\n",
    "b) Twenty percent of cars of a certain model have needed costly transmission work after being driven between 50,000 and 100,000 miles. The manufacturer hopes that a redesign of a transmission component has solved this problem.\n",
    "\n",
    "c) We field-test a new-flavor soft drink, planning to market it only if we are sure that over 60% of the people like the flavor.\n"
   ]
  },
  {
   "cell_type": "markdown",
   "id": "a0b6808b-49f6-4ea7-b9f3-03585fd7f9d4",
   "metadata": {},
   "source": [
    "**Answers to Prob. 16**\n",
    "\n",
    "(a) Let p = proportion of high school graduates went on to college.  Then $H_0:p$ = 0.40 vs. $H_A:p$ =/ 0.40.\n",
    "\n",
    "(b) Let p = proportion of cars of a certain model have needed costly transmission work after being driven between 50,000 and 100,000 miles.  Then $H_0:p$ = 0.20 vs. $H_A:p$ =/ 0.20.\n",
    "\n",
    "(c) Let p = proportion of the people like the new-flavor soft drink.  Then $H_0:p$ = 0.60 vs. $H_A:p$ =/ 0.60."
   ]
  },
  {
   "cell_type": "markdown",
   "id": "ce4b448c-307d-41aa-bccf-8134b8f58c00",
   "metadata": {},
   "source": [
    "**Prob. 42** TV ads A start-up company is about to market a new computer printer. It decides to gamble by running commercials during the Super Bowl. The company hopes that name recognition will be worth the high cost of the ads. The goal of the company is that over 40% of the public recognize its brand name and associate it with computer equipment. The day after the game, a pollster contacts 420 randomly chosen adults and finds that 181 of them know that this company manufactures printers. Would you rec- ommend that the company continue to advertise during Super Bowls? Explain."
   ]
  },
  {
   "cell_type": "code",
   "execution_count": 16,
   "id": "19979737-0359-4e0a-a9c4-5685b5dacfd1",
   "metadata": {},
   "outputs": [],
   "source": [
    "from math import sqrt\n",
    "from scipy.stats import norm"
   ]
  },
  {
   "cell_type": "code",
   "execution_count": 20,
   "id": "58a3c807-1036-4ede-b24a-fcdca7bc474d",
   "metadata": {},
   "outputs": [
    {
     "name": "stdout",
     "output_type": "stream",
     "text": [
      "95% CI: (38.4%, 47.8%)\n"
     ]
    }
   ],
   "source": [
    "def p42():\n",
    "    n = 420\n",
    "    k = 181\n",
    "    p_hat = k / n\n",
    "    SE = sqrt( p_hat * (1-p_hat) / n)\n",
    "    z = norm.ppf(0.975)  \n",
    "    ME = z * SE\n",
    "    print(f\"95% CI: ({(p_hat - ME)*100:.1f}%, {(p_hat + ME)*100:.1f}%)\")\n",
    "    \n",
    "p42()"
   ]
  },
  {
   "cell_type": "code",
   "execution_count": 13,
   "id": "f8d743ec-2568-43a0-9d7c-b27a2183e671",
   "metadata": {},
   "outputs": [
    {
     "name": "stdout",
     "output_type": "stream",
     "text": [
      "p_hat: 0.431\n",
      "sd_p_hat: 0.024\n",
      "z: 1.295\n",
      "p-value: 0.902\n"
     ]
    }
   ],
   "source": [
    "def p42():\n",
    "    n = 420\n",
    "    k = 181\n",
    "    p_hat = k / n\n",
    "    p0 = 0.4\n",
    "    q0 = 1 - p0\n",
    "    sd_p_hat = sqrt(p0 * q0 / n)\n",
    "    z = (p_hat - p0) / sd_p_hat\n",
    "    p_val = 1 * norm.cdf(z)\n",
    "    \n",
    "    print (f\"p_hat: {p_hat:.3f}\")\n",
    "    print (f\"sd_p_hat: {sd_p_hat:.3f}\")\n",
    "    print (f\"z: {z:.3f}\")\n",
    "    print(f\"p-value: {p_val:.3f}\")\n",
    "p42()"
   ]
  },
  {
   "cell_type": "markdown",
   "id": "a3d2ed34-7763-4f66-a6aa-7adfc95df46b",
   "metadata": {},
   "source": [
    "**Ansers to Prob. 42** We are 95% confident that the public recognization rate by running commercials during the Super Bowl is between 38.4% and 47.8%. This interval includes the original estimate of 40%, however, we may still hardly claim that running commercials during the Super Bowl increases the public recognization.\n",
    "\n",
    "Let p = proportion of the public recognize the company's brand name and associate it with computer equipment.  $H_0:p$ = 0.40 vs. $H_A:p$ =/ 0.40.  Because the p-value of 0.902 is large, I retain the null hypothesis.  These survey data provided strong evidence that the public recognization of the company and its computer equipment is lover than 40%."
   ]
  },
  {
   "cell_type": "markdown",
   "id": "5731c76e-03ee-40c4-bd63-02ee2414d9a2",
   "metadata": {},
   "source": [
    "**Prob. 44**AP Stats 2016 The College Board reported that 60.3% of all students who took the 2016 AP Statistics exam earned scores of 3 or higher. One teacher wondered if the performance of her school was better. She believed that year’s students to be typical of those who will take AP Stats at that school and was pleased when 34 of her 54 students achieved scores of 3 or better.\n",
    "\n",
    "a) How many standard deviations above the national rate did her students score? Does that seem like a lot? Explain.\n",
    "\n",
    "b) Can she claim that her school is better? Explain."
   ]
  },
  {
   "cell_type": "code",
   "execution_count": 25,
   "id": "f1886c26-4a08-457a-9298-4a0be3f30329",
   "metadata": {},
   "outputs": [
    {
     "name": "stdout",
     "output_type": "stream",
     "text": [
      "p_hat: 0.630\n",
      "sd_p_hat: 0.067\n",
      "z: 0.400\n",
      "p_val: 0.400\n"
     ]
    }
   ],
   "source": [
    "def p44():\n",
    "    n = 54\n",
    "    k = 34\n",
    "    p_hat = k / n\n",
    "    p0 = 0.603\n",
    "    q0 = 1 - p0\n",
    "    sd_p_hat = sqrt(p0 * q0 / n)\n",
    "    z = (p_hat - p0) / sd_p_hat\n",
    "    p_val = 1 * norm.cdf(z)\n",
    "\n",
    "    print (f\"p_hat: {p_hat:.3f}\")\n",
    "    print (f\"sd_p_hat: {sd_p_hat:.3f}\")\n",
    "    print (f\"z: {z:.3f}\")\n",
    "    print (f\"p_val: {z:.3f}\")\n",
    "p44()"
   ]
  },
  {
   "cell_type": "markdown",
   "id": "bab61251-c7c2-48c9-b3c2-b902a9e7658e",
   "metadata": {},
   "source": [
    "**Answers to Prob. 44**\n",
    "\n",
    "(a) Let p = propotion of students achieves scores of 3 or higher. $H_0:p$ = 0.603 vs. $H_A:p$ =/ 0.603\n",
    "It is 0.4 standard deviation of her students score above the mean.  The P-value of 0.4 says that her students were still at 0.603, then the observed proportion as different as 0.63 of her students achieved scores of 3 or higher at a random about 40 times in 100.  \n",
    "\n",
    "(b) With a P-value this large, I retain the null hypothesis.  This is strong evidence that the propotion of students is equal to the baseline for the all students who took the 2016 AP Statistics exam earned scores of 3 or higher.\n"
   ]
  }
 ],
 "metadata": {
  "kernelspec": {
   "display_name": "Python 3 (ipykernel)",
   "language": "python",
   "name": "python3"
  },
  "language_info": {
   "codemirror_mode": {
    "name": "ipython",
    "version": 3
   },
   "file_extension": ".py",
   "mimetype": "text/x-python",
   "name": "python",
   "nbconvert_exporter": "python",
   "pygments_lexer": "ipython3",
   "version": "3.11.5"
  }
 },
 "nbformat": 4,
 "nbformat_minor": 5
}
