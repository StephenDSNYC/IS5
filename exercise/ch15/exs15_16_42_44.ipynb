{
 "cells": [
  {
   "cell_type": "code",
   "execution_count": 1,
   "id": "5a5a44dd-f02d-490e-9918-d2ee8e563c66",
   "metadata": {},
   "outputs": [],
   "source": [
    "from math import sqrt\n",
    "from scipy.stats import norm, t"
   ]
  },
  {
   "cell_type": "markdown",
   "id": "ab7757fa-a299-438b-83b5-48902eb6f3e1",
   "metadata": {},
   "source": [
    "**Prob. 15** Hypotheses Write the null and alternative hypotheses you would use to test each of the following situations:\n",
    "\n",
    "a) A governor is concerned about his “negatives”—the percent- age of state residents who express disapproval of his job per- formance. His political committee pays for a series of TV ads, hoping that they can keep the negatives below 30%. They will use follow-up polling to assess the ads’ effectiveness.\n",
    "\n",
    "b) Is a coin fair?\n",
    "\n",
    "c) Only about 20% of people who try to quit smoking succeed.\n",
    "Sellers of a motivational tape claim that listening to the recorded messages can help people quit.\n"
   ]
  },
  {
   "cell_type": "markdown",
   "id": "42bd0699-124c-44a5-8022-50c176b1555d",
   "metadata": {},
   "source": [
    "**Answers to Prob. 15** \n",
    "\n",
    "(a) Let p = negatives.  $H_0: p \\ge 0.30$, and $H_A: p < 0.30$.  one-sided  <font color=\"red\"> <-- </font>\n",
    "\n",
    "(b) Let p = proportion of heads when fliping a coin many times.  $H_0: p = 0.50$, $H_A: p \\ne 0.50$.   two-sided  <font color=\"red\"> <-- </font>\n",
    "\n",
    "(c) Let p = proportion of people who succeed in quiting smoking after watching the motivational tape.  one-sided  $H_0: p = 0.20$, $H_A: p > 0.20$.  <font color=\"red\"> <-- </font>"
   ]
  },
  {
   "cell_type": "markdown",
   "id": "55426fc7-5651-489e-9fe7-3ffb446a5abd",
   "metadata": {},
   "source": [
    "**Prob. 16** More hypotheses Write the null and alternative hypotheses you would use to test each situation.\n",
    "\n",
    "a) In the 1950s, only about 40% of high school graduates went on to college. Has the percentage changed?\n",
    "\n",
    "b) Twenty percent of cars of a certain model have needed costly transmission work after being driven between 50,000 and 100,000 miles. The manufacturer hopes that a redesign of a transmission component has solved this problem.\n",
    "\n",
    "c) We field-test a new-flavor soft drink, planning to market it only if we are sure that over 60% of the people like the flavor.\n"
   ]
  },
  {
   "cell_type": "markdown",
   "id": "a0b6808b-49f6-4ea7-b9f3-03585fd7f9d4",
   "metadata": {},
   "source": [
    "**Answers to Prob. 16**\n",
    "\n",
    "(a) Let p = proportion of high school graduates went on to college.  $H_0: p = 0.40$, $H_A:p \\ne 0.40$.  two-side\n",
    "\n",
    "(b) Let p = proportion of redesigned cars that still need the costly transmission work.  $H_0: p = 0.20$, $H_A: p \\ne 0.20$.  one-side\n",
    "\n",
    "(c) Let p = proportion of the people like the new-flavor soft drink.  $H_0: p = 0.60$ vs. $H_A: p \\ge 0.60.$  one-side"
   ]
  },
  {
   "cell_type": "markdown",
   "id": "4406f813-108a-4fb4-acf4-497787ea0aba",
   "metadata": {},
   "source": [
    "**Prob 16b1** For example, in 16(b), after the manufacturer redesigned the transmission, among 1000 cars sold, 180 still need work?"
   ]
  },
  {
   "cell_type": "code",
   "execution_count": 14,
   "id": "98d419f2-855a-4853-bf64-f3688dd3ce85",
   "metadata": {},
   "outputs": [],
   "source": [
    "def sol16b1():\n",
    "    ...\n",
    "sol16b1()"
   ]
  },
  {
   "cell_type": "markdown",
   "id": "9d845e23-6b00-4793-b021-1ac59e6dd599",
   "metadata": {},
   "source": [
    "**Prob 16c1** For example, in 16(c), what if we asked 100 people to test the drink, and 65 of them expressed fondness?"
   ]
  },
  {
   "cell_type": "code",
   "execution_count": 10,
   "id": "9ed59feb-8f89-4e2c-badf-13ffb9ea7a1f",
   "metadata": {},
   "outputs": [
    {
     "name": "stdout",
     "output_type": "stream",
     "text": [
      "p-value: 0.1537\n"
     ]
    }
   ],
   "source": [
    "def sol16c1():\n",
    "    n = 100\n",
    "    k = 65\n",
    "    p0 = 0.6\n",
    "    SD = sqrt(p0 * (1-p0) / n)\n",
    "    phat = k/n\n",
    "    zscore = (phat - p0) / SD\n",
    "    pval = 1 - norm.cdf(zscore)\n",
    "    print(f\"p-value: {pval:0.4f}\")\n",
    "\n",
    "sol16c1()"
   ]
  },
  {
   "cell_type": "markdown",
   "id": "3db41256-b7c3-4cd1-9d5f-5fddaedfba85",
   "metadata": {},
   "source": [
    "**Prob 16c2** What if we asked 100 people to test the drink, and 75 of them expressed fondness?"
   ]
  },
  {
   "cell_type": "code",
   "execution_count": 13,
   "id": "1da34224-cd61-471f-b430-5edb012ec321",
   "metadata": {},
   "outputs": [
    {
     "name": "stdout",
     "output_type": "stream",
     "text": [
      "p-value: 0.001100\n"
     ]
    }
   ],
   "source": [
    "def sol16c2():\n",
    "    n = 100\n",
    "    k = 75\n",
    "    p0 = 0.6\n",
    "    SD = sqrt(p0 * (1-p0) / n)\n",
    "    phat = k/n\n",
    "    zscore = (phat - p0) / SD\n",
    "    pval = 1 - norm.cdf(zscore)\n",
    "    print(f\"p-value: {pval:0.6f}\")\n",
    "\n",
    "sol16c2()"
   ]
  },
  {
   "cell_type": "markdown",
   "id": "ce4b448c-307d-41aa-bccf-8134b8f58c00",
   "metadata": {},
   "source": [
    "**Prob. 42** TV ads A start-up company is about to market a new computer printer. It decides to gamble by running commercials during the Super Bowl. The company hopes that name recognition will be worth the high cost of the ads. The goal of the company is that over 40% of the public recognize its brand name and associate it with computer equipment. The day after the game, a pollster contacts 420 randomly chosen adults and finds that 181 of them know that this company manufactures printers. Would you rec- ommend that the company continue to advertise during Super Bowls? Explain."
   ]
  },
  {
   "cell_type": "markdown",
   "id": "4c76324c-a6cb-4019-89bc-a4f9c4620696",
   "metadata": {},
   "source": [
    "**Analysis:** Let $p$ be the proportion of the public who recognize the brand.\n",
    "\n",
    "$H_0: p = 0.4$\n",
    "\n",
    "$H_A: p \\ne 0.4$  one-sided"
   ]
  },
  {
   "cell_type": "code",
   "execution_count": 15,
   "id": "58a3c807-1036-4ede-b24a-fcdca7bc474d",
   "metadata": {},
   "outputs": [
    {
     "name": "stdout",
     "output_type": "stream",
     "text": [
      "95% CI: (38.4%, 47.8%)\n"
     ]
    }
   ],
   "source": [
    "def p42():\n",
    "    n = 420\n",
    "    k = 181\n",
    "    p_hat = k / n\n",
    "    SE = sqrt( p_hat * (1-p_hat) / n)\n",
    "    z = norm.ppf(0.975)  \n",
    "    ME = z * SE\n",
    "    print(f\"95% CI: ({(p_hat - ME)*100:.1f}%, {(p_hat + ME)*100:.1f}%)\")\n",
    "    \n",
    "p42()"
   ]
  },
  {
   "cell_type": "code",
   "execution_count": 21,
   "id": "f8d743ec-2568-43a0-9d7c-b27a2183e671",
   "metadata": {},
   "outputs": [
    {
     "name": "stdout",
     "output_type": "stream",
     "text": [
      "p_hat: 0.431\n",
      "sd_p_hat: 0.024\n",
      "zscore: 1.295\n",
      "p-value: 0.195\n"
     ]
    }
   ],
   "source": [
    "def p42():\n",
    "    n = 420\n",
    "    k = 181\n",
    "    p_hat = k / n\n",
    "    p0 = 0.4\n",
    "    q0 = 1 - p0\n",
    "    sd_p_hat = sqrt(p0 * q0 / n)\n",
    "    zscore = (p_hat - p0) / sd_p_hat\n",
    "    p_val = 1 - norm.cdf(zscore)\n",
    "    p_val *= 2\n",
    "    \n",
    "    print (f\"p_hat: {p_hat:.3f}\")\n",
    "    print (f\"sd_p_hat: {sd_p_hat:.3f}\")\n",
    "    print (f\"zscore: {zscore:.3f}\")\n",
    "    print(f\"p-value: {p_val:.3f}\")\n",
    "    \n",
    "p42()"
   ]
  },
  {
   "cell_type": "markdown",
   "id": "a3d2ed34-7763-4f66-a6aa-7adfc95df46b",
   "metadata": {},
   "source": [
    "**Ansers to Prob. 42** We are 95% confident that the public recognization rate by running commercials during the Super Bowl is between 38.4% and 47.8%. This interval includes the original estimate of 40%, however, we may still hardly claim that running commercials during the Super Bowl increases the public recognization.\n",
    "\n",
    "Let p = proportion of the public recognize the company's brand name and associate it with computer equipment.  $H_0:p$ = 0.40 vs. $H_A:p > 0.40$.  Because the p-value of 0.195 is large (above conventional threshold of 0.05, or 0.01), I retain the null hypothesis.  These survey data provided strong evidence that the public recognization of the company and its computer equipment is lover than 40%."
   ]
  },
  {
   "cell_type": "markdown",
   "id": "5731c76e-03ee-40c4-bd63-02ee2414d9a2",
   "metadata": {},
   "source": [
    "**Prob. 44** AP Stats 2016 The College Board reported that 60.3% of all students who took the 2016 AP Statistics exam earned scores of 3 or higher. One teacher wondered if the performance of her school was better. She believed that year’s students to be typical of those who will take AP Stats at that school and was pleased when 34 of her 54 students achieved scores of 3 or better.\n",
    "\n",
    "a) How many standard deviations above the national rate did her students score? Does that seem like a lot? Explain.\n",
    "\n",
    "b) Can she claim that her school is better? Explain."
   ]
  },
  {
   "cell_type": "code",
   "execution_count": 24,
   "id": "f1886c26-4a08-457a-9298-4a0be3f30329",
   "metadata": {},
   "outputs": [
    {
     "name": "stdout",
     "output_type": "stream",
     "text": [
      "p_hat: 0.630\n",
      "sd_p_hat: 0.067\n",
      "zscore: 0.400\n",
      "p_val: 0.345\n"
     ]
    }
   ],
   "source": [
    "def p44():\n",
    "    n = 54\n",
    "    k = 34\n",
    "    p_hat = k / n\n",
    "    p0 = 0.603\n",
    "    q0 = 1 - p0\n",
    "    sd_p_hat = sqrt(p0 * q0 / n)\n",
    "    zscore = (p_hat - p0) / sd_p_hat\n",
    "    p_val = 1 - norm.cdf(zscore)\n",
    "\n",
    "    print (f\"p_hat: {p_hat:.3f}\")\n",
    "    print (f\"sd_p_hat: {sd_p_hat:.3f}\")\n",
    "    print (f\"zscore: {zscore:.3f}\")\n",
    "    print (f\"p_val: {p_val:.3f}\")\n",
    "    \n",
    "p44()"
   ]
  },
  {
   "cell_type": "markdown",
   "id": "bab61251-c7c2-48c9-b3c2-b902a9e7658e",
   "metadata": {},
   "source": [
    "**Answers to Prob. 44**\n",
    "\n",
    "(a) Let p = propotion of students achieves scores of 3 or higher. $H_0:p$ = 0.603 vs. $H_A:p$ =/ 0.603\n",
    "It is 0.4 standard deviation of her students score above the mean.  The P-value of 0.4 says that her students were still at 0.603, then the observed proportion as different as 0.63 of her students achieved scores of 3 or higher at a random about 40 times in 100.  \n",
    "\n",
    "(b) With a P-value this large, I retain the null hypothesis.  This is strong evidence that the propotion of students is equal to the baseline for the all students who took the 2016 AP Statistics exam earned scores of 3 or higher.\n"
   ]
  },
  {
   "cell_type": "markdown",
   "id": "c6af4259-9092-4492-8a16-d87925612506",
   "metadata": {},
   "source": [
    "**Prob. 44extra** What if another teacher who has 54 students has found that 41 among them scored 3 or better?"
   ]
  }
 ],
 "metadata": {
  "kernelspec": {
   "display_name": "Python 3 (ipykernel)",
   "language": "python",
   "name": "python3"
  },
  "language_info": {
   "codemirror_mode": {
    "name": "ipython",
    "version": 3
   },
   "file_extension": ".py",
   "mimetype": "text/x-python",
   "name": "python",
   "nbconvert_exporter": "python",
   "pygments_lexer": "ipython3",
   "version": "3.11.5"
  }
 },
 "nbformat": 4,
 "nbformat_minor": 5
}
