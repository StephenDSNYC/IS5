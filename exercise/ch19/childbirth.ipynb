{
 "cells": [
  {
   "cell_type": "code",
   "execution_count": 1,
   "id": "5a373ebc-08ba-404e-b3c8-9112596bbb6b",
   "metadata": {},
   "outputs": [],
   "source": [
    "from scipy.stats import chi2, norm\n",
    "import pandas as pd\n",
    "import numpy as np\n",
    "import matplotlib.pyplot as plt\n",
    "from math import sqrt"
   ]
  },
  {
   "cell_type": "markdown",
   "id": "6954f548-c1f8-41e6-919d-1fb52078f8c7",
   "metadata": {},
   "source": [
    "**Problem 23.**\n",
    "\n",
    "Childbirth, part 1 There is some concern that if a woman has an epidural to reduce pain during childbirth, the drug can get into the baby’s bloodstream, making the baby sleepier and less willing to breastfeed. The International Breastfeeding Journal published results of a study conducted at Sydney University. Researchers followed up on 1178 births, noting whether the mother had an epidural and whether the baby was still nursing after 6 months. Below are their results.\n",
    "\n",
    "(a) What kind of test would be appropriate? \n",
    "\n",
    "(b) State the null and alternative hypotheses."
   ]
  },
  {
   "cell_type": "markdown",
   "id": "7c99a990-ba8f-484e-aeb7-c04d5e05fc8f",
   "metadata": {},
   "source": [
    "**Answers to Problem 23**\n",
    "\n",
    "(a) The Chi-Square Test of Independence would be appropriate.\n",
    "\n",
    "(b) $H_0:$ Breastfeeding distributions are independence whether mothers had eipdural or not.\n",
    "\n",
    "<font color=\"red\"> $H_0$: Whether a baby is still nursing after 6 months since born is independent of whether its mother had epidural. </font>\n",
    "\n",
    "$H_A:$ Breastfeeding do not have the independence distribution between the group of mothers had eipdural and the group of mothers do not had eipdural."
   ]
  },
  {
   "cell_type": "code",
   "execution_count": 3,
   "id": "d15b10d1-9b44-4a60-bb0c-1d0606f1566f",
   "metadata": {},
   "outputs": [
    {
     "name": "stdout",
     "output_type": "stream",
     "text": [
      "        Drug  NoDrug     DrugExp   NoDrugExp\n",
      "Feed     206     498  236.658744  467.341256\n",
      "NoFeed   190     284  159.341256  314.658744\n",
      "14.869338194764707\n",
      "pval (chi2): 0.00011522069676450641\n",
      "pval (2 props): 0.00012683851459129597\n"
     ]
    }
   ],
   "source": [
    "def sol23():\n",
    "    study = pd.DataFrame(\n",
    "        data=np.array([[206, 498],[190, 284]]),\n",
    "        columns=[\"Drug\",\"NoDrug\"],\n",
    "        index=[\"Feed\",\"NoFeed\"]\n",
    "    )\n",
    "    samples = study.sum().sum()\n",
    "    dist = (study.Drug + study.NoDrug) / samples\n",
    "    study[\"DrugExp\"] = study.Drug.sum() * dist\n",
    "    study[\"NoDrugExp\"] = study.NoDrug.sum() * dist\n",
    "    print(study)\n",
    "    chi2score = ((study.Drug-study.DrugExp)**2/study.DrugExp \n",
    "                 + (study.NoDrug-study.NoDrugExp)**2/study.NoDrugExp).sum()\n",
    "    print(chi2score)\n",
    "    print(f\"pval (chi2): {1-chi2.cdf(chi2score,1)}\")\n",
    "\n",
    "    k1 = 206\n",
    "    n1 = k1 + 190\n",
    "    k2 = 498\n",
    "    n2 = k2 + 284\n",
    "    p1hat = k1 / n1\n",
    "    p2hat = k2 / n2\n",
    "    se = sqrt(p1hat * (1-p1hat) / n1  + p2hat * (1-p2hat) / n2)\n",
    "    pval = 2* norm.cdf((p1hat-p2hat)/se)\n",
    "    print(f\"pval (2 props): {pval}\")\n",
    "    \n",
    "sol23()"
   ]
  },
  {
   "cell_type": "markdown",
   "id": "5c5f054a-a30d-469c-a2c8-cc8179a3b749",
   "metadata": {},
   "source": [
    "**Problem 25**\n",
    "\n",
    "Childbirth, part 2 In Exercise 23, the table shows results of a study investigating whether aftereffects of epidurals administered during childbirth might interfere with successful breastfeeding. We’re planning to do a chi-square test.\n",
    "\n",
    "(a) How many degrees of freedom are there?\n",
    "\n",
    "(b) The smallest expected count will be in the epidural/no breastfeeding cell. What is it?\n",
    "\n",
    "(c) Check the assumptions and conditions for inference."
   ]
  },
  {
   "cell_type": "markdown",
   "id": "dc2803e7-60af-4fdf-8624-16069e5df12d",
   "metadata": {},
   "source": [
    "**Answers to Problem 25**\n",
    "\n",
    "(a) There is 1 degree of freedom.\n",
    "\n",
    "(b) The smallest count is 190 (mothers had epidural and the no breastfeeding at 6 months).\n",
    "\n",
    "<font color=\"red\"> According to calculations in problem 23, it is 159.34. </font>\n",
    "\n",
    "(c) Counted data condition: I have counted the number in groups.\n",
    "\n",
    "Independence Assumption:  These 1178 births may not come from a random sample, but mothers'decisions of epidural usage and breastfeeding shoule be independent.\n",
    "\n",
    "Expected cell frequency condition:  There are at least 5 individual in each cell, thus the expected cell frequency condition is met."
   ]
  },
  {
   "cell_type": "markdown",
   "id": "f534bc1b-a532-4388-bde0-1cb05fcc0035",
   "metadata": {},
   "source": [
    "**Problem 27**\n",
    "\n",
    "Childbirth, part 3 In Exercises 23 and 25, we’ve begun to examine the possible impact of epidurals on successful breastfeeding.\n",
    "\n",
    "(a) Calculate the component of chi-square for the epidural/no breastfeeding cell.\n",
    "\n",
    "(b) For this test, x2 = 14.87. What’s the P-value? \n",
    "\n",
    "(c) State your conclusion."
   ]
  },
  {
   "cell_type": "code",
   "execution_count": 5,
   "id": "2cff16bb-aa1f-4b5b-afc0-d453dd0a7e5e",
   "metadata": {},
   "outputs": [
    {
     "name": "stdout",
     "output_type": "stream",
     "text": [
      "exp: 159.34\n",
      "chi_square: 5.90\n"
     ]
    }
   ],
   "source": [
    "def sol27a():\n",
    "    obs = 190\n",
    "    exp = (474 / 1178) * 396\n",
    "    chi_square = (( obs - exp ) ** 2 / exp)\n",
    "    print(f\"exp: {exp:.2f}\")\n",
    "    print(f\"chi_square: {chi_square:.2f}\")\n",
    "\n",
    "sol27a()"
   ]
  },
  {
   "cell_type": "markdown",
   "id": "2d317637-9919-4ae9-af3a-c48ec8cab96a",
   "metadata": {},
   "source": [
    "**Answer to 27(a)** \n",
    "\n",
    "The component of chi-square for the epidural/no breastdeeding cell is 5.90."
   ]
  },
  {
   "cell_type": "code",
   "execution_count": 6,
   "id": "666668e8-b64a-41dc-8e87-c1fa5e3c8ae7",
   "metadata": {},
   "outputs": [
    {
     "name": "stdout",
     "output_type": "stream",
     "text": [
      "P-value: 0.000115\n"
     ]
    }
   ],
   "source": [
    "def sol27b():\n",
    "    df = 1\n",
    "    chi_square = 14.87\n",
    "    pval = 1 - chi2.cdf(chi_square, df)\n",
    "    print(f\"P-value: {pval:.6f}\")\n",
    "    \n",
    "sol27b()"
   ]
  },
  {
   "cell_type": "markdown",
   "id": "aebf40b9-34bc-4fc5-aefc-1087a897fd5f",
   "metadata": {},
   "source": [
    "**Answer to 27(b)** \n",
    "\n",
    "The P-value is 0.000115."
   ]
  },
  {
   "cell_type": "markdown",
   "id": "2083e7cb-7eb2-4248-b2c4-a43d910c7ef4",
   "metadata": {},
   "source": [
    "**Answer to 27(c)**\n",
    "\n",
    "The P-value of 0.000115 is very samll, and it leads me to reject the null hypothesis.  Successful breastfeeding is not independent of the epidurals usages during birth."
   ]
  },
  {
   "cell_type": "markdown",
   "id": "e815015e-a82a-4854-a34c-202673e41bb1",
   "metadata": {},
   "source": [
    "**Problem 29**\n",
    "\n",
    "Childbirth, part 4 In Exercises 23, 25, and 27, we’ve tested a hypothesis about the impact of epidurals on successful breast- feeding. The following table shows the test’s residuals.\n",
    "\n",
    "(a) Show how the residual for the epidural/no breastfeeding cell was calculated.\n",
    "\n",
    "(b) What can you conclude from the standardized residuals?"
   ]
  },
  {
   "cell_type": "code",
   "execution_count": 7,
   "id": "9d64b6f1-b587-4809-95b0-6d8b89ee0c32",
   "metadata": {},
   "outputs": [
    {
     "name": "stdout",
     "output_type": "stream",
     "text": [
      "Residual: 2.43\n"
     ]
    }
   ],
   "source": [
    "def sol29a():\n",
    "    obs = 190\n",
    "    exp = (474 / 1178) * 396\n",
    "    residual = (obs - exp) / sqrt(exp)\n",
    "    print(f\"Residual: {residual:.2f}\")\n",
    "    \n",
    "sol29a()"
   ]
  },
  {
   "cell_type": "markdown",
   "id": "dddc2e2b-c3a3-4d0f-a566-2a6f3eb40f12",
   "metadata": {},
   "source": [
    "**Answer to 29(a)**\n",
    "\n",
    "The residual for the epidural/no breastfeeding cell is 2.43."
   ]
  },
  {
   "cell_type": "markdown",
   "id": "6781c076-14f5-4c5d-b822-fcfabab0d49b",
   "metadata": {},
   "source": [
    "**Answer to 29(b)**\n",
    "\n",
    "The residual corresponding to the epidural/breastfeeding cell has a negative value with a significant maganitude, and it tells us that the less observed than expected for mothers had epidural and breastfeedings are continue when babies are 6 months; the largest residual is the epidural/no breastfeeding cell, and it tells us that more than expected cases for mothers had epidural and breastfeedings are stopped when babies are 6 months.\n",
    "\n",
    "\"I note one residual in the cell \"epidural/breastfeeding\" that has a negative value with significant magnitude.  This signifies the observed babies who continue with breadfeeding after 6 months and whose mothers took epidural during birth are significantly fewer than what we expect.\"\n",
    "\n",
    "The calculated residuals are all of non-negligible scales.  These signify that our observed counts are way off from what we would expect, if we assume that ... and ... are independent.  Therefore, just by looking at the residuals, we would be able to assert that the null hypothesis should be rejected."
   ]
  },
  {
   "cell_type": "markdown",
   "id": "80c3f0fa-ee3d-47ed-af59-2a353f0fc4a8",
   "metadata": {},
   "source": [
    "**Problem 31**\n",
    "\n",
    "Childbirth, part 5 In Exercises 23, 25, 27, and 29, we’ve looked at a study examining epidurals as one factor that might inhibit successful breastfeeding of newborn babies. Suppose a broader study included several additional issues, including whether the mother drank alcohol, whether this was a first child, and whether the parents occasionally supplemented breastfeeding with bottled formula. Why would it not be appro- priate to use chi-square methods on the 2 * 8 table with yes/no columns for each potential factor?"
   ]
  },
  {
   "cell_type": "markdown",
   "id": "337f13b7-9022-466b-9f15-f4e57049e713",
   "metadata": {},
   "source": [
    "**Answer to Problem 31**\n",
    "\n",
    "The 2*8 table with yes/no columns for each potential factor is not independent, for example, women have drug issue may also have alcohol addiction.\n",
    "\n",
    "It is not appropriate to use chi2 test in such a 2x8 table with yes/no columns for each of several factors .  This is because the columns counting yes/no for each factor are concerning with the same group of subjects.  As a result, we have dependent columns, and the conditions/assumptions of a chi2 test are violated."
   ]
  },
  {
   "cell_type": "markdown",
   "id": "f9f74ec8-d7ff-41b3-9898-83453a5b2faf",
   "metadata": {},
   "source": [
    "**Problem 43**\n",
    "\n",
    "Grades Two different professors teach an introductory statis- tics course. The table shows the distribution of final grades they reported. We wonder whether one of these professors is an “easier” grader.\n",
    "\n",
    "a) Will you test goodness-of-fit, homogeneity, or independence?\n",
    "\n",
    "b) Write appropriate hypotheses.\n",
    "\n",
    "c) Find the expected counts for each cell, and explain why the chi-square procedures are not appropriate."
   ]
  },
  {
   "cell_type": "markdown",
   "id": "27b5e409-1fe1-4d9a-942f-901e3d7d7b0b",
   "metadata": {},
   "source": [
    "**Answers to Problem 43**\n",
    "\n",
    "(a) I will test Chi-square test of homogeneity.\n",
    "\n",
    "(b) $H_0:$ The distributions of final grades are homogeneous for both professors.\n",
    "\n",
    "<font color=\"red\">$H_0:$ Final grades given by the two professors share the same distribution. </font>\n",
    "\n",
    "$H_A:$ The distributions of final grades are not the same for both professors.\n",
    "\n",
    "(c) The expected individuls in \"F\" are less than 5, and the expected cell frequency condition is not met, and the ch-square procedures are not appropriate."
   ]
  },
  {
   "cell_type": "code",
   "execution_count": 8,
   "id": "f533e78e-e276-49b0-8567-95c5700119b9",
   "metadata": {},
   "outputs": [
    {
     "name": "stdout",
     "output_type": "stream",
     "text": [
      "   Alpha  Beta   AlphaEXP    BetaEXP  AlphaChi2  BetaChi2\n",
      "A      3     9   6.666667   5.333333   2.016667  2.520833\n",
      "B     11    12  12.777778  10.222222   0.247343  0.309179\n",
      "C     14     8  12.222222   9.777778   0.258586  0.323232\n",
      "D      9     2   6.111111   4.888889   1.365657  1.707071\n",
      "F      3     1   2.222222   1.777778   0.272222  0.340278\n",
      "9.36106719367589\n",
      "0.05268163187757102\n"
     ]
    }
   ],
   "source": [
    "def sol43c():\n",
    "    grades = pd.DataFrame(data=np.array([[3,9],[11,12],[14,8],[9,2],[3,1]]),\n",
    "                          columns=[\"Alpha\",\"Beta\"],\n",
    "                          index=[\"A\",\"B\",\"C\",\"D\",\"F\"])\n",
    "    total = grades.sum().sum()\n",
    "    dist = (grades.Alpha + grades.Beta) / total\n",
    "    grades[\"AlphaEXP\"] = grades.Alpha.sum() * dist\n",
    "    grades[\"BetaEXP\"] = grades.Beta.sum() * dist\n",
    "\n",
    "    grades[\"AlphaChi2\"] = (grades.Alpha - grades.AlphaEXP) ** 2 / grades.AlphaEXP\n",
    "    grades[\"BetaChi2\"] = (grades.Beta - grades.BetaEXP) ** 2 / grades.BetaEXP\n",
    "\n",
    "    print(grades)\n",
    "\n",
    "    print(grades.AlphaChi2.sum() + grades.BetaChi2.sum())\n",
    "    print(1-chi2.cdf(grades.AlphaChi2.sum() + grades.BetaChi2.sum(), 4))\n",
    "    \n",
    "    \n",
    "sol43c()"
   ]
  },
  {
   "cell_type": "markdown",
   "id": "58e271f3-8a2b-4f08-8dec-62c245e6d03d",
   "metadata": {},
   "source": [
    "**Problem 45**\n",
    "\n",
    "Grades, again In some situations where the expected cell counts are too small, as in the case of the grades given by Pro- fessors Alpha and Beta in Exercise 43, we can complete an analysis anyway. We can often proceed after combining cells in some way that makes sense and also produces a table in which the conditions are satisfied. Here, we create a new table display- ing the same data, but calling D’s and F’s “Below C”:\n",
    "\n",
    "a) Find the expected counts for each cell in this new table, and explain why a chi-square procedure is now appropriate.\n",
    "\n",
    "b) With this change in the table, what has happened to the number of degrees of freedom?\n",
    "\n",
    "c) Test your hypothesis about the two professors, and state an appropriate conclusion."
   ]
  },
  {
   "cell_type": "code",
   "execution_count": 9,
   "id": "5ba033f9-f29c-4295-aaa3-5e13b3672794",
   "metadata": {},
   "outputs": [
    {
     "name": "stdout",
     "output_type": "stream",
     "text": [
      "        Alpha  Beta   AlphaEXP    BetaEXP  AlphaChi2  BetaChi2\n",
      "A           3     9   6.666667   5.333333   2.016667  2.520833\n",
      "B          11    12  12.777778  10.222222   0.247343  0.309179\n",
      "C          14     8  12.222222   9.777778   0.258586  0.323232\n",
      "BelowC     12     3   8.333333   6.666667   1.613333  2.016667\n",
      "9.305839920948616\n",
      "0.025489182240714503\n"
     ]
    }
   ],
   "source": [
    "def sol45a():\n",
    "    grades = pd.DataFrame(data=np.array([[3,9],[11,12],[14,8],[12,3]]),\n",
    "                          columns=[\"Alpha\",\"Beta\"],\n",
    "                          index=[\"A\",\"B\",\"C\",\"BelowC\"])\n",
    "    total = grades.sum().sum()\n",
    "    dist = (grades.Alpha + grades.Beta) / total\n",
    "    grades[\"AlphaEXP\"] = grades.Alpha.sum() * dist\n",
    "    grades[\"BetaEXP\"] = grades.Beta.sum() * dist\n",
    "\n",
    "    grades[\"AlphaChi2\"] = (grades.Alpha - grades.AlphaEXP) ** 2 / grades.AlphaEXP\n",
    "    grades[\"BetaChi2\"] = (grades.Beta - grades.BetaEXP) ** 2 / grades.BetaEXP\n",
    "\n",
    "    print(grades)\n",
    "\n",
    "    print(grades.AlphaChi2.sum() + grades.BetaChi2.sum())\n",
    "    print(1-chi2.cdf(grades.AlphaChi2.sum() + grades.BetaChi2.sum(), 3))\n",
    "    \n",
    "sol45a()"
   ]
  },
  {
   "cell_type": "markdown",
   "id": "084566a9-06ea-4775-8b3e-450e85d9dfa2",
   "metadata": {},
   "source": [
    "**Answers to Problem 45**\n",
    "\n",
    "(a) The expected individuls in all cells are more than 5, and the expected cell frequency condition is met, and the chi-square procedures are now appropriate.\n",
    "\n",
    "(b)With this change in the table, the number of degrees of freedom is changed to 3, from 4.  The number of degrees of freedom is smaller than the previous table.\n",
    "\n",
    "(c) The P-value of 0.025 is small, and it leads me to reject the null hypothesis.  Then I could conclude that the distributions of final grades are not the same for both professors."
   ]
  }
 ],
 "metadata": {
  "kernelspec": {
   "display_name": "Python 3 (ipykernel)",
   "language": "python",
   "name": "python3"
  },
  "language_info": {
   "codemirror_mode": {
    "name": "ipython",
    "version": 3
   },
   "file_extension": ".py",
   "mimetype": "text/x-python",
   "name": "python",
   "nbconvert_exporter": "python",
   "pygments_lexer": "ipython3",
   "version": "3.11.5"
  }
 },
 "nbformat": 4,
 "nbformat_minor": 5
}
