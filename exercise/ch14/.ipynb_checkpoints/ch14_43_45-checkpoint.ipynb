{
 "cells": [
  {
   "cell_type": "code",
   "execution_count": 36,
   "id": "8b4f411f-3af6-45d1-93e8-c91bf779c220",
   "metadata": {},
   "outputs": [],
   "source": [
    "import pandas as pd\n",
    "import numpy as np\n",
    "from matplotlib import pyplot as plt\n",
    "import math\n",
    "from scipy.stats import t,norm"
   ]
  },
  {
   "cell_type": "code",
   "execution_count": 3,
   "id": "b5277968-6706-4cdf-be28-a83f90f3f5ab",
   "metadata": {},
   "outputs": [],
   "source": [
    "datafile = '../../dataset/ch05/bodyfat.txt'\n",
    "data = pd.read_csv(datafile, sep='\\t')"
   ]
  },
  {
   "cell_type": "code",
   "execution_count": 4,
   "id": "b20069e7-8d2a-4305-af70-3e9989de9e5d",
   "metadata": {},
   "outputs": [
    {
     "name": "stdout",
     "output_type": "stream",
     "text": [
      "<class 'pandas.core.frame.DataFrame'>\n",
      "RangeIndex: 250 entries, 0 to 249\n",
      "Data columns (total 16 columns):\n",
      " #   Column   Non-Null Count  Dtype  \n",
      "---  ------   --------------  -----  \n",
      " 0   Density  250 non-null    float64\n",
      " 1   Pct.BF   250 non-null    float64\n",
      " 2   Age      250 non-null    int64  \n",
      " 3   Weight   250 non-null    float64\n",
      " 4   Height   250 non-null    float64\n",
      " 5   Neck     250 non-null    float64\n",
      " 6   Chest    250 non-null    float64\n",
      " 7   Abdomen  250 non-null    float64\n",
      " 8   Waist    250 non-null    float64\n",
      " 9   Hip      250 non-null    float64\n",
      " 10  Thigh    250 non-null    float64\n",
      " 11  Knee     250 non-null    float64\n",
      " 12  Ankle    250 non-null    float64\n",
      " 13  Bicep    250 non-null    float64\n",
      " 14  Forearm  250 non-null    float64\n",
      " 15  Wrist    250 non-null    float64\n",
      "dtypes: float64(15), int64(1)\n",
      "memory usage: 31.4 KB\n"
     ]
    }
   ],
   "source": [
    "data.info()"
   ]
  },
  {
   "cell_type": "code",
   "execution_count": 5,
   "id": "17950434-dcf5-4c2b-ae84-108bf09e6c6a",
   "metadata": {},
   "outputs": [
    {
     "data": {
      "text/html": [
       "<div>\n",
       "<style scoped>\n",
       "    .dataframe tbody tr th:only-of-type {\n",
       "        vertical-align: middle;\n",
       "    }\n",
       "\n",
       "    .dataframe tbody tr th {\n",
       "        vertical-align: top;\n",
       "    }\n",
       "\n",
       "    .dataframe thead th {\n",
       "        text-align: right;\n",
       "    }\n",
       "</style>\n",
       "<table border=\"1\" class=\"dataframe\">\n",
       "  <thead>\n",
       "    <tr style=\"text-align: right;\">\n",
       "      <th></th>\n",
       "      <th>Density</th>\n",
       "      <th>Pct.BF</th>\n",
       "      <th>Age</th>\n",
       "      <th>Weight</th>\n",
       "      <th>Height</th>\n",
       "      <th>Neck</th>\n",
       "      <th>Chest</th>\n",
       "      <th>Abdomen</th>\n",
       "      <th>Waist</th>\n",
       "      <th>Hip</th>\n",
       "      <th>Thigh</th>\n",
       "      <th>Knee</th>\n",
       "      <th>Ankle</th>\n",
       "      <th>Bicep</th>\n",
       "      <th>Forearm</th>\n",
       "      <th>Wrist</th>\n",
       "    </tr>\n",
       "  </thead>\n",
       "  <tbody>\n",
       "    <tr>\n",
       "      <th>0</th>\n",
       "      <td>1.0708</td>\n",
       "      <td>12.3</td>\n",
       "      <td>23</td>\n",
       "      <td>154.25</td>\n",
       "      <td>67.75</td>\n",
       "      <td>36.2</td>\n",
       "      <td>93.1</td>\n",
       "      <td>85.2</td>\n",
       "      <td>33.543307</td>\n",
       "      <td>94.5</td>\n",
       "      <td>59.0</td>\n",
       "      <td>37.3</td>\n",
       "      <td>21.9</td>\n",
       "      <td>32.0</td>\n",
       "      <td>27.4</td>\n",
       "      <td>17.1</td>\n",
       "    </tr>\n",
       "    <tr>\n",
       "      <th>1</th>\n",
       "      <td>1.0853</td>\n",
       "      <td>6.1</td>\n",
       "      <td>22</td>\n",
       "      <td>173.25</td>\n",
       "      <td>72.25</td>\n",
       "      <td>38.5</td>\n",
       "      <td>93.6</td>\n",
       "      <td>83.0</td>\n",
       "      <td>32.677165</td>\n",
       "      <td>98.7</td>\n",
       "      <td>58.7</td>\n",
       "      <td>37.3</td>\n",
       "      <td>23.4</td>\n",
       "      <td>30.5</td>\n",
       "      <td>28.9</td>\n",
       "      <td>18.2</td>\n",
       "    </tr>\n",
       "    <tr>\n",
       "      <th>2</th>\n",
       "      <td>1.0414</td>\n",
       "      <td>25.3</td>\n",
       "      <td>22</td>\n",
       "      <td>154.00</td>\n",
       "      <td>66.25</td>\n",
       "      <td>34.0</td>\n",
       "      <td>95.8</td>\n",
       "      <td>87.9</td>\n",
       "      <td>34.606299</td>\n",
       "      <td>99.2</td>\n",
       "      <td>59.6</td>\n",
       "      <td>38.9</td>\n",
       "      <td>24.0</td>\n",
       "      <td>28.8</td>\n",
       "      <td>25.2</td>\n",
       "      <td>16.6</td>\n",
       "    </tr>\n",
       "    <tr>\n",
       "      <th>3</th>\n",
       "      <td>1.0751</td>\n",
       "      <td>10.4</td>\n",
       "      <td>26</td>\n",
       "      <td>184.75</td>\n",
       "      <td>72.25</td>\n",
       "      <td>37.4</td>\n",
       "      <td>101.8</td>\n",
       "      <td>86.4</td>\n",
       "      <td>34.015748</td>\n",
       "      <td>101.2</td>\n",
       "      <td>60.1</td>\n",
       "      <td>37.3</td>\n",
       "      <td>22.8</td>\n",
       "      <td>32.4</td>\n",
       "      <td>29.4</td>\n",
       "      <td>18.2</td>\n",
       "    </tr>\n",
       "    <tr>\n",
       "      <th>4</th>\n",
       "      <td>1.0340</td>\n",
       "      <td>28.7</td>\n",
       "      <td>24</td>\n",
       "      <td>184.25</td>\n",
       "      <td>71.25</td>\n",
       "      <td>34.4</td>\n",
       "      <td>97.3</td>\n",
       "      <td>100.0</td>\n",
       "      <td>39.370079</td>\n",
       "      <td>101.9</td>\n",
       "      <td>63.2</td>\n",
       "      <td>42.2</td>\n",
       "      <td>24.0</td>\n",
       "      <td>32.2</td>\n",
       "      <td>27.7</td>\n",
       "      <td>17.7</td>\n",
       "    </tr>\n",
       "  </tbody>\n",
       "</table>\n",
       "</div>"
      ],
      "text/plain": [
       "   Density  Pct.BF  Age  Weight  Height  Neck  Chest  Abdomen      Waist  \\\n",
       "0   1.0708    12.3   23  154.25   67.75  36.2   93.1     85.2  33.543307   \n",
       "1   1.0853     6.1   22  173.25   72.25  38.5   93.6     83.0  32.677165   \n",
       "2   1.0414    25.3   22  154.00   66.25  34.0   95.8     87.9  34.606299   \n",
       "3   1.0751    10.4   26  184.75   72.25  37.4  101.8     86.4  34.015748   \n",
       "4   1.0340    28.7   24  184.25   71.25  34.4   97.3    100.0  39.370079   \n",
       "\n",
       "     Hip  Thigh  Knee  Ankle  Bicep  Forearm  Wrist  \n",
       "0   94.5   59.0  37.3   21.9   32.0     27.4   17.1  \n",
       "1   98.7   58.7  37.3   23.4   30.5     28.9   18.2  \n",
       "2   99.2   59.6  38.9   24.0   28.8     25.2   16.6  \n",
       "3  101.2   60.1  37.3   22.8   32.4     29.4   18.2  \n",
       "4  101.9   63.2  42.2   24.0   32.2     27.7   17.7  "
      ]
     },
     "execution_count": 5,
     "metadata": {},
     "output_type": "execute_result"
    }
   ],
   "source": [
    "data.head()"
   ]
  },
  {
   "cell_type": "code",
   "execution_count": 6,
   "id": "d89187d8-8a34-4903-b4b3-64bfaf9177aa",
   "metadata": {},
   "outputs": [],
   "source": [
    "waist = data['Waist']"
   ]
  },
  {
   "cell_type": "code",
   "execution_count": 12,
   "id": "39c3c522-945d-4586-b21f-f66ba7ffe23e",
   "metadata": {},
   "outputs": [
    {
     "data": {
      "image/png": "[encoded data removed]",
      "text/plain": [
       "<Figure size 640x480 with 1 Axes>"
      ]
     },
     "metadata": {},
     "output_type": "display_data"
    }
   ],
   "source": [
    "waist.hist(bins=list(range(26,51,2)));"
   ]
  },
  {
   "cell_type": "code",
   "execution_count": 13,
   "id": "09ab1b5b-f528-4274-800e-457bff5f0d97",
   "metadata": {},
   "outputs": [],
   "source": [
    "samples = []\n",
    "for i in range(1000):\n",
    "    samples.append(waist.sample(n=2, replace=True))"
   ]
  },
  {
   "cell_type": "code",
   "execution_count": 14,
   "id": "5364430c-b57b-4996-965a-0f303c4b1c89",
   "metadata": {},
   "outputs": [],
   "source": [
    "sample_means = pd.DataFrame([s.mean() for s in samples])"
   ]
  },
  {
   "cell_type": "code",
   "execution_count": 15,
   "id": "2abced0e-8590-44bd-83b8-26faab808968",
   "metadata": {},
   "outputs": [
    {
     "data": {
      "image/png": "[encoded data removed]",
      "text/plain": [
       "<Figure size 640x480 with 1 Axes>"
      ]
     },
     "metadata": {},
     "output_type": "display_data"
    }
   ],
   "source": [
    "sample_means.hist(bins=15);\n",
    "plt.title('waist, sample size=2, n=1000)');"
   ]
  },
  {
   "cell_type": "code",
   "execution_count": 16,
   "id": "92342be1-f4a5-4605-95c5-4f302736028c",
   "metadata": {},
   "outputs": [],
   "source": [
    "samples = []\n",
    "for i in range(1000):\n",
    "    samples.append(waist.sample(n=5, replace=True))"
   ]
  },
  {
   "cell_type": "code",
   "execution_count": 17,
   "id": "61751c2a-ae45-4af6-a331-b85b32777d79",
   "metadata": {},
   "outputs": [],
   "source": [
    "sample_means = pd.DataFrame([s.mean() for s in samples])"
   ]
  },
  {
   "cell_type": "code",
   "execution_count": 18,
   "id": "f4cbe851-e105-4c9c-a2a7-8ccb22f07937",
   "metadata": {},
   "outputs": [
    {
     "data": {
      "image/png": "[encoded data removed]",
      "text/plain": [
       "<Figure size 640x480 with 1 Axes>"
      ]
     },
     "metadata": {},
     "output_type": "display_data"
    }
   ],
   "source": [
    "sample_means.hist(bins=15);\n",
    "plt.title('waist, sample size=5, n=1000)');"
   ]
  },
  {
   "cell_type": "code",
   "execution_count": 19,
   "id": "5386f3e4-0ff7-4967-a85a-b1b49ffe2914",
   "metadata": {},
   "outputs": [],
   "source": [
    "samples = []\n",
    "for i in range(1000):\n",
    "    samples.append(waist.sample(n=10, replace=True))"
   ]
  },
  {
   "cell_type": "code",
   "execution_count": 20,
   "id": "0bce7ee1-7904-405f-9c96-7143643bd775",
   "metadata": {},
   "outputs": [],
   "source": [
    "sample_means = pd.DataFrame([s.mean() for s in samples])"
   ]
  },
  {
   "cell_type": "code",
   "execution_count": 21,
   "id": "8dd564c2-2ccf-4ef7-82c6-e131bd45ca66",
   "metadata": {},
   "outputs": [
    {
     "data": {
      "image/png": "[encoded data removed]",
      "text/plain": [
       "<Figure size 640x480 with 1 Axes>"
      ]
     },
     "metadata": {},
     "output_type": "display_data"
    }
   ],
   "source": [
    "sample_means.hist(bins=15);\n",
    "plt.title('waist, sample size=10, n=1000)');"
   ]
  },
  {
   "cell_type": "code",
   "execution_count": 22,
   "id": "5e84e736-ddcc-4de4-b336-f0724411a909",
   "metadata": {},
   "outputs": [],
   "source": [
    "samples = []\n",
    "for i in range(1000):\n",
    "    samples.append(waist.sample(n=20, replace=True))"
   ]
  },
  {
   "cell_type": "code",
   "execution_count": 23,
   "id": "a2a43abd-d39c-4c44-b782-87416626dae0",
   "metadata": {},
   "outputs": [],
   "source": [
    "sample_means = pd.DataFrame([s.mean() for s in samples])"
   ]
  },
  {
   "cell_type": "code",
   "execution_count": 24,
   "id": "7722b4d9-c994-4714-a815-2577ab734485",
   "metadata": {},
   "outputs": [
    {
     "data": {
      "image/png": "[encoded data removed]",
      "text/plain": [
       "<Figure size 640x480 with 1 Axes>"
      ]
     },
     "metadata": {},
     "output_type": "display_data"
    }
   ],
   "source": [
    "sample_means.hist(bins=15);\n",
    "plt.title('waist, sample size=20, n=1000)');"
   ]
  },
  {
   "cell_type": "markdown",
   "id": "9da47660-756f-4ccc-9290-96fd4c31f67a",
   "metadata": {},
   "source": [
    "**Prob.43** Waist size A study measured the Waist Size of 250 men, finding a mean of 36.33 inches and a standard deviation of 4.02 inches. Here is a histogram of these measurements: (Data in Bodyfat)\n",
    "\n",
    "(a) Describe the histogram of Waist Size.\n",
    "\n",
    "**(Compared to the CEO data in problems 44 and 46)  This data set looks much more compliant.  The population histogram is symmetric, unimodal, and without any obvious outliers.  We expect a random sample drawn from this population would follow approximately normal distribution, even if the sample size is not too large.**\n",
    "\n",
    "(b) To explore how the mean might vary from sample to sample,\n",
    "they simulated by drawing many samples of size 2, 5, 10, and 20, with replacement, from the 250 measurements. Here are histograms of the sample means for each simulation. Explain how these histograms demonstrate what the Central Limit Theorem says about the sampling distribution model for sample means.\n",
    "\n",
    "**We observed that the histograms all look symmetric and well-behaved, approximating normal distributions.  Even for the smallest sample size of 2, we might be able to use the sample mean to construct a t-interval for the population mean.**"
   ]
  },
  {
   "cell_type": "markdown",
   "id": "48be801a-6616-447d-b413-837f54a0b1ff",
   "metadata": {},
   "source": [
    "**Answer to (a)**\n",
    "\n",
    "Shape: the histogram is unimodal, symmetric and right skewed.\n",
    "\n",
    "Center: its center approximately at 34 to 37.\n",
    "\n",
    "Spread: values are kind of close to the mean."
   ]
  },
  {
   "cell_type": "markdown",
   "id": "8a562978-cf14-4715-80d9-5dabf08da8df",
   "metadata": {},
   "source": [
    "**Answer to (b)\n",
    "\n",
    "Sample size of 2: the histogram is unimodal, symmetric, and right skewed.  Its center at approximately 33 to 34.  Values are close to the mean.\n",
    "\n",
    "Sample size of 5: the histogram is unimodal and symmetric. Its center at approximately 36 to 37. Values are close to the mean.\n",
    "\n",
    "Sample size of 10: the histogram is unimodal and symmetric.  Its center at about 35 to 36,  Value are very close to the mean.\n",
    "\n",
    "Sample size of 20: the histogram is unimodal and symmetric.  Its center at around 36 to 36.5.  Values are clustered closely to the mean."
   ]
  },
  {
   "cell_type": "markdown",
   "id": "6a9a6416-6941-440b-832e-34018c9389f5",
   "metadata": {},
   "source": [
    "**Prob.45** Waist size, revisited Researchers measured the Waist Sizes of 250 men in a study on body fat. The true mean and standard de- viation of the Waist Sizes for the 250 men are 36.33 inches and 4.019 inches, respectively. In Exercise 43, you looked at the histograms of simulations that drew samples of sizes 2, 5, 10, and 20 (with replacement). The summary statistics for these simulations were as follows:\n",
    "\n",
    "(a) According to the Central Limit Theorem, what should the theoretical mean and standard deviation be for each of these sample sizes?\n",
    "\n",
    "(b) How close are the theoretical values to what was observed in the simulation?\n",
    "\n",
    "(c) Looking at the histograms in Exercise 43, at what sample size would you be comfortable using the Normal model as an approximation for the sampling distribution?\n",
    "\n",
    "(d) What about the shape of the distribution of Waist Size explains your choice of sample size in part c?"
   ]
  },
  {
   "cell_type": "markdown",
   "id": "f377c3b5-b91b-4058-b22b-415dad6f3649",
   "metadata": {},
   "source": [
    "**Answer to (a)**\n",
    "\n",
    "sample size = 2: the mean is as same as the sample size of 5 and it is lesser close to the population mean compare to the other two sample sizes. The standard deviation is approximate $\\sqrt{\\frac{1}{2}}$ of the population standard deviation.\n",
    "\n",
    "sample size = 5: the mean is s as same as the sample size of 2 and it is lesser close to the population mean compare to the other two sample sizes.  The standard deviation is $\\sqrt{\\frac{1}{5}}$ of the population standard deviation.\n",
    "\n",
    "sample size = 10: the mean is very close to the polulation mean, and the standard deviation is approximate $\\sqrt{\\frac{1}{10}}$ of the population standard deviation. \n",
    "\n",
    "sample size = 20: the mean is the closest to the population mean compare to other three sample sizes.  The standard deviation is approximate $\\sqrt{\\frac{1}{20}}$ of the population standard deviation."
   ]
  },
  {
   "cell_type": "markdown",
   "id": "5bf69f1b-ee55-4ec3-9546-c7dbc4b01114",
   "metadata": {},
   "source": [
    "**Answer to (b)** \n",
    "\n",
    "The mean of the sample size of 20 is the closest to the population mean, and the mean of the sample size of 10 is the second close to the population mean.  The means of sample size of 2 and sample size of 5 are same values and less close to the population mean.\n",
    "\n",
    "The standard deviation of the sample size of 2 is approximately $\\sqrt{\\frac{1}{2}}$ of the population mean. The standard deviation of the sample size of 5 is approximately $\\sqrt{\\frac{1}{5}}$ of the population mean.  The standard deviation of the sample size of 10 is approximately $\\sqrt{\\frac{1}{10}}$ of the population mean.  The standard deviation of the sample size of 20 is approximately $\\sqrt{\\frac{1}{20}}$ of the population mean."
   ]
  },
  {
   "cell_type": "markdown",
   "id": "c55695ff-fa4e-4773-b70c-950445e122a3",
   "metadata": {},
   "source": [
    "**Answer to (c)**\n",
    "\n",
    "I would choose the sample size of 20 for the sampling distribution."
   ]
  },
  {
   "cell_type": "markdown",
   "id": "0357461f-3179-4c14-8ff3-bc97df0683ed",
   "metadata": {},
   "source": [
    "**Answer to (d)**\n",
    "\n",
    "The shape is unimodal, symmetric and without outliers."
   ]
  },
  {
   "cell_type": "code",
   "execution_count": 79,
   "id": "1e3aa476-73df-4121-9ba2-9651a4d43f71",
   "metadata": {},
   "outputs": [
    {
     "name": "stdout",
     "output_type": "stream",
     "text": [
      "Taking a sample of {n} waist sizes.\n",
      "sample mean: 36.326\n",
      "sample standard deviation: 4.109\n",
      "sampling error is sample standard deviation divided by sqrt(n): 0.092\n",
      "t distribution critical value (95\\% confidence): 1.961\n",
      "(whereas normal distribution critical value: 1.960)\n",
      "confidence interval (95\\% confidence):\n",
      "(36.146, 36.506)\n"
     ]
    },
    {
     "data": {
      "image/png": "[encoded data removed]",
      "text/plain": [
       "<Figure size 640x480 with 1 Axes>"
      ]
     },
     "metadata": {},
     "output_type": "display_data"
    }
   ],
   "source": [
    "n=2000\n",
    "print(\"Taking a sample of {n} waist sizes.\")\n",
    "s20 = waist.sample(n=n, replace=True)\n",
    "sample_mean = s20.mean()\n",
    "print(f\"sample mean: {sample_mean:.3f}\")\n",
    "sample_stddev = s20.std(ddof=1)\n",
    "print(f\"sample standard deviation: {sample_stddev:.3f}\")\n",
    "sampling_error = sample_stddev / math.sqrt(n)\n",
    "print(f\"sampling error is sample standard deviation divided by sqrt(n): {sampling_error:.3f}\")\n",
    "tstar = t.ppf(0.975, n-1)\n",
    "print(f\"t distribution critical value (95\\% confidence): {tstar:.3f}\")\n",
    "print(f\"(whereas normal distribution critical value: {norm.ppf(0.975):.3f})\")\n",
    "margin_error = tstar * sampling_error\n",
    "print(\"confidence interval (95\\% confidence):\")\n",
    "print(f\"({sample_mean-margin_error:.3f}, {sample_mean+margin_error:.3f})\")\n",
    "s20.hist();"
   ]
  }
 ],
 "metadata": {
  "kernelspec": {
   "display_name": "Python 3 (ipykernel)",
   "language": "python",
   "name": "python3"
  },
  "language_info": {
   "codemirror_mode": {
    "name": "ipython",
    "version": 3
   },
   "file_extension": ".py",
   "mimetype": "text/x-python",
   "name": "python",
   "nbconvert_exporter": "python",
   "pygments_lexer": "ipython3",
   "version": "3.11.5"
  }
 },
 "nbformat": 4,
 "nbformat_minor": 5
}
