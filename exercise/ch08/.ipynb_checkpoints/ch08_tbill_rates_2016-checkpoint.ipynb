{
 "cells": [
  {
   "cell_type": "code",
   "execution_count": 1,
   "id": "00f5bff4",
   "metadata": {},
   "outputs": [],
   "source": [
    "import numpy as np\n",
    "import pandas as pd\n",
    "from matplotlib import pyplot as plt\n",
    "import statsmodels.api as sm\n",
    "import statistics as stat\n",
    "\n",
    "from sklearn.linear_model import LinearRegression \n",
    "linear_fit = LinearRegression()"
   ]
  },
  {
   "cell_type": "code",
   "execution_count": 2,
   "id": "b4af8343",
   "metadata": {},
   "outputs": [
    {
     "name": "stdout",
     "output_type": "stream",
     "text": [
      "RangeIndex(start=0, stop=83, step=1)\n"
     ]
    }
   ],
   "source": [
    "datafile = '../../dataset/ch08/tbill_rates_2016.txt'\n",
    "tbill_rates = pd.read_csv(datafile, sep='\\t')\n",
    "\n",
    "print(tbill_rates.index)"
   ]
  },
  {
   "cell_type": "code",
   "execution_count": 3,
   "id": "50321b5c",
   "metadata": {},
   "outputs": [
    {
     "data": {
      "text/plain": [
       "<bound method DataFrame.info of     Year  Rate\n",
       "0   1934  0.28\n",
       "1   1935  0.17\n",
       "2   1936  0.17\n",
       "3   1937  0.28\n",
       "4   1938  0.07\n",
       "..   ...   ...\n",
       "78  2012  0.09\n",
       "79  2013  0.06\n",
       "80  2014  0.03\n",
       "81  2015  0.05\n",
       "82  2016  0.38\n",
       "\n",
       "[83 rows x 2 columns]>"
      ]
     },
     "execution_count": 3,
     "metadata": {},
     "output_type": "execute_result"
    }
   ],
   "source": [
    "tbill_rates.info"
   ]
  },
  {
   "cell_type": "code",
   "execution_count": 4,
   "id": "209bd4b8",
   "metadata": {},
   "outputs": [
    {
     "data": {
      "text/plain": [
       "83"
      ]
     },
     "execution_count": 4,
     "metadata": {},
     "output_type": "execute_result"
    }
   ],
   "source": [
    "len(tbill_rates)"
   ]
  },
  {
   "cell_type": "code",
   "execution_count": 5,
   "id": "2b04e51c",
   "metadata": {},
   "outputs": [
    {
     "data": {
      "text/plain": [
       "Index(['Year', 'Rate'], dtype='object')"
      ]
     },
     "execution_count": 5,
     "metadata": {},
     "output_type": "execute_result"
    }
   ],
   "source": [
    "tbill_rates.columns"
   ]
  },
  {
   "cell_type": "code",
   "execution_count": 6,
   "id": "2dc61f79",
   "metadata": {},
   "outputs": [
    {
     "data": {
      "text/html": [
       "<div>\n",
       "<style scoped>\n",
       "    .dataframe tbody tr th:only-of-type {\n",
       "        vertical-align: middle;\n",
       "    }\n",
       "\n",
       "    .dataframe tbody tr th {\n",
       "        vertical-align: top;\n",
       "    }\n",
       "\n",
       "    .dataframe thead th {\n",
       "        text-align: right;\n",
       "    }\n",
       "</style>\n",
       "<table border=\"1\" class=\"dataframe\">\n",
       "  <thead>\n",
       "    <tr style=\"text-align: right;\">\n",
       "      <th></th>\n",
       "      <th>Year</th>\n",
       "      <th>Rate</th>\n",
       "    </tr>\n",
       "  </thead>\n",
       "  <tbody>\n",
       "    <tr>\n",
       "      <th>0</th>\n",
       "      <td>1934</td>\n",
       "      <td>0.28</td>\n",
       "    </tr>\n",
       "    <tr>\n",
       "      <th>1</th>\n",
       "      <td>1935</td>\n",
       "      <td>0.17</td>\n",
       "    </tr>\n",
       "    <tr>\n",
       "      <th>2</th>\n",
       "      <td>1936</td>\n",
       "      <td>0.17</td>\n",
       "    </tr>\n",
       "    <tr>\n",
       "      <th>3</th>\n",
       "      <td>1937</td>\n",
       "      <td>0.28</td>\n",
       "    </tr>\n",
       "    <tr>\n",
       "      <th>4</th>\n",
       "      <td>1938</td>\n",
       "      <td>0.07</td>\n",
       "    </tr>\n",
       "  </tbody>\n",
       "</table>\n",
       "</div>"
      ],
      "text/plain": [
       "   Year  Rate\n",
       "0  1934  0.28\n",
       "1  1935  0.17\n",
       "2  1936  0.17\n",
       "3  1937  0.28\n",
       "4  1938  0.07"
      ]
     },
     "execution_count": 6,
     "metadata": {},
     "output_type": "execute_result"
    }
   ],
   "source": [
    "tbill_rates.head()"
   ]
  },
  {
   "cell_type": "code",
   "execution_count": 7,
   "id": "88dc0796",
   "metadata": {},
   "outputs": [],
   "source": [
    "tbill_rates = tbill_rates.drop([0, 1, 2, 3, 4, 5, 6, 7, 8, 9, 10, 11, 12, 13, 14, \n",
    "15, 47, 48, 49, 50, 51, 52, 53, 54, 55, 56, 57, 58, 59, 60, 61, 62, 63, 64, \n",
    "65, 66, 67, 68, 69, 70, 71, 72, 73, 74, 75, 76, 77, 78, 79, 80, 81, 82])"
   ]
  },
  {
   "cell_type": "markdown",
   "id": "660f7617",
   "metadata": {},
   "source": [
    "**Problem 41. TBill rates 2016 Here are a plot and regression output showing the federal rate on 3-month Treasury bills from 1950 to 1980, and a regression model fit to the relationship between the Rate (in %) and Years Since 1950 (www.gpoaccess.gov/eop/).**"
   ]
  },
  {
   "cell_type": "code",
   "execution_count": 8,
   "id": "6c485304",
   "metadata": {},
   "outputs": [],
   "source": [
    "control = tbill_rates['Year']\n",
    "response = tbill_rates['Rate']"
   ]
  },
  {
   "cell_type": "code",
   "execution_count": 9,
   "id": "5ec2f2dd",
   "metadata": {},
   "outputs": [],
   "source": [
    "linear_fit.fit(np.array(control).reshape(-1,1), \n",
    "           np.array(response));"
   ]
  },
  {
   "cell_type": "code",
   "execution_count": 10,
   "id": "3bb42401",
   "metadata": {},
   "outputs": [
    {
     "data": {
      "image/png": "[encoded data removed]",
      "text/plain": [
       "<Figure size 800x300 with 1 Axes>"
      ]
     },
     "metadata": {},
     "output_type": "display_data"
    }
   ],
   "source": [
    "plt.figure(figsize=(8,3));\n",
    "plt.scatter(control, response, color='maroon', s=20);\n",
    "plt.plot(control, linear_fit.predict(np.array(control).reshape(-1,1)), color='k', lw=2)\n",
    "plt.xlabel('Years Since 1950');\n",
    "plt.ylabel('Rate(%)');\n",
    "plt.xticks([1950, 1955, 1960, 1965, 1970, 1975, 1980]);\n",
    "plt.yticks([3, 12, 3]);"
   ]
  },
  {
   "cell_type": "markdown",
   "id": "e77549dd",
   "metadata": {},
   "source": [
    "**a) What is the correlation between Rate and Year?**"
   ]
  },
  {
   "cell_type": "markdown",
   "id": "03d2dbb9",
   "metadata": {},
   "source": [
    "**Answer: The correlation between Rate and Year is straight enough and no obvious outliers.  The R_squared = 77.6%, and it means 77.6% of the variation in the percentage of rate can be accounted by the number of years.**"
   ]
  },
  {
   "cell_type": "markdown",
   "id": "86387a95",
   "metadata": {},
   "source": [
    "**b) Interpret the slope and intercept.**"
   ]
  },
  {
   "cell_type": "markdown",
   "id": "c6de6815",
   "metadata": {},
   "source": [
    "**Answer: rate_hat = 0.61149 + 0.24788*Year"
   ]
  },
  {
   "cell_type": "markdown",
   "id": "5fab00b0",
   "metadata": {},
   "source": [
    "**c) What does this model predict for the interest rate in the\n",
    "year 2020?**"
   ]
  },
  {
   "cell_type": "markdown",
   "id": "c6e8045a",
   "metadata": {},
   "source": [
    "**This model predict for the interest rate is 17.96% in the year 2020.**"
   ]
  },
  {
   "cell_type": "markdown",
   "id": "8135dae1",
   "metadata": {},
   "source": [
    "**d) Would you expect this prediction to be accurate?\n",
    "Explain.**"
   ]
  },
  {
   "cell_type": "markdown",
   "id": "48328445",
   "metadata": {},
   "source": [
    "**Answer: I would not expect this prediction to be accurate.  The regression was calculated for years up to 1980. The new x-value, the year 2020 lies far from the data we used to build the regression and the prediction is not trustworthy.**"
   ]
  },
  {
   "cell_type": "markdown",
   "id": "8e4becfa",
   "metadata": {},
   "source": [
    "**Problem 43. TBill rates 2016 revisited In Exercise 41, you investigated the federal rate on 3-month Treasury bills between 1950 and 1980. The scatterplot below shows that the trend changed dramatically after 1980, so we computed a new regression model for the years 1981 to 2015.**"
   ]
  },
  {
   "cell_type": "code",
   "execution_count": 11,
   "id": "2586b496",
   "metadata": {},
   "outputs": [
    {
     "name": "stdout",
     "output_type": "stream",
     "text": [
      "RangeIndex(start=0, stop=83, step=1)\n"
     ]
    }
   ],
   "source": [
    "datafile = '../../dataset/ch08/tbill_rates_2016.txt'\n",
    "tbill_rates = pd.read_csv(datafile, sep='\\t')\n",
    "\n",
    "print(tbill_rates.index)"
   ]
  },
  {
   "cell_type": "code",
   "execution_count": 12,
   "id": "3e766b3a",
   "metadata": {},
   "outputs": [
    {
     "data": {
      "text/plain": [
       "<bound method DataFrame.info of     Year  Rate\n",
       "0   1934  0.28\n",
       "1   1935  0.17\n",
       "2   1936  0.17\n",
       "3   1937  0.28\n",
       "4   1938  0.07\n",
       "..   ...   ...\n",
       "78  2012  0.09\n",
       "79  2013  0.06\n",
       "80  2014  0.03\n",
       "81  2015  0.05\n",
       "82  2016  0.38\n",
       "\n",
       "[83 rows x 2 columns]>"
      ]
     },
     "execution_count": 12,
     "metadata": {},
     "output_type": "execute_result"
    }
   ],
   "source": [
    "tbill_rates.info"
   ]
  },
  {
   "cell_type": "code",
   "execution_count": 13,
   "id": "ea17d889",
   "metadata": {},
   "outputs": [],
   "source": [
    "year = tbill_rates.Year  #x: control\n",
    "rate = tbill_rates.Rate #y: response"
   ]
  },
  {
   "cell_type": "code",
   "execution_count": 14,
   "id": "ae53e646",
   "metadata": {},
   "outputs": [
    {
     "data": {
      "text/plain": [
       "<matplotlib.collections.PathCollection at 0x11fd9e5d0>"
      ]
     },
     "execution_count": 14,
     "metadata": {},
     "output_type": "execute_result"
    },
    {
     "data": {
      "image/png": "[encoded data removed]",
      "text/plain": [
       "<Figure size 640x480 with 1 Axes>"
      ]
     },
     "metadata": {},
     "output_type": "display_data"
    }
   ],
   "source": [
    "plt.scatter(year, rate)"
   ]
  },
  {
   "cell_type": "markdown",
   "id": "e33aa005",
   "metadata": {},
   "source": [
    "**a) How does this model compare to the one in Exercise 41?**"
   ]
  },
  {
   "cell_type": "markdown",
   "id": "0c7585b5",
   "metadata": {},
   "source": [
    "**Answer: This scatterplot shows the lowest is the year 1940 and the year 2020, and the highest is about 1980.  The scatterplot in exercise 41 is a linear correlation between rate and year.**"
   ]
  },
  {
   "cell_type": "markdown",
   "id": "e708d7ae",
   "metadata": {},
   "source": [
    "**b) What does this model estimate the interest rate will be in\n",
    "2020? How does this compare to the rate you predicted in\n",
    "Exercise 41?**"
   ]
  },
  {
   "cell_type": "markdown",
   "id": "fed49be8",
   "metadata": {},
   "source": [
    "**Answer: The estimated interest rate will be 7.92% in 2020.  This estimated interest rate is much lower than the rate I predicted in Exercise 41.**"
   ]
  },
  {
   "cell_type": "markdown",
   "id": "eff79421",
   "metadata": {},
   "source": [
    "**c) Do you trust this newer predicted value? Explain.**"
   ]
  },
  {
   "cell_type": "markdown",
   "id": "8ef2cac2",
   "metadata": {},
   "source": [
    "**Answer: I do trust this newer predicted value.  The new regression model is for the years 1981 to 2015.  The new x-value, the year 2020 lies close from the data we used to build the regression and the prediction is trustworthy.**"
   ]
  },
  {
   "cell_type": "markdown",
   "id": "475f9816",
   "metadata": {},
   "source": [
    "**d) Would you use either of these models to predict the TBill\n",
    "rate in the future? Explain.**"
   ]
  },
  {
   "cell_type": "markdown",
   "id": "7e7478fc",
   "metadata": {},
   "source": [
    "**Answer: No, I would not use either of these models to predict the TBill rate in the future.  These predictions are  may not accurate while the x-variable is Time.**"
   ]
  },
  {
   "cell_type": "markdown",
   "id": "ba466d43",
   "metadata": {},
   "source": [
    "**Problem 62. TBill rates 2016, once more The 3-month Treasury bill interest rate is watched by investors and economists. Here’s the scatterplot of the 3-month Treasury bill rate since 1934 that we saw in Exercise 43: Clearly, the relationship is not linear. Can it be made nearly linear with a re-expression? If so, which one would you suggest? If not, why not?**"
   ]
  },
  {
   "cell_type": "code",
   "execution_count": 15,
   "id": "6f9917f0",
   "metadata": {},
   "outputs": [
    {
     "name": "stdout",
     "output_type": "stream",
     "text": [
      "RangeIndex(start=0, stop=83, step=1)\n"
     ]
    }
   ],
   "source": [
    "datafile = '../../dataset/ch08/tbill_rates_2016.txt'\n",
    "tbill_rates = pd.read_csv(datafile, sep='\\t')\n",
    "\n",
    "print(tbill_rates.index)"
   ]
  },
  {
   "cell_type": "code",
   "execution_count": 16,
   "id": "748bbbe6",
   "metadata": {},
   "outputs": [
    {
     "data": {
      "text/plain": [
       "<bound method DataFrame.info of     Year  Rate\n",
       "0   1934  0.28\n",
       "1   1935  0.17\n",
       "2   1936  0.17\n",
       "3   1937  0.28\n",
       "4   1938  0.07\n",
       "..   ...   ...\n",
       "78  2012  0.09\n",
       "79  2013  0.06\n",
       "80  2014  0.03\n",
       "81  2015  0.05\n",
       "82  2016  0.38\n",
       "\n",
       "[83 rows x 2 columns]>"
      ]
     },
     "execution_count": 16,
     "metadata": {},
     "output_type": "execute_result"
    }
   ],
   "source": [
    "tbill_rates.info"
   ]
  },
  {
   "cell_type": "code",
   "execution_count": 17,
   "id": "045f741b",
   "metadata": {},
   "outputs": [],
   "source": [
    "year = tbill_rates.Year  #x: control\n",
    "rate = tbill_rates.Rate #y: response"
   ]
  },
  {
   "cell_type": "code",
   "execution_count": 18,
   "id": "3165740f",
   "metadata": {},
   "outputs": [
    {
     "data": {
      "text/plain": [
       "<matplotlib.collections.PathCollection at 0x106733f50>"
      ]
     },
     "execution_count": 18,
     "metadata": {},
     "output_type": "execute_result"
    },
    {
     "data": {
      "image/png": "[encoded data removed]",
      "text/plain": [
       "<Figure size 640x480 with 1 Axes>"
      ]
     },
     "metadata": {},
     "output_type": "display_data"
    }
   ],
   "source": [
    "plt.scatter(year, rate)"
   ]
  },
  {
   "cell_type": "markdown",
   "id": "ef58c7ad",
   "metadata": {},
   "source": [
    "**Answer: Yes, it may can make nearly linear with a re-expression.  I would suggest the square of the data value, y_square.**"
   ]
  }
 ],
 "metadata": {
  "kernelspec": {
   "display_name": "Python 3 (ipykernel)",
   "language": "python",
   "name": "python3"
  },
  "language_info": {
   "codemirror_mode": {
    "name": "ipython",
    "version": 3
   },
   "file_extension": ".py",
   "mimetype": "text/x-python",
   "name": "python",
   "nbconvert_exporter": "python",
   "pygments_lexer": "ipython3",
   "version": "3.11.5"
  }
 },
 "nbformat": 4,
 "nbformat_minor": 5
}
