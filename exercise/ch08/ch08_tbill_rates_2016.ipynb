{
 "cells": [
  {
   "cell_type": "code",
   "execution_count": 1,
   "id": "00f5bff4",
   "metadata": {},
   "outputs": [],
   "source": [
    "import numpy as np\n",
    "import pandas as pd\n",
    "from matplotlib import pyplot as plt\n",
    "import statsmodels.api as sm\n",
    "import statistics as stat\n",
    "\n",
    "from sklearn.linear_model import LinearRegression \n",
    "linear_fit = LinearRegression()"
   ]
  },
  {
   "cell_type": "code",
   "execution_count": 2,
   "id": "b4af8343",
   "metadata": {},
   "outputs": [
    {
     "name": "stdout",
     "output_type": "stream",
     "text": [
      "RangeIndex(start=0, stop=83, step=1)\n"
     ]
    }
   ],
   "source": [
    "datafile = '../../dataset/ch08/tbill_rates_2016.txt'\n",
    "rates = pd.read_csv(datafile, sep='\\t')\n",
    "\n",
    "print(rates.index)"
   ]
  },
  {
   "cell_type": "code",
   "execution_count": 3,
   "id": "50321b5c",
   "metadata": {},
   "outputs": [
    {
     "data": {
      "text/plain": [
       "<bound method DataFrame.info of     Year  Rate\n",
       "0   1934  0.28\n",
       "1   1935  0.17\n",
       "2   1936  0.17\n",
       "3   1937  0.28\n",
       "4   1938  0.07\n",
       "..   ...   ...\n",
       "78  2012  0.09\n",
       "79  2013  0.06\n",
       "80  2014  0.03\n",
       "81  2015  0.05\n",
       "82  2016  0.38\n",
       "\n",
       "[83 rows x 2 columns]>"
      ]
     },
     "execution_count": 3,
     "metadata": {},
     "output_type": "execute_result"
    }
   ],
   "source": [
    "rates.info"
   ]
  },
  {
   "cell_type": "code",
   "execution_count": 4,
   "id": "209bd4b8",
   "metadata": {},
   "outputs": [
    {
     "data": {
      "text/plain": [
       "83"
      ]
     },
     "execution_count": 4,
     "metadata": {},
     "output_type": "execute_result"
    }
   ],
   "source": [
    "len(rates)"
   ]
  },
  {
   "cell_type": "code",
   "execution_count": 5,
   "id": "2b04e51c",
   "metadata": {},
   "outputs": [
    {
     "data": {
      "text/plain": [
       "Index(['Year', 'Rate'], dtype='object')"
      ]
     },
     "execution_count": 5,
     "metadata": {},
     "output_type": "execute_result"
    }
   ],
   "source": [
    "rates.columns"
   ]
  },
  {
   "cell_type": "code",
   "execution_count": 6,
   "id": "2dc61f79",
   "metadata": {},
   "outputs": [
    {
     "data": {
      "text/html": [
       "<div>\n",
       "<style scoped>\n",
       "    .dataframe tbody tr th:only-of-type {\n",
       "        vertical-align: middle;\n",
       "    }\n",
       "\n",
       "    .dataframe tbody tr th {\n",
       "        vertical-align: top;\n",
       "    }\n",
       "\n",
       "    .dataframe thead th {\n",
       "        text-align: right;\n",
       "    }\n",
       "</style>\n",
       "<table border=\"1\" class=\"dataframe\">\n",
       "  <thead>\n",
       "    <tr style=\"text-align: right;\">\n",
       "      <th></th>\n",
       "      <th>Year</th>\n",
       "      <th>Rate</th>\n",
       "    </tr>\n",
       "  </thead>\n",
       "  <tbody>\n",
       "    <tr>\n",
       "      <th>0</th>\n",
       "      <td>1934</td>\n",
       "      <td>0.28</td>\n",
       "    </tr>\n",
       "    <tr>\n",
       "      <th>1</th>\n",
       "      <td>1935</td>\n",
       "      <td>0.17</td>\n",
       "    </tr>\n",
       "    <tr>\n",
       "      <th>2</th>\n",
       "      <td>1936</td>\n",
       "      <td>0.17</td>\n",
       "    </tr>\n",
       "    <tr>\n",
       "      <th>3</th>\n",
       "      <td>1937</td>\n",
       "      <td>0.28</td>\n",
       "    </tr>\n",
       "    <tr>\n",
       "      <th>4</th>\n",
       "      <td>1938</td>\n",
       "      <td>0.07</td>\n",
       "    </tr>\n",
       "  </tbody>\n",
       "</table>\n",
       "</div>"
      ],
      "text/plain": [
       "   Year  Rate\n",
       "0  1934  0.28\n",
       "1  1935  0.17\n",
       "2  1936  0.17\n",
       "3  1937  0.28\n",
       "4  1938  0.07"
      ]
     },
     "execution_count": 6,
     "metadata": {},
     "output_type": "execute_result"
    }
   ],
   "source": [
    "rates.head()"
   ]
  },
  {
   "cell_type": "code",
   "execution_count": 7,
   "id": "28e27564",
   "metadata": {},
   "outputs": [],
   "source": [
    "year = rates.Year"
   ]
  },
  {
   "cell_type": "code",
   "execution_count": 8,
   "id": "728d8979",
   "metadata": {},
   "outputs": [],
   "source": [
    "rate = rates.Rate"
   ]
  },
  {
   "cell_type": "code",
   "execution_count": 9,
   "id": "745be246",
   "metadata": {},
   "outputs": [
    {
     "name": "stdout",
     "output_type": "stream",
     "text": [
      "0 data missing in Year\n"
     ]
    }
   ],
   "source": [
    "print(f'{year.isna().sum()} data missing in Year')"
   ]
  },
  {
   "cell_type": "code",
   "execution_count": 10,
   "id": "6972a4c9",
   "metadata": {},
   "outputs": [
    {
     "name": "stdout",
     "output_type": "stream",
     "text": [
      "0 data missing in Rate\n"
     ]
    }
   ],
   "source": [
    "print(f'{rate.isna().sum()} data missing in Rate')"
   ]
  },
  {
   "cell_type": "code",
   "execution_count": 11,
   "id": "2e3fb0cb",
   "metadata": {},
   "outputs": [
    {
     "name": "stdout",
     "output_type": "stream",
     "text": [
      "    Year   Rate\n",
      "16  1950   1.20\n",
      "17  1951   1.52\n",
      "18  1952   1.72\n",
      "19  1953   1.89\n",
      "20  1954   0.94\n",
      "21  1955   1.73\n",
      "22  1956   2.63\n",
      "23  1957   3.23\n",
      "24  1958   1.77\n",
      "25  1959   3.39\n",
      "26  1960   2.88\n",
      "27  1961   2.35\n",
      "28  1962   2.77\n",
      "29  1963   3.16\n",
      "30  1964   3.55\n",
      "31  1965   3.95\n",
      "32  1966   4.86\n",
      "33  1967   4.31\n",
      "34  1968   5.34\n",
      "35  1969   6.67\n",
      "36  1970   6.39\n",
      "37  1971   4.33\n",
      "38  1972   4.07\n",
      "39  1973   7.03\n",
      "40  1974   7.83\n",
      "41  1975   5.78\n",
      "42  1976   4.97\n",
      "43  1977   5.27\n",
      "44  1978   7.19\n",
      "45  1979  10.07\n",
      "46  1980  11.43\n"
     ]
    }
   ],
   "source": [
    "print(rates.drop([0, 1, 2, 3, 4, 5, 6, 7, 8, 9, 10, 11, 12, 13, 14, \n",
    "15, 47, 48, 49, 50, 51, 52, 53, 54, 55, 56, 57, 58, 59, 60, 61, 62, 63, 64, \n",
    "65, 66, 67, 68, 69, 70, 71, 72, 73, 74, 75, 76, 77, 78, 79, 80, 81, 82]))"
   ]
  },
  {
   "cell_type": "code",
   "execution_count": 12,
   "id": "9e08b1fb",
   "metadata": {},
   "outputs": [],
   "source": [
    "rates = rates.drop"
   ]
  },
  {
   "cell_type": "code",
   "execution_count": 13,
   "id": "5e2ca2d6",
   "metadata": {},
   "outputs": [],
   "source": [
    "#year = rates.Year\n",
    "#rate = rates.Rate"
   ]
  },
  {
   "cell_type": "code",
   "execution_count": 14,
   "id": "6e3abc74",
   "metadata": {},
   "outputs": [
    {
     "ename": "AttributeError",
     "evalue": "'function' object has no attribute 'Year'",
     "output_type": "error",
     "traceback": [
      "\u001b[0;31m---------------------------------------------------------------------------\u001b[0m",
      "\u001b[0;31mAttributeError\u001b[0m                            Traceback (most recent call last)",
      "Cell \u001b[0;32mIn[14], line 1\u001b[0m\n\u001b[0;32m----> 1\u001b[0m rates \u001b[38;5;241m=\u001b[39m rates[\u001b[38;5;241m~\u001b[39mrates\u001b[38;5;241m.\u001b[39mYear\u001b[38;5;241m.\u001b[39misna()]\n\u001b[1;32m      2\u001b[0m rates \u001b[38;5;241m=\u001b[39m rates[\u001b[38;5;241m~\u001b[39mrates\u001b[38;5;241m.\u001b[39mRate\u001b[38;5;241m.\u001b[39misna()]\n",
      "\u001b[0;31mAttributeError\u001b[0m: 'function' object has no attribute 'Year'"
     ]
    }
   ],
   "source": [
    "rates = rates[~rates.Year.isna()]\n",
    "rates = rates[~rates.Rate.isna()]"
   ]
  },
  {
   "cell_type": "markdown",
   "id": "660f7617",
   "metadata": {},
   "source": [
    "**41. TBill rates 2016 Here are a plot and regression output showing the federal rate on 3-month Treasury bills from 1950 to 1980, and a regression model fit to the relationship between the Rate (in %) and Years Since 1950 (www.gpoaccess.gov/eop/).**"
   ]
  },
  {
   "cell_type": "code",
   "execution_count": null,
   "id": "6c485304",
   "metadata": {},
   "outputs": [],
   "source": [
    "#control = t_bill_rates['Year']\n",
    "#response = t_bill_rates['Rate']"
   ]
  },
  {
   "cell_type": "code",
   "execution_count": null,
   "id": "0410211c",
   "metadata": {},
   "outputs": [],
   "source": [
    "year = rates.Year  #x: control\n",
    "rate = rates.Rate #y: response"
   ]
  },
  {
   "cell_type": "code",
   "execution_count": null,
   "id": "5ec2f2dd",
   "metadata": {},
   "outputs": [],
   "source": [
    "linear_fit.fit(np.array(control).reshape(-1,1), \n",
    "           np.array(response));"
   ]
  },
  {
   "cell_type": "code",
   "execution_count": null,
   "id": "3bb42401",
   "metadata": {},
   "outputs": [],
   "source": [
    "#linear_fit.fit(np.array(control).reshape(-1,1), \n",
    "           #np.array(response));\n",
    "#plt.figure(figsize=(8,3));\n",
    "#plt.scatter(controlt_bill_rates['Year'], responset_bill_rates['Rate'], color='maroon', s=20);\n",
    "#plt.plot(control, linear_fit.predict(np.array(control).reshape(-1,1)), color='k', lw=2)\n",
    "#plt.xlabel('Years Since 1950');\n",
    "#plt.ylabel('Rate(%)');\n",
    "#plt.xticks([1950, 1955, 1960, 1965, 1970, 1975, 1980]);\n",
    "#plt.yticks([3, 12, 3]);"
   ]
  },
  {
   "cell_type": "code",
   "execution_count": null,
   "id": "909d515d",
   "metadata": {},
   "outputs": [],
   "source": [
    "x = np.array(year).reshape(-1, 1)\n",
    "y = np.array(rate)\n",
    "linear_fit.fit(x, y) \n",
    "plt.scatter(x, y, s=8, marker='o');  \n",
    "plt.plot(x, linear_fit.predict(x), 'r');  \n",
    "plt.xlabel('Years Since 1950');\n",
    "plt.ylabel('Rate(%)');\n",
    "plt.xticks([1950, 1955, 1960, 1965, 1970, 1975, 1980]);\n",
    "plt.yticks([3, 12, 3]);"
   ]
  },
  {
   "cell_type": "code",
   "execution_count": null,
   "id": "f8388a9c",
   "metadata": {},
   "outputs": [],
   "source": []
  },
  {
   "cell_type": "code",
   "execution_count": null,
   "id": "22ab0356",
   "metadata": {},
   "outputs": [],
   "source": []
  },
  {
   "cell_type": "code",
   "execution_count": null,
   "id": "6423a9c2",
   "metadata": {},
   "outputs": [],
   "source": []
  },
  {
   "cell_type": "code",
   "execution_count": null,
   "id": "7ba15bb2",
   "metadata": {},
   "outputs": [],
   "source": []
  }
 ],
 "metadata": {
  "kernelspec": {
   "display_name": "Python 3 (ipykernel)",
   "language": "python",
   "name": "python3"
  },
  "language_info": {
   "codemirror_mode": {
    "name": "ipython",
    "version": 3
   },
   "file_extension": ".py",
   "mimetype": "text/x-python",
   "name": "python",
   "nbconvert_exporter": "python",
   "pygments_lexer": "ipython3",
   "version": "3.11.5"
  }
 },
 "nbformat": 4,
 "nbformat_minor": 5
}
