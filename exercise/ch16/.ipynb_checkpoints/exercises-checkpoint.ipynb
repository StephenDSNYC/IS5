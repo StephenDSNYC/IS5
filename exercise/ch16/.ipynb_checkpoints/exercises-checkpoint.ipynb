{
 "cells": [
  {
   "cell_type": "code",
   "execution_count": 3,
   "id": "c815b152-73e6-495e-8f93-db638cbb0d84",
   "metadata": {},
   "outputs": [],
   "source": [
    "from math import sqrt\n",
    "from scipy.stats import norm, t"
   ]
  },
  {
   "cell_type": "markdown",
   "id": "e70c595c-c09c-4810-a662-4a31506e7d86",
   "metadata": {},
   "source": [
    "**Problem 3.** \n",
    "\n",
    "P-values Which of the following are true? If false, explain briefly.\n",
    "\n",
    "a) A very high P-value is strong evidence that the null hypoth- esis is false.\n",
    "\n",
    "b) A very low P-value proves that the null hypothesis is false.\n",
    "\n",
    "c) A high P-value shows that the null hypothesis is true.\n",
    "\n",
    "d) A P-value below 0.05 is always considered sufficient evidence to reject a null hypothesis."
   ]
  },
  {
   "cell_type": "markdown",
   "id": "28076787-3f75-4bb2-99ab-15fa2c3a5189",
   "metadata": {},
   "source": [
    "**Answers to Problem 3**\n",
    "\n",
    "(a) False. A high P-value shows the data are consistent with the model from the null hypothesis, and we have no reason to reject the null hypothesis.\n",
    "\n",
    "(b) False.  A very low P-value tells us that we have sufficient evidence to reject the null hypothesis, but the low P-value does not tell the null hypothesis is false.\n",
    "\n",
    "(c) False.  A high P-value shows us that we have insufficient evidence to reject the null hypothesis, but we do not know the null hypothesis is true or not.\n",
    "\n",
    "(d) False.  The reject / fail-to-reject decision is based on the P-value is below the alpha level that you set before collecting the data."
   ]
  },
  {
   "cell_type": "markdown",
   "id": "1b6152df-13f6-44a5-bc5d-17b1b2ea5096",
   "metadata": {},
   "source": [
    "**Problem 4.**\n",
    "\n",
    "More P-values Which of the following are true? If false, explain briefly.\n",
    "\n",
    "a) A very low P-value provides evidence against the null hypothesis.\n",
    "\n",
    "b) A high P-value is strong evidence in favor of the null hypothesis.\n",
    "\n",
    "c) A P-value above 0.10 shows that the null hypothesis is true.\n",
    "\n",
    "d) If the null hypothesis is true, you can’t get a P-value below 0.01.\n"
   ]
  },
  {
   "cell_type": "markdown",
   "id": "2f780638-1dc2-47b0-ac5a-bee83bfbfd2b",
   "metadata": {},
   "source": [
    "**Answers to Problem 4**\n",
    "\n",
    "(a) True.  A very low P-value tells us that we have sufficient evidence to reject the null hypothesis.\n",
    "\n",
    "(b) True.  A high P-vaule shows strong evidence to retain the null hypothesis.\n",
    "\n",
    "(c) True.  A P-value above 0.10 shows strong evidence to retain the null hypothesis.\n",
    "\n",
    "(d) False.  If the null hypothesis true, and you will get a large P-value most of the time.  However, there is a probability that you will get a percentage of alpha level of getting a low P-value for mistakenly reject the null hypothesis."
   ]
  },
  {
   "cell_type": "markdown",
   "id": "71631041-7970-4d46-9250-b74e70cf8cca",
   "metadata": {},
   "source": [
    "**Problem 7.** \n",
    "\n",
    "Critical values For each of the following situations, find the critical value(s) for z or t.\n",
    "\n",
    "a) H:p = 0.5vs.H :p≠0.5ata = 0.05.\n",
    "\n",
    "b) H0:p = 0.4vs.HA:p 7 0.4ata = 0.05.\n",
    "\n",
    "c) H0:m = 10vs.HA:m≠10ata = 0.05;n = 36. 0A\n",
    "\n",
    "d) H0:p = 0.5vs.HA:p 7 0.5ata = 0.01;n = 345. \n",
    "\n",
    "e) H0:m = 20vs.HA:m 6 20ata = 0.01;n = 1000."
   ]
  },
  {
   "cell_type": "markdown",
   "id": "6d6e0b96-84d4-4438-a6df-2286a20e582b",
   "metadata": {},
   "source": [
    "**Answers to Problem 7.**\n",
    "\n",
    "(a) The critical value is +-1.96\n",
    "\n",
    "(b) The critical value is +-1.96\n",
    "\n",
    "(c) The critical value is +-2.030\n",
    "\n",
    "(d) The critical value is \n",
    "\n",
    "(e) The critical value is "
   ]
  },
  {
   "cell_type": "markdown",
   "id": "78a2be7b-e5a9-4ae4-888f-e6d2b06b5b8f",
   "metadata": {},
   "source": [
    "**Problem 9.**\n",
    "\n",
    "Significant? Public health officials believe that 98% of children have been vaccinated against measles. A random survey of medical records at many schools across the country found that, among more than 13,000 children, only 97.4% had been vac- cinated. A statistician would reject the 98% hypothesis with a P-value of P 60.0001.\n",
    "\n",
    "a) Explain what the P-value means in this context.\n",
    "\n",
    "b) The result is statistically significant, but is it important? Comment."
   ]
  },
  {
   "cell_type": "markdown",
   "id": "6a21a0ce-c996-42da-92cd-9ffe700cc4c9",
   "metadata": {},
   "source": [
    "**Answers to Problem 9**\n",
    "\n",
    "(a) The P-value of 0.0001 is very low, and we have strong evidence to reject the null hypothesis.  \n",
    "\n",
    "(b) The P-value is statistically significant, but practically meaningless as the effect size in here is very small. "
   ]
  },
  {
   "cell_type": "markdown",
   "id": "df71ae46-3849-4c6a-bfb5-52f6a7a02ef7",
   "metadata": {},
   "source": [
    "**Problem 10.** \n",
    "\n",
    "Significant again? A new reading program may reduce the number of elementary school students who read below grade level. The company that developed this program supplied materials and teacher training for a large-scale test involving nearly 8500 children in several different school districts. Sta- tistical analysis of the results showed that the percentage of students who did not meet the grade-level goal was reduced from 15.9% to 15.1%. The hypothesis that the new reading program produced no improvement was rejected with a P-value of 0.023.\n",
    "\n",
    "a) Explain what the P-value means in this context.\n",
    "\n",
    "b) Even though this reading method has been shown to be significantly better, why might you not recommend that your local school adopt it?"
   ]
  },
  {
   "cell_type": "markdown",
   "id": "dab92ff7-13b0-4925-a947-746d53058270",
   "metadata": {},
   "source": [
    "**Answers to Problem 10**\n",
    "\n",
    "(a)The P-value of 0.023 is low and falls below the alpha level, and we have sufficient evidence to reject the null hypothesis.\n",
    "\n",
    "(b) The test shows the P-value may look statistically significant here, however, the effect size seems quite small, and it looks like practically meaningless."
   ]
  },
  {
   "cell_type": "markdown",
   "id": "69dacf0a-874f-455e-bcc7-4288201ada42",
   "metadata": {},
   "source": [
    "**Problem 13.** \n",
    "\n",
    "P-value A medical researcher tested a new treatment for poison ivy against the traditional ointment. He concluded that the new treatment is more effective. Explain what the P-value of 0.047 means in this context."
   ]
  },
  {
   "cell_type": "markdown",
   "id": "f7efda95-cadc-4b5d-a5dd-29ea4316d6f0",
   "metadata": {},
   "source": [
    "**Answer to Problem 13.**\n",
    "\n",
    "A P-value of 0.047 means that the new treatment for poison ivy that the medical researcher observed could be 4.7% of similar experiments.  If the medical researcher uses an alpha level of 0.05, and the P-value of 0.047 falls below the alpha level, thus, he rejects the null hypothesis and concludes that the new treatment is more effective.  But, he may work further to make the conclusion that the new treatment is more effective."
   ]
  },
  {
   "cell_type": "markdown",
   "id": "c9ade234-0e0a-4f4f-bcdc-3758d0169d7c",
   "metadata": {},
   "source": [
    "**Problem 14.**\n",
    "\n",
    "Another P-value Have harsher penalties and ad campaigns increased seat-belt use among drivers and passengers? Observa- tions of commuter traffic failed to find evidence of a significant change compared with three years ago. Explain what the study’s P-value of 0.17 means in this context."
   ]
  },
  {
   "cell_type": "markdown",
   "id": "8021901a-5425-40d9-b0e7-802a34a2a51b",
   "metadata": {},
   "source": [
    "**Answer to Problem 14.**\n",
    "\n",
    "The P-value of 0.17 says that if the seat-belt usage among drivers and passengers were remain unchanged, the probability of observing such seat-belt usage in a sample like this is 17 chance in 100, so we retain the null hypothesis as there is no strong evidence of a significant change compared with three years ago."
   ]
  },
  {
   "cell_type": "markdown",
   "id": "57dab09f-4d41-4bd7-81d1-5fac2a8739fc",
   "metadata": {},
   "source": [
    "**Problem 35.**\n",
    "\n",
    "Software for learning A statistics professor has observed that for several years students score an average of 105 points out of 150 on the semester exam. A salesman suggests that he try a statistics software package that gets students more involved with computers, predicting that it will increase students’ scores. The software is expensive, and the salesman offers to let the professor use it for a semester to see if the scores on the final exam increase significantly. The professor will have to pay for the software only if he chooses to continue using it.\n",
    "\n",
    "a) Is this a one-tailed or two-tailed test? Explain.\n",
    "\n",
    "b) Write the null and alternative hypotheses.\n",
    "\n",
    "c) In this context, explain what would happen if the professor makes a Type I error.\n",
    "\n",
    "d) In this context, explain what would happen if the professor makes a Type II error.\n",
    "\n",
    "e) What is meant by the power of this test?"
   ]
  },
  {
   "cell_type": "markdown",
   "id": "03335402-f2b3-4ab4-b4d3-0f333a96fc41",
   "metadata": {},
   "source": [
    "**Answers to Problem 35**\n",
    "\n",
    "(a) This is a one-tailed test because the professor would like to see the score increasement on the students' statistics final exam.\n",
    "\n",
    "(b) Let u = the students' average statistics score.  $H_0: u = 0.70$, and $H_A: u > 0.70$.\n",
    "\n",
    "(c) If the professor makes a Type I error, when the null hypothesis is true, but the professor mistkenly reject it, in other words, the P-value falls below the chosen alpha level, then the professor had to reject the null hypothesis.\n",
    "\n",
    "(d) If the professor makes a Type II error, when the null hypothesis is false, but the professor fails to reject it.\n",
    "\n",
    "(e) The power of this test means the probability that the null hypothesis test will correctly reject the false null hypothesis."
   ]
  },
  {
   "cell_type": "markdown",
   "id": "a47aadcc-0c0a-4412-8c58-131fa4d28094",
   "metadata": {},
   "source": [
    "**Problem 37.**\n",
    "\n",
    "Software, part II 203 students signed up for the Stats course in Exercise 35. They used the software suggested by the salesman, and scored an average of 108 points on the final with a standard deviation of 8.7 points.\n",
    "\n",
    "a) Should the professor spend the money for this software? Support your recommendation with an appropriate test.\n",
    "\n",
    "b) Does this improvement seem to be practically significant?\n"
   ]
  },
  {
   "cell_type": "code",
   "execution_count": null,
   "id": "ac198773-5fc5-4b39-90f7-87c2dcf5a742",
   "metadata": {},
   "outputs": [],
   "source": []
  }
 ],
 "metadata": {
  "kernelspec": {
   "display_name": "Python 3 (ipykernel)",
   "language": "python",
   "name": "python3"
  },
  "language_info": {
   "codemirror_mode": {
    "name": "ipython",
    "version": 3
   },
   "file_extension": ".py",
   "mimetype": "text/x-python",
   "name": "python",
   "nbconvert_exporter": "python",
   "pygments_lexer": "ipython3",
   "version": "3.11.5"
  }
 },
 "nbformat": 4,
 "nbformat_minor": 5
}
