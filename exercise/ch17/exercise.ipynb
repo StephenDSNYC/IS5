{
 "cells": [
  {
   "cell_type": "code",
   "execution_count": 1,
   "id": "0dfb45ad-2639-4838-9bc8-bc176d8bb8a1",
   "metadata": {},
   "outputs": [],
   "source": [
    "import math\n",
    "from math import sqrt\n",
    "from scipy.stats import norm, t"
   ]
  },
  {
   "cell_type": "markdown",
   "id": "3c798d2c-0503-4666-8252-e894b86d2f36",
   "metadata": {},
   "source": [
    "**Problem 34.** Anorexia The Journal of the American Medical Association reported on an experiment intended to see if the drug Prozac® could be used as a treatment for the eating disorder anorexia nervosa. The subjects, women being treated for anorexia, were randomly divided into two groups. Of the 49 who received Prozac, 35 were deemed healthy a year later, compared to 32 of the 44 who got the placebo.\n",
    "\n",
    "a) Are the conditions for inference satisfied?\n",
    "\n",
    "b) Find a 95% confidence interval for the difference in outcomes. \n",
    "\n",
    "c) Use your confidence interval to explain whether you think Prozac is effective."
   ]
  },
  {
   "cell_type": "markdown",
   "id": "73b94ed2-e2e3-4e06-864a-d7ff0ddb4ea0",
   "metadata": {},
   "source": [
    "**Answers to Problem 34**\n",
    "\n",
    "(a) Yes. Randomization condition: The women were randomly divided into two groups for the drug experiment.  Independent Groups Assumption: The two groups were randomly divided, and we believe the two groups are independent of each other.  \n",
    "Success / Failure Condition: After a year later, there were 35 women were deemed healthy in the group of 49 women who received Prozac, and there were 32 women are healthy in the group of 44 women who took the placebo.  All counts are at least 10.  All the assumptions and conditions are satisfied.\n",
    "\n",
    "(b) The 95% confidence interval are (-19.6%, 17%).\n",
    "\n",
    "(c) I am 95% confidence that the proportion of women who took the Prozac is between -19.6% to 17% compare to the proportion of women who received placebo.\n",
    "\n",
    "<font color=\"red\">The center of the interval is -1.3%.  With 95% confidence, the effectiveness of Prozac compared to placebo falls in the stated interval.  I am inclined to conclude that Prozac is at most as good as placebo, therefore ineffective.</font>"
   ]
  },
  {
   "cell_type": "code",
   "execution_count": 4,
   "id": "2c4f423a-8c12-43c3-9e59-a326854fd2ba",
   "metadata": {},
   "outputs": [
    {
     "name": "stdout",
     "output_type": "stream",
     "text": [
      "SE: 0.093128\n",
      "difference: -1.3%\n",
      "95% CI: (-19.6%, 17.0%)\n"
     ]
    }
   ],
   "source": [
    "def sol34b():\n",
    "    n_drug = 49\n",
    "    n_plac = 44\n",
    "    k_drug = 35\n",
    "    k_plac = 32\n",
    "\n",
    "    p_drug = k_drug / n_drug\n",
    "    p_plac = k_plac / n_plac\n",
    "\n",
    "    q_drug = 1 - p_drug\n",
    "    q_plac = 1 - p_plac\n",
    "\n",
    "    SE = sqrt( (p_drug * q_drug / n_drug) + (p_plac * q_plac / n_plac) )\n",
    "\n",
    "    observed_diff = p_drug - p_plac\n",
    "\n",
    "    ME = norm.ppf(0.975) * SE\n",
    "\n",
    "    print(f\"SE: {SE:.6f}\")\n",
    "    print(f\"difference: {observed_diff*100 : .1f}%\")\n",
    "    print(f\"95% CI: ({(observed_diff - ME) * 100:.1f}%, {(observed_diff + ME) * 100:.1f}%)\")\n",
    "    \n",
    "    #SE_prozac_hat = sqrt(prozac_hat) * (1 - prozac_hat) / n_prozac\n",
    "    #SE_placebo_hat = sqrt (placebo_hat)* (1 - placebo_hat) / n_placebo\n",
    "    #SE = SE_prozac_hat + SE_placebo_hat\n",
    "\n",
    "    #print(f\"observed_diff: {observed_diff:.6f}\")\n",
    "    #print(f\"prozac_hat: {prozac_hat:.6f}\")\n",
    "    #print(f\"placebo_hat: {placebo_hat:.6f}\")\n",
    "    #print(f\"SE_prozac_hat: {SE_prozac_hat:.6f}\")\n",
    "    #print(f\"SE_placebo_hat: {SE_placebo_hat:.6f}\")\n",
    "\n",
    "sol34b()"
   ]
  },
  {
   "cell_type": "markdown",
   "id": "cedcbe70-e47c-4e47-9f94-db624cb4cb2d",
   "metadata": {},
   "source": [
    "**Problem 36.** Anorexia again In Exercise 34, you used a confidence interval to examine the effectiveness of Prozac in treating anorexia ner- vosa. Suppose that instead you had conducted a hypothesis test. (Answer these questions without actually doing the test.)\n",
    "\n",
    "a) What hypotheses would you test?\n",
    "\n",
    "b) State a conclusion based on your confidence interval.\n",
    "\n",
    "c) If that conclusion is wrong, which type of error did you make?\n",
    "\n",
    "d) What would be the consequences of such an error?"
   ]
  },
  {
   "cell_type": "markdown",
   "id": "c225ee53-cfe0-4d4a-a499-f98690fd19c9",
   "metadata": {},
   "source": [
    "**Answers to Problem 36**\n",
    "\n",
    "(a) $H_0: p_{prozac} - p_{placebo} = 0$; $H_A: p_{prozac} - p_{placebo} > 0$\n",
    "\n",
    "(b) The 95% confidence interval(-19.6%, 17%)for the proportion of women who took the Prozac is between -19.6% to 17% compare to the proportion of women who received placebo.\n",
    "\n",
    "<font color=\"red\">Based on equivalence between 95% confidence interval and a hypothesis test with significant level of 5%, the conclusion would be to fail to reject the null.</font>\n",
    "\n",
    "(c) I might made the Type II Error, I fail to reject the null hypothesis while it is false.\n",
    "\n",
    "(d) While the new treatment is effective, but I retain the null hypothesis that the treatment is not.  That may result in women who have the eating disorder anorexia nervosa may not receive the drug Prozac as the effective treatment.\n",
    "\n",
    "<font color=\"red\">One possible consequence is to prestall sick women from receiving an effective treatment.</font>"
   ]
  },
  {
   "cell_type": "markdown",
   "id": "f9c771ae-4155-4523-9868-2bfb18e7a0a8",
   "metadata": {},
   "source": [
    "**Problem 51.** Hot dogs In the July 2007 issue, Consumer Reports examined the calorie content of two kinds of hot dogs: meat (usually a mixture of pork, turkey, and chicken) and all beef. The researchers purchased samples of several different brands. The meat hot dogs averaged 111.7 calories, compared to 135.4 for the beef hot dogs. A test of the null hypothesis that there’s no difference in mean calorie content yields a P-value of 0.124. Would a 95% confidence interval for mMeat - mBeef include 0? Explain."
   ]
  },
  {
   "cell_type": "markdown",
   "id": "28660eca-508f-4c0f-b0e1-f85ee9127ede",
   "metadata": {},
   "source": [
    "**Answer to Problem 51**\n",
    "\n",
    "<font color=\"red\">A 95% confidence interval correponds to a hypothesis test with a significant level of 5%.  $p=0.124 > 0.05$.  The test would reach a conclusion of failing to reject the null, i.e., there is little difference in calories of the two kinds of hot dogs.  Since the test concludes that th two types of hot dogs contain the same amount of calories, the corresponding confidence interval should in theory contain 0.</font>\n",
    "\n",
    "Yes, the 95% confidence interval for $\\mu_{Meat} - \\mu_{Beef}$ may include 0 because the test of the null hypothesis shows a p-value of 0.124, which is a hign p-value, and we may retain the null hypothesis that there is no difference in mean calorie between the meat hotdog and the beef hotdog."
   ]
  },
  {
   "cell_type": "markdown",
   "id": "36e7abb2-d606-4fde-9926-e3ed7bf2ced4",
   "metadata": {},
   "source": [
    "**Probelm 53**. Hot dogs, second helping The Consumer Reports article described in Exercise 51 also listed the fat content (in grams) for samples of beef and meat hot dogs. The resulting 90% con- fidence interval for mMeat - mBeef is (-6.5, -1.4).\n",
    "\n",
    "a) The endpoints of this confidence interval are negative numbers. What does that indicate?\n",
    "\n",
    "b) What does the fact that the confidence interval does not con- tain 0 indicate?\n",
    "\n",
    "c) If we use this confidence interval to test the hypothesis that mMeat - mBeef = 0, what’s the corresponding alpha level?"
   ]
  },
  {
   "cell_type": "markdown",
   "id": "6a7281c0-eb53-45e0-ac1b-2551b9918e68",
   "metadata": {},
   "source": [
    "**Answers to Problem 53.**\n",
    "\n",
    "(a) The endpoints of the CI for $\\mu_{Meat} - \\mu_{Beef}$ (-6.5, -1.4) shows that I am 90% confident that the mean fat content of the \"beef\" group are 1.4 to 6.5 grams more than the \"meat\" group.  In other words, the beef hotdogs contain more fat than the meat averagely.\n",
    "\n",
    "<font color=\"red\">Those negative signs indicate that the \"meat\" group contains less fat content (in grams) than the \"beef\" group.</font>\n",
    "\n",
    "(b) The fact that the confidence interval does not contain 0 means that we have strong evidence the mean fat content in beef hogdogs are significant greater than that in the meat.\n",
    "\n",
    "<font color=\"red\">The interval does not contain 0.  This means a strong evidence that fat content of the \"meat\" group is strictly less than that of the \"beef\" group.  We can also conclude that a null hypothesis that these two groups contain the same amount of fat would be rejected.</font>\n",
    "\n",
    "(c) The corresponding alpha level is 0.10."
   ]
  },
  {
   "cell_type": "markdown",
   "id": "1953b7ca-2225-4b13-8913-08ab17f550de",
   "metadata": {},
   "source": [
    "**Problem 55.** Hot dogs, last one In Exercise 53, we saw a 90% confidence interval of ( - 6.5, - 1.4 ) grams for mMeat - mBeef , the differ- ence in mean fat content for meat vs. all-beef hot dogs. Explain why you think each of the following statements is true or false:\n",
    "\n",
    "a) If I eat a meat hot dog instead of a beef dog, there’s a 90% chance I’ll consume less fat.\n",
    "\n",
    "b) 90% of meat hot dogs have between 1.4 and 6.5 grams less fat than a beef hot dog.\n",
    "\n",
    "c) I’m 90% confident that meat hot dogs average between 1.4 and 6.5 grams less fat than the beef hot dogs.\n",
    "\n",
    "d) If I were to get more samples of both kinds of hot dogs, 90% of the time the meat hot dogs would average between 1.4 and 6.5 grams less fat than the beef hot dogs.\n",
    "\n",
    "e) If I tested more samples, I’d expect about 90% of the result- ing confidence intervals to include the true difference in mean fat content between the two kinds of hot dogs."
   ]
  },
  {
   "cell_type": "markdown",
   "id": "0abb7c7a-336e-4ff8-9f43-bf4ff421cb72",
   "metadata": {},
   "source": [
    "**Answers to Problem 55**\n",
    "\n",
    "<font color=\"red\">The 90% confidence level is about the likelihood that the confidence interval contains the true difference in the fat content.</font>\n",
    "\n",
    "<font color=\"red\">Also note the correspondence between confidence intervals and hypothesis test.  90% correspondes to a 0.1 (10%) $\\alpha$ level.</font>\n",
    "\n",
    "(a) False.  <font color=\"red\">90% is NOT the probability that \"meat\" hot dogs contain less fat than \"beef\" hot dogs.</font>\n",
    "\n",
    "(b) False.  <font color=\"red\">90% is NOT the probability that \"meat\" hot dogs contain 1.4 to 6.5 grams less fat than \"beef\" hot dogs.</font>\n",
    "\n",
    "(c) True.  <font color=\"red\">This statement is the interpretation of confidence interval.</font>\n",
    "\n",
    "(d) False.  <font color=\"red\">90% is NOT the probability that \"meat\" hot dogs contain 1.4 to 6.5 grams less fat than \"beef\" hot dogs.</font>\n",
    "\n",
    "(e) True.  <font color=\"red\">This statement is the interpretation of confidence interval.</font>"
   ]
  }
 ],
 "metadata": {
  "kernelspec": {
   "display_name": "Python 3 (ipykernel)",
   "language": "python",
   "name": "python3"
  },
  "language_info": {
   "codemirror_mode": {
    "name": "ipython",
    "version": 3
   },
   "file_extension": ".py",
   "mimetype": "text/x-python",
   "name": "python",
   "nbconvert_exporter": "python",
   "pygments_lexer": "ipython3",
   "version": "3.11.5"
  }
 },
 "nbformat": 4,
 "nbformat_minor": 5
}
