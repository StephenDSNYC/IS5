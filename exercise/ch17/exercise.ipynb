{
 "cells": [
  {
   "cell_type": "code",
   "execution_count": 1,
   "id": "0dfb45ad-2639-4838-9bc8-bc176d8bb8a1",
   "metadata": {},
   "outputs": [],
   "source": [
    "import math\n",
    "from math import sqrt\n",
    "from scipy.stats import norm, t"
   ]
  },
  {
   "cell_type": "markdown",
   "id": "3c798d2c-0503-4666-8252-e894b86d2f36",
   "metadata": {},
   "source": [
    "**Problem 34.** Anorexia The Journal of the American Medical Association reported on an experiment intended to see if the drug Prozac® could be used as a treatment for the eating disorder anorexia nervosa. The subjects, women being treated for anorexia, were randomly divided into two groups. Of the 49 who received Prozac, 35 were deemed healthy a year later, compared to 32 of the 44 who got the placebo.\n",
    "\n",
    "a) Are the conditions for inference satisfied?\n",
    "\n",
    "b) Find a 95% confidence interval for the difference in outcomes. \n",
    "\n",
    "c) Use your confidence interval to explain whether you think Prozac is effective."
   ]
  },
  {
   "cell_type": "markdown",
   "id": "73b94ed2-e2e3-4e06-864a-d7ff0ddb4ea0",
   "metadata": {},
   "source": [
    "**Answers to Problem 34**\n",
    "\n",
    "(a) Yes. Randomization condition: The women were randomly divided into two groups for the drug experiment.  Independent Groups Assumption: The two groups were randomly divided, and we believe the two groups are independent of each other.  \n",
    "Success / Failure Condition: After a year later, there were 35 women were deemed healthy in the group of 49 women who received Prozac, and there were 32 women are healthy in the group of 44 women who took the placebo.  All counts are at least 10.  All the assumptions and conditions are satisfied.\n",
    "\n",
    "\n",
    "(b) The 95% confidence interval are (-0.007%, 0.033%).\n",
    "\n",
    "(c)I am 95% confidence that the proportion of women who took the Prozac is between -0.007% to 0.033% compare to the proportion of women who received placebo."
   ]
  },
  {
   "cell_type": "code",
   "execution_count": 13,
   "id": "2c4f423a-8c12-43c3-9e59-a326854fd2ba",
   "metadata": {},
   "outputs": [
    {
     "name": "stdout",
     "output_type": "stream",
     "text": [
      "observed_diff: 0.012987\n",
      "prozac_hat: 0.714286\n",
      "placebo_hat: 0.727273\n",
      "SE_prozac_hat: 0.004928\n",
      "SE_placebo_hat: 0.005286\n",
      "95% CI: (-0.007%, 0.033%)\n"
     ]
    }
   ],
   "source": [
    "def sol34b():\n",
    "    n_prozac = 49\n",
    "    n_placebo = 44\n",
    "    prozac_hat = 35 / 49\n",
    "    placebo_hat = 32 / 44\n",
    "\n",
    "    observed_diff = placebo_hat - prozac_hat\n",
    "    SE_prozac_hat = sqrt (prozac_hat)* (1 - prozac_hat) / n_prozac\n",
    "    SE_placebo_hat = sqrt (placebo_hat)* (1 - placebo_hat) / n_placebo\n",
    "    SE = SE_prozac_hat + SE_placebo_hat\n",
    "    \n",
    "\n",
    "    print(f\"observed_diff: {observed_diff:.6f}\")\n",
    "    print(f\"prozac_hat: {prozac_hat:.6f}\")\n",
    "    print(f\"placebo_hat: {placebo_hat:.6f}\")\n",
    "    print(f\"SE_prozac_hat: {SE_prozac_hat:.6f}\")\n",
    "    print(f\"SE_placebo_hat: {SE_placebo_hat:.6f}\")\n",
    "   \n",
    "    print(f\"95% CI: ({(observed_diff-SE*1.96):.3f}%, {(observed_diff+SE*1.96):.3f}%)\")\n",
    "\n",
    "\n",
    "sol34b()"
   ]
  },
  {
   "cell_type": "code",
   "execution_count": null,
   "id": "c6d81456-5de9-41a1-9ce6-39320e3acab5",
   "metadata": {},
   "outputs": [],
   "source": []
  },
  {
   "cell_type": "code",
   "execution_count": null,
   "id": "811136f3-d1f4-4087-baa7-c13708110594",
   "metadata": {},
   "outputs": [],
   "source": []
  },
  {
   "cell_type": "code",
   "execution_count": null,
   "id": "d9219618-a36a-4f53-b2b4-718c471e3da5",
   "metadata": {},
   "outputs": [],
   "source": []
  },
  {
   "cell_type": "code",
   "execution_count": null,
   "id": "6b9e628b-19d8-49a2-ba17-3cc441b1411b",
   "metadata": {},
   "outputs": [],
   "source": []
  },
  {
   "cell_type": "code",
   "execution_count": null,
   "id": "9cffc511-af82-4421-bf2a-44a4004f60d3",
   "metadata": {},
   "outputs": [],
   "source": []
  },
  {
   "cell_type": "code",
   "execution_count": null,
   "id": "ba60f896-58bf-45c2-963a-c846c8defdae",
   "metadata": {},
   "outputs": [],
   "source": []
  },
  {
   "cell_type": "code",
   "execution_count": null,
   "id": "aab57f85-c4d6-4f85-80f3-52ad94185dc3",
   "metadata": {},
   "outputs": [],
   "source": []
  },
  {
   "cell_type": "code",
   "execution_count": null,
   "id": "391e7a80-a21e-4ba1-a024-668e129e430c",
   "metadata": {},
   "outputs": [],
   "source": []
  },
  {
   "cell_type": "code",
   "execution_count": null,
   "id": "95547b87-2c69-4cdd-8aed-b5d795fdf594",
   "metadata": {},
   "outputs": [],
   "source": []
  },
  {
   "cell_type": "code",
   "execution_count": null,
   "id": "43e1d578-9f4c-4d89-a875-497ce47e579e",
   "metadata": {},
   "outputs": [],
   "source": []
  },
  {
   "cell_type": "code",
   "execution_count": null,
   "id": "fdb3bac9-f953-4ade-9ebc-c6f28bb52f50",
   "metadata": {},
   "outputs": [],
   "source": []
  },
  {
   "cell_type": "code",
   "execution_count": null,
   "id": "6fb3514b-1f25-4adc-be11-9b3b3b71dbec",
   "metadata": {},
   "outputs": [],
   "source": []
  },
  {
   "cell_type": "code",
   "execution_count": null,
   "id": "7f1d28f9-7b38-4cf3-adf1-f09c2e754300",
   "metadata": {},
   "outputs": [],
   "source": []
  },
  {
   "cell_type": "code",
   "execution_count": null,
   "id": "de726438-a32a-4a30-a4e6-1f1b180e69c5",
   "metadata": {},
   "outputs": [],
   "source": []
  },
  {
   "cell_type": "code",
   "execution_count": null,
   "id": "6373083e-b69c-4ea3-baae-d81006a216bb",
   "metadata": {},
   "outputs": [],
   "source": []
  },
  {
   "cell_type": "code",
   "execution_count": null,
   "id": "a7e6c064-c0c2-47d4-84d6-83d6e5e4b193",
   "metadata": {},
   "outputs": [],
   "source": []
  },
  {
   "cell_type": "code",
   "execution_count": null,
   "id": "2f8f45d0-ff09-49dc-b489-72b886bf76f6",
   "metadata": {},
   "outputs": [],
   "source": []
  },
  {
   "cell_type": "code",
   "execution_count": null,
   "id": "44bd20ab-1c42-4f81-bea0-dde3f766f049",
   "metadata": {},
   "outputs": [],
   "source": []
  }
 ],
 "metadata": {
  "kernelspec": {
   "display_name": "Python 3 (ipykernel)",
   "language": "python",
   "name": "python3"
  },
  "language_info": {
   "codemirror_mode": {
    "name": "ipython",
    "version": 3
   },
   "file_extension": ".py",
   "mimetype": "text/x-python",
   "name": "python",
   "nbconvert_exporter": "python",
   "pygments_lexer": "ipython3",
   "version": "3.11.5"
  }
 },
 "nbformat": 4,
 "nbformat_minor": 5
}
