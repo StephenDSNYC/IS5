{
 "cells": [
  {
   "cell_type": "code",
   "execution_count": 52,
   "id": "556407ef-d955-4015-9c99-fbb0b814e29f",
   "metadata": {},
   "outputs": [],
   "source": [
    "import pandas as pd\n",
    "from math import sqrt\n",
    "from scipy.stats import norm, t\n",
    "import matplotlib.pyplot as plt\n",
    "from numpy import corrcoef\n",
    "import numpy as np\n",
    "import statistics as stat\n",
    "from math import sqrt\n",
    "import seaborn as sns"
   ]
  },
  {
   "cell_type": "code",
   "execution_count": 53,
   "id": "8c6709a2-d9e8-4c82-9911-cbc84b798c60",
   "metadata": {},
   "outputs": [],
   "source": [
    "datafile = \"../../dataset/ch18/online_insurance.txt\"\n",
    "data = pd.read_csv(datafile, sep='\\t')"
   ]
  },
  {
   "cell_type": "code",
   "execution_count": 54,
   "id": "696bfb9e-72de-4028-aab3-ce2291b03e59",
   "metadata": {},
   "outputs": [
    {
     "name": "stdout",
     "output_type": "stream",
     "text": [
      "<class 'pandas.core.frame.DataFrame'>\n",
      "RangeIndex: 10 entries, 0 to 9\n",
      "Data columns (total 3 columns):\n",
      " #   Column     Non-Null Count  Dtype\n",
      "---  ------     --------------  -----\n",
      " 0   Local      10 non-null     int64\n",
      " 1   Online     10 non-null     int64\n",
      " 2   PriceDiff  10 non-null     int64\n",
      "dtypes: int64(3)\n",
      "memory usage: 372.0 bytes\n"
     ]
    }
   ],
   "source": [
    "data.info()"
   ]
  },
  {
   "cell_type": "code",
   "execution_count": 55,
   "id": "b4f03c6c-84a3-4730-8de1-60fba3b4235b",
   "metadata": {},
   "outputs": [
    {
     "data": {
      "text/html": [
       "<div>\n",
       "<style scoped>\n",
       "    .dataframe tbody tr th:only-of-type {\n",
       "        vertical-align: middle;\n",
       "    }\n",
       "\n",
       "    .dataframe tbody tr th {\n",
       "        vertical-align: top;\n",
       "    }\n",
       "\n",
       "    .dataframe thead th {\n",
       "        text-align: right;\n",
       "    }\n",
       "</style>\n",
       "<table border=\"1\" class=\"dataframe\">\n",
       "  <thead>\n",
       "    <tr style=\"text-align: right;\">\n",
       "      <th></th>\n",
       "      <th>Local</th>\n",
       "      <th>Online</th>\n",
       "      <th>PriceDiff</th>\n",
       "    </tr>\n",
       "  </thead>\n",
       "  <tbody>\n",
       "    <tr>\n",
       "      <th>0</th>\n",
       "      <td>568</td>\n",
       "      <td>391</td>\n",
       "      <td>177</td>\n",
       "    </tr>\n",
       "    <tr>\n",
       "      <th>1</th>\n",
       "      <td>872</td>\n",
       "      <td>602</td>\n",
       "      <td>270</td>\n",
       "    </tr>\n",
       "    <tr>\n",
       "      <th>2</th>\n",
       "      <td>451</td>\n",
       "      <td>488</td>\n",
       "      <td>-37</td>\n",
       "    </tr>\n",
       "    <tr>\n",
       "      <th>3</th>\n",
       "      <td>1229</td>\n",
       "      <td>903</td>\n",
       "      <td>326</td>\n",
       "    </tr>\n",
       "    <tr>\n",
       "      <th>4</th>\n",
       "      <td>605</td>\n",
       "      <td>677</td>\n",
       "      <td>-72</td>\n",
       "    </tr>\n",
       "  </tbody>\n",
       "</table>\n",
       "</div>"
      ],
      "text/plain": [
       "   Local  Online  PriceDiff\n",
       "0    568     391        177\n",
       "1    872     602        270\n",
       "2    451     488        -37\n",
       "3   1229     903        326\n",
       "4    605     677        -72"
      ]
     },
     "execution_count": 55,
     "metadata": {},
     "output_type": "execute_result"
    }
   ],
   "source": [
    "data.head()"
   ]
  },
  {
   "cell_type": "markdown",
   "id": "faf0df0c-fc7f-4148-91c8-a714a67d7cad",
   "metadata": {},
   "source": [
    "**Problem 17.** Online insurance I After seeing countless commercials claim- ing one can get cheaper car insurance from an online company, a local insurance agent was concerned that he might lose some customers. To investigate, he randomly selected profiles (type of car, coverage, driving record, etc.) for 10 of his clients and checked online price quotes for their policies. The comparisons are shown in the table below. His statistical software produced the following summaries (where PriceDiff = Local - Online):\n",
    "\n",
    "At first, the insurance agent wondered whether there was some kind of mistake in this output. He thought the Pythagorean Theorem of Statistics should work for finding the standard deviation of the price differences—in other words, that $SD(Local - Online) = sqrt (SD^2 (Local) + SD^2 (Online))$.  But when he checked, he found that $sqrt ((229.281)^2 + (256.267)^2) = 343.864$, not 175.663 as given by the software.  Tell him where his mistake is."
   ]
  },
  {
   "cell_type": "code",
   "execution_count": 56,
   "id": "741d431f-10f4-4229-93e8-cbd3a81dd321",
   "metadata": {},
   "outputs": [],
   "source": [
    "local = data['Local']\n",
    "online = data['Online']\n",
    "pricediff = data['PriceDiff']"
   ]
  },
  {
   "cell_type": "code",
   "execution_count": 57,
   "id": "69d91207-89a3-446a-a12e-a35b96ba3895",
   "metadata": {},
   "outputs": [],
   "source": [
    "def iqr(data):\n",
    "    q75, q25 = np.percentile(data, [75, 25])\n",
    "    return q75, q25, q75-q25"
   ]
  },
  {
   "cell_type": "code",
   "execution_count": 58,
   "id": "5204813b-e4c2-4d99-9cf1-606a5230d219",
   "metadata": {},
   "outputs": [
    {
     "data": {
      "text/html": [
       "<div>\n",
       "<style scoped>\n",
       "    .dataframe tbody tr th:only-of-type {\n",
       "        vertical-align: middle;\n",
       "    }\n",
       "\n",
       "    .dataframe tbody tr th {\n",
       "        vertical-align: top;\n",
       "    }\n",
       "\n",
       "    .dataframe thead th {\n",
       "        text-align: right;\n",
       "    }\n",
       "</style>\n",
       "<table border=\"1\" class=\"dataframe\">\n",
       "  <thead>\n",
       "    <tr style=\"text-align: right;\">\n",
       "      <th></th>\n",
       "      <th>Count</th>\n",
       "      <th>Mean</th>\n",
       "      <th>StdDev</th>\n",
       "    </tr>\n",
       "  </thead>\n",
       "  <tbody>\n",
       "    <tr>\n",
       "      <th>Local</th>\n",
       "      <td>10</td>\n",
       "      <td>799.2</td>\n",
       "      <td>229.281</td>\n",
       "    </tr>\n",
       "    <tr>\n",
       "      <th>Online</th>\n",
       "      <td>10</td>\n",
       "      <td>753.3</td>\n",
       "      <td>256.267</td>\n",
       "    </tr>\n",
       "    <tr>\n",
       "      <th>Pricediff</th>\n",
       "      <td>10</td>\n",
       "      <td>45.9</td>\n",
       "      <td>175.663</td>\n",
       "    </tr>\n",
       "  </tbody>\n",
       "</table>\n",
       "</div>"
      ],
      "text/plain": [
       "           Count   Mean   StdDev\n",
       "Local         10  799.2  229.281\n",
       "Online        10  753.3  256.267\n",
       "Pricediff     10   45.9  175.663"
      ]
     },
     "execution_count": 58,
     "metadata": {},
     "output_type": "execute_result"
    }
   ],
   "source": [
    "_q75, _q25, f_iqr = iqr(local)\n",
    "_q75, _q25, m_iqr = iqr(online)\n",
    "_q75, _q25, m_iqr = iqr(pricediff)\n",
    "\n",
    "summary_of_online_insurance= pd.DataFrame(\n",
    "data={\n",
    "\n",
    "    'Count': [ len(local),\n",
    "               len(online),  \n",
    "                len(pricediff) \n",
    "             ],\n",
    "    \n",
    "    'Mean': [round(stat.mean(local), 3),\n",
    "             round(stat.mean(online), 3),\n",
    "             round(stat.mean(pricediff), 3)\n",
    "            ],\n",
    "    \n",
    "\n",
    "    'StdDev':[round(stat.stdev(local), 3),\n",
    "              round(stat.stdev(online), 3),\n",
    "              round(stat.stdev(pricediff), 3)\n",
    "            ],\n",
    "    \n",
    "     },\n",
    "    \n",
    "    index=['Local', 'Online', 'Pricediff']\n",
    ")\n",
    "\n",
    "summary_of_online_insurance"
   ]
  },
  {
   "cell_type": "code",
   "execution_count": 59,
   "id": "ad6c9514-b426-423a-a88d-c2ec7262d8cd",
   "metadata": {},
   "outputs": [],
   "source": [
    "difference = local - online"
   ]
  },
  {
   "cell_type": "code",
   "execution_count": 86,
   "id": "e0e5b7d5-d1b5-41b9-84ad-56ddc37c7ee5",
   "metadata": {},
   "outputs": [
    {
     "name": "stdout",
     "output_type": "stream",
     "text": [
      "Sum_PriceDiff: 459.000\n",
      "Mean: 45.900\n",
      "StdDev: 175.663\n"
     ]
    }
   ],
   "source": [
    "def sol17():\n",
    "    \n",
    "    d0 = 0\n",
    "    d = difference.mean()\n",
    "    diff_sum = difference.sum()\n",
    "    df = len(difference)-1\n",
    "    sd = difference.std(ddof=1)\n",
    "    \n",
    "    print(f\"Sum_PriceDiff: {diff_sum:.3f}\")\n",
    "    print(f\"Mean: {d:.3f}\")\n",
    "    print(f\"StdDev: {sd:.3f}\")\n",
    "\n",
    "\n",
    "sol17()"
   ]
  },
  {
   "cell_type": "markdown",
   "id": "449e5fa3-c101-4cae-a968-901dc6358caa",
   "metadata": {},
   "source": [
    "**Answer to Problem 17**\n",
    "\n",
    "The Pythagorean Theorem of Statistics only works on the standard deviation of the difference of two proportions and two means summed two variances.  In other words, the variance of the sum or difference of two independent random variables is the sum of their variances.  In the problem 17, the price quotes of the local and online are for a same car, and the local prices and the online price are not independent of each other."
   ]
  },
  {
   "cell_type": "markdown",
   "id": "7df02e4f-1704-4e65-b95c-240c4b458647",
   "metadata": {},
   "source": [
    "**Problem 19**  Online insurance II In Exercise 17, we saw summary statistics for 10 drivers’ car insurance premiums quoted by a local agent and an online company. Here are displays for each company’s quotes and for the difference (Local - Online):\n",
    "\n",
    "a) Which of the summaries would help you decide whether the online company offers cheaper insurance? Why?\n",
    "\n",
    "b) The standard deviation of PriceDiff is quite a bit smaller than the standard deviation of prices quoted by either the local or online companies. Discuss why.\n",
    "\n",
    "c) Using the information you have, discuss the assumptions and conditions for inference with these data."
   ]
  },
  {
   "cell_type": "code",
   "execution_count": 72,
   "id": "b81a3255-d5b0-43c3-ba76-f29cf04657eb",
   "metadata": {},
   "outputs": [
    {
     "data": {
      "image/png": "[encoded data removed]",
      "text/plain": [
       "<Figure size 100x300 with 1 Axes>"
      ]
     },
     "metadata": {},
     "output_type": "display_data"
    }
   ],
   "source": [
    "plt.figure(figsize=(1, 3))\n",
    "local.plot(kind='box', figsize=(1,3));"
   ]
  },
  {
   "cell_type": "code",
   "execution_count": 71,
   "id": "538c9b4e-6b24-4912-9cd6-9f6f1bb53a91",
   "metadata": {},
   "outputs": [
    {
     "data": {
      "image/png": "[encoded data removed]",
      "text/plain": [
       "<Figure size 100x300 with 1 Axes>"
      ]
     },
     "metadata": {},
     "output_type": "display_data"
    }
   ],
   "source": [
    "online.plot(kind='box', figsize=(1,3));"
   ]
  },
  {
   "cell_type": "code",
   "execution_count": 79,
   "id": "ab21ff88-ba30-46a2-ad12-a1997a6d8c45",
   "metadata": {},
   "outputs": [
    {
     "data": {
      "text/plain": [
       "<Axes: >"
      ]
     },
     "execution_count": 79,
     "metadata": {},
     "output_type": "execute_result"
    },
    {
     "data": {
      "image/png": "[encoded data removed]",
      "text/plain": [
       "<Figure size 640x480 with 3 Axes>"
      ]
     },
     "metadata": {},
     "output_type": "display_data"
    }
   ],
   "source": [
    "fig, axes = plt.subplots(1, 3);\n",
    "local.plot(kind='box', ax=axes[1])\n",
    "online.plot(kind='box', ax=axes[2])"
   ]
  },
  {
   "cell_type": "code",
   "execution_count": 85,
   "id": "223064b0-5e2b-4541-b4ed-59ed167f9e17",
   "metadata": {},
   "outputs": [
    {
     "data": {
      "image/png": "[encoded data removed]",
      "text/plain": [
       "<Figure size 640x480 with 1 Axes>"
      ]
     },
     "metadata": {},
     "output_type": "display_data"
    }
   ],
   "source": [
    "plt.hist(pricediff, bins=range(-400, 400, 100), edgecolor='k');"
   ]
  },
  {
   "cell_type": "markdown",
   "id": "ee516643-a694-43a3-a8b4-46e7ff7adbdd",
   "metadata": {},
   "source": [
    "**Answers to Problem 19**\n",
    "\n",
    "(a) The histergram helps me decide the online company offers cheaper insurance as I would like to find out whether a price difference between the local insurance agency and the online company.\n",
    "\n",
    "(b) The local prices and the online prices are paired and they are related to each other.  The local price is high for Car A, then the online price may also high as well.\n",
    "\n",
    "(c) Paired Data Condition: the data must be paired.  The local price and the online price for the same car.\n",
    "    Independence Assumption: Each car must be independece of each other.\n",
    "    Nearly Normal Condition: The population of differences follows a nearly normal model.  Plot a histogram of the differences for checking the nearly normal condition."
   ]
  },
  {
   "cell_type": "markdown",
   "id": "73896d0f-40cd-40db-a849-6d38fbe6ac0f",
   "metadata": {},
   "source": [
    "**Problem 21.** Online insurance III Exercises 17 and 19 give summaries and displays for car insurance premiums quoted by a local agent and an online company. Test an appropriate hypothesis to see if there is evidence that drivers might save money by switching to the online company."
   ]
  },
  {
   "cell_type": "code",
   "execution_count": 88,
   "id": "0aa997c1-1251-4622-ba6d-60effee8bdc2",
   "metadata": {},
   "outputs": [
    {
     "name": "stdout",
     "output_type": "stream",
     "text": [
      "P-value: 0.4300\n"
     ]
    }
   ],
   "source": [
    "def sol21():\n",
    "    \n",
    "    d0 = 0\n",
    "    d = difference.mean()\n",
    "    diff_sum = difference.sum()\n",
    "    df = len(difference)-1\n",
    "    sd = difference.std(ddof=1)\n",
    "    se = sd / sqrt(len(difference))\n",
    "    tscore = (d - d0) / se\n",
    "    pval = (1-t.cdf(tscore, df)) * 2\n",
    "    print(f\"P-value: {pval:.4f}\")\n",
    "\n",
    "\n",
    "sol21()"
   ]
  },
  {
   "cell_type": "markdown",
   "id": "720a32f7-d25f-4a0a-ad8d-a8337d67ef1c",
   "metadata": {},
   "source": [
    "**Answer to Problem 21**  \n",
    "\n",
    "$H_0:$ The insurance premium that quotes by the local agency and the online company has no difference:\n",
    "$\\mu_d = 0$.\n",
    "\n",
    "$H_A:$ The insurance premium that quotes by the local agency is different from the online company:\n",
    "$\\mu_d \\neq 0$.\n",
    "\n",
    "The P-value is 0.43, which is large.  Such large P-value leads me to fail to reject the null hypothesis, and conclude that there is no difference between the insurance premium that quotes by the local agency and the online company."
   ]
  },
  {
   "cell_type": "code",
   "execution_count": null,
   "id": "d27210a6-e554-4f71-9345-fa65ac74f98b",
   "metadata": {},
   "outputs": [],
   "source": []
  }
 ],
 "metadata": {
  "kernelspec": {
   "display_name": "Python 3 (ipykernel)",
   "language": "python",
   "name": "python3"
  },
  "language_info": {
   "codemirror_mode": {
    "name": "ipython",
    "version": 3
   },
   "file_extension": ".py",
   "mimetype": "text/x-python",
   "name": "python",
   "nbconvert_exporter": "python",
   "pygments_lexer": "ipython3",
   "version": "3.11.5"
  }
 },
 "nbformat": 4,
 "nbformat_minor": 5
}
