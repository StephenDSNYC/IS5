{
 "cells": [
  {
   "cell_type": "code",
   "execution_count": 1,
   "id": "556407ef-d955-4015-9c99-fbb0b814e29f",
   "metadata": {},
   "outputs": [],
   "source": [
    "import pandas as pd\n",
    "from math import sqrt\n",
    "from scipy.stats import norm, t\n",
    "import matplotlib.pyplot as plt\n",
    "from numpy import corrcoef\n",
    "import numpy as np\n",
    "import statistics as stat\n",
    "from math import sqrt\n",
    "import seaborn as sns"
   ]
  },
  {
   "cell_type": "code",
   "execution_count": 2,
   "id": "8c6709a2-d9e8-4c82-9911-cbc84b798c60",
   "metadata": {},
   "outputs": [],
   "source": [
    "datafile = \"../../dataset/ch18/online_insurance.txt\"\n",
    "data = pd.read_csv(datafile, sep='\\t')"
   ]
  },
  {
   "cell_type": "code",
   "execution_count": 3,
   "id": "696bfb9e-72de-4028-aab3-ce2291b03e59",
   "metadata": {},
   "outputs": [
    {
     "name": "stdout",
     "output_type": "stream",
     "text": [
      "<class 'pandas.core.frame.DataFrame'>\n",
      "RangeIndex: 10 entries, 0 to 9\n",
      "Data columns (total 3 columns):\n",
      " #   Column     Non-Null Count  Dtype\n",
      "---  ------     --------------  -----\n",
      " 0   Local      10 non-null     int64\n",
      " 1   Online     10 non-null     int64\n",
      " 2   PriceDiff  10 non-null     int64\n",
      "dtypes: int64(3)\n",
      "memory usage: 372.0 bytes\n"
     ]
    }
   ],
   "source": [
    "data.info()"
   ]
  },
  {
   "cell_type": "code",
   "execution_count": 4,
   "id": "b4f03c6c-84a3-4730-8de1-60fba3b4235b",
   "metadata": {},
   "outputs": [
    {
     "data": {
      "text/html": [
       "<div>\n",
       "<style scoped>\n",
       "    .dataframe tbody tr th:only-of-type {\n",
       "        vertical-align: middle;\n",
       "    }\n",
       "\n",
       "    .dataframe tbody tr th {\n",
       "        vertical-align: top;\n",
       "    }\n",
       "\n",
       "    .dataframe thead th {\n",
       "        text-align: right;\n",
       "    }\n",
       "</style>\n",
       "<table border=\"1\" class=\"dataframe\">\n",
       "  <thead>\n",
       "    <tr style=\"text-align: right;\">\n",
       "      <th></th>\n",
       "      <th>Local</th>\n",
       "      <th>Online</th>\n",
       "      <th>PriceDiff</th>\n",
       "    </tr>\n",
       "  </thead>\n",
       "  <tbody>\n",
       "    <tr>\n",
       "      <th>0</th>\n",
       "      <td>568</td>\n",
       "      <td>391</td>\n",
       "      <td>177</td>\n",
       "    </tr>\n",
       "    <tr>\n",
       "      <th>1</th>\n",
       "      <td>872</td>\n",
       "      <td>602</td>\n",
       "      <td>270</td>\n",
       "    </tr>\n",
       "    <tr>\n",
       "      <th>2</th>\n",
       "      <td>451</td>\n",
       "      <td>488</td>\n",
       "      <td>-37</td>\n",
       "    </tr>\n",
       "    <tr>\n",
       "      <th>3</th>\n",
       "      <td>1229</td>\n",
       "      <td>903</td>\n",
       "      <td>326</td>\n",
       "    </tr>\n",
       "    <tr>\n",
       "      <th>4</th>\n",
       "      <td>605</td>\n",
       "      <td>677</td>\n",
       "      <td>-72</td>\n",
       "    </tr>\n",
       "    <tr>\n",
       "      <th>5</th>\n",
       "      <td>1021</td>\n",
       "      <td>1270</td>\n",
       "      <td>-249</td>\n",
       "    </tr>\n",
       "    <tr>\n",
       "      <th>6</th>\n",
       "      <td>783</td>\n",
       "      <td>703</td>\n",
       "      <td>80</td>\n",
       "    </tr>\n",
       "    <tr>\n",
       "      <th>7</th>\n",
       "      <td>844</td>\n",
       "      <td>789</td>\n",
       "      <td>55</td>\n",
       "    </tr>\n",
       "    <tr>\n",
       "      <th>8</th>\n",
       "      <td>907</td>\n",
       "      <td>1008</td>\n",
       "      <td>-101</td>\n",
       "    </tr>\n",
       "    <tr>\n",
       "      <th>9</th>\n",
       "      <td>712</td>\n",
       "      <td>702</td>\n",
       "      <td>10</td>\n",
       "    </tr>\n",
       "  </tbody>\n",
       "</table>\n",
       "</div>"
      ],
      "text/plain": [
       "   Local  Online  PriceDiff\n",
       "0    568     391        177\n",
       "1    872     602        270\n",
       "2    451     488        -37\n",
       "3   1229     903        326\n",
       "4    605     677        -72\n",
       "5   1021    1270       -249\n",
       "6    783     703         80\n",
       "7    844     789         55\n",
       "8    907    1008       -101\n",
       "9    712     702         10"
      ]
     },
     "execution_count": 4,
     "metadata": {},
     "output_type": "execute_result"
    }
   ],
   "source": [
    "data"
   ]
  },
  {
   "cell_type": "markdown",
   "id": "faf0df0c-fc7f-4148-91c8-a714a67d7cad",
   "metadata": {},
   "source": [
    "**Problem 17.** Online insurance I After seeing countless commercials claim- ing one can get cheaper car insurance from an online company, a local insurance agent was concerned that he might lose some customers. To investigate, he randomly selected profiles (type of car, coverage, driving record, etc.) for 10 of his clients and checked online price quotes for their policies. The comparisons are shown in the table below. His statistical software produced the following summaries (where PriceDiff = Local - Online):\n",
    "\n",
    "At first, the insurance agent wondered whether there was some kind of mistake in this output. He thought the Pythagorean Theorem of Statistics should work for finding the standard deviation of the price differences—in other words, that $SD(Local - Online) = sqrt (SD^2 (Local) + SD^2 (Online))$.  But when he checked, he found that $sqrt ((229.281)^2 + (256.267)^2) = 343.864$, not 175.663 as given by the software.  Tell him where his mistake is."
   ]
  },
  {
   "cell_type": "code",
   "execution_count": 5,
   "id": "741d431f-10f4-4229-93e8-cbd3a81dd321",
   "metadata": {},
   "outputs": [],
   "source": [
    "local = data['Local']\n",
    "online = data['Online']\n",
    "pricediff = data['PriceDiff']"
   ]
  },
  {
   "cell_type": "code",
   "execution_count": 14,
   "id": "9b1cfaea-89ae-4c73-8fbe-87943825a081",
   "metadata": {},
   "outputs": [
    {
     "data": {
      "text/plain": [
       "array([[1.        , 0.74361288],\n",
       "       [0.74361288, 1.        ]])"
      ]
     },
     "execution_count": 14,
     "metadata": {},
     "output_type": "execute_result"
    }
   ],
   "source": [
    "corrcoef(local, online)"
   ]
  },
  {
   "cell_type": "code",
   "execution_count": 6,
   "id": "69d91207-89a3-446a-a12e-a35b96ba3895",
   "metadata": {},
   "outputs": [],
   "source": [
    "def iqr(data):\n",
    "    q75, q25 = np.percentile(data, [75, 25])\n",
    "    return q75, q25, q75-q25"
   ]
  },
  {
   "cell_type": "code",
   "execution_count": 7,
   "id": "5204813b-e4c2-4d99-9cf1-606a5230d219",
   "metadata": {},
   "outputs": [
    {
     "data": {
      "text/html": [
       "<div>\n",
       "<style scoped>\n",
       "    .dataframe tbody tr th:only-of-type {\n",
       "        vertical-align: middle;\n",
       "    }\n",
       "\n",
       "    .dataframe tbody tr th {\n",
       "        vertical-align: top;\n",
       "    }\n",
       "\n",
       "    .dataframe thead th {\n",
       "        text-align: right;\n",
       "    }\n",
       "</style>\n",
       "<table border=\"1\" class=\"dataframe\">\n",
       "  <thead>\n",
       "    <tr style=\"text-align: right;\">\n",
       "      <th></th>\n",
       "      <th>Count</th>\n",
       "      <th>Mean</th>\n",
       "      <th>StdDev</th>\n",
       "    </tr>\n",
       "  </thead>\n",
       "  <tbody>\n",
       "    <tr>\n",
       "      <th>Local</th>\n",
       "      <td>10</td>\n",
       "      <td>799.2</td>\n",
       "      <td>229.281</td>\n",
       "    </tr>\n",
       "    <tr>\n",
       "      <th>Online</th>\n",
       "      <td>10</td>\n",
       "      <td>753.3</td>\n",
       "      <td>256.267</td>\n",
       "    </tr>\n",
       "    <tr>\n",
       "      <th>Pricediff</th>\n",
       "      <td>10</td>\n",
       "      <td>45.9</td>\n",
       "      <td>175.663</td>\n",
       "    </tr>\n",
       "  </tbody>\n",
       "</table>\n",
       "</div>"
      ],
      "text/plain": [
       "           Count   Mean   StdDev\n",
       "Local         10  799.2  229.281\n",
       "Online        10  753.3  256.267\n",
       "Pricediff     10   45.9  175.663"
      ]
     },
     "execution_count": 7,
     "metadata": {},
     "output_type": "execute_result"
    }
   ],
   "source": [
    "_q75, _q25, f_iqr = iqr(local)\n",
    "_q75, _q25, m_iqr = iqr(online)\n",
    "_q75, _q25, m_iqr = iqr(pricediff)\n",
    "\n",
    "summary_of_online_insurance= pd.DataFrame(\n",
    "data={\n",
    "\n",
    "    'Count': [ len(local),\n",
    "               len(online),  \n",
    "                len(pricediff) \n",
    "             ],\n",
    "    \n",
    "    'Mean': [round(stat.mean(local), 3),\n",
    "             round(stat.mean(online), 3),\n",
    "             round(stat.mean(pricediff), 3)\n",
    "            ],\n",
    "    \n",
    "\n",
    "    'StdDev':[round(stat.stdev(local), 3),\n",
    "              round(stat.stdev(online), 3),\n",
    "              round(stat.stdev(pricediff), 3)\n",
    "            ],\n",
    "    \n",
    "     },\n",
    "    \n",
    "    index=['Local', 'Online', 'Pricediff']\n",
    ")\n",
    "\n",
    "summary_of_online_insurance"
   ]
  },
  {
   "cell_type": "code",
   "execution_count": 13,
   "id": "e0e5b7d5-d1b5-41b9-84ad-56ddc37c7ee5",
   "metadata": {},
   "outputs": [
    {
     "name": "stdout",
     "output_type": "stream",
     "text": [
      "SD (Local price): 229.28\n",
      "SD (Online price): 256.27\n",
      "SD (Paired difference): 175.66\n",
      "SD (Unpaired): 343.86\n"
     ]
    }
   ],
   "source": [
    "def sol17():\n",
    "    local_sd = local.std(ddof=1)\n",
    "    online_sd = online.std(ddof=1)\n",
    "    paired_sd = pricediff.std(ddof=1)\n",
    "    unpaired_sd = sqrt(local_sd**2 + online_sd**2)\n",
    "\n",
    "    print(f\"SD (Local price): {local_sd:.2f}\")\n",
    "    print(f\"SD (Online price): {online_sd:.2f}\")\n",
    "    print(f\"SD (Paired difference): {paired_sd:.2f}\")\n",
    "    print(f\"SD (Unpaired): {unpaired_sd:.2f}\")\n",
    "sol17()"
   ]
  },
  {
   "cell_type": "markdown",
   "id": "449e5fa3-c101-4cae-a968-901dc6358caa",
   "metadata": {},
   "source": [
    "**Answer to Problem 17**\n",
    "\n",
    "The Pythagorean Theorem of Statistics only works on the standard deviation of the difference of two random variances, <font color=\"red\">assuming that these two variables are independent</font>.  In other words, the variance of the sum/difference of two independent random variables is the sum of their variances.  <font color=\"red\">The agent has assumed that the two columns of quotes are independent when calculating the SD by the Pythagorean Theorem.  Therefore, the agent erred in this calculate, because the two columns are actually paired, i.e., each row corresponds to the quotes for the SAME driver.</font>\n",
    "\n",
    "In the problem 17, the price quotes of the local and online are for a same car, and the local prices and the online price are not independent of each other.\n",
    "\n",
    "<font color=\"red\">To arrive at a correctly calculated SD, the agent should take the difference of the two columns, obtaining the third column (the paired difference).  SD of the difference in pricing is simply the SD of the derived column.</font>"
   ]
  },
  {
   "cell_type": "markdown",
   "id": "7df02e4f-1704-4e65-b95c-240c4b458647",
   "metadata": {},
   "source": [
    "**Problem 19**  Online insurance II In Exercise 17, we saw summary statistics for 10 drivers’ car insurance premiums quoted by a local agent and an online company. Here are displays for each company’s quotes and for the difference (Local - Online):\n",
    "\n",
    "a) Which of the summaries would help you decide whether the online company offers cheaper insurance? Why?\n",
    "\n",
    "b) The standard deviation of PriceDiff is quite a bit smaller than the standard deviation of prices quoted by either the local or online companies. Discuss why.\n",
    "\n",
    "c) Using the information you have, discuss the assumptions and conditions for inference with these data."
   ]
  },
  {
   "cell_type": "code",
   "execution_count": 15,
   "id": "b81a3255-d5b0-43c3-ba76-f29cf04657eb",
   "metadata": {},
   "outputs": [
    {
     "data": {
      "image/png": "[encoded data removed]",
      "text/plain": [
       "<Figure size 100x300 with 1 Axes>"
      ]
     },
     "metadata": {},
     "output_type": "display_data"
    }
   ],
   "source": [
    "plt.figure(figsize=(1, 3))\n",
    "local.plot(kind='box', figsize=(1,3));"
   ]
  },
  {
   "cell_type": "code",
   "execution_count": 16,
   "id": "538c9b4e-6b24-4912-9cd6-9f6f1bb53a91",
   "metadata": {},
   "outputs": [
    {
     "data": {
      "image/png": "[encoded data removed]",
      "text/plain": [
       "<Figure size 100x300 with 1 Axes>"
      ]
     },
     "metadata": {},
     "output_type": "display_data"
    }
   ],
   "source": [
    "online.plot(kind='box', figsize=(1,3));"
   ]
  },
  {
   "cell_type": "code",
   "execution_count": 18,
   "id": "ab21ff88-ba30-46a2-ad12-a1997a6d8c45",
   "metadata": {},
   "outputs": [
    {
     "data": {
      "image/png": "[encoded data removed]",
      "text/plain": [
       "<Figure size 640x480 with 2 Axes>"
      ]
     },
     "metadata": {},
     "output_type": "display_data"
    }
   ],
   "source": [
    "fig, axes = plt.subplots(1, 2);\n",
    "local.plot(kind='box', ax=axes[0]);\n",
    "online.plot(kind='box', ax=axes[1]);"
   ]
  },
  {
   "cell_type": "markdown",
   "id": "97674d1d-3c67-4e8f-b748-eb795b55094c",
   "metadata": {},
   "source": [
    "<font color=\"red\"> **Learn the below cell!** </font>"
   ]
  },
  {
   "cell_type": "code",
   "execution_count": 30,
   "id": "9329058d-ae41-4997-8bb7-8c46a7c336e8",
   "metadata": {},
   "outputs": [
    {
     "data": {
      "image/png": "[encoded data removed]",
      "text/plain": [
       "<Figure size 200x600 with 1 Axes>"
      ]
     },
     "metadata": {},
     "output_type": "display_data"
    }
   ],
   "source": [
    "def snsboxplot():\n",
    "    d = {'Price': local.tolist() + online.tolist(),\n",
    "         'Quoter': ['Local']*10 + ['Online']*10,\n",
    "        }\n",
    "    data_stack = pd.DataFrame(data=d)\n",
    "    plt.figure(figsize=(2, 6))\n",
    "    sns.boxplot(data=data_stack, x='Quoter', y='Price')\n",
    "snsboxplot()"
   ]
  },
  {
   "cell_type": "code",
   "execution_count": 19,
   "id": "223064b0-5e2b-4541-b4ed-59ed167f9e17",
   "metadata": {},
   "outputs": [
    {
     "data": {
      "image/png": "[encoded data removed]",
      "text/plain": [
       "<Figure size 640x480 with 1 Axes>"
      ]
     },
     "metadata": {},
     "output_type": "display_data"
    }
   ],
   "source": [
    "plt.hist(pricediff, bins=range(-400, 400, 100), edgecolor='k');"
   ]
  },
  {
   "cell_type": "markdown",
   "id": "ee516643-a694-43a3-a8b4-46e7ff7adbdd",
   "metadata": {},
   "source": [
    "**Answers to Problem 19**\n",
    "\n",
    "(a) The histogram helps me decide whether the online company offers cheaper insurance, as I would be able to find out whether a paired price difference between the local insurance agency and the online company is positive (**a positive difference is intepreted as cheaper plans offered by the online company**).\n",
    "\n",
    "**On the other hand, I could draw little conclusion by viewing the side-by-side box plots.  This is because the box plots offer insights into the comparison of two independent samples, namely comparing the difference in their centers relative to the spread.**\n",
    "\n",
    "(b) The local prices and the online prices are paired and they are related to each other.  The local price is high for Car A, then the online price may also high as well.\n",
    "\n",
    "**The \"local\" sample and the \"online\" sample have their respective SDs of 229 and 256, in constrast to the SD of the paired difference, 176, which is noticeably smaller.  This reduction in SD is due to the correlation of the two samples.  The sample SDs measure intra-sample spread.  Once pair-wise differences are taken, deviation in the same direction are at least partially cancelled.  For example, for a given driver with a car, the local agent and the online company may both offer a higher or lower price relative to their typical price, leading to the difference in their prices not much different from their typical difference in pricing.**\n",
    "\n",
    "**In an extreme example, if both the local agent and the online company apply the same adjustment to a base price (which can be different for the two sources), there would be no variance in their price differences.**\n",
    "\n",
    "(c) Paired Data Condition: the data are paired.  The local price and the online price for the same car.\n",
    "\n",
    "Independence Assumption: Each car must be independece of each other.  **The rows in the table are independent. \n",
    " \"The agent randomly selected 10 of his clients!\"**\n",
    "    \n",
    "Nearly Normal Condition: The population of differences follows a nearly normal model.  Plot a histogram of the differences for checking the nearly normal condition.  **The histogram shows a unimodal, symmetric plot with no obvious outlier.  We may assume that the near normal condition is satisfied.**"
   ]
  },
  {
   "cell_type": "markdown",
   "id": "73896d0f-40cd-40db-a849-6d38fbe6ac0f",
   "metadata": {},
   "source": [
    "**Problem 21.** Online insurance III Exercises 17 and 19 give summaries and displays for car insurance premiums quoted by a local agent and an online company. Test an appropriate hypothesis to see if there is evidence that drivers might save money by switching to the online company."
   ]
  },
  {
   "cell_type": "code",
   "execution_count": 31,
   "id": "0aa997c1-1251-4622-ba6d-60effee8bdc2",
   "metadata": {},
   "outputs": [
    {
     "name": "stdout",
     "output_type": "stream",
     "text": [
      "P-value: 0.4300\n"
     ]
    }
   ],
   "source": [
    "def sol21():\n",
    "    d0 = 0\n",
    "    d = pricediff.mean()\n",
    "    df = len(pricediff)-1\n",
    "    sd = pricediff.std(ddof=1)\n",
    "    se = sd / sqrt(len(pricediff))\n",
    "    tscore = (d - d0) / se\n",
    "    pval = (1-t.cdf(tscore, df)) * 2\n",
    "    print(f\"P-value: {pval:.4f}\")\n",
    "    \n",
    "sol21()"
   ]
  },
  {
   "cell_type": "markdown",
   "id": "720a32f7-d25f-4a0a-ad8d-a8337d67ef1c",
   "metadata": {},
   "source": [
    "**Answer to Problem 21**  \n",
    "\n",
    "$H_0:$ The insurance premium quoted by the local agency is the same as that by the online company:\n",
    "$\\mu_d = 0$.\n",
    "\n",
    "$H_A:$ The insurance premium quoted by the local agency is different from the online company:\n",
    "$\\mu_d \\neq 0$.\n",
    "\n",
    "The P-value, 0.43, is large. Such large P-value leads me to conclude that based on the given data, we fail to reject the null hypothesis. We retain the belief that there is little difference between the quotes."
   ]
  },
  {
   "cell_type": "markdown",
   "id": "71d32a10-38e4-4a91-a109-10dce2dcda3c",
   "metadata": {},
   "source": [
    "There is little difference.\n",
    "\n",
    "There is hardly any difference."
   ]
  }
 ],
 "metadata": {
  "kernelspec": {
   "display_name": "Python 3 (ipykernel)",
   "language": "python",
   "name": "python3"
  },
  "language_info": {
   "codemirror_mode": {
    "name": "ipython",
    "version": 3
   },
   "file_extension": ".py",
   "mimetype": "text/x-python",
   "name": "python",
   "nbconvert_exporter": "python",
   "pygments_lexer": "ipython3",
   "version": "3.11.5"
  }
 },
 "nbformat": 4,
 "nbformat_minor": 5
}
