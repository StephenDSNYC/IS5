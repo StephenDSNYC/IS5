{
 "cells": [
  {
   "cell_type": "markdown",
   "id": "d59c1ad5",
   "metadata": {},
   "source": [
    "# Equivalence, Invertible Functions, z-Scores, and Simple Linear Regression"
   ]
  },
  {
   "cell_type": "markdown",
   "id": "89269c80",
   "metadata": {},
   "source": [
    "## 1. Equivalence through invertible functions"
   ]
  },
  {
   "cell_type": "markdown",
   "id": "a82148eb",
   "metadata": {},
   "source": [
    "In mathematics, we sometimes consider two entities as *equivalent* to each other.\n",
    "\n",
    "What do we mean by equivalence?  There comes many definitions from different perspectives.  As one definition, we can think in terms of (mathematical) *functions*.\n",
    "\n",
    "For example, **consider $y = f(x) = 2 x$.**\n",
    "\n",
    "**NOTE:** Here $f$ is a symbol for a functional entity that we define and discuss.  The symbol itself is less important than the meaning it conveys.  We can call it $f$, or we can rename it to $g(x)$.  The naming matters less than the fact that this function maps a quantity to double the amount of the quantity.\n",
    "\n",
    "As $y$ is connected to $x$ through $f$, we know that $y$ is simply twice as much as $x$ is.\n",
    "\n",
    "In a concrete example, we invite couples to our party.  $x$ may stand for the number of couples attending our party, and $y$ then stands for the number of guests in attendance.\n",
    "\n",
    "Furthermore, the naming of the variables inside the parenthese and returned by $f$ are just convention.  We do not have to stick to $x$ and $y$, as we may use any name to our liking, or deemed appropriate in the context.  For example, we may as well have \n",
    "\n",
    "number_of_guests = $f($ number_of_couples $)$"
   ]
  },
  {
   "cell_type": "markdown",
   "id": "788860f7",
   "metadata": {},
   "source": [
    "We say that the above $f$ establishes an equivalent relation between $x$ and $y$ for reasons as follows."
   ]
  },
  {
   "cell_type": "markdown",
   "id": "99e15090",
   "metadata": {},
   "source": [
    "**$f$, as a function, has an inverse function, which we usually denote as $f^{-1}$.**\n",
    "\n",
    "$x = f^{-1}(y) = \\frac{1}{2} y$\n",
    "\n",
    "**NOTE:**  We may as well define $u = f^{-1}(t) = \\frac{1}{2} t$, which is the same inverse function.  The definition is not altered by renaming varialbes."
   ]
  },
  {
   "cell_type": "markdown",
   "id": "335ff7b4",
   "metadata": {},
   "source": [
    "Note that the inverse of an inverse is the original.  Therefore, we say $f$ and $f^{-1}$ are mutually inverse functions.  In general we have:\n",
    "\n",
    "$f^{-1}(f(x)) = x$\n",
    "\n",
    "$f(f^{-1}(y)) = y$\n",
    "\n",
    "Successive application of a function followed by its inverse gives us identity ($I(x) = x$)."
   ]
  },
  {
   "cell_type": "markdown",
   "id": "22140f6e",
   "metadata": {},
   "source": [
    "Then why we can say that the above $f$ establishes an equivalence between $x$ and $y$?\n",
    "\n",
    "Suppose you know $x$, can you deduce the value of $y$?  Yes, simply multiply it by 2.\n",
    "\n",
    "On the other hand, if you are given the value of $y$, you may divide it by 2 to obtain $x$.\n",
    "\n",
    "It does not matter which piece of information between $x$ and $y$ is provided to you, as you can always deduce the missing piece.  Therefore, knowing $x$ is exactly the same as knowing $y$.\n"
   ]
  },
  {
   "cell_type": "markdown",
   "id": "ca50a2f7",
   "metadata": {},
   "source": [
    "**NOTE**: Not all functions have inverse.  Trivally, suppose you have $f(x) = 0$.  This function has no inverse.  Given the function result of $0$, you cannot deduce what the original value of $x$ is that has resulted in this $0$ result.\n",
    "\n",
    "Another example is $y = f(x) = x^2$.  Because $(-2)^2 = 2^2 = 4$.  Given that $f(x) = 4$, you cannot say which $y$ is mapped to by $f^{-1}$, so non-existence. "
   ]
  },
  {
   "cell_type": "markdown",
   "id": "3e3911ce",
   "metadata": {},
   "source": [
    "**Takeaway**: if a function has its inverse, then that function (or its inverse) has established an equivalence between the input (independent varialbe) and the result (dependent variable)."
   ]
  },
  {
   "cell_type": "markdown",
   "id": "56994126",
   "metadata": {},
   "source": [
    "## 2. Z-score is an invertible map"
   ]
  },
  {
   "cell_type": "markdown",
   "id": "b3263ac5",
   "metadata": {},
   "source": [
    "Think about the below function, suppose we know $\\bar{x}$ and $S_x$ as constants.\n",
    "\n",
    "$z_x = z_x(x) = \\frac{x - \\bar{x}}{S_x}$"
   ]
  },
  {
   "cell_type": "markdown",
   "id": "682d6074",
   "metadata": {},
   "source": [
    "This is how z-score is computed for an observed sample point.  One claim is that this computation, if you think of it as a function, is invertible.  This means that, while if I give you $x$ you can compute $z_x$, if on the other hand I give you $z_x$, you can easily compute the value of $x$ by\n",
    "\n",
    "$x = \\bar{x} + z_x S_x$"
   ]
  },
  {
   "cell_type": "markdown",
   "id": "7c4d59b0",
   "metadata": {},
   "source": [
    "Therefore, knowing $x$ is equivalent to knowing the z-score of $x$, i.e., $z_x$."
   ]
  },
  {
   "cell_type": "markdown",
   "id": "8fa0de89",
   "metadata": {},
   "source": [
    "**Takeaway**: In statistics, when talking about a dataset, a data point, a measurement of certain physical quantity, etc., it does not matter if we refer to the original value, or to the z-score that values corresponds to. "
   ]
  },
  {
   "cell_type": "markdown",
   "id": "e1c1f5bf",
   "metadata": {},
   "source": [
    "## 3. Simple Linear Regression in z-scores"
   ]
  },
  {
   "cell_type": "markdown",
   "id": "38c77028",
   "metadata": {},
   "source": [
    "In class we see that, for two variables $x$ and $y$, we can find a best fitting line that models a linear association between the variables, which is given as\n",
    "\n",
    "$\\hat{y} = b_0 + b_1 x$  (where $y = \\hat{y} + e$, and $e$ is residue)\n",
    "\n",
    "We also know that \n",
    "\n",
    "$b_1 = r \\frac{S_y}{S_x}$\n",
    "\n",
    "and $b_0$ is given in the equation\n",
    "\n",
    "$\\bar{y} = b_0 + b_1 \\bar{x}$"
   ]
  },
  {
   "cell_type": "markdown",
   "id": "0bbeb2af",
   "metadata": {},
   "source": [
    "Now suppose we express the data by their z-scores.  In other words, instead of representing our quantities by the original measures, we talk about each data point as a number (z-score in absolute value) of standard deviations above/below the mean.  This means that we are dealing with $z_x$ and $z_y$ in equivalence.\n",
    "\n",
    "The z-scores can be modeled in a linear relation.\n",
    "\n",
    "$\\hat{z}_y = \\beta_0 + \\beta_1 z_x$  (where $z_y = \\hat{z}_y + \\epsilon$, and $\\epsilon$ is residue)"
   ]
  },
  {
   "cell_type": "markdown",
   "id": "19575b5a",
   "metadata": {},
   "source": [
    "By definition, we know that the z-scores have mean 0 and standard deviation of 1, and the linear correlation coefficent is unchanged."
   ]
  },
  {
   "cell_type": "markdown",
   "id": "59249abc",
   "metadata": {},
   "source": [
    "$\\beta_1 = r \\frac{1}{1} = r$\n",
    "\n",
    "$0 = \\beta_0 + r \\times 0$, so $\\beta_0 = 0$\n",
    "\n",
    "We have thus reached a very simple conclusion that"
   ]
  },
  {
   "cell_type": "markdown",
   "id": "71b5b7b1",
   "metadata": {},
   "source": [
    "$\\hat{z}_y = r z_x$  (*)"
   ]
  },
  {
   "cell_type": "markdown",
   "id": "e2b848ec",
   "metadata": {},
   "source": [
    "The correlation coefficient is the slope in this linear regression on the z-scores."
   ]
  }
 ],
 "metadata": {
  "kernelspec": {
   "display_name": "Python 3 (ipykernel)",
   "language": "python",
   "name": "python3"
  },
  "language_info": {
   "codemirror_mode": {
    "name": "ipython",
    "version": 3
   },
   "file_extension": ".py",
   "mimetype": "text/x-python",
   "name": "python",
   "nbconvert_exporter": "python",
   "pygments_lexer": "ipython3",
   "version": "3.11.3"
  }
 },
 "nbformat": 4,
 "nbformat_minor": 5
}
