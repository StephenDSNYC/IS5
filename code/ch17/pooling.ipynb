{
 "cells": [
  {
   "cell_type": "code",
   "execution_count": 1,
   "id": "c3e49250-efff-4276-bad8-fa76bcccb8da",
   "metadata": {},
   "outputs": [],
   "source": [
    "from math import sqrt"
   ]
  },
  {
   "cell_type": "code",
   "execution_count": 2,
   "id": "ce62aa53-5750-460d-8578-4972ed78803b",
   "metadata": {},
   "outputs": [],
   "source": [
    "def se_pool(p1, p2, n1, n2):\n",
    "    q1 = 1 - p1\n",
    "    q2 = 1 - p2\n",
    "    se = sqrt(p1*q1/n1 + p2*q2/n2)\n",
    "    p_pool = (n1*p1 + n2*p2) / (n1 + n2)\n",
    "    q_pool = 1 - p_pool\n",
    "    se_pool = sqrt(p_pool*q_pool/n1 + p_pool*q_pool/n2)\n",
    "    print(f\"SE (not pooled): {se}\")\n",
    "    print(f\"SE (pooled): {se_pool}\")\n",
    "    print(f\"z-score (not pooled): {(p1-p2)/se}\")\n",
    "    print(f\"z-score (pooled): {(p1-p2)/se_pool}\")"
   ]
  },
  {
   "cell_type": "code",
   "execution_count": 3,
   "id": "8fdafea1-960c-47c4-9da5-7c9da91fdede",
   "metadata": {},
   "outputs": [
    {
     "name": "stdout",
     "output_type": "stream",
     "text": [
      "SE (not pooled): 0.0670820393249937\n",
      "SE (pooled): 0.06745368781616021\n",
      "z-score (not pooled): 1.4907119849998602\n",
      "z-score (pooled): 1.4824986333222028\n"
     ]
    }
   ],
   "source": [
    "se_pool(0.4, 0.3, 100, 100)"
   ]
  },
  {
   "cell_type": "code",
   "execution_count": 4,
   "id": "befc72fe-e1b3-423e-aad6-0316ea6a855f",
   "metadata": {},
   "outputs": [
    {
     "name": "stdout",
     "output_type": "stream",
     "text": [
      "SE (not pooled): 0.06164414002968976\n",
      "SE (pooled): 0.06115553940568262\n",
      "z-score (not pooled): 1.622214211307626\n",
      "z-score (pooled): 1.635174850419322\n"
     ]
    }
   ],
   "source": [
    "se_pool(0.4, 0.3, 100, 150)"
   ]
  },
  {
   "cell_type": "code",
   "execution_count": 5,
   "id": "06e96516-d2ac-45bb-ab1b-c87df00ecd10",
   "metadata": {},
   "outputs": [
    {
     "name": "stdout",
     "output_type": "stream",
     "text": [
      "SE (not pooled): 0.05477225575051661\n",
      "SE (pooled): 0.05507570547286102\n",
      "z-score (not pooled): 1.8257418583505542\n",
      "z-score (pooled): 1.815682598006408\n"
     ]
    }
   ],
   "source": [
    "se_pool(0.4, 0.3, 150, 150)"
   ]
  },
  {
   "cell_type": "code",
   "execution_count": 6,
   "id": "3b3b7ce6-513c-452f-9fe7-2dce5652cc34",
   "metadata": {},
   "outputs": [
    {
     "name": "stdout",
     "output_type": "stream",
     "text": [
      "SE (not pooled): 0.05873670062235365\n",
      "SE (pooled): 0.057735026918962574\n",
      "z-score (not pooled): 1.702513061517498\n",
      "z-score (pooled): 1.7320508075688779\n"
     ]
    }
   ],
   "source": [
    "se_pool(0.4, 0.3, 100, 200)"
   ]
  },
  {
   "cell_type": "code",
   "execution_count": 7,
   "id": "bb2e8859-0635-4ce9-b37a-96691abeb6db",
   "metadata": {},
   "outputs": [
    {
     "name": "stdout",
     "output_type": "stream",
     "text": [
      "SE (not pooled): 0.05744562646538029\n",
      "SE (pooled): 0.059019770698752576\n",
      "z-score (not pooled): 1.7407765595569789\n",
      "z-score (pooled): 1.6943474841747157\n"
     ]
    }
   ],
   "source": [
    "se_pool(0.4, 0.3, 200, 100)"
   ]
  },
  {
   "cell_type": "code",
   "execution_count": 10,
   "id": "32767fd7-de9d-4558-821a-42c0d04af2ee",
   "metadata": {},
   "outputs": [
    {
     "name": "stdout",
     "output_type": "stream",
     "text": [
      "SE (not pooled): 0.06739436178197698\n",
      "SE (pooled): 0.06745368781616021\n",
      "z-score (not pooled): 0.5935214599909904\n",
      "z-score (pooled): 0.5929994533288806\n"
     ]
    }
   ],
   "source": [
    "se_pool(0.37, 0.33, 100, 100)"
   ]
  },
  {
   "cell_type": "code",
   "execution_count": 11,
   "id": "ffb8ca48-98cb-4b23-b74a-cac7af32f1bd",
   "metadata": {},
   "outputs": [
    {
     "name": "stdout",
     "output_type": "stream",
     "text": [
      "SE (not pooled): 0.02131196846844514\n",
      "SE (pooled): 0.02133072900770154\n",
      "z-score (not pooled): 1.8768796537600294\n",
      "z-score (pooled): 1.8752289237539808\n"
     ]
    }
   ],
   "source": [
    "se_pool(0.37, 0.33, 1000, 1000)"
   ]
  },
  {
   "cell_type": "code",
   "execution_count": 30,
   "id": "d1b790f8-a970-4d89-839a-de47a35646d3",
   "metadata": {},
   "outputs": [],
   "source": [
    "def se_pool_mean(s1, s2, n1, n2):\n",
    "    se = sqrt(s1**2/n1 + s2**2/n2)\n",
    "    s_pool_sq =  ((n1-1)*s1**2 + (n2-1)*s2**2)/(n1+n2-2)\n",
    "    se_pool = sqrt(s_pool_sq**2/n1 + s_pool_sq**2/n2)\n",
    "    print(f\"S_pool: {sqrt(s_pool_sq)}\")\n",
    "    print(f\"SE (not pooled): {se}\")\n",
    "    print(f\"SE (pooled): {se_pool}\")\n",
    "    # print(f\"z-score (not pooled): {(p1-p2)/se}\")\n",
    "    # print(f\"z-score (pooled): {(p1-p2)/se_pool}\")"
   ]
  },
  {
   "cell_type": "code",
   "execution_count": 31,
   "id": "99952a66-f523-467d-8853-78938d0f5582",
   "metadata": {},
   "outputs": [
    {
     "name": "stdout",
     "output_type": "stream",
     "text": [
      "S_pool: 1.8809865411248898\n",
      "SE (not pooled): 0.14177446878757824\n",
      "SE (pooled): 0.3875805718875771\n"
     ]
    }
   ],
   "source": [
    "se_pool_mean(2.0, 1.1, 500, 100)"
   ]
  },
  {
   "cell_type": "code",
   "execution_count": null,
   "id": "ec0e1684-4dbb-4f33-8487-b16a7c1afc33",
   "metadata": {},
   "outputs": [],
   "source": []
  },
  {
   "cell_type": "code",
   "execution_count": null,
   "id": "73531109-6f89-4434-ba89-73645591bcc8",
   "metadata": {},
   "outputs": [],
   "source": []
  }
 ],
 "metadata": {
  "kernelspec": {
   "display_name": "Python 3 (ipykernel)",
   "language": "python",
   "name": "python3"
  },
  "language_info": {
   "codemirror_mode": {
    "name": "ipython",
    "version": 3
   },
   "file_extension": ".py",
   "mimetype": "text/x-python",
   "name": "python",
   "nbconvert_exporter": "python",
   "pygments_lexer": "ipython3",
   "version": "3.11.5"
  }
 },
 "nbformat": 4,
 "nbformat_minor": 5
}
