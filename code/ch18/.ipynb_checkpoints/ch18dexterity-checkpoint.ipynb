{
 "cells": [
  {
   "cell_type": "code",
   "execution_count": 22,
   "id": "b6ab46ed-fada-4883-b05b-feb8c30ea19b",
   "metadata": {},
   "outputs": [],
   "source": [
    "import pandas as pd\n",
    "from math import sqrt\n",
    "from scipy.stats import norm, t\n",
    "import matplotlib.pyplot as plt\n",
    "from numpy import corrcoef"
   ]
  },
  {
   "cell_type": "code",
   "execution_count": 23,
   "id": "99d8e2b5-5756-4a6c-b588-8cddacac713c",
   "metadata": {},
   "outputs": [],
   "source": [
    "datafile = \"../../dataset/ch18/dexterity.txt\"\n",
    "data = pd.read_csv(datafile, sep='\\t')"
   ]
  },
  {
   "cell_type": "code",
   "execution_count": 24,
   "id": "c68b9a2c-12ab-4d88-afa9-7da0201ac76c",
   "metadata": {},
   "outputs": [
    {
     "name": "stdout",
     "output_type": "stream",
     "text": [
      "<class 'pandas.core.frame.DataFrame'>\n",
      "RangeIndex: 93 entries, 0 to 92\n",
      "Data columns (total 8 columns):\n",
      " #   Column         Non-Null Count  Dtype  \n",
      "---  ------         --------------  -----  \n",
      " 0   Age(months)    68 non-null     float64\n",
      " 1   Gender         93 non-null     object \n",
      " 2   Dominant Hand  93 non-null     object \n",
      " 3   Dominant       93 non-null     float64\n",
      " 4   non-dominant   93 non-null     float64\n",
      " 5   Dominant.1     93 non-null     float64\n",
      " 6   Non-dominant   93 non-null     float64\n",
      " 7   Differences    93 non-null     float64\n",
      "dtypes: float64(6), object(2)\n",
      "memory usage: 5.9+ KB\n"
     ]
    }
   ],
   "source": [
    "data.info()"
   ]
  },
  {
   "cell_type": "code",
   "execution_count": 5,
   "id": "6ef08326-daeb-4e9c-898b-68945b5c03db",
   "metadata": {},
   "outputs": [
    {
     "data": {
      "text/html": [
       "<div>\n",
       "<style scoped>\n",
       "    .dataframe tbody tr th:only-of-type {\n",
       "        vertical-align: middle;\n",
       "    }\n",
       "\n",
       "    .dataframe tbody tr th {\n",
       "        vertical-align: top;\n",
       "    }\n",
       "\n",
       "    .dataframe thead th {\n",
       "        text-align: right;\n",
       "    }\n",
       "</style>\n",
       "<table border=\"1\" class=\"dataframe\">\n",
       "  <thead>\n",
       "    <tr style=\"text-align: right;\">\n",
       "      <th></th>\n",
       "      <th>Age(months)</th>\n",
       "      <th>Gender</th>\n",
       "      <th>Dominant Hand</th>\n",
       "      <th>Dominant</th>\n",
       "      <th>non-dominant</th>\n",
       "      <th>Dominant.1</th>\n",
       "      <th>Non-dominant</th>\n",
       "      <th>Differences</th>\n",
       "    </tr>\n",
       "  </thead>\n",
       "  <tbody>\n",
       "    <tr>\n",
       "      <th>0</th>\n",
       "      <td>117.0</td>\n",
       "      <td>male</td>\n",
       "      <td>right</td>\n",
       "      <td>0.022085</td>\n",
       "      <td>0.013515</td>\n",
       "      <td>0.353357</td>\n",
       "      <td>0.216245</td>\n",
       "      <td>0.137111</td>\n",
       "    </tr>\n",
       "    <tr>\n",
       "      <th>1</th>\n",
       "      <td>101.0</td>\n",
       "      <td>male</td>\n",
       "      <td>right</td>\n",
       "      <td>0.016075</td>\n",
       "      <td>0.021468</td>\n",
       "      <td>0.257193</td>\n",
       "      <td>0.343495</td>\n",
       "      <td>-0.086302</td>\n",
       "    </tr>\n",
       "    <tr>\n",
       "      <th>2</th>\n",
       "      <td>135.0</td>\n",
       "      <td>male</td>\n",
       "      <td>right</td>\n",
       "      <td>0.033535</td>\n",
       "      <td>0.031085</td>\n",
       "      <td>0.536553</td>\n",
       "      <td>0.497358</td>\n",
       "      <td>0.039195</td>\n",
       "    </tr>\n",
       "    <tr>\n",
       "      <th>3</th>\n",
       "      <td>119.0</td>\n",
       "      <td>male</td>\n",
       "      <td>right</td>\n",
       "      <td>0.027732</td>\n",
       "      <td>0.031008</td>\n",
       "      <td>0.443705</td>\n",
       "      <td>0.496124</td>\n",
       "      <td>-0.052419</td>\n",
       "    </tr>\n",
       "    <tr>\n",
       "      <th>4</th>\n",
       "      <td>124.0</td>\n",
       "      <td>female</td>\n",
       "      <td>right</td>\n",
       "      <td>0.030175</td>\n",
       "      <td>0.024254</td>\n",
       "      <td>0.482800</td>\n",
       "      <td>0.388067</td>\n",
       "      <td>0.094733</td>\n",
       "    </tr>\n",
       "  </tbody>\n",
       "</table>\n",
       "</div>"
      ],
      "text/plain": [
       "   Age(months)  Gender Dominant Hand  Dominant  non-dominant  Dominant.1  \\\n",
       "0        117.0    male         right  0.022085      0.013515    0.353357   \n",
       "1        101.0    male         right  0.016075      0.021468    0.257193   \n",
       "2        135.0    male         right  0.033535      0.031085    0.536553   \n",
       "3        119.0    male         right  0.027732      0.031008    0.443705   \n",
       "4        124.0  female         right  0.030175      0.024254    0.482800   \n",
       "\n",
       "   Non-dominant  Differences  \n",
       "0      0.216245     0.137111  \n",
       "1      0.343495    -0.086302  \n",
       "2      0.497358     0.039195  \n",
       "3      0.496124    -0.052419  \n",
       "4      0.388067     0.094733  "
      ]
     },
     "execution_count": 5,
     "metadata": {},
     "output_type": "execute_result"
    }
   ],
   "source": [
    "data.head()"
   ]
  },
  {
   "cell_type": "code",
   "execution_count": 6,
   "id": "754d1dc0-3a82-44ca-88bf-53ae43dd3314",
   "metadata": {},
   "outputs": [],
   "source": [
    "domhand = data['Dominant.1']\n",
    "nonhand = data['Non-dominant']"
   ]
  },
  {
   "cell_type": "code",
   "execution_count": 9,
   "id": "7a6383eb-1f09-4d12-964e-d912580ee858",
   "metadata": {},
   "outputs": [
    {
     "data": {
      "text/plain": [
       "array([[1.        , 0.52122655],\n",
       "       [0.52122655, 1.        ]])"
      ]
     },
     "execution_count": 9,
     "metadata": {},
     "output_type": "execute_result"
    }
   ],
   "source": [
    "corrcoef(domhand, nonhand)"
   ]
  },
  {
   "cell_type": "code",
   "execution_count": 21,
   "id": "501353c1-6d8e-4ddb-acc2-f2fe1329a746",
   "metadata": {},
   "outputs": [
    {
     "data": {
      "image/png": "[encoded data removed]",
      "text/plain": [
       "<Figure size 640x480 with 1 Axes>"
      ]
     },
     "metadata": {},
     "output_type": "display_data"
    }
   ],
   "source": [
    "plt.plot(domhand, nonhand, 'ro');\n",
    "plt.plot(domhand, domhand, 'k-');\n",
    "plt.xlabel('Dominant Hand');\n",
    "plt.ylabel('Non-dominant Hand');\n",
    "plt.axis('equal')\n",
    "plt.axis([0.2, 1.05, 0.2, 0.8]);"
   ]
  },
  {
   "cell_type": "code",
   "execution_count": 35,
   "id": "714f8996-fc7f-4147-a5d1-2ae7681a3d18",
   "metadata": {},
   "outputs": [],
   "source": [
    "difference = data['Differences']"
   ]
  },
  {
   "cell_type": "code",
   "execution_count": 36,
   "id": "8e22843f-8219-4c5a-82b6-48441019d35d",
   "metadata": {},
   "outputs": [
    {
     "data": {
      "image/png": "[encoded data removed]",
      "text/plain": [
       "<Figure size 640x480 with 1 Axes>"
      ]
     },
     "metadata": {},
     "output_type": "display_data"
    }
   ],
   "source": [
    "plt.hist(difference, bins=15);"
   ]
  },
  {
   "cell_type": "code",
   "execution_count": 37,
   "id": "dc7cc055-7784-4b0d-8ea8-6ed138d97271",
   "metadata": {},
   "outputs": [
    {
     "name": "stdout",
     "output_type": "stream",
     "text": [
      "P-value: 1.45e-04\n"
     ]
    }
   ],
   "source": [
    "def test():\n",
    "    d0 = 0\n",
    "    d = difference.mean()\n",
    "    sd = difference.std(ddof=1)\n",
    "    se = sd / sqrt(len(difference))\n",
    "    tscore = (d - d0) / se\n",
    "    df = len(difference) - 1\n",
    "    pval = 2 * (1-t.cdf(tscore, df))\n",
    "    print(f\"P-value: {pval:.2e}\")\n",
    "\n",
    "test()"
   ]
  },
  {
   "cell_type": "code",
   "execution_count": 38,
   "id": "74ec09b1-abef-4c93-ba2e-7a1bc9fc909b",
   "metadata": {},
   "outputs": [
    {
     "name": "stdout",
     "output_type": "stream",
     "text": [
      "95.0% CI: (0.027057, 0.081345)\n"
     ]
    }
   ],
   "source": [
    "def interval(alpha):\n",
    "    d = difference.mean()\n",
    "    sd = difference.std(ddof=1)\n",
    "    se = sd / sqrt(len(difference))\n",
    "    df = len(difference) - 1\n",
    "    crit = t.ppf(1 - alpha/2, df)\n",
    "    me = crit * se\n",
    "    print(f\"{100-alpha*100}% CI: ({d-me:.6f}, {d+me:.6f})\")\n",
    "\n",
    "interval(0.05)"
   ]
  },
  {
   "cell_type": "code",
   "execution_count": null,
   "id": "95e734fe-1b4a-4e61-af62-7a00172be8a2",
   "metadata": {},
   "outputs": [],
   "source": []
  }
 ],
 "metadata": {
  "kernelspec": {
   "display_name": "Python 3 (ipykernel)",
   "language": "python",
   "name": "python3"
  },
  "language_info": {
   "codemirror_mode": {
    "name": "ipython",
    "version": 3
   },
   "file_extension": ".py",
   "mimetype": "text/x-python",
   "name": "python",
   "nbconvert_exporter": "python",
   "pygments_lexer": "ipython3",
   "version": "3.11.5"
  }
 },
 "nbformat": 4,
 "nbformat_minor": 5
}
