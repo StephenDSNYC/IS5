{
 "cells": [
  {
   "cell_type": "code",
   "execution_count": 1,
   "id": "337939e2-931e-4fbd-a364-898648e9809a",
   "metadata": {},
   "outputs": [],
   "source": [
    "import pandas as pd\n",
    "from math import sqrt\n",
    "from scipy.stats import norm, t\n",
    "import matplotlib.pyplot as plt\n",
    "from numpy import corrcoef"
   ]
  },
  {
   "cell_type": "code",
   "execution_count": 2,
   "id": "0e4d87ee-1b0d-4ffa-8804-a47f64b2e8e3",
   "metadata": {},
   "outputs": [],
   "source": [
    "datafile = \"../../dataset/ch18/couples.txt\"\n",
    "data = pd.read_csv(datafile, sep='\\t')"
   ]
  },
  {
   "cell_type": "code",
   "execution_count": 3,
   "id": "03e7912f-b853-456e-a046-0b9f419e5644",
   "metadata": {},
   "outputs": [
    {
     "name": "stdout",
     "output_type": "stream",
     "text": [
      "<class 'pandas.core.frame.DataFrame'>\n",
      "RangeIndex: 201 entries, 0 to 200\n",
      "Data columns (total 5 columns):\n",
      " #   Column   Non-Null Count  Dtype  \n",
      "---  ------   --------------  -----  \n",
      " 0   Names    201 non-null    object \n",
      " 1   wAge     199 non-null    object \n",
      " 2   hAge     199 non-null    float64\n",
      " 3   wHeight  199 non-null    float64\n",
      " 4   hHeight  199 non-null    float64\n",
      "dtypes: float64(3), object(2)\n",
      "memory usage: 8.0+ KB\n"
     ]
    }
   ],
   "source": [
    "data.info()"
   ]
  },
  {
   "cell_type": "code",
   "execution_count": 4,
   "id": "6e3dedbb-1c67-4ef2-81e4-4fd1f9066620",
   "metadata": {},
   "outputs": [
    {
     "data": {
      "text/html": [
       "<div>\n",
       "<style scoped>\n",
       "    .dataframe tbody tr th:only-of-type {\n",
       "        vertical-align: middle;\n",
       "    }\n",
       "\n",
       "    .dataframe tbody tr th {\n",
       "        vertical-align: top;\n",
       "    }\n",
       "\n",
       "    .dataframe thead th {\n",
       "        text-align: right;\n",
       "    }\n",
       "</style>\n",
       "<table border=\"1\" class=\"dataframe\">\n",
       "  <thead>\n",
       "    <tr style=\"text-align: right;\">\n",
       "      <th></th>\n",
       "      <th>Names</th>\n",
       "      <th>wAge</th>\n",
       "      <th>hAge</th>\n",
       "      <th>wHeight</th>\n",
       "      <th>hHeight</th>\n",
       "    </tr>\n",
       "  </thead>\n",
       "  <tbody>\n",
       "    <tr>\n",
       "      <th>0</th>\n",
       "      <td>John and Judy</td>\n",
       "      <td>43</td>\n",
       "      <td>49.0</td>\n",
       "      <td>1590.0</td>\n",
       "      <td>1809.0</td>\n",
       "    </tr>\n",
       "    <tr>\n",
       "      <th>1</th>\n",
       "      <td>Carl and Kathryn</td>\n",
       "      <td>28</td>\n",
       "      <td>25.0</td>\n",
       "      <td>1560.0</td>\n",
       "      <td>1841.0</td>\n",
       "    </tr>\n",
       "    <tr>\n",
       "      <th>2</th>\n",
       "      <td>Craig and Jackie</td>\n",
       "      <td>30</td>\n",
       "      <td>40.0</td>\n",
       "      <td>1620.0</td>\n",
       "      <td>1659.0</td>\n",
       "    </tr>\n",
       "    <tr>\n",
       "      <th>3</th>\n",
       "      <td>Larry and Susan</td>\n",
       "      <td>57</td>\n",
       "      <td>52.0</td>\n",
       "      <td>1540.0</td>\n",
       "      <td>1779.0</td>\n",
       "    </tr>\n",
       "    <tr>\n",
       "      <th>4</th>\n",
       "      <td>Scott and Susan</td>\n",
       "      <td>52</td>\n",
       "      <td>58.0</td>\n",
       "      <td>1420.0</td>\n",
       "      <td>1616.0</td>\n",
       "    </tr>\n",
       "  </tbody>\n",
       "</table>\n",
       "</div>"
      ],
      "text/plain": [
       "              Names wAge  hAge  wHeight  hHeight\n",
       "0     John and Judy   43  49.0   1590.0   1809.0\n",
       "1  Carl and Kathryn   28  25.0   1560.0   1841.0\n",
       "2  Craig and Jackie   30  40.0   1620.0   1659.0\n",
       "3   Larry and Susan   57  52.0   1540.0   1779.0\n",
       "4   Scott and Susan   52  58.0   1420.0   1616.0"
      ]
     },
     "execution_count": 4,
     "metadata": {},
     "output_type": "execute_result"
    }
   ],
   "source": [
    "data.head()"
   ]
  },
  {
   "cell_type": "code",
   "execution_count": 29,
   "id": "e7d54f08-6107-4d59-8e06-4ea614f1c5c1",
   "metadata": {},
   "outputs": [],
   "source": [
    "data = data[data.wAge!='*']"
   ]
  },
  {
   "cell_type": "code",
   "execution_count": 31,
   "id": "c540db62-4540-41ca-ab36-5af09c37f499",
   "metadata": {},
   "outputs": [],
   "source": [
    "data = data.dropna()"
   ]
  },
  {
   "cell_type": "code",
   "execution_count": 35,
   "id": "d8271651-c07f-49af-949f-19274a550de0",
   "metadata": {},
   "outputs": [
    {
     "name": "stdout",
     "output_type": "stream",
     "text": [
      "<class 'pandas.core.frame.DataFrame'>\n",
      "Index: 170 entries, 0 to 200\n",
      "Data columns (total 5 columns):\n",
      " #   Column   Non-Null Count  Dtype  \n",
      "---  ------   --------------  -----  \n",
      " 0   Names    170 non-null    object \n",
      " 1   wAge     170 non-null    object \n",
      " 2   hAge     170 non-null    float64\n",
      " 3   wHeight  170 non-null    float64\n",
      " 4   hHeight  170 non-null    float64\n",
      "dtypes: float64(3), object(2)\n",
      "memory usage: 8.0+ KB\n"
     ]
    }
   ],
   "source": [
    "data.info()"
   ]
  },
  {
   "cell_type": "code",
   "execution_count": 36,
   "id": "b76c6e4a-c477-4551-abdf-046e95e4f1f9",
   "metadata": {},
   "outputs": [],
   "source": [
    "husband = data['hAge']"
   ]
  },
  {
   "cell_type": "code",
   "execution_count": 38,
   "id": "8852066b-26ef-405a-896b-03d0710e8ce1",
   "metadata": {},
   "outputs": [],
   "source": [
    "wife = data['wAge'].astype('float64')"
   ]
  },
  {
   "cell_type": "code",
   "execution_count": 41,
   "id": "3794f8db-fe56-47ff-a639-2094876efeff",
   "metadata": {},
   "outputs": [
    {
     "data": {
      "text/plain": [
       "(17.8, 66.2, 15.7, 66.3)"
      ]
     },
     "execution_count": 41,
     "metadata": {},
     "output_type": "execute_result"
    },
    {
     "data": {
      "image/png": "[encoded data removed]",
      "text/plain": [
       "<Figure size 640x480 with 1 Axes>"
      ]
     },
     "metadata": {},
     "output_type": "display_data"
    }
   ],
   "source": [
    "plt.plot(husband, wife, 'ro');\n",
    "plt.plot(husband, husband, 'k-');\n",
    "plt.xlabel(\"husband age\");\n",
    "plt.ylabel(\"wife age\");\n",
    "plt.axis('equal')"
   ]
  },
  {
   "cell_type": "code",
   "execution_count": 42,
   "id": "ba53f71c-0084-49c4-b0cb-2fbb4fde71be",
   "metadata": {},
   "outputs": [],
   "source": [
    "difference = husband - wife"
   ]
  },
  {
   "cell_type": "code",
   "execution_count": 50,
   "id": "6a9b4d22-ac43-40b8-8a80-69c398c14e62",
   "metadata": {},
   "outputs": [
    {
     "name": "stdout",
     "output_type": "stream",
     "text": [
      "P-value: 2.4737e-11\n"
     ]
    }
   ],
   "source": [
    "def test():\n",
    "    d0 = 0\n",
    "    d = difference.mean()\n",
    "    df = len(difference)-1\n",
    "    sd = difference.std(ddof=1)\n",
    "    se = sd / sqrt(len(difference))\n",
    "    tscore = (d - d0) / se\n",
    "    pval = (1-t.cdf(tscore, df)) * 2\n",
    "    print(f\"P-value: {pval:.4e}\")\n",
    "\n",
    "test()"
   ]
  },
  {
   "cell_type": "code",
   "execution_count": 53,
   "id": "02823e54-1d39-4d07-b400-3d47679866d3",
   "metadata": {},
   "outputs": [
    {
     "name": "stdout",
     "output_type": "stream",
     "text": [
      "95.0% CI: (1.6, 2.9)\n"
     ]
    }
   ],
   "source": [
    "def CI(alpha):\n",
    "    d = difference.mean()\n",
    "    df = len(difference)-1\n",
    "    sd = difference.std(ddof=1)\n",
    "    se = sd / sqrt(len(difference))\n",
    "    crit = t.ppf(1-alpha/2, df)\n",
    "    me = crit * se\n",
    "    print(f\"{100*(1-alpha)}% CI: ({d-me:.1f}, {d+me:.1f})\")\n",
    "\n",
    "CI(0.05)"
   ]
  },
  {
   "cell_type": "code",
   "execution_count": 54,
   "id": "0fd6ac68-cf3b-42cc-894c-a45574a5573c",
   "metadata": {},
   "outputs": [],
   "source": [
    "avg_age = 0.5 * husband + 0.5 * wife"
   ]
  },
  {
   "cell_type": "code",
   "execution_count": 58,
   "id": "922adbaf-748f-464e-934f-2681773232f6",
   "metadata": {},
   "outputs": [
    {
     "data": {
      "image/png": "[encoded data removed]",
      "text/plain": [
       "<Figure size 640x480 with 1 Axes>"
      ]
     },
     "metadata": {},
     "output_type": "display_data"
    }
   ],
   "source": [
    "plt.plot(avg_age, difference, 'ro');\n",
    "plt.xlabel('Average age of hus and wif');\n",
    "plt.ylabel('hus age - wif age');"
   ]
  },
  {
   "cell_type": "code",
   "execution_count": null,
   "id": "fb2c6754-76e2-40ab-9fd8-e48dbc1a03a0",
   "metadata": {},
   "outputs": [],
   "source": []
  }
 ],
 "metadata": {
  "kernelspec": {
   "display_name": "Python 3 (ipykernel)",
   "language": "python",
   "name": "python3"
  },
  "language_info": {
   "codemirror_mode": {
    "name": "ipython",
    "version": 3
   },
   "file_extension": ".py",
   "mimetype": "text/x-python",
   "name": "python",
   "nbconvert_exporter": "python",
   "pygments_lexer": "ipython3",
   "version": "3.11.5"
  }
 },
 "nbformat": 4,
 "nbformat_minor": 5
}
