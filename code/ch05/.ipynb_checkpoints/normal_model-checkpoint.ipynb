{
 "cells": [
  {
   "cell_type": "code",
   "execution_count": 1,
   "id": "b256e254",
   "metadata": {},
   "outputs": [
    {
     "data": {
      "text/plain": [
       "'C:\\\\Users\\\\sc522\\\\PROJECTS\\\\STAT\\\\IS5\\\\code\\\\ch05'"
      ]
     },
     "execution_count": 1,
     "metadata": {},
     "output_type": "execute_result"
    }
   ],
   "source": [
    "%pwd"
   ]
  },
  {
   "cell_type": "code",
   "execution_count": 2,
   "id": "6aafe78e",
   "metadata": {},
   "outputs": [],
   "source": [
    "import numpy as np\n",
    "import matplotlib.pyplot as plt\n",
    "from scipy import stats"
   ]
  },
  {
   "cell_type": "code",
   "execution_count": 3,
   "id": "2ecfd627",
   "metadata": {},
   "outputs": [],
   "source": [
    "from ipywidgets import interact"
   ]
  },
  {
   "cell_type": "code",
   "execution_count": 4,
   "id": "31695740",
   "metadata": {},
   "outputs": [],
   "source": [
    "import ipywidgets as widgets"
   ]
  },
  {
   "cell_type": "code",
   "execution_count": 46,
   "id": "987e966b",
   "metadata": {},
   "outputs": [],
   "source": [
    "def std_normal(cut):\n",
    "    guass = stats.norm(loc=0, scale=1)\n",
    "    x = np.linspace(-guass.ppf(0.9999), guass.ppf(0.9999), 10_000)\n",
    "    n = np.arange(0, x[-1])\n",
    "    fig, ax = plt.subplots()\n",
    "    ax.plot(x, guass.pdf(x), \n",
    "            color='k', \n",
    "            lw=2,\n",
    "            label='Standard Normal')\n",
    "    ax.plot(np.ones(len(x)) * cut, x,\n",
    "            label='cut-off')\n",
    "    ax.set_xlim(-5, 5)\n",
    "    ax.set_ylim(0, guass.pdf(x).max() * 1.2)\n",
    "    plt.title(f'P [ x > {cut:.2f} ]: {1-guass.cdf(cut):.4f}')\n",
    "    plt.close(fig)\n",
    "    return fig"
   ]
  },
  {
   "cell_type": "code",
   "execution_count": 48,
   "id": "cef1915c",
   "metadata": {},
   "outputs": [
    {
     "data": {
      "application/vnd.jupyter.widget-view+json": {
       "model_id": "50091746f00c4fe19c54a2571a96dbe7",
       "version_major": 2,
       "version_minor": 0
      },
      "text/plain": [
       "interactive(children=(FloatSlider(value=0.0, description='cut', max=3.7, min=-3.7, step=0.001), Output()), _do…"
      ]
     },
     "metadata": {},
     "output_type": "display_data"
    }
   ],
   "source": [
    "interact(std_normal, cut=widgets.FloatSlider(min=-3.7, max=3.7, step=0.001));"
   ]
  },
  {
   "cell_type": "code",
   "execution_count": null,
   "id": "28a68c99",
   "metadata": {},
   "outputs": [],
   "source": []
  }
 ],
 "metadata": {
  "kernelspec": {
   "display_name": "Python 3 (ipykernel)",
   "language": "python",
   "name": "python3"
  },
  "language_info": {
   "codemirror_mode": {
    "name": "ipython",
    "version": 3
   },
   "file_extension": ".py",
   "mimetype": "text/x-python",
   "name": "python",
   "nbconvert_exporter": "python",
   "pygments_lexer": "ipython3",
   "version": "3.11.4"
  }
 },
 "nbformat": 4,
 "nbformat_minor": 5
}
