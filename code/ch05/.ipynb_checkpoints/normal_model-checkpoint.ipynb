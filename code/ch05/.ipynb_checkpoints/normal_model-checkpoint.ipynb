{
 "cells": [
  {
   "cell_type": "markdown",
   "id": "b681dd59",
   "metadata": {},
   "source": [
    "## Theory: normal (Gaussian) distribution\n",
    "\n",
    "### concepts:\n",
    "* distribution of continuous variable\n",
    "* Gaussian distribution and normality assumption\n",
    "* 68-95-99.7 rules\n",
    "* Probability Density Function (PDF)\n",
    "* Cummulative Density Function (CDF)\n",
    "* Percent Point Function (PPF), which is the inverse of the CDF\n",
    "* normal probability plot"
   ]
  },
  {
   "cell_type": "code",
   "execution_count": 1,
   "id": "b256e254",
   "metadata": {},
   "outputs": [
    {
     "data": {
      "text/plain": [
       "'C:\\\\Users\\\\sc522\\\\PROJECTS\\\\STAT\\\\IS5\\\\code\\\\ch05'"
      ]
     },
     "execution_count": 1,
     "metadata": {},
     "output_type": "execute_result"
    }
   ],
   "source": [
    "%pwd"
   ]
  },
  {
   "cell_type": "code",
   "execution_count": 2,
   "id": "6aafe78e",
   "metadata": {},
   "outputs": [],
   "source": [
    "import numpy as np\n",
    "import matplotlib.pyplot as plt\n",
    "from scipy import stats"
   ]
  },
  {
   "cell_type": "code",
   "execution_count": 3,
   "id": "2ecfd627",
   "metadata": {},
   "outputs": [],
   "source": [
    "from ipywidgets import interact"
   ]
  },
  {
   "cell_type": "code",
   "execution_count": 4,
   "id": "31695740",
   "metadata": {},
   "outputs": [],
   "source": [
    "import ipywidgets as widgets"
   ]
  },
  {
   "cell_type": "code",
   "execution_count": 19,
   "id": "987e966b",
   "metadata": {},
   "outputs": [],
   "source": [
    "def std_normal(cut):\n",
    "    guass = stats.norm(loc=0, scale=1)\n",
    "    x = np.linspace(-guass.ppf(0.9999), guass.ppf(0.9999), 10_000)\n",
    "    n = np.arange(0, x[-1])\n",
    "    fig, ax = plt.subplots()\n",
    "    ax.plot(x, guass.pdf(x), \n",
    "            color='k', \n",
    "            lw=2,\n",
    "            label='Standard Normal')\n",
    "    ax.plot(np.ones(len(x)) * cut, x,\n",
    "            label='cut-off')\n",
    "    ax.set_xlim(-5, 5)\n",
    "    ax.set_ylim(0, guass.pdf(x).max() * 1.2)\n",
    "    plt.title(f'P [ x > {cut:.2f} ]: {1-guass.cdf(cut):.4f}')\n",
    "    plt.close(fig)\n",
    "    ax.set_xlabel('x')\n",
    "    return fig"
   ]
  },
  {
   "cell_type": "code",
   "execution_count": 20,
   "id": "cef1915c",
   "metadata": {},
   "outputs": [
    {
     "data": {
      "application/vnd.jupyter.widget-view+json": {
       "model_id": "7d0b406b7581413496fa02aaff9add79",
       "version_major": 2,
       "version_minor": 0
      },
      "text/plain": [
       "interactive(children=(FloatSlider(value=0.0, description='cut', max=3.7, min=-3.7, step=0.001), Output()), _do…"
      ]
     },
     "metadata": {},
     "output_type": "display_data"
    }
   ],
   "source": [
    "interact(std_normal, cut=widgets.FloatSlider(min=-3.7, max=3.7, step=0.001));"
   ]
  },
  {
   "cell_type": "code",
   "execution_count": 22,
   "id": "28a68c99",
   "metadata": {},
   "outputs": [
    {
     "data": {
      "text/plain": [
       "0.975"
      ]
     },
     "execution_count": 22,
     "metadata": {},
     "output_type": "execute_result"
    }
   ],
   "source": [
    "stats.norm.cdf(1.959963984540054)  # cummulative density function"
   ]
  },
  {
   "cell_type": "code",
   "execution_count": 13,
   "id": "41088e40",
   "metadata": {},
   "outputs": [
    {
     "data": {
      "text/plain": [
       "0.3989422804014327"
      ]
     },
     "execution_count": 13,
     "metadata": {},
     "output_type": "execute_result"
    }
   ],
   "source": [
    "stats.norm.pdf(0)  # probability density function"
   ]
  },
  {
   "cell_type": "code",
   "execution_count": 15,
   "id": "a9e8fabb",
   "metadata": {},
   "outputs": [
    {
     "data": {
      "text/plain": [
       "1.959963984540054"
      ]
     },
     "execution_count": 15,
     "metadata": {},
     "output_type": "execute_result"
    }
   ],
   "source": [
    "stats.norm.ppf(0.975)  # probability percentage function -  reverse function of the cdf"
   ]
  },
  {
   "cell_type": "code",
   "execution_count": 21,
   "id": "08940eba",
   "metadata": {},
   "outputs": [
    {
     "data": {
      "text/plain": [
       "1.6448536269514722"
      ]
     },
     "execution_count": 21,
     "metadata": {},
     "output_type": "execute_result"
    }
   ],
   "source": [
    "stats.norm.ppf(0.95)"
   ]
  },
  {
   "cell_type": "code",
   "execution_count": 24,
   "id": "b17812d7",
   "metadata": {},
   "outputs": [
    {
     "data": {
      "text/plain": [
       "0.532807207342556"
      ]
     },
     "execution_count": 24,
     "metadata": {},
     "output_type": "execute_result"
    }
   ],
   "source": [
    "# SAT scored Mean 500, SD 100, between 450 and 600\n",
    "mu =  500\n",
    "sd = 100\n",
    "y1 = 450\n",
    "y2 = 600\n",
    "z1 = (y1 - mu) / sd\n",
    "z2 = (y2 - mu) / sd\n",
    "c1 = stats.norm.cdf(z1)\n",
    "c2 = stats.norm.cdf(z2)\n",
    "c2 - c1"
   ]
  },
  {
   "cell_type": "code",
   "execution_count": 25,
   "id": "6cadb7b3",
   "metadata": {},
   "outputs": [],
   "source": [
    "# SAT: desired to score in the first 10%\n",
    "c = 1 - 0.1\n",
    "z = stats.norm.ppf(c)\n",
    "y = mu + z * sd"
   ]
  },
  {
   "cell_type": "code",
   "execution_count": 26,
   "id": "27cc5038",
   "metadata": {},
   "outputs": [
    {
     "data": {
      "text/plain": [
       "628.1551565544601"
      ]
     },
     "execution_count": 26,
     "metadata": {},
     "output_type": "execute_result"
    }
   ],
   "source": [
    "y"
   ]
  },
  {
   "cell_type": "code",
   "execution_count": null,
   "id": "3db1b7ca",
   "metadata": {},
   "outputs": [],
   "source": []
  }
 ],
 "metadata": {
  "kernelspec": {
   "display_name": "Python 3 (ipykernel)",
   "language": "python",
   "name": "python3"
  },
  "language_info": {
   "codemirror_mode": {
    "name": "ipython",
    "version": 3
   },
   "file_extension": ".py",
   "mimetype": "text/x-python",
   "name": "python",
   "nbconvert_exporter": "python",
   "pygments_lexer": "ipython3",
   "version": "3.11.4"
  }
 },
 "nbformat": 4,
 "nbformat_minor": 5
}
