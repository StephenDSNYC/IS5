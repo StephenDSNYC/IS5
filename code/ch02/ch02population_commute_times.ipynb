{
 "cells": [
  {
   "cell_type": "code",
   "execution_count": 9,
   "id": "0fd07d32",
   "metadata": {},
   "outputs": [],
   "source": [
    "import pandas as pd\n",
    "import statistics as stat\n",
    "import numpy as np\n",
    "import matplotlib.pyplot as plt"
   ]
  },
  {
   "cell_type": "code",
   "execution_count": 2,
   "id": "bc12a662",
   "metadata": {},
   "outputs": [],
   "source": [
    "data_file = \"../../dataset/ch02/population_commute_times.txt\"\n",
    "all_commute_times = pd.read_csv(data_file, sep='\\t')"
   ]
  },
  {
   "cell_type": "code",
   "execution_count": 3,
   "id": "f22bf5fb",
   "metadata": {},
   "outputs": [
    {
     "data": {
      "text/html": [
       "<div>\n",
       "<style scoped>\n",
       "    .dataframe tbody tr th:only-of-type {\n",
       "        vertical-align: middle;\n",
       "    }\n",
       "\n",
       "    .dataframe tbody tr th {\n",
       "        vertical-align: top;\n",
       "    }\n",
       "\n",
       "    .dataframe thead th {\n",
       "        text-align: right;\n",
       "    }\n",
       "</style>\n",
       "<table border=\"1\" class=\"dataframe\">\n",
       "  <thead>\n",
       "    <tr style=\"text-align: right;\">\n",
       "      <th></th>\n",
       "      <th>Commute.Time185</th>\n",
       "    </tr>\n",
       "  </thead>\n",
       "  <tbody>\n",
       "    <tr>\n",
       "      <th>0</th>\n",
       "      <td>18</td>\n",
       "    </tr>\n",
       "    <tr>\n",
       "      <th>1</th>\n",
       "      <td>27</td>\n",
       "    </tr>\n",
       "    <tr>\n",
       "      <th>2</th>\n",
       "      <td>39</td>\n",
       "    </tr>\n",
       "    <tr>\n",
       "      <th>3</th>\n",
       "      <td>122</td>\n",
       "    </tr>\n",
       "    <tr>\n",
       "      <th>4</th>\n",
       "      <td>54</td>\n",
       "    </tr>\n",
       "  </tbody>\n",
       "</table>\n",
       "</div>"
      ],
      "text/plain": [
       "   Commute.Time185\n",
       "0               18\n",
       "1               27\n",
       "2               39\n",
       "3              122\n",
       "4               54"
      ]
     },
     "execution_count": 3,
     "metadata": {},
     "output_type": "execute_result"
    }
   ],
   "source": [
    "all_commute_times.head()"
   ]
  },
  {
   "cell_type": "code",
   "execution_count": 4,
   "id": "2ec3afa7",
   "metadata": {},
   "outputs": [],
   "source": [
    "all_commute_times = all_commute_times[\"Commute.Time185\"]"
   ]
  },
  {
   "cell_type": "code",
   "execution_count": 5,
   "id": "d4f050ea",
   "metadata": {},
   "outputs": [
    {
     "data": {
      "text/plain": [
       "(4999, pandas.core.series.Series)"
      ]
     },
     "execution_count": 5,
     "metadata": {},
     "output_type": "execute_result"
    }
   ],
   "source": [
    "len(all_commute_times), type(all_commute_times)"
   ]
  },
  {
   "cell_type": "code",
   "execution_count": 6,
   "id": "bcdb915c",
   "metadata": {},
   "outputs": [],
   "source": [
    "def get_sample_mean(pop, size):\n",
    "    return stat.mean(pop.sample(n=size))"
   ]
  },
  {
   "cell_type": "code",
   "execution_count": 8,
   "id": "486962f3",
   "metadata": {},
   "outputs": [],
   "source": [
    "repeat = 10_000\n",
    "sample_means = np.zeros(repeat)\n",
    "sample_size = 100\n",
    "for i in range(repeat):\n",
    "    sample_means[i] = get_sample_mean(all_commute_times, sample_size)\n",
    "    "
   ]
  },
  {
   "cell_type": "code",
   "execution_count": 11,
   "id": "aa58d1eb",
   "metadata": {},
   "outputs": [
    {
     "data": {
      "image/png": "[encoded data removed]",
      "text/plain": [
       "<Figure size 640x480 with 1 Axes>"
      ]
     },
     "metadata": {},
     "output_type": "display_data"
    }
   ],
   "source": [
    "plt.hist(sample_means, bins=20);"
   ]
  },
  {
   "cell_type": "code",
   "execution_count": 12,
   "id": "869ab723",
   "metadata": {},
   "outputs": [
    {
     "data": {
      "text/plain": [
       "45.415649"
      ]
     },
     "execution_count": 12,
     "metadata": {},
     "output_type": "execute_result"
    }
   ],
   "source": [
    "stat.mean(sample_means)"
   ]
  },
  {
   "cell_type": "code",
   "execution_count": 13,
   "id": "37f096f6",
   "metadata": {},
   "outputs": [
    {
     "data": {
      "text/plain": [
       "2.930416508431914"
      ]
     },
     "execution_count": 13,
     "metadata": {},
     "output_type": "execute_result"
    }
   ],
   "source": [
    "stat.stdev(sample_means)"
   ]
  }
 ],
 "metadata": {
  "kernelspec": {
   "display_name": "Python 3 (ipykernel)",
   "language": "python",
   "name": "python3"
  },
  "language_info": {
   "codemirror_mode": {
    "name": "ipython",
    "version": 3
   },
   "file_extension": ".py",
   "mimetype": "text/x-python",
   "name": "python",
   "nbconvert_exporter": "python",
   "pygments_lexer": "ipython3",
   "version": "3.11.5"
  }
 },
 "nbformat": 4,
 "nbformat_minor": 5
}
