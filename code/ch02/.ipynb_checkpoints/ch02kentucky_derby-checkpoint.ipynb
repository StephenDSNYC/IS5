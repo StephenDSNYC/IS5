{
 "cells": [
  {
   "cell_type": "code",
   "execution_count": 1,
   "id": "4e0cb39a",
   "metadata": {},
   "outputs": [
    {
     "data": {
      "text/plain": [
       "'C:\\\\Users\\\\sc522\\\\PROJECTS\\\\STAT\\\\IS5\\\\code\\\\ch02'"
      ]
     },
     "execution_count": 1,
     "metadata": {},
     "output_type": "execute_result"
    }
   ],
   "source": [
    "%pwd"
   ]
  },
  {
   "cell_type": "code",
   "execution_count": 2,
   "id": "8ab66686",
   "metadata": {},
   "outputs": [
    {
     "name": "stdout",
     "output_type": "stream",
     "text": [
      "1.5.3\n"
     ]
    }
   ],
   "source": [
    "import pandas as pd\n",
    "print(pd.__version__)"
   ]
  },
  {
   "cell_type": "code",
   "execution_count": 9,
   "id": "58214cc8",
   "metadata": {},
   "outputs": [
    {
     "name": "stdout",
     "output_type": "stream",
     "text": [
      "3.7.1\n"
     ]
    }
   ],
   "source": [
    "import matplotlib as mpl\n",
    "print(mpl.__version__)\n",
    "import matplotlib.pyplot as plt"
   ]
  },
  {
   "cell_type": "code",
   "execution_count": 5,
   "id": "8d4d97ba",
   "metadata": {},
   "outputs": [],
   "source": [
    "file_name = \"../../dataset/ch02/kentucky_derby_2016.txt\""
   ]
  },
  {
   "cell_type": "code",
   "execution_count": 6,
   "id": "a0f7a548",
   "metadata": {},
   "outputs": [],
   "source": [
    "derby = pd.read_csv(file_name, sep='\\t')"
   ]
  },
  {
   "cell_type": "code",
   "execution_count": 7,
   "id": "02e37861",
   "metadata": {},
   "outputs": [
    {
     "data": {
      "text/html": [
       "<div>\n",
       "<style scoped>\n",
       "    .dataframe tbody tr th:only-of-type {\n",
       "        vertical-align: middle;\n",
       "    }\n",
       "\n",
       "    .dataframe tbody tr th {\n",
       "        vertical-align: top;\n",
       "    }\n",
       "\n",
       "    .dataframe thead th {\n",
       "        text-align: right;\n",
       "    }\n",
       "</style>\n",
       "<table border=\"1\" class=\"dataframe\">\n",
       "  <thead>\n",
       "    <tr style=\"text-align: right;\">\n",
       "      <th></th>\n",
       "      <th>Year</th>\n",
       "      <th>Year_no</th>\n",
       "      <th>Date</th>\n",
       "      <th>Winner</th>\n",
       "      <th>Mins</th>\n",
       "      <th>Secs</th>\n",
       "      <th>Time_Sec</th>\n",
       "      <th>Distance</th>\n",
       "      <th>Speed_mph</th>\n",
       "    </tr>\n",
       "  </thead>\n",
       "  <tbody>\n",
       "    <tr>\n",
       "      <th>0</th>\n",
       "      <td>1875</td>\n",
       "      <td>1</td>\n",
       "      <td>May 17, 1875</td>\n",
       "      <td>Aristides</td>\n",
       "      <td>2</td>\n",
       "      <td>37.75</td>\n",
       "      <td>157.75</td>\n",
       "      <td>1.5</td>\n",
       "      <td>34.231379</td>\n",
       "    </tr>\n",
       "    <tr>\n",
       "      <th>1</th>\n",
       "      <td>1876</td>\n",
       "      <td>2</td>\n",
       "      <td>May 15, 1876</td>\n",
       "      <td>Vagrant</td>\n",
       "      <td>2</td>\n",
       "      <td>38.25</td>\n",
       "      <td>158.25</td>\n",
       "      <td>1.5</td>\n",
       "      <td>34.123223</td>\n",
       "    </tr>\n",
       "    <tr>\n",
       "      <th>2</th>\n",
       "      <td>1877</td>\n",
       "      <td>3</td>\n",
       "      <td>May 22, 1877</td>\n",
       "      <td>Baden-Baden</td>\n",
       "      <td>2</td>\n",
       "      <td>38.00</td>\n",
       "      <td>158.00</td>\n",
       "      <td>1.5</td>\n",
       "      <td>34.177215</td>\n",
       "    </tr>\n",
       "    <tr>\n",
       "      <th>3</th>\n",
       "      <td>1878</td>\n",
       "      <td>4</td>\n",
       "      <td>May 21, 1878</td>\n",
       "      <td>Day Star</td>\n",
       "      <td>2</td>\n",
       "      <td>37.25</td>\n",
       "      <td>157.25</td>\n",
       "      <td>1.5</td>\n",
       "      <td>34.340223</td>\n",
       "    </tr>\n",
       "    <tr>\n",
       "      <th>4</th>\n",
       "      <td>1879</td>\n",
       "      <td>5</td>\n",
       "      <td>May 20, 1879</td>\n",
       "      <td>Lord Murphy</td>\n",
       "      <td>2</td>\n",
       "      <td>37.00</td>\n",
       "      <td>157.00</td>\n",
       "      <td>1.5</td>\n",
       "      <td>34.394905</td>\n",
       "    </tr>\n",
       "  </tbody>\n",
       "</table>\n",
       "</div>"
      ],
      "text/plain": [
       "   Year  Year_no          Date       Winner  Mins   Secs  Time_Sec  Distance  \\\n",
       "0  1875        1  May 17, 1875    Aristides     2  37.75    157.75       1.5   \n",
       "1  1876        2  May 15, 1876      Vagrant     2  38.25    158.25       1.5   \n",
       "2  1877        3  May 22, 1877  Baden-Baden     2  38.00    158.00       1.5   \n",
       "3  1878        4  May 21, 1878     Day Star     2  37.25    157.25       1.5   \n",
       "4  1879        5  May 20, 1879  Lord Murphy     2  37.00    157.00       1.5   \n",
       "\n",
       "   Speed_mph  \n",
       "0  34.231379  \n",
       "1  34.123223  \n",
       "2  34.177215  \n",
       "3  34.340223  \n",
       "4  34.394905  "
      ]
     },
     "execution_count": 7,
     "metadata": {},
     "output_type": "execute_result"
    }
   ],
   "source": [
    "derby.head()"
   ]
  },
  {
   "cell_type": "code",
   "execution_count": 8,
   "id": "bfd7ece3",
   "metadata": {},
   "outputs": [],
   "source": [
    "winning_time = derby.Mins * 60 + derby.Secs"
   ]
  },
  {
   "cell_type": "code",
   "execution_count": 17,
   "id": "4f16f7e7",
   "metadata": {
    "scrolled": true
   },
   "outputs": [
    {
     "data": {
      "image/png": "[encoded data removed]",
      "text/plain": [
       "<Figure size 700x300 with 1 Axes>"
      ]
     },
     "metadata": {},
     "output_type": "display_data"
    }
   ],
   "source": [
    "plt.figure(figsize=(7, 3));\n",
    "plt.hist(winning_time, bins=range(110, 180));\n",
    "plt.axis([100, 180, 0, 25]);"
   ]
  }
 ],
 "metadata": {
  "kernelspec": {
   "display_name": "Python 3 (ipykernel)",
   "language": "python",
   "name": "python3"
  },
  "language_info": {
   "codemirror_mode": {
    "name": "ipython",
    "version": 3
   },
   "file_extension": ".py",
   "mimetype": "text/x-python",
   "name": "python",
   "nbconvert_exporter": "python",
   "pygments_lexer": "ipython3",
   "version": "3.11.3"
  }
 },
 "nbformat": 4,
 "nbformat_minor": 5
}
