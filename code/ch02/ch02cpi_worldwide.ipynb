{
 "cells": [
  {
   "cell_type": "code",
   "execution_count": 1,
   "id": "900ace22",
   "metadata": {},
   "outputs": [
    {
     "data": {
      "text/plain": [
       "'C:\\\\Users\\\\sc522\\\\PROJECTS\\\\STAT\\\\IS5\\\\code\\\\ch02'"
      ]
     },
     "execution_count": 1,
     "metadata": {},
     "output_type": "execute_result"
    }
   ],
   "source": [
    "%pwd"
   ]
  },
  {
   "cell_type": "code",
   "execution_count": 2,
   "id": "0f3d5453",
   "metadata": {},
   "outputs": [
    {
     "name": "stdout",
     "output_type": "stream",
     "text": [
      "1.5.3\n"
     ]
    }
   ],
   "source": [
    "import pandas as pd\n",
    "print(pd.__version__)"
   ]
  },
  {
   "cell_type": "code",
   "execution_count": 3,
   "id": "bb2910d9",
   "metadata": {},
   "outputs": [],
   "source": [
    "file_name = \"../../dataset/ch02/cpi_worldwide_2016.txt\""
   ]
  },
  {
   "cell_type": "code",
   "execution_count": 4,
   "id": "d3294053",
   "metadata": {},
   "outputs": [],
   "source": [
    "cpi_worldwide = pd.read_csv(file_name, sep='\\t')"
   ]
  },
  {
   "cell_type": "code",
   "execution_count": 5,
   "id": "d5285baf",
   "metadata": {},
   "outputs": [
    {
     "data": {
      "text/html": [
       "<div>\n",
       "<style scoped>\n",
       "    .dataframe tbody tr th:only-of-type {\n",
       "        vertical-align: middle;\n",
       "    }\n",
       "\n",
       "    .dataframe tbody tr th {\n",
       "        vertical-align: top;\n",
       "    }\n",
       "\n",
       "    .dataframe thead th {\n",
       "        text-align: right;\n",
       "    }\n",
       "</style>\n",
       "<table border=\"1\" class=\"dataframe\">\n",
       "  <thead>\n",
       "    <tr style=\"text-align: right;\">\n",
       "      <th></th>\n",
       "      <th>City</th>\n",
       "      <th>Consumer.Price.Index</th>\n",
       "      <th>Rent.Index</th>\n",
       "      <th>Consumer.Price.Plus.Rent.Index</th>\n",
       "      <th>Groceries.Index</th>\n",
       "      <th>Restaurant.Price.Index</th>\n",
       "      <th>Local.Purchasing.Power.Index</th>\n",
       "    </tr>\n",
       "  </thead>\n",
       "  <tbody>\n",
       "    <tr>\n",
       "      <th>0</th>\n",
       "      <td>Zurich, Switzerland</td>\n",
       "      <td>130.99</td>\n",
       "      <td>64.16</td>\n",
       "      <td>98.87</td>\n",
       "      <td>131.72</td>\n",
       "      <td>131.77</td>\n",
       "      <td>184.86</td>\n",
       "    </tr>\n",
       "    <tr>\n",
       "      <th>1</th>\n",
       "      <td>Basel, Switzerland</td>\n",
       "      <td>129.94</td>\n",
       "      <td>47.59</td>\n",
       "      <td>90.36</td>\n",
       "      <td>132.76</td>\n",
       "      <td>126.86</td>\n",
       "      <td>165.65</td>\n",
       "    </tr>\n",
       "    <tr>\n",
       "      <th>2</th>\n",
       "      <td>Geneva, Switzerland</td>\n",
       "      <td>129.07</td>\n",
       "      <td>74.08</td>\n",
       "      <td>102.64</td>\n",
       "      <td>124.09</td>\n",
       "      <td>130.68</td>\n",
       "      <td>181.03</td>\n",
       "    </tr>\n",
       "    <tr>\n",
       "      <th>3</th>\n",
       "      <td>Zug, Switzerland</td>\n",
       "      <td>123.44</td>\n",
       "      <td>63.29</td>\n",
       "      <td>94.53</td>\n",
       "      <td>122.64</td>\n",
       "      <td>117.97</td>\n",
       "      <td>211.31</td>\n",
       "    </tr>\n",
       "    <tr>\n",
       "      <th>4</th>\n",
       "      <td>Bern, Switzerland</td>\n",
       "      <td>121.64</td>\n",
       "      <td>50.71</td>\n",
       "      <td>87.55</td>\n",
       "      <td>122.63</td>\n",
       "      <td>118.26</td>\n",
       "      <td>178.08</td>\n",
       "    </tr>\n",
       "  </tbody>\n",
       "</table>\n",
       "</div>"
      ],
      "text/plain": [
       "                  City  Consumer.Price.Index  Rent.Index  \\\n",
       "0  Zurich, Switzerland                130.99       64.16   \n",
       "1   Basel, Switzerland                129.94       47.59   \n",
       "2  Geneva, Switzerland                129.07       74.08   \n",
       "3     Zug, Switzerland                123.44       63.29   \n",
       "4    Bern, Switzerland                121.64       50.71   \n",
       "\n",
       "   Consumer.Price.Plus.Rent.Index  Groceries.Index  Restaurant.Price.Index  \\\n",
       "0                           98.87           131.72                  131.77   \n",
       "1                           90.36           132.76                  126.86   \n",
       "2                          102.64           124.09                  130.68   \n",
       "3                           94.53           122.64                  117.97   \n",
       "4                           87.55           122.63                  118.26   \n",
       "\n",
       "   Local.Purchasing.Power.Index  \n",
       "0                        184.86  \n",
       "1                        165.65  \n",
       "2                        181.03  \n",
       "3                        211.31  \n",
       "4                        178.08  "
      ]
     },
     "execution_count": 5,
     "metadata": {},
     "output_type": "execute_result"
    }
   ],
   "source": [
    "cpi_worldwide.head()"
   ]
  },
  {
   "cell_type": "code",
   "execution_count": 6,
   "id": "f49e7f2d",
   "metadata": {},
   "outputs": [],
   "source": [
    "cpi_data = cpi_worldwide[\"Consumer.Price.Index\"]"
   ]
  },
  {
   "cell_type": "code",
   "execution_count": 7,
   "id": "44744152",
   "metadata": {},
   "outputs": [
    {
     "data": {
      "text/plain": [
       "497"
      ]
     },
     "execution_count": 7,
     "metadata": {},
     "output_type": "execute_result"
    }
   ],
   "source": [
    "len(cpi_data)"
   ]
  },
  {
   "cell_type": "code",
   "execution_count": 8,
   "id": "61e5ecc5",
   "metadata": {},
   "outputs": [
    {
     "name": "stdout",
     "output_type": "stream",
     "text": [
      "3.7.1\n"
     ]
    }
   ],
   "source": [
    "import matplotlib as mpl\n",
    "print(mpl.__version__)\n",
    "import matplotlib.pyplot as plt"
   ]
  },
  {
   "cell_type": "code",
   "execution_count": 31,
   "id": "2290f3c8",
   "metadata": {
    "scrolled": true
   },
   "outputs": [
    {
     "data": {
      "text/plain": [
       "Text(0, 0.5, '# of Cities')"
      ]
     },
     "execution_count": 31,
     "metadata": {},
     "output_type": "execute_result"
    },
    {
     "data": {
      "image/png": "[encoded data removed]",
      "text/plain": [
       "<Figure size 500x300 with 1 Axes>"
      ]
     },
     "metadata": {},
     "output_type": "display_data"
    }
   ],
   "source": [
    "plt.figure(figsize=(5, 3));\n",
    "plt.hist(cpi_data, bins=range(20, 135, 5), edgecolor='k', color='darkorange');\n",
    "plt.xlabel('Consumer Price Index')\n",
    "plt.ylabel('# of Cities')"
   ]
  },
  {
   "cell_type": "code",
   "execution_count": null,
   "id": "44795db1",
   "metadata": {},
   "outputs": [],
   "source": []
  }
 ],
 "metadata": {
  "kernelspec": {
   "display_name": "Python 3 (ipykernel)",
   "language": "python",
   "name": "python3"
  },
  "language_info": {
   "codemirror_mode": {
    "name": "ipython",
    "version": 3
   },
   "file_extension": ".py",
   "mimetype": "text/x-python",
   "name": "python",
   "nbconvert_exporter": "python",
   "pygments_lexer": "ipython3",
   "version": "3.11.3"
  }
 },
 "nbformat": 4,
 "nbformat_minor": 5
}
