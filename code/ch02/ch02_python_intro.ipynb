{
 "cells": [
  {
   "cell_type": "markdown",
   "id": "e0768ba5",
   "metadata": {},
   "source": [
    "# Introduction to Python\n",
    "\n",
    "## Available since 1980:\n",
    "* Built-in native language (syntax, e.g., if, else, while, for, break, continue, class, def, etc.)\n",
    "* Built-in module support (sys, os, math, statistics, string, etc.)\n",
    "* Well supported, third-party packages (pandas, matplotlib, seaborn, numpy, scipy)\n",
    "\n",
    "*Noted: A module is a file (.py), which may contain various entities such as variable, functions, and classes.  Each entity has a name inside the module as a namespace.\n",
    "One or more modules may be placed together within one or more folders to form a package.*\n",
    "\n",
    "## Modes of Use (anaconda):\n",
    "* command line: python, ipython\n",
    "* jupyter: jupyter notebook (share the same backend with ipython)"
   ]
  },
  {
   "cell_type": "code",
   "execution_count": 1,
   "id": "3325153a",
   "metadata": {},
   "outputs": [],
   "source": [
    "radius = 3  # centimeters"
   ]
  },
  {
   "cell_type": "code",
   "execution_count": 2,
   "id": "aec3456f",
   "metadata": {},
   "outputs": [
    {
     "data": {
      "text/plain": [
       "['In', 'Out', 'exit', 'get_ipython', 'open', 'quit', 'radius']"
      ]
     },
     "execution_count": 2,
     "metadata": {},
     "output_type": "execute_result"
    }
   ],
   "source": [
    "[x for x in dir() if not x.startswith('_')]"
   ]
  },
  {
   "cell_type": "code",
   "execution_count": 3,
   "id": "9d8727de",
   "metadata": {},
   "outputs": [],
   "source": [
    "import math  # built-in module"
   ]
  },
  {
   "cell_type": "code",
   "execution_count": 4,
   "id": "a163e6eb",
   "metadata": {},
   "outputs": [
    {
     "data": {
      "text/plain": [
       "['In', 'Out', 'exit', 'get_ipython', 'math', 'open', 'quit', 'radius']"
      ]
     },
     "execution_count": 4,
     "metadata": {},
     "output_type": "execute_result"
    }
   ],
   "source": [
    "[x for x in dir() if not x.startswith('_')]"
   ]
  },
  {
   "cell_type": "code",
   "execution_count": 5,
   "id": "b40df21a",
   "metadata": {},
   "outputs": [],
   "source": [
    "pi = math.pi"
   ]
  },
  {
   "cell_type": "code",
   "execution_count": 6,
   "id": "f69719dd",
   "metadata": {},
   "outputs": [
    {
     "data": {
      "text/plain": [
       "['In', 'Out', 'exit', 'get_ipython', 'math', 'open', 'pi', 'quit', 'radius']"
      ]
     },
     "execution_count": 6,
     "metadata": {},
     "output_type": "execute_result"
    }
   ],
   "source": [
    "[x for x in dir() if not x.startswith('_')]"
   ]
  },
  {
   "cell_type": "code",
   "execution_count": 7,
   "id": "610e1dbe",
   "metadata": {},
   "outputs": [],
   "source": [
    "area = pi * radius ** 2"
   ]
  },
  {
   "cell_type": "code",
   "execution_count": 8,
   "id": "f46f46f9",
   "metadata": {},
   "outputs": [
    {
     "data": {
      "text/plain": [
       "(3.141592653589793, 28.274333882308138)"
      ]
     },
     "execution_count": 8,
     "metadata": {},
     "output_type": "execute_result"
    }
   ],
   "source": [
    "pi, area"
   ]
  },
  {
   "cell_type": "code",
   "execution_count": 17,
   "id": "b8a1b5ea",
   "metadata": {},
   "outputs": [
    {
     "name": "stdout",
     "output_type": "stream",
     "text": [
      "Area of the circule (radius = 3 cm): 28.27 cm2\n"
     ]
    }
   ],
   "source": [
    "print(f\"Area of the circule (radius = {radius} cm): {area:.2f} cm2\")  # f-string"
   ]
  },
  {
   "cell_type": "code",
   "execution_count": 18,
   "id": "6a6ec5f2",
   "metadata": {},
   "outputs": [
    {
     "data": {
      "text/plain": [
       "1.0"
      ]
     },
     "execution_count": 18,
     "metadata": {},
     "output_type": "execute_result"
    }
   ],
   "source": [
    "math.sin(math.pi / 2)"
   ]
  },
  {
   "cell_type": "code",
   "execution_count": 19,
   "id": "5bbc1de5",
   "metadata": {},
   "outputs": [
    {
     "data": {
      "text/plain": [
       "6.123233995736766e-17"
      ]
     },
     "execution_count": 19,
     "metadata": {},
     "output_type": "execute_result"
    }
   ],
   "source": [
    "math.cos(math.pi / 2)"
   ]
  },
  {
   "cell_type": "code",
   "execution_count": 20,
   "id": "033eb9ec",
   "metadata": {},
   "outputs": [],
   "source": [
    "# 3rd party packages\n",
    "import pandas as pd\n",
    "import matplotlib.pyplot as plt\n",
    "import numpy as np"
   ]
  },
  {
   "cell_type": "code",
   "execution_count": 21,
   "id": "d4714d64",
   "metadata": {},
   "outputs": [
    {
     "data": {
      "text/plain": [
       "<Figure size 640x480 with 0 Axes>"
      ]
     },
     "execution_count": 21,
     "metadata": {},
     "output_type": "execute_result"
    },
    {
     "data": {
      "text/plain": [
       "<Figure size 640x480 with 0 Axes>"
      ]
     },
     "metadata": {},
     "output_type": "display_data"
    }
   ],
   "source": [
    "plt.figure()"
   ]
  },
  {
   "cell_type": "code",
   "execution_count": 22,
   "id": "29e8cd38",
   "metadata": {},
   "outputs": [],
   "source": [
    "my_items = ['computer', 'smartphone', 'mouse', 'keyboard']"
   ]
  },
  {
   "cell_type": "code",
   "execution_count": 23,
   "id": "e61c0e9e",
   "metadata": {},
   "outputs": [
    {
     "data": {
      "text/plain": [
       "'computer'"
      ]
     },
     "execution_count": 23,
     "metadata": {},
     "output_type": "execute_result"
    }
   ],
   "source": [
    "my_items[0]"
   ]
  },
  {
   "cell_type": "code",
   "execution_count": 25,
   "id": "090f1643",
   "metadata": {},
   "outputs": [
    {
     "data": {
      "text/plain": [
       "'keyboard'"
      ]
     },
     "execution_count": 25,
     "metadata": {},
     "output_type": "execute_result"
    }
   ],
   "source": [
    "my_items[3]"
   ]
  },
  {
   "cell_type": "code",
   "execution_count": 26,
   "id": "bb0d920a",
   "metadata": {},
   "outputs": [
    {
     "data": {
      "text/plain": [
       "15"
      ]
     },
     "execution_count": 26,
     "metadata": {},
     "output_type": "execute_result"
    }
   ],
   "source": [
    "1 + 2 + 3 + 4 + 5"
   ]
  }
 ],
 "metadata": {
  "kernelspec": {
   "display_name": "Python 3 (ipykernel)",
   "language": "python",
   "name": "python3"
  },
  "language_info": {
   "codemirror_mode": {
    "name": "ipython",
    "version": 3
   },
   "file_extension": ".py",
   "mimetype": "text/x-python",
   "name": "python",
   "nbconvert_exporter": "python",
   "pygments_lexer": "ipython3",
   "version": "3.11.3"
  }
 },
 "nbformat": 4,
 "nbformat_minor": 5
}
