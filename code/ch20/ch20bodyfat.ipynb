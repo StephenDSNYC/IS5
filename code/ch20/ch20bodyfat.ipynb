{
 "cells": [
  {
   "cell_type": "code",
   "execution_count": 1,
   "id": "15865f1f-426b-4da6-80ac-295a5068bb36",
   "metadata": {},
   "outputs": [],
   "source": [
    "import numpy as np\n",
    "import pandas as pd\n",
    "from matplotlib import pyplot as plt\n",
    "from sklearn.linear_model import LinearRegression\n",
    "import statsmodels.api as sm\n",
    "from scipy.stats import t\n",
    "linmod = LinearRegression()"
   ]
  },
  {
   "cell_type": "code",
   "execution_count": 2,
   "id": "8d622bfa-c2f6-4c3e-85eb-d509d7245f0d",
   "metadata": {},
   "outputs": [],
   "source": [
    "datafile = '../../dataset/ch09/bodyfat.txt'\n",
    "data = pd.read_csv(datafile, sep='\\t')"
   ]
  },
  {
   "cell_type": "code",
   "execution_count": 3,
   "id": "8f7792b2-5433-49a3-a446-f634847eddd6",
   "metadata": {},
   "outputs": [
    {
     "data": {
      "text/html": [
       "<div>\n",
       "<style scoped>\n",
       "    .dataframe tbody tr th:only-of-type {\n",
       "        vertical-align: middle;\n",
       "    }\n",
       "\n",
       "    .dataframe tbody tr th {\n",
       "        vertical-align: top;\n",
       "    }\n",
       "\n",
       "    .dataframe thead th {\n",
       "        text-align: right;\n",
       "    }\n",
       "</style>\n",
       "<table border=\"1\" class=\"dataframe\">\n",
       "  <thead>\n",
       "    <tr style=\"text-align: right;\">\n",
       "      <th></th>\n",
       "      <th>Density</th>\n",
       "      <th>Pct.BF</th>\n",
       "      <th>Age</th>\n",
       "      <th>Weight</th>\n",
       "      <th>Height</th>\n",
       "      <th>Neck</th>\n",
       "      <th>Chest</th>\n",
       "      <th>Abdomen</th>\n",
       "      <th>Waist</th>\n",
       "      <th>Hip</th>\n",
       "      <th>Thigh</th>\n",
       "      <th>Knee</th>\n",
       "      <th>Ankle</th>\n",
       "      <th>Bicep</th>\n",
       "      <th>Forearm</th>\n",
       "      <th>Wrist</th>\n",
       "    </tr>\n",
       "  </thead>\n",
       "  <tbody>\n",
       "    <tr>\n",
       "      <th>0</th>\n",
       "      <td>1.0708</td>\n",
       "      <td>12.3</td>\n",
       "      <td>23</td>\n",
       "      <td>154.25</td>\n",
       "      <td>67.75</td>\n",
       "      <td>36.2</td>\n",
       "      <td>93.1</td>\n",
       "      <td>85.2</td>\n",
       "      <td>33.543307</td>\n",
       "      <td>94.5</td>\n",
       "      <td>59.0</td>\n",
       "      <td>37.3</td>\n",
       "      <td>21.9</td>\n",
       "      <td>32.0</td>\n",
       "      <td>27.4</td>\n",
       "      <td>17.1</td>\n",
       "    </tr>\n",
       "    <tr>\n",
       "      <th>1</th>\n",
       "      <td>1.0853</td>\n",
       "      <td>6.1</td>\n",
       "      <td>22</td>\n",
       "      <td>173.25</td>\n",
       "      <td>72.25</td>\n",
       "      <td>38.5</td>\n",
       "      <td>93.6</td>\n",
       "      <td>83.0</td>\n",
       "      <td>32.677165</td>\n",
       "      <td>98.7</td>\n",
       "      <td>58.7</td>\n",
       "      <td>37.3</td>\n",
       "      <td>23.4</td>\n",
       "      <td>30.5</td>\n",
       "      <td>28.9</td>\n",
       "      <td>18.2</td>\n",
       "    </tr>\n",
       "    <tr>\n",
       "      <th>2</th>\n",
       "      <td>1.0414</td>\n",
       "      <td>25.3</td>\n",
       "      <td>22</td>\n",
       "      <td>154.00</td>\n",
       "      <td>66.25</td>\n",
       "      <td>34.0</td>\n",
       "      <td>95.8</td>\n",
       "      <td>87.9</td>\n",
       "      <td>34.606299</td>\n",
       "      <td>99.2</td>\n",
       "      <td>59.6</td>\n",
       "      <td>38.9</td>\n",
       "      <td>24.0</td>\n",
       "      <td>28.8</td>\n",
       "      <td>25.2</td>\n",
       "      <td>16.6</td>\n",
       "    </tr>\n",
       "    <tr>\n",
       "      <th>3</th>\n",
       "      <td>1.0751</td>\n",
       "      <td>10.4</td>\n",
       "      <td>26</td>\n",
       "      <td>184.75</td>\n",
       "      <td>72.25</td>\n",
       "      <td>37.4</td>\n",
       "      <td>101.8</td>\n",
       "      <td>86.4</td>\n",
       "      <td>34.015748</td>\n",
       "      <td>101.2</td>\n",
       "      <td>60.1</td>\n",
       "      <td>37.3</td>\n",
       "      <td>22.8</td>\n",
       "      <td>32.4</td>\n",
       "      <td>29.4</td>\n",
       "      <td>18.2</td>\n",
       "    </tr>\n",
       "    <tr>\n",
       "      <th>4</th>\n",
       "      <td>1.0340</td>\n",
       "      <td>28.7</td>\n",
       "      <td>24</td>\n",
       "      <td>184.25</td>\n",
       "      <td>71.25</td>\n",
       "      <td>34.4</td>\n",
       "      <td>97.3</td>\n",
       "      <td>100.0</td>\n",
       "      <td>39.370079</td>\n",
       "      <td>101.9</td>\n",
       "      <td>63.2</td>\n",
       "      <td>42.2</td>\n",
       "      <td>24.0</td>\n",
       "      <td>32.2</td>\n",
       "      <td>27.7</td>\n",
       "      <td>17.7</td>\n",
       "    </tr>\n",
       "  </tbody>\n",
       "</table>\n",
       "</div>"
      ],
      "text/plain": [
       "   Density  Pct.BF  Age  Weight  Height  Neck  Chest  Abdomen      Waist  \\\n",
       "0   1.0708    12.3   23  154.25   67.75  36.2   93.1     85.2  33.543307   \n",
       "1   1.0853     6.1   22  173.25   72.25  38.5   93.6     83.0  32.677165   \n",
       "2   1.0414    25.3   22  154.00   66.25  34.0   95.8     87.9  34.606299   \n",
       "3   1.0751    10.4   26  184.75   72.25  37.4  101.8     86.4  34.015748   \n",
       "4   1.0340    28.7   24  184.25   71.25  34.4   97.3    100.0  39.370079   \n",
       "\n",
       "     Hip  Thigh  Knee  Ankle  Bicep  Forearm  Wrist  \n",
       "0   94.5   59.0  37.3   21.9   32.0     27.4   17.1  \n",
       "1   98.7   58.7  37.3   23.4   30.5     28.9   18.2  \n",
       "2   99.2   59.6  38.9   24.0   28.8     25.2   16.6  \n",
       "3  101.2   60.1  37.3   22.8   32.4     29.4   18.2  \n",
       "4  101.9   63.2  42.2   24.0   32.2     27.7   17.7  "
      ]
     },
     "execution_count": 3,
     "metadata": {},
     "output_type": "execute_result"
    }
   ],
   "source": [
    "data.head()"
   ]
  },
  {
   "cell_type": "code",
   "execution_count": 4,
   "id": "796972aa-1bbc-4bfd-815d-97c38a1af3c1",
   "metadata": {},
   "outputs": [],
   "source": [
    "bodyfat = data['Pct.BF']\n",
    "waist = data['Waist']\n",
    "height = data['Height']\n",
    "waist_height = data[ ['Waist', 'Height'] ]"
   ]
  },
  {
   "cell_type": "code",
   "execution_count": 22,
   "id": "10d64e28-e27b-49c3-ad65-2525ee941709",
   "metadata": {},
   "outputs": [
    {
     "data": {
      "text/plain": [
       "<Axes: >"
      ]
     },
     "execution_count": 22,
     "metadata": {},
     "output_type": "execute_result"
    },
    {
     "data": {
      "image/png": "[encoded data removed]",
      "text/plain": [
       "<Figure size 640x480 with 1 Axes>"
      ]
     },
     "metadata": {},
     "output_type": "display_data"
    }
   ],
   "source": [
    "bodyfat.hist();"
   ]
  },
  {
   "cell_type": "code",
   "execution_count": 5,
   "id": "c1e973ee-d715-4ce5-b797-beff52e31092",
   "metadata": {},
   "outputs": [
    {
     "name": "stdout",
     "output_type": "stream",
     "text": [
      "R_squared: 67.8%\n"
     ]
    }
   ],
   "source": [
    "waist = np.array(waist).reshape(-1, 1)\n",
    "linmod.fit(waist, bodyfat);\n",
    "bodyfat_est = linmod.predict(waist)\n",
    "r = linmod.score(waist, bodyfat)\n",
    "print(f'R_squared: {r * 100:.1f}%')"
   ]
  },
  {
   "cell_type": "code",
   "execution_count": 6,
   "id": "97f0109d-853e-4554-93cb-c09a8bec00f5",
   "metadata": {},
   "outputs": [
    {
     "data": {
      "image/png": "[encoded data removed]",
      "text/plain": [
       "<Figure size 640x480 with 1 Axes>"
      ]
     },
     "metadata": {},
     "output_type": "display_data"
    }
   ],
   "source": [
    "plt.figure()\n",
    "plt.scatter(waist, bodyfat)\n",
    "plt.plot(waist, bodyfat_est, color='r', lw=3);\n",
    "plt.xlabel('Waist')\n",
    "plt.ylabel('% body fat');"
   ]
  },
  {
   "cell_type": "code",
   "execution_count": 7,
   "id": "4b78f950-5a36-4706-806a-06222d448761",
   "metadata": {},
   "outputs": [
    {
     "data": {
      "text/plain": [
       "(-42.734133901722856, 1.6999718705027542)"
      ]
     },
     "execution_count": 7,
     "metadata": {},
     "output_type": "execute_result"
    }
   ],
   "source": [
    "linmod.intercept_, linmod.coef_[0]"
   ]
  },
  {
   "cell_type": "markdown",
   "id": "c5cd2de8-39a2-44cd-a41b-12df636e8d46",
   "metadata": {},
   "source": [
    "The above model is about the correlation between \"Body Fat Percentage\" ($y$) and \"Waist\" ($x_1$).\n",
    "\n",
    "The full model is $y \\sim N(\\mu_y, \\sigma^2)$, where $\\mu_y = \\beta_0 + \\beta_1 x_1$ ($\\beta$'s are unknown coefficients), and $\\sigma$ is unknown.\n",
    "\n",
    "If one sample has 250 measurements, in theory, the 250 sample points come from 250 different Normal distributions. Although these distributions are of the same $\\sigma$, their centers may be distint and linearly depend on waist.\n",
    "\n",
    "Given this framework of OLS, we can linearly regress $y$ against $x_1$ to deduce estimates of the coefficients: $b_0 = -42.73$, $b_1 = 1.70$.\n",
    "\n",
    "Suppose we know (of certainty) that $x_1 = 38$ for a man.  Immediately, we can say that the man's body fat obeys a normal distribution centered at $21.86\\%$.  This center is estimated, because we can never know the true values of the coefficients (what we can do the best is to estimate them).  Therefore, this center may deviate from the true center.  We estimate a **Confidence Interval** for the true center based on our estimated center.\n",
    "\n",
    "Furthermore, that man's body fat may not be exactly equal to the center of the distribution of all men's body fat with 38-inch waist size.  One man's body fat is always more uncerntain than the uncertainty of mean body fat of all men with his waist size.  We can provide a **Predication Interval** for this one man's body fat."
   ]
  },
  {
   "cell_type": "code",
   "execution_count": 23,
   "id": "10c23bac-7e86-4ed1-8d87-1163616e3e63",
   "metadata": {},
   "outputs": [
    {
     "data": {
      "text/plain": [
       "21.864797177381803"
      ]
     },
     "execution_count": 23,
     "metadata": {},
     "output_type": "execute_result"
    }
   ],
   "source": [
    "linmod.intercept_ + linmod.coef_[0] * 38"
   ]
  },
  {
   "cell_type": "code",
   "execution_count": 8,
   "id": "ab8f81f1-f656-45fa-86de-e119b9544001",
   "metadata": {},
   "outputs": [
    {
     "data": {
      "image/png": "[encoded data removed]",
      "text/plain": [
       "<Figure size 640x480 with 1 Axes>"
      ]
     },
     "metadata": {},
     "output_type": "display_data"
    }
   ],
   "source": [
    "residues = bodyfat - bodyfat_est\n",
    "plt.scatter(bodyfat_est, residues, color='r');\n",
    "plt.xlabel('Estimated %$BodyFat$')\n",
    "plt.ylabel('Residues')\n",
    "plt.title('Simple Regression: %BodyFat ~ Waist');"
   ]
  },
  {
   "cell_type": "code",
   "execution_count": 9,
   "id": "5eb512d8-ac30-4aa5-865a-062bb84ee68d",
   "metadata": {},
   "outputs": [],
   "source": [
    "waist = sm.add_constant(waist)"
   ]
  },
  {
   "cell_type": "code",
   "execution_count": 10,
   "id": "09060603-0ddf-4723-959d-19e0635869e6",
   "metadata": {},
   "outputs": [
    {
     "data": {
      "text/plain": [
       "array([[ 1.      , 33.543307],\n",
       "       [ 1.      , 32.677165],\n",
       "       [ 1.      , 34.606299],\n",
       "       [ 1.      , 34.015748],\n",
       "       [ 1.      , 39.370079],\n",
       "       [ 1.      , 37.165354],\n",
       "       [ 1.      , 35.708661],\n",
       "       [ 1.      , 34.84252 ],\n",
       "       [ 1.      , 32.480315],\n",
       "       [ 1.      , 34.88189 ]])"
      ]
     },
     "execution_count": 10,
     "metadata": {},
     "output_type": "execute_result"
    }
   ],
   "source": [
    "waist[:10]"
   ]
  },
  {
   "cell_type": "code",
   "execution_count": 11,
   "id": "bc029aa2-1b03-41ea-adb4-f442fab33590",
   "metadata": {},
   "outputs": [],
   "source": [
    "waist_model = sm.OLS(bodyfat, waist)"
   ]
  },
  {
   "cell_type": "code",
   "execution_count": 12,
   "id": "3631aa66-6f20-4563-9d8d-c3a86781ded5",
   "metadata": {},
   "outputs": [],
   "source": [
    "waist_results = waist_model.fit()"
   ]
  },
  {
   "cell_type": "code",
   "execution_count": 13,
   "id": "9fc8789a-4724-48a2-b8f5-a1f452e00283",
   "metadata": {},
   "outputs": [
    {
     "data": {
      "text/html": [
       "<table class=\"simpletable\">\n",
       "<caption>OLS Regression Results</caption>\n",
       "<tr>\n",
       "  <th>Dep. Variable:</th>         <td>Pct.BF</td>      <th>  R-squared:         </th> <td>   0.678</td>\n",
       "</tr>\n",
       "<tr>\n",
       "  <th>Model:</th>                   <td>OLS</td>       <th>  Adj. R-squared:    </th> <td>   0.677</td>\n",
       "</tr>\n",
       "<tr>\n",
       "  <th>Method:</th>             <td>Least Squares</td>  <th>  F-statistic:       </th> <td>   523.3</td>\n",
       "</tr>\n",
       "<tr>\n",
       "  <th>Date:</th>             <td>Sun, 21 Apr 2024</td> <th>  Prob (F-statistic):</th> <td>4.85e-63</td>\n",
       "</tr>\n",
       "<tr>\n",
       "  <th>Time:</th>                 <td>14:02:37</td>     <th>  Log-Likelihood:    </th> <td> -741.29</td>\n",
       "</tr>\n",
       "<tr>\n",
       "  <th>No. Observations:</th>      <td>   250</td>      <th>  AIC:               </th> <td>   1487.</td>\n",
       "</tr>\n",
       "<tr>\n",
       "  <th>Df Residuals:</th>          <td>   248</td>      <th>  BIC:               </th> <td>   1494.</td>\n",
       "</tr>\n",
       "<tr>\n",
       "  <th>Df Model:</th>              <td>     1</td>      <th>                     </th>     <td> </td>   \n",
       "</tr>\n",
       "<tr>\n",
       "  <th>Covariance Type:</th>      <td>nonrobust</td>    <th>                     </th>     <td> </td>   \n",
       "</tr>\n",
       "</table>\n",
       "<table class=\"simpletable\">\n",
       "<tr>\n",
       "    <td></td>       <th>coef</th>     <th>std err</th>      <th>t</th>      <th>P>|t|</th>  <th>[0.025</th>    <th>0.975]</th>  \n",
       "</tr>\n",
       "<tr>\n",
       "  <th>const</th> <td>  -42.7341</td> <td>    2.717</td> <td>  -15.731</td> <td> 0.000</td> <td>  -48.084</td> <td>  -37.384</td>\n",
       "</tr>\n",
       "<tr>\n",
       "  <th>x1</th>    <td>    1.7000</td> <td>    0.074</td> <td>   22.875</td> <td> 0.000</td> <td>    1.554</td> <td>    1.846</td>\n",
       "</tr>\n",
       "</table>\n",
       "<table class=\"simpletable\">\n",
       "<tr>\n",
       "  <th>Omnibus:</th>       <td> 4.921</td> <th>  Durbin-Watson:     </th> <td>   1.747</td>\n",
       "</tr>\n",
       "<tr>\n",
       "  <th>Prob(Omnibus):</th> <td> 0.085</td> <th>  Jarque-Bera (JB):  </th> <td>   3.148</td>\n",
       "</tr>\n",
       "<tr>\n",
       "  <th>Skew:</th>          <td> 0.071</td> <th>  Prob(JB):          </th> <td>   0.207</td>\n",
       "</tr>\n",
       "<tr>\n",
       "  <th>Kurtosis:</th>      <td> 2.469</td> <th>  Cond. No.          </th> <td>    333.</td>\n",
       "</tr>\n",
       "</table><br/><br/>Notes:<br/>[1] Standard Errors assume that the covariance matrix of the errors is correctly specified."
      ],
      "text/latex": [
       "\\begin{center}\n",
       "\\begin{tabular}{lclc}\n",
       "\\toprule\n",
       "\\textbf{Dep. Variable:}    &      Pct.BF      & \\textbf{  R-squared:         } &     0.678   \\\\\n",
       "\\textbf{Model:}            &       OLS        & \\textbf{  Adj. R-squared:    } &     0.677   \\\\\n",
       "\\textbf{Method:}           &  Least Squares   & \\textbf{  F-statistic:       } &     523.3   \\\\\n",
       "\\textbf{Date:}             & Sun, 21 Apr 2024 & \\textbf{  Prob (F-statistic):} &  4.85e-63   \\\\\n",
       "\\textbf{Time:}             &     14:02:37     & \\textbf{  Log-Likelihood:    } &   -741.29   \\\\\n",
       "\\textbf{No. Observations:} &         250      & \\textbf{  AIC:               } &     1487.   \\\\\n",
       "\\textbf{Df Residuals:}     &         248      & \\textbf{  BIC:               } &     1494.   \\\\\n",
       "\\textbf{Df Model:}         &           1      & \\textbf{                     } &             \\\\\n",
       "\\textbf{Covariance Type:}  &    nonrobust     & \\textbf{                     } &             \\\\\n",
       "\\bottomrule\n",
       "\\end{tabular}\n",
       "\\begin{tabular}{lcccccc}\n",
       "               & \\textbf{coef} & \\textbf{std err} & \\textbf{t} & \\textbf{P$> |$t$|$} & \\textbf{[0.025} & \\textbf{0.975]}  \\\\\n",
       "\\midrule\n",
       "\\textbf{const} &     -42.7341  &        2.717     &   -15.731  &         0.000        &      -48.084    &      -37.384     \\\\\n",
       "\\textbf{x1}    &       1.7000  &        0.074     &    22.875  &         0.000        &        1.554    &        1.846     \\\\\n",
       "\\bottomrule\n",
       "\\end{tabular}\n",
       "\\begin{tabular}{lclc}\n",
       "\\textbf{Omnibus:}       &  4.921 & \\textbf{  Durbin-Watson:     } &    1.747  \\\\\n",
       "\\textbf{Prob(Omnibus):} &  0.085 & \\textbf{  Jarque-Bera (JB):  } &    3.148  \\\\\n",
       "\\textbf{Skew:}          &  0.071 & \\textbf{  Prob(JB):          } &    0.207  \\\\\n",
       "\\textbf{Kurtosis:}      &  2.469 & \\textbf{  Cond. No.          } &     333.  \\\\\n",
       "\\bottomrule\n",
       "\\end{tabular}\n",
       "%\\caption{OLS Regression Results}\n",
       "\\end{center}\n",
       "\n",
       "Notes: \\newline\n",
       " [1] Standard Errors assume that the covariance matrix of the errors is correctly specified."
      ],
      "text/plain": [
       "<class 'statsmodels.iolib.summary.Summary'>\n",
       "\"\"\"\n",
       "                            OLS Regression Results                            \n",
       "==============================================================================\n",
       "Dep. Variable:                 Pct.BF   R-squared:                       0.678\n",
       "Model:                            OLS   Adj. R-squared:                  0.677\n",
       "Method:                 Least Squares   F-statistic:                     523.3\n",
       "Date:                Sun, 21 Apr 2024   Prob (F-statistic):           4.85e-63\n",
       "Time:                        14:02:37   Log-Likelihood:                -741.29\n",
       "No. Observations:                 250   AIC:                             1487.\n",
       "Df Residuals:                     248   BIC:                             1494.\n",
       "Df Model:                           1                                         \n",
       "Covariance Type:            nonrobust                                         \n",
       "==============================================================================\n",
       "                 coef    std err          t      P>|t|      [0.025      0.975]\n",
       "------------------------------------------------------------------------------\n",
       "const        -42.7341      2.717    -15.731      0.000     -48.084     -37.384\n",
       "x1             1.7000      0.074     22.875      0.000       1.554       1.846\n",
       "==============================================================================\n",
       "Omnibus:                        4.921   Durbin-Watson:                   1.747\n",
       "Prob(Omnibus):                  0.085   Jarque-Bera (JB):                3.148\n",
       "Skew:                           0.071   Prob(JB):                        0.207\n",
       "Kurtosis:                       2.469   Cond. No.                         333.\n",
       "==============================================================================\n",
       "\n",
       "Notes:\n",
       "[1] Standard Errors assume that the covariance matrix of the errors is correctly specified.\n",
       "\"\"\""
      ]
     },
     "execution_count": 13,
     "metadata": {},
     "output_type": "execute_result"
    }
   ],
   "source": [
    "waist_results.summary()"
   ]
  },
  {
   "cell_type": "code",
   "execution_count": 14,
   "id": "33ac942c-e628-4501-85bf-6f8c6f871667",
   "metadata": {},
   "outputs": [],
   "source": [
    "height = sm.add_constant(height)"
   ]
  },
  {
   "cell_type": "code",
   "execution_count": 15,
   "id": "a11360b8-f0f8-4f48-b9e3-4abc1817fa34",
   "metadata": {},
   "outputs": [],
   "source": [
    "height_model = sm.OLS(bodyfat, height)"
   ]
  },
  {
   "cell_type": "code",
   "execution_count": 16,
   "id": "0c5aa7fd-3ebc-4254-a823-89a7d5f2267e",
   "metadata": {},
   "outputs": [],
   "source": [
    "height_results = height_model.fit()"
   ]
  },
  {
   "cell_type": "code",
   "execution_count": 17,
   "id": "53160c2a-8fca-46da-83c4-03a9fccd1399",
   "metadata": {},
   "outputs": [
    {
     "data": {
      "text/html": [
       "<table class=\"simpletable\">\n",
       "<caption>OLS Regression Results</caption>\n",
       "<tr>\n",
       "  <th>Dep. Variable:</th>         <td>Pct.BF</td>      <th>  R-squared:         </th> <td>   0.001</td>\n",
       "</tr>\n",
       "<tr>\n",
       "  <th>Model:</th>                   <td>OLS</td>       <th>  Adj. R-squared:    </th> <td>  -0.003</td>\n",
       "</tr>\n",
       "<tr>\n",
       "  <th>Method:</th>             <td>Least Squares</td>  <th>  F-statistic:       </th> <td>  0.2144</td>\n",
       "</tr>\n",
       "<tr>\n",
       "  <th>Date:</th>             <td>Sun, 21 Apr 2024</td> <th>  Prob (F-statistic):</th>  <td> 0.644</td> \n",
       "</tr>\n",
       "<tr>\n",
       "  <th>Time:</th>                 <td>14:04:19</td>     <th>  Log-Likelihood:    </th> <td> -883.01</td>\n",
       "</tr>\n",
       "<tr>\n",
       "  <th>No. Observations:</th>      <td>   250</td>      <th>  AIC:               </th> <td>   1770.</td>\n",
       "</tr>\n",
       "<tr>\n",
       "  <th>Df Residuals:</th>          <td>   248</td>      <th>  BIC:               </th> <td>   1777.</td>\n",
       "</tr>\n",
       "<tr>\n",
       "  <th>Df Model:</th>              <td>     1</td>      <th>                     </th>     <td> </td>   \n",
       "</tr>\n",
       "<tr>\n",
       "  <th>Covariance Type:</th>      <td>nonrobust</td>    <th>                     </th>     <td> </td>   \n",
       "</tr>\n",
       "</table>\n",
       "<table class=\"simpletable\">\n",
       "<tr>\n",
       "     <td></td>       <th>coef</th>     <th>std err</th>      <th>t</th>      <th>P>|t|</th>  <th>[0.025</th>    <th>0.975]</th>  \n",
       "</tr>\n",
       "<tr>\n",
       "  <th>const</th>  <td>   25.5808</td> <td>   14.154</td> <td>    1.807</td> <td> 0.072</td> <td>   -2.297</td> <td>   53.458</td>\n",
       "</tr>\n",
       "<tr>\n",
       "  <th>Height</th> <td>   -0.0932</td> <td>    0.201</td> <td>   -0.463</td> <td> 0.644</td> <td>   -0.489</td> <td>    0.303</td>\n",
       "</tr>\n",
       "</table>\n",
       "<table class=\"simpletable\">\n",
       "<tr>\n",
       "  <th>Omnibus:</th>       <td> 2.031</td> <th>  Durbin-Watson:     </th> <td>   1.484</td>\n",
       "</tr>\n",
       "<tr>\n",
       "  <th>Prob(Omnibus):</th> <td> 0.362</td> <th>  Jarque-Bera (JB):  </th> <td>   1.892</td>\n",
       "</tr>\n",
       "<tr>\n",
       "  <th>Skew:</th>          <td> 0.125</td> <th>  Prob(JB):          </th> <td>   0.388</td>\n",
       "</tr>\n",
       "<tr>\n",
       "  <th>Kurtosis:</th>      <td> 2.656</td> <th>  Cond. No.          </th> <td>1.90e+03</td>\n",
       "</tr>\n",
       "</table><br/><br/>Notes:<br/>[1] Standard Errors assume that the covariance matrix of the errors is correctly specified.<br/>[2] The condition number is large, 1.9e+03. This might indicate that there are<br/>strong multicollinearity or other numerical problems."
      ],
      "text/latex": [
       "\\begin{center}\n",
       "\\begin{tabular}{lclc}\n",
       "\\toprule\n",
       "\\textbf{Dep. Variable:}    &      Pct.BF      & \\textbf{  R-squared:         } &     0.001   \\\\\n",
       "\\textbf{Model:}            &       OLS        & \\textbf{  Adj. R-squared:    } &    -0.003   \\\\\n",
       "\\textbf{Method:}           &  Least Squares   & \\textbf{  F-statistic:       } &    0.2144   \\\\\n",
       "\\textbf{Date:}             & Sun, 21 Apr 2024 & \\textbf{  Prob (F-statistic):} &    0.644    \\\\\n",
       "\\textbf{Time:}             &     14:04:19     & \\textbf{  Log-Likelihood:    } &   -883.01   \\\\\n",
       "\\textbf{No. Observations:} &         250      & \\textbf{  AIC:               } &     1770.   \\\\\n",
       "\\textbf{Df Residuals:}     &         248      & \\textbf{  BIC:               } &     1777.   \\\\\n",
       "\\textbf{Df Model:}         &           1      & \\textbf{                     } &             \\\\\n",
       "\\textbf{Covariance Type:}  &    nonrobust     & \\textbf{                     } &             \\\\\n",
       "\\bottomrule\n",
       "\\end{tabular}\n",
       "\\begin{tabular}{lcccccc}\n",
       "                & \\textbf{coef} & \\textbf{std err} & \\textbf{t} & \\textbf{P$> |$t$|$} & \\textbf{[0.025} & \\textbf{0.975]}  \\\\\n",
       "\\midrule\n",
       "\\textbf{const}  &      25.5808  &       14.154     &     1.807  &         0.072        &       -2.297    &       53.458     \\\\\n",
       "\\textbf{Height} &      -0.0932  &        0.201     &    -0.463  &         0.644        &       -0.489    &        0.303     \\\\\n",
       "\\bottomrule\n",
       "\\end{tabular}\n",
       "\\begin{tabular}{lclc}\n",
       "\\textbf{Omnibus:}       &  2.031 & \\textbf{  Durbin-Watson:     } &    1.484  \\\\\n",
       "\\textbf{Prob(Omnibus):} &  0.362 & \\textbf{  Jarque-Bera (JB):  } &    1.892  \\\\\n",
       "\\textbf{Skew:}          &  0.125 & \\textbf{  Prob(JB):          } &    0.388  \\\\\n",
       "\\textbf{Kurtosis:}      &  2.656 & \\textbf{  Cond. No.          } & 1.90e+03  \\\\\n",
       "\\bottomrule\n",
       "\\end{tabular}\n",
       "%\\caption{OLS Regression Results}\n",
       "\\end{center}\n",
       "\n",
       "Notes: \\newline\n",
       " [1] Standard Errors assume that the covariance matrix of the errors is correctly specified. \\newline\n",
       " [2] The condition number is large, 1.9e+03. This might indicate that there are \\newline\n",
       " strong multicollinearity or other numerical problems."
      ],
      "text/plain": [
       "<class 'statsmodels.iolib.summary.Summary'>\n",
       "\"\"\"\n",
       "                            OLS Regression Results                            \n",
       "==============================================================================\n",
       "Dep. Variable:                 Pct.BF   R-squared:                       0.001\n",
       "Model:                            OLS   Adj. R-squared:                 -0.003\n",
       "Method:                 Least Squares   F-statistic:                    0.2144\n",
       "Date:                Sun, 21 Apr 2024   Prob (F-statistic):              0.644\n",
       "Time:                        14:04:19   Log-Likelihood:                -883.01\n",
       "No. Observations:                 250   AIC:                             1770.\n",
       "Df Residuals:                     248   BIC:                             1777.\n",
       "Df Model:                           1                                         \n",
       "Covariance Type:            nonrobust                                         \n",
       "==============================================================================\n",
       "                 coef    std err          t      P>|t|      [0.025      0.975]\n",
       "------------------------------------------------------------------------------\n",
       "const         25.5808     14.154      1.807      0.072      -2.297      53.458\n",
       "Height        -0.0932      0.201     -0.463      0.644      -0.489       0.303\n",
       "==============================================================================\n",
       "Omnibus:                        2.031   Durbin-Watson:                   1.484\n",
       "Prob(Omnibus):                  0.362   Jarque-Bera (JB):                1.892\n",
       "Skew:                           0.125   Prob(JB):                        0.388\n",
       "Kurtosis:                       2.656   Cond. No.                     1.90e+03\n",
       "==============================================================================\n",
       "\n",
       "Notes:\n",
       "[1] Standard Errors assume that the covariance matrix of the errors is correctly specified.\n",
       "[2] The condition number is large, 1.9e+03. This might indicate that there are\n",
       "strong multicollinearity or other numerical problems.\n",
       "\"\"\""
      ]
     },
     "execution_count": 17,
     "metadata": {},
     "output_type": "execute_result"
    }
   ],
   "source": [
    "height_results.summary()"
   ]
  },
  {
   "cell_type": "code",
   "execution_count": 18,
   "id": "a8aff1ac-0cf7-4c05-8d17-80f084424117",
   "metadata": {},
   "outputs": [],
   "source": [
    "waist_height = sm.add_constant(waist_height)"
   ]
  },
  {
   "cell_type": "code",
   "execution_count": 19,
   "id": "45fe8119-46c3-4b7c-b4e8-25e4f8fab93c",
   "metadata": {},
   "outputs": [],
   "source": [
    "waist_height_model = sm.OLS(bodyfat, waist_height)"
   ]
  },
  {
   "cell_type": "code",
   "execution_count": 20,
   "id": "640ab73f-1cdd-4d4e-a744-149f20ad87e1",
   "metadata": {},
   "outputs": [],
   "source": [
    "waist_height_results = waist_height_model.fit()"
   ]
  },
  {
   "cell_type": "code",
   "execution_count": 21,
   "id": "dba891dd-74be-40fa-ae2e-74e0284ac4c0",
   "metadata": {},
   "outputs": [
    {
     "data": {
      "text/html": [
       "<table class=\"simpletable\">\n",
       "<caption>OLS Regression Results</caption>\n",
       "<tr>\n",
       "  <th>Dep. Variable:</th>         <td>Pct.BF</td>      <th>  R-squared:         </th> <td>   0.713</td>\n",
       "</tr>\n",
       "<tr>\n",
       "  <th>Model:</th>                   <td>OLS</td>       <th>  Adj. R-squared:    </th> <td>   0.711</td>\n",
       "</tr>\n",
       "<tr>\n",
       "  <th>Method:</th>             <td>Least Squares</td>  <th>  F-statistic:       </th> <td>   307.1</td>\n",
       "</tr>\n",
       "<tr>\n",
       "  <th>Date:</th>             <td>Sun, 21 Apr 2024</td> <th>  Prob (F-statistic):</th> <td>1.02e-67</td>\n",
       "</tr>\n",
       "<tr>\n",
       "  <th>Time:</th>                 <td>14:05:19</td>     <th>  Log-Likelihood:    </th> <td> -726.99</td>\n",
       "</tr>\n",
       "<tr>\n",
       "  <th>No. Observations:</th>      <td>   250</td>      <th>  AIC:               </th> <td>   1460.</td>\n",
       "</tr>\n",
       "<tr>\n",
       "  <th>Df Residuals:</th>          <td>   247</td>      <th>  BIC:               </th> <td>   1471.</td>\n",
       "</tr>\n",
       "<tr>\n",
       "  <th>Df Model:</th>              <td>     2</td>      <th>                     </th>     <td> </td>   \n",
       "</tr>\n",
       "<tr>\n",
       "  <th>Covariance Type:</th>      <td>nonrobust</td>    <th>                     </th>     <td> </td>   \n",
       "</tr>\n",
       "</table>\n",
       "<table class=\"simpletable\">\n",
       "<tr>\n",
       "     <td></td>       <th>coef</th>     <th>std err</th>      <th>t</th>      <th>P>|t|</th>  <th>[0.025</th>    <th>0.975]</th>  \n",
       "</tr>\n",
       "<tr>\n",
       "  <th>const</th>  <td>   -3.1009</td> <td>    7.686</td> <td>   -0.403</td> <td> 0.687</td> <td>  -18.240</td> <td>   12.038</td>\n",
       "</tr>\n",
       "<tr>\n",
       "  <th>Waist</th>  <td>    1.7731</td> <td>    0.072</td> <td>   24.770</td> <td> 0.000</td> <td>    1.632</td> <td>    1.914</td>\n",
       "</tr>\n",
       "<tr>\n",
       "  <th>Height</th> <td>   -0.6015</td> <td>    0.110</td> <td>   -5.472</td> <td> 0.000</td> <td>   -0.818</td> <td>   -0.385</td>\n",
       "</tr>\n",
       "</table>\n",
       "<table class=\"simpletable\">\n",
       "<tr>\n",
       "  <th>Omnibus:</th>       <td> 6.766</td> <th>  Durbin-Watson:     </th> <td>   1.742</td>\n",
       "</tr>\n",
       "<tr>\n",
       "  <th>Prob(Omnibus):</th> <td> 0.034</td> <th>  Jarque-Bera (JB):  </th> <td>   3.839</td>\n",
       "</tr>\n",
       "<tr>\n",
       "  <th>Skew:</th>          <td> 0.065</td> <th>  Prob(JB):          </th> <td>   0.147</td>\n",
       "</tr>\n",
       "<tr>\n",
       "  <th>Kurtosis:</th>      <td> 2.407</td> <th>  Cond. No.          </th> <td>2.16e+03</td>\n",
       "</tr>\n",
       "</table><br/><br/>Notes:<br/>[1] Standard Errors assume that the covariance matrix of the errors is correctly specified.<br/>[2] The condition number is large, 2.16e+03. This might indicate that there are<br/>strong multicollinearity or other numerical problems."
      ],
      "text/latex": [
       "\\begin{center}\n",
       "\\begin{tabular}{lclc}\n",
       "\\toprule\n",
       "\\textbf{Dep. Variable:}    &      Pct.BF      & \\textbf{  R-squared:         } &     0.713   \\\\\n",
       "\\textbf{Model:}            &       OLS        & \\textbf{  Adj. R-squared:    } &     0.711   \\\\\n",
       "\\textbf{Method:}           &  Least Squares   & \\textbf{  F-statistic:       } &     307.1   \\\\\n",
       "\\textbf{Date:}             & Sun, 21 Apr 2024 & \\textbf{  Prob (F-statistic):} &  1.02e-67   \\\\\n",
       "\\textbf{Time:}             &     14:05:19     & \\textbf{  Log-Likelihood:    } &   -726.99   \\\\\n",
       "\\textbf{No. Observations:} &         250      & \\textbf{  AIC:               } &     1460.   \\\\\n",
       "\\textbf{Df Residuals:}     &         247      & \\textbf{  BIC:               } &     1471.   \\\\\n",
       "\\textbf{Df Model:}         &           2      & \\textbf{                     } &             \\\\\n",
       "\\textbf{Covariance Type:}  &    nonrobust     & \\textbf{                     } &             \\\\\n",
       "\\bottomrule\n",
       "\\end{tabular}\n",
       "\\begin{tabular}{lcccccc}\n",
       "                & \\textbf{coef} & \\textbf{std err} & \\textbf{t} & \\textbf{P$> |$t$|$} & \\textbf{[0.025} & \\textbf{0.975]}  \\\\\n",
       "\\midrule\n",
       "\\textbf{const}  &      -3.1009  &        7.686     &    -0.403  &         0.687        &      -18.240    &       12.038     \\\\\n",
       "\\textbf{Waist}  &       1.7731  &        0.072     &    24.770  &         0.000        &        1.632    &        1.914     \\\\\n",
       "\\textbf{Height} &      -0.6015  &        0.110     &    -5.472  &         0.000        &       -0.818    &       -0.385     \\\\\n",
       "\\bottomrule\n",
       "\\end{tabular}\n",
       "\\begin{tabular}{lclc}\n",
       "\\textbf{Omnibus:}       &  6.766 & \\textbf{  Durbin-Watson:     } &    1.742  \\\\\n",
       "\\textbf{Prob(Omnibus):} &  0.034 & \\textbf{  Jarque-Bera (JB):  } &    3.839  \\\\\n",
       "\\textbf{Skew:}          &  0.065 & \\textbf{  Prob(JB):          } &    0.147  \\\\\n",
       "\\textbf{Kurtosis:}      &  2.407 & \\textbf{  Cond. No.          } & 2.16e+03  \\\\\n",
       "\\bottomrule\n",
       "\\end{tabular}\n",
       "%\\caption{OLS Regression Results}\n",
       "\\end{center}\n",
       "\n",
       "Notes: \\newline\n",
       " [1] Standard Errors assume that the covariance matrix of the errors is correctly specified. \\newline\n",
       " [2] The condition number is large, 2.16e+03. This might indicate that there are \\newline\n",
       " strong multicollinearity or other numerical problems."
      ],
      "text/plain": [
       "<class 'statsmodels.iolib.summary.Summary'>\n",
       "\"\"\"\n",
       "                            OLS Regression Results                            \n",
       "==============================================================================\n",
       "Dep. Variable:                 Pct.BF   R-squared:                       0.713\n",
       "Model:                            OLS   Adj. R-squared:                  0.711\n",
       "Method:                 Least Squares   F-statistic:                     307.1\n",
       "Date:                Sun, 21 Apr 2024   Prob (F-statistic):           1.02e-67\n",
       "Time:                        14:05:19   Log-Likelihood:                -726.99\n",
       "No. Observations:                 250   AIC:                             1460.\n",
       "Df Residuals:                     247   BIC:                             1471.\n",
       "Df Model:                           2                                         \n",
       "Covariance Type:            nonrobust                                         \n",
       "==============================================================================\n",
       "                 coef    std err          t      P>|t|      [0.025      0.975]\n",
       "------------------------------------------------------------------------------\n",
       "const         -3.1009      7.686     -0.403      0.687     -18.240      12.038\n",
       "Waist          1.7731      0.072     24.770      0.000       1.632       1.914\n",
       "Height        -0.6015      0.110     -5.472      0.000      -0.818      -0.385\n",
       "==============================================================================\n",
       "Omnibus:                        6.766   Durbin-Watson:                   1.742\n",
       "Prob(Omnibus):                  0.034   Jarque-Bera (JB):                3.839\n",
       "Skew:                           0.065   Prob(JB):                        0.147\n",
       "Kurtosis:                       2.407   Cond. No.                     2.16e+03\n",
       "==============================================================================\n",
       "\n",
       "Notes:\n",
       "[1] Standard Errors assume that the covariance matrix of the errors is correctly specified.\n",
       "[2] The condition number is large, 2.16e+03. This might indicate that there are\n",
       "strong multicollinearity or other numerical problems.\n",
       "\"\"\""
      ]
     },
     "execution_count": 21,
     "metadata": {},
     "output_type": "execute_result"
    }
   ],
   "source": [
    "waist_height_results.summary()"
   ]
  },
  {
   "cell_type": "code",
   "execution_count": null,
   "id": "f0ea7cd5-408f-42bf-9663-4a4b27effa13",
   "metadata": {},
   "outputs": [],
   "source": []
  }
 ],
 "metadata": {
  "kernelspec": {
   "display_name": "Python 3 (ipykernel)",
   "language": "python",
   "name": "python3"
  },
  "language_info": {
   "codemirror_mode": {
    "name": "ipython",
    "version": 3
   },
   "file_extension": ".py",
   "mimetype": "text/x-python",
   "name": "python",
   "nbconvert_exporter": "python",
   "pygments_lexer": "ipython3",
   "version": "3.11.5"
  }
 },
 "nbformat": 4,
 "nbformat_minor": 5
}
