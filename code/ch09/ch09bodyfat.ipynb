{
 "cells": [
  {
   "cell_type": "code",
   "execution_count": 1,
   "id": "cfd9ee43",
   "metadata": {},
   "outputs": [],
   "source": [
    "import numpy as np\n",
    "import pandas as pd\n",
    "import matplotlib\n",
    "# %matplotlib notebook\n",
    "from matplotlib import pyplot as plt\n",
    "from sklearn.linear_model import LinearRegression\n",
    "import statsmodels.api as sm\n",
    "linmod = LinearRegression()"
   ]
  },
  {
   "cell_type": "code",
   "execution_count": 2,
   "id": "00b74dfe",
   "metadata": {},
   "outputs": [],
   "source": [
    "datafile = '../../dataset/ch09/bodyfat.txt'\n",
    "bodyfat = pd.read_csv(datafile, sep='\\t')"
   ]
  },
  {
   "cell_type": "code",
   "execution_count": 3,
   "id": "03562ef6",
   "metadata": {},
   "outputs": [
    {
     "data": {
      "text/html": [
       "<div>\n",
       "<style scoped>\n",
       "    .dataframe tbody tr th:only-of-type {\n",
       "        vertical-align: middle;\n",
       "    }\n",
       "\n",
       "    .dataframe tbody tr th {\n",
       "        vertical-align: top;\n",
       "    }\n",
       "\n",
       "    .dataframe thead th {\n",
       "        text-align: right;\n",
       "    }\n",
       "</style>\n",
       "<table border=\"1\" class=\"dataframe\">\n",
       "  <thead>\n",
       "    <tr style=\"text-align: right;\">\n",
       "      <th></th>\n",
       "      <th>Density</th>\n",
       "      <th>Pct.BF</th>\n",
       "      <th>Age</th>\n",
       "      <th>Weight</th>\n",
       "      <th>Height</th>\n",
       "      <th>Neck</th>\n",
       "      <th>Chest</th>\n",
       "      <th>Abdomen</th>\n",
       "      <th>Waist</th>\n",
       "      <th>Hip</th>\n",
       "      <th>Thigh</th>\n",
       "      <th>Knee</th>\n",
       "      <th>Ankle</th>\n",
       "      <th>Bicep</th>\n",
       "      <th>Forearm</th>\n",
       "      <th>Wrist</th>\n",
       "    </tr>\n",
       "  </thead>\n",
       "  <tbody>\n",
       "    <tr>\n",
       "      <th>0</th>\n",
       "      <td>1.0708</td>\n",
       "      <td>12.3</td>\n",
       "      <td>23</td>\n",
       "      <td>154.25</td>\n",
       "      <td>67.75</td>\n",
       "      <td>36.2</td>\n",
       "      <td>93.1</td>\n",
       "      <td>85.2</td>\n",
       "      <td>33.543307</td>\n",
       "      <td>94.5</td>\n",
       "      <td>59.0</td>\n",
       "      <td>37.3</td>\n",
       "      <td>21.9</td>\n",
       "      <td>32.0</td>\n",
       "      <td>27.4</td>\n",
       "      <td>17.1</td>\n",
       "    </tr>\n",
       "    <tr>\n",
       "      <th>1</th>\n",
       "      <td>1.0853</td>\n",
       "      <td>6.1</td>\n",
       "      <td>22</td>\n",
       "      <td>173.25</td>\n",
       "      <td>72.25</td>\n",
       "      <td>38.5</td>\n",
       "      <td>93.6</td>\n",
       "      <td>83.0</td>\n",
       "      <td>32.677165</td>\n",
       "      <td>98.7</td>\n",
       "      <td>58.7</td>\n",
       "      <td>37.3</td>\n",
       "      <td>23.4</td>\n",
       "      <td>30.5</td>\n",
       "      <td>28.9</td>\n",
       "      <td>18.2</td>\n",
       "    </tr>\n",
       "    <tr>\n",
       "      <th>2</th>\n",
       "      <td>1.0414</td>\n",
       "      <td>25.3</td>\n",
       "      <td>22</td>\n",
       "      <td>154.00</td>\n",
       "      <td>66.25</td>\n",
       "      <td>34.0</td>\n",
       "      <td>95.8</td>\n",
       "      <td>87.9</td>\n",
       "      <td>34.606299</td>\n",
       "      <td>99.2</td>\n",
       "      <td>59.6</td>\n",
       "      <td>38.9</td>\n",
       "      <td>24.0</td>\n",
       "      <td>28.8</td>\n",
       "      <td>25.2</td>\n",
       "      <td>16.6</td>\n",
       "    </tr>\n",
       "    <tr>\n",
       "      <th>3</th>\n",
       "      <td>1.0751</td>\n",
       "      <td>10.4</td>\n",
       "      <td>26</td>\n",
       "      <td>184.75</td>\n",
       "      <td>72.25</td>\n",
       "      <td>37.4</td>\n",
       "      <td>101.8</td>\n",
       "      <td>86.4</td>\n",
       "      <td>34.015748</td>\n",
       "      <td>101.2</td>\n",
       "      <td>60.1</td>\n",
       "      <td>37.3</td>\n",
       "      <td>22.8</td>\n",
       "      <td>32.4</td>\n",
       "      <td>29.4</td>\n",
       "      <td>18.2</td>\n",
       "    </tr>\n",
       "    <tr>\n",
       "      <th>4</th>\n",
       "      <td>1.0340</td>\n",
       "      <td>28.7</td>\n",
       "      <td>24</td>\n",
       "      <td>184.25</td>\n",
       "      <td>71.25</td>\n",
       "      <td>34.4</td>\n",
       "      <td>97.3</td>\n",
       "      <td>100.0</td>\n",
       "      <td>39.370079</td>\n",
       "      <td>101.9</td>\n",
       "      <td>63.2</td>\n",
       "      <td>42.2</td>\n",
       "      <td>24.0</td>\n",
       "      <td>32.2</td>\n",
       "      <td>27.7</td>\n",
       "      <td>17.7</td>\n",
       "    </tr>\n",
       "  </tbody>\n",
       "</table>\n",
       "</div>"
      ],
      "text/plain": [
       "   Density  Pct.BF  Age  Weight  Height  Neck  Chest  Abdomen      Waist  \\\n",
       "0   1.0708    12.3   23  154.25   67.75  36.2   93.1     85.2  33.543307   \n",
       "1   1.0853     6.1   22  173.25   72.25  38.5   93.6     83.0  32.677165   \n",
       "2   1.0414    25.3   22  154.00   66.25  34.0   95.8     87.9  34.606299   \n",
       "3   1.0751    10.4   26  184.75   72.25  37.4  101.8     86.4  34.015748   \n",
       "4   1.0340    28.7   24  184.25   71.25  34.4   97.3    100.0  39.370079   \n",
       "\n",
       "     Hip  Thigh  Knee  Ankle  Bicep  Forearm  Wrist  \n",
       "0   94.5   59.0  37.3   21.9   32.0     27.4   17.1  \n",
       "1   98.7   58.7  37.3   23.4   30.5     28.9   18.2  \n",
       "2   99.2   59.6  38.9   24.0   28.8     25.2   16.6  \n",
       "3  101.2   60.1  37.3   22.8   32.4     29.4   18.2  \n",
       "4  101.9   63.2  42.2   24.0   32.2     27.7   17.7  "
      ]
     },
     "execution_count": 3,
     "metadata": {},
     "output_type": "execute_result"
    }
   ],
   "source": [
    "bodyfat.head()"
   ]
  },
  {
   "cell_type": "markdown",
   "id": "0573b86f",
   "metadata": {},
   "source": [
    "### Simple Regression: % Body Fat ~ Waist Size"
   ]
  },
  {
   "cell_type": "code",
   "execution_count": null,
   "id": "8c607a3c",
   "metadata": {},
   "outputs": [],
   "source": [
    "y = bodyfat['Pct.BF']"
   ]
  },
  {
   "cell_type": "code",
   "execution_count": null,
   "id": "92be88a9",
   "metadata": {},
   "outputs": [],
   "source": [
    "x = bodyfat['Waist']"
   ]
  },
  {
   "cell_type": "code",
   "execution_count": null,
   "id": "7c734d33",
   "metadata": {},
   "outputs": [],
   "source": [
    "x = np.array(x).reshape(-1, 1)\n",
    "linmod.fit(x, y);\n",
    "y_hat = linmod.predict(x)\n",
    "r = linmod.score(x, y)\n",
    "print(f'R_squared: {r * 100:.1f}%')"
   ]
  },
  {
   "cell_type": "code",
   "execution_count": null,
   "id": "5b4ff046",
   "metadata": {},
   "outputs": [],
   "source": [
    "plt.figure()\n",
    "plt.scatter(x, y)\n",
    "plt.plot(x, y_hat, color='r', lw=3);\n",
    "plt.xlabel('Waist')\n",
    "plt.ylabel('% body fat');"
   ]
  },
  {
   "cell_type": "code",
   "execution_count": null,
   "id": "1597a2ba",
   "metadata": {},
   "outputs": [],
   "source": [
    "residues = y - y_hat\n",
    "plt.scatter(y_hat, residues, color='r');\n",
    "plt.xlabel('Estimated %$BodyFat$')\n",
    "plt.ylabel('Residues')\n",
    "plt.title('Simple Regression: %BodyFat ~ Waist');"
   ]
  },
  {
   "cell_type": "code",
   "execution_count": null,
   "id": "12401881",
   "metadata": {},
   "outputs": [],
   "source": [
    "x = bodyfat['Height']"
   ]
  },
  {
   "cell_type": "code",
   "execution_count": null,
   "id": "e91cc925",
   "metadata": {},
   "outputs": [],
   "source": [
    "x = np.array(x).reshape(-1, 1)\n",
    "linmod.fit(x, y);\n",
    "y_hat = linmod.predict(x)\n",
    "r = linmod.score(x, y)\n",
    "print(f'R_squared: {r * 100:.1f}%')"
   ]
  },
  {
   "cell_type": "code",
   "execution_count": null,
   "id": "d88f312d",
   "metadata": {},
   "outputs": [],
   "source": [
    "plt.figure()\n",
    "plt.scatter(x, y)\n",
    "plt.plot(x, y_hat, color='r', lw=3);\n",
    "plt.xlabel('Height')\n",
    "plt.ylabel('% body fat');"
   ]
  },
  {
   "cell_type": "code",
   "execution_count": null,
   "id": "c2f00428",
   "metadata": {},
   "outputs": [],
   "source": [
    "residues = y - y_hat\n",
    "plt.scatter(y_hat, residues, color='r');\n",
    "plt.xlabel('Estimated %$BodyFat$')\n",
    "plt.ylabel('Residues')\n",
    "plt.title('Simple Regression: %BodyFat ~ Waist');"
   ]
  },
  {
   "cell_type": "code",
   "execution_count": null,
   "id": "87e6f871",
   "metadata": {},
   "outputs": [],
   "source": [
    "plt.hist(bodyfat['Pct.BF'])\n",
    "plt.title(\"% body fat\");"
   ]
  },
  {
   "cell_type": "code",
   "execution_count": null,
   "id": "a06df846",
   "metadata": {},
   "outputs": [],
   "source": [
    "plt.hist(bodyfat['Waist'])\n",
    "plt.title(\"Waist\");"
   ]
  },
  {
   "cell_type": "code",
   "execution_count": null,
   "id": "d62c3de9",
   "metadata": {},
   "outputs": [],
   "source": [
    "thin  = bodyfat[(bodyfat['Waist']>=32) & (bodyfat['Waist']<32.5)]\n",
    "thick = bodyfat[(bodyfat['Waist']>=36) & (bodyfat['Waist']<36.5)]"
   ]
  },
  {
   "cell_type": "code",
   "execution_count": null,
   "id": "2cc710b3",
   "metadata": {},
   "outputs": [],
   "source": [
    "y = thin['Pct.BF']\n",
    "x = thin['Height']\n",
    "x = np.array(x).reshape(-1, 1)\n",
    "linmod.fit(x, y);\n",
    "y_hat = linmod.predict(x)\n",
    "plt.figure()\n",
    "plt.scatter(x, y)\n",
    "plt.plot(x, y_hat, color='r', lw=3);\n",
    "plt.xlabel('Height')\n",
    "plt.ylabel('% body fat');"
   ]
  },
  {
   "cell_type": "code",
   "execution_count": null,
   "id": "ff57dc96",
   "metadata": {},
   "outputs": [],
   "source": [
    "y = thick['Pct.BF']\n",
    "x = thick['Height']\n",
    "x = np.array(x).reshape(-1, 1)\n",
    "linmod.fit(x, y);\n",
    "y_hat = linmod.predict(x)\n",
    "plt.figure()\n",
    "plt.scatter(x, y)\n",
    "plt.plot(x, y_hat, color='r', lw=3);\n",
    "plt.xlabel('Height')\n",
    "plt.ylabel('% body fat');"
   ]
  },
  {
   "cell_type": "markdown",
   "id": "92215410",
   "metadata": {},
   "source": [
    "### Multiple Regression:  % Body Fat ~ (Waist Size, Height)"
   ]
  },
  {
   "cell_type": "code",
   "execution_count": null,
   "id": "4364b23b",
   "metadata": {},
   "outputs": [],
   "source": [
    "x = bodyfat[ ['Waist', 'Height'] ]\n",
    "y = bodyfat['Pct.BF']"
   ]
  },
  {
   "cell_type": "code",
   "execution_count": null,
   "id": "0008eba7",
   "metadata": {},
   "outputs": [],
   "source": [
    "linmod.fit(x, y);\n",
    "y_hat = linmod.predict(x)\n",
    "residues = y - y_hat\n",
    "r = linmod.score(x, y)\n",
    "print(f'R_squared: {r * 100:.1f}%')"
   ]
  },
  {
   "cell_type": "code",
   "execution_count": null,
   "id": "a0887f44",
   "metadata": {},
   "outputs": [],
   "source": [
    "print(f'Waist coef: {linmod.coef_[0]:.4f}')\n",
    "print(f'Height coef: {linmod.coef_[1]:.4f}')"
   ]
  },
  {
   "cell_type": "code",
   "execution_count": null,
   "id": "bf6865ce",
   "metadata": {},
   "outputs": [],
   "source": [
    "plt.figure()\n",
    "plt.scatter(y_hat, residues, color='r');\n",
    "plt.xlabel('Estimated %$BodyFat$')\n",
    "plt.ylabel('Residues')\n",
    "plt.title('Multiple Regression: %BodyFat ~ Waist, Height');"
   ]
  },
  {
   "cell_type": "code",
   "execution_count": null,
   "id": "9c8834ee",
   "metadata": {},
   "outputs": [],
   "source": [
    "x1 = np.array(bodyfat['Waist'])\n",
    "x2 = np.array(bodyfat['Height'])\n",
    "X1, X2 = np.meshgrid(x1, x2)\n",
    "x1_bar = x1.mean()\n",
    "x2_bar = x2.mean()\n",
    "y_bar = y.mean()\n",
    "fitted = linmod.coef_[0] * (X1-x1_bar) + linmod.coef_[1] * (X2 - x2_bar) + y_bar\n",
    "fig = plt.figure()\n",
    "ax = fig.add_subplot(projection='3d')\n",
    "ax.scatter(x1, x2, np.array(y));\n",
    "ax.plot_surface(X1, X2, fitted, color='r');\n",
    "ax.set_xlabel('Waist')\n",
    "ax.set_ylabel('Height')\n",
    "ax.set_zlabel('% body fat');"
   ]
  },
  {
   "cell_type": "code",
   "execution_count": null,
   "id": "e09f8914",
   "metadata": {},
   "outputs": [],
   "source": [
    "linmod.fit(np.array(bodyfat['Waist']).reshape(-1, 1), y)\n",
    "fat_residues = y - linmod.predict(np.array(bodyfat['Waist']).reshape(-1, 1))\n",
    "\n",
    "linmod.fit(np.array(bodyfat['Waist']).reshape(-1, 1), bodyfat['Height'])\n",
    "height_residues = bodyfat['Height'] - linmod.predict(np.array(bodyfat['Waist']).reshape(-1, 1))\n",
    "\n",
    "plt.scatter(height_residues, fat_residues)\n",
    "plt.ylabel('%$BodyFat$ residues after accounting for $Waist$')\n",
    "plt.xlabel('$Height$ residues after accounting for $Waist$')\n",
    "\n",
    "linmod.fit(np.array(height_residues).reshape(-1,1), fat_residues)\n",
    "plt.title(f'Linear Coefficient: {linmod.coef_[0]:.4f}')\n",
    "plt.plot(height_residues, linmod.predict(np.array(height_residues).reshape(-1,1)), 'r');\n"
   ]
  },
  {
   "cell_type": "markdown",
   "id": "e767ef09",
   "metadata": {},
   "source": [
    "**Note**: \n",
    "\n",
    "Thus computed linear coefficient is the same as the *Height* coefficient obtained in the above multi-regression.\n"
   ]
  },
  {
   "cell_type": "code",
   "execution_count": null,
   "id": "7376bc4a",
   "metadata": {},
   "outputs": [],
   "source": [
    "sm.graphics.plot_partregress(y, 'Height', ['Waist'], data=bodyfat,\n",
    "                             obs_labels=False);"
   ]
  },
  {
   "cell_type": "markdown",
   "id": "e90fb9fb",
   "metadata": {},
   "source": [
    "### Multiple Regression: % Body Fat ~ (Waist Size, ...)"
   ]
  },
  {
   "cell_type": "code",
   "execution_count": null,
   "id": "e37e29be",
   "metadata": {},
   "outputs": [],
   "source": [
    "bodyfat.columns"
   ]
  },
  {
   "cell_type": "code",
   "execution_count": null,
   "id": "0b84c47d",
   "metadata": {},
   "outputs": [],
   "source": [
    "x = bodyfat[ ['Waist', 'Weight'] ]\n",
    "linmod.fit(x, y);\n",
    "y_hat = linmod.predict(x)\n",
    "residues = y - y_hat\n",
    "r = linmod.score(x, y)\n",
    "print(f'R_squared: {r * 100:.1f}%')\n",
    "plt.figure()\n",
    "plt.scatter(y_hat, residues, color='r');\n",
    "plt.xlabel('y_hat')\n",
    "plt.ylabel('residues')\n",
    "plt.title('Multiple Regression: %BodyFat ~ Waist, Weight');"
   ]
  },
  {
   "cell_type": "code",
   "execution_count": null,
   "id": "325c9aa1",
   "metadata": {},
   "outputs": [],
   "source": [
    "x1 = bodyfat['Waist']\n",
    "x1 = np.array(x1).reshape(-1, 1)\n",
    "x2 = bodyfat['Height']\n",
    "y = bodyfat['Pct.BF']\n",
    "linmod.fit(x1, y)\n",
    "ey = y - linmod.predict(x1)\n",
    "linmod.fit(x1, x2)\n",
    "ex2 = x2 - linmod.predict(x1)"
   ]
  },
  {
   "cell_type": "code",
   "execution_count": null,
   "id": "47769ba1",
   "metadata": {},
   "outputs": [],
   "source": [
    "linmod.fit(np.array(ex2).reshape(-1,1), ey)\n",
    "plt.scatter(ex2, ey)\n",
    "plt.plot(ex2, linmod.predict(np.array(ex2).reshape(-1,1)), 'r-')\n",
    "plt.xlabel('Height (linear component of waist removed)')\n",
    "plt.ylabel('% body fat (linear component of waist removed)')\n"
   ]
  },
  {
   "cell_type": "code",
   "execution_count": null,
   "id": "2bf3cef5",
   "metadata": {},
   "outputs": [],
   "source": [
    "r = linmod.score(np.array(ex2).reshape(-1,1), ey)\n",
    "print(f'R_squared: {r * 100:.1f}%')"
   ]
  },
  {
   "cell_type": "code",
   "execution_count": null,
   "id": "b01af8b4",
   "metadata": {},
   "outputs": [],
   "source": []
  }
 ],
 "metadata": {
  "kernelspec": {
   "display_name": "Python 3 (ipykernel)",
   "language": "python",
   "name": "python3"
  },
  "language_info": {
   "codemirror_mode": {
    "name": "ipython",
    "version": 3
   },
   "file_extension": ".py",
   "mimetype": "text/x-python",
   "name": "python",
   "nbconvert_exporter": "python",
   "pygments_lexer": "ipython3",
   "version": "3.11.5"
  }
 },
 "nbformat": 4,
 "nbformat_minor": 5
}
