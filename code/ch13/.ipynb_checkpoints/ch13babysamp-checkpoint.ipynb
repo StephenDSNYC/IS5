{
 "cells": [
  {
   "cell_type": "markdown",
   "id": "8fbd5e38",
   "metadata": {},
   "source": [
    "### Bernoulli Trial and Bionomial Distribution\n",
    "\n",
    "https://en.wikipedia.org/wiki/Bernoulli_trial\n",
    "\n",
    "A Bernoulli trial has two outcomes, success or failure.  Denote the probability of success as $p$.  The complement, i.e., probability of failure, is $q=1-p$.\n",
    "\n",
    "Suppose a Bernoulli trial can be repeated independently.  For example, think of tossing a coin as the Bernoulli trial, where a success means the coin is tossed a \"head\".  After each toss, the coin may be picked up and re-tossed.  A toss is independent of any previous tosses and any subsequent ones.\n",
    "\n",
    "Let a Bernoulli trial be repeated independently for $n$ times, and record the trial outcomes as $\\{\\omega_1, \\omega_2, \\ldots, \\omega_n\\}$.  \n",
    "\n",
    "$\\omega_i$ for $i\\in{1\\ldots n}$ is either success or failure.\n",
    "\n",
    "Suppose among all $n$ trials, there are $k$ trials resulting in successes.  An estimate of $p$ is $\\hat{p}=\\frac{k}{n}$.  \n",
    "\n",
    "$\\hat{p}$ follows a sampling distribution, which is approximately Gaussian($\\mu=p$, $\\sigma=\\sqrt{\\frac{pq}{n}}$).\n",
    "\n",
    "An estimate of standard error of $\\hat{p}$ is $\\textrm{SE}(\\hat{p}) = \\sqrt{\\frac{\\hat{p}\\hat{q}}{n}}$, where $\\hat{q} = 1 -  \\hat{p}$.\n",
    "\n",
    "*Note: Distribution of number of successes from $n$ identical, independent Bernoulli trials is the **binomial distribution** (https://en.wikipedia.org/wiki/Binomial_distribution)*\n",
    "\n",
    "The binomial distribution is charactered by two parameters, $n$ the number of trials, and $p$ the success probability.\n",
    "\n",
    "The binomial distribution is approximately Gaussian when $n$ becomes large while $np$ remains constant. (see De Moivre–Laplace theorem: https://en.wikipedia.org/wiki/De_Moivre%E2%80%93Laplace_theorem).\n",
    "\n"
   ]
  },
  {
   "cell_type": "code",
   "execution_count": 1,
   "id": "0c646995",
   "metadata": {},
   "outputs": [],
   "source": [
    "import pandas as pd\n",
    "import matplotlib.pyplot as plt\n",
    "import numpy as np\n",
    "from math import sqrt\n",
    "from scipy.stats import norm\n",
    "from timeit import timeit"
   ]
  },
  {
   "cell_type": "code",
   "execution_count": 2,
   "id": "cf50f7f9",
   "metadata": {},
   "outputs": [
    {
     "name": "stderr",
     "output_type": "stream",
     "text": [
      "C:\\Users\\sc522\\AppData\\Local\\Temp\\ipykernel_18584\\2400281635.py:4: DtypeWarning: Columns (21,22,23,24,30,198,199) have mixed types. Specify dtype option on import or set low_memory=False.\n",
      "  data = pd.read_csv(data_file)\n"
     ]
    },
    {
     "name": "stdout",
     "output_type": "stream",
     "text": [
      "<class 'pandas.core.frame.DataFrame'>\n",
      "RangeIndex: 3945192 entries, 0 to 3945191\n",
      "Columns: 200 entries, datayear to popsmas\n",
      "dtypes: float64(13), int64(180), object(7)\n",
      "memory usage: 5.9+ GB\n"
     ]
    }
   ],
   "source": [
    "# data_file = \"../../dataset/ch13/babysamp_98.txt\"\n",
    "data_file = \"../../../../natl1998.csv\"\n",
    "# data = pd.read_csv(data_file, sep='\\t')\n",
    "data = pd.read_csv(data_file)\n",
    "\n",
    "data.info()"
   ]
  },
  {
   "cell_type": "code",
   "execution_count": 3,
   "id": "569795c5-5b7a-479a-964d-7e8558ef6165",
   "metadata": {},
   "outputs": [
    {
     "data": {
      "text/plain": [
       "Index(['datayear', 'rectype', 'restatus', 'recwt', 'pldel', 'pldel3',\n",
       "       'birattnd', 'regnocc', 'divocc', 'stsubocc',\n",
       "       ...\n",
       "       'alcuse', 'wtgn', 'obstrc', 'clabor', 'abnml', 'congan', 'educsmsa',\n",
       "       'apiflag', 'smsares', 'popsmas'],\n",
       "      dtype='object', length=200)"
      ]
     },
     "execution_count": 3,
     "metadata": {},
     "output_type": "execute_result"
    }
   ],
   "source": [
    "data.columns"
   ]
  },
  {
   "cell_type": "code",
   "execution_count": 4,
   "id": "e195447c",
   "metadata": {},
   "outputs": [
    {
     "data": {
      "image/png": "[encoded data removed]",
      "text/plain": [
       "<Figure size 640x480 with 1 Axes>"
      ]
     },
     "metadata": {},
     "output_type": "display_data"
    }
   ],
   "source": [
    "gestation = data.dgestat\n",
    "plt.hist(gestation, bins=np.arange(17,49), edgecolor='k');\n",
    "plt.title('histogram (gestation)');"
   ]
  },
  {
   "cell_type": "code",
   "execution_count": 5,
   "id": "c207609d",
   "metadata": {},
   "outputs": [
    {
     "name": "stdout",
     "output_type": "stream",
     "text": [
      "preemies: 11.5%\n"
     ]
    }
   ],
   "source": [
    "print(f'preemies: {(gestation[gestation<37].count()) / (gestation.count()) * 100:.1f}%')"
   ]
  },
  {
   "cell_type": "code",
   "execution_count": 6,
   "id": "39ff0a8a",
   "metadata": {},
   "outputs": [],
   "source": [
    "def prop_smaller_than(nums, val):\n",
    "    n = nums.count();\n",
    "    s = len([x for x in nums if x < val])\n",
    "    return s/n"
   ]
  },
  {
   "cell_type": "code",
   "execution_count": 7,
   "id": "d94fb0c2-3bb0-44ee-9654-c45b4aacbb52",
   "metadata": {},
   "outputs": [],
   "source": [
    "sample = gestation.sample(100)"
   ]
  },
  {
   "cell_type": "code",
   "execution_count": 8,
   "id": "31728681-95ac-4f84-beb8-50115a22d636",
   "metadata": {},
   "outputs": [
    {
     "data": {
      "text/plain": [
       "0.09"
      ]
     },
     "execution_count": 8,
     "metadata": {},
     "output_type": "execute_result"
    }
   ],
   "source": [
    "prop_smaller_than(sample, 37)"
   ]
  },
  {
   "cell_type": "code",
   "execution_count": 9,
   "id": "1c2a5f21-d65f-43a4-95fe-af632861215b",
   "metadata": {},
   "outputs": [],
   "source": [
    "n_sample = 1000\n",
    "prop = np.zeros(n_sample)\n",
    "for i in range(n_sample):\n",
    "    sample = gestation.sample(100)\n",
    "    prop[i] = prop_smaller_than(sample, 37)"
   ]
  },
  {
   "cell_type": "code",
   "execution_count": 10,
   "id": "c542b7ba-9217-491a-80c3-6626bd09b678",
   "metadata": {},
   "outputs": [
    {
     "data": {
      "image/png": "[encoded data removed]",
      "text/plain": [
       "<Figure size 640x480 with 1 Axes>"
      ]
     },
     "metadata": {},
     "output_type": "display_data"
    }
   ],
   "source": [
    "plt.hist(prop, bins=18)\n",
    "plt.title('sampling distribution (gestation, sample size=100, n=1000)');"
   ]
  },
  {
   "cell_type": "code",
   "execution_count": 11,
   "id": "e2bd674e",
   "metadata": {},
   "outputs": [
    {
     "data": {
      "text/plain": [
       "(0.11373000000000001, 0.03184002355526767)"
      ]
     },
     "execution_count": 11,
     "metadata": {},
     "output_type": "execute_result"
    }
   ],
   "source": [
    "prop.mean(), prop.std()"
   ]
  },
  {
   "cell_type": "code",
   "execution_count": 12,
   "id": "9b4036e2",
   "metadata": {},
   "outputs": [
    {
     "data": {
      "text/plain": [
       "0.11471532944404227"
      ]
     },
     "execution_count": 12,
     "metadata": {},
     "output_type": "execute_result"
    }
   ],
   "source": [
    "p = len([x for x in gestation if x < 37]) / len(gestation)\n",
    "p"
   ]
  },
  {
   "cell_type": "code",
   "execution_count": 13,
   "id": "b60bb466-dabb-4585-ba68-64aabea51511",
   "metadata": {},
   "outputs": [
    {
     "data": {
      "text/plain": [
       "0.119"
      ]
     },
     "execution_count": 13,
     "metadata": {},
     "output_type": "execute_result"
    }
   ],
   "source": [
    "sample = gestation.sample(1000)\n",
    "phat = prop_smaller_than(sample, 37)\n",
    "phat"
   ]
  },
  {
   "cell_type": "code",
   "execution_count": 14,
   "id": "1db186b7-87d0-4b2a-9573-66d116f4792b",
   "metadata": {},
   "outputs": [
    {
     "data": {
      "text/plain": [
       "0.881"
      ]
     },
     "execution_count": 14,
     "metadata": {},
     "output_type": "execute_result"
    }
   ],
   "source": [
    "qhat = 1 - phat\n",
    "qhat"
   ]
  },
  {
   "cell_type": "code",
   "execution_count": 15,
   "id": "e5a2d7ec-600f-4ec4-88cf-c23e49899e28",
   "metadata": {},
   "outputs": [
    {
     "data": {
      "text/plain": [
       "0.03237885112229895"
      ]
     },
     "execution_count": 15,
     "metadata": {},
     "output_type": "execute_result"
    }
   ],
   "source": [
    "se = sqrt(phat * qhat / 100)\n",
    "se"
   ]
  },
  {
   "cell_type": "code",
   "execution_count": 16,
   "id": "56be63b9",
   "metadata": {},
   "outputs": [
    {
     "data": {
      "text/plain": [
       "1.959963984540054"
      ]
     },
     "execution_count": 16,
     "metadata": {},
     "output_type": "execute_result"
    }
   ],
   "source": [
    "norm.ppf(0.975)"
   ]
  },
  {
   "cell_type": "code",
   "execution_count": 17,
   "id": "2b3b3e0e",
   "metadata": {},
   "outputs": [
    {
     "data": {
      "text/plain": [
       "(0.055538617939509746, 0.18246138206049023)"
      ]
     },
     "execution_count": 17,
     "metadata": {},
     "output_type": "execute_result"
    }
   ],
   "source": [
    "phat - norm.ppf(0.975) * se, phat + norm.ppf(0.975) * se"
   ]
  }
 ],
 "metadata": {
  "kernelspec": {
   "display_name": "Python 3 (ipykernel)",
   "language": "python",
   "name": "python3"
  },
  "language_info": {
   "codemirror_mode": {
    "name": "ipython",
    "version": 3
   },
   "file_extension": ".py",
   "mimetype": "text/x-python",
   "name": "python",
   "nbconvert_exporter": "python",
   "pygments_lexer": "ipython3",
   "version": "3.11.5"
  }
 },
 "nbformat": 4,
 "nbformat_minor": 5
}
