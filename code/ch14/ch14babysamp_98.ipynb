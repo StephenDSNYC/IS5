{
 "cells": [
  {
   "cell_type": "code",
   "execution_count": 1,
   "id": "aef8c83c-c128-4464-ac04-ef85e6bd172c",
   "metadata": {},
   "outputs": [],
   "source": [
    "import pandas as pd\n",
    "import numpy as np\n",
    "from matplotlib import pyplot as plt"
   ]
  },
  {
   "cell_type": "code",
   "execution_count": 2,
   "id": "fbbad9bf-6a32-4f09-8e5a-714a2cca7d1a",
   "metadata": {},
   "outputs": [],
   "source": [
    "datafile = '../../dataset/ch14/babysamp_98.txt'\n",
    "data = pd.read_csv(datafile, sep='\\t')"
   ]
  },
  {
   "cell_type": "code",
   "execution_count": 3,
   "id": "42dfcdbe-fa36-4eb3-969e-98093f62e44b",
   "metadata": {},
   "outputs": [
    {
     "name": "stdout",
     "output_type": "stream",
     "text": [
      "<class 'pandas.core.frame.DataFrame'>\n",
      "RangeIndex: 200 entries, 0 to 199\n",
      "Data columns (total 12 columns):\n",
      " #   Column         Non-Null Count  Dtype  \n",
      "---  ------         --------------  -----  \n",
      " 0   MomAge         200 non-null    int64  \n",
      " 1   DadAge         166 non-null    float64\n",
      " 2   MomEduc        188 non-null    float64\n",
      " 3   MomMarital     200 non-null    int64  \n",
      " 4   numlive        200 non-null    int64  \n",
      " 5   dobmm          200 non-null    int64  \n",
      " 6   gestation      200 non-null    int64  \n",
      " 7   sex            200 non-null    object \n",
      " 8   weight         200 non-null    int64  \n",
      " 9   prenatalstart  195 non-null    float64\n",
      " 10  orig.id        200 non-null    int64  \n",
      " 11  preemie        200 non-null    bool   \n",
      "dtypes: bool(1), float64(3), int64(7), object(1)\n",
      "memory usage: 17.5+ KB\n"
     ]
    }
   ],
   "source": [
    "data.info()"
   ]
  },
  {
   "cell_type": "code",
   "execution_count": 4,
   "id": "9a1e70bd-4b0c-4903-bd4b-99f70653498f",
   "metadata": {},
   "outputs": [
    {
     "data": {
      "text/html": [
       "<div>\n",
       "<style scoped>\n",
       "    .dataframe tbody tr th:only-of-type {\n",
       "        vertical-align: middle;\n",
       "    }\n",
       "\n",
       "    .dataframe tbody tr th {\n",
       "        vertical-align: top;\n",
       "    }\n",
       "\n",
       "    .dataframe thead th {\n",
       "        text-align: right;\n",
       "    }\n",
       "</style>\n",
       "<table border=\"1\" class=\"dataframe\">\n",
       "  <thead>\n",
       "    <tr style=\"text-align: right;\">\n",
       "      <th></th>\n",
       "      <th>MomAge</th>\n",
       "      <th>DadAge</th>\n",
       "      <th>MomEduc</th>\n",
       "      <th>MomMarital</th>\n",
       "      <th>numlive</th>\n",
       "      <th>dobmm</th>\n",
       "      <th>gestation</th>\n",
       "      <th>sex</th>\n",
       "      <th>weight</th>\n",
       "      <th>prenatalstart</th>\n",
       "      <th>orig.id</th>\n",
       "      <th>preemie</th>\n",
       "    </tr>\n",
       "  </thead>\n",
       "  <tbody>\n",
       "    <tr>\n",
       "      <th>0</th>\n",
       "      <td>35</td>\n",
       "      <td>35.0</td>\n",
       "      <td>17.0</td>\n",
       "      <td>1</td>\n",
       "      <td>2</td>\n",
       "      <td>2</td>\n",
       "      <td>39</td>\n",
       "      <td>F</td>\n",
       "      <td>3175</td>\n",
       "      <td>1.0</td>\n",
       "      <td>1047483</td>\n",
       "      <td>False</td>\n",
       "    </tr>\n",
       "    <tr>\n",
       "      <th>1</th>\n",
       "      <td>22</td>\n",
       "      <td>21.0</td>\n",
       "      <td>12.0</td>\n",
       "      <td>1</td>\n",
       "      <td>1</td>\n",
       "      <td>3</td>\n",
       "      <td>42</td>\n",
       "      <td>F</td>\n",
       "      <td>3884</td>\n",
       "      <td>2.0</td>\n",
       "      <td>1468100</td>\n",
       "      <td>False</td>\n",
       "    </tr>\n",
       "    <tr>\n",
       "      <th>2</th>\n",
       "      <td>35</td>\n",
       "      <td>42.0</td>\n",
       "      <td>15.0</td>\n",
       "      <td>1</td>\n",
       "      <td>0</td>\n",
       "      <td>6</td>\n",
       "      <td>39</td>\n",
       "      <td>F</td>\n",
       "      <td>3030</td>\n",
       "      <td>2.0</td>\n",
       "      <td>2260016</td>\n",
       "      <td>False</td>\n",
       "    </tr>\n",
       "    <tr>\n",
       "      <th>3</th>\n",
       "      <td>23</td>\n",
       "      <td>NaN</td>\n",
       "      <td>6.0</td>\n",
       "      <td>1</td>\n",
       "      <td>2</td>\n",
       "      <td>8</td>\n",
       "      <td>40</td>\n",
       "      <td>F</td>\n",
       "      <td>3629</td>\n",
       "      <td>1.0</td>\n",
       "      <td>3583052</td>\n",
       "      <td>False</td>\n",
       "    </tr>\n",
       "    <tr>\n",
       "      <th>4</th>\n",
       "      <td>23</td>\n",
       "      <td>28.0</td>\n",
       "      <td>13.0</td>\n",
       "      <td>1</td>\n",
       "      <td>0</td>\n",
       "      <td>9</td>\n",
       "      <td>42</td>\n",
       "      <td>F</td>\n",
       "      <td>3481</td>\n",
       "      <td>2.0</td>\n",
       "      <td>795674</td>\n",
       "      <td>False</td>\n",
       "    </tr>\n",
       "  </tbody>\n",
       "</table>\n",
       "</div>"
      ],
      "text/plain": [
       "   MomAge  DadAge  MomEduc  MomMarital  numlive  dobmm  gestation sex  weight  \\\n",
       "0      35    35.0     17.0           1        2      2         39   F    3175   \n",
       "1      22    21.0     12.0           1        1      3         42   F    3884   \n",
       "2      35    42.0     15.0           1        0      6         39   F    3030   \n",
       "3      23     NaN      6.0           1        2      8         40   F    3629   \n",
       "4      23    28.0     13.0           1        0      9         42   F    3481   \n",
       "\n",
       "   prenatalstart  orig.id  preemie  \n",
       "0            1.0  1047483    False  \n",
       "1            2.0  1468100    False  \n",
       "2            2.0  2260016    False  \n",
       "3            1.0  3583052    False  \n",
       "4            2.0   795674    False  "
      ]
     },
     "execution_count": 4,
     "metadata": {},
     "output_type": "execute_result"
    }
   ],
   "source": [
    "data.head()"
   ]
  },
  {
   "cell_type": "code",
   "execution_count": 5,
   "id": "b8ac637b-763a-42c1-aa1d-2f3e543c610e",
   "metadata": {},
   "outputs": [],
   "source": [
    "weight = data['weight']"
   ]
  },
  {
   "cell_type": "code",
   "execution_count": 6,
   "id": "7a8d906b-0ae4-434f-bb42-3380a3228b3c",
   "metadata": {},
   "outputs": [
    {
     "data": {
      "image/png": "[encoded data removed]",
      "text/plain": [
       "<Figure size 640x480 with 1 Axes>"
      ]
     },
     "metadata": {},
     "output_type": "display_data"
    }
   ],
   "source": [
    "weight.hist();"
   ]
  },
  {
   "cell_type": "code",
   "execution_count": 7,
   "id": "b785fa40-5d10-4e70-a57b-dd0c1b0c2b68",
   "metadata": {},
   "outputs": [],
   "source": [
    "weight = pd.DataFrame(np.repeat(weight.values, 100, axis=0))  # self copy 100 times"
   ]
  },
  {
   "cell_type": "code",
   "execution_count": 8,
   "id": "8f1bb513-94fb-47b5-9033-670a226c7856",
   "metadata": {},
   "outputs": [
    {
     "name": "stdout",
     "output_type": "stream",
     "text": [
      "<class 'pandas.core.frame.DataFrame'>\n",
      "RangeIndex: 20000 entries, 0 to 19999\n",
      "Data columns (total 1 columns):\n",
      " #   Column  Non-Null Count  Dtype\n",
      "---  ------  --------------  -----\n",
      " 0   0       20000 non-null  int64\n",
      "dtypes: int64(1)\n",
      "memory usage: 156.4 KB\n"
     ]
    }
   ],
   "source": [
    "weight.info()"
   ]
  },
  {
   "cell_type": "code",
   "execution_count": 9,
   "id": "63c0b52a-7509-4f36-99d2-2d73ec2683ee",
   "metadata": {},
   "outputs": [
    {
     "data": {
      "text/html": [
       "<div>\n",
       "<style scoped>\n",
       "    .dataframe tbody tr th:only-of-type {\n",
       "        vertical-align: middle;\n",
       "    }\n",
       "\n",
       "    .dataframe tbody tr th {\n",
       "        vertical-align: top;\n",
       "    }\n",
       "\n",
       "    .dataframe thead th {\n",
       "        text-align: right;\n",
       "    }\n",
       "</style>\n",
       "<table border=\"1\" class=\"dataframe\">\n",
       "  <thead>\n",
       "    <tr style=\"text-align: right;\">\n",
       "      <th></th>\n",
       "      <th>0</th>\n",
       "    </tr>\n",
       "  </thead>\n",
       "  <tbody>\n",
       "    <tr>\n",
       "      <th>0</th>\n",
       "      <td>3175</td>\n",
       "    </tr>\n",
       "    <tr>\n",
       "      <th>1</th>\n",
       "      <td>3175</td>\n",
       "    </tr>\n",
       "    <tr>\n",
       "      <th>2</th>\n",
       "      <td>3175</td>\n",
       "    </tr>\n",
       "    <tr>\n",
       "      <th>3</th>\n",
       "      <td>3175</td>\n",
       "    </tr>\n",
       "    <tr>\n",
       "      <th>4</th>\n",
       "      <td>3175</td>\n",
       "    </tr>\n",
       "  </tbody>\n",
       "</table>\n",
       "</div>"
      ],
      "text/plain": [
       "      0\n",
       "0  3175\n",
       "1  3175\n",
       "2  3175\n",
       "3  3175\n",
       "4  3175"
      ]
     },
     "execution_count": 9,
     "metadata": {},
     "output_type": "execute_result"
    }
   ],
   "source": [
    "weight.head()"
   ]
  },
  {
   "cell_type": "code",
   "execution_count": 10,
   "id": "5402a7c9-d2db-42ac-a71b-de82abc4c072",
   "metadata": {},
   "outputs": [],
   "source": [
    "weight = weight.sample(frac=1)  # shuffling"
   ]
  },
  {
   "cell_type": "code",
   "execution_count": 11,
   "id": "480f4db4-8794-44fa-b859-e391fd7099d1",
   "metadata": {},
   "outputs": [
    {
     "data": {
      "text/html": [
       "<div>\n",
       "<style scoped>\n",
       "    .dataframe tbody tr th:only-of-type {\n",
       "        vertical-align: middle;\n",
       "    }\n",
       "\n",
       "    .dataframe tbody tr th {\n",
       "        vertical-align: top;\n",
       "    }\n",
       "\n",
       "    .dataframe thead th {\n",
       "        text-align: right;\n",
       "    }\n",
       "</style>\n",
       "<table border=\"1\" class=\"dataframe\">\n",
       "  <thead>\n",
       "    <tr style=\"text-align: right;\">\n",
       "      <th></th>\n",
       "      <th>0</th>\n",
       "    </tr>\n",
       "  </thead>\n",
       "  <tbody>\n",
       "    <tr>\n",
       "      <th>11201</th>\n",
       "      <td>3402</td>\n",
       "    </tr>\n",
       "    <tr>\n",
       "      <th>12895</th>\n",
       "      <td>3289</td>\n",
       "    </tr>\n",
       "    <tr>\n",
       "      <th>1471</th>\n",
       "      <td>1729</td>\n",
       "    </tr>\n",
       "    <tr>\n",
       "      <th>8086</th>\n",
       "      <td>3118</td>\n",
       "    </tr>\n",
       "    <tr>\n",
       "      <th>3368</th>\n",
       "      <td>2608</td>\n",
       "    </tr>\n",
       "  </tbody>\n",
       "</table>\n",
       "</div>"
      ],
      "text/plain": [
       "          0\n",
       "11201  3402\n",
       "12895  3289\n",
       "1471   1729\n",
       "8086   3118\n",
       "3368   2608"
      ]
     },
     "execution_count": 11,
     "metadata": {},
     "output_type": "execute_result"
    }
   ],
   "source": [
    "weight.head()"
   ]
  },
  {
   "cell_type": "code",
   "execution_count": 12,
   "id": "932a535b-f2ae-4e34-9749-3ab28895b3e7",
   "metadata": {},
   "outputs": [],
   "source": [
    "samples = []\n",
    "for i in range(10_000):\n",
    "    samples.append(weight.sample(n=100))"
   ]
  },
  {
   "cell_type": "code",
   "execution_count": 13,
   "id": "1de11e33-4277-45e1-a389-e8f5e7116c5d",
   "metadata": {},
   "outputs": [],
   "source": [
    "sample_means = pd.DataFrame([s.mean() for s in samples])"
   ]
  },
  {
   "cell_type": "code",
   "execution_count": 14,
   "id": "f9c3a513-e0ad-4451-a5b3-b6df4f80f2d9",
   "metadata": {},
   "outputs": [
    {
     "data": {
      "image/png": "[encoded data removed]",
      "text/plain": [
       "<Figure size 640x480 with 1 Axes>"
      ]
     },
     "metadata": {},
     "output_type": "display_data"
    }
   ],
   "source": [
    "sample_means.hist(bins=50);"
   ]
  },
  {
   "cell_type": "code",
   "execution_count": 15,
   "id": "5558c201-687b-4185-8cac-f6b5b8cbbe5e",
   "metadata": {},
   "outputs": [
    {
     "data": {
      "text/plain": [
       "0    3283.51059\n",
       "dtype: float64"
      ]
     },
     "execution_count": 15,
     "metadata": {},
     "output_type": "execute_result"
    }
   ],
   "source": [
    "sample_means.mean()"
   ]
  },
  {
   "cell_type": "code",
   "execution_count": 19,
   "id": "1c000ef8-672a-42df-809c-d1358f723b7f",
   "metadata": {},
   "outputs": [
    {
     "data": {
      "text/plain": [
       "0    56.449017\n",
       "dtype: float64"
      ]
     },
     "execution_count": 19,
     "metadata": {},
     "output_type": "execute_result"
    }
   ],
   "source": [
    "sample_means.std()"
   ]
  },
  {
   "cell_type": "code",
   "execution_count": 16,
   "id": "29aca454-bee9-47a8-8f11-a0ea42cc823b",
   "metadata": {},
   "outputs": [
    {
     "data": {
      "text/plain": [
       "0    3282.695\n",
       "dtype: float64"
      ]
     },
     "execution_count": 16,
     "metadata": {},
     "output_type": "execute_result"
    }
   ],
   "source": [
    "weight.mean()"
   ]
  },
  {
   "cell_type": "code",
   "execution_count": 17,
   "id": "cb397687-e72c-4f1f-8acf-75214699b622",
   "metadata": {},
   "outputs": [
    {
     "data": {
      "text/plain": [
       "0    567.292678\n",
       "dtype: float64"
      ]
     },
     "execution_count": 17,
     "metadata": {},
     "output_type": "execute_result"
    }
   ],
   "source": [
    "weight.std()"
   ]
  }
 ],
 "metadata": {
  "kernelspec": {
   "display_name": "Python 3 (ipykernel)",
   "language": "python",
   "name": "python3"
  },
  "language_info": {
   "codemirror_mode": {
    "name": "ipython",
    "version": 3
   },
   "file_extension": ".py",
   "mimetype": "text/x-python",
   "name": "python",
   "nbconvert_exporter": "python",
   "pygments_lexer": "ipython3",
   "version": "3.11.5"
  }
 },
 "nbformat": 4,
 "nbformat_minor": 5
}
