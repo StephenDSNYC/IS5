{
 "cells": [
  {
   "cell_type": "markdown",
   "id": "8602a183-55ee-4ba9-92c8-13487420ab48",
   "metadata": {},
   "source": [
    "### SD versus SE\n",
    "\n",
    "See https://www.ncbi.nlm.nih.gov/pmc/articles/PMC1255808/#:~:text=The%20standard%20error%20is%20most,either%20side%20of%20the%20mean.\n",
    "\n",
    "### Known $\\sigma$\n",
    "\n",
    "As $n\\rightarrow\\infty$, $\\bar{y}$ is distributed asymptotically a normal $N(\\mu, \\frac{\\sigma}{\\sqrt{n}})$\n",
    "\n",
    "For example, the probability that $\\mu- 2 \\frac{\\sigma}{\\sqrt{n}} \\le \\bar{y} \\le \\mu + 2 \\frac{\\sigma}{\\sqrt{n}}$ is 95\\%.\n",
    "\n",
    "Equivalently, we are confident that $\\bar{y}- 2 \\frac{\\sigma}{\\sqrt{n}} \\le \\mu \\le \\bar{y} + 2 \\frac{\\sigma}{\\sqrt{n}}$ is true with probability 95\\%.\n",
    "\n",
    "C.I.: $\\bar{y} \\pm z^* \\frac{\\sigma}{\\sqrt{n}}$  (use standard normal)\n",
    "\n",
    "$\\sigma$ is the **standard deviation** of the population.  It is usually not know beforehand.\n",
    "\n",
    "### Unknow $\\sigma$\n",
    "\n",
    "C.I.: $\\bar{y} \\pm t^* \\frac{s_y}{\\sqrt{n}}$  (use Student's t)\n",
    "\n",
    "$s_y = \\sqrt{\\frac{\\sum_1^n(y-\\bar{y})^2}{n-1}}$  is the **sample standard deviation**.\n",
    "\n",
    "$\\frac{s_y}{\\sqrt{n}}$ is the **Standard Error**!  (You may think of it as the *standard deviation* of many sample means.)\n",
    "\n",
    "$t^* \\frac{s_y}{\\sqrt{n}}$ is **margin of error**.\n",
    "\n",
    "Remember to provide the degree-of-freedom (df) which is $n-1$\n",
    "\n",
    "### Conditions:\n",
    "\n",
    "1. Ideally, data samples are i.i.d. normal.  \n",
    "\n",
    "2. For small sample size, data had better be drawn from a near normal distribution (at least unimodal and symmetric).\n",
    "   \n",
    "3. Once sample size approaches or goes over $50$, the method works well even for bimodal and skewed distributions.\n",
    "\n",
    "4. Make histogram.  If multimodal or skewed, consider increasing the sample size.\n",
    "\n",
    "### Boostrap\n",
    "\n",
    "### The Surprising Adventures of Baron Munchausen\n",
    "\n",
    "see parts 045 to 046 in:\n",
    "\n",
    "https://www.sohu.com/a/236419039_99939932 \n"
   ]
  },
  {
   "cell_type": "code",
   "execution_count": 1,
   "id": "41d8c520-d2bb-42cf-a92c-303edc0e82c7",
   "metadata": {},
   "outputs": [],
   "source": [
    "import pandas as pd\n",
    "import matplotlib.pyplot as plt\n",
    "from scipy.stats import norm, t"
   ]
  },
  {
   "cell_type": "code",
   "execution_count": 2,
   "id": "36275407-b969-4051-a4c5-556b36e9f988",
   "metadata": {},
   "outputs": [
    {
     "data": {
      "text/plain": [
       "1.6448536269514722"
      ]
     },
     "execution_count": 2,
     "metadata": {},
     "output_type": "execute_result"
    }
   ],
   "source": [
    "norm.ppf(0.95)  # Normal"
   ]
  },
  {
   "cell_type": "code",
   "execution_count": 3,
   "id": "621f098e-b69e-4164-8212-b3e268996dcb",
   "metadata": {},
   "outputs": [
    {
     "data": {
      "text/plain": [
       "2.919985580355516"
      ]
     },
     "execution_count": 3,
     "metadata": {},
     "output_type": "execute_result"
    }
   ],
   "source": [
    "t.ppf(0.95, 2)"
   ]
  },
  {
   "cell_type": "code",
   "execution_count": 4,
   "id": "bfc4cae4-56f1-4b20-a49d-21e7c88979f4",
   "metadata": {},
   "outputs": [
    {
     "data": {
      "text/plain": [
       "2.13184678133629"
      ]
     },
     "execution_count": 4,
     "metadata": {},
     "output_type": "execute_result"
    }
   ],
   "source": [
    "t.ppf(0.95, 4)"
   ]
  },
  {
   "cell_type": "code",
   "execution_count": 5,
   "id": "5d56c489-b778-477c-9fda-ad2318440afd",
   "metadata": {},
   "outputs": [
    {
     "data": {
      "text/plain": [
       "1.9431802803927816"
      ]
     },
     "execution_count": 5,
     "metadata": {},
     "output_type": "execute_result"
    }
   ],
   "source": [
    "t.ppf(0.95, 6)"
   ]
  },
  {
   "cell_type": "code",
   "execution_count": 6,
   "id": "d5905052-b0b4-4d15-a67e-89efc9f09ce9",
   "metadata": {},
   "outputs": [
    {
     "data": {
      "text/plain": [
       "1.8595480375228424"
      ]
     },
     "execution_count": 6,
     "metadata": {},
     "output_type": "execute_result"
    }
   ],
   "source": [
    "t.ppf(0.95, 8)"
   ]
  },
  {
   "cell_type": "code",
   "execution_count": 7,
   "id": "92cc5303-b27c-49a2-ad24-28b211a8b7f2",
   "metadata": {},
   "outputs": [
    {
     "data": {
      "text/plain": [
       "1.8124611228107335"
      ]
     },
     "execution_count": 7,
     "metadata": {},
     "output_type": "execute_result"
    }
   ],
   "source": [
    "t.ppf(0.95, 10)"
   ]
  },
  {
   "cell_type": "code",
   "execution_count": 8,
   "id": "67b4577b-fd28-4cdb-aeea-9c45a025f0a7",
   "metadata": {},
   "outputs": [
    {
     "data": {
      "text/plain": [
       "1.7247182429207857"
      ]
     },
     "execution_count": 8,
     "metadata": {},
     "output_type": "execute_result"
    }
   ],
   "source": [
    "t.ppf(0.95, 20)"
   ]
  },
  {
   "cell_type": "code",
   "execution_count": 9,
   "id": "ff483834-6f63-4fab-ac6f-f2c02d976528",
   "metadata": {},
   "outputs": [
    {
     "data": {
      "text/plain": [
       "1.6972608943617378"
      ]
     },
     "execution_count": 9,
     "metadata": {},
     "output_type": "execute_result"
    }
   ],
   "source": [
    "t.ppf(0.95, 30)"
   ]
  },
  {
   "cell_type": "code",
   "execution_count": 10,
   "id": "e75f1f9b-18c8-4f1c-b5d4-084401c00bfb",
   "metadata": {},
   "outputs": [
    {
     "data": {
      "text/plain": [
       "1.6759050245283311"
      ]
     },
     "execution_count": 10,
     "metadata": {},
     "output_type": "execute_result"
    }
   ],
   "source": [
    "t.ppf(0.95, 50)"
   ]
  },
  {
   "cell_type": "code",
   "execution_count": 11,
   "id": "8b803b7e-b338-4390-80f4-f84d865c2a65",
   "metadata": {},
   "outputs": [
    {
     "data": {
      "text/plain": [
       "1.66023432606575"
      ]
     },
     "execution_count": 11,
     "metadata": {},
     "output_type": "execute_result"
    }
   ],
   "source": [
    "t.ppf(0.95, 100)"
   ]
  },
  {
   "cell_type": "code",
   "execution_count": 12,
   "id": "a0e0a533-dcb7-4897-bd24-cc7bae226c78",
   "metadata": {},
   "outputs": [
    {
     "data": {
      "text/plain": [
       "1.959963984540054"
      ]
     },
     "execution_count": 12,
     "metadata": {},
     "output_type": "execute_result"
    }
   ],
   "source": [
    "norm.ppf(0.975)  # Normal"
   ]
  },
  {
   "cell_type": "code",
   "execution_count": 13,
   "id": "22cc7860-067b-4467-922d-c091b13d6db3",
   "metadata": {},
   "outputs": [
    {
     "data": {
      "text/plain": [
       "4.302652729911275"
      ]
     },
     "execution_count": 13,
     "metadata": {},
     "output_type": "execute_result"
    }
   ],
   "source": [
    "t.ppf(0.975, 2)"
   ]
  },
  {
   "cell_type": "code",
   "execution_count": 14,
   "id": "6a81b8cc-290a-4955-ab12-e1ae1abe1298",
   "metadata": {},
   "outputs": [
    {
     "data": {
      "text/plain": [
       "2.7764451051977987"
      ]
     },
     "execution_count": 14,
     "metadata": {},
     "output_type": "execute_result"
    }
   ],
   "source": [
    "t.ppf(0.975, 4)"
   ]
  },
  {
   "cell_type": "code",
   "execution_count": 15,
   "id": "bb145276-2d43-4e7e-8c00-18f5e296be69",
   "metadata": {},
   "outputs": [
    {
     "data": {
      "text/plain": [
       "2.4469118487916806"
      ]
     },
     "execution_count": 15,
     "metadata": {},
     "output_type": "execute_result"
    }
   ],
   "source": [
    "t.ppf(0.975, 6)"
   ]
  },
  {
   "cell_type": "code",
   "execution_count": 16,
   "id": "bc4956e8-f791-4f86-b31b-7ef00e79f3aa",
   "metadata": {},
   "outputs": [
    {
     "data": {
      "text/plain": [
       "2.3060041350333704"
      ]
     },
     "execution_count": 16,
     "metadata": {},
     "output_type": "execute_result"
    }
   ],
   "source": [
    "t.ppf(0.975, 8)"
   ]
  },
  {
   "cell_type": "code",
   "execution_count": 17,
   "id": "366b6336-0b1e-4659-836b-7323f6249a73",
   "metadata": {},
   "outputs": [
    {
     "data": {
      "text/plain": [
       "2.2281388519649385"
      ]
     },
     "execution_count": 17,
     "metadata": {},
     "output_type": "execute_result"
    }
   ],
   "source": [
    "t.ppf(0.975, 10)"
   ]
  },
  {
   "cell_type": "code",
   "execution_count": 18,
   "id": "483c59c4-ddb5-424a-9b5a-229a6e2661af",
   "metadata": {},
   "outputs": [
    {
     "data": {
      "text/plain": [
       "2.0859634472658364"
      ]
     },
     "execution_count": 18,
     "metadata": {},
     "output_type": "execute_result"
    }
   ],
   "source": [
    "t.ppf(0.975, 20)"
   ]
  },
  {
   "cell_type": "code",
   "execution_count": 19,
   "id": "6b907af1-1f5b-4552-b9ea-77a4f360928b",
   "metadata": {},
   "outputs": [
    {
     "data": {
      "text/plain": [
       "2.0422724563012373"
      ]
     },
     "execution_count": 19,
     "metadata": {},
     "output_type": "execute_result"
    }
   ],
   "source": [
    "t.ppf(0.975, 30)"
   ]
  },
  {
   "cell_type": "code",
   "execution_count": 20,
   "id": "368e46f3-c074-4cfa-88a7-3a4c68039d6a",
   "metadata": {},
   "outputs": [
    {
     "data": {
      "text/plain": [
       "2.008559109715206"
      ]
     },
     "execution_count": 20,
     "metadata": {},
     "output_type": "execute_result"
    }
   ],
   "source": [
    "t.ppf(0.975, 50)"
   ]
  },
  {
   "cell_type": "code",
   "execution_count": 21,
   "id": "c7e82554-64d2-4593-843d-c83651b01ca9",
   "metadata": {},
   "outputs": [
    {
     "data": {
      "text/plain": [
       "1.9839715184496334"
      ]
     },
     "execution_count": 21,
     "metadata": {},
     "output_type": "execute_result"
    }
   ],
   "source": [
    "t.ppf(0.975, 100)"
   ]
  },
  {
   "cell_type": "code",
   "execution_count": 22,
   "id": "830f95a6-e262-413a-a6f2-b937769b2dba",
   "metadata": {},
   "outputs": [],
   "source": [
    "def plot_t_n(cutoff):\n",
    "    dfs = [2, 4, 6, 8, 10, 20, 30, 50, 100]\n",
    "    y = [t.ppf(cutoff, df) for df in dfs]\n",
    "    ylim = norm.ppf(cutoff)\n",
    "    plt.plot(dfs, y)\n",
    "    plt.plot(120, ylim, 'ro')"
   ]
  },
  {
   "cell_type": "code",
   "execution_count": 23,
   "id": "5e1241a5-f12b-44be-954a-c33e12f68be3",
   "metadata": {},
   "outputs": [
    {
     "data": {
      "image/png": "[encoded data removed]",
      "text/plain": [
       "<Figure size 640x480 with 1 Axes>"
      ]
     },
     "metadata": {},
     "output_type": "display_data"
    }
   ],
   "source": [
    "plot_t_n(0.95)"
   ]
  },
  {
   "cell_type": "code",
   "execution_count": 24,
   "id": "7eea3640-983c-4c18-94f8-d748bbea5399",
   "metadata": {},
   "outputs": [
    {
     "data": {
      "image/png": "[encoded data removed]",
      "text/plain": [
       "<Figure size 640x480 with 1 Axes>"
      ]
     },
     "metadata": {},
     "output_type": "display_data"
    }
   ],
   "source": [
    "plot_t_n(0.975)"
   ]
  },
  {
   "cell_type": "code",
   "execution_count": null,
   "id": "e812ff7f-9ed2-4e11-8584-f4c5866b87d3",
   "metadata": {},
   "outputs": [],
   "source": []
  }
 ],
 "metadata": {
  "kernelspec": {
   "display_name": "Python 3 (ipykernel)",
   "language": "python",
   "name": "python3"
  },
  "language_info": {
   "codemirror_mode": {
    "name": "ipython",
    "version": 3
   },
   "file_extension": ".py",
   "mimetype": "text/x-python",
   "name": "python",
   "nbconvert_exporter": "python",
   "pygments_lexer": "ipython3",
   "version": "3.11.5"
  }
 },
 "nbformat": 4,
 "nbformat_minor": 5
}
