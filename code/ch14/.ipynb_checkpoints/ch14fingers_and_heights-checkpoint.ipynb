{
 "cells": [
  {
   "cell_type": "code",
   "execution_count": 1,
   "id": "8ffafb05-7de8-42a9-acca-4e4ef1a0236e",
   "metadata": {},
   "outputs": [],
   "source": [
    "import pandas as pd\n",
    "import numpy as np\n",
    "from scipy.stats import norm, t\n",
    "from matplotlib import pyplot as plt"
   ]
  },
  {
   "cell_type": "code",
   "execution_count": 2,
   "id": "cd40ba69-b6d1-4349-81c0-db4370683cc1",
   "metadata": {},
   "outputs": [],
   "source": [
    "datafile = '../../dataset/ch14/fingers_and_heights.txt'\n",
    "data = pd.read_csv(datafile, sep='\\t')"
   ]
  },
  {
   "cell_type": "code",
   "execution_count": 3,
   "id": "61c44eef-8408-4f11-88a8-03ea30cb6128",
   "metadata": {},
   "outputs": [
    {
     "name": "stdout",
     "output_type": "stream",
     "text": [
      "<class 'pandas.core.frame.DataFrame'>\n",
      "RangeIndex: 3000 entries, 0 to 2999\n",
      "Data columns (total 2 columns):\n",
      " #   Column          Non-Null Count  Dtype  \n",
      "---  ------          --------------  -----  \n",
      " 0   Heights:counts  3000 non-null   float64\n",
      " 1   Fingers:counts  3000 non-null   float64\n",
      "dtypes: float64(2)\n",
      "memory usage: 47.0 KB\n"
     ]
    }
   ],
   "source": [
    "data.info()"
   ]
  },
  {
   "cell_type": "code",
   "execution_count": 4,
   "id": "04648e4c-0cdf-418f-b752-abe2562efaf9",
   "metadata": {},
   "outputs": [
    {
     "data": {
      "text/html": [
       "<div>\n",
       "<style scoped>\n",
       "    .dataframe tbody tr th:only-of-type {\n",
       "        vertical-align: middle;\n",
       "    }\n",
       "\n",
       "    .dataframe tbody tr th {\n",
       "        vertical-align: top;\n",
       "    }\n",
       "\n",
       "    .dataframe thead th {\n",
       "        text-align: right;\n",
       "    }\n",
       "</style>\n",
       "<table border=\"1\" class=\"dataframe\">\n",
       "  <thead>\n",
       "    <tr style=\"text-align: right;\">\n",
       "      <th></th>\n",
       "      <th>Heights:counts</th>\n",
       "      <th>Fingers:counts</th>\n",
       "    </tr>\n",
       "  </thead>\n",
       "  <tbody>\n",
       "    <tr>\n",
       "      <th>0</th>\n",
       "      <td>142.24</td>\n",
       "      <td>10.0</td>\n",
       "    </tr>\n",
       "    <tr>\n",
       "      <th>1</th>\n",
       "      <td>144.78</td>\n",
       "      <td>10.3</td>\n",
       "    </tr>\n",
       "    <tr>\n",
       "      <th>2</th>\n",
       "      <td>147.32</td>\n",
       "      <td>9.9</td>\n",
       "    </tr>\n",
       "    <tr>\n",
       "      <th>3</th>\n",
       "      <td>147.32</td>\n",
       "      <td>10.2</td>\n",
       "    </tr>\n",
       "    <tr>\n",
       "      <th>4</th>\n",
       "      <td>147.32</td>\n",
       "      <td>10.2</td>\n",
       "    </tr>\n",
       "  </tbody>\n",
       "</table>\n",
       "</div>"
      ],
      "text/plain": [
       "   Heights:counts  Fingers:counts\n",
       "0          142.24            10.0\n",
       "1          144.78            10.3\n",
       "2          147.32             9.9\n",
       "3          147.32            10.2\n",
       "4          147.32            10.2"
      ]
     },
     "execution_count": 4,
     "metadata": {},
     "output_type": "execute_result"
    }
   ],
   "source": [
    "data.head()"
   ]
  },
  {
   "cell_type": "code",
   "execution_count": 5,
   "id": "7b40d219-56ec-45a8-a5dc-a2fea62218d5",
   "metadata": {},
   "outputs": [],
   "source": [
    "fingers = data['Fingers:counts']"
   ]
  },
  {
   "cell_type": "code",
   "execution_count": 6,
   "id": "8a8f4735-e38b-461a-8d2d-789afdebbed8",
   "metadata": {},
   "outputs": [
    {
     "data": {
      "text/plain": [
       "count    3000.000000\n",
       "mean       11.547367\n",
       "std         0.548714\n",
       "min         9.500000\n",
       "25%        11.200000\n",
       "50%        11.500000\n",
       "75%        11.900000\n",
       "max        13.500000\n",
       "Name: Fingers:counts, dtype: float64"
      ]
     },
     "execution_count": 6,
     "metadata": {},
     "output_type": "execute_result"
    }
   ],
   "source": [
    "fingers.describe()"
   ]
  },
  {
   "cell_type": "code",
   "execution_count": 7,
   "id": "a018987a-3c82-45c2-8049-38142e11fe49",
   "metadata": {},
   "outputs": [
    {
     "data": {
      "text/plain": [
       "11.547366666666667"
      ]
     },
     "execution_count": 7,
     "metadata": {},
     "output_type": "execute_result"
    }
   ],
   "source": [
    "pop_mean = fingers.mean()\n",
    "pop_mean"
   ]
  },
  {
   "cell_type": "code",
   "execution_count": 8,
   "id": "410b6078-b6a8-4ed4-9a66-20f42a103254",
   "metadata": {},
   "outputs": [
    {
     "data": {
      "text/plain": [
       "0.5487137333278667"
      ]
     },
     "execution_count": 8,
     "metadata": {},
     "output_type": "execute_result"
    }
   ],
   "source": [
    "pop_sd = fingers.std()\n",
    "pop_sd"
   ]
  },
  {
   "cell_type": "code",
   "execution_count": 9,
   "id": "2201ac38-460c-4b75-a615-26ee048eb22b",
   "metadata": {},
   "outputs": [],
   "source": [
    "sample = fingers.sample(n=4)"
   ]
  },
  {
   "cell_type": "code",
   "execution_count": 10,
   "id": "73b0d3bd-ea01-4a92-a97c-79806df623e6",
   "metadata": {},
   "outputs": [
    {
     "data": {
      "text/plain": [
       "11.975"
      ]
     },
     "execution_count": 10,
     "metadata": {},
     "output_type": "execute_result"
    }
   ],
   "source": [
    "sample.mean()"
   ]
  },
  {
   "cell_type": "code",
   "execution_count": 11,
   "id": "51a04ee2-fa66-4179-999c-e9e3c2f534a5",
   "metadata": {},
   "outputs": [
    {
     "data": {
      "text/plain": [
       "0.5795112883571238"
      ]
     },
     "execution_count": 11,
     "metadata": {},
     "output_type": "execute_result"
    }
   ],
   "source": [
    "sample.std()"
   ]
  },
  {
   "cell_type": "code",
   "execution_count": 12,
   "id": "59121f14-71e7-4221-bc41-d698b63cb1f6",
   "metadata": {},
   "outputs": [],
   "source": [
    "# shuffle population data\n",
    "fingers_shuffled = fingers.sample(frac=1)"
   ]
  },
  {
   "cell_type": "code",
   "execution_count": 13,
   "id": "b8ffe500-9025-4d29-baa4-2b5f0ea55be3",
   "metadata": {},
   "outputs": [],
   "source": [
    "# 750 samples, each of which has 4 data points\n",
    "samples = []\n",
    "for i in range(750):\n",
    "    sample = fingers_shuffled.iloc[i*4:(i+1)*4]\n",
    "    samples.append(sample)"
   ]
  },
  {
   "cell_type": "code",
   "execution_count": 14,
   "id": "e4c58ad4-dbf6-49d4-bb76-c7ec903d40f4",
   "metadata": {},
   "outputs": [],
   "source": [
    "sample_means = np.array([s.mean() for s in samples])"
   ]
  },
  {
   "cell_type": "code",
   "execution_count": 15,
   "id": "25c09887-9aa0-4667-b63a-ad117f703361",
   "metadata": {},
   "outputs": [
    {
     "data": {
      "text/plain": [
       "array([], dtype=float64)"
      ]
     },
     "execution_count": 15,
     "metadata": {},
     "output_type": "execute_result"
    }
   ],
   "source": [
    "sample_stds = np.array([s.std() for s in samples])\n",
    "sample_stds[sample_stds==0]"
   ]
  },
  {
   "cell_type": "code",
   "execution_count": 16,
   "id": "2636e958-a8fb-4d21-bbff-01c9e16991aa",
   "metadata": {},
   "outputs": [],
   "source": [
    "normalized_means = (sample_means - pop_mean) / (sample_stds)"
   ]
  },
  {
   "cell_type": "code",
   "execution_count": 17,
   "id": "c79ea3ac-57e7-47ae-8677-a01b3b7c72e2",
   "metadata": {},
   "outputs": [
    {
     "data": {
      "image/png": "[encoded data removed]",
      "text/plain": [
       "<Figure size 640x480 with 1 Axes>"
      ]
     },
     "metadata": {},
     "output_type": "display_data"
    }
   ],
   "source": [
    "plt.hist(normalized_means, bins = 23);"
   ]
  },
  {
   "cell_type": "code",
   "execution_count": null,
   "id": "e94dd7d4-174f-4040-b03e-e018dd9161c6",
   "metadata": {},
   "outputs": [],
   "source": []
  }
 ],
 "metadata": {
  "kernelspec": {
   "display_name": "Python 3 (ipykernel)",
   "language": "python",
   "name": "python3"
  },
  "language_info": {
   "codemirror_mode": {
    "name": "ipython",
    "version": 3
   },
   "file_extension": ".py",
   "mimetype": "text/x-python",
   "name": "python",
   "nbconvert_exporter": "python",
   "pygments_lexer": "ipython3",
   "version": "3.11.5"
  }
 },
 "nbformat": 4,
 "nbformat_minor": 5
}
