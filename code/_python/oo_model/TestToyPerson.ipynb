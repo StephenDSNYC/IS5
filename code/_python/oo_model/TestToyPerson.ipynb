{
 "cells": [
  {
   "cell_type": "markdown",
   "id": "7c03efb8",
   "metadata": {},
   "source": [
    "## Concepts:\n",
    "* package is a module, and a folder\n",
    "* module is a .py file\n",
    "* package has name, module has name, and other entities having names (such as variables, functions, classes, etc) may be defined inside a module\n",
    "* names are imported, e.g., you can import a package, a subpackage within a top level package, a module, or one or more names inside a module\n",
    "* names can only be used after they are created or imported into the current workspace\n",
    "* the dataTYPE of a class is a type, because a class defines a dataTYPE\n",
    "* the dataTYPE of a package or a module is just a module\n",
    "* function calls, index operator, and dot operator have the same precedent, and are evaluated from left to right, just like consecutive additions of a few integers\n",
    "\n",
    "\n",
    "## Exercise:\n",
    "* Construct a Son, give him a name and a toy.  Let him play with his toy for a few times.\n",
    "* Try consecutive calls"
   ]
  },
  {
   "cell_type": "code",
   "execution_count": 1,
   "id": "4520b1ba",
   "metadata": {
    "scrolled": true
   },
   "outputs": [
    {
     "data": {
      "text/plain": [
       "'C:\\\\Users\\\\sc522\\\\PROJECTS\\\\STAT\\\\IS5\\\\code\\\\_python\\\\oo_model'"
      ]
     },
     "execution_count": 1,
     "metadata": {},
     "output_type": "execute_result"
    }
   ],
   "source": [
    "%pwd"
   ]
  },
  {
   "cell_type": "code",
   "execution_count": 2,
   "id": "3bea809a",
   "metadata": {},
   "outputs": [],
   "source": [
    "def meaningful_names(thing = None):\n",
    "    if thing:\n",
    "        return [x for x in dir(thing) if not x.startswith('_')]\n",
    "    else:\n",
    "        return [x for x in globals() if not x.startswith('_')]"
   ]
  },
  {
   "cell_type": "code",
   "execution_count": 3,
   "id": "0357d359",
   "metadata": {},
   "outputs": [
    {
     "data": {
      "text/plain": [
       "['In',\n",
       " 'Out',\n",
       " 'get_ipython',\n",
       " 'exit',\n",
       " 'quit',\n",
       " 'open',\n",
       " 'meaningful_names',\n",
       " 'ToyPerson']"
      ]
     },
     "execution_count": 3,
     "metadata": {},
     "output_type": "execute_result"
    }
   ],
   "source": [
    "import ToyPerson  # import a top level package\n",
    "meaningful_names()"
   ]
  },
  {
   "cell_type": "code",
   "execution_count": 4,
   "id": "ce791ced",
   "metadata": {},
   "outputs": [
    {
     "data": {
      "text/plain": [
       "module"
      ]
     },
     "execution_count": 4,
     "metadata": {},
     "output_type": "execute_result"
    }
   ],
   "source": [
    "type(ToyPerson)"
   ]
  },
  {
   "cell_type": "code",
   "execution_count": 5,
   "id": "4bcff7c6",
   "metadata": {},
   "outputs": [
    {
     "data": {
      "text/plain": [
       "[]"
      ]
     },
     "execution_count": 5,
     "metadata": {},
     "output_type": "execute_result"
    }
   ],
   "source": [
    "meaningful_names(ToyPerson)"
   ]
  },
  {
   "cell_type": "code",
   "execution_count": 6,
   "id": "63ab9e23",
   "metadata": {},
   "outputs": [
    {
     "data": {
      "text/plain": [
       "[]"
      ]
     },
     "execution_count": 6,
     "metadata": {},
     "output_type": "execute_result"
    }
   ],
   "source": [
    "import ToyPerson.Person  # import a sub level package within the top level package\n",
    "meaningful_names(ToyPerson.Person)"
   ]
  },
  {
   "cell_type": "code",
   "execution_count": 7,
   "id": "a9b163d1",
   "metadata": {},
   "outputs": [
    {
     "data": {
      "text/plain": [
       "module"
      ]
     },
     "execution_count": 7,
     "metadata": {},
     "output_type": "execute_result"
    }
   ],
   "source": [
    "type(ToyPerson.Person)"
   ]
  },
  {
   "cell_type": "code",
   "execution_count": 8,
   "id": "fb5f45c5",
   "metadata": {},
   "outputs": [],
   "source": [
    "import ToyPerson.Person.Person  # import a module within the sub level package"
   ]
  },
  {
   "cell_type": "code",
   "execution_count": 9,
   "id": "746bb5bf",
   "metadata": {},
   "outputs": [
    {
     "data": {
      "text/plain": [
       "module"
      ]
     },
     "execution_count": 9,
     "metadata": {},
     "output_type": "execute_result"
    }
   ],
   "source": [
    "type(ToyPerson.Person.Person)"
   ]
  },
  {
   "cell_type": "code",
   "execution_count": 10,
   "id": "5e3f1b02",
   "metadata": {},
   "outputs": [
    {
     "data": {
      "text/plain": [
       "['Person']"
      ]
     },
     "execution_count": 10,
     "metadata": {},
     "output_type": "execute_result"
    }
   ],
   "source": [
    "meaningful_names(ToyPerson.Person.Person)"
   ]
  },
  {
   "cell_type": "code",
   "execution_count": 11,
   "id": "08f5cddc",
   "metadata": {},
   "outputs": [],
   "source": [
    "from ToyPerson.Person.Person import Person  # import a name from the module"
   ]
  },
  {
   "cell_type": "code",
   "execution_count": 12,
   "id": "9a99e54a",
   "metadata": {},
   "outputs": [
    {
     "data": {
      "text/plain": [
       "['In',\n",
       " 'Out',\n",
       " 'get_ipython',\n",
       " 'exit',\n",
       " 'quit',\n",
       " 'open',\n",
       " 'meaningful_names',\n",
       " 'ToyPerson',\n",
       " 'Person']"
      ]
     },
     "execution_count": 12,
     "metadata": {},
     "output_type": "execute_result"
    }
   ],
   "source": [
    "meaningful_names()"
   ]
  },
  {
   "cell_type": "code",
   "execution_count": 13,
   "id": "03d4bdf2",
   "metadata": {},
   "outputs": [
    {
     "data": {
      "text/plain": [
       "type"
      ]
     },
     "execution_count": 13,
     "metadata": {},
     "output_type": "execute_result"
    }
   ],
   "source": [
    "type(Person)"
   ]
  },
  {
   "cell_type": "code",
   "execution_count": 14,
   "id": "1f657091",
   "metadata": {},
   "outputs": [
    {
     "name": "stdout",
     "output_type": "stream",
     "text": [
      "Hello, I am Thomas.\n"
     ]
    }
   ],
   "source": [
    "tom = Person(\"Thomas\")\n",
    "tom.inspect()"
   ]
  },
  {
   "cell_type": "code",
   "execution_count": 15,
   "id": "5f01afce",
   "metadata": {},
   "outputs": [
    {
     "data": {
      "text/plain": [
       "ToyPerson.Person.Person.Person"
      ]
     },
     "execution_count": 15,
     "metadata": {},
     "output_type": "execute_result"
    }
   ],
   "source": [
    "type(tom)"
   ]
  },
  {
   "cell_type": "code",
   "execution_count": 16,
   "id": "66605118",
   "metadata": {},
   "outputs": [],
   "source": [
    "import ToyPerson.Person.Father as Father"
   ]
  },
  {
   "cell_type": "code",
   "execution_count": 17,
   "id": "3e7ad827",
   "metadata": {},
   "outputs": [],
   "source": [
    "brandon_father_tom = Father.Father(\"Thomas\")"
   ]
  },
  {
   "cell_type": "code",
   "execution_count": 18,
   "id": "66e10699",
   "metadata": {},
   "outputs": [
    {
     "data": {
      "text/plain": [
       "ToyPerson.Person.Father.Father"
      ]
     },
     "execution_count": 18,
     "metadata": {},
     "output_type": "execute_result"
    }
   ],
   "source": [
    "type(brandon_father_tom)"
   ]
  },
  {
   "cell_type": "code",
   "execution_count": 19,
   "id": "0666be19",
   "metadata": {},
   "outputs": [
    {
     "name": "stdout",
     "output_type": "stream",
     "text": [
      "Hello, I am Thomas.\n",
      "I am a father!\n"
     ]
    }
   ],
   "source": [
    "brandon_father_tom.inspect()"
   ]
  },
  {
   "cell_type": "code",
   "execution_count": 20,
   "id": "ebc4c786",
   "metadata": {},
   "outputs": [],
   "source": [
    "from ToyPerson.Person.Son import Son"
   ]
  },
  {
   "cell_type": "code",
   "execution_count": 21,
   "id": "dd49bf3b",
   "metadata": {},
   "outputs": [],
   "source": [
    "brandon = Son(\"Brandon\", \"Transformer\", 3)"
   ]
  },
  {
   "cell_type": "code",
   "execution_count": 22,
   "id": "a02eb835",
   "metadata": {},
   "outputs": [
    {
     "data": {
      "text/plain": [
       "ToyPerson.Person.Son.Son"
      ]
     },
     "execution_count": 22,
     "metadata": {},
     "output_type": "execute_result"
    }
   ],
   "source": [
    "type(brandon)"
   ]
  },
  {
   "cell_type": "code",
   "execution_count": 23,
   "id": "2dce6592",
   "metadata": {},
   "outputs": [
    {
     "name": "stdout",
     "output_type": "stream",
     "text": [
      "Hello, I am Brandon.\n",
      "I am a son.\n"
     ]
    }
   ],
   "source": [
    "brandon.inspect()"
   ]
  },
  {
   "cell_type": "code",
   "execution_count": 24,
   "id": "afd68cbe",
   "metadata": {},
   "outputs": [
    {
     "name": "stdout",
     "output_type": "stream",
     "text": [
      "Hello, I am Brandon.\n",
      "I am a son.\n",
      "Okay, I will play with my toy Transformer\n",
      "I have played with it, and it says:\n",
      "I am a good toy!\n",
      "Okay, got it!  Have fun!\n",
      "I can play 2 more times.\n",
      "\n",
      "Hello, I am Brandon.\n",
      "I am a son.\n",
      "Okay, I will play with my toy Transformer\n",
      "I have played with it, and it says:\n",
      "I am a good toy!\n",
      "Okay, got it!  Have fun!\n",
      "I can play 1 more times.\n",
      "\n",
      "Hello, I am Brandon.\n",
      "I am a son.\n",
      "Okay, I will play with my toy Transformer\n",
      "I have played with it, and it says:\n",
      "I am a good toy!\n",
      "Okay, got it!  Have fun!\n",
      "I am done\n",
      "\n",
      "Hello, I am Brandon.\n",
      "I am a son.\n",
      "Okay, I will play with my toy Transformer\n",
      "I have played with it, and it says:\n",
      "Ooch!  I am broken!\n",
      "Sorry, I cannot play anymore!\n",
      "\n",
      "Hello, I am Brandon.\n",
      "I am a son.\n",
      "Okay, I will play with my toy Transformer\n",
      "I have played with it, and it says:\n",
      "Ooch!  I am broken!\n",
      "Sorry, I cannot play anymore!\n",
      "\n"
     ]
    }
   ],
   "source": [
    "brandon.play().play().play().play().play();"
   ]
  },
  {
   "cell_type": "code",
   "execution_count": null,
   "id": "5d197902",
   "metadata": {},
   "outputs": [],
   "source": []
  }
 ],
 "metadata": {
  "kernelspec": {
   "display_name": "Python 3 (ipykernel)",
   "language": "python",
   "name": "python3"
  },
  "language_info": {
   "codemirror_mode": {
    "name": "ipython",
    "version": 3
   },
   "file_extension": ".py",
   "mimetype": "text/x-python",
   "name": "python",
   "nbconvert_exporter": "python",
   "pygments_lexer": "ipython3",
   "version": "3.11.3"
  }
 },
 "nbformat": 4,
 "nbformat_minor": 5
}
