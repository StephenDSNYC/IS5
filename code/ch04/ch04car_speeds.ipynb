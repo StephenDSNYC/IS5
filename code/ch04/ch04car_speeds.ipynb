{
 "cells": [
  {
   "cell_type": "code",
   "execution_count": 1,
   "id": "dbd21bdd",
   "metadata": {},
   "outputs": [],
   "source": [
    "import pandas as pd\n",
    "import matplotlib.pyplot as plt\n",
    "import numpy as np\n",
    "import statistics as stat"
   ]
  },
  {
   "cell_type": "code",
   "execution_count": 2,
   "id": "822aa151",
   "metadata": {},
   "outputs": [],
   "source": [
    "datafile = '../../dataset/ch04/car_speeds.txt'\n",
    "car_speeds = pd.read_csv(datafile, sep='\\t')"
   ]
  },
  {
   "cell_type": "code",
   "execution_count": 3,
   "id": "da9d3998",
   "metadata": {},
   "outputs": [
    {
     "data": {
      "text/html": [
       "<div>\n",
       "<style scoped>\n",
       "    .dataframe tbody tr th:only-of-type {\n",
       "        vertical-align: middle;\n",
       "    }\n",
       "\n",
       "    .dataframe tbody tr th {\n",
       "        vertical-align: top;\n",
       "    }\n",
       "\n",
       "    .dataframe thead th {\n",
       "        text-align: right;\n",
       "    }\n",
       "</style>\n",
       "<table border=\"1\" class=\"dataframe\">\n",
       "  <thead>\n",
       "    <tr style=\"text-align: right;\">\n",
       "      <th></th>\n",
       "      <th>direction</th>\n",
       "      <th>speed</th>\n",
       "    </tr>\n",
       "  </thead>\n",
       "  <tbody>\n",
       "    <tr>\n",
       "      <th>0</th>\n",
       "      <td>Up</td>\n",
       "      <td>22.77</td>\n",
       "    </tr>\n",
       "    <tr>\n",
       "      <th>1</th>\n",
       "      <td>Up</td>\n",
       "      <td>28.19</td>\n",
       "    </tr>\n",
       "    <tr>\n",
       "      <th>2</th>\n",
       "      <td>Down</td>\n",
       "      <td>20.96</td>\n",
       "    </tr>\n",
       "    <tr>\n",
       "      <th>3</th>\n",
       "      <td>Down</td>\n",
       "      <td>19.97</td>\n",
       "    </tr>\n",
       "    <tr>\n",
       "      <th>4</th>\n",
       "      <td>Up</td>\n",
       "      <td>30.12</td>\n",
       "    </tr>\n",
       "  </tbody>\n",
       "</table>\n",
       "</div>"
      ],
      "text/plain": [
       "  direction  speed\n",
       "0        Up  22.77\n",
       "1        Up  28.19\n",
       "2      Down  20.96\n",
       "3      Down  19.97\n",
       "4        Up  30.12"
      ]
     },
     "execution_count": 3,
     "metadata": {},
     "output_type": "execute_result"
    }
   ],
   "source": [
    "car_speeds.head()"
   ]
  },
  {
   "cell_type": "code",
   "execution_count": 4,
   "id": "7407c0ac",
   "metadata": {},
   "outputs": [
    {
     "data": {
      "text/plain": [
       "500"
      ]
     },
     "execution_count": 4,
     "metadata": {},
     "output_type": "execute_result"
    }
   ],
   "source": [
    "len(car_speeds)"
   ]
  },
  {
   "cell_type": "code",
   "execution_count": 5,
   "id": "d45d9df1",
   "metadata": {},
   "outputs": [],
   "source": [
    "up_speeds = car_speeds[car_speeds.direction=='Up']['speed']\n",
    "dn_speeds = car_speeds[car_speeds.direction=='Down']['speed']"
   ]
  },
  {
   "cell_type": "code",
   "execution_count": 7,
   "id": "5eb56fa7",
   "metadata": {},
   "outputs": [
    {
     "data": {
      "image/png": "[encoded data removed]",
      "text/plain": [
       "<Figure size 800x400 with 2 Axes>"
      ]
     },
     "metadata": {},
     "output_type": "display_data"
    }
   ],
   "source": [
    "fig, axes = plt.subplots(1, 2, figsize=(8,4))\n",
    "p = up_speeds.plot(kind='box', ax=axes[1])\n",
    "p.set(ylim=[8, 36])\n",
    "p.set(xlabel='Up')\n",
    "p = dn_speeds.plot(kind='box', ax=axes[0])\n",
    "p.set(ylim=[8, 36])\n",
    "p.set(xlabel='Down');"
   ]
  },
  {
   "cell_type": "code",
   "execution_count": 8,
   "id": "74e1fccf",
   "metadata": {},
   "outputs": [
    {
     "data": {
      "text/html": [
       "<div>\n",
       "<style scoped>\n",
       "    .dataframe tbody tr th:only-of-type {\n",
       "        vertical-align: middle;\n",
       "    }\n",
       "\n",
       "    .dataframe tbody tr th {\n",
       "        vertical-align: top;\n",
       "    }\n",
       "\n",
       "    .dataframe thead th {\n",
       "        text-align: right;\n",
       "    }\n",
       "</style>\n",
       "<table border=\"1\" class=\"dataframe\">\n",
       "  <thead>\n",
       "    <tr style=\"text-align: right;\">\n",
       "      <th></th>\n",
       "      <th>Min</th>\n",
       "      <th>Q1</th>\n",
       "      <th>Median</th>\n",
       "      <th>Q3</th>\n",
       "      <th>Max</th>\n",
       "      <th>IQR</th>\n",
       "    </tr>\n",
       "  </thead>\n",
       "  <tbody>\n",
       "    <tr>\n",
       "      <th>Down</th>\n",
       "      <td>10.3</td>\n",
       "      <td>20.5</td>\n",
       "      <td>22.9</td>\n",
       "      <td>25.4</td>\n",
       "      <td>33.0</td>\n",
       "      <td>4.9</td>\n",
       "    </tr>\n",
       "    <tr>\n",
       "      <th>Up</th>\n",
       "      <td>15.1</td>\n",
       "      <td>22.5</td>\n",
       "      <td>25.2</td>\n",
       "      <td>28.2</td>\n",
       "      <td>35.0</td>\n",
       "      <td>5.7</td>\n",
       "    </tr>\n",
       "  </tbody>\n",
       "</table>\n",
       "</div>"
      ],
      "text/plain": [
       "       Min    Q1  Median    Q3   Max  IQR\n",
       "Down  10.3  20.5    22.9  25.4  33.0  4.9\n",
       "Up    15.1  22.5    25.2  28.2  35.0  5.7"
      ]
     },
     "execution_count": 8,
     "metadata": {},
     "output_type": "execute_result"
    }
   ],
   "source": [
    "dn_q75, dn_q25 = np.percentile(dn_speeds, [75, 25])\n",
    "up_q75, up_q25 = np.percentile(up_speeds, [75, 25])\n",
    "\n",
    "summary_speeds_directions = pd.DataFrame(\n",
    "    data={\n",
    "        'Min':    [round(min(dn_speeds), 1),\n",
    "                   round(min(up_speeds), 1)],\n",
    "        'Q1':     [round(dn_q25, 1),\n",
    "                   round(up_q25, 1)],\n",
    "        'Median': [round(stat.median(dn_speeds), 1),\n",
    "                   round(stat.median(up_speeds), 1)],\n",
    "        'Q3':     [round(dn_q75, 1),\n",
    "                   round(up_q75, 1)],\n",
    "        'Max':    [round(max(dn_speeds), 1),\n",
    "                   round(max(up_speeds), 1)],\n",
    "        'IQR':    [round(dn_q75 - dn_q25, 1),\n",
    "                   round(up_q75 - up_q25, 1)]\n",
    "    },\n",
    "    index=['Down', 'Up']\n",
    ")\n",
    "\n",
    "summary_speeds_directions"
   ]
  },
  {
   "cell_type": "code",
   "execution_count": 9,
   "id": "27f22a57",
   "metadata": {},
   "outputs": [
    {
     "name": "stdout",
     "output_type": "stream",
     "text": [
      "Mean speeds going down: 22.71708 \n",
      "\n",
      "Mean speeds going up: 25.25172 \n",
      "\n",
      "There is a difference: 2.53 (up is faster)\n"
     ]
    }
   ],
   "source": [
    "print(f\"Mean speeds going down: {stat.mean(dn_speeds)} \\n\")\n",
    "print(f\"Mean speeds going up: {stat.mean(up_speeds)} \\n\")\n",
    "print(f\"There is a difference: {stat.mean(up_speeds) - stat.mean(dn_speeds):.2f} (up is faster)\")"
   ]
  },
  {
   "cell_type": "code",
   "execution_count": 10,
   "id": "faa7968d",
   "metadata": {},
   "outputs": [
    {
     "name": "stdout",
     "output_type": "stream",
     "text": [
      "250 samples going down\n",
      "250 samples going up\n"
     ]
    }
   ],
   "source": [
    "print(f'{dn_speeds.count()} samples going down')\n",
    "print(f'{up_speeds.count()} samples going up')"
   ]
  },
  {
   "cell_type": "code",
   "execution_count": 11,
   "id": "78364970",
   "metadata": {},
   "outputs": [
    {
     "data": {
      "text/plain": [
       "direction    False\n",
       "speed        False\n",
       "dtype: bool"
      ]
     },
     "execution_count": 11,
     "metadata": {},
     "output_type": "execute_result"
    }
   ],
   "source": [
    "car_speeds.isna().any()  #  NO missing data !!"
   ]
  },
  {
   "cell_type": "markdown",
   "id": "903a464e",
   "metadata": {},
   "source": [
    "### Simulation: \n",
    "We have seen different median and mean speeds between going up and down.  We may reach a conclusion that cars going up drive faster than cars going down.  However, one may argue that such differences are due to randomness.\n",
    "\n",
    "To test whether the argument is reasonable, we **assume** that it is **true that the differences are merely due to randomness\"**.  What the assumption implies is that, if we randomly shuffle the speeds into \"up\" and \"down\", we expect to see a difference in their speeds which is on par with what we have see in real data.  (Think about this logic and tell yourself if you believe this kind of reasoning makes sense.)\n",
    "\n",
    "Our test may reach one of two opposite conclusions:\n",
    "1. we may find that the assumption leads to a rare event, which is rare enough that its probability of occurence is below a threshold (usually 5% for beginners).  Then we may conclude that the assumption is rejected!\n",
    "2. OR, we find that the assumption is reasonable in that it leads to an event with moderate probability over the set threshold.  In this case, we can only retain the assuption.  We cannot prove it true, but we cannot overturn it either.  We may design new experiments and run more test to collect more data to see if we can eventually reject it."
   ]
  },
  {
   "cell_type": "code",
   "execution_count": 13,
   "id": "acd00b6d",
   "metadata": {},
   "outputs": [],
   "source": [
    "# a helper function, for flipping a fair coin with two sides 0 and 1\n",
    "def flip_coin():\n",
    "    return np.random.randint(2)"
   ]
  },
  {
   "cell_type": "code",
   "execution_count": 15,
   "id": "4240e5f7",
   "metadata": {},
   "outputs": [
    {
     "name": "stdout",
     "output_type": "stream",
     "text": [
      "Simulation of 10000 samples takes 43.70 sec\n",
      "\n",
      "0 samples having differencegreather than the observed mean difference\n",
      "\n",
      "Therefore, the observed difference is by no means due to randomness\n"
     ]
    },
    {
     "data": {
      "image/png": "[encoded data removed]",
      "text/plain": [
       "<Figure size 640x480 with 1 Axes>"
      ]
     },
     "metadata": {},
     "output_type": "display_data"
    }
   ],
   "source": [
    "from time import time\n",
    "\n",
    "observed_mean_diff = stat.mean(up_speeds) - stat.mean(dn_speeds)\n",
    "speed_pool = car_speeds.speed  # extract all the speed numbers\n",
    "sample_size = 10000\n",
    "samples = np.zeros(sample_size)\n",
    "# randomly assign each speed to an 'up' group or a 'down' group\n",
    "ups = np.zeros(250)\n",
    "dns = np.zeros(250)\n",
    "start_time = time()\n",
    "for i in range(sample_size):  # sampling 10,000 times\n",
    "    up_ind = 0\n",
    "    dn_ind = 0\n",
    "    for j in range(500):  # 500 speeds to be assigned\n",
    "        if flip_coin():  # if we get a 1 here, we try to put it in 'up'\n",
    "            if up_ind < 250:  # 'up' can accept new data\n",
    "                ups[up_ind] = speed_pool[j]\n",
    "                up_ind += 1\n",
    "            else:  # 'up' cannot accept new data, we have to put it in 'down'\n",
    "                dns[dn_ind] = speed_pool[j]\n",
    "                dn_ind += 1\n",
    "        else:  # we got a 0 drawn, we try to put it in 'down'\n",
    "            if dn_ind < 250:\n",
    "                dns[dn_ind] = speed_pool[j]\n",
    "                dn_ind += 1\n",
    "            else:\n",
    "                ups[up_ind] = speed_pool[j]\n",
    "                up_ind += 1\n",
    "    # stat the difference in the means of two simulated groups, and pool the data into our sample\n",
    "    samples[i] = stat.mean(ups) - stat.mean(dns)\n",
    "\n",
    "duration = time() - start_time\n",
    "print(f'Simulation of {sample_size} samples takes {duration:.2f} sec\\n')\n",
    "    \n",
    "# plot hist of sample, and calc the likelihood of observing a difference no smaller than the 'observed_mean_diff ~ 2.53'\n",
    "plt.hist(samples, edgecolor='k');\n",
    "\n",
    "print(f'{sum(samples[samples>observed_mean_diff])} samples having difference'\n",
    "       'greather than the observed mean difference\\n')\n",
    "print(f'Therefore, the observed difference is by no means due to randomness')\n"
   ]
  },
  {
   "cell_type": "code",
   "execution_count": 16,
   "id": "2aa8fbb7",
   "metadata": {},
   "outputs": [
    {
     "data": {
      "image/png": "[encoded data removed]",
      "text/plain": [
       "<Figure size 640x480 with 1 Axes>"
      ]
     },
     "metadata": {},
     "output_type": "display_data"
    }
   ],
   "source": [
    "plt.hist(samples, bins=50, edgecolor='k');"
   ]
  },
  {
   "cell_type": "code",
   "execution_count": null,
   "id": "a51c9dc0",
   "metadata": {},
   "outputs": [],
   "source": []
  }
 ],
 "metadata": {
  "kernelspec": {
   "display_name": "Python 3 (ipykernel)",
   "language": "python",
   "name": "python3"
  },
  "language_info": {
   "codemirror_mode": {
    "name": "ipython",
    "version": 3
   },
   "file_extension": ".py",
   "mimetype": "text/x-python",
   "name": "python",
   "nbconvert_exporter": "python",
   "pygments_lexer": "ipython3",
   "version": "3.11.5"
  }
 },
 "nbformat": 4,
 "nbformat_minor": 5
}
