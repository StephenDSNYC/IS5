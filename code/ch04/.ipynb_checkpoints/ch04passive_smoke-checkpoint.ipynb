{
 "cells": [
  {
   "cell_type": "code",
   "execution_count": 1,
   "id": "eb0c6332",
   "metadata": {},
   "outputs": [],
   "source": [
    "import pandas as pd\n",
    "import matplotlib.pyplot as plt\n",
    "import numpy as np\n",
    "import statistics as stat\n",
    "import seaborn as sns"
   ]
  },
  {
   "cell_type": "code",
   "execution_count": 2,
   "id": "b13dba2c",
   "metadata": {},
   "outputs": [],
   "source": [
    "datafile = '../../dataset/ch04/passive_smoke.txt'\n",
    "passive_smoke = pd.read_csv(datafile, sep='\\t')"
   ]
  },
  {
   "cell_type": "code",
   "execution_count": 3,
   "id": "be95e760",
   "metadata": {},
   "outputs": [
    {
     "data": {
      "text/html": [
       "<div>\n",
       "<style scoped>\n",
       "    .dataframe tbody tr th:only-of-type {\n",
       "        vertical-align: middle;\n",
       "    }\n",
       "\n",
       "    .dataframe tbody tr th {\n",
       "        vertical-align: top;\n",
       "    }\n",
       "\n",
       "    .dataframe thead th {\n",
       "        text-align: right;\n",
       "    }\n",
       "</style>\n",
       "<table border=\"1\" class=\"dataframe\">\n",
       "  <thead>\n",
       "    <tr style=\"text-align: right;\">\n",
       "      <th></th>\n",
       "      <th>cotinine</th>\n",
       "      <th>smoke_exposure</th>\n",
       "    </tr>\n",
       "  </thead>\n",
       "  <tbody>\n",
       "    <tr>\n",
       "      <th>0</th>\n",
       "      <td>0.03</td>\n",
       "      <td>No ETS</td>\n",
       "    </tr>\n",
       "    <tr>\n",
       "      <th>1</th>\n",
       "      <td>0.05</td>\n",
       "      <td>No ETS</td>\n",
       "    </tr>\n",
       "    <tr>\n",
       "      <th>2</th>\n",
       "      <td>0.05</td>\n",
       "      <td>No ETS</td>\n",
       "    </tr>\n",
       "    <tr>\n",
       "      <th>3</th>\n",
       "      <td>0.06</td>\n",
       "      <td>No ETS</td>\n",
       "    </tr>\n",
       "    <tr>\n",
       "      <th>4</th>\n",
       "      <td>0.06</td>\n",
       "      <td>No ETS</td>\n",
       "    </tr>\n",
       "  </tbody>\n",
       "</table>\n",
       "</div>"
      ],
      "text/plain": [
       "   cotinine smoke_exposure\n",
       "0      0.03         No ETS\n",
       "1      0.05         No ETS\n",
       "2      0.05         No ETS\n",
       "3      0.06         No ETS\n",
       "4      0.06         No ETS"
      ]
     },
     "execution_count": 3,
     "metadata": {},
     "output_type": "execute_result"
    }
   ],
   "source": [
    "passive_smoke.head()"
   ]
  },
  {
   "cell_type": "code",
   "execution_count": 4,
   "id": "f1258c53",
   "metadata": {},
   "outputs": [
    {
     "data": {
      "text/plain": [
       "150"
      ]
     },
     "execution_count": 4,
     "metadata": {},
     "output_type": "execute_result"
    }
   ],
   "source": [
    "len(passive_smoke)"
   ]
  },
  {
   "cell_type": "code",
   "execution_count": 5,
   "id": "3ec8a4e6",
   "metadata": {},
   "outputs": [
    {
     "data": {
      "text/plain": [
       "No ETS     50\n",
       "ETS        50\n",
       "Smokers    50\n",
       "Name: smoke_exposure, dtype: int64"
      ]
     },
     "execution_count": 5,
     "metadata": {},
     "output_type": "execute_result"
    }
   ],
   "source": [
    "passive_smoke.smoke_exposure.value_counts()"
   ]
  },
  {
   "cell_type": "code",
   "execution_count": 6,
   "id": "cd2f7852",
   "metadata": {},
   "outputs": [
    {
     "data": {
      "image/png": "[encoded data removed]",
      "text/plain": [
       "<Figure size 640x480 with 1 Axes>"
      ]
     },
     "metadata": {},
     "output_type": "display_data"
    }
   ],
   "source": [
    "passive_smoke.groupby('smoke_exposure').boxplot(subplots=False);"
   ]
  },
  {
   "cell_type": "code",
   "execution_count": null,
   "id": "a18843d9",
   "metadata": {
    "scrolled": false
   },
   "outputs": [],
   "source": [
    "sns.boxplot(x='smoke_exposure', y='cotinine', data=passive_smoke);"
   ]
  },
  {
   "cell_type": "code",
   "execution_count": 7,
   "id": "a1dc3882",
   "metadata": {},
   "outputs": [],
   "source": [
    "passive_smoke.cotinine = np.log10(passive_smoke.cotinine)"
   ]
  },
  {
   "cell_type": "code",
   "execution_count": 8,
   "id": "06efc43e",
   "metadata": {},
   "outputs": [],
   "source": [
    "passive_smoke.groupby('smoke_exposure').boxplot(subplots=False);"
   ]
  },
  {
   "cell_type": "code",
   "execution_count": null,
   "id": "271b5948",
   "metadata": {},
   "outputs": [],
   "source": [
    "sns.boxplot(x='smoke_exposure', y='cotinine', data=passive_smoke);"
   ]
  },
  {
   "cell_type": "code",
   "execution_count": null,
   "id": "13b3b54e",
   "metadata": {},
   "outputs": [],
   "source": []
  }
 ],
 "metadata": {
  "kernelspec": {
   "display_name": "Python 3 (ipykernel)",
   "language": "python",
   "name": "python3"
  },
  "language_info": {
   "codemirror_mode": {
    "name": "ipython",
    "version": 3
   },
   "file_extension": ".py",
   "mimetype": "text/x-python",
   "name": "python",
   "nbconvert_exporter": "python",
   "pygments_lexer": "ipython3",
   "version": "3.11.3"
  }
 },
 "nbformat": 4,
 "nbformat_minor": 5
}
