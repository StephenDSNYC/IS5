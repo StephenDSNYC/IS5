{
 "cells": [
  {
   "cell_type": "markdown",
   "id": "408ab5fe",
   "metadata": {},
   "source": [
    "## DATASET: hopkins_forest.txt\n",
    "\n",
    "### Analysis:\n",
    "* interplay between a quantitative variable and a categorical variable\n",
    "* compare histogram (i.e., density distribution) of a quantitative variable that can be categorized according to a categorical variable\n",
    "\n",
    "### Technics:\n",
    "* python pandas, pyplot, numpy and statistics\n",
    "* write multi-lined long expression, by separating lines within parenthesis, brackets and braces\n",
    "* understand built-in data structures including list, tuple and dictionary"
   ]
  },
  {
   "cell_type": "code",
   "execution_count": 1,
   "id": "8e0663ff",
   "metadata": {},
   "outputs": [
    {
     "data": {
      "text/plain": [
       "'C:\\\\Users\\\\sc522\\\\PROJECTS\\\\STAT\\\\IS5\\\\code\\\\ch04'"
      ]
     },
     "execution_count": 1,
     "metadata": {},
     "output_type": "execute_result"
    }
   ],
   "source": [
    "%pwd"
   ]
  },
  {
   "cell_type": "code",
   "execution_count": 2,
   "id": "05929b5c",
   "metadata": {},
   "outputs": [],
   "source": [
    "import pandas as pd\n",
    "import matplotlib.pyplot as plt\n",
    "import numpy as np\n",
    "import statistics as stat"
   ]
  },
  {
   "cell_type": "code",
   "execution_count": 3,
   "id": "8d36a57f",
   "metadata": {},
   "outputs": [],
   "source": [
    "datafile = '../../dataset/ch04/hopkins_forest.txt'\n",
    "hopkins_forest = pd.read_csv(datafile, sep='\\t')"
   ]
  },
  {
   "cell_type": "code",
   "execution_count": 4,
   "id": "8366fcb2",
   "metadata": {},
   "outputs": [
    {
     "data": {
      "text/html": [
       "<div>\n",
       "<style scoped>\n",
       "    .dataframe tbody tr th:only-of-type {\n",
       "        vertical-align: middle;\n",
       "    }\n",
       "\n",
       "    .dataframe tbody tr th {\n",
       "        vertical-align: top;\n",
       "    }\n",
       "\n",
       "    .dataframe thead th {\n",
       "        text-align: right;\n",
       "    }\n",
       "</style>\n",
       "<table border=\"1\" class=\"dataframe\">\n",
       "  <thead>\n",
       "    <tr style=\"text-align: right;\">\n",
       "      <th></th>\n",
       "      <th>Date</th>\n",
       "      <th>Year</th>\n",
       "      <th>Month</th>\n",
       "      <th>Day</th>\n",
       "      <th>Day of Year</th>\n",
       "      <th>Avg Temp (C)</th>\n",
       "      <th>Max Temp (C)</th>\n",
       "      <th>Min Temp (C)</th>\n",
       "      <th>Avg Temp (F)</th>\n",
       "      <th>Max Temp (F)</th>\n",
       "      <th>...</th>\n",
       "      <th>Max Wind (mph)</th>\n",
       "      <th>Min Wind (mph)</th>\n",
       "      <th>Avg Barom (mb)</th>\n",
       "      <th>Max Barom (mb)</th>\n",
       "      <th>Min Barom (mb)</th>\n",
       "      <th>Precip (in)</th>\n",
       "      <th>Deep Well (ft)</th>\n",
       "      <th>Shallow Well (ft)</th>\n",
       "      <th>80 cm Soil (C)</th>\n",
       "      <th>10 cm Soil (C)</th>\n",
       "    </tr>\n",
       "  </thead>\n",
       "  <tbody>\n",
       "    <tr>\n",
       "      <th>0</th>\n",
       "      <td>01/01/2011 12:00 AM</td>\n",
       "      <td>2011</td>\n",
       "      <td>1</td>\n",
       "      <td>1</td>\n",
       "      <td>1</td>\n",
       "      <td>5.21</td>\n",
       "      <td>10.57</td>\n",
       "      <td>1.59</td>\n",
       "      <td>41.38</td>\n",
       "      <td>51.03</td>\n",
       "      <td>...</td>\n",
       "      <td>8.55</td>\n",
       "      <td>0</td>\n",
       "      <td>1011.47</td>\n",
       "      <td>1014</td>\n",
       "      <td>1008</td>\n",
       "      <td>0.00</td>\n",
       "      <td>5.23</td>\n",
       "      <td>1.60</td>\n",
       "      <td>5.17</td>\n",
       "      <td>2.74</td>\n",
       "    </tr>\n",
       "    <tr>\n",
       "      <th>1</th>\n",
       "      <td>01/02/2011 12:00 AM</td>\n",
       "      <td>2011</td>\n",
       "      <td>1</td>\n",
       "      <td>2</td>\n",
       "      <td>2</td>\n",
       "      <td>2.53</td>\n",
       "      <td>6.22</td>\n",
       "      <td>-2.96</td>\n",
       "      <td>36.55</td>\n",
       "      <td>43.20</td>\n",
       "      <td>...</td>\n",
       "      <td>27.40</td>\n",
       "      <td>0</td>\n",
       "      <td>1008.17</td>\n",
       "      <td>1010</td>\n",
       "      <td>1007</td>\n",
       "      <td>0.07</td>\n",
       "      <td>5.20</td>\n",
       "      <td>1.18</td>\n",
       "      <td>5.20</td>\n",
       "      <td>2.67</td>\n",
       "    </tr>\n",
       "    <tr>\n",
       "      <th>2</th>\n",
       "      <td>01/03/2011 12:00 AM</td>\n",
       "      <td>2011</td>\n",
       "      <td>1</td>\n",
       "      <td>3</td>\n",
       "      <td>3</td>\n",
       "      <td>-4.17</td>\n",
       "      <td>-1.63</td>\n",
       "      <td>-5.59</td>\n",
       "      <td>24.50</td>\n",
       "      <td>29.07</td>\n",
       "      <td>...</td>\n",
       "      <td>26.74</td>\n",
       "      <td>0</td>\n",
       "      <td>1011.17</td>\n",
       "      <td>1013</td>\n",
       "      <td>1008</td>\n",
       "      <td>0.00</td>\n",
       "      <td>4.89</td>\n",
       "      <td>1.36</td>\n",
       "      <td>5.14</td>\n",
       "      <td>2.64</td>\n",
       "    </tr>\n",
       "    <tr>\n",
       "      <th>3</th>\n",
       "      <td>01/04/2011 12:00 AM</td>\n",
       "      <td>2011</td>\n",
       "      <td>1</td>\n",
       "      <td>4</td>\n",
       "      <td>4</td>\n",
       "      <td>-3.97</td>\n",
       "      <td>1.79</td>\n",
       "      <td>-8.63</td>\n",
       "      <td>24.85</td>\n",
       "      <td>35.22</td>\n",
       "      <td>...</td>\n",
       "      <td>11.84</td>\n",
       "      <td>0</td>\n",
       "      <td>1005.70</td>\n",
       "      <td>1012</td>\n",
       "      <td>1001</td>\n",
       "      <td>0.00</td>\n",
       "      <td>4.66</td>\n",
       "      <td>1.47</td>\n",
       "      <td>5.07</td>\n",
       "      <td>2.15</td>\n",
       "    </tr>\n",
       "    <tr>\n",
       "      <th>4</th>\n",
       "      <td>01/05/2011 12:00 AM</td>\n",
       "      <td>2011</td>\n",
       "      <td>1</td>\n",
       "      <td>5</td>\n",
       "      <td>5</td>\n",
       "      <td>-3.13</td>\n",
       "      <td>0.47</td>\n",
       "      <td>-6.92</td>\n",
       "      <td>26.37</td>\n",
       "      <td>32.85</td>\n",
       "      <td>...</td>\n",
       "      <td>26.08</td>\n",
       "      <td>0</td>\n",
       "      <td>1001.78</td>\n",
       "      <td>1003</td>\n",
       "      <td>1001</td>\n",
       "      <td>0.00</td>\n",
       "      <td>4.59</td>\n",
       "      <td>1.54</td>\n",
       "      <td>4.97</td>\n",
       "      <td>1.91</td>\n",
       "    </tr>\n",
       "  </tbody>\n",
       "</table>\n",
       "<p>5 rows × 29 columns</p>\n",
       "</div>"
      ],
      "text/plain": [
       "                  Date  Year  Month  Day  Day of Year  Avg Temp (C)  \\\n",
       "0  01/01/2011 12:00 AM  2011      1    1            1          5.21   \n",
       "1  01/02/2011 12:00 AM  2011      1    2            2          2.53   \n",
       "2  01/03/2011 12:00 AM  2011      1    3            3         -4.17   \n",
       "3  01/04/2011 12:00 AM  2011      1    4            4         -3.97   \n",
       "4  01/05/2011 12:00 AM  2011      1    5            5         -3.13   \n",
       "\n",
       "   Max Temp (C)  Min Temp (C)  Avg Temp (F)  Max Temp (F)  ...  \\\n",
       "0         10.57          1.59         41.38         51.03  ...   \n",
       "1          6.22         -2.96         36.55         43.20  ...   \n",
       "2         -1.63         -5.59         24.50         29.07  ...   \n",
       "3          1.79         -8.63         24.85         35.22  ...   \n",
       "4          0.47         -6.92         26.37         32.85  ...   \n",
       "\n",
       "   Max Wind (mph)  Min Wind (mph)  Avg Barom (mb)  Max Barom (mb)  \\\n",
       "0            8.55               0         1011.47            1014   \n",
       "1           27.40               0         1008.17            1010   \n",
       "2           26.74               0         1011.17            1013   \n",
       "3           11.84               0         1005.70            1012   \n",
       "4           26.08               0         1001.78            1003   \n",
       "\n",
       "   Min Barom (mb)  Precip (in)  Deep Well (ft)  Shallow Well (ft)  \\\n",
       "0            1008         0.00            5.23               1.60   \n",
       "1            1007         0.07            5.20               1.18   \n",
       "2            1008         0.00            4.89               1.36   \n",
       "3            1001         0.00            4.66               1.47   \n",
       "4            1001         0.00            4.59               1.54   \n",
       "\n",
       "   80 cm Soil (C)  10 cm Soil (C)  \n",
       "0            5.17            2.74  \n",
       "1            5.20            2.67  \n",
       "2            5.14            2.64  \n",
       "3            5.07            2.15  \n",
       "4            4.97            1.91  \n",
       "\n",
       "[5 rows x 29 columns]"
      ]
     },
     "execution_count": 4,
     "metadata": {},
     "output_type": "execute_result"
    }
   ],
   "source": [
    "hopkins_forest.head()  # certain columns are omitted as ellipsis"
   ]
  },
  {
   "cell_type": "code",
   "execution_count": 5,
   "id": "3aa6753c",
   "metadata": {
    "scrolled": true
   },
   "outputs": [
    {
     "data": {
      "text/plain": [
       "Index(['Date', 'Year', 'Month', 'Day', 'Day of Year', 'Avg Temp (C)',\n",
       "       'Max Temp (C)', 'Min Temp (C)', 'Avg Temp (F)', 'Max Temp (F)',\n",
       "       'Min Temp (F)', 'Avg Rel Hum (%)', 'Max Rel Hum (%)', 'Min Rel Hum (%)',\n",
       "       'Avg Sol Rad (w/m^2)', 'Max Sol Rad (w/m^2)', 'Min Sol Rad (w/m^2)',\n",
       "       'Total Sol Rad (w/m^2)', 'Avg Wind (mph)', 'Max Wind (mph)',\n",
       "       'Min Wind (mph)', 'Avg Barom (mb)', 'Max Barom (mb)', 'Min Barom (mb)',\n",
       "       'Precip (in)', 'Deep Well (ft)', 'Shallow Well (ft)', '80 cm Soil (C)',\n",
       "       '10 cm Soil (C)'],\n",
       "      dtype='object')"
      ]
     },
     "execution_count": 5,
     "metadata": {},
     "output_type": "execute_result"
    }
   ],
   "source": [
    "hopkins_forest.columns  # get the column variable names"
   ]
  },
  {
   "cell_type": "code",
   "execution_count": 6,
   "id": "27e2e97d",
   "metadata": {},
   "outputs": [
    {
     "data": {
      "text/plain": [
       "365"
      ]
     },
     "execution_count": 6,
     "metadata": {},
     "output_type": "execute_result"
    }
   ],
   "source": [
    "len(hopkins_forest)  # of course, 365 days in year 2011"
   ]
  },
  {
   "cell_type": "code",
   "execution_count": 7,
   "id": "9e0822d0",
   "metadata": {},
   "outputs": [],
   "source": [
    "avg_wind = hopkins_forest['Avg Wind (mph)']"
   ]
  },
  {
   "cell_type": "code",
   "execution_count": 8,
   "id": "7c04a820",
   "metadata": {
    "scrolled": false
   },
   "outputs": [
    {
     "data": {
      "image/png": "[encoded data removed]",
      "text/plain": [
       "<Figure size 640x480 with 1 Axes>"
      ]
     },
     "metadata": {},
     "output_type": "display_data"
    }
   ],
   "source": [
    "plt.hist(avg_wind, bins=np.linspace(0, 7, 15), edgecolor='k');"
   ]
  },
  {
   "cell_type": "code",
   "execution_count": 12,
   "id": "bf677110",
   "metadata": {},
   "outputs": [],
   "source": [
    "def iqr(data):\n",
    "    q75, q25 = np.percentile(data, [75, 25])\n",
    "    return q75, q25, q75-q25"
   ]
  },
  {
   "cell_type": "code",
   "execution_count": 13,
   "id": "28afe477",
   "metadata": {},
   "outputs": [
    {
     "name": "stdout",
     "output_type": "stream",
     "text": [
      "Median of Average Daily Wind Speed is: 1.12 mph\n",
      "\n",
      "Q3 of Averge Daily Wind Speed is: 2.28 mph\n",
      "\n",
      "Q1 of Averge Daily Wind Speed is: 0.46 mph\n",
      "\n",
      "IQR of Averge Daily Wind Speed is: 1.82 mph\n"
     ]
    }
   ],
   "source": [
    "print(f'Median of Average Daily Wind Speed is: {stat.median(avg_wind)} mph\\n')\n",
    "aw_q75, aw_q25, aw_iqr = iqr(avg_wind)\n",
    "print(f'Q3 of Averge Daily Wind Speed is: {aw_q75} mph\\n')\n",
    "print(f'Q1 of Averge Daily Wind Speed is: {aw_q25} mph\\n')\n",
    "print(f'IQR of Averge Daily Wind Speed is: {aw_iqr:.2f} mph')"
   ]
  },
  {
   "cell_type": "code",
   "execution_count": 11,
   "id": "6b6649b0",
   "metadata": {},
   "outputs": [
    {
     "data": {
      "image/png": "[encoded data removed]",
      "text/plain": [
       "<Figure size 640x480 with 2 Axes>"
      ]
     },
     "metadata": {},
     "output_type": "display_data"
    }
   ],
   "source": [
    "spring_summer_avg_wind = hopkins_forest[(hopkins_forest.Month>=4) & (hopkins_forest.Month<=9)]['Avg Wind (mph)']\n",
    "fall_winter_avg_wind = hopkins_forest[(hopkins_forest.Month<4) | (hopkins_forest.Month>9)]['Avg Wind (mph)']\n",
    "fig, axes = plt.subplots(2)\n",
    "axes[0].hist(spring_summer_avg_wind, bins=np.linspace(0, 7, 15), color='darkorange', edgecolor='k');\n",
    "axes[0].set_title('Spring/Summer (mph)', fontsize=12)\n",
    "axes[1].hist(fall_winter_avg_wind, bins=np.linspace(0, 7, 15), color='darkorange', edgecolor='k');\n",
    "axes[1].set_title('Fall/Winter (mph)', fontsize=12)\n",
    "fig.tight_layout()"
   ]
  },
  {
   "cell_type": "code",
   "execution_count": 20,
   "id": "d2f0c29b",
   "metadata": {},
   "outputs": [
    {
     "data": {
      "text/html": [
       "<div>\n",
       "<style scoped>\n",
       "    .dataframe tbody tr th:only-of-type {\n",
       "        vertical-align: middle;\n",
       "    }\n",
       "\n",
       "    .dataframe tbody tr th {\n",
       "        vertical-align: top;\n",
       "    }\n",
       "\n",
       "    .dataframe thead th {\n",
       "        text-align: right;\n",
       "    }\n",
       "</style>\n",
       "<table border=\"1\" class=\"dataframe\">\n",
       "  <thead>\n",
       "    <tr style=\"text-align: right;\">\n",
       "      <th></th>\n",
       "      <th>Mean</th>\n",
       "      <th>StdDev</th>\n",
       "      <th>Median</th>\n",
       "      <th>IQR</th>\n",
       "    </tr>\n",
       "  </thead>\n",
       "  <tbody>\n",
       "    <tr>\n",
       "      <th>Spring/Summer</th>\n",
       "      <td>1.11</td>\n",
       "      <td>1.10</td>\n",
       "      <td>0.71</td>\n",
       "      <td>1.27</td>\n",
       "    </tr>\n",
       "    <tr>\n",
       "      <th>Fall/Winter</th>\n",
       "      <td>1.90</td>\n",
       "      <td>1.29</td>\n",
       "      <td>1.72</td>\n",
       "      <td>1.82</td>\n",
       "    </tr>\n",
       "  </tbody>\n",
       "</table>\n",
       "</div>"
      ],
      "text/plain": [
       "               Mean  StdDev  Median   IQR\n",
       "Spring/Summer  1.11    1.10    0.71  1.27\n",
       "Fall/Winter    1.90    1.29    1.72  1.82"
      ]
     },
     "execution_count": 20,
     "metadata": {},
     "output_type": "execute_result"
    }
   ],
   "source": [
    "aw_q75, aw_q25, spring_summer_iqr = iqr(spring_summer_avg_wind)\n",
    "aw_q75, aw_q25, fall_winter_iqr = iqr(fall_winter_avg_wind)\n",
    "summary_avg_wind_by_season = pd.DataFrame(\n",
    "    data={\n",
    "          'Mean':   [round(stat.mean(spring_summer_avg_wind), 2), \n",
    "                     round(stat.mean(fall_winter_avg_wind), 2)\n",
    "                    ],\n",
    "          'StdDev': [round(stat.stdev(spring_summer_avg_wind), 2), \n",
    "                     round(stat.stdev(fall_winter_avg_wind), 2)\n",
    "                    ],\n",
    "          'Median': [round(stat.median(spring_summer_avg_wind), 2), \n",
    "                     round(stat.median(fall_winter_avg_wind), 2)\n",
    "                    ],\n",
    "          'IQR':    [round(spring_summer_iqr, 2), \n",
    "                     round(fall_winter_iqr, 2)\n",
    "                    ]\n",
    "         }, \n",
    "         index=['Spring/Summer', 'Fall/Winter']\n",
    ")\n",
    "summary_avg_wind_by_season"
   ]
  },
  {
   "cell_type": "code",
   "execution_count": null,
   "id": "83a30207",
   "metadata": {},
   "outputs": [],
   "source": []
  }
 ],
 "metadata": {
  "kernelspec": {
   "display_name": "Python 3 (ipykernel)",
   "language": "python",
   "name": "python3"
  },
  "language_info": {
   "codemirror_mode": {
    "name": "ipython",
    "version": 3
   },
   "file_extension": ".py",
   "mimetype": "text/x-python",
   "name": "python",
   "nbconvert_exporter": "python",
   "pygments_lexer": "ipython3",
   "version": "3.11.3"
  }
 },
 "nbformat": 4,
 "nbformat_minor": 5
}
