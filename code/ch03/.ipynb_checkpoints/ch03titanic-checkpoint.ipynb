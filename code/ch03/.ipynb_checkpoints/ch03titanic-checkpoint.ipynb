{
 "cells": [
  {
   "cell_type": "markdown",
   "id": "bf4f69ee",
   "metadata": {},
   "source": [
    "# DATASET: Titanic\n"
   ]
  },
  {
   "cell_type": "code",
   "execution_count": 1,
   "id": "54b2bfcb",
   "metadata": {},
   "outputs": [
    {
     "data": {
      "text/plain": [
       "'C:\\\\Users\\\\sc522\\\\PROJECTS\\\\STAT\\\\IS5\\\\code\\\\ch03'"
      ]
     },
     "execution_count": 1,
     "metadata": {},
     "output_type": "execute_result"
    }
   ],
   "source": [
    "%pwd  # magic command"
   ]
  },
  {
   "cell_type": "code",
   "execution_count": 2,
   "id": "c890bbbc",
   "metadata": {},
   "outputs": [
    {
     "name": "stdout",
     "output_type": "stream",
     "text": [
      "1.5.3\n"
     ]
    }
   ],
   "source": [
    "import pandas as pd\n",
    "print(pd.__version__)"
   ]
  },
  {
   "cell_type": "code",
   "execution_count": 3,
   "id": "d311de60",
   "metadata": {},
   "outputs": [],
   "source": [
    "file_name = \"../../dataset/ch02/titanic.txt\"\n",
    "titanic = pd.read_csv(file_name, sep='\\t')"
   ]
  },
  {
   "cell_type": "code",
   "execution_count": 4,
   "id": "6ae2c553",
   "metadata": {},
   "outputs": [
    {
     "data": {
      "text/html": [
       "<div>\n",
       "<style scoped>\n",
       "    .dataframe tbody tr th:only-of-type {\n",
       "        vertical-align: middle;\n",
       "    }\n",
       "\n",
       "    .dataframe tbody tr th {\n",
       "        vertical-align: top;\n",
       "    }\n",
       "\n",
       "    .dataframe thead th {\n",
       "        text-align: right;\n",
       "    }\n",
       "</style>\n",
       "<table border=\"1\" class=\"dataframe\">\n",
       "  <thead>\n",
       "    <tr style=\"text-align: right;\">\n",
       "      <th></th>\n",
       "      <th>Name</th>\n",
       "      <th>Survived</th>\n",
       "      <th>Boarded</th>\n",
       "      <th>Class</th>\n",
       "      <th>MWC</th>\n",
       "      <th>Age</th>\n",
       "      <th>Adut_or_Chld</th>\n",
       "      <th>Sex</th>\n",
       "      <th>Paid</th>\n",
       "      <th>Ticket_No</th>\n",
       "      <th>Boat_or_Body</th>\n",
       "      <th>Job</th>\n",
       "      <th>Class_Dept</th>\n",
       "      <th>Class_Full</th>\n",
       "    </tr>\n",
       "  </thead>\n",
       "  <tbody>\n",
       "    <tr>\n",
       "      <th>0</th>\n",
       "      <td>ABBING, Mr Anthony</td>\n",
       "      <td>Dead</td>\n",
       "      <td>Southampton</td>\n",
       "      <td>3</td>\n",
       "      <td>Man</td>\n",
       "      <td>42.0</td>\n",
       "      <td>Adult</td>\n",
       "      <td>Male</td>\n",
       "      <td>7.55</td>\n",
       "      <td>5547</td>\n",
       "      <td>NaN</td>\n",
       "      <td>Blacksmith</td>\n",
       "      <td>3rd Class Passenger</td>\n",
       "      <td>3</td>\n",
       "    </tr>\n",
       "    <tr>\n",
       "      <th>1</th>\n",
       "      <td>ABBOTT, Mr Ernest Owen</td>\n",
       "      <td>Dead</td>\n",
       "      <td>Southampton</td>\n",
       "      <td>Crew</td>\n",
       "      <td>Man</td>\n",
       "      <td>21.0</td>\n",
       "      <td>Adult</td>\n",
       "      <td>Male</td>\n",
       "      <td>NaN</td>\n",
       "      <td>NaN</td>\n",
       "      <td>NaN</td>\n",
       "      <td>Lounge Pantry Steward</td>\n",
       "      <td>Victualling Crew</td>\n",
       "      <td>V</td>\n",
       "    </tr>\n",
       "    <tr>\n",
       "      <th>2</th>\n",
       "      <td>ABBOTT, Mr Eugene Joseph</td>\n",
       "      <td>Dead</td>\n",
       "      <td>Southampton</td>\n",
       "      <td>3</td>\n",
       "      <td>Child</td>\n",
       "      <td>14.0</td>\n",
       "      <td>Child</td>\n",
       "      <td>Male</td>\n",
       "      <td>20.25</td>\n",
       "      <td>CA2673</td>\n",
       "      <td>NaN</td>\n",
       "      <td>Scholar</td>\n",
       "      <td>3rd Class Passenger</td>\n",
       "      <td>3</td>\n",
       "    </tr>\n",
       "    <tr>\n",
       "      <th>3</th>\n",
       "      <td>ABBOTT, Mr Rossmore Edward</td>\n",
       "      <td>Dead</td>\n",
       "      <td>Southampton</td>\n",
       "      <td>3</td>\n",
       "      <td>Man</td>\n",
       "      <td>16.0</td>\n",
       "      <td>Adult</td>\n",
       "      <td>Male</td>\n",
       "      <td>20.25</td>\n",
       "      <td>CA2673</td>\n",
       "      <td>[190]</td>\n",
       "      <td>Jeweller</td>\n",
       "      <td>3rd Class Passenger</td>\n",
       "      <td>3</td>\n",
       "    </tr>\n",
       "    <tr>\n",
       "      <th>4</th>\n",
       "      <td>ABBOTT, Mrs Rhoda Mary 'Rosa'</td>\n",
       "      <td>Alive</td>\n",
       "      <td>Southampton</td>\n",
       "      <td>3</td>\n",
       "      <td>Woman</td>\n",
       "      <td>39.0</td>\n",
       "      <td>Adult</td>\n",
       "      <td>Female</td>\n",
       "      <td>20.25</td>\n",
       "      <td>CA2673</td>\n",
       "      <td>A</td>\n",
       "      <td>NaN</td>\n",
       "      <td>3rd Class Passenger</td>\n",
       "      <td>3</td>\n",
       "    </tr>\n",
       "  </tbody>\n",
       "</table>\n",
       "</div>"
      ],
      "text/plain": [
       "                            Name Survived      Boarded Class    MWC   Age  \\\n",
       "0             ABBING, Mr Anthony     Dead  Southampton     3    Man  42.0   \n",
       "1         ABBOTT, Mr Ernest Owen     Dead  Southampton  Crew    Man  21.0   \n",
       "2       ABBOTT, Mr Eugene Joseph     Dead  Southampton     3  Child  14.0   \n",
       "3     ABBOTT, Mr Rossmore Edward     Dead  Southampton     3    Man  16.0   \n",
       "4  ABBOTT, Mrs Rhoda Mary 'Rosa'    Alive  Southampton     3  Woman  39.0   \n",
       "\n",
       "  Adut_or_Chld     Sex   Paid Ticket_No Boat_or_Body                    Job  \\\n",
       "0        Adult    Male   7.55      5547          NaN             Blacksmith   \n",
       "1        Adult    Male    NaN       NaN          NaN  Lounge Pantry Steward   \n",
       "2        Child    Male  20.25    CA2673          NaN                Scholar   \n",
       "3        Adult    Male  20.25    CA2673        [190]               Jeweller   \n",
       "4        Adult  Female  20.25    CA2673            A                    NaN   \n",
       "\n",
       "            Class_Dept Class_Full  \n",
       "0  3rd Class Passenger          3  \n",
       "1     Victualling Crew          V  \n",
       "2  3rd Class Passenger          3  \n",
       "3  3rd Class Passenger          3  \n",
       "4  3rd Class Passenger          3  "
      ]
     },
     "execution_count": 4,
     "metadata": {},
     "output_type": "execute_result"
    }
   ],
   "source": [
    "titanic.head()  # a few rows on the top, including header"
   ]
  },
  {
   "cell_type": "code",
   "execution_count": 5,
   "id": "08020d41",
   "metadata": {},
   "outputs": [
    {
     "data": {
      "text/html": [
       "<div>\n",
       "<style scoped>\n",
       "    .dataframe tbody tr th:only-of-type {\n",
       "        vertical-align: middle;\n",
       "    }\n",
       "\n",
       "    .dataframe tbody tr th {\n",
       "        vertical-align: top;\n",
       "    }\n",
       "\n",
       "    .dataframe thead th {\n",
       "        text-align: right;\n",
       "    }\n",
       "</style>\n",
       "<table border=\"1\" class=\"dataframe\">\n",
       "  <thead>\n",
       "    <tr style=\"text-align: right;\">\n",
       "      <th>Survived</th>\n",
       "      <th>Alive</th>\n",
       "      <th>Dead</th>\n",
       "    </tr>\n",
       "    <tr>\n",
       "      <th>Class</th>\n",
       "      <th></th>\n",
       "      <th></th>\n",
       "    </tr>\n",
       "  </thead>\n",
       "  <tbody>\n",
       "    <tr>\n",
       "      <th>1</th>\n",
       "      <td>201</td>\n",
       "      <td>123</td>\n",
       "    </tr>\n",
       "    <tr>\n",
       "      <th>2</th>\n",
       "      <td>119</td>\n",
       "      <td>166</td>\n",
       "    </tr>\n",
       "    <tr>\n",
       "      <th>3</th>\n",
       "      <td>180</td>\n",
       "      <td>530</td>\n",
       "    </tr>\n",
       "    <tr>\n",
       "      <th>Crew</th>\n",
       "      <td>212</td>\n",
       "      <td>677</td>\n",
       "    </tr>\n",
       "  </tbody>\n",
       "</table>\n",
       "</div>"
      ],
      "text/plain": [
       "Survived  Alive  Dead\n",
       "Class                \n",
       "1           201   123\n",
       "2           119   166\n",
       "3           180   530\n",
       "Crew        212   677"
      ]
     },
     "execution_count": 5,
     "metadata": {},
     "output_type": "execute_result"
    }
   ],
   "source": [
    "pd.crosstab(index=titanic.Class, columns=titanic.Survived)"
   ]
  },
  {
   "cell_type": "code",
   "execution_count": 6,
   "id": "e52109b3",
   "metadata": {},
   "outputs": [
    {
     "data": {
      "text/html": [
       "<div>\n",
       "<style scoped>\n",
       "    .dataframe tbody tr th:only-of-type {\n",
       "        vertical-align: middle;\n",
       "    }\n",
       "\n",
       "    .dataframe tbody tr th {\n",
       "        vertical-align: top;\n",
       "    }\n",
       "\n",
       "    .dataframe thead th {\n",
       "        text-align: right;\n",
       "    }\n",
       "</style>\n",
       "<table border=\"1\" class=\"dataframe\">\n",
       "  <thead>\n",
       "    <tr style=\"text-align: right;\">\n",
       "      <th>Survived</th>\n",
       "      <th>Alive</th>\n",
       "      <th>Dead</th>\n",
       "      <th>All</th>\n",
       "    </tr>\n",
       "    <tr>\n",
       "      <th>Class</th>\n",
       "      <th></th>\n",
       "      <th></th>\n",
       "      <th></th>\n",
       "    </tr>\n",
       "  </thead>\n",
       "  <tbody>\n",
       "    <tr>\n",
       "      <th>1</th>\n",
       "      <td>28.2%</td>\n",
       "      <td>8.2%</td>\n",
       "      <td>14.7%</td>\n",
       "    </tr>\n",
       "    <tr>\n",
       "      <th>2</th>\n",
       "      <td>16.7%</td>\n",
       "      <td>11.1%</td>\n",
       "      <td>12.9%</td>\n",
       "    </tr>\n",
       "    <tr>\n",
       "      <th>3</th>\n",
       "      <td>25.3%</td>\n",
       "      <td>35.4%</td>\n",
       "      <td>32.2%</td>\n",
       "    </tr>\n",
       "    <tr>\n",
       "      <th>Crew</th>\n",
       "      <td>29.8%</td>\n",
       "      <td>45.3%</td>\n",
       "      <td>40.3%</td>\n",
       "    </tr>\n",
       "  </tbody>\n",
       "</table>\n",
       "</div>"
      ],
      "text/plain": [
       "Survived  Alive   Dead    All\n",
       "Class                        \n",
       "1         28.2%   8.2%  14.7%\n",
       "2         16.7%  11.1%  12.9%\n",
       "3         25.3%  35.4%  32.2%\n",
       "Crew      29.8%  45.3%  40.3%"
      ]
     },
     "execution_count": 6,
     "metadata": {},
     "output_type": "execute_result"
    }
   ],
   "source": [
    "pd.crosstab(index=titanic.Class, columns=titanic.Survived, \n",
    "            normalize='columns', margins=True).mul(100).round(1).astype(str) + '%'"
   ]
  },
  {
   "cell_type": "code",
   "execution_count": 7,
   "id": "60b81f91",
   "metadata": {},
   "outputs": [
    {
     "data": {
      "text/html": [
       "<div>\n",
       "<style scoped>\n",
       "    .dataframe tbody tr th:only-of-type {\n",
       "        vertical-align: middle;\n",
       "    }\n",
       "\n",
       "    .dataframe tbody tr th {\n",
       "        vertical-align: top;\n",
       "    }\n",
       "\n",
       "    .dataframe thead th {\n",
       "        text-align: right;\n",
       "    }\n",
       "</style>\n",
       "<table border=\"1\" class=\"dataframe\">\n",
       "  <thead>\n",
       "    <tr style=\"text-align: right;\">\n",
       "      <th>Survived</th>\n",
       "      <th>Alive</th>\n",
       "      <th>Dead</th>\n",
       "    </tr>\n",
       "    <tr>\n",
       "      <th>Class</th>\n",
       "      <th></th>\n",
       "      <th></th>\n",
       "    </tr>\n",
       "  </thead>\n",
       "  <tbody>\n",
       "    <tr>\n",
       "      <th>1</th>\n",
       "      <td>62.0%</td>\n",
       "      <td>38.0%</td>\n",
       "    </tr>\n",
       "    <tr>\n",
       "      <th>2</th>\n",
       "      <td>41.8%</td>\n",
       "      <td>58.2%</td>\n",
       "    </tr>\n",
       "    <tr>\n",
       "      <th>3</th>\n",
       "      <td>25.4%</td>\n",
       "      <td>74.6%</td>\n",
       "    </tr>\n",
       "    <tr>\n",
       "      <th>Crew</th>\n",
       "      <td>23.8%</td>\n",
       "      <td>76.2%</td>\n",
       "    </tr>\n",
       "    <tr>\n",
       "      <th>All</th>\n",
       "      <td>32.2%</td>\n",
       "      <td>67.8%</td>\n",
       "    </tr>\n",
       "  </tbody>\n",
       "</table>\n",
       "</div>"
      ],
      "text/plain": [
       "Survived  Alive   Dead\n",
       "Class                 \n",
       "1         62.0%  38.0%\n",
       "2         41.8%  58.2%\n",
       "3         25.4%  74.6%\n",
       "Crew      23.8%  76.2%\n",
       "All       32.2%  67.8%"
      ]
     },
     "execution_count": 7,
     "metadata": {},
     "output_type": "execute_result"
    }
   ],
   "source": [
    "pd.crosstab(index=titanic.Class, columns=titanic.Survived, \n",
    "            normalize='index', margins=True).mul(100).round(1).astype(str) + '%'"
   ]
  },
  {
   "cell_type": "code",
   "execution_count": 8,
   "id": "51f3ed8c",
   "metadata": {},
   "outputs": [
    {
     "data": {
      "text/html": [
       "<div>\n",
       "<style scoped>\n",
       "    .dataframe tbody tr th:only-of-type {\n",
       "        vertical-align: middle;\n",
       "    }\n",
       "\n",
       "    .dataframe tbody tr th {\n",
       "        vertical-align: top;\n",
       "    }\n",
       "\n",
       "    .dataframe thead th {\n",
       "        text-align: right;\n",
       "    }\n",
       "</style>\n",
       "<table border=\"1\" class=\"dataframe\">\n",
       "  <thead>\n",
       "    <tr style=\"text-align: right;\">\n",
       "      <th>Survived</th>\n",
       "      <th>Alive</th>\n",
       "      <th>Dead</th>\n",
       "      <th>All</th>\n",
       "    </tr>\n",
       "    <tr>\n",
       "      <th>Class</th>\n",
       "      <th></th>\n",
       "      <th></th>\n",
       "      <th></th>\n",
       "    </tr>\n",
       "  </thead>\n",
       "  <tbody>\n",
       "    <tr>\n",
       "      <th>1</th>\n",
       "      <td>9.1%</td>\n",
       "      <td>5.6%</td>\n",
       "      <td>14.7%</td>\n",
       "    </tr>\n",
       "    <tr>\n",
       "      <th>2</th>\n",
       "      <td>5.4%</td>\n",
       "      <td>7.5%</td>\n",
       "      <td>12.9%</td>\n",
       "    </tr>\n",
       "    <tr>\n",
       "      <th>3</th>\n",
       "      <td>8.2%</td>\n",
       "      <td>24.0%</td>\n",
       "      <td>32.2%</td>\n",
       "    </tr>\n",
       "    <tr>\n",
       "      <th>Crew</th>\n",
       "      <td>9.6%</td>\n",
       "      <td>30.7%</td>\n",
       "      <td>40.3%</td>\n",
       "    </tr>\n",
       "    <tr>\n",
       "      <th>All</th>\n",
       "      <td>32.2%</td>\n",
       "      <td>67.8%</td>\n",
       "      <td>100.0%</td>\n",
       "    </tr>\n",
       "  </tbody>\n",
       "</table>\n",
       "</div>"
      ],
      "text/plain": [
       "Survived  Alive   Dead     All\n",
       "Class                         \n",
       "1          9.1%   5.6%   14.7%\n",
       "2          5.4%   7.5%   12.9%\n",
       "3          8.2%  24.0%   32.2%\n",
       "Crew       9.6%  30.7%   40.3%\n",
       "All       32.2%  67.8%  100.0%"
      ]
     },
     "execution_count": 8,
     "metadata": {},
     "output_type": "execute_result"
    }
   ],
   "source": [
    "pd.crosstab(index=titanic.Class, columns=titanic.Survived, \n",
    "            normalize='all', margins=True).mul(100).round(1).astype(str) + '%'"
   ]
  },
  {
   "cell_type": "code",
   "execution_count": 10,
   "id": "5fc0d746",
   "metadata": {},
   "outputs": [
    {
     "data": {
      "text/html": [
       "<div>\n",
       "<style scoped>\n",
       "    .dataframe tbody tr th:only-of-type {\n",
       "        vertical-align: middle;\n",
       "    }\n",
       "\n",
       "    .dataframe tbody tr th {\n",
       "        vertical-align: top;\n",
       "    }\n",
       "\n",
       "    .dataframe thead th {\n",
       "        text-align: right;\n",
       "    }\n",
       "</style>\n",
       "<table border=\"1\" class=\"dataframe\">\n",
       "  <thead>\n",
       "    <tr style=\"text-align: right;\">\n",
       "      <th>Class</th>\n",
       "      <th>1</th>\n",
       "      <th>2</th>\n",
       "      <th>3</th>\n",
       "      <th>Crew</th>\n",
       "      <th>All</th>\n",
       "    </tr>\n",
       "    <tr>\n",
       "      <th>Survived</th>\n",
       "      <th></th>\n",
       "      <th></th>\n",
       "      <th></th>\n",
       "      <th></th>\n",
       "      <th></th>\n",
       "    </tr>\n",
       "  </thead>\n",
       "  <tbody>\n",
       "    <tr>\n",
       "      <th>Alive</th>\n",
       "      <td>9.1%</td>\n",
       "      <td>5.4%</td>\n",
       "      <td>8.2%</td>\n",
       "      <td>9.6%</td>\n",
       "      <td>32.2%</td>\n",
       "    </tr>\n",
       "    <tr>\n",
       "      <th>Dead</th>\n",
       "      <td>5.6%</td>\n",
       "      <td>7.5%</td>\n",
       "      <td>24.0%</td>\n",
       "      <td>30.7%</td>\n",
       "      <td>67.8%</td>\n",
       "    </tr>\n",
       "    <tr>\n",
       "      <th>All</th>\n",
       "      <td>14.7%</td>\n",
       "      <td>12.9%</td>\n",
       "      <td>32.2%</td>\n",
       "      <td>40.3%</td>\n",
       "      <td>100.0%</td>\n",
       "    </tr>\n",
       "  </tbody>\n",
       "</table>\n",
       "</div>"
      ],
      "text/plain": [
       "Class         1      2      3   Crew     All\n",
       "Survived                                    \n",
       "Alive      9.1%   5.4%   8.2%   9.6%   32.2%\n",
       "Dead       5.6%   7.5%  24.0%  30.7%   67.8%\n",
       "All       14.7%  12.9%  32.2%  40.3%  100.0%"
      ]
     },
     "execution_count": 10,
     "metadata": {},
     "output_type": "execute_result"
    }
   ],
   "source": [
    "pd.crosstab(index=titanic.Survived, columns=titanic.Class, \n",
    "            normalize='all', margins=True).mul(100).round(1).astype(str) + '%'"
   ]
  },
  {
   "cell_type": "code",
   "execution_count": 15,
   "id": "61506b11",
   "metadata": {},
   "outputs": [
    {
     "data": {
      "image/png": "[encoded data removed]",
      "text/plain": [
       "<Figure size 640x480 with 1 Axes>"
      ]
     },
     "metadata": {},
     "output_type": "display_data"
    }
   ],
   "source": [
    "pd.crosstab(index=titanic.Class, columns=titanic.Survived, \n",
    "            normalize='index').mul(100).plot(kind='bar');"
   ]
  },
  {
   "cell_type": "code",
   "execution_count": 29,
   "id": "637a467d",
   "metadata": {},
   "outputs": [
    {
     "data": {
      "image/png": "[encoded data removed]",
      "text/plain": [
       "<Figure size 500x400 with 1 Axes>"
      ]
     },
     "metadata": {},
     "output_type": "display_data"
    }
   ],
   "source": [
    "pd.crosstab(index=titanic.Class, columns=titanic.Survived, normalize='columns'\n",
    "           ).sort_index(ascending=False).T.mul(100).plot(kind='bar', stacked=True,\n",
    "                                                         figsize=(5,4));  # stacked bar plot"
   ]
  }
 ],
 "metadata": {
  "kernelspec": {
   "display_name": "Python 3 (ipykernel)",
   "language": "python",
   "name": "python3"
  },
  "language_info": {
   "codemirror_mode": {
    "name": "ipython",
    "version": 3
   },
   "file_extension": ".py",
   "mimetype": "text/x-python",
   "name": "python",
   "nbconvert_exporter": "python",
   "pygments_lexer": "ipython3",
   "version": "3.11.3"
  }
 },
 "nbformat": 4,
 "nbformat_minor": 5
}
