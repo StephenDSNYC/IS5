{
 "cells": [
  {
   "cell_type": "code",
   "execution_count": 1,
   "id": "030a7733",
   "metadata": {},
   "outputs": [],
   "source": [
    "import numpy as np\n",
    "import matplotlib.pyplot as plt\n",
    "import pandas as pd\n",
    "import statistics as stat"
   ]
  },
  {
   "cell_type": "code",
   "execution_count": 2,
   "id": "081b8cc9",
   "metadata": {},
   "outputs": [],
   "source": [
    "datafile = \"../../dataset/ch03/nightmares.txt\"\n",
    "nightmares = pd.read_csv(datafile, sep='\\t')"
   ]
  },
  {
   "cell_type": "code",
   "execution_count": 3,
   "id": "44036192",
   "metadata": {},
   "outputs": [
    {
     "data": {
      "text/html": [
       "<div>\n",
       "<style scoped>\n",
       "    .dataframe tbody tr th:only-of-type {\n",
       "        vertical-align: middle;\n",
       "    }\n",
       "\n",
       "    .dataframe tbody tr th {\n",
       "        vertical-align: top;\n",
       "    }\n",
       "\n",
       "    .dataframe thead th {\n",
       "        text-align: right;\n",
       "    }\n",
       "</style>\n",
       "<table border=\"1\" class=\"dataframe\">\n",
       "  <thead>\n",
       "    <tr style=\"text-align: right;\">\n",
       "      <th></th>\n",
       "      <th>Side</th>\n",
       "      <th>Dream</th>\n",
       "    </tr>\n",
       "  </thead>\n",
       "  <tbody>\n",
       "    <tr>\n",
       "      <th>0</th>\n",
       "      <td>L</td>\n",
       "      <td>N</td>\n",
       "    </tr>\n",
       "    <tr>\n",
       "      <th>1</th>\n",
       "      <td>L</td>\n",
       "      <td>N</td>\n",
       "    </tr>\n",
       "    <tr>\n",
       "      <th>2</th>\n",
       "      <td>L</td>\n",
       "      <td>N</td>\n",
       "    </tr>\n",
       "    <tr>\n",
       "      <th>3</th>\n",
       "      <td>L</td>\n",
       "      <td>N</td>\n",
       "    </tr>\n",
       "    <tr>\n",
       "      <th>4</th>\n",
       "      <td>L</td>\n",
       "      <td>N</td>\n",
       "    </tr>\n",
       "  </tbody>\n",
       "</table>\n",
       "</div>"
      ],
      "text/plain": [
       "  Side Dream\n",
       "0    L     N\n",
       "1    L     N\n",
       "2    L     N\n",
       "3    L     N\n",
       "4    L     N"
      ]
     },
     "execution_count": 3,
     "metadata": {},
     "output_type": "execute_result"
    }
   ],
   "source": [
    "nightmares.head()  # For Dream, N: \"Nightmares\"; n: \"no nightmares\""
   ]
  },
  {
   "cell_type": "code",
   "execution_count": 4,
   "id": "b99798cc",
   "metadata": {},
   "outputs": [
    {
     "data": {
      "text/html": [
       "<div>\n",
       "<style scoped>\n",
       "    .dataframe tbody tr th:only-of-type {\n",
       "        vertical-align: middle;\n",
       "    }\n",
       "\n",
       "    .dataframe tbody tr th {\n",
       "        vertical-align: top;\n",
       "    }\n",
       "\n",
       "    .dataframe thead th {\n",
       "        text-align: right;\n",
       "    }\n",
       "</style>\n",
       "<table border=\"1\" class=\"dataframe\">\n",
       "  <thead>\n",
       "    <tr style=\"text-align: right;\">\n",
       "      <th>Side</th>\n",
       "      <th>L</th>\n",
       "      <th>R</th>\n",
       "      <th>All</th>\n",
       "    </tr>\n",
       "    <tr>\n",
       "      <th>Dream</th>\n",
       "      <th></th>\n",
       "      <th></th>\n",
       "      <th></th>\n",
       "    </tr>\n",
       "  </thead>\n",
       "  <tbody>\n",
       "    <tr>\n",
       "      <th>N</th>\n",
       "      <td>9</td>\n",
       "      <td>6</td>\n",
       "      <td>15</td>\n",
       "    </tr>\n",
       "    <tr>\n",
       "      <th>n</th>\n",
       "      <td>13</td>\n",
       "      <td>35</td>\n",
       "      <td>48</td>\n",
       "    </tr>\n",
       "    <tr>\n",
       "      <th>All</th>\n",
       "      <td>22</td>\n",
       "      <td>41</td>\n",
       "      <td>63</td>\n",
       "    </tr>\n",
       "  </tbody>\n",
       "</table>\n",
       "</div>"
      ],
      "text/plain": [
       "Side    L   R  All\n",
       "Dream             \n",
       "N       9   6   15\n",
       "n      13  35   48\n",
       "All    22  41   63"
      ]
     },
     "execution_count": 4,
     "metadata": {},
     "output_type": "execute_result"
    }
   ],
   "source": [
    "pd.crosstab(index=nightmares.Dream, columns=nightmares.Side, margins=True)"
   ]
  },
  {
   "cell_type": "code",
   "execution_count": 5,
   "id": "8f937aaa",
   "metadata": {},
   "outputs": [
    {
     "data": {
      "text/html": [
       "<div>\n",
       "<style scoped>\n",
       "    .dataframe tbody tr th:only-of-type {\n",
       "        vertical-align: middle;\n",
       "    }\n",
       "\n",
       "    .dataframe tbody tr th {\n",
       "        vertical-align: top;\n",
       "    }\n",
       "\n",
       "    .dataframe thead th {\n",
       "        text-align: right;\n",
       "    }\n",
       "</style>\n",
       "<table border=\"1\" class=\"dataframe\">\n",
       "  <thead>\n",
       "    <tr style=\"text-align: right;\">\n",
       "      <th>Side</th>\n",
       "      <th>left sleeper</th>\n",
       "      <th>right sleeper</th>\n",
       "      <th>All</th>\n",
       "    </tr>\n",
       "    <tr>\n",
       "      <th>Dream</th>\n",
       "      <th></th>\n",
       "      <th></th>\n",
       "      <th></th>\n",
       "    </tr>\n",
       "  </thead>\n",
       "  <tbody>\n",
       "    <tr>\n",
       "      <th>nightmare</th>\n",
       "      <td>9</td>\n",
       "      <td>6</td>\n",
       "      <td>15</td>\n",
       "    </tr>\n",
       "    <tr>\n",
       "      <th>sweet dream</th>\n",
       "      <td>13</td>\n",
       "      <td>35</td>\n",
       "      <td>48</td>\n",
       "    </tr>\n",
       "    <tr>\n",
       "      <th>All</th>\n",
       "      <td>22</td>\n",
       "      <td>41</td>\n",
       "      <td>63</td>\n",
       "    </tr>\n",
       "  </tbody>\n",
       "</table>\n",
       "</div>"
      ],
      "text/plain": [
       "Side         left sleeper  right sleeper  All\n",
       "Dream                                        \n",
       "nightmare               9              6   15\n",
       "sweet dream            13             35   48\n",
       "All                    22             41   63"
      ]
     },
     "execution_count": 5,
     "metadata": {},
     "output_type": "execute_result"
    }
   ],
   "source": [
    "pd.crosstab(index=nightmares.Dream, columns=nightmares.Side, \n",
    "            margins=True).rename(index={'N':'nightmare', 'n':'sweet dream'},\n",
    "                                 columns={'L':'left sleeper', 'R':'right sleeper'})"
   ]
  },
  {
   "cell_type": "code",
   "execution_count": 6,
   "id": "46cc5dab",
   "metadata": {},
   "outputs": [
    {
     "name": "stdout",
     "output_type": "stream",
     "text": [
      "Total Sleepers: 63\n",
      "Left Sleepers: 22\n",
      "Right Sleepers: 41\n"
     ]
    }
   ],
   "source": [
    "left_sleepers = nightmares[nightmares.Side=='L'].Side.count()\n",
    "right_sleepers = nightmares[nightmares.Side=='R'].Side.count()\n",
    "all_sleepers = left_sleepers + right_sleepers\n",
    "print(f\"Total Sleepers: {all_sleepers}\")\n",
    "print(f\"Left Sleepers: {left_sleepers}\")\n",
    "print(f\"Right Sleepers: {right_sleepers}\")"
   ]
  },
  {
   "cell_type": "markdown",
   "id": "d6d10bba",
   "metadata": {},
   "source": [
    "\"*random_left_sleeper*\" function simulates one single random draw of left sleeper with unconditional probability of 22/63.\n",
    "\n",
    "Simulation: draw a random number from 1 to 63 (inclusive), with each number appearing with an equal probability.  Suppose the number drawn is\n",
    "* between 1 and 22 (inclusive): left sleeper\n",
    "* between 23 and 63: right sleeper\n",
    "\n",
    "Return: 1 if left sleeper, 0 otherwise"
   ]
  },
  {
   "cell_type": "code",
   "execution_count": 7,
   "id": "86b504cf",
   "metadata": {},
   "outputs": [],
   "source": [
    "def random_left_sleeper():\n",
    "    if np.random.randint(1, 64) < 23:  # randint returns uniform integer from 1 (inclusive) to 64 (exclusive)\n",
    "        return 1\n",
    "    else:\n",
    "        return 0"
   ]
  },
  {
   "cell_type": "code",
   "execution_count": 10,
   "id": "33ae3990",
   "metadata": {},
   "outputs": [
    {
     "name": "stdout",
     "output_type": "stream",
     "text": [
      "If having a nightmare is independent of sleep side, probability of having 9 or more nightmares is: 3.9800000000000004%\n",
      "With a cut-off significance of 5%, above probability is insignificant\n",
      "This means that it rarely happens to have 9 or more nightmares\n",
      "Therefore, having nightmares is dependent on sleep side\n"
     ]
    },
    {
     "data": {
      "image/png": "[encoded data removed]",
      "text/plain": [
       "<Figure size 640x480 with 1 Axes>"
      ]
     },
     "metadata": {},
     "output_type": "display_data"
    }
   ],
   "source": [
    "# simulation\n",
    "trials = 10_000\n",
    "left_nightmare_samples = np.zeros(trials)  # start with all zeros\n",
    "sample_size = nightmares[nightmares.Dream=='N'].Dream.count()  # we know there are 15 nightmares\n",
    "for i in range(trials):  # repeat the experiment for the number of trials\n",
    "    for _ in range(sample_size):\n",
    "        if random_left_sleeper():\n",
    "            left_nightmare_samples[i] += 1  # add 1 more nightmare count to this sample\n",
    "plt.hist(left_nightmare_samples, bins=range(0,14), edgecolor='k');\n",
    "have_nine_or_more_nightmares = len([s for s in left_nightmare_samples if s >= 9])\n",
    "print(f\"If having a nightmare is independent of sleep side, \"\n",
    "      f\"probability of having 9 or more nightmares is: {have_nine_or_more_nightmares / trials * 100}%\")\n",
    "print(\"With a cut-off significance of 5%, above probability is insignificant\")\n",
    "print(\"This means that it rarely happens to have 9 or more nightmares\")\n",
    "print(\"Therefore, having nightmares is dependent on sleep side\")"
   ]
  },
  {
   "cell_type": "code",
   "execution_count": null,
   "id": "c33b020d",
   "metadata": {},
   "outputs": [],
   "source": []
  },
  {
   "cell_type": "code",
   "execution_count": null,
   "id": "8d2bf554",
   "metadata": {},
   "outputs": [],
   "source": []
  },
  {
   "cell_type": "code",
   "execution_count": null,
   "id": "84266128",
   "metadata": {},
   "outputs": [],
   "source": []
  },
  {
   "cell_type": "code",
   "execution_count": null,
   "id": "3670f490",
   "metadata": {},
   "outputs": [],
   "source": []
  }
 ],
 "metadata": {
  "kernelspec": {
   "display_name": "Python 3 (ipykernel)",
   "language": "python",
   "name": "python3"
  },
  "language_info": {
   "codemirror_mode": {
    "name": "ipython",
    "version": 3
   },
   "file_extension": ".py",
   "mimetype": "text/x-python",
   "name": "python",
   "nbconvert_exporter": "python",
   "pygments_lexer": "ipython3",
   "version": "3.11.3"
  }
 },
 "nbformat": 4,
 "nbformat_minor": 5
}
