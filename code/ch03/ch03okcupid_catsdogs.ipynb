{
 "cells": [
  {
   "cell_type": "code",
   "execution_count": 1,
   "id": "875963fa",
   "metadata": {},
   "outputs": [],
   "source": [
    "import numpy as np\n",
    "import matplotlib.pyplot as plt\n",
    "import pandas as pd\n",
    "import statistics as stat"
   ]
  },
  {
   "cell_type": "code",
   "execution_count": 2,
   "id": "0a7d679c",
   "metadata": {},
   "outputs": [],
   "source": [
    "datafile = \"../../dataset/ch03/okcupid_catsdogs.txt\"\n",
    "okcupid = pd.read_csv(datafile, sep='\\t')"
   ]
  },
  {
   "cell_type": "code",
   "execution_count": 3,
   "id": "2cc080bc",
   "metadata": {},
   "outputs": [
    {
     "data": {
      "text/html": [
       "<div>\n",
       "<style scoped>\n",
       "    .dataframe tbody tr th:only-of-type {\n",
       "        vertical-align: middle;\n",
       "    }\n",
       "\n",
       "    .dataframe tbody tr th {\n",
       "        vertical-align: top;\n",
       "    }\n",
       "\n",
       "    .dataframe thead th {\n",
       "        text-align: right;\n",
       "    }\n",
       "</style>\n",
       "<table border=\"1\" class=\"dataframe\">\n",
       "  <thead>\n",
       "    <tr style=\"text-align: right;\">\n",
       "      <th></th>\n",
       "      <th>CatsDogsBoth</th>\n",
       "      <th>Gender</th>\n",
       "      <th>drugsY/N</th>\n",
       "      <th>smokesY/N</th>\n",
       "    </tr>\n",
       "  </thead>\n",
       "  <tbody>\n",
       "    <tr>\n",
       "      <th>0</th>\n",
       "      <td>NaN</td>\n",
       "      <td>M</td>\n",
       "      <td>No</td>\n",
       "      <td>yes</td>\n",
       "    </tr>\n",
       "    <tr>\n",
       "      <th>1</th>\n",
       "      <td>NaN</td>\n",
       "      <td>M</td>\n",
       "      <td>Yes</td>\n",
       "      <td>no</td>\n",
       "    </tr>\n",
       "    <tr>\n",
       "      <th>2</th>\n",
       "      <td>Has cats</td>\n",
       "      <td>M</td>\n",
       "      <td>NaN</td>\n",
       "      <td>no</td>\n",
       "    </tr>\n",
       "    <tr>\n",
       "      <th>3</th>\n",
       "      <td>NaN</td>\n",
       "      <td>M</td>\n",
       "      <td>NaN</td>\n",
       "      <td>no</td>\n",
       "    </tr>\n",
       "    <tr>\n",
       "      <th>4</th>\n",
       "      <td>NaN</td>\n",
       "      <td>M</td>\n",
       "      <td>No</td>\n",
       "      <td>no</td>\n",
       "    </tr>\n",
       "  </tbody>\n",
       "</table>\n",
       "</div>"
      ],
      "text/plain": [
       "  CatsDogsBoth Gender drugsY/N smokesY/N\n",
       "0          NaN      M       No       yes\n",
       "1          NaN      M      Yes        no\n",
       "2     Has cats      M      NaN        no\n",
       "3          NaN      M      NaN        no\n",
       "4          NaN      M       No        no"
      ]
     },
     "execution_count": 3,
     "metadata": {},
     "output_type": "execute_result"
    }
   ],
   "source": [
    "okcupid.head()"
   ]
  },
  {
   "cell_type": "code",
   "execution_count": 4,
   "id": "b2f960ed",
   "metadata": {},
   "outputs": [
    {
     "data": {
      "text/plain": [
       "14292"
      ]
     },
     "execution_count": 4,
     "metadata": {},
     "output_type": "execute_result"
    }
   ],
   "source": [
    "len(okcupid['CatsDogsBoth'].dropna())"
   ]
  },
  {
   "cell_type": "code",
   "execution_count": 5,
   "id": "88b84917",
   "metadata": {},
   "outputs": [
    {
     "data": {
      "text/html": [
       "<div>\n",
       "<style scoped>\n",
       "    .dataframe tbody tr th:only-of-type {\n",
       "        vertical-align: middle;\n",
       "    }\n",
       "\n",
       "    .dataframe tbody tr th {\n",
       "        vertical-align: top;\n",
       "    }\n",
       "\n",
       "    .dataframe thead th {\n",
       "        text-align: right;\n",
       "    }\n",
       "</style>\n",
       "<table border=\"1\" class=\"dataframe\">\n",
       "  <thead>\n",
       "    <tr style=\"text-align: right;\">\n",
       "      <th>Gender</th>\n",
       "      <th>F</th>\n",
       "      <th>M</th>\n",
       "      <th>All</th>\n",
       "    </tr>\n",
       "    <tr>\n",
       "      <th>CatsDogsBoth</th>\n",
       "      <th></th>\n",
       "      <th></th>\n",
       "      <th></th>\n",
       "    </tr>\n",
       "  </thead>\n",
       "  <tbody>\n",
       "    <tr>\n",
       "      <th>Has Both</th>\n",
       "      <td>897</td>\n",
       "      <td>577</td>\n",
       "      <td>1474</td>\n",
       "    </tr>\n",
       "    <tr>\n",
       "      <th>Has cats</th>\n",
       "      <td>3412</td>\n",
       "      <td>2388</td>\n",
       "      <td>5800</td>\n",
       "    </tr>\n",
       "    <tr>\n",
       "      <th>Has dogs</th>\n",
       "      <td>3431</td>\n",
       "      <td>3587</td>\n",
       "      <td>7018</td>\n",
       "    </tr>\n",
       "    <tr>\n",
       "      <th>All</th>\n",
       "      <td>7740</td>\n",
       "      <td>6552</td>\n",
       "      <td>14292</td>\n",
       "    </tr>\n",
       "  </tbody>\n",
       "</table>\n",
       "</div>"
      ],
      "text/plain": [
       "Gender           F     M    All\n",
       "CatsDogsBoth                   \n",
       "Has Both       897   577   1474\n",
       "Has cats      3412  2388   5800\n",
       "Has dogs      3431  3587   7018\n",
       "All           7740  6552  14292"
      ]
     },
     "execution_count": 5,
     "metadata": {},
     "output_type": "execute_result"
    }
   ],
   "source": [
    "pd.crosstab(index=okcupid.CatsDogsBoth, columns=okcupid.Gender, margins=True)  # absolute (count)"
   ]
  },
  {
   "cell_type": "code",
   "execution_count": 6,
   "id": "f1a1aa92",
   "metadata": {},
   "outputs": [
    {
     "data": {
      "text/html": [
       "<div>\n",
       "<style scoped>\n",
       "    .dataframe tbody tr th:only-of-type {\n",
       "        vertical-align: middle;\n",
       "    }\n",
       "\n",
       "    .dataframe tbody tr th {\n",
       "        vertical-align: top;\n",
       "    }\n",
       "\n",
       "    .dataframe thead th {\n",
       "        text-align: right;\n",
       "    }\n",
       "</style>\n",
       "<table border=\"1\" class=\"dataframe\">\n",
       "  <thead>\n",
       "    <tr style=\"text-align: right;\">\n",
       "      <th>Gender</th>\n",
       "      <th>F</th>\n",
       "      <th>M</th>\n",
       "      <th>All</th>\n",
       "    </tr>\n",
       "    <tr>\n",
       "      <th>CatsDogsBoth</th>\n",
       "      <th></th>\n",
       "      <th></th>\n",
       "      <th></th>\n",
       "    </tr>\n",
       "  </thead>\n",
       "  <tbody>\n",
       "    <tr>\n",
       "      <th>Has Both</th>\n",
       "      <td>11.6%</td>\n",
       "      <td>8.8%</td>\n",
       "      <td>10.3%</td>\n",
       "    </tr>\n",
       "    <tr>\n",
       "      <th>Has cats</th>\n",
       "      <td>44.1%</td>\n",
       "      <td>36.4%</td>\n",
       "      <td>40.6%</td>\n",
       "    </tr>\n",
       "    <tr>\n",
       "      <th>Has dogs</th>\n",
       "      <td>44.3%</td>\n",
       "      <td>54.7%</td>\n",
       "      <td>49.1%</td>\n",
       "    </tr>\n",
       "  </tbody>\n",
       "</table>\n",
       "</div>"
      ],
      "text/plain": [
       "Gender            F      M    All\n",
       "CatsDogsBoth                     \n",
       "Has Both      11.6%   8.8%  10.3%\n",
       "Has cats      44.1%  36.4%  40.6%\n",
       "Has dogs      44.3%  54.7%  49.1%"
      ]
     },
     "execution_count": 6,
     "metadata": {},
     "output_type": "execute_result"
    }
   ],
   "source": [
    "pd.crosstab(index=okcupid.CatsDogsBoth, \n",
    "            columns=okcupid.Gender, \n",
    "            margins=True, \n",
    "            normalize='columns'\n",
    "           ).mul(100).round(1).astype(str) + '%'"
   ]
  },
  {
   "cell_type": "code",
   "execution_count": 7,
   "id": "04bee283",
   "metadata": {},
   "outputs": [
    {
     "data": {
      "text/html": [
       "<div>\n",
       "<style scoped>\n",
       "    .dataframe tbody tr th:only-of-type {\n",
       "        vertical-align: middle;\n",
       "    }\n",
       "\n",
       "    .dataframe tbody tr th {\n",
       "        vertical-align: top;\n",
       "    }\n",
       "\n",
       "    .dataframe thead th {\n",
       "        text-align: right;\n",
       "    }\n",
       "</style>\n",
       "<table border=\"1\" class=\"dataframe\">\n",
       "  <thead>\n",
       "    <tr style=\"text-align: right;\">\n",
       "      <th>Gender</th>\n",
       "      <th>F</th>\n",
       "      <th>M</th>\n",
       "    </tr>\n",
       "    <tr>\n",
       "      <th>CatsDogsBoth</th>\n",
       "      <th></th>\n",
       "      <th></th>\n",
       "    </tr>\n",
       "  </thead>\n",
       "  <tbody>\n",
       "    <tr>\n",
       "      <th>Has Both</th>\n",
       "      <td>60.9%</td>\n",
       "      <td>39.1%</td>\n",
       "    </tr>\n",
       "    <tr>\n",
       "      <th>Has cats</th>\n",
       "      <td>58.8%</td>\n",
       "      <td>41.2%</td>\n",
       "    </tr>\n",
       "    <tr>\n",
       "      <th>Has dogs</th>\n",
       "      <td>48.9%</td>\n",
       "      <td>51.1%</td>\n",
       "    </tr>\n",
       "    <tr>\n",
       "      <th>All</th>\n",
       "      <td>54.2%</td>\n",
       "      <td>45.8%</td>\n",
       "    </tr>\n",
       "  </tbody>\n",
       "</table>\n",
       "</div>"
      ],
      "text/plain": [
       "Gender            F      M\n",
       "CatsDogsBoth              \n",
       "Has Both      60.9%  39.1%\n",
       "Has cats      58.8%  41.2%\n",
       "Has dogs      48.9%  51.1%\n",
       "All           54.2%  45.8%"
      ]
     },
     "execution_count": 7,
     "metadata": {},
     "output_type": "execute_result"
    }
   ],
   "source": [
    "pd.crosstab(index=okcupid.CatsDogsBoth, columns=okcupid.Gender, \n",
    "            margins=True, normalize='index').mul(100).round(1).astype(str) + '%'"
   ]
  },
  {
   "cell_type": "code",
   "execution_count": 8,
   "id": "740f1bba",
   "metadata": {},
   "outputs": [
    {
     "data": {
      "text/html": [
       "<div>\n",
       "<style scoped>\n",
       "    .dataframe tbody tr th:only-of-type {\n",
       "        vertical-align: middle;\n",
       "    }\n",
       "\n",
       "    .dataframe tbody tr th {\n",
       "        vertical-align: top;\n",
       "    }\n",
       "\n",
       "    .dataframe thead th {\n",
       "        text-align: right;\n",
       "    }\n",
       "</style>\n",
       "<table border=\"1\" class=\"dataframe\">\n",
       "  <thead>\n",
       "    <tr style=\"text-align: right;\">\n",
       "      <th>Gender</th>\n",
       "      <th>F</th>\n",
       "      <th>M</th>\n",
       "      <th>All</th>\n",
       "    </tr>\n",
       "    <tr>\n",
       "      <th>CatsDogsBoth</th>\n",
       "      <th></th>\n",
       "      <th></th>\n",
       "      <th></th>\n",
       "    </tr>\n",
       "  </thead>\n",
       "  <tbody>\n",
       "    <tr>\n",
       "      <th>Has Both</th>\n",
       "      <td>6.3%</td>\n",
       "      <td>4.0%</td>\n",
       "      <td>10.3%</td>\n",
       "    </tr>\n",
       "    <tr>\n",
       "      <th>Has cats</th>\n",
       "      <td>23.9%</td>\n",
       "      <td>16.7%</td>\n",
       "      <td>40.6%</td>\n",
       "    </tr>\n",
       "    <tr>\n",
       "      <th>Has dogs</th>\n",
       "      <td>24.0%</td>\n",
       "      <td>25.1%</td>\n",
       "      <td>49.1%</td>\n",
       "    </tr>\n",
       "    <tr>\n",
       "      <th>All</th>\n",
       "      <td>54.2%</td>\n",
       "      <td>45.8%</td>\n",
       "      <td>100.0%</td>\n",
       "    </tr>\n",
       "  </tbody>\n",
       "</table>\n",
       "</div>"
      ],
      "text/plain": [
       "Gender            F      M     All\n",
       "CatsDogsBoth                      \n",
       "Has Both       6.3%   4.0%   10.3%\n",
       "Has cats      23.9%  16.7%   40.6%\n",
       "Has dogs      24.0%  25.1%   49.1%\n",
       "All           54.2%  45.8%  100.0%"
      ]
     },
     "execution_count": 8,
     "metadata": {},
     "output_type": "execute_result"
    }
   ],
   "source": [
    "pd.crosstab(index=okcupid.CatsDogsBoth, columns=okcupid.Gender, \n",
    "            margins=True, normalize='all').mul(100).round(1).astype(str) + '%'"
   ]
  },
  {
   "cell_type": "code",
   "execution_count": 9,
   "id": "20c12d9d",
   "metadata": {},
   "outputs": [
    {
     "data": {
      "image/png": "[encoded data removed]",
      "text/plain": [
       "<Figure size 640x480 with 2 Axes>"
      ]
     },
     "metadata": {},
     "output_type": "display_data"
    }
   ],
   "source": [
    "pd.crosstab(index=okcupid.CatsDogsBoth, \n",
    "            columns=okcupid.Gender).plot(kind='pie', subplots=True, \n",
    "                                         legend=False);"
   ]
  },
  {
   "cell_type": "code",
   "execution_count": 10,
   "id": "48a04c08",
   "metadata": {},
   "outputs": [
    {
     "data": {
      "text/html": [
       "<div>\n",
       "<style scoped>\n",
       "    .dataframe tbody tr th:only-of-type {\n",
       "        vertical-align: middle;\n",
       "    }\n",
       "\n",
       "    .dataframe tbody tr th {\n",
       "        vertical-align: top;\n",
       "    }\n",
       "\n",
       "    .dataframe thead th {\n",
       "        text-align: right;\n",
       "    }\n",
       "</style>\n",
       "<table border=\"1\" class=\"dataframe\">\n",
       "  <thead>\n",
       "    <tr style=\"text-align: right;\">\n",
       "      <th>Gender</th>\n",
       "      <th>F</th>\n",
       "      <th>M</th>\n",
       "    </tr>\n",
       "    <tr>\n",
       "      <th>CatsDogsBoth</th>\n",
       "      <th></th>\n",
       "      <th></th>\n",
       "    </tr>\n",
       "  </thead>\n",
       "  <tbody>\n",
       "    <tr>\n",
       "      <th>Has Both</th>\n",
       "      <td>897</td>\n",
       "      <td>577</td>\n",
       "    </tr>\n",
       "    <tr>\n",
       "      <th>Has cats</th>\n",
       "      <td>3412</td>\n",
       "      <td>2388</td>\n",
       "    </tr>\n",
       "    <tr>\n",
       "      <th>Has dogs</th>\n",
       "      <td>3431</td>\n",
       "      <td>3587</td>\n",
       "    </tr>\n",
       "  </tbody>\n",
       "</table>\n",
       "</div>"
      ],
      "text/plain": [
       "Gender           F     M\n",
       "CatsDogsBoth            \n",
       "Has Both       897   577\n",
       "Has cats      3412  2388\n",
       "Has dogs      3431  3587"
      ]
     },
     "execution_count": 10,
     "metadata": {},
     "output_type": "execute_result"
    }
   ],
   "source": [
    "pd.crosstab(index=okcupid.CatsDogsBoth, columns=okcupid.Gender)  # for reference only, 2 colunms and 3 rows"
   ]
  },
  {
   "cell_type": "code",
   "execution_count": 11,
   "id": "7432fb9c",
   "metadata": {},
   "outputs": [
    {
     "data": {
      "image/png": "[encoded data removed]",
      "text/plain": [
       "<Figure size 640x480 with 1 Axes>"
      ]
     },
     "metadata": {},
     "output_type": "display_data"
    }
   ],
   "source": [
    "pd.crosstab(index=okcupid.CatsDogsBoth, \n",
    "            columns=okcupid.Gender).plot(kind='bar', legend=False);"
   ]
  },
  {
   "cell_type": "code",
   "execution_count": 12,
   "id": "ff6140b6",
   "metadata": {},
   "outputs": [
    {
     "data": {
      "text/html": [
       "<div>\n",
       "<style scoped>\n",
       "    .dataframe tbody tr th:only-of-type {\n",
       "        vertical-align: middle;\n",
       "    }\n",
       "\n",
       "    .dataframe tbody tr th {\n",
       "        vertical-align: top;\n",
       "    }\n",
       "\n",
       "    .dataframe thead th {\n",
       "        text-align: right;\n",
       "    }\n",
       "</style>\n",
       "<table border=\"1\" class=\"dataframe\">\n",
       "  <thead>\n",
       "    <tr style=\"text-align: right;\">\n",
       "      <th>CatsDogsBoth</th>\n",
       "      <th>Has Both</th>\n",
       "      <th>Has cats</th>\n",
       "      <th>Has dogs</th>\n",
       "    </tr>\n",
       "    <tr>\n",
       "      <th>Gender</th>\n",
       "      <th></th>\n",
       "      <th></th>\n",
       "      <th></th>\n",
       "    </tr>\n",
       "  </thead>\n",
       "  <tbody>\n",
       "    <tr>\n",
       "      <th>F</th>\n",
       "      <td>897</td>\n",
       "      <td>3412</td>\n",
       "      <td>3431</td>\n",
       "    </tr>\n",
       "    <tr>\n",
       "      <th>M</th>\n",
       "      <td>577</td>\n",
       "      <td>2388</td>\n",
       "      <td>3587</td>\n",
       "    </tr>\n",
       "  </tbody>\n",
       "</table>\n",
       "</div>"
      ],
      "text/plain": [
       "CatsDogsBoth  Has Both  Has cats  Has dogs\n",
       "Gender                                    \n",
       "F                  897      3412      3431\n",
       "M                  577      2388      3587"
      ]
     },
     "execution_count": 12,
     "metadata": {},
     "output_type": "execute_result"
    }
   ],
   "source": [
    "pd.crosstab(index=okcupid.Gender, columns=okcupid.CatsDogsBoth)  # for reference only, 3 colunms and 2 rows"
   ]
  },
  {
   "cell_type": "code",
   "execution_count": 13,
   "id": "9a9b2b12",
   "metadata": {},
   "outputs": [
    {
     "data": {
      "image/png": "[encoded data removed]",
      "text/plain": [
       "<Figure size 640x480 with 1 Axes>"
      ]
     },
     "metadata": {},
     "output_type": "display_data"
    }
   ],
   "source": [
    "pd.crosstab(index=okcupid.Gender, \n",
    "            columns=okcupid.CatsDogsBoth).plot(kind='bar', legend=False);"
   ]
  },
  {
   "cell_type": "code",
   "execution_count": 14,
   "id": "c5a8dcd7",
   "metadata": {},
   "outputs": [
    {
     "data": {
      "image/png": "[encoded data removed]",
      "text/plain": [
       "<Figure size 640x480 with 1 Axes>"
      ]
     },
     "metadata": {},
     "output_type": "display_data"
    }
   ],
   "source": [
    "pd.crosstab(index=okcupid.CatsDogsBoth, \n",
    "            columns=okcupid.Gender\n",
    "           ).T.plot(kind='bar', legend=False);"
   ]
  },
  {
   "cell_type": "code",
   "execution_count": 15,
   "id": "1564fda8",
   "metadata": {},
   "outputs": [
    {
     "data": {
      "text/html": [
       "<div>\n",
       "<style scoped>\n",
       "    .dataframe tbody tr th:only-of-type {\n",
       "        vertical-align: middle;\n",
       "    }\n",
       "\n",
       "    .dataframe tbody tr th {\n",
       "        vertical-align: top;\n",
       "    }\n",
       "\n",
       "    .dataframe thead th {\n",
       "        text-align: right;\n",
       "    }\n",
       "</style>\n",
       "<table border=\"1\" class=\"dataframe\">\n",
       "  <thead>\n",
       "    <tr style=\"text-align: right;\">\n",
       "      <th>CatsDogsBoth</th>\n",
       "      <th>Has Both</th>\n",
       "      <th>Has cats</th>\n",
       "      <th>Has dogs</th>\n",
       "    </tr>\n",
       "    <tr>\n",
       "      <th>Gender</th>\n",
       "      <th></th>\n",
       "      <th></th>\n",
       "      <th></th>\n",
       "    </tr>\n",
       "  </thead>\n",
       "  <tbody>\n",
       "    <tr>\n",
       "      <th>F</th>\n",
       "      <td>11.589147</td>\n",
       "      <td>44.082687</td>\n",
       "      <td>44.328165</td>\n",
       "    </tr>\n",
       "    <tr>\n",
       "      <th>M</th>\n",
       "      <td>8.806471</td>\n",
       "      <td>36.446886</td>\n",
       "      <td>54.746642</td>\n",
       "    </tr>\n",
       "  </tbody>\n",
       "</table>\n",
       "</div>"
      ],
      "text/plain": [
       "CatsDogsBoth   Has Both   Has cats   Has dogs\n",
       "Gender                                       \n",
       "F             11.589147  44.082687  44.328165\n",
       "M              8.806471  36.446886  54.746642"
      ]
     },
     "execution_count": 15,
     "metadata": {},
     "output_type": "execute_result"
    }
   ],
   "source": [
    "pd.crosstab(index=okcupid.Gender, columns=okcupid.CatsDogsBoth, \n",
    "            normalize='index').mul(100)"
   ]
  },
  {
   "cell_type": "code",
   "execution_count": 19,
   "id": "3d1e1df7",
   "metadata": {},
   "outputs": [
    {
     "data": {
      "image/png": "[encoded data removed]",
      "text/plain": [
       "<Figure size 640x480 with 1 Axes>"
      ]
     },
     "metadata": {},
     "output_type": "display_data"
    }
   ],
   "source": [
    "ax = pd.crosstab(index=okcupid.Gender, columns=okcupid.CatsDogsBoth, \n",
    "            normalize='index').mul(100).plot(kind='bar');\n",
    "ax.set_ylabel('relative frequency');"
   ]
  }
 ],
 "metadata": {
  "kernelspec": {
   "display_name": "Python 3 (ipykernel)",
   "language": "python",
   "name": "python3"
  },
  "language_info": {
   "codemirror_mode": {
    "name": "ipython",
    "version": 3
   },
   "file_extension": ".py",
   "mimetype": "text/x-python",
   "name": "python",
   "nbconvert_exporter": "python",
   "pygments_lexer": "ipython3",
   "version": "3.11.3"
  }
 },
 "nbformat": 4,
 "nbformat_minor": 5
}
