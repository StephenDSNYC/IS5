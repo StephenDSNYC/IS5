{
 "cells": [
  {
   "cell_type": "markdown",
   "id": "6dd9b391",
   "metadata": {},
   "source": [
    "# DATASET: student_survey\n",
    "\n",
    "## Problems: 5, 6, 9, 25 and 47\n",
    "\n"
   ]
  },
  {
   "cell_type": "markdown",
   "id": "8111c2e5",
   "metadata": {},
   "source": [
    "---\n",
    "### Import modules, load data 'student_survey.txt', and basic information"
   ]
  },
  {
   "cell_type": "code",
   "execution_count": 1,
   "id": "7c83a044",
   "metadata": {},
   "outputs": [],
   "source": [
    "import numpy as np\n",
    "import pandas as pd\n",
    "import matplotlib.pyplot as plt\n",
    "import statistics as stat"
   ]
  },
  {
   "cell_type": "code",
   "execution_count": 2,
   "id": "0f961ae9",
   "metadata": {},
   "outputs": [],
   "source": [
    "datafile=\"../../../dataset/ch03/student_survey.txt\"\n",
    "student_survey = pd.read_csv(datafile, sep='\\t')"
   ]
  },
  {
   "cell_type": "code",
   "execution_count": 3,
   "id": "c9db2b67",
   "metadata": {},
   "outputs": [
    {
     "data": {
      "text/html": [
       "<div>\n",
       "<style scoped>\n",
       "    .dataframe tbody tr th:only-of-type {\n",
       "        vertical-align: middle;\n",
       "    }\n",
       "\n",
       "    .dataframe tbody tr th {\n",
       "        vertical-align: top;\n",
       "    }\n",
       "\n",
       "    .dataframe thead th {\n",
       "        text-align: right;\n",
       "    }\n",
       "</style>\n",
       "<table border=\"1\" class=\"dataframe\">\n",
       "  <thead>\n",
       "    <tr style=\"text-align: right;\">\n",
       "      <th></th>\n",
       "      <th>Gender</th>\n",
       "      <th>Do.you.believe.in.God</th>\n",
       "      <th>Pick.Random.Number</th>\n",
       "      <th>Height</th>\n",
       "      <th>Hand</th>\n",
       "      <th>Dates</th>\n",
       "      <th>FB.Friends</th>\n",
       "      <th>Weight</th>\n",
       "      <th>Drinks</th>\n",
       "      <th>Varsity</th>\n",
       "      <th>Songs</th>\n",
       "      <th>Diet</th>\n",
       "      <th>Politics.9Cat</th>\n",
       "      <th>Politics.numeric</th>\n",
       "      <th>Politics.3Cat</th>\n",
       "    </tr>\n",
       "  </thead>\n",
       "  <tbody>\n",
       "    <tr>\n",
       "      <th>0</th>\n",
       "      <td>Female</td>\n",
       "      <td>Not sure</td>\n",
       "      <td>6</td>\n",
       "      <td>71.0</td>\n",
       "      <td>Predominantly Left Handed</td>\n",
       "      <td>1.0</td>\n",
       "      <td>314.0</td>\n",
       "      <td>138.0</td>\n",
       "      <td>0</td>\n",
       "      <td>Yes</td>\n",
       "      <td>1564.0</td>\n",
       "      <td>Omnivore</td>\n",
       "      <td>2. Very Liberal</td>\n",
       "      <td>2.0</td>\n",
       "      <td>Liberal</td>\n",
       "    </tr>\n",
       "    <tr>\n",
       "      <th>1</th>\n",
       "      <td>Male</td>\n",
       "      <td>No</td>\n",
       "      <td>2</td>\n",
       "      <td>66.0</td>\n",
       "      <td>Predominantly Right Handed</td>\n",
       "      <td>2.0</td>\n",
       "      <td>1228.0</td>\n",
       "      <td>130.0</td>\n",
       "      <td>0</td>\n",
       "      <td>No</td>\n",
       "      <td>97.0</td>\n",
       "      <td>Vegetarian</td>\n",
       "      <td>2. Very Liberal</td>\n",
       "      <td>2.0</td>\n",
       "      <td>Liberal</td>\n",
       "    </tr>\n",
       "    <tr>\n",
       "      <th>2</th>\n",
       "      <td>Male</td>\n",
       "      <td>Yes</td>\n",
       "      <td>9</td>\n",
       "      <td>73.0</td>\n",
       "      <td>Predominantly Right Handed</td>\n",
       "      <td>1.0</td>\n",
       "      <td>1189.0</td>\n",
       "      <td>183.0</td>\n",
       "      <td>0</td>\n",
       "      <td>Yes</td>\n",
       "      <td>1397.0</td>\n",
       "      <td>Carnivore</td>\n",
       "      <td>7. Moderatly Conservative</td>\n",
       "      <td>7.0</td>\n",
       "      <td>Conservative</td>\n",
       "    </tr>\n",
       "    <tr>\n",
       "      <th>3</th>\n",
       "      <td>Female</td>\n",
       "      <td>No</td>\n",
       "      <td>6</td>\n",
       "      <td>67.0</td>\n",
       "      <td>Predominantly Right Handed</td>\n",
       "      <td>1.0</td>\n",
       "      <td>0.0</td>\n",
       "      <td>125.0</td>\n",
       "      <td>0</td>\n",
       "      <td>No</td>\n",
       "      <td>2241.0</td>\n",
       "      <td>Omnivore</td>\n",
       "      <td>3. Moderately Liberal</td>\n",
       "      <td>3.0</td>\n",
       "      <td>Liberal</td>\n",
       "    </tr>\n",
       "    <tr>\n",
       "      <th>4</th>\n",
       "      <td>Male</td>\n",
       "      <td>Yes</td>\n",
       "      <td>7</td>\n",
       "      <td>71.0</td>\n",
       "      <td>Predominantly Right Handed</td>\n",
       "      <td>0.0</td>\n",
       "      <td>709.0</td>\n",
       "      <td>245.0</td>\n",
       "      <td>0</td>\n",
       "      <td>No</td>\n",
       "      <td>1299.0</td>\n",
       "      <td>Omnivore</td>\n",
       "      <td>5. Independent/Middle of Road</td>\n",
       "      <td>5.0</td>\n",
       "      <td>Moderate</td>\n",
       "    </tr>\n",
       "  </tbody>\n",
       "</table>\n",
       "</div>"
      ],
      "text/plain": [
       "   Gender Do.you.believe.in.God  Pick.Random.Number  Height  \\\n",
       "0  Female              Not sure                   6    71.0   \n",
       "1    Male                    No                   2    66.0   \n",
       "2    Male                   Yes                   9    73.0   \n",
       "3  Female                    No                   6    67.0   \n",
       "4    Male                   Yes                   7    71.0   \n",
       "\n",
       "                         Hand  Dates  FB.Friends  Weight  Drinks Varsity  \\\n",
       "0   Predominantly Left Handed    1.0       314.0   138.0       0     Yes   \n",
       "1  Predominantly Right Handed    2.0      1228.0   130.0       0      No   \n",
       "2  Predominantly Right Handed    1.0      1189.0   183.0       0     Yes   \n",
       "3  Predominantly Right Handed    1.0         0.0   125.0       0      No   \n",
       "4  Predominantly Right Handed    0.0       709.0   245.0       0      No   \n",
       "\n",
       "    Songs        Diet                  Politics.9Cat  Politics.numeric  \\\n",
       "0  1564.0    Omnivore                2. Very Liberal               2.0   \n",
       "1    97.0  Vegetarian                2. Very Liberal               2.0   \n",
       "2  1397.0   Carnivore      7. Moderatly Conservative               7.0   \n",
       "3  2241.0    Omnivore          3. Moderately Liberal               3.0   \n",
       "4  1299.0    Omnivore  5. Independent/Middle of Road               5.0   \n",
       "\n",
       "  Politics.3Cat  \n",
       "0       Liberal  \n",
       "1       Liberal  \n",
       "2  Conservative  \n",
       "3       Liberal  \n",
       "4      Moderate  "
      ]
     },
     "execution_count": 3,
     "metadata": {},
     "output_type": "execute_result"
    }
   ],
   "source": [
    "student_survey.head()"
   ]
  },
  {
   "cell_type": "code",
   "execution_count": 4,
   "id": "72c46f86",
   "metadata": {},
   "outputs": [
    {
     "data": {
      "text/plain": [
       "Index(['Gender', 'Do.you.believe.in.God', 'Pick.Random.Number', 'Height',\n",
       "       'Hand', 'Dates', 'FB.Friends', 'Weight', 'Drinks', 'Varsity', 'Songs',\n",
       "       'Diet', 'Politics.9Cat', 'Politics.numeric', 'Politics.3Cat'],\n",
       "      dtype='object')"
      ]
     },
     "execution_count": 4,
     "metadata": {},
     "output_type": "execute_result"
    }
   ],
   "source": [
    "student_survey.columns"
   ]
  },
  {
   "cell_type": "code",
   "execution_count": 5,
   "id": "3b170334",
   "metadata": {},
   "outputs": [
    {
     "name": "stdout",
     "output_type": "stream",
     "text": [
      "Total Number of Students: 299\n"
     ]
    }
   ],
   "source": [
    "print(f'Total Number of Students: {len(student_survey)}')"
   ]
  },
  {
   "cell_type": "markdown",
   "id": "42025b2f",
   "metadata": {},
   "source": [
    "---\n",
    "### Problem 5. Stacked bar chat of political alignment as categorized by diet preference"
   ]
  },
  {
   "cell_type": "code",
   "execution_count": 6,
   "id": "61652b6b",
   "metadata": {},
   "outputs": [],
   "source": [
    "diet = student_survey['Diet']\n",
    "politics = student_survey['Politics.3Cat']"
   ]
  },
  {
   "cell_type": "code",
   "execution_count": 7,
   "id": "11cb9975",
   "metadata": {},
   "outputs": [
    {
     "data": {
      "text/html": [
       "<div>\n",
       "<style scoped>\n",
       "    .dataframe tbody tr th:only-of-type {\n",
       "        vertical-align: middle;\n",
       "    }\n",
       "\n",
       "    .dataframe tbody tr th {\n",
       "        vertical-align: top;\n",
       "    }\n",
       "\n",
       "    .dataframe thead th {\n",
       "        text-align: right;\n",
       "    }\n",
       "</style>\n",
       "<table border=\"1\" class=\"dataframe\">\n",
       "  <thead>\n",
       "    <tr style=\"text-align: right;\">\n",
       "      <th>Diet</th>\n",
       "      <th>Carnivore</th>\n",
       "      <th>Omnivore</th>\n",
       "      <th>Vegetarian</th>\n",
       "      <th>All</th>\n",
       "    </tr>\n",
       "    <tr>\n",
       "      <th>Politics.3Cat</th>\n",
       "      <th></th>\n",
       "      <th></th>\n",
       "      <th></th>\n",
       "      <th></th>\n",
       "    </tr>\n",
       "  </thead>\n",
       "  <tbody>\n",
       "    <tr>\n",
       "      <th>Conservative</th>\n",
       "      <td>10</td>\n",
       "      <td>18</td>\n",
       "      <td>0</td>\n",
       "      <td>28</td>\n",
       "    </tr>\n",
       "    <tr>\n",
       "      <th>Liberal</th>\n",
       "      <td>13</td>\n",
       "      <td>127</td>\n",
       "      <td>17</td>\n",
       "      <td>157</td>\n",
       "    </tr>\n",
       "    <tr>\n",
       "      <th>Moderate</th>\n",
       "      <td>16</td>\n",
       "      <td>81</td>\n",
       "      <td>7</td>\n",
       "      <td>104</td>\n",
       "    </tr>\n",
       "    <tr>\n",
       "      <th>All</th>\n",
       "      <td>39</td>\n",
       "      <td>226</td>\n",
       "      <td>24</td>\n",
       "      <td>289</td>\n",
       "    </tr>\n",
       "  </tbody>\n",
       "</table>\n",
       "</div>"
      ],
      "text/plain": [
       "Diet           Carnivore  Omnivore  Vegetarian  All\n",
       "Politics.3Cat                                      \n",
       "Conservative          10        18           0   28\n",
       "Liberal               13       127          17  157\n",
       "Moderate              16        81           7  104\n",
       "All                   39       226          24  289"
      ]
     },
     "execution_count": 7,
     "metadata": {},
     "output_type": "execute_result"
    }
   ],
   "source": [
    "pd.crosstab(politics, diet, margins=True)"
   ]
  },
  {
   "cell_type": "code",
   "execution_count": 8,
   "id": "fa537a9c",
   "metadata": {},
   "outputs": [
    {
     "data": {
      "text/plain": [
       "(4, 6)"
      ]
     },
     "execution_count": 8,
     "metadata": {},
     "output_type": "execute_result"
    }
   ],
   "source": [
    "# there are missing data!!\n",
    "politics.isna().sum(), diet.isna().sum()"
   ]
  },
  {
   "cell_type": "code",
   "execution_count": 9,
   "id": "c0b26920",
   "metadata": {},
   "outputs": [
    {
     "data": {
      "text/html": [
       "<div>\n",
       "<style scoped>\n",
       "    .dataframe tbody tr th:only-of-type {\n",
       "        vertical-align: middle;\n",
       "    }\n",
       "\n",
       "    .dataframe tbody tr th {\n",
       "        vertical-align: top;\n",
       "    }\n",
       "\n",
       "    .dataframe thead th {\n",
       "        text-align: right;\n",
       "    }\n",
       "</style>\n",
       "<table border=\"1\" class=\"dataframe\">\n",
       "  <thead>\n",
       "    <tr style=\"text-align: right;\">\n",
       "      <th>Diet</th>\n",
       "      <th>Carnivore</th>\n",
       "      <th>Omnivore</th>\n",
       "      <th>Vegetarian</th>\n",
       "      <th>All</th>\n",
       "    </tr>\n",
       "    <tr>\n",
       "      <th>Politics.3Cat</th>\n",
       "      <th></th>\n",
       "      <th></th>\n",
       "      <th></th>\n",
       "      <th></th>\n",
       "    </tr>\n",
       "  </thead>\n",
       "  <tbody>\n",
       "    <tr>\n",
       "      <th>Conservative</th>\n",
       "      <td>25.6%</td>\n",
       "      <td>8.0%</td>\n",
       "      <td>0.0%</td>\n",
       "      <td>9.7%</td>\n",
       "    </tr>\n",
       "    <tr>\n",
       "      <th>Liberal</th>\n",
       "      <td>33.3%</td>\n",
       "      <td>56.2%</td>\n",
       "      <td>70.8%</td>\n",
       "      <td>54.3%</td>\n",
       "    </tr>\n",
       "    <tr>\n",
       "      <th>Moderate</th>\n",
       "      <td>41.0%</td>\n",
       "      <td>35.8%</td>\n",
       "      <td>29.2%</td>\n",
       "      <td>36.0%</td>\n",
       "    </tr>\n",
       "  </tbody>\n",
       "</table>\n",
       "</div>"
      ],
      "text/plain": [
       "Diet          Carnivore Omnivore Vegetarian    All\n",
       "Politics.3Cat                                     \n",
       "Conservative      25.6%     8.0%       0.0%   9.7%\n",
       "Liberal           33.3%    56.2%      70.8%  54.3%\n",
       "Moderate          41.0%    35.8%      29.2%  36.0%"
      ]
     },
     "execution_count": 9,
     "metadata": {},
     "output_type": "execute_result"
    }
   ],
   "source": [
    "pd.crosstab(politics, diet, normalize='columns', margins=True).mul(100).round(1).astype(str) + '%'"
   ]
  },
  {
   "cell_type": "markdown",
   "id": "f609a6a4",
   "metadata": {},
   "source": [
    "Note: we want to separate the data into three categories by diet (so diet is the columns), and in each category we want different political alignments to sum to 100% (so we normalize align the columns).\n",
    "\n",
    "However, if you simply plot the above cross tabulation (which is a pandas DataFrame) as stacked bars, you will get three sets of bars corresponding to the three columns, where percentages from each row are stacked together.  This is mostly wrong, in that the rows do not sum to 100%.\n",
    "\n",
    "What we should do is to transpose the above tabulation (by adding the .T) and then plot stacked bars corresponding to three sets of political alignments (just tilt you head to the left for a perspective where the rows and columns are swapped). Within each alignment, bars are stacked according to diet, and they must sum to 100% by design."
   ]
  },
  {
   "cell_type": "code",
   "execution_count": 10,
   "id": "b7169bec",
   "metadata": {},
   "outputs": [
    {
     "data": {
      "image/png": "[encoded data removed]",
      "text/plain": [
       "<Figure size 640x480 with 1 Axes>"
      ]
     },
     "metadata": {},
     "output_type": "display_data"
    }
   ],
   "source": [
    "ax = pd.crosstab(politics, diet, \n",
    "        normalize='columns').sort_index(ascending=False).T.mul(100).plot(kind='bar', \n",
    "                                        stacked=True);\n",
    "ax.set_ylabel('conditional probability');"
   ]
  },
  {
   "cell_type": "markdown",
   "id": "14925c29",
   "metadata": {},
   "source": [
    "**Answer:**\n",
    "\n",
    "(a) The above plot shows conditinoal probabilities.  We may consider the probablity distribution of political alignment, conditioning on the diet preference.\n",
    "\n",
    "For example, if a student is **Carnivore**, it has a probablity of **25.6%** of being **Conservative**, **33.3%** of being **Liberal**, and **41%** of being **Moderate**.  The data reveals an interesting fact that a **Vegetarian** would virtually never be **Conservative**.\n",
    "\n",
    "(b) The three conditional distributions of political alignment display differences depending on diet preference, which may be real.  While one's diet choice may not affect its political choice, both may be determined by one's eduction, social environment, lifestyle choice, and other lurking variables.  The difference most likely tells us about the dependence between the two variables, rather than any causality between them.\n"
   ]
  },
  {
   "cell_type": "markdown",
   "id": "309879eb",
   "metadata": {},
   "source": [
    "---\n",
    "### Problem 6. Stacked bar chat of diet preference as categorized by political alignment "
   ]
  },
  {
   "cell_type": "code",
   "execution_count": 11,
   "id": "5aad2249",
   "metadata": {},
   "outputs": [
    {
     "data": {
      "text/html": [
       "<div>\n",
       "<style scoped>\n",
       "    .dataframe tbody tr th:only-of-type {\n",
       "        vertical-align: middle;\n",
       "    }\n",
       "\n",
       "    .dataframe tbody tr th {\n",
       "        vertical-align: top;\n",
       "    }\n",
       "\n",
       "    .dataframe thead th {\n",
       "        text-align: right;\n",
       "    }\n",
       "</style>\n",
       "<table border=\"1\" class=\"dataframe\">\n",
       "  <thead>\n",
       "    <tr style=\"text-align: right;\">\n",
       "      <th>Politics.3Cat</th>\n",
       "      <th>Conservative</th>\n",
       "      <th>Liberal</th>\n",
       "      <th>Moderate</th>\n",
       "      <th>All</th>\n",
       "    </tr>\n",
       "    <tr>\n",
       "      <th>Diet</th>\n",
       "      <th></th>\n",
       "      <th></th>\n",
       "      <th></th>\n",
       "      <th></th>\n",
       "    </tr>\n",
       "  </thead>\n",
       "  <tbody>\n",
       "    <tr>\n",
       "      <th>Carnivore</th>\n",
       "      <td>35.7%</td>\n",
       "      <td>8.3%</td>\n",
       "      <td>15.4%</td>\n",
       "      <td>13.5%</td>\n",
       "    </tr>\n",
       "    <tr>\n",
       "      <th>Omnivore</th>\n",
       "      <td>64.3%</td>\n",
       "      <td>80.9%</td>\n",
       "      <td>77.9%</td>\n",
       "      <td>78.2%</td>\n",
       "    </tr>\n",
       "    <tr>\n",
       "      <th>Vegetarian</th>\n",
       "      <td>0.0%</td>\n",
       "      <td>10.8%</td>\n",
       "      <td>6.7%</td>\n",
       "      <td>8.3%</td>\n",
       "    </tr>\n",
       "  </tbody>\n",
       "</table>\n",
       "</div>"
      ],
      "text/plain": [
       "Politics.3Cat Conservative Liberal Moderate    All\n",
       "Diet                                              \n",
       "Carnivore            35.7%    8.3%    15.4%  13.5%\n",
       "Omnivore             64.3%   80.9%    77.9%  78.2%\n",
       "Vegetarian            0.0%   10.8%     6.7%   8.3%"
      ]
     },
     "execution_count": 11,
     "metadata": {},
     "output_type": "execute_result"
    }
   ],
   "source": [
    "pd.crosstab(diet, politics, normalize='columns', margins=True).mul(100).round(1).astype(str) + '%'"
   ]
  },
  {
   "cell_type": "code",
   "execution_count": 12,
   "id": "965f370f",
   "metadata": {},
   "outputs": [
    {
     "data": {
      "image/png": "[encoded data removed]",
      "text/plain": [
       "<Figure size 640x480 with 1 Axes>"
      ]
     },
     "metadata": {},
     "output_type": "display_data"
    }
   ],
   "source": [
    "ax = pd.crosstab(diet, politics,\n",
    "        normalize='columns').sort_index(ascending=True).T.mul(100).plot(kind='bar', \n",
    "                                        stacked=True);\n",
    "ax.set_ylabel('conditional probability');"
   ]
  },
  {
   "cell_type": "markdown",
   "id": "b3e1398e",
   "metadata": {},
   "source": [
    "**Answer:**\n",
    "\n",
    "(a) Similar to problem 5, now we swap the index and columns.  Each stacked bar above corresponds to a conditional probability distribution.  For example, the second bar may be intepreted as, conditioning on a student being a **liberal**, it is **8.3% Carnivore**, **80.9% Omnivore**, and **10.8% Vegetarian**. \n",
    "\n",
    "(b) We may argue from the same angle as before that the difference in the three conditional distributions are resulted from the correlation between the two variables.  Note that swapping the variables between index and columns does not change the nature of their dependence/independence."
   ]
  },
  {
   "cell_type": "markdown",
   "id": "5f6871e8",
   "metadata": {},
   "source": [
    "---\n",
    "### Problem 9: separate men from women"
   ]
  },
  {
   "cell_type": "code",
   "execution_count": 13,
   "id": "c5f9bc9b",
   "metadata": {},
   "outputs": [],
   "source": [
    "men = student_survey[student_survey.Gender=='Male']\n",
    "women = student_survey[student_survey.Gender=='Female']"
   ]
  },
  {
   "cell_type": "code",
   "execution_count": 14,
   "id": "642607c9",
   "metadata": {},
   "outputs": [
    {
     "data": {
      "text/html": [
       "<div>\n",
       "<style scoped>\n",
       "    .dataframe tbody tr th:only-of-type {\n",
       "        vertical-align: middle;\n",
       "    }\n",
       "\n",
       "    .dataframe tbody tr th {\n",
       "        vertical-align: top;\n",
       "    }\n",
       "\n",
       "    .dataframe thead th {\n",
       "        text-align: right;\n",
       "    }\n",
       "</style>\n",
       "<table border=\"1\" class=\"dataframe\">\n",
       "  <thead>\n",
       "    <tr style=\"text-align: right;\">\n",
       "      <th>Diet</th>\n",
       "      <th>Carnivore</th>\n",
       "      <th>Omnivore</th>\n",
       "      <th>Vegetarian</th>\n",
       "      <th>All</th>\n",
       "    </tr>\n",
       "    <tr>\n",
       "      <th>Politics.3Cat</th>\n",
       "      <th></th>\n",
       "      <th></th>\n",
       "      <th></th>\n",
       "      <th></th>\n",
       "    </tr>\n",
       "  </thead>\n",
       "  <tbody>\n",
       "    <tr>\n",
       "      <th>Conservative</th>\n",
       "      <td>9</td>\n",
       "      <td>14</td>\n",
       "      <td>0</td>\n",
       "      <td>23</td>\n",
       "    </tr>\n",
       "    <tr>\n",
       "      <th>Liberal</th>\n",
       "      <td>9</td>\n",
       "      <td>74</td>\n",
       "      <td>5</td>\n",
       "      <td>88</td>\n",
       "    </tr>\n",
       "    <tr>\n",
       "      <th>Moderate</th>\n",
       "      <td>12</td>\n",
       "      <td>54</td>\n",
       "      <td>1</td>\n",
       "      <td>67</td>\n",
       "    </tr>\n",
       "    <tr>\n",
       "      <th>All</th>\n",
       "      <td>30</td>\n",
       "      <td>142</td>\n",
       "      <td>6</td>\n",
       "      <td>178</td>\n",
       "    </tr>\n",
       "  </tbody>\n",
       "</table>\n",
       "</div>"
      ],
      "text/plain": [
       "Diet           Carnivore  Omnivore  Vegetarian  All\n",
       "Politics.3Cat                                      \n",
       "Conservative           9        14           0   23\n",
       "Liberal                9        74           5   88\n",
       "Moderate              12        54           1   67\n",
       "All                   30       142           6  178"
      ]
     },
     "execution_count": 14,
     "metadata": {},
     "output_type": "execute_result"
    }
   ],
   "source": [
    "# table for men\n",
    "pd.crosstab(index=men['Politics.3Cat'], columns=men['Diet'], margins=True)"
   ]
  },
  {
   "cell_type": "code",
   "execution_count": 15,
   "id": "2262692a",
   "metadata": {},
   "outputs": [
    {
     "data": {
      "text/html": [
       "<div>\n",
       "<style scoped>\n",
       "    .dataframe tbody tr th:only-of-type {\n",
       "        vertical-align: middle;\n",
       "    }\n",
       "\n",
       "    .dataframe tbody tr th {\n",
       "        vertical-align: top;\n",
       "    }\n",
       "\n",
       "    .dataframe thead th {\n",
       "        text-align: right;\n",
       "    }\n",
       "</style>\n",
       "<table border=\"1\" class=\"dataframe\">\n",
       "  <thead>\n",
       "    <tr style=\"text-align: right;\">\n",
       "      <th>Diet</th>\n",
       "      <th>Carnivore</th>\n",
       "      <th>Omnivore</th>\n",
       "      <th>Vegetarian</th>\n",
       "      <th>All</th>\n",
       "    </tr>\n",
       "    <tr>\n",
       "      <th>Politics.3Cat</th>\n",
       "      <th></th>\n",
       "      <th></th>\n",
       "      <th></th>\n",
       "      <th></th>\n",
       "    </tr>\n",
       "  </thead>\n",
       "  <tbody>\n",
       "    <tr>\n",
       "      <th>Conservative</th>\n",
       "      <td>1</td>\n",
       "      <td>4</td>\n",
       "      <td>0</td>\n",
       "      <td>5</td>\n",
       "    </tr>\n",
       "    <tr>\n",
       "      <th>Liberal</th>\n",
       "      <td>4</td>\n",
       "      <td>53</td>\n",
       "      <td>12</td>\n",
       "      <td>69</td>\n",
       "    </tr>\n",
       "    <tr>\n",
       "      <th>Moderate</th>\n",
       "      <td>4</td>\n",
       "      <td>27</td>\n",
       "      <td>6</td>\n",
       "      <td>37</td>\n",
       "    </tr>\n",
       "    <tr>\n",
       "      <th>All</th>\n",
       "      <td>9</td>\n",
       "      <td>84</td>\n",
       "      <td>18</td>\n",
       "      <td>111</td>\n",
       "    </tr>\n",
       "  </tbody>\n",
       "</table>\n",
       "</div>"
      ],
      "text/plain": [
       "Diet           Carnivore  Omnivore  Vegetarian  All\n",
       "Politics.3Cat                                      \n",
       "Conservative           1         4           0    5\n",
       "Liberal                4        53          12   69\n",
       "Moderate               4        27           6   37\n",
       "All                    9        84          18  111"
      ]
     },
     "execution_count": 15,
     "metadata": {},
     "output_type": "execute_result"
    }
   ],
   "source": [
    "# table for women\n",
    "pd.crosstab(index=women['Politics.3Cat'], columns=women['Diet'], margins=True)"
   ]
  },
  {
   "cell_type": "code",
   "execution_count": 20,
   "id": "a1a57770",
   "metadata": {},
   "outputs": [
    {
     "name": "stdout",
     "output_type": "stream",
     "text": [
      "(a) Answer: \n",
      "Men has a probability of 5.06% being Conservative Carnivore\n",
      "Women has a probability of 0.90% being Conservative Carnivore\n",
      "\n",
      "Men is more likely than women to be Conservative Carnivore\n"
     ]
    }
   ],
   "source": [
    "print(f'(a) Answer: \\nMen has a probability of {9/178*100:.2f}% being Conservative Carnivore')\n",
    "print(f'Women has a probability of {1/111*100:.2f}% being Conservative Carnivore\\n')\n",
    "print('Men is more likely than women to be Conservative Carnivore')"
   ]
  },
  {
   "cell_type": "code",
   "execution_count": 17,
   "id": "cb6794dd",
   "metadata": {},
   "outputs": [
    {
     "name": "stdout",
     "output_type": "stream",
     "text": [
      "(b) Answer:\n",
      "Among all Liberal Vegetarians, there are 5 men and 12 women\n",
      "\n",
      "A Liberal Vegetarian is more likely to be a women\n"
     ]
    }
   ],
   "source": [
    "print(f'(b) Answer:\\nAmong all Liberal Vegetarians, there are 5 men and 12 women\\n')\n",
    "print('A Liberal Vegetarian is more likely to be a women')"
   ]
  },
  {
   "cell_type": "markdown",
   "id": "0b22fc59",
   "metadata": {},
   "source": [
    "---\n",
    "### Problem 25: interpreting mosaic"
   ]
  },
  {
   "cell_type": "markdown",
   "id": "796d4912",
   "metadata": {},
   "source": [
    "**(a) Answer:**\n",
    "The top edge is divided into three categories according to political alignment.  Within each category, viewed from the bottom edge, the data is further divided by gender.  It is obvious that in each political category, there are more men than women.  Therefore, there are more men (181) than women (118) in this study."
   ]
  },
  {
   "cell_type": "code",
   "execution_count": 18,
   "id": "66ddbd22",
   "metadata": {},
   "outputs": [],
   "source": [
    "gender = student_survey.Gender"
   ]
  },
  {
   "cell_type": "code",
   "execution_count": 19,
   "id": "c163e096",
   "metadata": {},
   "outputs": [
    {
     "data": {
      "text/html": [
       "<div>\n",
       "<style scoped>\n",
       "    .dataframe tbody tr th:only-of-type {\n",
       "        vertical-align: middle;\n",
       "    }\n",
       "\n",
       "    .dataframe tbody tr th {\n",
       "        vertical-align: top;\n",
       "    }\n",
       "\n",
       "    .dataframe thead th {\n",
       "        text-align: right;\n",
       "    }\n",
       "</style>\n",
       "<table border=\"1\" class=\"dataframe\">\n",
       "  <thead>\n",
       "    <tr style=\"text-align: right;\">\n",
       "      <th>Gender</th>\n",
       "      <th>Female</th>\n",
       "      <th>Male</th>\n",
       "      <th>All</th>\n",
       "    </tr>\n",
       "    <tr>\n",
       "      <th>Politics.3Cat</th>\n",
       "      <th></th>\n",
       "      <th></th>\n",
       "      <th></th>\n",
       "    </tr>\n",
       "  </thead>\n",
       "  <tbody>\n",
       "    <tr>\n",
       "      <th>Conservative</th>\n",
       "      <td>4.3%</td>\n",
       "      <td>12.8%</td>\n",
       "      <td>9.5%</td>\n",
       "    </tr>\n",
       "    <tr>\n",
       "      <th>Liberal</th>\n",
       "      <td>63.8%</td>\n",
       "      <td>49.2%</td>\n",
       "      <td>54.9%</td>\n",
       "    </tr>\n",
       "    <tr>\n",
       "      <th>Moderate</th>\n",
       "      <td>31.9%</td>\n",
       "      <td>38.0%</td>\n",
       "      <td>35.6%</td>\n",
       "    </tr>\n",
       "  </tbody>\n",
       "</table>\n",
       "</div>"
      ],
      "text/plain": [
       "Gender        Female   Male    All\n",
       "Politics.3Cat                     \n",
       "Conservative    4.3%  12.8%   9.5%\n",
       "Liberal        63.8%  49.2%  54.9%\n",
       "Moderate       31.9%  38.0%  35.6%"
      ]
     },
     "execution_count": 19,
     "metadata": {},
     "output_type": "execute_result"
    }
   ],
   "source": [
    "pd.crosstab(politics, gender, margins=True, normalize='columns').mul(100).round(1).astype(str) + '%'"
   ]
  },
  {
   "cell_type": "markdown",
   "id": "1493ffd3",
   "metadata": {},
   "source": [
    "**(b) Answer:** The above cross tabulation helps with quantify the segments along the bottom edge.  Even with those percentages, we can see from the mosaic plot that women are more likely to be either liberal or moderate than be conservative, whereas men are at least as likely to be conservative as be either liberal or moderate, if not more conservative.\n",
    "\n",
    "Therefore, there appears to be a pattern suggesting an association between politics and gender."
   ]
  },
  {
   "cell_type": "markdown",
   "id": "9a54cf28",
   "metadata": {},
   "source": [
    "**(c) Answer:**\n",
    "At least we can tell that there is virtually no **Vegetarian** among the **Conservatives**, and the proportion of **Carnivore** increases from **Liberal** to **Moderate** and further to **Conservative**.\n",
    "\n",
    "Therefore, there appears to be an association between politics and diet."
   ]
  },
  {
   "cell_type": "code",
   "execution_count": 23,
   "id": "835957f0",
   "metadata": {},
   "outputs": [
    {
     "data": {
      "text/html": [
       "<div>\n",
       "<style scoped>\n",
       "    .dataframe tbody tr th:only-of-type {\n",
       "        vertical-align: middle;\n",
       "    }\n",
       "\n",
       "    .dataframe tbody tr th {\n",
       "        vertical-align: top;\n",
       "    }\n",
       "\n",
       "    .dataframe thead th {\n",
       "        text-align: right;\n",
       "    }\n",
       "</style>\n",
       "<table border=\"1\" class=\"dataframe\">\n",
       "  <thead>\n",
       "    <tr style=\"text-align: right;\">\n",
       "      <th>Diet</th>\n",
       "      <th>Carnivore</th>\n",
       "      <th>Omnivore</th>\n",
       "      <th>Vegetarian</th>\n",
       "      <th>All</th>\n",
       "    </tr>\n",
       "    <tr>\n",
       "      <th>Politics.3Cat</th>\n",
       "      <th></th>\n",
       "      <th></th>\n",
       "      <th></th>\n",
       "      <th></th>\n",
       "    </tr>\n",
       "  </thead>\n",
       "  <tbody>\n",
       "    <tr>\n",
       "      <th>Conservative</th>\n",
       "      <td>30.0%</td>\n",
       "      <td>9.9%</td>\n",
       "      <td>0.0%</td>\n",
       "      <td>12.9%</td>\n",
       "    </tr>\n",
       "    <tr>\n",
       "      <th>Liberal</th>\n",
       "      <td>30.0%</td>\n",
       "      <td>52.1%</td>\n",
       "      <td>83.3%</td>\n",
       "      <td>49.4%</td>\n",
       "    </tr>\n",
       "    <tr>\n",
       "      <th>Moderate</th>\n",
       "      <td>40.0%</td>\n",
       "      <td>38.0%</td>\n",
       "      <td>16.7%</td>\n",
       "      <td>37.6%</td>\n",
       "    </tr>\n",
       "  </tbody>\n",
       "</table>\n",
       "</div>"
      ],
      "text/plain": [
       "Diet          Carnivore Omnivore Vegetarian    All\n",
       "Politics.3Cat                                     \n",
       "Conservative      30.0%     9.9%       0.0%  12.9%\n",
       "Liberal           30.0%    52.1%      83.3%  49.4%\n",
       "Moderate          40.0%    38.0%      16.7%  37.6%"
      ]
     },
     "execution_count": 23,
     "metadata": {},
     "output_type": "execute_result"
    }
   ],
   "source": [
    "# table for men\n",
    "pd.crosstab(index=men['Politics.3Cat'], \n",
    "            columns=men['Diet'], \n",
    "            margins=True, \n",
    "            normalize='columns').mul(100).round(1).astype(str) + '%'"
   ]
  },
  {
   "cell_type": "code",
   "execution_count": 24,
   "id": "570923b8",
   "metadata": {},
   "outputs": [
    {
     "data": {
      "text/html": [
       "<div>\n",
       "<style scoped>\n",
       "    .dataframe tbody tr th:only-of-type {\n",
       "        vertical-align: middle;\n",
       "    }\n",
       "\n",
       "    .dataframe tbody tr th {\n",
       "        vertical-align: top;\n",
       "    }\n",
       "\n",
       "    .dataframe thead th {\n",
       "        text-align: right;\n",
       "    }\n",
       "</style>\n",
       "<table border=\"1\" class=\"dataframe\">\n",
       "  <thead>\n",
       "    <tr style=\"text-align: right;\">\n",
       "      <th>Diet</th>\n",
       "      <th>Carnivore</th>\n",
       "      <th>Omnivore</th>\n",
       "      <th>Vegetarian</th>\n",
       "      <th>All</th>\n",
       "    </tr>\n",
       "    <tr>\n",
       "      <th>Politics.3Cat</th>\n",
       "      <th></th>\n",
       "      <th></th>\n",
       "      <th></th>\n",
       "      <th></th>\n",
       "    </tr>\n",
       "  </thead>\n",
       "  <tbody>\n",
       "    <tr>\n",
       "      <th>Conservative</th>\n",
       "      <td>11.1%</td>\n",
       "      <td>4.8%</td>\n",
       "      <td>0.0%</td>\n",
       "      <td>4.5%</td>\n",
       "    </tr>\n",
       "    <tr>\n",
       "      <th>Liberal</th>\n",
       "      <td>44.4%</td>\n",
       "      <td>63.1%</td>\n",
       "      <td>66.7%</td>\n",
       "      <td>62.2%</td>\n",
       "    </tr>\n",
       "    <tr>\n",
       "      <th>Moderate</th>\n",
       "      <td>44.4%</td>\n",
       "      <td>32.1%</td>\n",
       "      <td>33.3%</td>\n",
       "      <td>33.3%</td>\n",
       "    </tr>\n",
       "  </tbody>\n",
       "</table>\n",
       "</div>"
      ],
      "text/plain": [
       "Diet          Carnivore Omnivore Vegetarian    All\n",
       "Politics.3Cat                                     \n",
       "Conservative      11.1%     4.8%       0.0%   4.5%\n",
       "Liberal           44.4%    63.1%      66.7%  62.2%\n",
       "Moderate          44.4%    32.1%      33.3%  33.3%"
      ]
     },
     "execution_count": 24,
     "metadata": {},
     "output_type": "execute_result"
    }
   ],
   "source": [
    "# table for women\n",
    "pd.crosstab(index=women['Politics.3Cat'], \n",
    "            columns=women['Diet'], \n",
    "            margins=True, \n",
    "            normalize='columns').mul(100).round(1).astype(str) + '%'"
   ]
  },
  {
   "cell_type": "markdown",
   "id": "8e0b7ceb",
   "metadata": {},
   "source": [
    "**(d) Answer:**\n",
    "Above tables help with our understanding.  Even without those tables, we can infer the same from the mosaic.\n",
    "\n",
    "Carnivore men are almost equal likely to hold any of the three political views, whereas Carnivore women are least likely to be Conservative.\n",
    "\n",
    "Omnivore men and women are most likely to be Liberal and least likely to be Conservative.\n",
    "\n",
    "Vegetarian men are much more likely to be Liberal than Moderate (5:1), whereas Vegetarian women are somewhat more likely to be Liberal than Moderate (2:1).\n",
    "\n",
    "Overall, we see that gender can be a control variable that has effect on the interplay between diet and politics."
   ]
  },
  {
   "cell_type": "markdown",
   "id": "9e0555cc",
   "metadata": {},
   "source": [
    "---\n",
    "### Problem 47: Random shuffling and \"cat among dogs\""
   ]
  },
  {
   "cell_type": "markdown",
   "id": "ad912572",
   "metadata": {},
   "source": [
    "**(a) Answer:** real data corresponds to the plot on the upper right corner.\n",
    "\n",
    "I can tell the real and simulated data apart, because the real data display certain features (or patterns) that simulated data do not.\n",
    "\n",
    "1. I remember that, in real data, vegetarians are never conservative.\n",
    "2. I also remember that, in real data, the percentage of liberal increases from \"Carnivore\" to \"Omnivore\" and further to \"Vegetarian\"."
   ]
  },
  {
   "cell_type": "markdown",
   "id": "50df51d5",
   "metadata": {},
   "source": [
    "**(b) Answer:**\n",
    "\n",
    "The fact that we can recognize the \"cat among dogs\" (cat meaning the real data and dogs meaning simulated data) tells us that the original data may reveal some truth that fake data cannot.  This supports our answer in 5(b) that the difference in the conditional distributions signifies a real pattern in the sample data.\n",
    "\n",
    "On the contrary, if we cannot tell which plot corresponds to the real data among a group of simulated, scrambled data, our original judgement in 5(b) should be questioned."
   ]
  }
 ],
 "metadata": {
  "kernelspec": {
   "display_name": "Python 3 (ipykernel)",
   "language": "python",
   "name": "python3"
  },
  "language_info": {
   "codemirror_mode": {
    "name": "ipython",
    "version": 3
   },
   "file_extension": ".py",
   "mimetype": "text/x-python",
   "name": "python",
   "nbconvert_exporter": "python",
   "pygments_lexer": "ipython3",
   "version": "3.11.4"
  }
 },
 "nbformat": 4,
 "nbformat_minor": 5
}
