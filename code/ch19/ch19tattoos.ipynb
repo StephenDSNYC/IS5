{
 "cells": [
  {
   "cell_type": "code",
   "execution_count": 1,
   "id": "7e16c2cf-6948-4ad1-8317-6b1e521aeb78",
   "metadata": {},
   "outputs": [],
   "source": [
    "import pandas as pd\n",
    "# from math import sqrt\n",
    "from scipy.stats import chi2\n",
    "import matplotlib.pyplot as plt\n",
    "# from numpy import corrcoef"
   ]
  },
  {
   "cell_type": "code",
   "execution_count": 3,
   "id": "cd1f5cb1-4d5d-482d-8395-8bac48a25cb7",
   "metadata": {},
   "outputs": [],
   "source": [
    "datafile = \"../../dataset/ch19/tattoos.txt\"\n",
    "data = pd.read_csv(datafile, sep='\\t')"
   ]
  },
  {
   "cell_type": "code",
   "execution_count": 4,
   "id": "1e5e8aeb-8ab4-4010-accd-4b4b65cd995b",
   "metadata": {},
   "outputs": [
    {
     "name": "stdout",
     "output_type": "stream",
     "text": [
      "<class 'pandas.core.frame.DataFrame'>\n",
      "RangeIndex: 626 entries, 0 to 625\n",
      "Data columns (total 2 columns):\n",
      " #   Column           Non-Null Count  Dtype \n",
      "---  ------           --------------  ----- \n",
      " 0   Location         626 non-null    object\n",
      " 1   Has hepatitis C  626 non-null    object\n",
      "dtypes: object(2)\n",
      "memory usage: 9.9+ KB\n"
     ]
    }
   ],
   "source": [
    "data.info()"
   ]
  },
  {
   "cell_type": "code",
   "execution_count": 8,
   "id": "6d6378e4-b125-4c1a-8337-6cc780c872e4",
   "metadata": {},
   "outputs": [
    {
     "data": {
      "text/html": [
       "<div>\n",
       "<style scoped>\n",
       "    .dataframe tbody tr th:only-of-type {\n",
       "        vertical-align: middle;\n",
       "    }\n",
       "\n",
       "    .dataframe tbody tr th {\n",
       "        vertical-align: top;\n",
       "    }\n",
       "\n",
       "    .dataframe thead th {\n",
       "        text-align: right;\n",
       "    }\n",
       "</style>\n",
       "<table border=\"1\" class=\"dataframe\">\n",
       "  <thead>\n",
       "    <tr style=\"text-align: right;\">\n",
       "      <th></th>\n",
       "      <th>Location</th>\n",
       "      <th>Has hepatitis C</th>\n",
       "    </tr>\n",
       "  </thead>\n",
       "  <tbody>\n",
       "    <tr>\n",
       "      <th>0</th>\n",
       "      <td>Commercial Parlor</td>\n",
       "      <td>Yes</td>\n",
       "    </tr>\n",
       "    <tr>\n",
       "      <th>1</th>\n",
       "      <td>Commercial Parlor</td>\n",
       "      <td>Yes</td>\n",
       "    </tr>\n",
       "    <tr>\n",
       "      <th>2</th>\n",
       "      <td>Commercial Parlor</td>\n",
       "      <td>Yes</td>\n",
       "    </tr>\n",
       "    <tr>\n",
       "      <th>3</th>\n",
       "      <td>Commercial Parlor</td>\n",
       "      <td>Yes</td>\n",
       "    </tr>\n",
       "    <tr>\n",
       "      <th>4</th>\n",
       "      <td>Commercial Parlor</td>\n",
       "      <td>Yes</td>\n",
       "    </tr>\n",
       "  </tbody>\n",
       "</table>\n",
       "</div>"
      ],
      "text/plain": [
       "            Location Has hepatitis C\n",
       "0  Commercial Parlor             Yes\n",
       "1  Commercial Parlor             Yes\n",
       "2  Commercial Parlor             Yes\n",
       "3  Commercial Parlor             Yes\n",
       "4  Commercial Parlor             Yes"
      ]
     },
     "execution_count": 8,
     "metadata": {},
     "output_type": "execute_result"
    }
   ],
   "source": [
    "data.head()"
   ]
  },
  {
   "cell_type": "code",
   "execution_count": 11,
   "id": "945644b7-c8f9-402b-9267-fb2e84d163a3",
   "metadata": {},
   "outputs": [
    {
     "data": {
      "text/plain": [
       "Location           Has hepatitis C\n",
       "No Tattoo          No                 491\n",
       "Elsewhere          No                  53\n",
       "Commercial Parlor  No                  35\n",
       "No Tattoo          Yes                 22\n",
       "Commercial Parlor  Yes                 17\n",
       "Elsewhere          Yes                  8\n",
       "Name: count, dtype: int64"
      ]
     },
     "execution_count": 11,
     "metadata": {},
     "output_type": "execute_result"
    }
   ],
   "source": [
    "data.value_counts()"
   ]
  },
  {
   "cell_type": "code",
   "execution_count": 18,
   "id": "43c2cb10-905e-40b1-bde6-3320543f3e8c",
   "metadata": {
    "scrolled": true
   },
   "outputs": [
    {
     "data": {
      "text/html": [
       "<div>\n",
       "<style scoped>\n",
       "    .dataframe tbody tr th:only-of-type {\n",
       "        vertical-align: middle;\n",
       "    }\n",
       "\n",
       "    .dataframe tbody tr th {\n",
       "        vertical-align: top;\n",
       "    }\n",
       "\n",
       "    .dataframe thead th {\n",
       "        text-align: right;\n",
       "    }\n",
       "</style>\n",
       "<table border=\"1\" class=\"dataframe\">\n",
       "  <thead>\n",
       "    <tr style=\"text-align: right;\">\n",
       "      <th>Has hepatitis C</th>\n",
       "      <th>No</th>\n",
       "      <th>Yes</th>\n",
       "      <th>All</th>\n",
       "    </tr>\n",
       "    <tr>\n",
       "      <th>Location</th>\n",
       "      <th></th>\n",
       "      <th></th>\n",
       "      <th></th>\n",
       "    </tr>\n",
       "  </thead>\n",
       "  <tbody>\n",
       "    <tr>\n",
       "      <th>Commercial Parlor</th>\n",
       "      <td>35</td>\n",
       "      <td>17</td>\n",
       "      <td>52</td>\n",
       "    </tr>\n",
       "    <tr>\n",
       "      <th>Elsewhere</th>\n",
       "      <td>53</td>\n",
       "      <td>8</td>\n",
       "      <td>61</td>\n",
       "    </tr>\n",
       "    <tr>\n",
       "      <th>No Tattoo</th>\n",
       "      <td>491</td>\n",
       "      <td>22</td>\n",
       "      <td>513</td>\n",
       "    </tr>\n",
       "    <tr>\n",
       "      <th>All</th>\n",
       "      <td>579</td>\n",
       "      <td>47</td>\n",
       "      <td>626</td>\n",
       "    </tr>\n",
       "  </tbody>\n",
       "</table>\n",
       "</div>"
      ],
      "text/plain": [
       "Has hepatitis C     No  Yes  All\n",
       "Location                        \n",
       "Commercial Parlor   35   17   52\n",
       "Elsewhere           53    8   61\n",
       "No Tattoo          491   22  513\n",
       "All                579   47  626"
      ]
     },
     "execution_count": 18,
     "metadata": {},
     "output_type": "execute_result"
    }
   ],
   "source": [
    "pd.crosstab(index=data.Location, columns=data['Has hepatitis C'], margins=True)"
   ]
  },
  {
   "cell_type": "code",
   "execution_count": 19,
   "id": "981b5391-f9c1-4a15-bdfa-f7eafcc070db",
   "metadata": {},
   "outputs": [
    {
     "data": {
      "text/html": [
       "<div>\n",
       "<style scoped>\n",
       "    .dataframe tbody tr th:only-of-type {\n",
       "        vertical-align: middle;\n",
       "    }\n",
       "\n",
       "    .dataframe tbody tr th {\n",
       "        vertical-align: top;\n",
       "    }\n",
       "\n",
       "    .dataframe thead th {\n",
       "        text-align: right;\n",
       "    }\n",
       "</style>\n",
       "<table border=\"1\" class=\"dataframe\">\n",
       "  <thead>\n",
       "    <tr style=\"text-align: right;\">\n",
       "      <th>Has hepatitis C</th>\n",
       "      <th>No</th>\n",
       "      <th>Yes</th>\n",
       "    </tr>\n",
       "    <tr>\n",
       "      <th>Location</th>\n",
       "      <th></th>\n",
       "      <th></th>\n",
       "    </tr>\n",
       "  </thead>\n",
       "  <tbody>\n",
       "    <tr>\n",
       "      <th>Commercial Parlor</th>\n",
       "      <td>35</td>\n",
       "      <td>17</td>\n",
       "    </tr>\n",
       "    <tr>\n",
       "      <th>Elsewhere</th>\n",
       "      <td>53</td>\n",
       "      <td>8</td>\n",
       "    </tr>\n",
       "    <tr>\n",
       "      <th>No Tattoo</th>\n",
       "      <td>491</td>\n",
       "      <td>22</td>\n",
       "    </tr>\n",
       "  </tbody>\n",
       "</table>\n",
       "</div>"
      ],
      "text/plain": [
       "Has hepatitis C     No  Yes\n",
       "Location                   \n",
       "Commercial Parlor   35   17\n",
       "Elsewhere           53    8\n",
       "No Tattoo          491   22"
      ]
     },
     "execution_count": 19,
     "metadata": {},
     "output_type": "execute_result"
    }
   ],
   "source": [
    "Obs = pd.crosstab(index=data.Location, columns=data['Has hepatitis C'], margins=False)\n",
    "Obs"
   ]
  },
  {
   "cell_type": "code",
   "execution_count": 21,
   "id": "98ea10f5-7c02-4f5d-a854-7ff28dbfa783",
   "metadata": {},
   "outputs": [
    {
     "data": {
      "text/plain": [
       "626"
      ]
     },
     "execution_count": 21,
     "metadata": {},
     "output_type": "execute_result"
    }
   ],
   "source": [
    "total = Obs.sum().sum()\n",
    "total"
   ]
  },
  {
   "cell_type": "code",
   "execution_count": 22,
   "id": "5d31dfa7-c8ea-4fda-af94-00dbdeda82e0",
   "metadata": {},
   "outputs": [
    {
     "data": {
      "text/plain": [
       "Location\n",
       "Commercial Parlor     52\n",
       "Elsewhere             61\n",
       "No Tattoo            513\n",
       "dtype: int64"
      ]
     },
     "execution_count": 22,
     "metadata": {},
     "output_type": "execute_result"
    }
   ],
   "source": [
    "Obs.sum(axis=1)"
   ]
  },
  {
   "cell_type": "code",
   "execution_count": 23,
   "id": "6cc35b6d-bf17-4b07-9592-ccb59817bbde",
   "metadata": {},
   "outputs": [
    {
     "data": {
      "text/plain": [
       "Location\n",
       "Commercial Parlor    0.083067\n",
       "Elsewhere            0.097444\n",
       "No Tattoo            0.819489\n",
       "dtype: float64"
      ]
     },
     "execution_count": 23,
     "metadata": {},
     "output_type": "execute_result"
    }
   ],
   "source": [
    "total_dist = Obs.sum(axis=1) / total\n",
    "total_dist"
   ]
  },
  {
   "cell_type": "code",
   "execution_count": 24,
   "id": "9f5e5814-0842-4391-b1a7-3c5e3ff11180",
   "metadata": {},
   "outputs": [],
   "source": [
    "Exp = pd.DataFrame()"
   ]
  },
  {
   "cell_type": "code",
   "execution_count": 25,
   "id": "61658ef9-1af7-4985-9af5-0d40c6adcb47",
   "metadata": {},
   "outputs": [],
   "source": [
    "Exp['No'] = Obs.No.sum() * total_dist\n",
    "Exp['Yes'] = Obs.Yes.sum() * total_dist"
   ]
  },
  {
   "cell_type": "code",
   "execution_count": 26,
   "id": "463b10be-3b60-4b6e-909f-95cc7289d7cf",
   "metadata": {},
   "outputs": [
    {
     "data": {
      "text/html": [
       "<div>\n",
       "<style scoped>\n",
       "    .dataframe tbody tr th:only-of-type {\n",
       "        vertical-align: middle;\n",
       "    }\n",
       "\n",
       "    .dataframe tbody tr th {\n",
       "        vertical-align: top;\n",
       "    }\n",
       "\n",
       "    .dataframe thead th {\n",
       "        text-align: right;\n",
       "    }\n",
       "</style>\n",
       "<table border=\"1\" class=\"dataframe\">\n",
       "  <thead>\n",
       "    <tr style=\"text-align: right;\">\n",
       "      <th></th>\n",
       "      <th>No</th>\n",
       "      <th>Yes</th>\n",
       "    </tr>\n",
       "    <tr>\n",
       "      <th>Location</th>\n",
       "      <th></th>\n",
       "      <th></th>\n",
       "    </tr>\n",
       "  </thead>\n",
       "  <tbody>\n",
       "    <tr>\n",
       "      <th>Commercial Parlor</th>\n",
       "      <td>48.095847</td>\n",
       "      <td>3.904153</td>\n",
       "    </tr>\n",
       "    <tr>\n",
       "      <th>Elsewhere</th>\n",
       "      <td>56.420128</td>\n",
       "      <td>4.579872</td>\n",
       "    </tr>\n",
       "    <tr>\n",
       "      <th>No Tattoo</th>\n",
       "      <td>474.484026</td>\n",
       "      <td>38.515974</td>\n",
       "    </tr>\n",
       "  </tbody>\n",
       "</table>\n",
       "</div>"
      ],
      "text/plain": [
       "                           No        Yes\n",
       "Location                                \n",
       "Commercial Parlor   48.095847   3.904153\n",
       "Elsewhere           56.420128   4.579872\n",
       "No Tattoo          474.484026  38.515974"
      ]
     },
     "execution_count": 26,
     "metadata": {},
     "output_type": "execute_result"
    }
   ],
   "source": [
    "Exp"
   ]
  },
  {
   "cell_type": "code",
   "execution_count": 30,
   "id": "0d1dd2b5-82c3-4886-859d-ee7e5b70220b",
   "metadata": {},
   "outputs": [
    {
     "data": {
      "text/plain": [
       "57.91217383695929"
      ]
     },
     "execution_count": 30,
     "metadata": {},
     "output_type": "execute_result"
    }
   ],
   "source": [
    "chi_square = ( ( Obs - Exp ) ** 2 / Exp ).sum().sum()\n",
    "chi_square "
   ]
  },
  {
   "cell_type": "code",
   "execution_count": 29,
   "id": "14a54fbc-60fc-4edb-a087-f63a0fc06cfb",
   "metadata": {},
   "outputs": [],
   "source": [
    "df = 2 * 1"
   ]
  },
  {
   "cell_type": "code",
   "execution_count": 31,
   "id": "6fdc1f1a-2281-4d21-9a81-0367e2b2cd6c",
   "metadata": {},
   "outputs": [],
   "source": [
    "pval = 1 - chi2.cdf(chi_square, df)"
   ]
  },
  {
   "cell_type": "code",
   "execution_count": 32,
   "id": "c2a89be6-5dfe-4bf5-a8ba-6761f6bdd1b3",
   "metadata": {},
   "outputs": [
    {
     "data": {
      "text/plain": [
       "2.657873920952625e-13"
      ]
     },
     "execution_count": 32,
     "metadata": {},
     "output_type": "execute_result"
    }
   ],
   "source": [
    "pval"
   ]
  },
  {
   "cell_type": "code",
   "execution_count": null,
   "id": "48970ea5-cf07-4be0-9d44-a64474e733f5",
   "metadata": {},
   "outputs": [],
   "source": []
  }
 ],
 "metadata": {
  "kernelspec": {
   "display_name": "Python 3 (ipykernel)",
   "language": "python",
   "name": "python3"
  },
  "language_info": {
   "codemirror_mode": {
    "name": "ipython",
    "version": 3
   },
   "file_extension": ".py",
   "mimetype": "text/x-python",
   "name": "python",
   "nbconvert_exporter": "python",
   "pygments_lexer": "ipython3",
   "version": "3.11.5"
  }
 },
 "nbformat": 4,
 "nbformat_minor": 5
}
