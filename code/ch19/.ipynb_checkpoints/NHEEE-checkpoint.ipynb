{
 "cells": [
  {
   "cell_type": "markdown",
   "id": "be359c28-b22c-4e6a-8a43-f3df7381c83e",
   "metadata": {},
   "source": [
    "## 2023 National Higher Education Entrance Exam"
   ]
  },
  {
   "cell_type": "markdown",
   "id": "6dc06b64-5cc5-4c8c-a3aa-07cdad6e550c",
   "metadata": {},
   "source": [
    "<img src=\"NHEEE.jpg\" alt=\"image\" width=\"600\" height=\"auto\">"
   ]
  },
  {
   "cell_type": "markdown",
   "id": "a9beb8f1-8526-4866-aae7-3d78b3968b06",
   "metadata": {},
   "source": [
    "Reference: https://www.bmj.com/about-bmj/resources-readers/publications/statistics-square-one/8-chi-squared-tests"
   ]
  },
  {
   "attachments": {},
   "cell_type": "markdown",
   "id": "675f5f1f-5e09-4bfc-b0a0-eb591dff6258",
   "metadata": {},
   "source": [
    "<img src=\"two_group.jpg\" alt=\"image\" width=\"400\" height=\"auto\">"
   ]
  },
  {
   "cell_type": "markdown",
   "id": "6884ae47-8d41-4c98-b2ce-d57c6ba18488",
   "metadata": {},
   "source": [
    "<img src=\"formula.jpg\" alt=\"image\" width=\"300\" height=\"auto\">"
   ]
  }
 ],
 "metadata": {
  "kernelspec": {
   "display_name": "Python 3 (ipykernel)",
   "language": "python",
   "name": "python3"
  },
  "language_info": {
   "codemirror_mode": {
    "name": "ipython",
    "version": 3
   },
   "file_extension": ".py",
   "mimetype": "text/x-python",
   "name": "python",
   "nbconvert_exporter": "python",
   "pygments_lexer": "ipython3",
   "version": "3.11.5"
  }
 },
 "nbformat": 4,
 "nbformat_minor": 5
}
