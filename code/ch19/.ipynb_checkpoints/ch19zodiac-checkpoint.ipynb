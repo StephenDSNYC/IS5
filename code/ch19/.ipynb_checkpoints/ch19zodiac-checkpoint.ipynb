{
 "cells": [
  {
   "cell_type": "code",
   "execution_count": 1,
   "id": "f34c1d81-686a-4e6a-94a0-799ed816a0b0",
   "metadata": {},
   "outputs": [],
   "source": [
    "import pandas as pd\n",
    "# from math import sqrt\n",
    "from scipy.stats import chi2\n",
    "import matplotlib.pyplot as plt\n",
    "# from numpy import corrcoef"
   ]
  },
  {
   "cell_type": "code",
   "execution_count": 2,
   "id": "44c42cbe-7af2-41be-892a-0f39aab418af",
   "metadata": {},
   "outputs": [],
   "source": [
    "datafile = \"../../dataset/ch19/zodiac.txt\"\n",
    "data = pd.read_csv(datafile, sep='\\t')"
   ]
  },
  {
   "cell_type": "code",
   "execution_count": 3,
   "id": "546ab020-3a32-40d0-82f4-414b52e364a0",
   "metadata": {},
   "outputs": [
    {
     "name": "stdout",
     "output_type": "stream",
     "text": [
      "<class 'pandas.core.frame.DataFrame'>\n",
      "RangeIndex: 12 entries, 0 to 11\n",
      "Data columns (total 4 columns):\n",
      " #   Column    Non-Null Count  Dtype  \n",
      "---  ------    --------------  -----  \n",
      " 0   Sign      12 non-null     object \n",
      " 1   Births    12 non-null     int64  \n",
      " 2   Expected  12 non-null     float64\n",
      " 3   Residual  12 non-null     float64\n",
      "dtypes: float64(2), int64(1), object(1)\n",
      "memory usage: 516.0+ bytes\n"
     ]
    }
   ],
   "source": [
    "data.info()"
   ]
  },
  {
   "cell_type": "code",
   "execution_count": 4,
   "id": "9c68fb51-c0e0-4ba0-bcdd-bcdacaf1adc9",
   "metadata": {},
   "outputs": [
    {
     "data": {
      "text/html": [
       "<div>\n",
       "<style scoped>\n",
       "    .dataframe tbody tr th:only-of-type {\n",
       "        vertical-align: middle;\n",
       "    }\n",
       "\n",
       "    .dataframe tbody tr th {\n",
       "        vertical-align: top;\n",
       "    }\n",
       "\n",
       "    .dataframe thead th {\n",
       "        text-align: right;\n",
       "    }\n",
       "</style>\n",
       "<table border=\"1\" class=\"dataframe\">\n",
       "  <thead>\n",
       "    <tr style=\"text-align: right;\">\n",
       "      <th></th>\n",
       "      <th>Sign</th>\n",
       "      <th>Births</th>\n",
       "      <th>Expected</th>\n",
       "      <th>Residual</th>\n",
       "    </tr>\n",
       "  </thead>\n",
       "  <tbody>\n",
       "    <tr>\n",
       "      <th>0</th>\n",
       "      <td>Pisces</td>\n",
       "      <td>29</td>\n",
       "      <td>21.333</td>\n",
       "      <td>7.667</td>\n",
       "    </tr>\n",
       "    <tr>\n",
       "      <th>1</th>\n",
       "      <td>Aquarius</td>\n",
       "      <td>24</td>\n",
       "      <td>21.333</td>\n",
       "      <td>2.667</td>\n",
       "    </tr>\n",
       "    <tr>\n",
       "      <th>2</th>\n",
       "      <td>Aries</td>\n",
       "      <td>23</td>\n",
       "      <td>21.333</td>\n",
       "      <td>1.667</td>\n",
       "    </tr>\n",
       "    <tr>\n",
       "      <th>3</th>\n",
       "      <td>Cancer</td>\n",
       "      <td>23</td>\n",
       "      <td>21.333</td>\n",
       "      <td>1.667</td>\n",
       "    </tr>\n",
       "    <tr>\n",
       "      <th>4</th>\n",
       "      <td>Capricorn</td>\n",
       "      <td>22</td>\n",
       "      <td>21.333</td>\n",
       "      <td>0.667</td>\n",
       "    </tr>\n",
       "    <tr>\n",
       "      <th>5</th>\n",
       "      <td>Scorpio</td>\n",
       "      <td>21</td>\n",
       "      <td>21.333</td>\n",
       "      <td>-0.333</td>\n",
       "    </tr>\n",
       "    <tr>\n",
       "      <th>6</th>\n",
       "      <td>Taurus</td>\n",
       "      <td>20</td>\n",
       "      <td>21.333</td>\n",
       "      <td>-1.333</td>\n",
       "    </tr>\n",
       "    <tr>\n",
       "      <th>7</th>\n",
       "      <td>Leo</td>\n",
       "      <td>20</td>\n",
       "      <td>21.333</td>\n",
       "      <td>-1.333</td>\n",
       "    </tr>\n",
       "    <tr>\n",
       "      <th>8</th>\n",
       "      <td>Saggitarius</td>\n",
       "      <td>19</td>\n",
       "      <td>21.333</td>\n",
       "      <td>-2.333</td>\n",
       "    </tr>\n",
       "    <tr>\n",
       "      <th>9</th>\n",
       "      <td>Virgo</td>\n",
       "      <td>19</td>\n",
       "      <td>21.333</td>\n",
       "      <td>-2.333</td>\n",
       "    </tr>\n",
       "    <tr>\n",
       "      <th>10</th>\n",
       "      <td>Libra</td>\n",
       "      <td>18</td>\n",
       "      <td>21.333</td>\n",
       "      <td>-3.333</td>\n",
       "    </tr>\n",
       "    <tr>\n",
       "      <th>11</th>\n",
       "      <td>Gemini</td>\n",
       "      <td>18</td>\n",
       "      <td>21.333</td>\n",
       "      <td>-3.333</td>\n",
       "    </tr>\n",
       "  </tbody>\n",
       "</table>\n",
       "</div>"
      ],
      "text/plain": [
       "           Sign  Births  Expected  Residual\n",
       "0        Pisces      29    21.333     7.667\n",
       "1      Aquarius      24    21.333     2.667\n",
       "2         Aries      23    21.333     1.667\n",
       "3        Cancer      23    21.333     1.667\n",
       "4     Capricorn      22    21.333     0.667\n",
       "5       Scorpio      21    21.333    -0.333\n",
       "6        Taurus      20    21.333    -1.333\n",
       "7           Leo      20    21.333    -1.333\n",
       "8   Saggitarius      19    21.333    -2.333\n",
       "9         Virgo      19    21.333    -2.333\n",
       "10        Libra      18    21.333    -3.333\n",
       "11       Gemini      18    21.333    -3.333"
      ]
     },
     "execution_count": 4,
     "metadata": {},
     "output_type": "execute_result"
    }
   ],
   "source": [
    "data"
   ]
  },
  {
   "cell_type": "code",
   "execution_count": 5,
   "id": "ee495567-fa49-4442-a89f-94a61908ed87",
   "metadata": {},
   "outputs": [
    {
     "data": {
      "text/plain": [
       "5.093829653588338"
      ]
     },
     "execution_count": 5,
     "metadata": {},
     "output_type": "execute_result"
    }
   ],
   "source": [
    "chi2score = ( ( data.Births - data.Expected ) **2 / data.Expected ).sum()\n",
    "chi2score"
   ]
  },
  {
   "cell_type": "code",
   "execution_count": 6,
   "id": "103f321d-e0b9-42ff-9099-4892c0cc5373",
   "metadata": {},
   "outputs": [
    {
     "data": {
      "text/plain": [
       "0.9265373894155587"
      ]
     },
     "execution_count": 6,
     "metadata": {},
     "output_type": "execute_result"
    }
   ],
   "source": [
    "pval = 1 - chi2.cdf(chi2score, 11)\n",
    "pval"
   ]
  },
  {
   "cell_type": "code",
   "execution_count": null,
   "id": "4e5dc7b2-62d9-4025-a280-38a6fa854f30",
   "metadata": {},
   "outputs": [],
   "source": [
    "# fail to reject"
   ]
  }
 ],
 "metadata": {
  "kernelspec": {
   "display_name": "Python 3 (ipykernel)",
   "language": "python",
   "name": "python3"
  },
  "language_info": {
   "codemirror_mode": {
    "name": "ipython",
    "version": 3
   },
   "file_extension": ".py",
   "mimetype": "text/x-python",
   "name": "python",
   "nbconvert_exporter": "python",
   "pygments_lexer": "ipython3",
   "version": "3.11.5"
  }
 },
 "nbformat": 4,
 "nbformat_minor": 5
}
