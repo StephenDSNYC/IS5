{
 "cells": [
  {
   "cell_type": "code",
   "execution_count": 1,
   "id": "322c9fcd-0f46-46a0-94a6-6fa8c15b34fb",
   "metadata": {},
   "outputs": [],
   "source": [
    "from scipy.stats import chi2\n",
    "import pandas as pd\n",
    "import numpy as np"
   ]
  },
  {
   "cell_type": "code",
   "execution_count": 2,
   "id": "0895c182-a3ed-4156-b50a-6119a997d668",
   "metadata": {},
   "outputs": [],
   "source": [
    "Obs = pd.DataFrame(data=np.array([[209, 198, 177, 101], [104, 171, 158, 33], [135, 115, 39, 16]]), \n",
    "                    columns=['Agriculture', 'ArtsSciences', 'Engineering', 'ILR'], \n",
    "                    index=['Employed', 'GradSchool', 'Other'])"
   ]
  },
  {
   "cell_type": "code",
   "execution_count": 3,
   "id": "12ff75ec-9e2b-4e51-8d84-44e3873c24bf",
   "metadata": {},
   "outputs": [
    {
     "data": {
      "text/html": [
       "<div>\n",
       "<style scoped>\n",
       "    .dataframe tbody tr th:only-of-type {\n",
       "        vertical-align: middle;\n",
       "    }\n",
       "\n",
       "    .dataframe tbody tr th {\n",
       "        vertical-align: top;\n",
       "    }\n",
       "\n",
       "    .dataframe thead th {\n",
       "        text-align: right;\n",
       "    }\n",
       "</style>\n",
       "<table border=\"1\" class=\"dataframe\">\n",
       "  <thead>\n",
       "    <tr style=\"text-align: right;\">\n",
       "      <th></th>\n",
       "      <th>Agriculture</th>\n",
       "      <th>ArtsSciences</th>\n",
       "      <th>Engineering</th>\n",
       "      <th>ILR</th>\n",
       "    </tr>\n",
       "  </thead>\n",
       "  <tbody>\n",
       "    <tr>\n",
       "      <th>Employed</th>\n",
       "      <td>209</td>\n",
       "      <td>198</td>\n",
       "      <td>177</td>\n",
       "      <td>101</td>\n",
       "    </tr>\n",
       "    <tr>\n",
       "      <th>GradSchool</th>\n",
       "      <td>104</td>\n",
       "      <td>171</td>\n",
       "      <td>158</td>\n",
       "      <td>33</td>\n",
       "    </tr>\n",
       "    <tr>\n",
       "      <th>Other</th>\n",
       "      <td>135</td>\n",
       "      <td>115</td>\n",
       "      <td>39</td>\n",
       "      <td>16</td>\n",
       "    </tr>\n",
       "  </tbody>\n",
       "</table>\n",
       "</div>"
      ],
      "text/plain": [
       "            Agriculture  ArtsSciences  Engineering  ILR\n",
       "Employed            209           198          177  101\n",
       "GradSchool          104           171          158   33\n",
       "Other               135           115           39   16"
      ]
     },
     "execution_count": 3,
     "metadata": {},
     "output_type": "execute_result"
    }
   ],
   "source": [
    "Obs"
   ]
  },
  {
   "cell_type": "code",
   "execution_count": 4,
   "id": "548fcdf6-4bb0-4aa5-8676-91e967a7d66b",
   "metadata": {},
   "outputs": [
    {
     "data": {
      "text/plain": [
       "Agriculture     448\n",
       "ArtsSciences    484\n",
       "Engineering     374\n",
       "ILR             150\n",
       "dtype: int64"
      ]
     },
     "execution_count": 4,
     "metadata": {},
     "output_type": "execute_result"
    }
   ],
   "source": [
    "Obs.sum()"
   ]
  },
  {
   "cell_type": "code",
   "execution_count": 27,
   "id": "12475656-6c93-44bd-8d1d-68e34bdf75f4",
   "metadata": {},
   "outputs": [
    {
     "data": {
      "text/plain": [
       "1456"
      ]
     },
     "execution_count": 27,
     "metadata": {},
     "output_type": "execute_result"
    }
   ],
   "source": [
    "total=Obs.sum().sum()\n",
    "total"
   ]
  },
  {
   "cell_type": "code",
   "execution_count": 6,
   "id": "1bd6aa91-bbee-448a-be4f-06177d2f55cc",
   "metadata": {},
   "outputs": [],
   "source": [
    "Exp = pd.DataFrame()"
   ]
  },
  {
   "cell_type": "code",
   "execution_count": 8,
   "id": "606fc787-470a-4342-9eef-444c8a6407b3",
   "metadata": {},
   "outputs": [
    {
     "data": {
      "text/plain": [
       "Employed      0.470467\n",
       "GradSchool    0.320055\n",
       "Other         0.209478\n",
       "dtype: float64"
      ]
     },
     "execution_count": 8,
     "metadata": {},
     "output_type": "execute_result"
    }
   ],
   "source": [
    "total_dist = Obs.sum(axis=1)/total\n",
    "total_dist"
   ]
  },
  {
   "cell_type": "code",
   "execution_count": 11,
   "id": "551ad8cd-4329-482d-8a36-35cce3d6f311",
   "metadata": {},
   "outputs": [],
   "source": [
    "Exp['Agriculture'] = total_dist * Obs.Agriculture.sum()\n",
    "Exp['ArtsSciences'] = total_dist * Obs.ArtsSciences.sum()\n",
    "Exp['Engineering'] = total_dist * Obs.Engineering.sum()\n",
    "Exp['ILR'] = total_dist * Obs.ILR.sum()"
   ]
  },
  {
   "cell_type": "code",
   "execution_count": 12,
   "id": "4c528b13-f724-4036-8537-fe695b179b7b",
   "metadata": {},
   "outputs": [
    {
     "data": {
      "text/html": [
       "<div>\n",
       "<style scoped>\n",
       "    .dataframe tbody tr th:only-of-type {\n",
       "        vertical-align: middle;\n",
       "    }\n",
       "\n",
       "    .dataframe tbody tr th {\n",
       "        vertical-align: top;\n",
       "    }\n",
       "\n",
       "    .dataframe thead th {\n",
       "        text-align: right;\n",
       "    }\n",
       "</style>\n",
       "<table border=\"1\" class=\"dataframe\">\n",
       "  <thead>\n",
       "    <tr style=\"text-align: right;\">\n",
       "      <th></th>\n",
       "      <th>Agriculture</th>\n",
       "      <th>ArtsSciences</th>\n",
       "      <th>Engineering</th>\n",
       "      <th>ILR</th>\n",
       "    </tr>\n",
       "  </thead>\n",
       "  <tbody>\n",
       "    <tr>\n",
       "      <th>Employed</th>\n",
       "      <td>210.769231</td>\n",
       "      <td>227.706044</td>\n",
       "      <td>175.954670</td>\n",
       "      <td>70.570055</td>\n",
       "    </tr>\n",
       "    <tr>\n",
       "      <th>GradSchool</th>\n",
       "      <td>143.384615</td>\n",
       "      <td>154.906593</td>\n",
       "      <td>119.700549</td>\n",
       "      <td>48.008242</td>\n",
       "    </tr>\n",
       "    <tr>\n",
       "      <th>Other</th>\n",
       "      <td>93.846154</td>\n",
       "      <td>101.387363</td>\n",
       "      <td>78.344780</td>\n",
       "      <td>31.421703</td>\n",
       "    </tr>\n",
       "  </tbody>\n",
       "</table>\n",
       "</div>"
      ],
      "text/plain": [
       "            Agriculture  ArtsSciences  Engineering        ILR\n",
       "Employed     210.769231    227.706044   175.954670  70.570055\n",
       "GradSchool   143.384615    154.906593   119.700549  48.008242\n",
       "Other         93.846154    101.387363    78.344780  31.421703"
      ]
     },
     "execution_count": 12,
     "metadata": {},
     "output_type": "execute_result"
    }
   ],
   "source": [
    "Exp"
   ]
  },
  {
   "cell_type": "code",
   "execution_count": 17,
   "id": "3e57637e-8175-47c6-9c7a-9a29342becd3",
   "metadata": {},
   "outputs": [
    {
     "data": {
      "text/plain": [
       "93.65667028628437"
      ]
     },
     "execution_count": 17,
     "metadata": {},
     "output_type": "execute_result"
    }
   ],
   "source": [
    "chi_square = (( Obs - Exp ) ** 2 / Exp).sum().sum()\n",
    "chi_square"
   ]
  },
  {
   "cell_type": "code",
   "execution_count": 18,
   "id": "22ffe7ea-9931-4dd0-8484-7cbdddb46f2c",
   "metadata": {},
   "outputs": [],
   "source": [
    "df = 2 * 3"
   ]
  },
  {
   "cell_type": "code",
   "execution_count": 23,
   "id": "c6290134-63ef-435a-ae9d-ac2d20e000d8",
   "metadata": {},
   "outputs": [
    {
     "name": "stdout",
     "output_type": "stream",
     "text": [
      "0.00e+00\n"
     ]
    }
   ],
   "source": [
    "pval = 1 - chi2.cdf(chi_square, df)\n",
    "print(f\"{pval:.2e}\")"
   ]
  },
  {
   "cell_type": "code",
   "execution_count": null,
   "id": "710498bc-de49-48e5-a4e7-85bc2ad51f95",
   "metadata": {},
   "outputs": [],
   "source": [
    "# reject the null, regardless of chosen alpha level"
   ]
  },
  {
   "cell_type": "code",
   "execution_count": 25,
   "id": "56830d45-b595-4dcf-ad5b-8f0b937653b3",
   "metadata": {},
   "outputs": [
    {
     "data": {
      "text/html": [
       "<div>\n",
       "<style scoped>\n",
       "    .dataframe tbody tr th:only-of-type {\n",
       "        vertical-align: middle;\n",
       "    }\n",
       "\n",
       "    .dataframe tbody tr th {\n",
       "        vertical-align: top;\n",
       "    }\n",
       "\n",
       "    .dataframe thead th {\n",
       "        text-align: right;\n",
       "    }\n",
       "</style>\n",
       "<table border=\"1\" class=\"dataframe\">\n",
       "  <thead>\n",
       "    <tr style=\"text-align: right;\">\n",
       "      <th></th>\n",
       "      <th>Agriculture</th>\n",
       "      <th>ArtsSciences</th>\n",
       "      <th>Engineering</th>\n",
       "      <th>ILR</th>\n",
       "    </tr>\n",
       "  </thead>\n",
       "  <tbody>\n",
       "    <tr>\n",
       "      <th>Employed</th>\n",
       "      <td>-0.121866</td>\n",
       "      <td>-1.968600</td>\n",
       "      <td>0.078805</td>\n",
       "      <td>3.622354</td>\n",
       "    </tr>\n",
       "    <tr>\n",
       "      <th>GradSchool</th>\n",
       "      <td>-3.289087</td>\n",
       "      <td>1.293043</td>\n",
       "      <td>3.500616</td>\n",
       "      <td>-2.166067</td>\n",
       "    </tr>\n",
       "    <tr>\n",
       "      <th>Other</th>\n",
       "      <td>4.248173</td>\n",
       "      <td>1.351918</td>\n",
       "      <td>-4.445106</td>\n",
       "      <td>-2.751170</td>\n",
       "    </tr>\n",
       "  </tbody>\n",
       "</table>\n",
       "</div>"
      ],
      "text/plain": [
       "            Agriculture  ArtsSciences  Engineering       ILR\n",
       "Employed      -0.121866     -1.968600     0.078805  3.622354\n",
       "GradSchool    -3.289087      1.293043     3.500616 -2.166067\n",
       "Other          4.248173      1.351918    -4.445106 -2.751170"
      ]
     },
     "execution_count": 25,
     "metadata": {},
     "output_type": "execute_result"
    }
   ],
   "source": [
    "( Obs - Exp ) / np.sqrt( Exp )"
   ]
  },
  {
   "cell_type": "code",
   "execution_count": 26,
   "id": "f0a80e5c-62a1-4934-89dc-771dd52cf4da",
   "metadata": {},
   "outputs": [
    {
     "data": {
      "text/html": [
       "<div>\n",
       "<style scoped>\n",
       "    .dataframe tbody tr th:only-of-type {\n",
       "        vertical-align: middle;\n",
       "    }\n",
       "\n",
       "    .dataframe tbody tr th {\n",
       "        vertical-align: top;\n",
       "    }\n",
       "\n",
       "    .dataframe thead th {\n",
       "        text-align: right;\n",
       "    }\n",
       "</style>\n",
       "<table border=\"1\" class=\"dataframe\">\n",
       "  <thead>\n",
       "    <tr style=\"text-align: right;\">\n",
       "      <th></th>\n",
       "      <th>Agriculture</th>\n",
       "      <th>ArtsSciences</th>\n",
       "      <th>Engineering</th>\n",
       "      <th>ILR</th>\n",
       "    </tr>\n",
       "  </thead>\n",
       "  <tbody>\n",
       "    <tr>\n",
       "      <th>Employed</th>\n",
       "      <td>0.014851</td>\n",
       "      <td>3.875387</td>\n",
       "      <td>0.006210</td>\n",
       "      <td>13.121452</td>\n",
       "    </tr>\n",
       "    <tr>\n",
       "      <th>GradSchool</th>\n",
       "      <td>10.818092</td>\n",
       "      <td>1.671961</td>\n",
       "      <td>12.254312</td>\n",
       "      <td>4.691847</td>\n",
       "    </tr>\n",
       "    <tr>\n",
       "      <th>Other</th>\n",
       "      <td>18.046974</td>\n",
       "      <td>1.827682</td>\n",
       "      <td>19.758964</td>\n",
       "      <td>7.568938</td>\n",
       "    </tr>\n",
       "  </tbody>\n",
       "</table>\n",
       "</div>"
      ],
      "text/plain": [
       "            Agriculture  ArtsSciences  Engineering        ILR\n",
       "Employed       0.014851      3.875387     0.006210  13.121452\n",
       "GradSchool    10.818092      1.671961    12.254312   4.691847\n",
       "Other         18.046974      1.827682    19.758964   7.568938"
      ]
     },
     "execution_count": 26,
     "metadata": {},
     "output_type": "execute_result"
    }
   ],
   "source": [
    "( Obs - Exp ) ** 2 / Exp"
   ]
  },
  {
   "cell_type": "code",
   "execution_count": null,
   "id": "cc504968-65e0-4cef-b302-96600e964a50",
   "metadata": {},
   "outputs": [],
   "source": []
  }
 ],
 "metadata": {
  "kernelspec": {
   "display_name": "Python 3 (ipykernel)",
   "language": "python",
   "name": "python3"
  },
  "language_info": {
   "codemirror_mode": {
    "name": "ipython",
    "version": 3
   },
   "file_extension": ".py",
   "mimetype": "text/x-python",
   "name": "python",
   "nbconvert_exporter": "python",
   "pygments_lexer": "ipython3",
   "version": "3.11.5"
  }
 },
 "nbformat": 4,
 "nbformat_minor": 5
}
