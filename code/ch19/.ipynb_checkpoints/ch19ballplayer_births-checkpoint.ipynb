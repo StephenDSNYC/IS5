{
 "cells": [
  {
   "cell_type": "code",
   "execution_count": 1,
   "id": "9b983928-3fe3-4adc-bbe7-7b980bb845f9",
   "metadata": {},
   "outputs": [],
   "source": [
    "import pandas as pd\n",
    "# from math import sqrt\n",
    "from scipy.stats import chi2\n",
    "import matplotlib.pyplot as plt\n",
    "# from numpy import corrcoef"
   ]
  },
  {
   "cell_type": "code",
   "execution_count": 2,
   "id": "b98d8866-6b0a-4680-bb08-3c6918924223",
   "metadata": {},
   "outputs": [],
   "source": [
    "datafile = \"../../dataset/ch19/ballplayer_births.txt\"\n",
    "data = pd.read_csv(datafile, sep='\\t')"
   ]
  },
  {
   "cell_type": "code",
   "execution_count": 3,
   "id": "8354cc31-c48e-4b0f-90d1-7f1b17d76570",
   "metadata": {},
   "outputs": [
    {
     "name": "stdout",
     "output_type": "stream",
     "text": [
      "<class 'pandas.core.frame.DataFrame'>\n",
      "RangeIndex: 12 entries, 0 to 11\n",
      "Data columns (total 2 columns):\n",
      " #   Column            Non-Null Count  Dtype\n",
      "---  ------            --------------  -----\n",
      " 0   Ballplayer Count  12 non-null     int64\n",
      " 1   Month             12 non-null     int64\n",
      "dtypes: int64(2)\n",
      "memory usage: 324.0 bytes\n"
     ]
    }
   ],
   "source": [
    "data.info()"
   ]
  },
  {
   "cell_type": "code",
   "execution_count": 4,
   "id": "52c338f4-da47-4862-8d97-df17c3cf91e5",
   "metadata": {},
   "outputs": [
    {
     "data": {
      "text/html": [
       "<div>\n",
       "<style scoped>\n",
       "    .dataframe tbody tr th:only-of-type {\n",
       "        vertical-align: middle;\n",
       "    }\n",
       "\n",
       "    .dataframe tbody tr th {\n",
       "        vertical-align: top;\n",
       "    }\n",
       "\n",
       "    .dataframe thead th {\n",
       "        text-align: right;\n",
       "    }\n",
       "</style>\n",
       "<table border=\"1\" class=\"dataframe\">\n",
       "  <thead>\n",
       "    <tr style=\"text-align: right;\">\n",
       "      <th></th>\n",
       "      <th>Ballplayer Count</th>\n",
       "      <th>Month</th>\n",
       "    </tr>\n",
       "  </thead>\n",
       "  <tbody>\n",
       "    <tr>\n",
       "      <th>0</th>\n",
       "      <td>137</td>\n",
       "      <td>1</td>\n",
       "    </tr>\n",
       "    <tr>\n",
       "      <th>1</th>\n",
       "      <td>121</td>\n",
       "      <td>2</td>\n",
       "    </tr>\n",
       "    <tr>\n",
       "      <th>2</th>\n",
       "      <td>116</td>\n",
       "      <td>3</td>\n",
       "    </tr>\n",
       "    <tr>\n",
       "      <th>3</th>\n",
       "      <td>121</td>\n",
       "      <td>4</td>\n",
       "    </tr>\n",
       "    <tr>\n",
       "      <th>4</th>\n",
       "      <td>126</td>\n",
       "      <td>5</td>\n",
       "    </tr>\n",
       "    <tr>\n",
       "      <th>5</th>\n",
       "      <td>114</td>\n",
       "      <td>6</td>\n",
       "    </tr>\n",
       "    <tr>\n",
       "      <th>6</th>\n",
       "      <td>102</td>\n",
       "      <td>7</td>\n",
       "    </tr>\n",
       "    <tr>\n",
       "      <th>7</th>\n",
       "      <td>165</td>\n",
       "      <td>8</td>\n",
       "    </tr>\n",
       "    <tr>\n",
       "      <th>8</th>\n",
       "      <td>134</td>\n",
       "      <td>9</td>\n",
       "    </tr>\n",
       "    <tr>\n",
       "      <th>9</th>\n",
       "      <td>115</td>\n",
       "      <td>10</td>\n",
       "    </tr>\n",
       "    <tr>\n",
       "      <th>10</th>\n",
       "      <td>105</td>\n",
       "      <td>11</td>\n",
       "    </tr>\n",
       "    <tr>\n",
       "      <th>11</th>\n",
       "      <td>122</td>\n",
       "      <td>12</td>\n",
       "    </tr>\n",
       "  </tbody>\n",
       "</table>\n",
       "</div>"
      ],
      "text/plain": [
       "    Ballplayer Count  Month\n",
       "0                137      1\n",
       "1                121      2\n",
       "2                116      3\n",
       "3                121      4\n",
       "4                126      5\n",
       "5                114      6\n",
       "6                102      7\n",
       "7                165      8\n",
       "8                134      9\n",
       "9                115     10\n",
       "10               105     11\n",
       "11               122     12"
      ]
     },
     "execution_count": 4,
     "metadata": {},
     "output_type": "execute_result"
    }
   ],
   "source": [
    "data"
   ]
  },
  {
   "cell_type": "code",
   "execution_count": 12,
   "id": "1cd14ca2-fd12-41fb-b859-e13109dc4586",
   "metadata": {},
   "outputs": [
    {
     "data": {
      "text/plain": [
       "1478"
      ]
     },
     "execution_count": 12,
     "metadata": {},
     "output_type": "execute_result"
    }
   ],
   "source": [
    "ballplayers = data['Ballplayer Count'].sum()\n",
    "ballplayers.sum()"
   ]
  },
  {
   "cell_type": "code",
   "execution_count": 8,
   "id": "52d94e4c-2533-4806-bb11-0cc938238972",
   "metadata": {},
   "outputs": [],
   "source": [
    "data['National Birth Percent'] = [0.08, 0.07, 0.08, 0.08, 0.08, 0.08, 0.09, 0.09, 0.09, 0.09, 0.08, 0.09]"
   ]
  },
  {
   "cell_type": "code",
   "execution_count": 9,
   "id": "ef06d34f-7079-4d7c-8c38-a38ff3694fa1",
   "metadata": {},
   "outputs": [],
   "source": [
    "data['Expected'] = data['National Birth Percent'] * ballplayers"
   ]
  },
  {
   "cell_type": "code",
   "execution_count": 10,
   "id": "3385fe45-30b9-4a9c-8faa-e0ff017a4ae0",
   "metadata": {},
   "outputs": [
    {
     "data": {
      "text/html": [
       "<div>\n",
       "<style scoped>\n",
       "    .dataframe tbody tr th:only-of-type {\n",
       "        vertical-align: middle;\n",
       "    }\n",
       "\n",
       "    .dataframe tbody tr th {\n",
       "        vertical-align: top;\n",
       "    }\n",
       "\n",
       "    .dataframe thead th {\n",
       "        text-align: right;\n",
       "    }\n",
       "</style>\n",
       "<table border=\"1\" class=\"dataframe\">\n",
       "  <thead>\n",
       "    <tr style=\"text-align: right;\">\n",
       "      <th></th>\n",
       "      <th>Ballplayer Count</th>\n",
       "      <th>Month</th>\n",
       "      <th>National Birth Percent</th>\n",
       "      <th>Expected</th>\n",
       "    </tr>\n",
       "  </thead>\n",
       "  <tbody>\n",
       "    <tr>\n",
       "      <th>0</th>\n",
       "      <td>137</td>\n",
       "      <td>1</td>\n",
       "      <td>0.08</td>\n",
       "      <td>118.24</td>\n",
       "    </tr>\n",
       "    <tr>\n",
       "      <th>1</th>\n",
       "      <td>121</td>\n",
       "      <td>2</td>\n",
       "      <td>0.07</td>\n",
       "      <td>103.46</td>\n",
       "    </tr>\n",
       "    <tr>\n",
       "      <th>2</th>\n",
       "      <td>116</td>\n",
       "      <td>3</td>\n",
       "      <td>0.08</td>\n",
       "      <td>118.24</td>\n",
       "    </tr>\n",
       "    <tr>\n",
       "      <th>3</th>\n",
       "      <td>121</td>\n",
       "      <td>4</td>\n",
       "      <td>0.08</td>\n",
       "      <td>118.24</td>\n",
       "    </tr>\n",
       "    <tr>\n",
       "      <th>4</th>\n",
       "      <td>126</td>\n",
       "      <td>5</td>\n",
       "      <td>0.08</td>\n",
       "      <td>118.24</td>\n",
       "    </tr>\n",
       "    <tr>\n",
       "      <th>5</th>\n",
       "      <td>114</td>\n",
       "      <td>6</td>\n",
       "      <td>0.08</td>\n",
       "      <td>118.24</td>\n",
       "    </tr>\n",
       "    <tr>\n",
       "      <th>6</th>\n",
       "      <td>102</td>\n",
       "      <td>7</td>\n",
       "      <td>0.09</td>\n",
       "      <td>133.02</td>\n",
       "    </tr>\n",
       "    <tr>\n",
       "      <th>7</th>\n",
       "      <td>165</td>\n",
       "      <td>8</td>\n",
       "      <td>0.09</td>\n",
       "      <td>133.02</td>\n",
       "    </tr>\n",
       "    <tr>\n",
       "      <th>8</th>\n",
       "      <td>134</td>\n",
       "      <td>9</td>\n",
       "      <td>0.09</td>\n",
       "      <td>133.02</td>\n",
       "    </tr>\n",
       "    <tr>\n",
       "      <th>9</th>\n",
       "      <td>115</td>\n",
       "      <td>10</td>\n",
       "      <td>0.09</td>\n",
       "      <td>133.02</td>\n",
       "    </tr>\n",
       "    <tr>\n",
       "      <th>10</th>\n",
       "      <td>105</td>\n",
       "      <td>11</td>\n",
       "      <td>0.08</td>\n",
       "      <td>118.24</td>\n",
       "    </tr>\n",
       "    <tr>\n",
       "      <th>11</th>\n",
       "      <td>122</td>\n",
       "      <td>12</td>\n",
       "      <td>0.09</td>\n",
       "      <td>133.02</td>\n",
       "    </tr>\n",
       "  </tbody>\n",
       "</table>\n",
       "</div>"
      ],
      "text/plain": [
       "    Ballplayer Count  Month  National Birth Percent  Expected\n",
       "0                137      1                    0.08    118.24\n",
       "1                121      2                    0.07    103.46\n",
       "2                116      3                    0.08    118.24\n",
       "3                121      4                    0.08    118.24\n",
       "4                126      5                    0.08    118.24\n",
       "5                114      6                    0.08    118.24\n",
       "6                102      7                    0.09    133.02\n",
       "7                165      8                    0.09    133.02\n",
       "8                134      9                    0.09    133.02\n",
       "9                115     10                    0.09    133.02\n",
       "10               105     11                    0.08    118.24\n",
       "11               122     12                    0.09    133.02"
      ]
     },
     "execution_count": 10,
     "metadata": {},
     "output_type": "execute_result"
    }
   ],
   "source": [
    "data"
   ]
  },
  {
   "cell_type": "code",
   "execution_count": 11,
   "id": "f03a3d7f-44da-4eaa-848a-701230cae3df",
   "metadata": {},
   "outputs": [
    {
     "data": {
      "text/plain": [
       "1478.0"
      ]
     },
     "execution_count": 11,
     "metadata": {},
     "output_type": "execute_result"
    }
   ],
   "source": [
    "data['Expected'].sum()"
   ]
  },
  {
   "cell_type": "code",
   "execution_count": 14,
   "id": "112b82cd-ad42-41b3-9bbd-09052bd84551",
   "metadata": {},
   "outputs": [
    {
     "data": {
      "text/plain": [
       "26.48442232102583"
      ]
     },
     "execution_count": 14,
     "metadata": {},
     "output_type": "execute_result"
    }
   ],
   "source": [
    "chi2score = ((data['Ballplayer Count']-data['Expected']) ** 2 / data['Expected']).sum()\n",
    "chi2score"
   ]
  },
  {
   "cell_type": "code",
   "execution_count": 16,
   "id": "05cf6782-78a5-400c-9698-b1ac39af6a6e",
   "metadata": {},
   "outputs": [
    {
     "data": {
      "text/plain": [
       "0.005494028084185865"
      ]
     },
     "execution_count": 16,
     "metadata": {},
     "output_type": "execute_result"
    }
   ],
   "source": [
    "pval = 1 - chi2.cdf(chi2score, 11)\n",
    "pval"
   ]
  },
  {
   "cell_type": "code",
   "execution_count": null,
   "id": "fb4f3a34-cbd7-476f-aabe-77a98f449aa9",
   "metadata": {},
   "outputs": [],
   "source": [
    "# reject"
   ]
  }
 ],
 "metadata": {
  "kernelspec": {
   "display_name": "Python 3 (ipykernel)",
   "language": "python",
   "name": "python3"
  },
  "language_info": {
   "codemirror_mode": {
    "name": "ipython",
    "version": 3
   },
   "file_extension": ".py",
   "mimetype": "text/x-python",
   "name": "python",
   "nbconvert_exporter": "python",
   "pygments_lexer": "ipython3",
   "version": "3.11.5"
  }
 },
 "nbformat": 4,
 "nbformat_minor": 5
}
