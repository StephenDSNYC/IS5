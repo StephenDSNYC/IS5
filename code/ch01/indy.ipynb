{
 "cells": [
  {
   "cell_type": "code",
   "execution_count": 3,
   "id": "16008bcd",
   "metadata": {},
   "outputs": [],
   "source": [
    "import pandas as pd\n",
    "import numpy as np\n",
    "import scipy\n",
    "import matplotlib as mpl"
   ]
  },
  {
   "cell_type": "code",
   "execution_count": 8,
   "id": "ffbf60ac",
   "metadata": {},
   "outputs": [
    {
     "data": {
      "text/plain": [
       "'C:\\\\Users\\\\sc522\\\\PROJECTS\\\\STAT\\\\IntroStats5th'"
      ]
     },
     "execution_count": 8,
     "metadata": {},
     "output_type": "execute_result"
    }
   ],
   "source": [
    "%pwd"
   ]
  },
  {
   "cell_type": "code",
   "execution_count": 11,
   "id": "b824caa4",
   "metadata": {},
   "outputs": [],
   "source": [
    "indy500 = pd.read_csv('dataset\\indy_500_2016.txt', sep='\\t')"
   ]
  },
  {
   "cell_type": "code",
   "execution_count": 12,
   "id": "1ab61330",
   "metadata": {},
   "outputs": [
    {
     "name": "stdout",
     "output_type": "stream",
     "text": [
      "    Year              Winner   Chassis     Engine  Speed computed      Time  \\\n",
      "0   1911         Ray Harroun    Marmon     Marmon       74.602122  6.702222   \n",
      "1   1912          Joe Dawson  National   National       78.719496  6.351667   \n",
      "2   1913          Jules Goux   Peugeot    Peugeot       75.933347  6.584722   \n",
      "3   1914         Rene Thomas    Delage     Delage       82.474227  6.062500   \n",
      "4   1915       Ralph DePalma  Mercedes   Mercedes       89.840488  5.565419   \n",
      "..   ...                 ...       ...        ...             ...       ...   \n",
      "95  2012    Dario Franchitti   Dallara      Honda      167.734370  2.980904   \n",
      "96  2013         Tony Kanaan   Dallara  Chevrolet      187.433260  2.667616   \n",
      "97  2014    Ryan Hunter-Reay   Dallara      Honda      186.562710  2.680064   \n",
      "98  2015  Juan Pablo Montoya   Dallara  Chevrolet      161.340510  3.099036   \n",
      "99  2016     Alexander Rossi   Dallara      Honda      166.665320  3.000024   \n",
      "\n",
      "    Distance  Car_No  Start                                   Car_Name  \\\n",
      "0      500.0      32   28.0                              Marmon \"Wasp\"   \n",
      "1      500.0       8    7.0                                   National   \n",
      "2      500.0      16    7.0                                    Peugeot   \n",
      "3      500.0      16   15.0                                     Delage   \n",
      "4      500.0       2    2.0                                   Mercedes   \n",
      "..       ...     ...    ...                                        ...   \n",
      "95     500.0      50   16.0                 Target Chip Ganassi Racing   \n",
      "96     500.0      11   12.0  Hydroxycut KV Racing Technology-SH Racing   \n",
      "97     500.0      28   19.0                                  DHL Honda   \n",
      "98     500.0       2    NaN                                        NaN   \n",
      "99     500.0      98    NaN                                        NaN   \n",
      "\n",
      "      Date  Qual_Speed     Race_Time  Hours  Minutes  Seconds  \n",
      "0   30-May       0.000       6:42:08      6       42   8.0000  \n",
      "1   30-May      86.130       6:21:06      6       21   6.0000  \n",
      "2   30-May      86.030       6:35:05      6       35   5.0000  \n",
      "3   30-May      94.540       6:03:45      6        3  45.0000  \n",
      "4   31-May      98.580    5:33:55.51      5       33  55.5100  \n",
      "..     ...         ...           ...    ...      ...      ...  \n",
      "95  30-May     223.582  2:58:51.2532      2       58  51.2532  \n",
      "96  30-May     226.949  2:40:03.4181      2       40   3.4181  \n",
      "97  25-May     229.719  2:40:48.2305      2       40  48.2305  \n",
      "98  24-May         NaN  3:05:56.5286      3        5  56.5286  \n",
      "99  29-May         NaN  3:00:02.0872      3        0   0.0872  \n",
      "\n",
      "[100 rows x 16 columns]\n"
     ]
    }
   ],
   "source": [
    "print(indy500)"
   ]
  }
 ],
 "metadata": {
  "kernelspec": {
   "display_name": "Python 3 (ipykernel)",
   "language": "python",
   "name": "python3"
  },
  "language_info": {
   "codemirror_mode": {
    "name": "ipython",
    "version": 3
   },
   "file_extension": ".py",
   "mimetype": "text/x-python",
   "name": "python",
   "nbconvert_exporter": "python",
   "pygments_lexer": "ipython3",
   "version": "3.11.3"
  }
 },
 "nbformat": 4,
 "nbformat_minor": 5
}
