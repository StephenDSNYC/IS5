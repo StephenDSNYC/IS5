{
 "cells": [
  {
   "cell_type": "markdown",
   "id": "e11f14ae-9765-47b7-850e-4ace1c288159",
   "metadata": {},
   "source": [
    "Among 400 ingots, 68 have defects\n",
    "\n",
    "$n = 400$\n",
    "\n",
    "$k = 68$\n",
    "\n",
    "We can assume normal.  (check the conditions!)"
   ]
  },
  {
   "cell_type": "code",
   "execution_count": 3,
   "id": "4c57d8ee-66e8-4d2a-9e8e-8da4aaf01b50",
   "metadata": {},
   "outputs": [],
   "source": [
    "from math import sqrt\n",
    "from scipy.stats import norm"
   ]
  },
  {
   "cell_type": "code",
   "execution_count": 12,
   "id": "15ac1157-9768-41f6-91a6-6d96d19ec91c",
   "metadata": {},
   "outputs": [
    {
     "name": "stdout",
     "output_type": "stream",
     "text": [
      "95% CI: (0.133, 0.207)\n"
     ]
    }
   ],
   "source": [
    "def ci1():\n",
    "    n = 400\n",
    "    k = 68\n",
    "    p_hat = k / n\n",
    "    SE = sqrt( p_hat * (1-p_hat) / n)\n",
    "    z = norm.ppf(0.975)\n",
    "    ME = z * SE\n",
    "    print(f\"95% CI: ({p_hat - ME:.3f}, {p_hat + ME:.3f})\")\n",
    "ci1()"
   ]
  },
  {
   "cell_type": "markdown",
   "id": "a353ee98-4ef4-4a91-8d9c-e05eb8c16765",
   "metadata": {},
   "source": [
    "Note that, when cacluating CI, we do not assume knowledge of true value of $p$.\n",
    "\n",
    "We are 95% confident that changes in the casting process have resulted in a rate of defect between 13.3% and 20.7%.  Since this interval covers the original estimate of 20%, we can hardly claim any improvement.\n",
    "\n",
    "The Hypothesis Testing (HT) will also prove this."
   ]
  },
  {
   "cell_type": "markdown",
   "id": "0e56af10-1ef0-49cc-b506-2a39a20a4e79",
   "metadata": {},
   "source": [
    "Null hypothesis $H_0$: $p_0 = 0.2$"
   ]
  },
  {
   "cell_type": "code",
   "execution_count": 14,
   "id": "ed15a7b9-d266-4d21-9939-ba20a797eda2",
   "metadata": {},
   "outputs": [
    {
     "name": "stdout",
     "output_type": "stream",
     "text": [
      "p-value: 0.134\n"
     ]
    }
   ],
   "source": [
    "def ht1():\n",
    "    n = 400\n",
    "    k = 68\n",
    "    p_hat = k / n\n",
    "    p0 = 0.2\n",
    "    sp0 = sqrt(p0 * (1-p0) / n)\n",
    "    z1 = (p_hat - p0) / sp0\n",
    "    z2 = -z1\n",
    "    p_val = 2 * norm.cdf(z1)\n",
    "    print(f\"p-value: {p_val:.3f}\")\n",
    "ht1()"
   ]
  },
  {
   "cell_type": "markdown",
   "id": "9857da9b-667a-4625-b8ef-f5ed2246ce62",
   "metadata": {},
   "source": [
    "In HT, $H_0$ provides an assumed true parameter value.  Our analysis proceeds with the assumption of the parameter value.\n",
    "\n",
    "Taking a threshold p-value of 5%, we failed to reject the null hypothesis (so we should retain it).  There is no strong evidence that the changes in processing have lowered the defect rate."
   ]
  },
  {
   "cell_type": "markdown",
   "id": "e454cace-ec89-4945-9387-2300bf8e46ee",
   "metadata": {},
   "source": [
    "Now think about what happens if the engineers take a larger sample.  Suppose they collect 10 times, i.e. 4000 ignots and found that 680 have cracks."
   ]
  },
  {
   "cell_type": "code",
   "execution_count": 16,
   "id": "7b7c9690-2117-499c-a818-a87a2726bc89",
   "metadata": {},
   "outputs": [
    {
     "name": "stdout",
     "output_type": "stream",
     "text": [
      "95% CI: (0.158, 0.182)\n"
     ]
    }
   ],
   "source": [
    "def ci2():\n",
    "    n = 400 * 10\n",
    "    k = 68 * 10\n",
    "    p_hat = k / n\n",
    "    SE = sqrt( p_hat * (1-p_hat) / n)\n",
    "    z = norm.ppf(0.975)\n",
    "    ME = z * SE\n",
    "    print(f\"95% CI: ({p_hat - ME:.3f}, {p_hat + ME:.3f})\")\n",
    "ci2()"
   ]
  },
  {
   "cell_type": "code",
   "execution_count": 18,
   "id": "c4a8d55e-8b88-4534-a6b8-495b1b1dafcb",
   "metadata": {},
   "outputs": [
    {
     "name": "stdout",
     "output_type": "stream",
     "text": [
      "p-value: 0.000002\n"
     ]
    }
   ],
   "source": [
    "def ht1():\n",
    "    n = 400 * 10\n",
    "    k = 68 * 10\n",
    "    p_hat = k / n\n",
    "    p0 = 0.2\n",
    "    sp0 = sqrt(p0 * (1-p0) / n)\n",
    "    z1 = (p_hat - p0) / sp0\n",
    "    z2 = -z1\n",
    "    p_val = 2 * norm.cdf(z1)\n",
    "    print(f\"p-value: {p_val:.6f}\")\n",
    "ht1()"
   ]
  },
  {
   "cell_type": "markdown",
   "id": "96f4c3f5-1a34-47a7-8de3-6accf28b4441",
   "metadata": {},
   "source": [
    "We see that, although the estimated $\\hat{p}$ has not changed, since $n$ is 10 times as large, our estimate becomes more precise and we now have a strong enough evidence to reject the hypothesis.  We embrace the alternative hypothesis that rate of defects has indeed changed, and in this case specifically, it is lowered."
   ]
  },
  {
   "cell_type": "markdown",
   "id": "aa4c0855-d144-4d2b-9ef1-83af4053f2e1",
   "metadata": {},
   "source": [
    "# Summary:\n",
    "\n",
    "In HT, we start with a null hypothesis (a conservative, skeptical claim about a model parameter, which we would potentially overturn), whose opposite is what we call the alternative hypothesis.  We collect data and analyze same to reach two possible conclusions:\n",
    "\n",
    "1. assuming $H_0$ is true, the data suggest a low p-value smaller than a threshold that we choose, and we can reject the null hypothesis in favor of thee alternative hypothesis.\n",
    "2. otherwise, if the p-value is common (i.e., above the chosen threshold), we \"failed to reject\" the null hypothesis.  In this case, we retain $H_0$."
   ]
  }
 ],
 "metadata": {
  "kernelspec": {
   "display_name": "Python 3 (ipykernel)",
   "language": "python",
   "name": "python3"
  },
  "language_info": {
   "codemirror_mode": {
    "name": "ipython",
    "version": 3
   },
   "file_extension": ".py",
   "mimetype": "text/x-python",
   "name": "python",
   "nbconvert_exporter": "python",
   "pygments_lexer": "ipython3",
   "version": "3.11.5"
  }
 },
 "nbformat": 4,
 "nbformat_minor": 5
}
