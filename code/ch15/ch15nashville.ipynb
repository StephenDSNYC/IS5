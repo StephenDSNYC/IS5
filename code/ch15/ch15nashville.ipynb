{
 "cells": [
  {
   "cell_type": "code",
   "execution_count": 1,
   "id": "0253b265-7035-461f-8144-d4c6ca398ddc",
   "metadata": {},
   "outputs": [],
   "source": [
    "import pandas as pd\n",
    "from math import sqrt\n",
    "from scipy.stats import norm, t\n",
    "from matplotlib import pyplot as plt"
   ]
  },
  {
   "cell_type": "code",
   "execution_count": 2,
   "id": "4819c987-e041-4c99-b2ea-069462216a81",
   "metadata": {},
   "outputs": [],
   "source": [
    "datafile = \"../../dataset/ch15/nashville.txt\"\n",
    "data = pd.read_csv(datafile, sep='\\t')"
   ]
  },
  {
   "cell_type": "code",
   "execution_count": 3,
   "id": "7fc7f6a5-9820-4977-b33a-231f8e0cfe5e",
   "metadata": {},
   "outputs": [
    {
     "data": {
      "text/html": [
       "<div>\n",
       "<style scoped>\n",
       "    .dataframe tbody tr th:only-of-type {\n",
       "        vertical-align: middle;\n",
       "    }\n",
       "\n",
       "    .dataframe tbody tr th {\n",
       "        vertical-align: top;\n",
       "    }\n",
       "\n",
       "    .dataframe thead th {\n",
       "        text-align: right;\n",
       "    }\n",
       "</style>\n",
       "<table border=\"1\" class=\"dataframe\">\n",
       "  <thead>\n",
       "    <tr style=\"text-align: right;\">\n",
       "      <th></th>\n",
       "      <th>Gestation Time</th>\n",
       "    </tr>\n",
       "  </thead>\n",
       "  <tbody>\n",
       "    <tr>\n",
       "      <th>0</th>\n",
       "      <td>251</td>\n",
       "    </tr>\n",
       "    <tr>\n",
       "      <th>1</th>\n",
       "      <td>263</td>\n",
       "    </tr>\n",
       "    <tr>\n",
       "      <th>2</th>\n",
       "      <td>265</td>\n",
       "    </tr>\n",
       "    <tr>\n",
       "      <th>3</th>\n",
       "      <td>240</td>\n",
       "    </tr>\n",
       "    <tr>\n",
       "      <th>4</th>\n",
       "      <td>268</td>\n",
       "    </tr>\n",
       "  </tbody>\n",
       "</table>\n",
       "</div>"
      ],
      "text/plain": [
       "   Gestation Time\n",
       "0             251\n",
       "1             263\n",
       "2             265\n",
       "3             240\n",
       "4             268"
      ]
     },
     "execution_count": 3,
     "metadata": {},
     "output_type": "execute_result"
    }
   ],
   "source": [
    "data.head()"
   ]
  },
  {
   "cell_type": "code",
   "execution_count": 4,
   "id": "f4c179d9-bd79-4164-aaf5-f2deabbd220b",
   "metadata": {},
   "outputs": [
    {
     "name": "stdout",
     "output_type": "stream",
     "text": [
      "<class 'pandas.core.frame.DataFrame'>\n",
      "RangeIndex: 70 entries, 0 to 69\n",
      "Data columns (total 1 columns):\n",
      " #   Column          Non-Null Count  Dtype\n",
      "---  ------          --------------  -----\n",
      " 0   Gestation Time  70 non-null     int64\n",
      "dtypes: int64(1)\n",
      "memory usage: 692.0 bytes\n"
     ]
    }
   ],
   "source": [
    "data.info()"
   ]
  },
  {
   "cell_type": "code",
   "execution_count": 5,
   "id": "cde3cd56-d79b-4cf0-bcd1-5f8ff9b3ce59",
   "metadata": {},
   "outputs": [],
   "source": [
    "gestation = data['Gestation Time']"
   ]
  },
  {
   "cell_type": "code",
   "execution_count": 6,
   "id": "e2a75a7e-cab8-4b09-869b-1c6d5b57acf9",
   "metadata": {},
   "outputs": [
    {
     "data": {
      "image/png": "[encoded data removed]",
      "text/plain": [
       "<Figure size 640x480 with 1 Axes>"
      ]
     },
     "metadata": {},
     "output_type": "display_data"
    }
   ],
   "source": [
    "gestation.hist(grid=False);"
   ]
  },
  {
   "cell_type": "markdown",
   "id": "49089a0e-826a-44ae-8497-ccbfb7e388ce",
   "metadata": {},
   "source": [
    "Histogram suggests that the sample was likely drawn from a unimodal symmetric distribution.  By CLT, we may assume normal population.  As we do not know $\\sigma$ and must estimate it, we resort to t-statistics."
   ]
  },
  {
   "cell_type": "code",
   "execution_count": 7,
   "id": "bd71fbce-1d6a-4f5f-963a-631b34d307d8",
   "metadata": {},
   "outputs": [],
   "source": [
    "mu = 266  # H0"
   ]
  },
  {
   "cell_type": "code",
   "execution_count": 8,
   "id": "3a0029d0-b982-4eb0-b676-94c4e09be08f",
   "metadata": {},
   "outputs": [
    {
     "data": {
      "text/plain": [
       "260.3142857142857"
      ]
     },
     "execution_count": 8,
     "metadata": {},
     "output_type": "execute_result"
    }
   ],
   "source": [
    "ybar = gestation.mean()\n",
    "ybar"
   ]
  },
  {
   "cell_type": "code",
   "execution_count": 9,
   "id": "34c4b568-2885-4e82-a80a-38f5b9e38ce7",
   "metadata": {},
   "outputs": [
    {
     "data": {
      "text/plain": [
       "15.257730620419936"
      ]
     },
     "execution_count": 9,
     "metadata": {},
     "output_type": "execute_result"
    }
   ],
   "source": [
    "sy = gestation.std(ddof=1)\n",
    "sy"
   ]
  },
  {
   "cell_type": "code",
   "execution_count": 10,
   "id": "96a1e94d-b8ee-4ecc-a2bf-d77f22113595",
   "metadata": {},
   "outputs": [
    {
     "data": {
      "text/plain": [
       "1.8236476151043315"
      ]
     },
     "execution_count": 10,
     "metadata": {},
     "output_type": "execute_result"
    }
   ],
   "source": [
    "SE = sy/sqrt(gestation.size)\n",
    "SE"
   ]
  },
  {
   "cell_type": "markdown",
   "id": "2763060f-eaa8-4cdc-bade-359e78a71a47",
   "metadata": {},
   "source": [
    "The null hypothesis assumes mean $266$, and we can further assume the standard deviation is around $1.82$."
   ]
  },
  {
   "cell_type": "code",
   "execution_count": 11,
   "id": "a5d71720-2016-44fd-bad4-a1ebf527946f",
   "metadata": {},
   "outputs": [
    {
     "data": {
      "text/plain": [
       "-3.117770252664208"
      ]
     },
     "execution_count": 11,
     "metadata": {},
     "output_type": "execute_result"
    }
   ],
   "source": [
    "tstat = (ybar - mu) / SE\n",
    "tstat"
   ]
  },
  {
   "cell_type": "code",
   "execution_count": 12,
   "id": "697240c8-e11e-4c8f-9a36-7ad0093aa358",
   "metadata": {},
   "outputs": [
    {
     "data": {
      "text/plain": [
       "0.002657214072817423"
      ]
     },
     "execution_count": 12,
     "metadata": {},
     "output_type": "execute_result"
    }
   ],
   "source": [
    "pval = t.cdf(tstat, gestation.size-1) * 2\n",
    "pval"
   ]
  },
  {
   "cell_type": "code",
   "execution_count": 14,
   "id": "7452737c-2f5c-4230-8f32-19bc29ecd9fb",
   "metadata": {},
   "outputs": [
    {
     "name": "stdout",
     "output_type": "stream",
     "text": [
      "One-sample, two-sided t-test. p-value: 0.002657\n"
     ]
    }
   ],
   "source": [
    "print(f\"One-sample, two-sided t-test. p-value: {pval:.6f}\")"
   ]
  },
  {
   "cell_type": "code",
   "execution_count": 15,
   "id": "916d10f8-c84f-48ad-a3f4-e60223d758e4",
   "metadata": {},
   "outputs": [],
   "source": [
    "tstar = t.ppf(0.975, gestation.size-1)"
   ]
  },
  {
   "cell_type": "code",
   "execution_count": 18,
   "id": "9aec5228-4928-414b-9a78-872bc50242d2",
   "metadata": {},
   "outputs": [
    {
     "data": {
      "text/plain": [
       "(256.6762082666272, 263.95236316194416)"
      ]
     },
     "execution_count": 18,
     "metadata": {},
     "output_type": "execute_result"
    }
   ],
   "source": [
    "(ybar-SE*tstar, ybar +SE*tstar)"
   ]
  },
  {
   "cell_type": "code",
   "execution_count": null,
   "id": "741c5d1a-d678-47da-978c-486a93923057",
   "metadata": {},
   "outputs": [],
   "source": []
  }
 ],
 "metadata": {
  "kernelspec": {
   "display_name": "Python 3 (ipykernel)",
   "language": "python",
   "name": "python3"
  },
  "language_info": {
   "codemirror_mode": {
    "name": "ipython",
    "version": 3
   },
   "file_extension": ".py",
   "mimetype": "text/x-python",
   "name": "python",
   "nbconvert_exporter": "python",
   "pygments_lexer": "ipython3",
   "version": "3.11.5"
  }
 },
 "nbformat": 4,
 "nbformat_minor": 5
}
